{
 "cells": [
  {
   "cell_type": "markdown",
   "metadata": {},
   "source": [
    "a testing ground for D4M stuff ; I'm using this to test commands I don't understand super super well\n",
    "\n",
    "also works as some janky demo, i guess"
   ]
  },
  {
   "cell_type": "code",
   "execution_count": 1,
   "metadata": {},
   "outputs": [
    {
     "name": "stderr",
     "output_type": "stream",
     "text": [
      "┌ Info: Recompiling stale cache file /home/nathan/.julia/compiled/v1.0/D4M/JhFK0.ji for D4M [ca196bdc-a701-11e8-3d50-3b5cc8577617]\n",
      "└ @ Base loading.jl:1190\n"
     ]
    },
    {
     "name": "stdout",
     "output_type": "stream",
     "text": [
      "Database capabilities loaded!\n",
      "D4M loaded!\n"
     ]
    }
   ],
   "source": [
    "using D4M"
   ]
  },
  {
   "cell_type": "code",
   "execution_count": 2,
   "metadata": {},
   "outputs": [
    {
     "name": "stdout",
     "output_type": "stream",
     "text": [
      "version 0.1.6\n"
     ]
    }
   ],
   "source": [
    "D4Mver()"
   ]
  },
  {
   "cell_type": "code",
   "execution_count": 25,
   "metadata": {},
   "outputs": [
    {
     "data": {
      "text/plain": [
       "Assoc(Union{AbstractString, Number}[\"a\", \"ab\", \"b\"], Union{AbstractString, Number}[\"a\", \"b\", \"c\", \"d\"], Union{AbstractString, Number}[1.0], \n",
       "  [1, 1]  =  2\n",
       "  [3, 2]  =  3\n",
       "  [1, 3]  =  4\n",
       "  [2, 4]  =  5)"
      ]
     },
     "execution_count": 25,
     "metadata": {},
     "output_type": "execute_result"
    }
   ],
   "source": [
    "r = [1,2,3]\n",
    "c = [1,2,1]\n",
    "v=[11,22,33]\n",
    "A = Assoc(r,c,v)\n",
    "\n",
    "r = \"a,b,a,ab,\"\n",
    "c = \"a,b,c,d,\"\n",
    "v=\"a-a,b-b,a-c,ab-d,\"\n",
    "As = Assoc(r,c,v)\n",
    "\n",
    "r = \"a,b,a,ab,\"\n",
    "c = \"a,b,c,d,\"\n",
    "v=[2,3,4,5]\n",
    "As2 = Assoc(r,c,v)"
   ]
  },
  {
   "cell_type": "code",
   "execution_count": 1,
   "metadata": {},
   "outputs": [
    {
     "data": {
      "text/plain": [
       "StrUnique (generic function with 2 methods)"
      ]
     },
     "execution_count": 1,
     "metadata": {},
     "output_type": "execute_result"
    }
   ],
   "source": [
    "function StrUnique(inputString::AbstractString, csv= false)\n",
    "    #TODO backwardMapping from unique string to index is not implemented, because there doesn't seem to be a application for such an array\n",
    "    #Note: The unique output is sorted.\n",
    "    separator = inputString[end]\n",
    "    if(csv == true)\n",
    "        separator = ','\n",
    "    end\n",
    "    strA = split(inputString,separator)\n",
    "    if inputString[end] == separator\n",
    "        strA = strA[1:end-1]\n",
    "    end\n",
    "\n",
    "    uniqueSeq = unique(strA)\n",
    "    sort!(uniqueSeq)\n",
    "    if uniqueSeq[1] == \"\" #Handle Empty Case\n",
    "        uniqueSeq = uniqueSeq[2:end]\n",
    "    end\n",
    "\n",
    "    forwardMapping =[ searchsortedfirst(uniqueSeq,x) for x in strA]\n",
    "\n",
    "    backwardMapping = zeros(1,length(forwardMapping))\n",
    "\n",
    "    return uniqueSeq,backwardMapping,forwardMapping\n",
    "end\n"
   ]
  },
  {
   "cell_type": "code",
   "execution_count": 12,
   "metadata": {},
   "outputs": [
    {
     "data": {
      "text/plain": [
       "(SubString{String}[\"a\", \"b\", \"c\", \"d\", \"e\"], [0.0 0.0 … 0.0 0.0], [1, 3, 5, 2, 4])"
      ]
     },
     "execution_count": 12,
     "metadata": {},
     "output_type": "execute_result"
    }
   ],
   "source": [
    "StrUnique(\"a,c,e,b,d,\")"
   ]
  },
  {
   "cell_type": "code",
   "execution_count": 11,
   "metadata": {},
   "outputs": [
    {
     "data": {
      "text/plain": [
       "10-element Array{Int64,1}:\n",
       " 2\n",
       " 1\n",
       " 4\n",
       " 1\n",
       " 6\n",
       " 1\n",
       " 3\n",
       " 1\n",
       " 5\n",
       " 1"
      ]
     },
     "execution_count": 11,
     "metadata": {},
     "output_type": "execute_result"
    }
   ],
   "source": [
    "i = \"a,c,e,b,d,\"\n",
    "\n",
    "row = unique(i)\n",
    "sort!(row)\n",
    "\n",
    "# Find index of row keys from triples in row (int indices for sparse matrix)\n",
    "i = convert(AbstractArray{Int64},[searchsortedfirst(row,x) for x in i])"
   ]
  },
  {
   "cell_type": "code",
   "execution_count": 10,
   "metadata": {},
   "outputs": [
    {
     "data": {
      "text/plain": [
       "4-element Array{Int64,1}:\n",
       " 1\n",
       " 2\n",
       " 3\n",
       " 5"
      ]
     },
     "execution_count": 10,
     "metadata": {},
     "output_type": "execute_result"
    }
   ],
   "source": [
    "row"
   ]
  },
  {
   "cell_type": "code",
   "execution_count": 15,
   "metadata": {},
   "outputs": [
    {
     "data": {
      "text/plain": [
       "getcol (generic function with 1 method)"
      ]
     },
     "execution_count": 15,
     "metadata": {},
     "output_type": "execute_result"
    }
   ],
   "source": [
    "function getcol(A::Assoc)\n",
    "    if isempty(A)\n",
    "        return Union{AbstractString, Number}[]\n",
    "    else\n",
    "        if isa(A.col[1], AbstractString) || ~(size(A.A,2) == A.col[end])\n",
    "            return copy(A.col)\n",
    "        end\n",
    "        return 1:size(A.A,2)\n",
    "    end\n",
    "end"
   ]
  },
  {
   "cell_type": "code",
   "execution_count": 19,
   "metadata": {},
   "outputs": [
    {
     "data": {
      "text/plain": [
       "1:2"
      ]
     },
     "execution_count": 19,
     "metadata": {},
     "output_type": "execute_result"
    }
   ],
   "source": [
    "getcol(A)"
   ]
  },
  {
   "cell_type": "code",
   "execution_count": 18,
   "metadata": {},
   "outputs": [
    {
     "data": {
      "text/plain": [
       "2-element Array{Union{AbstractString, Number},1}:\n",
       " 1\n",
       " 2"
      ]
     },
     "execution_count": 18,
     "metadata": {},
     "output_type": "execute_result"
    }
   ],
   "source": [
    "A.col"
   ]
  },
  {
   "cell_type": "code",
   "execution_count": 20,
   "metadata": {},
   "outputs": [
    {
     "ename": "MethodError",
     "evalue": "MethodError: no method matching StartsWithHelper(::UnitRange{Int64}, ::StartsWith)\nClosest candidates are:\n  StartsWithHelper(!Matched::Array{Union{AbstractString, Number},N} where N, ::StartsWith) at /home/nathan/Documents/UROP/D4M.jl/src/Assoc/getindex.jl:106",
     "output_type": "error",
     "traceback": [
      "MethodError: no method matching StartsWithHelper(::UnitRange{Int64}, ::StartsWith)\nClosest candidates are:\n  StartsWithHelper(!Matched::Array{Union{AbstractString, Number},N} where N, ::StartsWith) at /home/nathan/Documents/UROP/D4M.jl/src/Assoc/getindex.jl:106",
      "",
      "Stacktrace:",
      " [1] getindex(::Assoc, ::StartsWith, ::Colon) at /home/nathan/Documents/UROP/D4M.jl/src/Assoc/getindex.jl:124",
      " [2] top-level scope at In[20]:1"
     ]
    }
   ],
   "source": [
    "A[StartsWith(\"1,\"), :]"
   ]
  },
  {
   "cell_type": "code",
   "execution_count": 21,
   "metadata": {},
   "outputs": [
    {
     "data": {
      "text/plain": [
       "StartsWithHelper (generic function with 1 method)"
      ]
     },
     "execution_count": 21,
     "metadata": {},
     "output_type": "execute_result"
    }
   ],
   "source": [
    "function StartsWithHelper(Ar::Array{Union{AbstractString,Number}},S::StartsWith)\n",
    "    str_list = []\n",
    "    if S.inputString[end] == ','\n",
    "        str_list,tmp = StrUnique(S.inputString)\n",
    "    else\n",
    "        str_list = [S.inputString]\n",
    "    end\n",
    "    result_indice = Array{Int64,1}()\n",
    "    for str in str_list\n",
    "        str_result_first = searchsortedfirst(Ar,str)\n",
    "        str_result_last = searchsortedlast(Ar,str*string(Char(255)))\n",
    "        if str_result_first <= str_result_last\n",
    "            [push!(result_indice,x) for x in str_result_first:str_result_last]\n",
    "        end\n",
    "    end\n",
    "    return result_indice\n",
    "end"
   ]
  },
  {
   "cell_type": "code",
   "execution_count": 28,
   "metadata": {},
   "outputs": [
    {
     "data": {
      "text/plain": [
       "2-element Array{Int64,1}:\n",
       " 1\n",
       " 2"
      ]
     },
     "execution_count": 28,
     "metadata": {},
     "output_type": "execute_result"
    }
   ],
   "source": [
    "StartsWithHelper(getrow(As), StartsWith(\"a\"))"
   ]
  },
  {
   "cell_type": "code",
   "execution_count": 29,
   "metadata": {},
   "outputs": [
    {
     "data": {
      "text/plain": [
       "3-element Array{Union{AbstractString, Number},1}:\n",
       " \"a\" \n",
       " \"ab\"\n",
       " \"b\" "
      ]
     },
     "execution_count": 29,
     "metadata": {},
     "output_type": "execute_result"
    }
   ],
   "source": [
    "getrow(As)"
   ]
  },
  {
   "cell_type": "code",
   "execution_count": 11,
   "metadata": {},
   "outputs": [
    {
     "data": {
      "text/plain": [
       "3×4 Array{Union{AbstractString, Number},2}:\n",
       " \"\"   \"a\"   \"b\"   \"c\" \n",
       " \"a\"  \"a;\"  \"\"    \"a;\"\n",
       " \"b\"  \"\"    \"b;\"  \"\"  "
      ]
     },
     "metadata": {},
     "output_type": "display_data"
    }
   ],
   "source": [
    "printFull(CatKeyMul(As, As))"
   ]
  },
  {
   "cell_type": "code",
   "execution_count": 8,
   "metadata": {},
   "outputs": [
    {
     "data": {
      "text/plain": [
       "4×5 Array{Union{AbstractString, Number},2}:\n",
       " \"\"    \"a\"    \"b\"    \"c\"    \"d\"   \n",
       " \"a\"   \"a-a\"  \"\"     \"a-c\"  \"\"    \n",
       " \"ab\"  \"\"     \"\"     \"\"     \"ab-d\"\n",
       " \"b\"   \"\"     \"b-b\"  \"\"     \"\"    "
      ]
     },
     "metadata": {},
     "output_type": "display_data"
    }
   ],
   "source": [
    "printFull(As)"
   ]
  },
  {
   "cell_type": "code",
   "execution_count": 24,
   "metadata": {},
   "outputs": [
    {
     "data": {
      "text/plain": [
       "3×4 Array{Union{AbstractString, Number},2}:\n",
       " \"\"   \"a\"         \"b\"         \"c\"       \n",
       " \"a\"  \"a-a;a-a;\"  \"\"          \"a-a;a-c;\"\n",
       " \"b\"  \"\"          \"b-b;b-b;\"  \"\"        "
      ]
     },
     "metadata": {},
     "output_type": "display_data"
    },
    {
     "name": "stdout",
     "output_type": "stream",
     "text": [
      "3\n",
      "Union{AbstractString, Number}[\"a\"]\n",
      "aa-a\n",
      "Union{AbstractString, Number}[\"b\"]\n",
      "bb-b\n",
      "Union{AbstractString, Number}[\"a\"]\n",
      "aa-a\n"
     ]
    }
   ],
   "source": [
    "printFull(CatValMul(As,As))"
   ]
  },
  {
   "cell_type": "code",
   "execution_count": 26,
   "metadata": {},
   "outputs": [
    {
     "data": {
      "text/plain": [
       "3×4 Array{Union{AbstractString, Number},2}:\n",
       " \"\"    \"a\"   \"b\"   \"c\"\n",
       " \"a\"  4     0     8   \n",
       " \"b\"  0     9     0   "
      ]
     },
     "metadata": {},
     "output_type": "display_data"
    }
   ],
   "source": [
    "printFull(As2*As2)"
   ]
  },
  {
   "cell_type": "code",
   "execution_count": 13,
   "metadata": {},
   "outputs": [
    {
     "data": {
      "text/plain": [
       "Assoc(Union{AbstractString, Number}[1, 2, 3], Union{AbstractString, Number}[1, 2], Union{AbstractString, Number}[1.0], \n",
       "  [1, 1]  =  121\n",
       "  [3, 1]  =  363\n",
       "  [2, 2]  =  484)"
      ]
     },
     "execution_count": 13,
     "metadata": {},
     "output_type": "execute_result"
    }
   ],
   "source": [
    "CatValMul(A,A)"
   ]
  },
  {
   "cell_type": "code",
   "execution_count": 37,
   "metadata": {},
   "outputs": [
    {
     "data": {
      "text/plain": [
       "(SubString{String}[\"abc\", \"123\", \"qwe\"], SubString{String}[\"def\", \"456\", \"rty\"])"
      ]
     },
     "execution_count": 37,
     "metadata": {},
     "output_type": "execute_result"
    }
   ],
   "source": [
    "SplitStr([\"abc,def\", \"123,456\", \"qwe,rty\"], \",\")"
   ]
  },
  {
   "cell_type": "code",
   "execution_count": 40,
   "metadata": {},
   "outputs": [
    {
     "data": {
      "text/plain": [
       "4"
      ]
     },
     "execution_count": 40,
     "metadata": {},
     "output_type": "execute_result"
    }
   ],
   "source": [
    "NumStr(\"a,b,c,d,\")"
   ]
  },
  {
   "cell_type": "code",
   "execution_count": 43,
   "metadata": {},
   "outputs": [
    {
     "data": {
      "text/plain": [
       "2-element Array{String,1}:\n",
       " \"a,c\"\n",
       " \"b,d\""
      ]
     },
     "execution_count": 43,
     "metadata": {},
     "output_type": "execute_result"
    }
   ],
   "source": [
    "CatStr([\"a\", \"b\"], \",\", [\"c\", \"d\"])"
   ]
  },
  {
   "cell_type": "code",
   "execution_count": 48,
   "metadata": {},
   "outputs": [
    {
     "data": {
      "text/plain": [
       "4×5 Array{Union{AbstractString, Number},2}:\n",
       " \"\"     \"a,a-a\"   \"b,b-b\"   \"c,a-c\"   \"d,ab-d\"\n",
       " \"a\"   1         0         1         0        \n",
       " \"ab\"  0         0         0         1        \n",
       " \"b\"   0         1         0         0        "
      ]
     },
     "metadata": {},
     "output_type": "display_data"
    }
   ],
   "source": [
    "Asv2c = val2col(As, \",\")\n",
    "printFull(Asv2c)"
   ]
  },
  {
   "cell_type": "code",
   "execution_count": 51,
   "metadata": {},
   "outputs": [
    {
     "data": {
      "text/plain": [
       "4×5 Array{Union{AbstractString, Number},2}:\n",
       " \"\"    \"a\"    \"b\"    \"c\"    \"d\"   \n",
       " \"a\"   \"a-a\"  \"\"     \"a-c\"  \"\"    \n",
       " \"ab\"  \"\"     \"\"     \"\"     \"ab-d\"\n",
       " \"b\"   \"\"     \"b-b\"  \"\"     \"\"    "
      ]
     },
     "metadata": {},
     "output_type": "display_data"
    }
   ],
   "source": [
    "printFull(col2type(Asv2c, \",\"))"
   ]
  },
  {
   "cell_type": "code",
   "execution_count": null,
   "metadata": {},
   "outputs": [],
   "source": []
  }
 ],
 "metadata": {
  "kernelspec": {
   "display_name": "Julia 1.0.4",
   "language": "julia",
   "name": "julia-1.0"
  },
  "language_info": {
   "file_extension": ".jl",
   "mimetype": "application/julia",
   "name": "julia",
   "version": "1.0.4"
  }
 },
 "nbformat": 4,
 "nbformat_minor": 2
}
