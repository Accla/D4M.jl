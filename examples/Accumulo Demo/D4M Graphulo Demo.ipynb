{
 "cells": [
  {
   "cell_type": "markdown",
   "metadata": {},
   "source": [
    "# About"
   ]
  },
  {
   "cell_type": "markdown",
   "metadata": {},
   "source": [
    "_TODO_"
   ]
  },
  {
   "cell_type": "markdown",
   "metadata": {},
   "source": [
    "For more info on setting up Accumulo, see the \"D4M Accumulo Demo\"."
   ]
  },
  {
   "cell_type": "markdown",
   "metadata": {},
   "source": [
    "_TODO_ Don't forget to add Graphulo jars to your server-side Accumulo files! More info here: _TODO_ "
   ]
  },
  {
   "cell_type": "markdown",
   "metadata": {},
   "source": [
    "# Accumulo"
   ]
  },
  {
   "cell_type": "code",
   "execution_count": 8,
   "metadata": {
    "scrolled": true
   },
   "outputs": [
    {
     "name": "stderr",
     "output_type": "stream",
     "text": [
      "┌ Info: Precompiling D4M [ca196bdc-a701-11e8-3d50-3b5cc8577617]\n",
      "└ @ Base loading.jl:1192\n"
     ]
    },
    {
     "name": "stdout",
     "output_type": "stream",
     "text": [
      "Database capabilities loaded!\n",
      "D4M loaded!\n"
     ]
    }
   ],
   "source": [
    "using D4M"
   ]
  },
  {
   "cell_type": "code",
   "execution_count": 9,
   "metadata": {},
   "outputs": [],
   "source": [
    "dbinit()"
   ]
  },
  {
   "cell_type": "code",
   "execution_count": 27,
   "metadata": {
    "scrolled": true
   },
   "outputs": [
    {
     "name": "stdout",
     "output_type": "stream",
     "text": [
      "22 Jul 2019 22:38:56,509 WARN - ClientConfiguration.loadFromSearchPath(227) -  Found no client.conf in default paths. Using default client configuration values.\n"
     ]
    },
    {
     "data": {
      "text/plain": [
       "D4M.DBserver(\"uno\", \"localhost:2181\", \"root\", \"secret\", \"BigTableLike\", JavaCall.JavaObject{Symbol(\"edu.mit.ll.graphulo.MatlabGraphulo\")}(Ptr{Nothing} @0x000000000417b7d0))"
      ]
     },
     "execution_count": 27,
     "metadata": {},
     "output_type": "execute_result"
    }
   ],
   "source": [
    "# DB = dbsetup(\"uno\", \"AccumuloConfig.jl\")\n",
    "DB = dbsetup(\"uno\", \"localhost:2181\", \"root\", \"secret\")"
   ]
  },
  {
   "cell_type": "code",
   "execution_count": null,
   "metadata": {},
   "outputs": [],
   "source": [
    "deleteall(DB)"
   ]
  },
  {
   "cell_type": "code",
   "execution_count": 4,
   "metadata": {
    "scrolled": false
   },
   "outputs": [
    {
     "name": "stdout",
     "output_type": "stream",
     "text": [
      "Creating mytable_A in uno\n",
      "Creating mytable_AT in uno\n",
      "Creating mytable_B in uno\n"
     ]
    },
    {
     "data": {
      "text/plain": [
       "19-element Array{SubString{String},1}:\n",
       " \"accumulo.metadata\"                  \n",
       " \"accumulo.replication\"               \n",
       " \"accumulo.root\"                      \n",
       " \"my_tweets_user_share_hashtag_deg\"   \n",
       " \"mytable_A\"                          \n",
       " \"mytable_AT\"                         \n",
       " \"mytable_B\"                          \n",
       " \"t_Tedge\"                            \n",
       " \"t_TedgeDeg\"                         \n",
       " \"t_TedgeT\"                           \n",
       " \"t_hashtag_user\"                     \n",
       " \"t_user_hashtag\"                     \n",
       " \"t_user_share_hashtag\"               \n",
       " \"t_user_share_hashtag_deg\"           \n",
       " \"t_user_share_hashtag_nodiag\"        \n",
       " \"t_user_share_hashtag_nodiag_deg\"    \n",
       " \"t_user_share_hashtag_nodiag_jaccard\"\n",
       " \"t_wordword\"                         \n",
       " \"trace\"                              "
      ]
     },
     "execution_count": 4,
     "metadata": {},
     "output_type": "execute_result"
    }
   ],
   "source": [
    "A = DB[\"mytable_A\"]\n",
    "AT = DB[\"mytable_AT\"]\n",
    "B = DB[\"mytable_B\"]\n",
    "\n",
    "\n",
    "ls(DB)"
   ]
  },
  {
   "cell_type": "code",
   "execution_count": 5,
   "metadata": {},
   "outputs": [
    {
     "data": {
      "text/plain": [
       "3×3 Array{Union{AbstractString, Number},2}:\n",
       " \"\"   \"1\"  \"2\"\n",
       " \"1\"  \"1\"  \"2\"\n",
       " \"2\"  \"3\"  \"4\""
      ]
     },
     "metadata": {},
     "output_type": "display_data"
    },
    {
     "data": {
      "text/plain": [
       "3×3 Array{Union{AbstractString, Number},2}:\n",
       " \"\"   \"1\"  \"2\"\n",
       " \"1\"  \"1\"  \"3\"\n",
       " \"2\"  \"2\"  \"4\""
      ]
     },
     "metadata": {},
     "output_type": "display_data"
    },
    {
     "data": {
      "text/plain": [
       "3×3 Array{Union{AbstractString, Number},2}:\n",
       " \"\"   \"1\"  \"2\"\n",
       " \"1\"  \"5\"  \"6\"\n",
       " \"2\"  \"7\"  \"8\""
      ]
     },
     "metadata": {},
     "output_type": "display_data"
    }
   ],
   "source": [
    "#row = [\"r1\", \"r1\", \"r2\", \"r2\"]\n",
    "row = [\"1\", \"1\", \"2\", \"2\"]\n",
    "column = [\"1\",\"2\",\"1\",\"2\"]\n",
    "values = [1,2,3,4]\n",
    "\n",
    "AssocA = Assoc(row,column,values)\n",
    "put(A, AssocA, clear=true)\n",
    "printFull(A[:,:])\n",
    "\n",
    "AssocAT = transpose(AssocA)\n",
    "put(AT, AssocAT, clear=true)\n",
    "printFull(AT[:,:])\n",
    "\n",
    "row = [\"1\", \"1\", \"2\", \"2\"]\n",
    "column = [\"1\",\"2\",\"1\",\"2\"]\n",
    "values = [5,6,7,8]\n",
    "\n",
    "AssocB = Assoc(row,column,values)\n",
    "put(B, AssocB, clear=true)\n",
    "printFull(B[:,:])"
   ]
  },
  {
   "cell_type": "markdown",
   "metadata": {},
   "source": [
    "(for some reason, printFull prints the entries as strings... however, in Accumulo, they're still numbers and can be operated on, as we'll soon see)"
   ]
  },
  {
   "cell_type": "markdown",
   "metadata": {},
   "source": [
    "# Table Multiplication"
   ]
  },
  {
   "cell_type": "markdown",
   "metadata": {},
   "source": [
    "_TODO expand on this_\n",
    "To multiply A and B, we pass in <b><u>A'</b></u> and B"
   ]
  },
  {
   "cell_type": "code",
   "execution_count": 25,
   "metadata": {
    "scrolled": true
   },
   "outputs": [
    {
     "name": "stdout",
     "output_type": "stream",
     "text": [
      "28 Jun 2019 20:09:59,843 DEBUG - Graphulo.TwoTable(770) -   :%00; [1] -> 8 entries processed\n"
     ]
    },
    {
     "ename": "MethodError",
     "evalue": "MethodError: no method matching getindex(::D4M.DBtable, ::Colon)\nClosest candidates are:\n  getindex(::Union{DBtable, DBtablePair}, ::Union{Colon, AbstractString, StartsWith, Array}, !Matched::Union{Colon, AbstractString, StartsWith, Array}) at /home/nathan/Documents/UROP/D4M.jl/src/DBtable.jl:122\n  getindex(::Union{DBtable, DBtablePair}) at /home/nathan/Documents/UROP/D4M.jl/src/DBtable.jl:154\n  getindex(::Union{DBtable, DBtablePair}, !Matched::AbstractString, !Matched::AbstractString) at /home/nathan/Documents/UROP/D4M.jl/src/DBtable.jl:89",
     "output_type": "error",
     "traceback": [
      "MethodError: no method matching getindex(::D4M.DBtable, ::Colon)\nClosest candidates are:\n  getindex(::Union{DBtable, DBtablePair}, ::Union{Colon, AbstractString, StartsWith, Array}, !Matched::Union{Colon, AbstractString, StartsWith, Array}) at /home/nathan/Documents/UROP/D4M.jl/src/DBtable.jl:122\n  getindex(::Union{DBtable, DBtablePair}) at /home/nathan/Documents/UROP/D4M.jl/src/DBtable.jl:154\n  getindex(::Union{DBtable, DBtablePair}, !Matched::AbstractString, !Matched::AbstractString) at /home/nathan/Documents/UROP/D4M.jl/src/DBtable.jl:89",
      "",
      "Stacktrace:",
      " [1] printFull(::D4M.DBtable) at /home/nathan/Documents/UROP/D4M.jl/src/DBtable.jl:328",
      " [2] top-level scope at In[25]:2"
     ]
    }
   ],
   "source": [
    "P = tablemult(AT, B, \"mytable_P\", clear=true)\n",
    "printFull(P)"
   ]
  },
  {
   "cell_type": "markdown",
   "metadata": {},
   "source": [
    "Let's check this..."
   ]
  },
  {
   "cell_type": "code",
   "execution_count": 9,
   "metadata": {
    "scrolled": true
   },
   "outputs": [
    {
     "data": {
      "text/plain": [
       "3×3 Array{Union{AbstractString, Number},2}:\n",
       " \"\"     \"1\"    \"2\"\n",
       " \"1\"  19     22   \n",
       " \"2\"  43     50   "
      ]
     },
     "metadata": {},
     "output_type": "display_data"
    }
   ],
   "source": [
    "printFull(AssocA * AssocB)"
   ]
  },
  {
   "cell_type": "markdown",
   "metadata": {},
   "source": [
    "We can add filters too. They are added as extra arguments to `tablemult`, and are formatted like D4M query strings (what you might put in a normal associative array filter). For example, here are some simple row filters:"
   ]
  },
  {
   "cell_type": "code",
   "execution_count": 27,
   "metadata": {},
   "outputs": [
    {
     "data": {
      "text/plain": [
       "3×3 Array{Union{AbstractString, Number},2}:\n",
       " \"\"   \"1\"   \"2\" \n",
       " \"1\"  \"5\"   \"6\" \n",
       " \"2\"  \"15\"  \"18\""
      ]
     },
     "metadata": {},
     "output_type": "display_data"
    },
    {
     "name": "stdout",
     "output_type": "stream",
     "text": [
      "28 Jun 2019 20:10:34,833 DEBUG - Graphulo.TwoTable(770) -  1 :%00; [1] -> 4 entries processed\n"
     ]
    }
   ],
   "source": [
    "Pfilter1 = tablemult(AT, B, \"mytable_Pfilter1\", rowfilter=\"1,\", clear=true)\n",
    "printFull(Pfilter1)"
   ]
  },
  {
   "cell_type": "markdown",
   "metadata": {},
   "source": [
    "Table multiplication first applies filters to AT, transposes it, and multiplies. We can check by using native D4M:"
   ]
  },
  {
   "cell_type": "code",
   "execution_count": 11,
   "metadata": {
    "scrolled": true
   },
   "outputs": [
    {
     "data": {
      "text/plain": [
       "3×3 Array{Union{AbstractString, Number},2}:\n",
       " \"\"     \"1\"    \"2\"\n",
       " \"1\"   5      6   \n",
       " \"2\"  15     18   "
      ]
     },
     "metadata": {},
     "output_type": "display_data"
    }
   ],
   "source": [
    "printFull(transpose(AssocAT[\"1,\",:]) * AssocB[\"1,\",:])"
   ]
  },
  {
   "cell_type": "markdown",
   "metadata": {},
   "source": [
    "This is equivalent to running a column filter on the original matrix:"
   ]
  },
  {
   "cell_type": "code",
   "execution_count": 12,
   "metadata": {
    "scrolled": true
   },
   "outputs": [
    {
     "data": {
      "text/plain": [
       "3×3 Array{Union{AbstractString, Number},2}:\n",
       " \"\"     \"1\"    \"2\"\n",
       " \"1\"   5      6   \n",
       " \"2\"  15     18   "
      ]
     },
     "metadata": {},
     "output_type": "display_data"
    }
   ],
   "source": [
    "printFull(AssocA[:,1] * AssocB[1,:])"
   ]
  },
  {
   "cell_type": "markdown",
   "metadata": {},
   "source": [
    "As for column filters in `tablemult`:"
   ]
  },
  {
   "cell_type": "code",
   "execution_count": 13,
   "metadata": {},
   "outputs": [
    {
     "data": {
      "text/plain": [
       "2×3 Array{Union{AbstractString, Number},2}:\n",
       " \"\"   \"1\"   \"2\" \n",
       " \"1\"  \"19\"  \"22\""
      ]
     },
     "metadata": {},
     "output_type": "display_data"
    },
    {
     "data": {
      "text/plain": [
       "2×3 Array{Union{AbstractString, Number},2}:\n",
       " \"\"     \"1\"    \"2\"\n",
       " \"1\"  19     22   "
      ]
     },
     "metadata": {},
     "output_type": "display_data"
    },
    {
     "name": "stdout",
     "output_type": "stream",
     "text": [
      "28 Jun 2019 13:49:11,335 DEBUG - Graphulo.TwoTable(770) -   :%00; [1] -> 4 entries processed\n"
     ]
    }
   ],
   "source": [
    "Pfilter2 = tablemult(AT, B, \"mytable_Pfilter2\", colfilterAT=\"1,\", clear=true)\n",
    "printFull(Pfilter2[:,:])\n",
    "printFull(transpose(AssocAT[:,\"1,\"]) * AssocB[:,:]) # to check"
   ]
  },
  {
   "cell_type": "code",
   "execution_count": 14,
   "metadata": {},
   "outputs": [
    {
     "data": {
      "text/plain": [
       "3×2 Array{Union{AbstractString, Number},2}:\n",
       " \"\"   \"1\" \n",
       " \"1\"  \"19\"\n",
       " \"2\"  \"43\""
      ]
     },
     "metadata": {},
     "output_type": "display_data"
    },
    {
     "data": {
      "text/plain": [
       "3×2 Array{Union{AbstractString, Number},2}:\n",
       " \"\"     \"1\"\n",
       " \"1\"  19   \n",
       " \"2\"  43   "
      ]
     },
     "metadata": {},
     "output_type": "display_data"
    },
    {
     "name": "stdout",
     "output_type": "stream",
     "text": [
      "28 Jun 2019 13:49:13,167 DEBUG - Graphulo.TwoTable(770) -   :%00; [1] -> 4 entries processed\n"
     ]
    }
   ],
   "source": [
    "Pfilter3 = tablemult(AT, B, \"mytable_Pfilter3\", colfilterB=\"1,\", clear=true)\n",
    "printFull(Pfilter3[:,:])\n",
    "printFull(transpose(AssocAT[:,:]) * AssocB[:,\"1,\"]) # to check"
   ]
  },
  {
   "cell_type": "markdown",
   "metadata": {},
   "source": [
    "Now, let's try some more extensive filters, with a bigger example. First, we create an associative array, and square it:"
   ]
  },
  {
   "cell_type": "code",
   "execution_count": 15,
   "metadata": {},
   "outputs": [
    {
     "data": {
      "text/plain": [
       "7×7 Array{Union{AbstractString, Number},2}:\n",
       " \"\"      \"a\"   \"aa\"   \"aaa\"   \"b\"   \"bb\"   \"bbb\"\n",
       " \"a\"    1     1      1       1     1      1     \n",
       " \"aa\"   1     1      0       0     0      0     \n",
       " \"aaa\"  1     1      1       0     0      0     \n",
       " \"b\"    1     1      0       1     0      0     \n",
       " \"bb\"   1     1      0       0     1      0     \n",
       " \"bbb\"  1     1      0       0     0      1     "
      ]
     },
     "metadata": {},
     "output_type": "display_data"
    },
    {
     "name": "stdout",
     "output_type": "stream",
     "text": [
      "Creating mytable_D in uno\n"
     ]
    },
    {
     "data": {
      "text/plain": [
       "7×7 Array{Union{AbstractString, Number},2}:\n",
       " \"\"     \"a\"  \"aa\"  \"aaa\"  \"b\"  \"bb\"  \"bbb\"\n",
       " \"a\"    \"1\"  \"1\"   \"1\"    \"1\"  \"1\"   \"1\"  \n",
       " \"aa\"   \"1\"  \"1\"   \"\"     \"\"   \"\"    \"\"   \n",
       " \"aaa\"  \"1\"  \"1\"   \"1\"    \"\"   \"\"    \"\"   \n",
       " \"b\"    \"1\"  \"1\"   \"\"     \"1\"  \"\"    \"\"   \n",
       " \"bb\"   \"1\"  \"1\"   \"\"     \"\"   \"1\"   \"\"   \n",
       " \"bbb\"  \"1\"  \"1\"   \"\"     \"\"   \"\"    \"1\"  "
      ]
     },
     "metadata": {},
     "output_type": "display_data"
    },
    {
     "name": "stdout",
     "output_type": "stream",
     "text": [
      "Creating mytable_DT in uno\n"
     ]
    },
    {
     "data": {
      "text/plain": [
       "7×7 Array{Union{AbstractString, Number},2}:\n",
       " \"\"     \"a\"  \"aa\"  \"aaa\"  \"b\"  \"bb\"  \"bbb\"\n",
       " \"a\"    \"1\"  \"1\"   \"1\"    \"1\"  \"1\"   \"1\"  \n",
       " \"aa\"   \"1\"  \"1\"   \"1\"    \"1\"  \"1\"   \"1\"  \n",
       " \"aaa\"  \"1\"  \"\"    \"1\"    \"\"   \"\"    \"\"   \n",
       " \"b\"    \"1\"  \"\"    \"\"     \"1\"  \"\"    \"\"   \n",
       " \"bb\"   \"1\"  \"\"    \"\"     \"\"   \"1\"   \"\"   \n",
       " \"bbb\"  \"1\"  \"\"    \"\"     \"\"   \"\"    \"1\"  "
      ]
     },
     "metadata": {},
     "output_type": "display_data"
    }
   ],
   "source": [
    "row = \"a,a,a,a,a,a,a,aa,aaa,b,bb,bbb,a,aa,aaa,b,bb,bbb,aaa,b,bb,bbb,\"\n",
    "column = \"a,aa,aaa,b,bb,bbb,a,a,a,a,a,a,a,aa,aaa,b,bb,bbb,aa,aa,aa,aa,\"\n",
    "values = \"a-a,a-aa,a-aaa,a-b,a-bb,a-bbb,a-a,aa-a,aaa-a,b-a,bb-a,bbb-a,a-a,aa-aa,aaa-aaa,b-b,bb-bb,bbb-bbb,a,a,a,a,\"\n",
    "AssocD = logical(Assoc(row,column,values))\n",
    "printFull(AssocD)\n",
    "AssocDT = transpose(AssocD)\n",
    "\n",
    "D = DB[\"mytable_D\"]\n",
    "put(D, AssocD, clear=true)\n",
    "printFull(D[:,:])\n",
    "\n",
    "DT = DB[\"mytable_DT\"]\n",
    "put(DT, AssocDT, clear=true)\n",
    "printFull(DT[:,:])"
   ]
  },
  {
   "cell_type": "code",
   "execution_count": 16,
   "metadata": {
    "scrolled": true
   },
   "outputs": [
    {
     "data": {
      "text/plain": [
       "7×7 Array{Union{AbstractString, Number},2}:\n",
       " \"\"     \"a\"  \"aa\"  \"aaa\"  \"b\"  \"bb\"  \"bbb\"\n",
       " \"a\"    \"6\"  \"6\"   \"2\"    \"2\"  \"2\"   \"2\"  \n",
       " \"aa\"   \"2\"  \"2\"   \"1\"    \"1\"  \"1\"   \"1\"  \n",
       " \"aaa\"  \"3\"  \"3\"   \"2\"    \"1\"  \"1\"   \"1\"  \n",
       " \"b\"    \"3\"  \"3\"   \"1\"    \"2\"  \"1\"   \"1\"  \n",
       " \"bb\"   \"3\"  \"3\"   \"1\"    \"1\"  \"2\"   \"1\"  \n",
       " \"bbb\"  \"3\"  \"3\"   \"1\"    \"1\"  \"1\"   \"2\"  "
      ]
     },
     "metadata": {},
     "output_type": "display_data"
    },
    {
     "data": {
      "text/plain": [
       "7×7 Array{Union{AbstractString, Number},2}:\n",
       " \"\"      \"a\"   \"aa\"   \"aaa\"   \"b\"   \"bb\"   \"bbb\"\n",
       " \"a\"    6     6      2       2     2      2     \n",
       " \"aa\"   2     2      1       1     1      1     \n",
       " \"aaa\"  3     3      2       1     1      1     \n",
       " \"b\"    3     3      1       2     1      1     \n",
       " \"bb\"   3     3      1       1     2      1     \n",
       " \"bbb\"  3     3      1       1     1      2     "
      ]
     },
     "metadata": {},
     "output_type": "display_data"
    },
    {
     "name": "stdout",
     "output_type": "stream",
     "text": [
      "28 Jun 2019 13:49:24,013 DEBUG - Graphulo.TwoTable(770) -   :%00; [1] -> 72 entries processed\n"
     ]
    }
   ],
   "source": [
    "D2 = tablemult(DT, D, \"mytable_D2\", clear=true)\n",
    "printFull(D2[:,:])\n",
    "printFull(AssocD * AssocD)"
   ]
  },
  {
   "cell_type": "markdown",
   "metadata": {},
   "source": [
    "Let's try some filters:"
   ]
  },
  {
   "cell_type": "markdown",
   "metadata": {},
   "source": [
    "Multiplying only a few rows and columns:"
   ]
  },
  {
   "cell_type": "code",
   "execution_count": 17,
   "metadata": {},
   "outputs": [
    {
     "data": {
      "text/plain": [
       "3×7 Array{Union{AbstractString, Number},2}:\n",
       " \"\"    \"a\"  \"aa\"  \"aaa\"  \"b\"  \"bb\"  \"bbb\"\n",
       " \"a\"   \"2\"  \"2\"   \"1\"    \"2\"  \"1\"   \"1\"  \n",
       " \"bb\"  \"1\"  \"1\"   \"1\"    \"1\"  \"1\"   \"1\"  "
      ]
     },
     "metadata": {},
     "output_type": "display_data"
    },
    {
     "name": "stdout",
     "output_type": "stream",
     "text": [
      "28 Jun 2019 13:49:25,609 DEBUG - Graphulo.TwoTable(770) -  b :%00; [2] -> 15 entries processed\n"
     ]
    },
    {
     "data": {
      "text/plain": [
       "3×7 Array{Union{AbstractString, Number},2}:\n",
       " \"\"     \"a\"   \"aa\"   \"aaa\"   \"b\"   \"bb\"   \"bbb\"\n",
       " \"a\"   2     2      1       2     1      1     \n",
       " \"bb\"  1     1      1       1     1      1     "
      ]
     },
     "metadata": {},
     "output_type": "display_data"
    }
   ],
   "source": [
    "D2f1 = tablemult(DT, D, \"mytable_D2f1\", rowfilter = \"a,b,\", colfilterAT = \"a,bb,\", clear=true)\n",
    "printFull(D2f1[:,:])\n",
    "printFull(transpose(AssocDT[\"a,b,\",\"a,bb,\"]) * AssocD[\"a,b,\",:])"
   ]
  },
  {
   "cell_type": "markdown",
   "metadata": {},
   "source": [
    "Multiplying ranges of rows and columns:"
   ]
  },
  {
   "cell_type": "code",
   "execution_count": 18,
   "metadata": {},
   "outputs": [
    {
     "data": {
      "text/plain": [
       "7×4 Array{Union{AbstractString, Number},2}:\n",
       " \"\"     \"a\"  \"aa\"  \"aaa\"\n",
       " \"a\"    \"4\"  \"4\"   \"2\"  \n",
       " \"aa\"   \"2\"  \"2\"   \"1\"  \n",
       " \"aaa\"  \"3\"  \"3\"   \"2\"  \n",
       " \"b\"    \"3\"  \"3\"   \"1\"  \n",
       " \"bb\"   \"2\"  \"2\"   \"1\"  \n",
       " \"bbb\"  \"2\"  \"2\"   \"1\"  "
      ]
     },
     "metadata": {},
     "output_type": "display_data"
    },
    {
     "data": {
      "text/plain": [
       "7×4 Array{Union{AbstractString, Number},2}:\n",
       " \"\"      \"a\"   \"aa\"   \"aaa\"\n",
       " \"a\"    4     4      2     \n",
       " \"aa\"   2     2      1     \n",
       " \"aaa\"  3     3      2     \n",
       " \"b\"    3     3      1     \n",
       " \"bb\"   2     2      1     \n",
       " \"bbb\"  2     2      1     "
      ]
     },
     "metadata": {},
     "output_type": "display_data"
    },
    {
     "name": "stdout",
     "output_type": "stream",
     "text": [
      "28 Jun 2019 13:49:27,390 DEBUG - Graphulo.TwoTable(770) -  a :%00; [1] -> 40 entries processed\n"
     ]
    }
   ],
   "source": [
    "D2f2 = tablemult(DT, D, \"mytable_D2f2\", rowfilter = \"a,:,b,\", colfilterB = \"a,:,aaa,\", clear=true)\n",
    "printFull(D2f2[:,:])\n",
    "printFull(transpose(AssocDT[\"a,:,b,\",:]) * AssocD[\"a,:,b,\",\"a,:,aaa,\"])"
   ]
  },
  {
   "cell_type": "markdown",
   "metadata": {},
   "source": [
    "Multiplying rows and columns that start with certain strings:"
   ]
  },
  {
   "cell_type": "code",
   "execution_count": 20,
   "metadata": {},
   "outputs": [
    {
     "data": {
      "text/plain": [
       "3×7 Array{Union{AbstractString, Number},2}:\n",
       " \"\"     \"a\"  \"aa\"  \"aaa\"  \"b\"  \"bb\"  \"bbb\"\n",
       " \"aa\"   \"2\"  \"2\"   \"1\"    \"1\"  \"1\"   \"1\"  \n",
       " \"aaa\"  \"3\"  \"3\"   \"2\"    \"1\"  \"1\"   \"1\"  "
      ]
     },
     "metadata": {},
     "output_type": "display_data"
    },
    {
     "data": {
      "text/plain": [
       "3×7 Array{Union{AbstractString, Number},2}:\n",
       " \"\"      \"a\"   \"aa\"   \"aaa\"   \"b\"   \"bb\"   \"bbb\"\n",
       " \"aa\"   2     2      1       1     1      1     \n",
       " \"aaa\"  3     3      2       1     1      1     "
      ]
     },
     "metadata": {},
     "output_type": "display_data"
    },
    {
     "name": "stdout",
     "output_type": "stream",
     "text": [
      "28 Jun 2019 13:49:43,318 DEBUG - Graphulo.TwoTable(770) -   :%00; [1] -> 19 entries processed\n"
     ]
    }
   ],
   "source": [
    "D2f3 = tablemult(DT, D, \"mytable_D2f3\", colfilterAT = StartsWith(\"aa\"), clear=true)\n",
    "printFull(D2f3[:,:])\n",
    "printFull(transpose(AssocDT[:,StartsWith(\"aa\")]) * AssocD[:,:])"
   ]
  },
  {
   "cell_type": "markdown",
   "metadata": {},
   "source": [
    "We can try some other forms of queries too:"
   ]
  },
  {
   "cell_type": "code",
   "execution_count": 1,
   "metadata": {},
   "outputs": [
    {
     "data": {
      "text/plain": [
       "Array{T,N} where N where T<:Union{AbstractString, Number}"
      ]
     },
     "execution_count": 1,
     "metadata": {},
     "output_type": "execute_result"
    }
   ],
   "source": [
    "StringArray = Array{T} where T <: AbstractString\n",
    "NumericArray = Array{T} where T <: Number\n",
    "UnionArray = Array{T} where T <: Union{AbstractString,Number}"
   ]
  },
  {
   "cell_type": "code",
   "execution_count": 22,
   "metadata": {},
   "outputs": [
    {
     "data": {
      "text/plain": [
       "true"
      ]
     },
     "execution_count": 22,
     "metadata": {},
     "output_type": "execute_result"
    }
   ],
   "source": [
    "isa([1,2], NumericArray)"
   ]
  },
  {
   "cell_type": "code",
   "execution_count": 23,
   "metadata": {},
   "outputs": [
    {
     "data": {
      "text/plain": [
       "7×7 Array{Union{AbstractString, Number},2}:\n",
       " \"\"      \"a\"   \"aa\"   \"aaa\"   \"b\"   \"bb\"   \"bbb\"\n",
       " \"a\"    1     1      1       1     1      1     \n",
       " \"aa\"   1     1      0       0     0      0     \n",
       " \"aaa\"  1     1      1       0     0      0     \n",
       " \"b\"    1     1      0       1     0      0     \n",
       " \"bb\"   1     1      0       0     1      0     \n",
       " \"bbb\"  1     1      0       0     0      1     "
      ]
     },
     "metadata": {},
     "output_type": "display_data"
    },
    {
     "data": {
      "text/plain": [
       "3×4 Array{Union{AbstractString, Number},2}:\n",
       " \"\"      \"a\"   \"aa\"   \"aaa\"\n",
       " \"aa\"   1     1      0     \n",
       " \"aaa\"  1     1      1     "
      ]
     },
     "metadata": {},
     "output_type": "display_data"
    }
   ],
   "source": [
    "row = \"a,a,a,a,a,a,a,aa,aaa,b,bb,bbb,a,aa,aaa,b,bb,bbb,aaa,b,bb,bbb,\"\n",
    "column = \"a,aa,aaa,b,bb,bbb,a,a,a,a,a,a,a,aa,aaa,b,bb,bbb,aa,aa,aa,aa,\"\n",
    "values = \"a-a,a-aa,a-aaa,a-b,a-bb,a-bbb,a-a,aa-a,aaa-a,b-a,bb-a,bbb-a,a-a,aa-aa,aaa-aaa,b-b,bb-bb,bbb-bbb,a,a,a,a,\"\n",
    "AssocD = logical(Assoc(row,column,values))\n",
    "printFull(AssocD)\n",
    "printFull(AssocD[StartsWith(\"aa\"), :])"
   ]
  },
  {
   "cell_type": "markdown",
   "metadata": {},
   "source": [
    "# Degree Tables"
   ]
  },
  {
   "cell_type": "code",
   "execution_count": null,
   "metadata": {},
   "outputs": [],
   "source": []
  },
  {
   "cell_type": "code",
   "execution_count": null,
   "metadata": {},
   "outputs": [],
   "source": []
  },
  {
   "cell_type": "code",
   "execution_count": null,
   "metadata": {},
   "outputs": [],
   "source": []
  },
  {
   "cell_type": "code",
   "execution_count": null,
   "metadata": {},
   "outputs": [],
   "source": []
  },
  {
   "cell_type": "markdown",
   "metadata": {},
   "source": [
    "# Breadth-First Search"
   ]
  },
  {
   "cell_type": "markdown",
   "metadata": {},
   "source": [
    "_TODO explain_"
   ]
  },
  {
   "cell_type": "code",
   "execution_count": 11,
   "metadata": {},
   "outputs": [
    {
     "data": {
      "text/plain": [
       "20×21 Array{Union{AbstractString, Number},2}:\n",
       " \"\"     \"V01\"   \"V02\"   \"V03\"   \"V04\"  …   \"V17\"   \"V18\"   \"V19\"   \"V20\"\n",
       " \"B1\"  1       1       1       0          0       0       0       0     \n",
       " \"B2\"  0       0       0       1          0       0       0       0     \n",
       " \"G1\"  1       1       1       0          0       0       0       0     \n",
       " \"G2\"  0       0       0       1          0       0       0       0     \n",
       " \"O1\"  1       1       1       0       …  0       0       0       0     \n",
       " \"O2\"  1       1       1       0          0       0       0       0     \n",
       " \"O3\"  0       0       0       1          0       0       0       0     \n",
       " \"O4\"  0       0       0       1          0       0       0       0     \n",
       " \"O5\"  0       1       0       0          0       0       0       1     \n",
       " \"P1\"  1       1       1       0       …  0       0       0       0     \n",
       " \"P2\"  0       0       0       1          0       0       0       0     \n",
       " \"P3\"  0       0       0       0          0       0       0       0     \n",
       " \"P4\"  0       1       0       0          0       0       0       0     \n",
       " \"P5\"  0       1       0       0          0       0       0       0     \n",
       " \"P6\"  0       0       0       0       …  1       0       0       0     \n",
       " \"P7\"  0       0       0       0          0       1       0       0     \n",
       " \"P8\"  0       0       0       0          0       0       1       0     \n",
       " \"S1\"  1       1       1       0          0       0       0       0     \n",
       " \"S2\"  0       0       0       1          0       0       0       0     "
      ]
     },
     "metadata": {},
     "output_type": "display_data"
    }
   ],
   "source": [
    "E = ReadCSV(\"Edge.csv\")\n",
    "Ev = logical( E[:, StartsWith(\"V,\")] )\n",
    "printFull(Ev)"
   ]
  },
  {
   "cell_type": "code",
   "execution_count": 12,
   "metadata": {},
   "outputs": [],
   "source": [
    "edgematrix = DB[\"edgematrix\"]\n",
    "put(edgematrix, Ev, clear=true)"
   ]
  },
  {
   "cell_type": "code",
   "execution_count": 6,
   "metadata": {},
   "outputs": [
    {
     "data": {
      "text/plain": [
       "21×21 Array{Union{AbstractString, Number},2}:\n",
       " \"\"      \"V01\"   \"V02\"   \"V03\"   \"V04\"  …   \"V17\"   \"V18\"   \"V19\"   \"V20\"\n",
       " \"V01\"  6       6       6       0          0       0       0       0     \n",
       " \"V02\"  6       9       6       0          0       0       0       1     \n",
       " \"V03\"  6       6       6       0          0       0       0       0     \n",
       " \"V04\"  0       0       0       6          0       0       0       0     \n",
       " \"V05\"  0       0       0       6       …  0       1       0       0     \n",
       " \"V06\"  0       1       0       6          0       0       0       1     \n",
       " \"V07\"  0       0       0       6          0       0       1       0     \n",
       " \"V08\"  0       0       0       6          0       0       0       0     \n",
       " \"V09\"  0       1       0       0          0       0       0       1     \n",
       " \"V10\"  0       1       0       0       …  0       0       0       0     \n",
       " \"V11\"  0       1       0       0          0       0       0       1     \n",
       " \"V12\"  0       1       0       0          0       0       0       0     \n",
       " \"V13\"  0       1       0       0          0       0       0       0     \n",
       " \"V14\"  0       0       0       0          0       0       0       0     \n",
       " \"V15\"  0       0       0       0       …  1       1       0       0     \n",
       " \"V16\"  0       1       0       0          1       0       1       1     \n",
       " \"V17\"  0       0       0       0          1       0       0       0     \n",
       " \"V18\"  0       0       0       0          0       1       0       0     \n",
       " \"V19\"  0       0       0       0          0       0       1       0     \n",
       " \"V20\"  0       1       0       0       …  0       0       0       1     "
      ]
     },
     "metadata": {},
     "output_type": "display_data"
    }
   ],
   "source": [
    "Av = sqIn(Ev)\n",
    "printFull(Av)"
   ]
  },
  {
   "cell_type": "code",
   "execution_count": 7,
   "metadata": {},
   "outputs": [],
   "source": [
    "adjmatrix = DB[\"adjmatrix\"]\n",
    "put(adjmatrix, Av, clear=true)"
   ]
  },
  {
   "cell_type": "code",
   "execution_count": 8,
   "metadata": {},
   "outputs": [
    {
     "name": "stdout",
     "output_type": "stream",
     "text": [
      "22 Jul 2019 12:24:37,502 DEBUG - Graphulo.OneTable(987) -  V20 :%00; [2] -> 6 entries processed\n",
      "22 Jul 2019 12:24:37,555 DEBUG - Graphulo.OneTable(987) -  V20 :%00; [6] -> 12 entries processed\n"
     ]
    },
    {
     "data": {
      "text/plain": [
       "\"V20,V11,V02,V16,V06,V09,\""
      ]
     },
     "execution_count": 8,
     "metadata": {},
     "output_type": "execute_result"
    }
   ],
   "source": [
    "adjbfs(adjmatrix,\"V02,V20,\",2,\"bfsresult\",\"bfsresultT\", 0, 6)"
   ]
  },
  {
   "cell_type": "code",
   "execution_count": 9,
   "metadata": {},
   "outputs": [
    {
     "data": {
      "text/plain": [
       "3×7 Array{Union{AbstractString, Number},2}:\n",
       " \"\"     \"V02\"  \"V06\"  \"V09\"  \"V11\"  \"V16\"  \"V20\"\n",
       " \"V09\"  \"2\"    \"2\"    \"2\"    \"2\"    \"2\"    \"2\"  \n",
       " \"V20\"  \"4\"    \"4\"    \"4\"    \"4\"    \"4\"    \"4\"  "
      ]
     },
     "metadata": {},
     "output_type": "display_data"
    }
   ],
   "source": [
    "bfsresult = DB[\"bfsresult\"]\n",
    "printFull(bfsresult)"
   ]
  },
  {
   "cell_type": "code",
   "execution_count": 16,
   "metadata": {},
   "outputs": [
    {
     "name": "stdout",
     "output_type": "stream",
     "text": [
      "22 Jul 2019 22:33:17,420 DEBUG - Graphulo.EdgeBFS(1445) -  fetchColumn :\t\n",
      "22 Jul 2019 22:33:17,421 DEBUG - EdgeBFSReducer.parseOptions(34) -  inColumnPrefixes: ,\n"
     ]
    },
    {
     "data": {
      "text/plain": [
       "\"V10,V20,V01,V12,V11,V03,V02,V13,V16,V06,V09,\""
      ]
     },
     "execution_count": 16,
     "metadata": {},
     "output_type": "execute_result"
    }
   ],
   "source": [
    "edgebfs(edgematrix, \"V02,\",1,\"edgebfsresult3\",\"edgebfsresultT3\", 0, 2^31-1)"
   ]
  }
 ],
 "metadata": {
  "kernelspec": {
   "display_name": "Julia 1.0.4",
   "language": "julia",
   "name": "julia-1.0"
  },
  "language_info": {
   "file_extension": ".jl",
   "mimetype": "application/julia",
   "name": "julia",
   "version": "1.0.4"
  }
 },
 "nbformat": 4,
 "nbformat_minor": 2
}
