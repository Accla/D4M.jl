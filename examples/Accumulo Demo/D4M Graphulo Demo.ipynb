{
 "cells": [
  {
   "cell_type": "markdown",
   "metadata": {},
   "source": [
    "_TODO_ Don't forget to add Graphulo jars to your server-side Accumulo files! More info here: _TODO_ "
   ]
  },
  {
   "cell_type": "code",
   "execution_count": 1,
   "metadata": {
    "scrolled": true
   },
   "outputs": [
    {
     "name": "stdout",
     "output_type": "stream",
     "text": [
      "is restarted? this ought to be cell 1"
     ]
    }
   ],
   "source": [
    "print(\"is restarted? this ought to be cell 1\")"
   ]
  },
  {
   "cell_type": "code",
   "execution_count": 2,
   "metadata": {},
   "outputs": [
    {
     "name": "stderr",
     "output_type": "stream",
     "text": [
      "┌ Info: Precompiling D4M [ca196bdc-a701-11e8-3d50-3b5cc8577617]\n",
      "└ @ Base loading.jl:1192\n"
     ]
    },
    {
     "name": "stdout",
     "output_type": "stream",
     "text": [
      "Database capabilities loaded!\n"
     ]
    }
   ],
   "source": [
    "using Revise\n",
    "using D4M"
   ]
  },
  {
   "cell_type": "code",
   "execution_count": 3,
   "metadata": {},
   "outputs": [
    {
     "name": "stdout",
     "output_type": "stream",
     "text": [
      "v test 6\n"
     ]
    }
   ],
   "source": [
    "testD4Mver()"
   ]
  },
  {
   "cell_type": "code",
   "execution_count": 4,
   "metadata": {},
   "outputs": [],
   "source": [
    "dbinit()"
   ]
  },
  {
   "cell_type": "code",
   "execution_count": 6,
   "metadata": {
    "scrolled": true
   },
   "outputs": [
    {
     "name": "stdout",
     "output_type": "stream",
     "text": [
      "26 Jun 2019 09:29:56,648 WARN - ClientConfiguration.loadFromSearchPath(227) -  Found no client.conf in default paths. Using default client configuration values.\n"
     ]
    },
    {
     "data": {
      "text/plain": [
       "D4M.DBserver(\"uno\", \"localhost:2181\", \"root\", \"secret\", \"BigTableLike\", JavaCall.JavaObject{Symbol(\"edu.mit.ll.graphulo.MatlabGraphulo\")}(Ptr{Nothing} @0x00000000051639e8))"
      ]
     },
     "execution_count": 6,
     "metadata": {},
     "output_type": "execute_result"
    }
   ],
   "source": [
    "DB = dbsetup(\"uno\", \"AccumuloConfig.jl\")"
   ]
  },
  {
   "cell_type": "code",
   "execution_count": 67,
   "metadata": {
    "scrolled": true
   },
   "outputs": [
    {
     "name": "stdout",
     "output_type": "stream",
     "text": [
      "Creating mytable_AT in uno\n"
     ]
    },
    {
     "data": {
      "text/plain": [
       "8-element Array{SubString{String},1}:\n",
       " \"accumulo.metadata\"   \n",
       " \"accumulo.replication\"\n",
       " \"accumulo.root\"       \n",
       " \"mytable_A\"           \n",
       " \"mytable_AT\"          \n",
       " \"mytable_B\"           \n",
       " \"mytable_P\"           \n",
       " \"trace\"               "
      ]
     },
     "execution_count": 67,
     "metadata": {},
     "output_type": "execute_result"
    }
   ],
   "source": [
    "A = DB[\"mytable_A\"]\n",
    "AT = DB[\"mytable_AT\"]\n",
    "B = DB[\"mytable_B\"]\n",
    "\n",
    "ls(DB)"
   ]
  },
  {
   "cell_type": "code",
   "execution_count": 81,
   "metadata": {},
   "outputs": [
    {
     "data": {
      "text/plain": [
       "3×3 Array{Union{AbstractString, Number},2}:\n",
       " \"\"   \"1\"  \"2\"\n",
       " \"1\"  \"1\"  \"3\"\n",
       " \"2\"  \"2\"  \"4\""
      ]
     },
     "metadata": {},
     "output_type": "display_data"
    },
    {
     "data": {
      "text/plain": [
       "3×3 Array{Union{AbstractString, Number},2}:\n",
       " \"\"   \"1\"  \"2\"\n",
       " \"1\"  \"5\"  \"6\"\n",
       " \"2\"  \"7\"  \"8\""
      ]
     },
     "metadata": {},
     "output_type": "display_data"
    }
   ],
   "source": [
    "row = [1,1,2,2]\n",
    "column = [1,2,1,2]\n",
    "values = [1,2,3,4]\n",
    "\n",
    "AssocA = Assoc(row,column,values)\n",
    "AssocAT = transpose(AssocA)\n",
    "put(AT, AssocAT)\n",
    "printFull(AT[:,:])\n",
    "\n",
    "row = [1,1,2,2]\n",
    "column = [1,2,1,2]\n",
    "values = [5,6,7,8]\n",
    "\n",
    "AssocB = Assoc(row,column,values)\n",
    "put(B, AssocB)\n",
    "printFull(B[:,:])"
   ]
  },
  {
   "cell_type": "markdown",
   "metadata": {},
   "source": [
    "# Table Multiplication"
   ]
  },
  {
   "cell_type": "code",
   "execution_count": 64,
   "metadata": {
    "scrolled": false
   },
   "outputs": [
    {
     "data": {
      "text/plain": [
       "3×3 Array{Union{AbstractString, Number},2}:\n",
       " \"\"   \"1\"   \"2\" \n",
       " \"1\"  \"26\"  \"38\"\n",
       " \"2\"  \"30\"  \"44\""
      ]
     },
     "metadata": {},
     "output_type": "display_data"
    },
    {
     "name": "stdout",
     "output_type": "stream",
     "text": [
      "26 Jun 2019 12:47:40,853 DEBUG - Graphulo.TwoTable(770) -   :%00; [1] -> 8 entries processed\n"
     ]
    }
   ],
   "source": [
    "delete(P)\n",
    "P = tablemult(B, A, \"mytable_P\")\n",
    "printFull(P[:,:])"
   ]
  },
  {
   "cell_type": "code",
   "execution_count": 65,
   "metadata": {},
   "outputs": [
    {
     "data": {
      "text/plain": [
       "3×3 Array{Union{AbstractString, Number},2}:\n",
       " \"\"   \"1\"   \"2\" \n",
       " \"1\"  \"26\"  \"38\"\n",
       " \"2\"  \"30\"  \"44\""
      ]
     },
     "metadata": {},
     "output_type": "display_data"
    }
   ],
   "source": [
    "printFull(P[:,:])"
   ]
  },
  {
   "cell_type": "code",
   "execution_count": 63,
   "metadata": {},
   "outputs": [
    {
     "name": "stdout",
     "output_type": "stream",
     "text": [
      "[26 30; 38 44][52 60; 76 88][78 90; 114 132][104 128; 144 176]"
     ]
    }
   ],
   "source": [
    "Am=[1 3\n",
    "2 4]\n",
    "Bm = [5 6\n",
    "7 8]\n",
    "print(Am*Bm)\n",
    "print(2*Am*Bm)\n",
    "print(3*Am*Bm)\n",
    "print(3*Am*Bm + transpose(Bm)*transpose(Am))"
   ]
  },
  {
   "cell_type": "markdown",
   "metadata": {},
   "source": [
    "We can add filters too --"
   ]
  },
  {
   "cell_type": "code",
   "execution_count": null,
   "metadata": {},
   "outputs": [],
   "source": [
    "C = tablemult(A, B, \"mytable_C\")"
   ]
  }
 ],
 "metadata": {
  "kernelspec": {
   "display_name": "Julia 1.0.4",
   "language": "julia",
   "name": "julia-1.0"
  },
  "language_info": {
   "file_extension": ".jl",
   "mimetype": "application/julia",
   "name": "julia",
   "version": "1.0.4"
  }
 },
 "nbformat": 4,
 "nbformat_minor": 2
}
