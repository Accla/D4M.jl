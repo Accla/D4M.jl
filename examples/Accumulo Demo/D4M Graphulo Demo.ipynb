{
 "cells": [
  {
   "cell_type": "markdown",
   "metadata": {},
   "source": [
    "# About"
   ]
  },
  {
   "cell_type": "markdown",
   "metadata": {},
   "source": [
    "_TODO_"
   ]
  },
  {
   "cell_type": "markdown",
   "metadata": {},
   "source": [
    "_TODO_ Don't forget to add Graphulo jars to your server-side Accumulo files! More info here: _TODO_ "
   ]
  },
  {
   "cell_type": "markdown",
   "metadata": {},
   "source": [
    "# Accumulo"
   ]
  },
  {
   "cell_type": "code",
   "execution_count": 2,
   "metadata": {},
   "outputs": [
    {
     "name": "stderr",
     "output_type": "stream",
     "text": [
      "┌ Info: Precompiling D4M [ca196bdc-a701-11e8-3d50-3b5cc8577617]\n",
      "└ @ Base loading.jl:1192\n"
     ]
    },
    {
     "name": "stdout",
     "output_type": "stream",
     "text": [
      "Database capabilities loaded!\n"
     ]
    }
   ],
   "source": [
    "using Revise\n",
    "using D4M"
   ]
  },
  {
   "cell_type": "code",
   "execution_count": 3,
   "metadata": {},
   "outputs": [
    {
     "name": "stdout",
     "output_type": "stream",
     "text": [
      "v test 6\n"
     ]
    }
   ],
   "source": [
    "testD4Mver()"
   ]
  },
  {
   "cell_type": "code",
   "execution_count": 4,
   "metadata": {},
   "outputs": [],
   "source": [
    "dbinit()"
   ]
  },
  {
   "cell_type": "code",
   "execution_count": 6,
   "metadata": {
    "scrolled": true
   },
   "outputs": [
    {
     "name": "stdout",
     "output_type": "stream",
     "text": [
      "26 Jun 2019 09:29:56,648 WARN - ClientConfiguration.loadFromSearchPath(227) -  Found no client.conf in default paths. Using default client configuration values.\n"
     ]
    },
    {
     "data": {
      "text/plain": [
       "D4M.DBserver(\"uno\", \"localhost:2181\", \"root\", \"secret\", \"BigTableLike\", JavaCall.JavaObject{Symbol(\"edu.mit.ll.graphulo.MatlabGraphulo\")}(Ptr{Nothing} @0x00000000051639e8))"
      ]
     },
     "execution_count": 6,
     "metadata": {},
     "output_type": "execute_result"
    }
   ],
   "source": [
    "DB = dbsetup(\"uno\", \"AccumuloConfig.jl\")"
   ]
  },
  {
   "cell_type": "code",
   "execution_count": 157,
   "metadata": {
    "scrolled": true
   },
   "outputs": [
    {
     "name": "stdout",
     "output_type": "stream",
     "text": [
      "Creating mytable_A in uno\n",
      "Creating mytable_AT in uno\n",
      "Creating mytable_B in uno\n"
     ]
    },
    {
     "data": {
      "text/plain": [
       "8-element Array{SubString{String},1}:\n",
       " \"accumulo.metadata\"   \n",
       " \"accumulo.replication\"\n",
       " \"accumulo.root\"       \n",
       " \"idk\"                 \n",
       " \"mytable_A\"           \n",
       " \"mytable_AT\"          \n",
       " \"mytable_B\"           \n",
       " \"trace\"               "
      ]
     },
     "execution_count": 157,
     "metadata": {},
     "output_type": "execute_result"
    }
   ],
   "source": [
    "A = DB[\"mytable_A\"]\n",
    "AT = DB[\"mytable_AT\"]\n",
    "B = DB[\"mytable_B\"]\n",
    "\n",
    "\n",
    "ls(DB)"
   ]
  },
  {
   "cell_type": "code",
   "execution_count": 284,
   "metadata": {},
   "outputs": [
    {
     "data": {
      "text/plain": [
       "3×3 Array{Union{AbstractString, Number},2}:\n",
       " \"\"   \"1\"  \"2\"\n",
       " \"1\"  \"1\"  \"2\"\n",
       " \"2\"  \"3\"  \"4\""
      ]
     },
     "metadata": {},
     "output_type": "display_data"
    },
    {
     "data": {
      "text/plain": [
       "3×3 Array{Union{AbstractString, Number},2}:\n",
       " \"\"   \"1\"  \"2\"\n",
       " \"1\"  \"1\"  \"3\"\n",
       " \"2\"  \"2\"  \"4\""
      ]
     },
     "metadata": {},
     "output_type": "display_data"
    },
    {
     "data": {
      "text/plain": [
       "3×3 Array{Union{AbstractString, Number},2}:\n",
       " \"\"   \"1\"  \"2\"\n",
       " \"1\"  \"5\"  \"6\"\n",
       " \"2\"  \"7\"  \"8\""
      ]
     },
     "metadata": {},
     "output_type": "display_data"
    }
   ],
   "source": [
    "#row = [\"r1\", \"r1\", \"r2\", \"r2\"]\n",
    "row = [\"1\", \"1\", \"2\", \"2\"]\n",
    "column = [\"1\",\"2\",\"1\",\"2\"]\n",
    "values = [1,2,3,4]\n",
    "\n",
    "delete(A)\n",
    "AssocA = Assoc(row,column,values)\n",
    "put(A, AssocA)\n",
    "printFull(A[:,:])\n",
    "delete(Pfilter2)\n",
    "delete(AT)\n",
    "AssocAT = transpose(AssocA)\n",
    "put(AT, AssocAT)\n",
    "printFull(AT[:,:])\n",
    "\n",
    "row = [\"1\", \"1\", \"2\", \"2\"]\n",
    "column = [\"1\",\"2\",\"1\",\"2\"]\n",
    "values = [5,6,7,8]\n",
    "\n",
    "delete(B)\n",
    "AssocB = Assoc(row,column,values)\n",
    "put(B, AssocB)\n",
    "printFull(B[:,:])"
   ]
  },
  {
   "cell_type": "markdown",
   "metadata": {},
   "source": [
    "(for some reason, printFull prints the entries as strings... however, in Accumulo, they're still numbers and can be operated on, as we'll soon see)"
   ]
  },
  {
   "cell_type": "markdown",
   "metadata": {},
   "source": [
    "# Table Multiplication"
   ]
  },
  {
   "cell_type": "markdown",
   "metadata": {},
   "source": [
    "_TODO expand on this_\n",
    "To multiply A and B, we pass in <b><u>A'</b></u> and B"
   ]
  },
  {
   "cell_type": "code",
   "execution_count": 286,
   "metadata": {
    "scrolled": true
   },
   "outputs": [
    {
     "data": {
      "text/plain": [
       "3×3 Array{Union{AbstractString, Number},2}:\n",
       " \"\"   \"1\"   \"2\" \n",
       " \"1\"  \"19\"  \"22\"\n",
       " \"2\"  \"43\"  \"50\""
      ]
     },
     "metadata": {},
     "output_type": "display_data"
    },
    {
     "name": "stdout",
     "output_type": "stream",
     "text": [
      "27 Jun 2019 12:23:42,642 DEBUG - Graphulo.TwoTable(770) -   :%00; [1] -> 8 entries processed\n"
     ]
    }
   ],
   "source": [
    "delete(P)\n",
    "P = tablemult(AT, B, \"mytable_P\")\n",
    "printFull(P[:,:])"
   ]
  },
  {
   "cell_type": "markdown",
   "metadata": {},
   "source": [
    "Let's check this..."
   ]
  },
  {
   "cell_type": "code",
   "execution_count": 287,
   "metadata": {
    "scrolled": true
   },
   "outputs": [
    {
     "data": {
      "text/plain": [
       "3×3 Array{Union{AbstractString, Number},2}:\n",
       " \"\"     \"1\"    \"2\"\n",
       " \"1\"  19     22   \n",
       " \"2\"  43     50   "
      ]
     },
     "metadata": {},
     "output_type": "display_data"
    }
   ],
   "source": [
    "printFull(AssocA * AssocB)"
   ]
  },
  {
   "cell_type": "markdown",
   "metadata": {},
   "source": [
    "We can add filters too. They are added as extra arguments to `tablemult`, and are formatted like D4M query strings (what you might put in a normal associative array filter). For example, here are some simple row filters:"
   ]
  },
  {
   "cell_type": "code",
   "execution_count": 289,
   "metadata": {},
   "outputs": [
    {
     "data": {
      "text/plain": [
       "3×3 Array{Union{AbstractString, Number},2}:\n",
       " \"\"   \"1\"   \"2\" \n",
       " \"1\"  \"5\"   \"6\" \n",
       " \"2\"  \"15\"  \"18\""
      ]
     },
     "metadata": {},
     "output_type": "display_data"
    },
    {
     "name": "stdout",
     "output_type": "stream",
     "text": [
      "27 Jun 2019 12:24:26,500 DEBUG - Graphulo.TwoTable(770) -  1 :%00; [1] -> 4 entries processed\n"
     ]
    }
   ],
   "source": [
    "delete(Pfilter1)\n",
    "Pfilter1 = tablemult(AT, B, \"mytable_Pfilter1\", rowfilter=\"1,\")\n",
    "printFull(Pfilter1[:,:])"
   ]
  },
  {
   "cell_type": "markdown",
   "metadata": {},
   "source": [
    "Table multiplication first applies row filters to AT, transposes it, and multiplies. We can check by using native D4M:"
   ]
  },
  {
   "cell_type": "code",
   "execution_count": 304,
   "metadata": {
    "scrolled": true
   },
   "outputs": [
    {
     "data": {
      "text/plain": [
       "3×3 Array{Union{AbstractString, Number},2}:\n",
       " \"\"     \"1\"    \"2\"\n",
       " \"1\"   5      6   \n",
       " \"2\"  15     18   "
      ]
     },
     "metadata": {},
     "output_type": "display_data"
    }
   ],
   "source": [
    "printFull(transpose(AssocAT[\"1,\",:]) * AssocB[\"1,\",:])"
   ]
  },
  {
   "cell_type": "markdown",
   "metadata": {},
   "source": [
    "This is equivalent to running a column filter on the original matrix:"
   ]
  },
  {
   "cell_type": "code",
   "execution_count": 305,
   "metadata": {
    "scrolled": true
   },
   "outputs": [
    {
     "data": {
      "text/plain": [
       "3×3 Array{Union{AbstractString, Number},2}:\n",
       " \"\"     \"1\"    \"2\"\n",
       " \"1\"   5      6   \n",
       " \"2\"  15     18   "
      ]
     },
     "metadata": {},
     "output_type": "display_data"
    }
   ],
   "source": [
    "printFull(AssocA[:,1] * AssocB[1,:])"
   ]
  },
  {
   "cell_type": "markdown",
   "metadata": {},
   "source": [
    "As for column filters in `tablemult`:"
   ]
  },
  {
   "cell_type": "code",
   "execution_count": 306,
   "metadata": {},
   "outputs": [
    {
     "data": {
      "text/plain": [
       "2×3 Array{Union{AbstractString, Number},2}:\n",
       " \"\"   \"1\"   \"2\" \n",
       " \"1\"  \"19\"  \"22\""
      ]
     },
     "metadata": {},
     "output_type": "display_data"
    },
    {
     "name": "stdout",
     "output_type": "stream",
     "text": [
      "27 Jun 2019 14:18:02,144 DEBUG - Graphulo.TwoTable(770) -   :%00; [1] -> 4 entries processed\n"
     ]
    },
    {
     "data": {
      "text/plain": [
       "2×3 Array{Union{AbstractString, Number},2}:\n",
       " \"\"     \"1\"    \"2\"\n",
       " \"1\"  19     22   "
      ]
     },
     "metadata": {},
     "output_type": "display_data"
    }
   ],
   "source": [
    "delete(Pfilter2)\n",
    "Pfilter2 = tablemult(AT, B, \"mytable_Pfilter2\", colfilterAT=\"1,\")\n",
    "printFull(Pfilter2[:,:])\n",
    "printFull(transpose(AssocAT[:,\"1,\"]) * AssocB[:,:]) # to check"
   ]
  },
  {
   "cell_type": "code",
   "execution_count": 307,
   "metadata": {},
   "outputs": [
    {
     "data": {
      "text/plain": [
       "3×2 Array{Union{AbstractString, Number},2}:\n",
       " \"\"   \"1\" \n",
       " \"1\"  \"19\"\n",
       " \"2\"  \"43\""
      ]
     },
     "metadata": {},
     "output_type": "display_data"
    },
    {
     "data": {
      "text/plain": [
       "3×2 Array{Union{AbstractString, Number},2}:\n",
       " \"\"     \"1\"\n",
       " \"1\"  19   \n",
       " \"2\"  43   "
      ]
     },
     "metadata": {},
     "output_type": "display_data"
    },
    {
     "name": "stdout",
     "output_type": "stream",
     "text": [
      "27 Jun 2019 14:19:10,868 DEBUG - Graphulo.TwoTable(770) -   :%00; [1] -> 4 entries processed\n"
     ]
    }
   ],
   "source": [
    "Pfilter3 = tablemult(AT, B, \"mytable_Pfilter3\", colfilterB=\"1,\")\n",
    "printFull(Pfilter3[:,:])\n",
    "printFull(transpose(AssocAT[:,:]) * AssocB[:,\"1,\"]) # to check"
   ]
  },
  {
   "cell_type": "markdown",
   "metadata": {},
   "source": [
    "Now, let's try some more extensive filters, with a bigger example. First, we create an associative array, and square it:"
   ]
  },
  {
   "cell_type": "code",
   "execution_count": 396,
   "metadata": {},
   "outputs": [
    {
     "data": {
      "text/plain": [
       "4-element Array{Any,1}:\n",
       " 1   \n",
       " 3   \n",
       " 4   \n",
       "  \"d\""
      ]
     },
     "execution_count": 396,
     "metadata": {},
     "output_type": "execute_result"
    }
   ],
   "source": [
    "toDBstring([1,3,4,\"d\"])\n"
   ]
  },
  {
   "cell_type": "code",
   "execution_count": 397,
   "metadata": {},
   "outputs": [
    {
     "data": {
      "text/plain": [
       "false"
      ]
     },
     "execution_count": 397,
     "metadata": {},
     "output_type": "execute_result"
    }
   ],
   "source": [
    "isa([1,3,4,\"d\"], UnionArray)"
   ]
  },
  {
   "cell_type": "code",
   "execution_count": null,
   "metadata": {},
   "outputs": [],
   "source": []
  },
  {
   "cell_type": "code",
   "execution_count": 342,
   "metadata": {},
   "outputs": [
    {
     "data": {
      "text/plain": [
       "7×7 Array{Union{AbstractString, Number},2}:\n",
       " \"\"      \"a\"   \"aa\"   \"aaa\"   \"b\"   \"bb\"   \"bbb\"\n",
       " \"a\"    1     1      1       1     1      1     \n",
       " \"aa\"   1     1      0       0     0      0     \n",
       " \"aaa\"  1     1      1       0     0      0     \n",
       " \"b\"    1     1      0       1     0      0     \n",
       " \"bb\"   1     1      0       0     1      0     \n",
       " \"bbb\"  1     1      0       0     0      1     "
      ]
     },
     "metadata": {},
     "output_type": "display_data"
    },
    {
     "name": "stdout",
     "output_type": "stream",
     "text": [
      "Creating mytable_D in uno\n"
     ]
    },
    {
     "data": {
      "text/plain": [
       "7×7 Array{Union{AbstractString, Number},2}:\n",
       " \"\"     \"a\"  \"aa\"  \"aaa\"  \"b\"  \"bb\"  \"bbb\"\n",
       " \"a\"    \"1\"  \"1\"   \"1\"    \"1\"  \"1\"   \"1\"  \n",
       " \"aa\"   \"1\"  \"1\"   \"\"     \"\"   \"\"    \"\"   \n",
       " \"aaa\"  \"1\"  \"1\"   \"1\"    \"\"   \"\"    \"\"   \n",
       " \"b\"    \"1\"  \"1\"   \"\"     \"1\"  \"\"    \"\"   \n",
       " \"bb\"   \"1\"  \"1\"   \"\"     \"\"   \"1\"   \"\"   \n",
       " \"bbb\"  \"1\"  \"1\"   \"\"     \"\"   \"\"    \"1\"  "
      ]
     },
     "metadata": {},
     "output_type": "display_data"
    },
    {
     "name": "stdout",
     "output_type": "stream",
     "text": [
      "Creating mytable_DT in uno\n"
     ]
    },
    {
     "data": {
      "text/plain": [
       "7×7 Array{Union{AbstractString, Number},2}:\n",
       " \"\"     \"a\"  \"aa\"  \"aaa\"  \"b\"  \"bb\"  \"bbb\"\n",
       " \"a\"    \"1\"  \"1\"   \"1\"    \"1\"  \"1\"   \"1\"  \n",
       " \"aa\"   \"1\"  \"1\"   \"1\"    \"1\"  \"1\"   \"1\"  \n",
       " \"aaa\"  \"1\"  \"\"    \"1\"    \"\"   \"\"    \"\"   \n",
       " \"b\"    \"1\"  \"\"    \"\"     \"1\"  \"\"    \"\"   \n",
       " \"bb\"   \"1\"  \"\"    \"\"     \"\"   \"1\"   \"\"   \n",
       " \"bbb\"  \"1\"  \"\"    \"\"     \"\"   \"\"    \"1\"  "
      ]
     },
     "metadata": {},
     "output_type": "display_data"
    }
   ],
   "source": [
    "row = \"a,a,a,a,a,a,a,aa,aaa,b,bb,bbb,a,aa,aaa,b,bb,bbb,aaa,b,bb,bbb,\"\n",
    "column = \"a,aa,aaa,b,bb,bbb,a,a,a,a,a,a,a,aa,aaa,b,bb,bbb,aa,aa,aa,aa,\"\n",
    "values = \"a-a,a-aa,a-aaa,a-b,a-bb,a-bbb,a-a,aa-a,aaa-a,b-a,bb-a,bbb-a,a-a,aa-aa,aaa-aaa,b-b,bb-bb,bbb-bbb,a,a,a,a,\"\n",
    "AssocD = logical(Assoc(row,column,values))\n",
    "printFull(AssocD)\n",
    "AssocDT = transpose(AssocD)\n",
    "\n",
    "delete(D)\n",
    "D = DB[\"mytable_D\"]\n",
    "put(D, AssocD)\n",
    "printFull(D[:,:])\n",
    "\n",
    "delete(DT)\n",
    "DT = DB[\"mytable_DT\"]\n",
    "put(DT, AssocDT)\n",
    "printFull(DT[:,:])"
   ]
  },
  {
   "cell_type": "code",
   "execution_count": 345,
   "metadata": {
    "scrolled": true
   },
   "outputs": [
    {
     "data": {
      "text/plain": [
       "7×7 Array{Union{AbstractString, Number},2}:\n",
       " \"\"     \"a\"  \"aa\"  \"aaa\"  \"b\"  \"bb\"  \"bbb\"\n",
       " \"a\"    \"6\"  \"6\"   \"2\"    \"2\"  \"2\"   \"2\"  \n",
       " \"aa\"   \"2\"  \"2\"   \"1\"    \"1\"  \"1\"   \"1\"  \n",
       " \"aaa\"  \"3\"  \"3\"   \"2\"    \"1\"  \"1\"   \"1\"  \n",
       " \"b\"    \"3\"  \"3\"   \"1\"    \"2\"  \"1\"   \"1\"  \n",
       " \"bb\"   \"3\"  \"3\"   \"1\"    \"1\"  \"2\"   \"1\"  \n",
       " \"bbb\"  \"3\"  \"3\"   \"1\"    \"1\"  \"1\"   \"2\"  "
      ]
     },
     "metadata": {},
     "output_type": "display_data"
    },
    {
     "data": {
      "text/plain": [
       "7×7 Array{Union{AbstractString, Number},2}:\n",
       " \"\"      \"a\"   \"aa\"   \"aaa\"   \"b\"   \"bb\"   \"bbb\"\n",
       " \"a\"    6     6      2       2     2      2     \n",
       " \"aa\"   2     2      1       1     1      1     \n",
       " \"aaa\"  3     3      2       1     1      1     \n",
       " \"b\"    3     3      1       2     1      1     \n",
       " \"bb\"   3     3      1       1     2      1     \n",
       " \"bbb\"  3     3      1       1     1      2     "
      ]
     },
     "metadata": {},
     "output_type": "display_data"
    },
    {
     "name": "stdout",
     "output_type": "stream",
     "text": [
      "27 Jun 2019 20:17:07,422 DEBUG - Graphulo.TwoTable(770) -   :%00; [1] -> 72 entries processed\n"
     ]
    }
   ],
   "source": [
    "delete(D2)\n",
    "D2 = tablemult(DT, D, \"mytable_D2\")\n",
    "printFull(D2[:,:])\n",
    "printFull(AssocD * AssocD)"
   ]
  },
  {
   "cell_type": "markdown",
   "metadata": {},
   "source": [
    "Let's try some filters:"
   ]
  },
  {
   "cell_type": "markdown",
   "metadata": {},
   "source": [
    "Multiplying only a few rows and columns:"
   ]
  },
  {
   "cell_type": "code",
   "execution_count": 351,
   "metadata": {},
   "outputs": [
    {
     "data": {
      "text/plain": [
       "3×7 Array{Union{AbstractString, Number},2}:\n",
       " \"\"    \"a\"  \"aa\"  \"aaa\"  \"b\"  \"bb\"  \"bbb\"\n",
       " \"a\"   \"2\"  \"2\"   \"1\"    \"2\"  \"1\"   \"1\"  \n",
       " \"bb\"  \"1\"  \"1\"   \"1\"    \"1\"  \"1\"   \"1\"  "
      ]
     },
     "metadata": {},
     "output_type": "display_data"
    },
    {
     "data": {
      "text/plain": [
       "3×7 Array{Union{AbstractString, Number},2}:\n",
       " \"\"     \"a\"   \"aa\"   \"aaa\"   \"b\"   \"bb\"   \"bbb\"\n",
       " \"a\"   2     2      1       2     1      1     \n",
       " \"bb\"  1     1      1       1     1      1     "
      ]
     },
     "metadata": {},
     "output_type": "display_data"
    },
    {
     "name": "stdout",
     "output_type": "stream",
     "text": [
      "27 Jun 2019 20:33:08,233 DEBUG - Graphulo.TwoTable(770) -  b :%00; [2] -> 15 entries processed\n"
     ]
    }
   ],
   "source": [
    "delete(D2f1)\n",
    "D2f1 = tablemult(DT, D, \"mytable_D2f1\", rowfilter = \"a,b,\", colfilterAT = \"a,bb,\")\n",
    "printFull(D2f1[:,:])\n",
    "printFull(transpose(AssocDT[\"a,b,\",\"a,bb,\"]) * AssocD[\"a,b,\",:])"
   ]
  },
  {
   "cell_type": "markdown",
   "metadata": {},
   "source": [
    "Multiplying ranges of rows and columns:"
   ]
  },
  {
   "cell_type": "code",
   "execution_count": 367,
   "metadata": {},
   "outputs": [
    {
     "data": {
      "text/plain": [
       "7×4 Array{Union{AbstractString, Number},2}:\n",
       " \"\"     \"a\"  \"aa\"  \"aaa\"\n",
       " \"a\"    \"4\"  \"4\"   \"2\"  \n",
       " \"aa\"   \"2\"  \"2\"   \"1\"  \n",
       " \"aaa\"  \"3\"  \"3\"   \"2\"  \n",
       " \"b\"    \"3\"  \"3\"   \"1\"  \n",
       " \"bb\"   \"2\"  \"2\"   \"1\"  \n",
       " \"bbb\"  \"2\"  \"2\"   \"1\"  "
      ]
     },
     "metadata": {},
     "output_type": "display_data"
    },
    {
     "data": {
      "text/plain": [
       "7×4 Array{Union{AbstractString, Number},2}:\n",
       " \"\"      \"a\"   \"aa\"   \"aaa\"\n",
       " \"a\"    4     4      2     \n",
       " \"aa\"   2     2      1     \n",
       " \"aaa\"  3     3      2     \n",
       " \"b\"    3     3      1     \n",
       " \"bb\"   2     2      1     \n",
       " \"bbb\"  2     2      1     "
      ]
     },
     "metadata": {},
     "output_type": "display_data"
    },
    {
     "name": "stdout",
     "output_type": "stream",
     "text": [
      "27 Jun 2019 20:39:09,358 DEBUG - Graphulo.TwoTable(770) -  a :%00; [1] -> 40 entries processed\n"
     ]
    }
   ],
   "source": [
    "delete(D2f2)\n",
    "D2f2 = tablemult(DT, D, \"mytable_D2f2\", rowfilter = \"a,:,b,\", colfilterB = \"a,:,aaa,\")\n",
    "printFull(D2f2[:,:])\n",
    "printFull(transpose(AssocDT[\"a,:,b,\",:]) * AssocD[\"a,:,b,\",\"a,:,aaa,\"])"
   ]
  },
  {
   "cell_type": "markdown",
   "metadata": {},
   "source": [
    "Multiplying rows and columns that start with certain strings:"
   ]
  },
  {
   "cell_type": "code",
   "execution_count": 381,
   "metadata": {},
   "outputs": [
    {
     "data": {
      "text/plain": [
       "4×7 Array{Union{AbstractString, Number},2}:\n",
       " \"\"     \"a\"  \"aa\"  \"aaa\"  \"b\"  \"bb\"  \"bbb\"\n",
       " \"aaa\"  \"3\"  \"3\"   \"2\"    \"1\"  \"1\"   \"1\"  \n",
       " \"bb\"   \"3\"  \"3\"   \"1\"    \"1\"  \"2\"   \"1\"  \n",
       " \"bbb\"  \"3\"  \"3\"   \"1\"    \"1\"  \"1\"   \"2\"  "
      ]
     },
     "metadata": {},
     "output_type": "display_data"
    },
    {
     "data": {
      "text/plain": [
       "4×7 Array{Union{AbstractString, Number},2}:\n",
       " \"\"      \"a\"   \"aa\"   \"aaa\"   \"b\"   \"bb\"   \"bbb\"\n",
       " \"aaa\"  3     3      2       1     1      1     \n",
       " \"bb\"   3     3      1       1     2      1     \n",
       " \"bbb\"  3     3      1       1     1      2     "
      ]
     },
     "metadata": {},
     "output_type": "display_data"
    },
    {
     "name": "stdout",
     "output_type": "stream",
     "text": [
      "27 Jun 2019 21:21:03,693 DEBUG - Graphulo.TwoTable(770) -   :%00; [1] -> 33 entries processed\n"
     ]
    }
   ],
   "source": [
    "delete(D2f3)\n",
    "D2f3 = tablemult(DT, D, \"mytable_D2f3\", colfilterAT = StartsWith(\"aaa,bb,\"))\n",
    "printFull(D2f3[:,:])\n",
    "printFull(transpose(AssocDT[:,StartsWith(\"aaa,bb,\")]) * AssocD[:,:])"
   ]
  },
  {
   "cell_type": "code",
   "execution_count": 384,
   "metadata": {},
   "outputs": [
    {
     "data": {
      "text/plain": [
       "true"
      ]
     },
     "execution_count": 384,
     "metadata": {},
     "output_type": "execute_result"
    }
   ],
   "source": [
    "isa([1,2], NumericArray)"
   ]
  },
  {
   "cell_type": "code",
   "execution_count": 383,
   "metadata": {},
   "outputs": [
    {
     "data": {
      "text/plain": [
       "Array{T,N} where N where T<:Union{AbstractString, Number}"
      ]
     },
     "execution_count": 383,
     "metadata": {},
     "output_type": "execute_result"
    }
   ],
   "source": [
    "    StringArray = Array{T} where T <: AbstractString\n",
    "    NumericArray = Array{T} where T <: Number\n",
    "    UnionArray = Array{T} where T <: Union{AbstractString,Number}"
   ]
  },
  {
   "cell_type": "code",
   "execution_count": null,
   "metadata": {},
   "outputs": [],
   "source": []
  }
 ],
 "metadata": {
  "kernelspec": {
   "display_name": "Julia 1.0.4",
   "language": "julia",
   "name": "julia-1.0"
  },
  "language_info": {
   "file_extension": ".jl",
   "mimetype": "application/julia",
   "name": "julia",
   "version": "1.0.4"
  }
 },
 "nbformat": 4,
 "nbformat_minor": 2
}
