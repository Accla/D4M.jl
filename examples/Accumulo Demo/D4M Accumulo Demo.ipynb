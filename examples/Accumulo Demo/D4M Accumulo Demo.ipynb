{
 "cells": [
  {
   "cell_type": "markdown",
   "metadata": {},
   "source": [
    "for running an installed Fluo Accumulo, cd to your fluo-uno directory, then ./bin/uno setup accumulo\n",
    "\n",
    "my monitor links: (might change for others; check your terminal after setting up) <br>Accumulo Monitor: http://localhost:9995/ <br> Hadoop NameNode: http://localhost:8088/ <br> Hadoop ResourceManager: http://localhost:50070/\n",
    "\n",
    "(from instructions here: https://github.com/apache/fluo-uno)"
   ]
  },
  {
   "cell_type": "code",
   "execution_count": 1,
   "metadata": {
    "scrolled": false
   },
   "outputs": [
    {
     "name": "stderr",
     "output_type": "stream",
     "text": [
      "┌ Info: Recompiling stale cache file /home/nathan/.julia/compiled/v1.0/D4M/JhFK0.ji for D4M [ca196bdc-a701-11e8-3d50-3b5cc8577617]\n",
      "└ @ Base loading.jl:1190\n"
     ]
    },
    {
     "name": "stdout",
     "output_type": "stream",
     "text": [
      "Database capabilities loaded!\n"
     ]
    }
   ],
   "source": [
    "using Revise\n",
    "using D4M"
   ]
  },
  {
   "cell_type": "code",
   "execution_count": 9,
   "metadata": {
    "scrolled": true
   },
   "outputs": [],
   "source": [
    "dbinit()"
   ]
  },
  {
   "cell_type": "markdown",
   "metadata": {},
   "source": [
    "be sure to config your settings properly! _TODO dump the config file here; note on how to find your config settings -- you need to go into Accumulo_\n",
    "\n",
    "_TODO also, extra newlines don't work, fix_\n",
    "\n",
    "_TODO enter config manually and not from a file_"
   ]
  },
  {
   "cell_type": "code",
   "execution_count": 14,
   "metadata": {
    "scrolled": true
   },
   "outputs": [
    {
     "name": "stdout",
     "output_type": "stream",
     "text": [
      "24 Jun 2019 13:58:44,418 WARN - ClientConfiguration.loadFromSearchPath(227) -  Found no client.conf in default paths. Using default client configuration values.\n"
     ]
    },
    {
     "data": {
      "text/plain": [
       "D4M.DBserver(\"uno\", \"localhost:2181\", \"root\", \"secret\", \"BigTableLike\", JavaCall.JavaObject{Symbol(\"edu.mit.ll.graphulo.MatlabGraphulo\")}(Ptr{Nothing} @0x000000000526dd28))"
      ]
     },
     "execution_count": 14,
     "metadata": {},
     "output_type": "execute_result"
    }
   ],
   "source": [
    "DB = dbsetup(\"uno\", \"AccumuloConfig.jl\")"
   ]
  },
  {
   "cell_type": "code",
   "execution_count": 15,
   "metadata": {},
   "outputs": [
    {
     "data": {
      "text/plain": [
       "7-element Array{SubString{String},1}:\n",
       " \"accumulo.metadata\"   \n",
       " \"accumulo.replication\"\n",
       " \"accumulo.root\"       \n",
       " \"mytable_A\"           \n",
       " \"mytable_B\"           \n",
       " \"mytable_C\"           \n",
       " \"trace\"               "
      ]
     },
     "execution_count": 15,
     "metadata": {},
     "output_type": "execute_result"
    }
   ],
   "source": [
    "ls(DB)"
   ]
  },
  {
   "cell_type": "markdown",
   "metadata": {},
   "source": [
    "Once you have the `DBserver` struct, you can create a new table or connect to an existing table:"
   ]
  },
  {
   "cell_type": "code",
   "execution_count": 16,
   "metadata": {
    "scrolled": true
   },
   "outputs": [
    {
     "name": "stdout",
     "output_type": "stream",
     "text": [
      "Creating mytable_Tedge in uno\n",
      "Creating mytable_TedgeT in uno\n",
      "Creating mytable_TedgeDeg in uno\n",
      "Creating table_to_delete in uno\n"
     ]
    },
    {
     "data": {
      "text/plain": [
       "11-element Array{SubString{String},1}:\n",
       " \"accumulo.metadata\"   \n",
       " \"accumulo.replication\"\n",
       " \"accumulo.root\"       \n",
       " \"mytable_A\"           \n",
       " \"mytable_B\"           \n",
       " \"mytable_C\"           \n",
       " \"mytable_Tedge\"       \n",
       " \"mytable_TedgeDeg\"    \n",
       " \"mytable_TedgeT\"      \n",
       " \"table_to_delete\"     \n",
       " \"trace\"               "
      ]
     },
     "execution_count": 16,
     "metadata": {},
     "output_type": "execute_result"
    }
   ],
   "source": [
    "Tedge = DB[\"mytable_Tedge\",\"mytable_TedgeT\"]\n",
    "TedgeDeg = DB[\"mytable_TedgeDeg\"]\n",
    "dtable = DB[\"table_to_delete\"]\n",
    "\n",
    "ls(DB)"
   ]
  },
  {
   "cell_type": "markdown",
   "metadata": {},
   "source": [
    "You can delete tables just as easily."
   ]
  },
  {
   "cell_type": "code",
   "execution_count": 8,
   "metadata": {},
   "outputs": [
    {
     "data": {
      "text/plain": [
       "7-element Array{SubString{String},1}:\n",
       " \"accumulo.metadata\"   \n",
       " \"accumulo.replication\"\n",
       " \"accumulo.root\"       \n",
       " \"mytable_Tedge\"       \n",
       " \"mytable_TedgeDeg\"    \n",
       " \"mytable_TedgeT\"      \n",
       " \"trace\"               "
      ]
     },
     "execution_count": 8,
     "metadata": {},
     "output_type": "execute_result"
    }
   ],
   "source": [
    "delete(dtable)\n",
    "ls(DB)"
   ]
  },
  {
   "cell_type": "markdown",
   "metadata": {},
   "source": [
    "# Inserting Data"
   ]
  },
  {
   "cell_type": "markdown",
   "metadata": {},
   "source": [
    "Let's insert some data, a csv of tracking logs of the OpenEdx course platform. "
   ]
  },
  {
   "cell_type": "code",
   "execution_count": 9,
   "metadata": {},
   "outputs": [
    {
     "name": "stdout",
     "output_type": "stream",
     "text": [
      "(1,doc)\t19960902_27945.txt\n",
      "(1,entity)\tafrica\n",
      "(1,position)\t730;1176;\n",
      "(1,type)\tLOCATION\n"
     ]
    }
   ],
   "source": [
    "fname = \"AccumuloSummit2018/data/entity.csv\"\n",
    "A = ReadCSV(fname)"
   ]
  },
  {
   "cell_type": "code",
   "execution_count": 11,
   "metadata": {},
   "outputs": [
    {
     "data": {
      "text/plain": [
       "47090×5 Array{Union{AbstractString, Number},2}:\n",
       "      \"\"  \"doc\"                  \"entity\"        \"position\"     \"type\"    \n",
       "     1    \"19960825_13108.txt\"   \"addis ababa\"   \"54;132;974;\"  \"LOCATION\"\n",
       "     2    \"19960930_84704.txt\"   \"addis ababa\"   \"60;\"          \"LOCATION\"\n",
       "     3    \"19961004_96087.txt\"   \"addis ababa\"   \"61;305;\"      \"LOCATION\"\n",
       "     4    \"19961006_98377.txt\"   \"addis ababa\"   \"68;\"          \"LOCATION\"\n",
       "     5    \"19961009_104796.txt\"  \"addis ababa\"   \"59;443;\"      \"LOCATION\"\n",
       "     6    \"19961010_107656.txt\"  \"addis ababa\"   \"61;\"          \"LOCATION\"\n",
       "     7    \"19961031_158809.txt\"  \"addis ababa\"   \"2109;\"        \"LOCATION\"\n",
       "     8    \"19961101_159647.txt\"  \"addis ababa\"   \"1485;\"        \"LOCATION\"\n",
       "     9    \"19961113_185784.txt\"  \"addis ababa\"   \"62;\"          \"LOCATION\"\n",
       "    10    \"19960821_6808.txt\"    \"aden\"          \"212;\"         \"LOCATION\"\n",
       "    11    \"19961026_145749.txt\"  \"aden\"          \"58;\"          \"LOCATION\"\n",
       "    12    \"19961106_169278.txt\"  \"adriatic sea\"  \"1357;\"        \"LOCATION\"\n",
       "     ⋮                                                                    \n",
       " 47078    \"19960911_47629.txt\"   \"2039-07-07\"    \"686;\"         \"TIME\"    \n",
       " 47079    \"19960911_47629.txt\"   \"2040-04-28\"    \"1334;\"        \"TIME\"    \n",
       " 47080    \"19960911_47629.txt\"   \"2040-05-26\"    \"1082;\"        \"TIME\"    \n",
       " 47081    \"19960911_47629.txt\"   \"2040-09-08\"    \"285;\"         \"TIME\"    \n",
       " 47082    \"19960911_47629.txt\"   \"2041-08-18\"    \"591;\"         \"TIME\"    \n",
       " 47083    \"19960911_47629.txt\"   \"2041-08-23\"    \"438;\"         \"TIME\"    \n",
       " 47084    \"19960911_47629.txt\"   \"2041-08-25\"    \"488;\"         \"TIME\"    \n",
       " 47085    \"19960911_47629.txt\"   \"2041-09-01\"    \"334;\"         \"TIME\"    \n",
       " 47086    \"19960911_47629.txt\"   \"2042-06-21\"    \"883;\"         \"TIME\"    \n",
       " 47087    \"19960911_47629.txt\"   \"2043-04-20\"    \"1387;\"        \"TIME\"    \n",
       " 47088    \"19960911_47629.txt\"   \"2043-05-25\"    \"1135;\"        \"TIME\"    \n",
       " 47089    \"19960827_16430.txt\"   \"2099-12-31\"    \"1025;\"        \"TIME\"    "
      ]
     },
     "metadata": {},
     "output_type": "display_data"
    }
   ],
   "source": [
    "printFull(A)"
   ]
  },
  {
   "cell_type": "markdown",
   "metadata": {},
   "source": [
    "To insert the Associative Array into Accumulo, we just call `put`. Here, we put the associative array into 'Tedge', a table from This will also populate the transpose table of the table pair `Tedge`."
   ]
  },
  {
   "cell_type": "code",
   "execution_count": 12,
   "metadata": {},
   "outputs": [
    {
     "data": {
      "text/plain": [
       "188363"
      ]
     },
     "execution_count": 12,
     "metadata": {},
     "output_type": "execute_result"
    }
   ],
   "source": [
    "put(Tedge,A)\n",
    "put(TedgeDeg,sum(A,1)') # what's this?\n",
    "nnz(Tedge)"
   ]
  },
  {
   "cell_type": "markdown",
   "metadata": {},
   "source": [
    "# Querying Data"
   ]
  },
  {
   "cell_type": "markdown",
   "metadata": {},
   "source": [
    "Now that we have data, we can run queries. We can run both row and column queries. By default, a column query on a table pair will query the transpose table, so a column query on a table pair is just as fast as a row query."
   ]
  },
  {
   "cell_type": "code",
   "execution_count": 37,
   "metadata": {},
   "outputs": [
    {
     "name": "stdout",
     "output_type": "stream",
     "text": [
      "  0.025368 seconds (1.88 k allocations: 104.813 KiB)\n",
      "  0.025282 seconds (3.45 k allocations: 211.141 KiB)\n",
      "(1, 17)\n",
      "(125, 1)\n"
     ]
    }
   ],
   "source": [
    "@time rowQ = Tedge[\"20170916-1505593021_0090,\",:]\n",
    "@time colQ = Tedge[:,\"event_type|problem_graded,\"]\n",
    "\n",
    "println(size(rowQ))\n",
    "println(size(colQ))"
   ]
  },
  {
   "cell_type": "markdown",
   "metadata": {},
   "source": [
    "You can also query multiple keys at once, do range queries, and prefix queries:"
   ]
  },
  {
   "cell_type": "code",
   "execution_count": 38,
   "metadata": {},
   "outputs": [
    {
     "name": "stdout",
     "output_type": "stream",
     "text": [
      "Query for rows 20170916-1505593021_0090 and 20170911-1505128621_0001:\n",
      "Union{AbstractString, Number}[\"20170911-1505128621_0001\", \"20170916-1505593021_0090\"]\n",
      "\n",
      "Query for rows 20170911-1505128621_0001 through 20170911-1505128621_0005:\n",
      "Union{AbstractString, Number}[\"20170911-1505128621_0001\", \"20170911-1505128621_0002\", \"20170911-1505128621_0003\", \"20170911-1505128621_0004\", \"20170911-1505128621_0005\"]\n",
      "\n",
      "Query for columns that start with module_name|:\n",
      "Union{AbstractString, Number}[\"module_name|Build Instructions\", \"module_name|Doppler Processing\", \"module_name|Example Week 1: Getting Started\", \"module_name|Final\", \"module_name|Introduction\", \"module_name|Introduction to High Performance Scientific Computing\", \"module_name|Introduction to the LLSC Systems\", \"module_name|Overview\", \"module_name|Resources\", \"module_name|Submitting, Monitoring, and Stopping Jobs\", \"module_name|TX-E1 Basics\", \"module_name|The Analyst Challenge\", \"module_name|The Data Challenge\", \"module_name|The System Challenge\", \"module_name|Use Case 2: MapReduce\", \"module_name|Use Case 4: Parallel Computing\", \"module_name|Use Case 5: Databases and Data Analytics\", \"module_name|Using the LLSC Systems\", \"module_name|Welcome\"]\n"
     ]
    }
   ],
   "source": [
    "twokeys = Tedge[\"20170916-1505593021_0090,20170911-1505128621_0001,\",:]\n",
    "rangeQ = Tedge[\"20170911-1505128621_0001,:,20170911-1505128621_0005,\",:]\n",
    "prefixQ = Tedge[:,StartsWith(\"module_name|\")]\n",
    "\n",
    "println(\"Query for rows 20170916-1505593021_0090 and 20170911-1505128621_0001:\")\n",
    "println(Row(twokeys))\n",
    "println(\"\\nQuery for rows 20170911-1505128621_0001 through 20170911-1505128621_0005:\")\n",
    "println(Row(rangeQ))\n",
    "println(\"\\nQuery for columns that start with module_name|:\")\n",
    "println(Col(prefixQ))"
   ]
  },
  {
   "cell_type": "markdown",
   "metadata": {
    "heading_collapsed": true
   },
   "source": [
    "# Cleanup"
   ]
  },
  {
   "cell_type": "markdown",
   "metadata": {
    "hidden": true
   },
   "source": [
    "Again, to delete tables, just call `delete`:"
   ]
  },
  {
   "cell_type": "code",
   "execution_count": 29,
   "metadata": {
    "hidden": true
   },
   "outputs": [
    {
     "data": {
      "text/plain": [
       "5-element Array{SubString{String},1}:\n",
       " \"accumulo.metadata\"   \n",
       " \"accumulo.replication\"\n",
       " \"accumulo.root\"       \n",
       " \"table_to_delete\"     \n",
       " \"trace\"               "
      ]
     },
     "execution_count": 29,
     "metadata": {},
     "output_type": "execute_result"
    }
   ],
   "source": [
    "delete(Tedge)\n",
    "delete(TedgeDeg)\n",
    "ls(DB)"
   ]
  },
  {
   "cell_type": "code",
   "execution_count": null,
   "metadata": {
    "hidden": true
   },
   "outputs": [],
   "source": []
  },
  {
   "cell_type": "code",
   "execution_count": null,
   "metadata": {},
   "outputs": [],
   "source": []
  }
 ],
 "metadata": {
  "kernelspec": {
   "display_name": "Julia 1.0.4",
   "language": "julia",
   "name": "julia-1.0"
  },
  "language_info": {
   "file_extension": ".jl",
   "mimetype": "application/julia",
   "name": "julia",
   "version": "1.0.4"
  }
 },
 "nbformat": 4,
 "nbformat_minor": 2
}
