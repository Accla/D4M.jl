{
 "cells": [
  {
   "cell_type": "code",
   "execution_count": null,
   "metadata": {
    "collapsed": true
   },
   "outputs": [],
   "source": [
    "using D4M"
   ]
  },
  {
   "cell_type": "markdown",
   "metadata": {},
   "source": [
    "# Intro"
   ]
  },
  {
   "cell_type": "markdown",
   "metadata": {},
   "source": [
    "## Assoc Intro"
   ]
  },
  {
   "cell_type": "markdown",
   "metadata": {},
   "source": [
    "### AI1 Setup"
   ]
  },
  {
   "cell_type": "markdown",
   "metadata": {},
   "source": [
    "Hello! This is a test on the basic Assoc Array construction. Associative array takes on entries of triplets, and it will parse an array of substrings that is divided by char divider.\n",
    "\n",
    "--Please note that this divider is indicated as the last char in the string."
   ]
  },
  {
   "cell_type": "code",
   "execution_count": null,
   "metadata": {
    "collapsed": true
   },
   "outputs": [],
   "source": [
    "row = \"a,a,a,a,a,a,a,aa,aaa,b,bb,bbb,a,aa,aaa,b,bb,bbb,\"\n",
    "column = \"a,aa,aaa,b,bb,bbb,a,a,a,a,a,a,a,aa,aaa,b,bb,bbb,\"\n",
    "values = \"a-a,a-aa,a-aaa,a-b,a-bb,a-bbb,a-a,aa-a,aaa-a,b-a,bb-a,bbb-a,a-a,aa-aa,aaa-aaa,b-b,bb-bb,bbb-bbb,\"\n",
    "\n",
    "# Create assoc array and list triples.\n",
    "A = Assoc(row,column,values)"
   ]
  },
  {
   "cell_type": "markdown",
   "metadata": {},
   "source": [
    "This is the data structure of the Associative Array Class:"
   ]
  },
  {
   "cell_type": "code",
   "execution_count": null,
   "metadata": {
    "collapsed": true
   },
   "outputs": [],
   "source": [
    "dump(A)"
   ]
  },
  {
   "cell_type": "markdown",
   "metadata": {},
   "source": [
    "The printFull function allows it to be printed in a tabular form."
   ]
  },
  {
   "cell_type": "code",
   "execution_count": null,
   "metadata": {
    "collapsed": true
   },
   "outputs": [],
   "source": [
    "printFull(A)"
   ]
  },
  {
   "cell_type": "markdown",
   "metadata": {},
   "source": [
    "When written into CSV form, the data is stored in the tabular form."
   ]
  },
  {
   "cell_type": "code",
   "execution_count": null,
   "metadata": {
    "collapsed": true
   },
   "outputs": [],
   "source": [
    "WriteCSV(A,\"A.csv\")"
   ]
  },
  {
   "cell_type": "markdown",
   "metadata": {},
   "source": [
    "### AI2 Subsref"
   ]
  },
  {
   "cell_type": "markdown",
   "metadata": {},
   "source": [
    "This is a test on the subreferencing of Associative Array."
   ]
  },
  {
   "cell_type": "code",
   "execution_count": null,
   "metadata": {
    "collapsed": true
   },
   "outputs": [],
   "source": [
    "A = ReadCSV(\"A.csv\")"
   ]
  },
  {
   "cell_type": "markdown",
   "metadata": {},
   "source": [
    "Get rows a and b."
   ]
  },
  {
   "cell_type": "code",
   "execution_count": null,
   "metadata": {
    "collapsed": true
   },
   "outputs": [],
   "source": [
    "A1r = A[\"a,b,\",:]\n",
    "\n",
    "print(A1r)"
   ]
  },
  {
   "cell_type": "markdown",
   "metadata": {},
   "source": [
    "Get rows containing a and columns 1 thru 3 (not yet supported)."
   ]
  },
  {
   "cell_type": "code",
   "execution_count": null,
   "metadata": {
    "collapsed": true
   },
   "outputs": [],
   "source": [
    "#A2r = A[\"a *,\",1:3]\n",
    "\n",
    "#print(A2r)"
   ]
  },
  {
   "cell_type": "markdown",
   "metadata": {},
   "source": [
    "Get rows a to b."
   ]
  },
  {
   "cell_type": "code",
   "execution_count": null,
   "metadata": {
    "collapsed": true
   },
   "outputs": [],
   "source": [
    "A3r = A[\"a,:,b,\",:]\n",
    "\n",
    "print(A3r)"
   ]
  },
  {
   "cell_type": "markdown",
   "metadata": {},
   "source": [
    "Get rows starting with a or c."
   ]
  },
  {
   "cell_type": "code",
   "execution_count": null,
   "metadata": {
    "collapsed": true
   },
   "outputs": [],
   "source": [
    "A4r = A[StartsWith(\"a,c,\"),:]\n",
    "\n",
    "print(A4r)"
   ]
  },
  {
   "cell_type": "markdown",
   "metadata": {},
   "source": [
    "Get cols a and b."
   ]
  },
  {
   "cell_type": "code",
   "execution_count": null,
   "metadata": {
    "collapsed": true
   },
   "outputs": [],
   "source": [
    "A1c = A[:,\"a,b,\"]\n",
    "\n",
    "print(A1c)"
   ]
  },
  {
   "cell_type": "markdown",
   "metadata": {},
   "source": [
    "Get rows 1 thru 3 and cols containing a (not yet supported)."
   ]
  },
  {
   "cell_type": "code",
   "execution_count": null,
   "metadata": {
    "collapsed": true
   },
   "outputs": [],
   "source": [
    "#A2c = A[1:3,\"a *,\"]\n",
    "\n",
    "#print(A2c)"
   ]
  },
  {
   "cell_type": "markdown",
   "metadata": {},
   "source": [
    "Get cols a to b."
   ]
  },
  {
   "cell_type": "code",
   "execution_count": null,
   "metadata": {
    "collapsed": true
   },
   "outputs": [],
   "source": [
    "A3c = A[:,\"a,:,b,\"]\n",
    "\n",
    "print(A3c)"
   ]
  },
  {
   "cell_type": "markdown",
   "metadata": {},
   "source": [
    "Get cols starting with a or b."
   ]
  },
  {
   "cell_type": "code",
   "execution_count": null,
   "metadata": {
    "collapsed": true
   },
   "outputs": [],
   "source": [
    "A4c = A[:,StartsWith(\"a,c,\")]\n",
    "\n",
    "print(A4c)"
   ]
  },
  {
   "cell_type": "markdown",
   "metadata": {},
   "source": [
    "Get all values less than b (not yet supported for string values)."
   ]
  },
  {
   "cell_type": "code",
   "execution_count": null,
   "metadata": {
    "collapsed": true
   },
   "outputs": [],
   "source": [
    "#A1v = (A < \"b,\")\n",
    "\n",
    "#print(A1v)"
   ]
  },
  {
   "cell_type": "markdown",
   "metadata": {},
   "source": [
    "### AI3 Math"
   ]
  },
  {
   "cell_type": "markdown",
   "metadata": {},
   "source": [
    "This section demos some of the mathematical operations on Associative Array."
   ]
  },
  {
   "cell_type": "code",
   "execution_count": null,
   "metadata": {
    "collapsed": true
   },
   "outputs": [],
   "source": [
    "A = ReadCSV(\"A.csv\")\n",
    "A = logical(A)\n",
    "\n",
    "printFull(A)"
   ]
  },
  {
   "cell_type": "markdown",
   "metadata": {},
   "source": [
    "We can sum down rows and across columns."
   ]
  },
  {
   "cell_type": "code",
   "execution_count": null,
   "metadata": {
    "collapsed": true
   },
   "outputs": [],
   "source": [
    "printFull(sum(A,1))\n",
    "printFull(sum(A,2))"
   ]
  },
  {
   "cell_type": "markdown",
   "metadata": {},
   "source": [
    "Compute a simple join."
   ]
  },
  {
   "cell_type": "code",
   "execution_count": null,
   "metadata": {
    "collapsed": true
   },
   "outputs": [],
   "source": [
    "Aa = A[:,\"a,\"]\n",
    "Ab = A[:,\"b,\"]\n",
    "Aab = nocol(Aa) & nocol(Ab)\n",
    "\n",
    "printFull(Aab)"
   ]
  },
  {
   "cell_type": "markdown",
   "metadata": {},
   "source": [
    "Compute a histogram (facets) and normalized histogram of other columns that are in rows with both a and b."
   ]
  },
  {
   "cell_type": "code",
   "execution_count": null,
   "metadata": {
    "collapsed": true
   },
   "outputs": [],
   "source": [
    "F =  ( Aab )' * A\n",
    "printFull(F)\n",
    "\n",
    "Fn = F ./ sum(A,1)\n",
    "printFull(Fn)"
   ]
  },
  {
   "cell_type": "markdown",
   "metadata": {},
   "source": [
    "Compute correlation"
   ]
  },
  {
   "cell_type": "code",
   "execution_count": null,
   "metadata": {
    "collapsed": true
   },
   "outputs": [],
   "source": [
    "AtA = sqIn(A)\n",
    "d = diag(adj(AtA))\n",
    "AtA = putAdj(AtA,adj(AtA) - sparse(diagm(d)))\n",
    "printFull(AtA)"
   ]
  },
  {
   "cell_type": "markdown",
   "metadata": {},
   "source": [
    "### AI4 Advanced Constsruction"
   ]
  },
  {
   "cell_type": "markdown",
   "metadata": {},
   "source": [
    "Mixed string and numeric associative arrays."
   ]
  },
  {
   "cell_type": "code",
   "execution_count": null,
   "metadata": {
    "collapsed": true
   },
   "outputs": [],
   "source": [
    "# String  vectors *must* be ROW vectors\n",
    "iStr =  \"01,02,03,04,21,22,23,24,41,51,61,62,63,64,\"\n",
    "\n",
    "# Numeric vectors *must* be COLUMN vectors\n",
    "iNum =  [ 1  1  1  1  4  3  2  1 4  5  6  6  6  6 ]'"
   ]
  },
  {
   "cell_type": "markdown",
   "metadata": {},
   "source": [
    "Mixed type empty arrays."
   ]
  },
  {
   "cell_type": "code",
   "execution_count": null,
   "metadata": {
    "collapsed": true
   },
   "outputs": [],
   "source": [
    "# All empty.\n",
    "A00 = Assoc(\"\",\"\",\"\")\n",
    "\n",
    "# Empty row.\n",
    "A01 = Assoc(\"\",iStr,iNum)\n",
    "\n",
    "# Empty value.\n",
    "A02 = Assoc(iNum,iStr,\"\")\n",
    "\n",
    "# Empty column and value.\n",
    "A03 = Assoc(iNum,[],\"\")\n",
    "\n",
    "# All empty.\n",
    "A04 = Assoc(\"\",[],[])\n",
    "\n",
    "# All empty.\n",
    "A05 = Assoc(\"\",\"\",[])\n",
    "\n",
    "# row and value empty.\n",
    "A06 = Assoc(\"\",iNum,[])\n"
   ]
  },
  {
   "cell_type": "markdown",
   "metadata": {},
   "source": [
    "Mixed type non-empty arrays. (Commented out cells are not yet supported)"
   ]
  },
  {
   "cell_type": "markdown",
   "metadata": {},
   "source": [
    "String scalar,  string vector,  numeric vector."
   ]
  },
  {
   "cell_type": "code",
   "execution_count": null,
   "metadata": {
    "collapsed": true
   },
   "outputs": [],
   "source": [
    "# A11 = Assoc(\"a,\",iStr,iNum)\n",
    "\n",
    "# printFull(A11)"
   ]
  },
  {
   "cell_type": "markdown",
   "metadata": {},
   "source": [
    "Numeric vector, string vector,  string scalar."
   ]
  },
  {
   "cell_type": "code",
   "execution_count": null,
   "metadata": {
    "collapsed": true
   },
   "outputs": [],
   "source": [
    "#A12 = Assoc(iNum,iStr,\"a,\")\n",
    "\n",
    "# printFull(A12)"
   ]
  },
  {
   "cell_type": "markdown",
   "metadata": {},
   "source": [
    "Numeric vector, numeric scalar, string scalar."
   ]
  },
  {
   "cell_type": "code",
   "execution_count": null,
   "metadata": {
    "collapsed": true
   },
   "outputs": [],
   "source": [
    "#A13 = Assoc(iNum,1,\"a,\")\n",
    "\n",
    "# printFull(A13)"
   ]
  },
  {
   "cell_type": "markdown",
   "metadata": {},
   "source": [
    "String scalar,  numeric scalar, numeric scalar."
   ]
  },
  {
   "cell_type": "code",
   "execution_count": null,
   "metadata": {
    "collapsed": true
   },
   "outputs": [],
   "source": [
    "A14 = Assoc(\"a,\",1,1)\n",
    "\n",
    "printFull(A14)"
   ]
  },
  {
   "cell_type": "markdown",
   "metadata": {},
   "source": [
    "String scalar,  string scalar,  numeric scalar."
   ]
  },
  {
   "cell_type": "code",
   "execution_count": null,
   "metadata": {
    "collapsed": true
   },
   "outputs": [],
   "source": [
    "A15 = Assoc(\"a,\",\"a,\",1)\n",
    "\n",
    "printFull(A15)"
   ]
  },
  {
   "cell_type": "markdown",
   "metadata": {},
   "source": [
    "String scalar,  numeric vector, numeric scalar."
   ]
  },
  {
   "cell_type": "code",
   "execution_count": null,
   "metadata": {
    "collapsed": true
   },
   "outputs": [],
   "source": [
    "#A16 = Assoc(\"a,\",iNum,1)\n",
    "\n",
    "# printFull(A16)"
   ]
  },
  {
   "cell_type": "markdown",
   "metadata": {
    "heading_collapsed": true
   },
   "source": [
    "## Edge Art"
   ]
  },
  {
   "cell_type": "markdown",
   "metadata": {
    "hidden": true
   },
   "source": [
    "### EA1 Graph"
   ]
  },
  {
   "cell_type": "markdown",
   "metadata": {
    "hidden": true
   },
   "source": [
    "Forming adjacency graphs"
   ]
  },
  {
   "cell_type": "markdown",
   "metadata": {
    "hidden": true
   },
   "source": [
    "Read CSV file into associative array. Get vertices and convert to numbers."
   ]
  },
  {
   "cell_type": "code",
   "execution_count": null,
   "metadata": {
    "collapsed": true,
    "hidden": true
   },
   "outputs": [],
   "source": [
    "E = ReadCSV(\"Edge.csv\")\n",
    "\n",
    "Ev = logical( E[:, StartsWith(\"V,\")] )\n",
    "printFull(Ev)"
   ]
  },
  {
   "cell_type": "markdown",
   "metadata": {
    "hidden": true
   },
   "source": [
    "Compute vertex adjacency graph."
   ]
  },
  {
   "cell_type": "code",
   "execution_count": null,
   "metadata": {
    "collapsed": true,
    "hidden": true
   },
   "outputs": [],
   "source": [
    "Av = sqIn(Ev)\n",
    "printFull(Av)"
   ]
  },
  {
   "cell_type": "markdown",
   "metadata": {
    "hidden": true
   },
   "source": [
    "Compute edge adjacency graph."
   ]
  },
  {
   "cell_type": "code",
   "execution_count": null,
   "metadata": {
    "collapsed": true,
    "hidden": true
   },
   "outputs": [],
   "source": [
    "Ae = sqOut(Ev)\n",
    "printFull(Ae)"
   ]
  },
  {
   "cell_type": "markdown",
   "metadata": {
    "heading_collapsed": true,
    "hidden": true
   },
   "source": [
    "### EA2 Subsref"
   ]
  },
  {
   "cell_type": "markdown",
   "metadata": {
    "hidden": true
   },
   "source": [
    "Show different wasy to index associative arrays."
   ]
  },
  {
   "cell_type": "markdown",
   "metadata": {
    "hidden": true
   },
   "source": [
    "Read CSV file into associative array."
   ]
  },
  {
   "cell_type": "code",
   "execution_count": null,
   "metadata": {
    "collapsed": true,
    "hidden": true
   },
   "outputs": [],
   "source": [
    "E = ReadCSV(\"Edge.csv\");\n",
    "printFull(E);"
   ]
  },
  {
   "cell_type": "markdown",
   "metadata": {
    "hidden": true
   },
   "source": [
    "Get orange edges."
   ]
  },
  {
   "cell_type": "code",
   "execution_count": null,
   "metadata": {
    "collapsed": true,
    "hidden": true
   },
   "outputs": [],
   "source": [
    "Eo = E[(E[:,\"Color,\"] == \"Orange\" ).row,:];\n",
    "printFull(Eo);"
   ]
  },
  {
   "cell_type": "markdown",
   "metadata": {
    "hidden": true
   },
   "source": [
    "Get orange and green edges."
   ]
  },
  {
   "cell_type": "code",
   "execution_count": null,
   "metadata": {
    "collapsed": true,
    "hidden": true
   },
   "outputs": [],
   "source": [
    "Eog = E[ StartsWith(\"O,G,\") ,:];\n",
    "printFull(Eog);"
   ]
  },
  {
   "cell_type": "markdown",
   "metadata": {
    "heading_collapsed": true,
    "hidden": true
   },
   "source": [
    "### EA3 SubGraph"
   ]
  },
  {
   "cell_type": "markdown",
   "metadata": {
    "hidden": true
   },
   "source": [
    "Show some associative array math."
   ]
  },
  {
   "cell_type": "markdown",
   "metadata": {
    "hidden": true
   },
   "source": [
    "Read CSV file into associative array, get vertices and convert to numbers."
   ]
  },
  {
   "cell_type": "code",
   "execution_count": null,
   "metadata": {
    "collapsed": true,
    "hidden": true
   },
   "outputs": [],
   "source": [
    "E = ReadCSV(\"Edge.csv\");\n",
    "Ev = logical( E[:, StartsWith(\"V,\")] );"
   ]
  },
  {
   "cell_type": "markdown",
   "metadata": {
    "hidden": true
   },
   "source": [
    "Get orange and green edges."
   ]
  },
  {
   "cell_type": "code",
   "execution_count": null,
   "metadata": {
    "collapsed": true,
    "hidden": true
   },
   "outputs": [],
   "source": [
    "EvO = Ev[StartsWith(\"O,\"),:];\n",
    "EvG = Ev[StartsWith(\"G,\"),:];"
   ]
  },
  {
   "cell_type": "markdown",
   "metadata": {
    "hidden": true
   },
   "source": [
    "Compute (empty) vertex adjacency graph."
   ]
  },
  {
   "cell_type": "code",
   "execution_count": null,
   "metadata": {
    "collapsed": true,
    "hidden": true
   },
   "outputs": [],
   "source": [
    "AvOG = transpose(EvO) * EvG;\n",
    "printFull(AvOG);"
   ]
  },
  {
   "cell_type": "markdown",
   "metadata": {
    "hidden": true
   },
   "source": [
    "Compute edge adjacency graph."
   ]
  },
  {
   "cell_type": "code",
   "execution_count": null,
   "metadata": {
    "collapsed": true,
    "hidden": true
   },
   "outputs": [],
   "source": [
    "AeOG = EvO * transpose(EvG)\n",
    "printFull(AeOG)"
   ]
  },
  {
   "cell_type": "markdown",
   "metadata": {
    "hidden": true
   },
   "source": [
    "Compute edge adjacency graph preserving keys."
   ]
  },
  {
   "cell_type": "code",
   "execution_count": null,
   "metadata": {
    "collapsed": true,
    "hidden": true
   },
   "outputs": [],
   "source": [
    "AeOG = CatKeyMul(EvO,transpose(EvG))\n",
    "printFull(AeOG)"
   ]
  },
  {
   "cell_type": "markdown",
   "metadata": {},
   "source": [
    "# Apps"
   ]
  },
  {
   "cell_type": "markdown",
   "metadata": {
    "heading_collapsed": true
   },
   "source": [
    "## Entity Analysis"
   ]
  },
  {
   "cell_type": "markdown",
   "metadata": {
    "heading_collapsed": true,
    "hidden": true
   },
   "source": [
    "### EA1 Read"
   ]
  },
  {
   "cell_type": "markdown",
   "metadata": {
    "hidden": true
   },
   "source": [
    "Read entity data and organize into sparse associative array.\n",
    "\n",
    "Entity data are derived summaries obtained by from automated\n",
    "entity extraction algorithms applied to <1% of the NIST Rueters Corpus.\n",
    "See: http://trec.nist.gov/data/reuters/reuters.html"
   ]
  },
  {
   "cell_type": "code",
   "execution_count": null,
   "metadata": {
    "collapsed": true,
    "hidden": true
   },
   "outputs": [],
   "source": [
    "using PyPlot,JLD2\n",
    "\n",
    "file_dir = Pkg.dir(\"D4M\")*\"/examples/2Apps/1EntityAnalysis/Entity.csv\"\n",
    "save_dir = \"Entity.jld\"\n",
    "\n",
    "E_raw = ReadCSV(file_dir)\n",
    "printFull(E_raw[1:5,:])"
   ]
  },
  {
   "cell_type": "markdown",
   "metadata": {
    "hidden": true
   },
   "source": [
    "Organize data into new format."
   ]
  },
  {
   "cell_type": "code",
   "execution_count": null,
   "metadata": {
    "collapsed": true,
    "hidden": true,
    "scrolled": false
   },
   "outputs": [],
   "source": [
    "row,col,doc_val      = find(E_raw[:,\"doc,\"])\n",
    "row,col,entity_val   = find(E_raw[:,\"entity,\"])\n",
    "row,col,position_val = find(E_raw[:,\"position,\"])\n",
    "row,col,type_val     = find(E_raw[:,\"type,\"])\n",
    "\n",
    "typeEntity_val = CatStr(type_val, \"/\" , entity_val);"
   ]
  },
  {
   "cell_type": "markdown",
   "metadata": {
    "hidden": true
   },
   "source": [
    "Create a sparse associative array of all the data."
   ]
  },
  {
   "cell_type": "code",
   "execution_count": null,
   "metadata": {
    "collapsed": true,
    "hidden": true
   },
   "outputs": [],
   "source": [
    "E = Assoc(doc_val,typeEntity_val,position_val)"
   ]
  },
  {
   "cell_type": "markdown",
   "metadata": {
    "hidden": true
   },
   "source": [
    "Show a few rows and plot a spy plot."
   ]
  },
  {
   "cell_type": "code",
   "execution_count": null,
   "metadata": {
    "collapsed": true,
    "hidden": true
   },
   "outputs": [],
   "source": [
    "print(E[1:5,:])\n",
    "spy(E[1:1000,:]')"
   ]
  },
  {
   "cell_type": "markdown",
   "metadata": {
    "hidden": true
   },
   "source": [
    "Save associative array."
   ]
  },
  {
   "cell_type": "code",
   "execution_count": null,
   "metadata": {
    "collapsed": true,
    "hidden": true
   },
   "outputs": [],
   "source": [
    "save(save_dir,\"E\",E)"
   ]
  },
  {
   "cell_type": "markdown",
   "metadata": {
    "heading_collapsed": true,
    "hidden": true
   },
   "source": [
    "### EA2 Statistics"
   ]
  },
  {
   "cell_type": "markdown",
   "metadata": {
    "hidden": true
   },
   "source": [
    "Compute statistics on entity data."
   ]
  },
  {
   "cell_type": "code",
   "execution_count": null,
   "metadata": {
    "collapsed": true,
    "hidden": true
   },
   "outputs": [],
   "source": [
    "using JLD2, PyPlot\n",
    "\n",
    "E = load(\"./Entity.jld\")[\"E\"];"
   ]
  },
  {
   "cell_type": "markdown",
   "metadata": {
    "hidden": true
   },
   "source": [
    "Calculate number of entities in each category, then count the number of times each entity occurs."
   ]
  },
  {
   "cell_type": "code",
   "execution_count": null,
   "metadata": {
    "collapsed": true,
    "hidden": true
   },
   "outputs": [],
   "source": [
    "print(sum(logical(col2type(E,\"/\")),1))\n",
    "En = sum(logical(E),1)"
   ]
  },
  {
   "cell_type": "markdown",
   "metadata": {
    "hidden": true
   },
   "source": [
    "Plot the log-log plot of location frequencies. Notice the power-law distribution."
   ]
  },
  {
   "cell_type": "code",
   "execution_count": null,
   "metadata": {
    "collapsed": true,
    "hidden": true
   },
   "outputs": [],
   "source": [
    "row,entity,count = find(En)\n",
    "An = Assoc(count,entity,1)\n",
    "\n",
    "loglog(full(sum(adj(An[:,StartsWith(\"LOCATION/,\")]),2)) ,\"o\")"
   ]
  },
  {
   "cell_type": "markdown",
   "metadata": {
    "heading_collapsed": true,
    "hidden": true
   },
   "source": [
    "### Facet"
   ]
  },
  {
   "cell_type": "markdown",
   "metadata": {
    "hidden": true
   },
   "source": [
    "Entity facet search. Shows next most common terms."
   ]
  },
  {
   "cell_type": "code",
   "execution_count": null,
   "metadata": {
    "collapsed": true,
    "hidden": true
   },
   "outputs": [],
   "source": [
    "using JLD2\n",
    "\n",
    "E = load(\"./Entity.jld\")[\"E\"]\n",
    "E = logical(E);"
   ]
  },
  {
   "cell_type": "markdown",
   "metadata": {
    "hidden": true
   },
   "source": [
    "Facet search: Finding entities that occur commonly with LOCATION/new york and PERSON/michael chang."
   ]
  },
  {
   "cell_type": "code",
   "execution_count": null,
   "metadata": {
    "collapsed": true,
    "hidden": true
   },
   "outputs": [],
   "source": [
    "x = \"LOCATION/new york,\"\n",
    "p = \"PERSON/michael chang,\"\n",
    "F = ( nocol(E[:,x]) & nocol(E[:,p]))' * E\n",
    "print(F' > 1 )"
   ]
  },
  {
   "cell_type": "markdown",
   "metadata": {
    "hidden": true
   },
   "source": [
    "Normalize the previous result."
   ]
  },
  {
   "cell_type": "code",
   "execution_count": null,
   "metadata": {
    "collapsed": true,
    "hidden": true
   },
   "outputs": [],
   "source": [
    "Fn = F ./ sum(E,1)\n",
    "print((Fn' > 0.02))"
   ]
  },
  {
   "cell_type": "markdown",
   "metadata": {
    "hidden": true
   },
   "source": [
    "### Graph"
   ]
  },
  {
   "cell_type": "markdown",
   "metadata": {
    "hidden": true
   },
   "source": [
    "Compute graphs from entity edge data."
   ]
  },
  {
   "cell_type": "code",
   "execution_count": null,
   "metadata": {
    "collapsed": true,
    "hidden": true
   },
   "outputs": [],
   "source": [
    "using JLD2,PyPlot\n",
    "E = load(\"./Entity.jld\")[\"E\"];"
   ]
  },
  {
   "cell_type": "markdown",
   "metadata": {
    "hidden": true
   },
   "source": [
    "Computing adjacency matrix for the Entity-Entity graph."
   ]
  },
  {
   "cell_type": "code",
   "execution_count": null,
   "metadata": {
    "collapsed": true,
    "hidden": true,
    "scrolled": false
   },
   "outputs": [],
   "source": [
    "Es = E\n",
    "E = logical(E)\n",
    "Ae = sqIn(E)\n",
    "\n",
    "spy(Ae)"
   ]
  },
  {
   "cell_type": "markdown",
   "metadata": {
    "hidden": true
   },
   "source": [
    "Compute entity-entity graph that preserves keys (documents))."
   ]
  },
  {
   "cell_type": "code",
   "execution_count": null,
   "metadata": {
    "collapsed": true,
    "hidden": true
   },
   "outputs": [],
   "source": [
    "# Limit to people with names starting with j\n",
    "p = StartsWith(\"PERSON/j,\");\n",
    "Ep = E[:,p]\n",
    "\n",
    "# Correlate while preserving keys\n",
    "Ap = CatKeyMul(Ep',Ep)\n",
    "spy(Ap)"
   ]
  },
  {
   "cell_type": "markdown",
   "metadata": {
    "hidden": true
   },
   "source": [
    "Create document-document graph: documents that contain the same entities."
   ]
  },
  {
   "cell_type": "code",
   "execution_count": null,
   "metadata": {
    "collapsed": true,
    "hidden": true
   },
   "outputs": [],
   "source": [
    "Ad = sqOut(Ep)\n",
    "spy(Ad)"
   ]
  },
  {
   "cell_type": "markdown",
   "metadata": {
    "hidden": true
   },
   "source": [
    "### Graph Query"
   ]
  },
  {
   "cell_type": "markdown",
   "metadata": {
    "hidden": true
   },
   "source": [
    "Various ways to query subgraphs."
   ]
  },
  {
   "cell_type": "code",
   "execution_count": null,
   "metadata": {
    "collapsed": true,
    "hidden": true
   },
   "outputs": [],
   "source": [
    "using JLD2,PyPlot\n",
    "\n",
    "file_dir = \"./Entity.jld\"\n",
    "E = load(file_dir)[\"E\"]\n",
    "E = logical(E);"
   ]
  },
  {
   "cell_type": "markdown",
   "metadata": {
    "hidden": true
   },
   "source": [
    "Compute entity (all facet pairs)."
   ]
  },
  {
   "cell_type": "code",
   "execution_count": null,
   "metadata": {
    "collapsed": true,
    "hidden": true
   },
   "outputs": [],
   "source": [
    "A = sqIn(E)\n",
    "d = diag(adj(A))\n",
    "A = A - diag(A)\n",
    "\n",
    "print(A[2,:])"
   ]
  },
  {
   "cell_type": "markdown",
   "metadata": {
    "hidden": true
   },
   "source": [
    "Compute normalized correlation."
   ]
  },
  {
   "cell_type": "code",
   "execution_count": null,
   "metadata": {
    "collapsed": true,
    "hidden": true
   },
   "outputs": [],
   "source": [
    "i,j,v = findnz(adj(A))\n",
    "An = putAdj(A, sparse(i,j,v ./ min.(d[i],d[j])))\n",
    "\n",
    "print(An[2,:])"
   ]
  },
  {
   "cell_type": "markdown",
   "metadata": {
    "hidden": true
   },
   "source": [
    "Multi-facet queries."
   ]
  },
  {
   "cell_type": "code",
   "execution_count": null,
   "metadata": {
    "collapsed": true,
    "hidden": true
   },
   "outputs": [],
   "source": [
    "x = \"LOCATION/new york,\"\n",
    "p = StartsWith(\"PERSON/,\")\n",
    "printFull( (A[p,x] > 4) & (An[p,x] > 0.3))"
   ]
  },
  {
   "cell_type": "markdown",
   "metadata": {
    "hidden": true
   },
   "source": [
    "Find triangles."
   ]
  },
  {
   "cell_type": "code",
   "execution_count": null,
   "metadata": {
    "collapsed": true,
    "hidden": true,
    "scrolled": true
   },
   "outputs": [],
   "source": [
    "p0 = \"PERSON/john kennedy,\"\n",
    "\n",
    "p1 = row(A[p,p0] + A[p0,p])\n",
    "spy(A[p1,p1])\n",
    "\n",
    "p2 = row( A[p1,p1] - (A[p,p0]+ A[p0,p]))\n",
    "print(A[p2,p2] > 1)"
   ]
  },
  {
   "cell_type": "markdown",
   "metadata": {
    "collapsed": true
   },
   "source": [
    "## Track Analysis"
   ]
  },
  {
   "cell_type": "markdown",
   "metadata": {},
   "source": [
    "### Build"
   ]
  },
  {
   "cell_type": "markdown",
   "metadata": {},
   "source": [
    "General approach to computing tracks from entity edge data."
   ]
  },
  {
   "cell_type": "code",
   "execution_count": null,
   "metadata": {
    "collapsed": true
   },
   "outputs": [],
   "source": [
    "using JLD2,PyPlot\n",
    "\n",
    "E = load(\"Entity.jld\")[\"E\"]\n",
    "E = logical(E);"
   ]
  },
  {
   "cell_type": "markdown",
   "metadata": {},
   "source": [
    "Show general purpose method for building tracks."
   ]
  },
  {
   "cell_type": "code",
   "execution_count": null,
   "metadata": {
    "collapsed": true
   },
   "outputs": [],
   "source": [
    "p = StartsWith(\"PERSON/,\")      # Set entity range.\n",
    "t = StartsWith(\"TIME/,\")        # Set time range.\n",
    "x = StartsWith(\"LOCATION/,\")    # Set spatial range.\n",
    "a = StartsWith(\"PERSON/,TIME/,LOCATION/,\");"
   ]
  },
  {
   "cell_type": "markdown",
   "metadata": {},
   "source": [
    "Limit to edges with all three."
   ]
  },
  {
   "cell_type": "code",
   "execution_count": null,
   "metadata": {
    "collapsed": true
   },
   "outputs": [],
   "source": [
    "E3 = E[row( sum(E[:,p],2) & sum(E[:,t],2) & sum(E[:,x],2) ),a];"
   ]
  },
  {
   "cell_type": "markdown",
   "metadata": {},
   "source": [
    "Collapse to get unique time and space for each edge and get triples."
   ]
  },
  {
   "cell_type": "code",
   "execution_count": null,
   "metadata": {
    "collapsed": true
   },
   "outputs": [],
   "source": [
    "edge,time  = find(  val2col(col2type(E3[:,t],\"/\"),\"/\")  )\n",
    "edge,space = find(  val2col(col2type(E3[:,x],\"/\"),\"/\")  )\n",
    "\n",
    "Etx = Assoc(edge,time,space)     # Combine edge, time and space.\n",
    "Ext = Assoc(edge,space,time)     # Combine edge, space and time."
   ]
  },
  {
   "cell_type": "markdown",
   "metadata": {},
   "source": [
    "Construct time tracks with matrix multiply."
   ]
  },
  {
   "cell_type": "code",
   "execution_count": null,
   "metadata": {
    "collapsed": true
   },
   "outputs": [],
   "source": [
    "At = CatValMul(transpose(Etx),E3[:,p]) \n",
    "spy(At')\n",
    "axis(\"auto\")"
   ]
  },
  {
   "cell_type": "markdown",
   "metadata": {},
   "source": [
    "Construct space tracks with matrix multiply."
   ]
  },
  {
   "cell_type": "code",
   "execution_count": null,
   "metadata": {
    "collapsed": true
   },
   "outputs": [],
   "source": [
    "Ax = CatValMul(transpose(Ext),E3[:,p]) \n",
    "spy(Ax')\n",
    "axis(\"auto\")"
   ]
  },
  {
   "cell_type": "markdown",
   "metadata": {},
   "source": [
    "### TA2 Query"
   ]
  },
  {
   "cell_type": "markdown",
   "metadata": {},
   "source": [
    "Compute tracks from entity edge data."
   ]
  },
  {
   "cell_type": "code",
   "execution_count": null,
   "metadata": {
    "collapsed": true
   },
   "outputs": [],
   "source": [
    "function findtracks(A,t,p,l);\n",
    "#findtracks creates track associative array.\n",
    "\n",
    "    # Find docs that have person\n",
    "    DocIDwPer = row(A[:,p]);\n",
    "\n",
    "    # Find docs that have person and location.\n",
    "    DocIDwPerLoc = row(A[DocIDwPer,l]);\n",
    "\n",
    "    # Find docs that have person, location and time.\n",
    "    DocIDwPerLocTime = row(A[DocIDwPerLoc,t]);\n",
    "\n",
    "    # Limit to these documents.\n",
    "    AA = A[DocIDwPerLocTime,:];\n",
    "\n",
    "    # Get person sub array.\n",
    "    Aper = AA[DocIDwPerLocTime,p];\n",
    "    TrackPer,DocAper = find(Aper');\n",
    "\n",
    "    # Get location sub array.\n",
    "    Aloc = AA[DocIDwPerLocTime,l];\n",
    "    EntAloc,DocAloc = find(Aloc');\n",
    "\n",
    "    # Get Single location per document- order by actors\n",
    "    uLocDocs = unique(DocAloc)\n",
    "    uLocDocIdx = [1; indexin(uLocDocs,DocAloc)[1:end-1]+1] # get first index of unique docs (correct for getting highest)\n",
    "    uDocLocs = EntAloc[uLocDocIdx] # single locations per document\n",
    "    uLocDocIdxinDocAper = indexin(DocAper,uLocDocs) # locations of unique loc docs in per doc list\n",
    "    TrackLoc = uDocLocs[uLocDocIdxinDocAper]\n",
    "\n",
    "    # Get time sub array.\n",
    "    Atime = AA[DocIDwPerLocTime,t];\n",
    "    EntAtime,DocAtime = find(Atime');\n",
    "\n",
    "    # Get Single time per document- order by actors\n",
    "    uTimeDocs = unique(DocAtime)\n",
    "    uTimeDocIdx = [1; indexin(uTimeDocs,DocAtime)[1:end-1]+1] # get first index of unique docs (correct for getting highest)\n",
    "    uDocTimes = EntAtime[uTimeDocIdx] # single times per document\n",
    "    uTimeDocIdxinDocAper = indexin(DocAper,uTimeDocs) # locations of unique time docs in per doc list\n",
    "    TrackTime = uDocTimes[uTimeDocIdxinDocAper]\n",
    "\n",
    "    Tr = Assoc(TrackTime,TrackPer,TrackLoc);\n",
    "                    \n",
    "end"
   ]
  },
  {
   "cell_type": "markdown",
   "metadata": {},
   "source": [
    "Load edge incidence matrix."
   ]
  },
  {
   "cell_type": "code",
   "execution_count": null,
   "metadata": {
    "collapsed": true
   },
   "outputs": [],
   "source": [
    "using JLD2\n",
    "\n",
    "E = load(\"Entity.jld\")[\"E\"]\n",
    "Es = E\n",
    "A = logical(E);"
   ]
  },
  {
   "cell_type": "markdown",
   "metadata": {},
   "source": [
    "Set prefixes and build entity tracks using findtracks function."
   ]
  },
  {
   "cell_type": "code",
   "execution_count": null,
   "metadata": {
    "collapsed": true
   },
   "outputs": [],
   "source": [
    "p = StartsWith(\"PERSON/,\")\n",
    "t = StartsWith(\"TIME/,\")\n",
    "x = StartsWith(\"LOCATION/,\")\n",
    "\n",
    "A = findtracks(E,t,p,x);"
   ]
  },
  {
   "cell_type": "markdown",
   "metadata": {},
   "source": [
    "Track queries (Where have Michael Chang and Javier Sanchez been when?)"
   ]
  },
  {
   "cell_type": "code",
   "execution_count": null,
   "metadata": {
    "collapsed": true
   },
   "outputs": [],
   "source": [
    "p1 = \"PERSON/michael chang,\"\n",
    "p2 = \"PERSON/javier sanchez,\"\n",
    "printFull( A[:,p1*p2] )"
   ]
  },
  {
   "cell_type": "markdown",
   "metadata": {},
   "source": [
    "Track windows (Who was in Austria during this time?)"
   ]
  },
  {
   "cell_type": "code",
   "execution_count": null,
   "metadata": {
    "collapsed": true
   },
   "outputs": [],
   "source": [
    "t = \"TIME/1996-09-03,:,TIME/1996-09-06,\"\n",
    "x = \"LOCATION/austria\"\n",
    "col(A[t,:] == x)"
   ]
  },
  {
   "cell_type": "markdown",
   "metadata": {},
   "source": [
    "### TA3 Graph"
   ]
  },
  {
   "cell_type": "markdown",
   "metadata": {},
   "source": [
    "Compute tracks from entity edge data."
   ]
  },
  {
   "cell_type": "code",
   "execution_count": null,
   "metadata": {
    "collapsed": true
   },
   "outputs": [],
   "source": [
    "function findtrackgraph(Atrack)\n",
    "#findtrackgraph forms graph of locations from Track Associative array.\n",
    "\n",
    "    # Find 1 hop and >1 hop tracks.\n",
    "    AtrackHop = sum(Atrack,1);\n",
    "    Hop1 = col(AtrackHop == 1);\n",
    "    Hop2 = col(AtrackHop > 1); \n",
    "\n",
    "    # Get track list.  Naturally comes out sorted by p.\n",
    "    t1,p1,x1 = find(Atrack[:,Hop1]);\n",
    "    AtrackGraph1 = Assoc(x1,x1,1,(+));\n",
    "\n",
    "    t2,p2,x2 = find(Atrack[:,Hop2]);\n",
    "\n",
    "    # Create matrices and shifted matrices.\n",
    "    p22 = circshift(p2,-1);\n",
    "    x22 = circshift(x2,-1);\n",
    "\n",
    "    # Find where p21 and p22 are the same.\n",
    "    test = p2 .== p22;   \n",
    "    x21 = x2[test];   \n",
    "    x22 = x22[test];   \n",
    "\n",
    "    AtrackGraph2 = Assoc(x21,x22,1);\n",
    "\n",
    "    AtrackGraph = AtrackGraph1 + AtrackGraph2;\n",
    "\n",
    "end"
   ]
  },
  {
   "cell_type": "code",
   "execution_count": null,
   "metadata": {
    "collapsed": true
   },
   "outputs": [],
   "source": [
    "using JLD2,PyPlot\n",
    "\n",
    "# Load edge incidence matrix.\n",
    "E = load(\"Entity.jld\")[\"E\"]\n",
    "E = logical(E);"
   ]
  },
  {
   "cell_type": "markdown",
   "metadata": {},
   "source": [
    "Build entity tracks with findtracks function."
   ]
  },
  {
   "cell_type": "code",
   "execution_count": null,
   "metadata": {
    "collapsed": true
   },
   "outputs": [],
   "source": [
    "p = StartsWith(\"PERSON/,\")\n",
    "t = StartsWith(\"TIME/,\")\n",
    "x = StartsWith(\"LOCATION/,\")\n",
    "\n",
    "A = findtracks(E,t,p,x);"
   ]
  },
  {
   "cell_type": "markdown",
   "metadata": {},
   "source": [
    "Build track graph."
   ]
  },
  {
   "cell_type": "code",
   "execution_count": null,
   "metadata": {
    "collapsed": true
   },
   "outputs": [],
   "source": [
    "G = findtrackgraph(A)\n",
    "print(G > 5)\n",
    "spy(G)"
   ]
  },
  {
   "cell_type": "markdown",
   "metadata": {},
   "source": [
    "Track graph pattern."
   ]
  },
  {
   "cell_type": "code",
   "execution_count": null,
   "metadata": {
    "collapsed": true
   },
   "outputs": [],
   "source": [
    "o = \"ORGANIZATION/international monetary fund,\"\n",
    "p = StartsWith(\"PERSON/,\")\n",
    "Go = findtrackgraph(A[:,col(E[row(E[:,o]),p])])\n",
    "\n",
    "print((Go > 2) & ((Go ./ G) > 0.2))"
   ]
  },
  {
   "cell_type": "code",
   "execution_count": null,
   "metadata": {
    "collapsed": true
   },
   "outputs": [],
   "source": []
  }
 ],
 "metadata": {
  "kernelspec": {
   "display_name": "Julia 0.6.0",
   "language": "julia",
   "name": "julia-0.6"
  },
  "language_info": {
   "file_extension": ".jl",
   "mimetype": "application/julia",
   "name": "julia",
   "version": "0.6.0"
  },
  "latex_envs": {
   "LaTeX_envs_menu_present": true,
   "autocomplete": true,
   "bibliofile": "biblio.bib",
   "cite_by": "apalike",
   "current_citInitial": 1,
   "eqLabelWithNumbers": true,
   "eqNumInitial": 1,
   "hotkeys": {
    "equation": "Ctrl-E",
    "itemize": "Ctrl-I"
   },
   "labels_anchors": false,
   "latex_user_defs": false,
   "report_style_numbering": false,
   "user_envs_cfg": false
  },
  "toc": {
   "nav_menu": {},
   "number_sections": true,
   "sideBar": true,
   "skip_h1_title": false,
   "toc_cell": false,
   "toc_position": {},
   "toc_section_display": "block",
   "toc_window_display": false
  },
  "varInspector": {
   "cols": {
    "lenName": 16,
    "lenType": 16,
    "lenVar": 40
   },
   "kernels_config": {
    "python": {
     "delete_cmd_postfix": "",
     "delete_cmd_prefix": "del ",
     "library": "var_list.py",
     "varRefreshCmd": "print(var_dic_list())"
    },
    "r": {
     "delete_cmd_postfix": ") ",
     "delete_cmd_prefix": "rm(",
     "library": "var_list.r",
     "varRefreshCmd": "cat(var_dic_list()) "
    }
   },
   "types_to_exclude": [
    "module",
    "function",
    "builtin_function_or_method",
    "instance",
    "_Feature"
   ],
   "window_display": false
  }
 },
 "nbformat": 4,
 "nbformat_minor": 2
}
