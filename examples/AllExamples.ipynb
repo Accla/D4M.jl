{
 "cells": [
  {
   "cell_type": "markdown",
   "metadata": {},
   "source": [
    "A collection of examples demonstrating the features of associative arrays and D4M.jl, organized into one handy notebook.\n",
    "<br>\n",
    "<b><u>This isn't exhaustive</u></b> -- <b><u>please suggest more!!</u></b> "
   ]
  },
  {
   "cell_type": "code",
   "execution_count": 1,
   "metadata": {
    "scrolled": false
   },
   "outputs": [
    {
     "name": "stderr",
     "output_type": "stream",
     "text": [
      "┌ Info: Recompiling stale cache file /home/nathan/.julia/compiled/v1.0/D4M/JhFK0.ji for D4M [ca196bdc-a701-11e8-3d50-3b5cc8577617]\n",
      "└ @ Base loading.jl:1190\n"
     ]
    },
    {
     "name": "stdout",
     "output_type": "stream",
     "text": [
      "Database capabilities loaded!\n",
      "D4M loaded!\n"
     ]
    }
   ],
   "source": [
    "using D4M"
   ]
  },
  {
   "cell_type": "markdown",
   "metadata": {},
   "source": [
    "# Intro"
   ]
  },
  {
   "cell_type": "markdown",
   "metadata": {},
   "source": [
    "## Assoc Intro"
   ]
  },
  {
   "cell_type": "markdown",
   "metadata": {},
   "source": [
    "### AI1 Setup"
   ]
  },
  {
   "cell_type": "markdown",
   "metadata": {},
   "source": [
    "Hello! This is a test on the basic Assoc Array construction. Associative array takes on entries of triplets, and it will parse an array of substrings that is divided by char divider.\n",
    "\n",
    "--Please note that this divider is indicated as the last char in the string."
   ]
  },
  {
   "cell_type": "code",
   "execution_count": 2,
   "metadata": {},
   "outputs": [
    {
     "data": {
      "text/plain": [
       "Assoc(Union{AbstractString, Number}[\"a\", \"aa\", \"aaa\", \"b\", \"bb\", \"bbb\"], Union{AbstractString, Number}[\"a\", \"aa\", \"aaa\", \"b\", \"bb\", \"bbb\"], Union{AbstractString, Number}[\"a-a\", \"a-aa\", \"a-aaa\", \"a-b\", \"a-bb\", \"a-bbb\", \"aa-a\", \"aa-aa\", \"aaa-a\", \"aaa-aaa\", \"b-a\", \"b-b\", \"bb-a\", \"bb-bb\", \"bbb-a\", \"bbb-bbb\"], \n",
       "  [1, 1]  =  1\n",
       "  [2, 1]  =  7\n",
       "  [3, 1]  =  9\n",
       "  [4, 1]  =  11\n",
       "  [5, 1]  =  13\n",
       "  [6, 1]  =  15\n",
       "  [1, 2]  =  2\n",
       "  [2, 2]  =  8\n",
       "  [1, 3]  =  3\n",
       "  [3, 3]  =  10\n",
       "  [1, 4]  =  4\n",
       "  [4, 4]  =  12\n",
       "  [1, 5]  =  5\n",
       "  [5, 5]  =  14\n",
       "  [1, 6]  =  6\n",
       "  [6, 6]  =  16)"
      ]
     },
     "execution_count": 2,
     "metadata": {},
     "output_type": "execute_result"
    }
   ],
   "source": [
    "row = \"a,a,a,a,a,a,a,aa,aaa,b,bb,bbb,a,aa,aaa,b,bb,bbb,\"\n",
    "column = \"a,aa,aaa,b,bb,bbb,a,a,a,a,a,a,a,aa,aaa,b,bb,bbb,\"\n",
    "values = \"a-a,a-aa,a-aaa,a-b,a-bb,a-bbb,a-a,aa-a,aaa-a,b-a,bb-a,bbb-a,a-a,aa-aa,aaa-aaa,b-b,bb-bb,bbb-bbb,\"\n",
    "\n",
    "# Create assoc array and list triples.\n",
    "A = Assoc(row,column,values)"
   ]
  },
  {
   "cell_type": "markdown",
   "metadata": {},
   "source": [
    "This is the data structure of the Associative Array Class:"
   ]
  },
  {
   "cell_type": "code",
   "execution_count": 3,
   "metadata": {},
   "outputs": [
    {
     "name": "stdout",
     "output_type": "stream",
     "text": [
      "Assoc\n",
      "  row: Array{Union{AbstractString, Number}}((6,))\n",
      "    1: SubString{String}\n",
      "      string: String \"a,a,a,a,a,a,a,aa,aaa,b,bb,bbb,a,aa,aaa,b,bb,bbb,\"\n",
      "      offset: Int64 0\n",
      "      ncodeunits: Int64 1\n",
      "    2: SubString{String}\n",
      "      string: String \"a,a,a,a,a,a,a,aa,aaa,b,bb,bbb,a,aa,aaa,b,bb,bbb,\"\n",
      "      offset: Int64 14\n",
      "      ncodeunits: Int64 2\n",
      "    3: SubString{String}\n",
      "      string: String \"a,a,a,a,a,a,a,aa,aaa,b,bb,bbb,a,aa,aaa,b,bb,bbb,\"\n",
      "      offset: Int64 17\n",
      "      ncodeunits: Int64 3\n",
      "    4: SubString{String}\n",
      "      string: String \"a,a,a,a,a,a,a,aa,aaa,b,bb,bbb,a,aa,aaa,b,bb,bbb,\"\n",
      "      offset: Int64 21\n",
      "      ncodeunits: Int64 1\n",
      "    5: SubString{String}\n",
      "      string: String \"a,a,a,a,a,a,a,aa,aaa,b,bb,bbb,a,aa,aaa,b,bb,bbb,\"\n",
      "      offset: Int64 23\n",
      "      ncodeunits: Int64 2\n",
      "    6: SubString{String}\n",
      "      string: String \"a,a,a,a,a,a,a,aa,aaa,b,bb,bbb,a,aa,aaa,b,bb,bbb,\"\n",
      "      offset: Int64 26\n",
      "      ncodeunits: Int64 3\n",
      "  col: Array{Union{AbstractString, Number}}((6,))\n",
      "    1: SubString{String}\n",
      "      string: String \"a,aa,aaa,b,bb,bbb,a,a,a,a,a,a,a,aa,aaa,b,bb,bbb,\"\n",
      "      offset: Int64 0\n",
      "      ncodeunits: Int64 1\n",
      "    2: SubString{String}\n",
      "      string: String \"a,aa,aaa,b,bb,bbb,a,a,a,a,a,a,a,aa,aaa,b,bb,bbb,\"\n",
      "      offset: Int64 2\n",
      "      ncodeunits: Int64 2\n",
      "    3: SubString{String}\n",
      "      string: String \"a,aa,aaa,b,bb,bbb,a,a,a,a,a,a,a,aa,aaa,b,bb,bbb,\"\n",
      "      offset: Int64 5\n",
      "      ncodeunits: Int64 3\n",
      "    4: SubString{String}\n",
      "      string: String \"a,aa,aaa,b,bb,bbb,a,a,a,a,a,a,a,aa,aaa,b,bb,bbb,\"\n",
      "      offset: Int64 9\n",
      "      ncodeunits: Int64 1\n",
      "    5: SubString{String}\n",
      "      string: String \"a,aa,aaa,b,bb,bbb,a,a,a,a,a,a,a,aa,aaa,b,bb,bbb,\"\n",
      "      offset: Int64 11\n",
      "      ncodeunits: Int64 2\n",
      "    6: SubString{String}\n",
      "      string: String \"a,aa,aaa,b,bb,bbb,a,a,a,a,a,a,a,aa,aaa,b,bb,bbb,\"\n",
      "      offset: Int64 14\n",
      "      ncodeunits: Int64 3\n",
      "  val: Array{Union{AbstractString, Number}}((16,))\n",
      "    1: SubString{String}\n",
      "      string: String \"a-a,a-aa,a-aaa,a-b,a-bb,a-bbb,a-a,aa-a,aaa-a,b-a,bb-a,bbb-a,a-a,aa-aa,aaa-aaa,b-b,bb-bb,bbb-bbb,\"\n",
      "      offset: Int64 0\n",
      "      ncodeunits: Int64 3\n",
      "    2: SubString{String}\n",
      "      string: String \"a-a,a-aa,a-aaa,a-b,a-bb,a-bbb,a-a,aa-a,aaa-a,b-a,bb-a,bbb-a,a-a,aa-aa,aaa-aaa,b-b,bb-bb,bbb-bbb,\"\n",
      "      offset: Int64 4\n",
      "      ncodeunits: Int64 4\n",
      "    3: SubString{String}\n",
      "      string: String \"a-a,a-aa,a-aaa,a-b,a-bb,a-bbb,a-a,aa-a,aaa-a,b-a,bb-a,bbb-a,a-a,aa-aa,aaa-aaa,b-b,bb-bb,bbb-bbb,\"\n",
      "      offset: Int64 9\n",
      "      ncodeunits: Int64 5\n",
      "    4: SubString{String}\n",
      "      string: String \"a-a,a-aa,a-aaa,a-b,a-bb,a-bbb,a-a,aa-a,aaa-a,b-a,bb-a,bbb-a,a-a,aa-aa,aaa-aaa,b-b,bb-bb,bbb-bbb,\"\n",
      "      offset: Int64 15\n",
      "      ncodeunits: Int64 3\n",
      "    5: SubString{String}\n",
      "      string: String \"a-a,a-aa,a-aaa,a-b,a-bb,a-bbb,a-a,aa-a,aaa-a,b-a,bb-a,bbb-a,a-a,aa-aa,aaa-aaa,b-b,bb-bb,bbb-bbb,\"\n",
      "      offset: Int64 19\n",
      "      ncodeunits: Int64 4\n",
      "    ...\n",
      "    12: SubString{String}\n",
      "      string: String \"a-a,a-aa,a-aaa,a-b,a-bb,a-bbb,a-a,aa-a,aaa-a,b-a,bb-a,bbb-a,a-a,aa-aa,aaa-aaa,b-b,bb-bb,bbb-bbb,\"\n",
      "      offset: Int64 78\n",
      "      ncodeunits: Int64 3\n",
      "    13: SubString{String}\n",
      "      string: String \"a-a,a-aa,a-aaa,a-b,a-bb,a-bbb,a-a,aa-a,aaa-a,b-a,bb-a,bbb-a,a-a,aa-aa,aaa-aaa,b-b,bb-bb,bbb-bbb,\"\n",
      "      offset: Int64 49\n",
      "      ncodeunits: Int64 4\n",
      "    14: SubString{String}\n",
      "      string: String \"a-a,a-aa,a-aaa,a-b,a-bb,a-bbb,a-a,aa-a,aaa-a,b-a,bb-a,bbb-a,a-a,aa-aa,aaa-aaa,b-b,bb-bb,bbb-bbb,\"\n",
      "      offset: Int64 82\n",
      "      ncodeunits: Int64 5\n",
      "    15: SubString{String}\n",
      "      string: String \"a-a,a-aa,a-aaa,a-b,a-bb,a-bbb,a-a,aa-a,aaa-a,b-a,bb-a,bbb-a,a-a,aa-aa,aaa-aaa,b-b,bb-bb,bbb-bbb,\"\n",
      "      offset: Int64 54\n",
      "      ncodeunits: Int64 5\n",
      "    16: SubString{String}\n",
      "      string: String \"a-a,a-aa,a-aaa,a-b,a-bb,a-bbb,a-a,aa-a,aaa-a,b-a,bb-a,bbb-a,a-a,aa-aa,aaa-aaa,b-b,bb-bb,bbb-bbb,\"\n",
      "      offset: Int64 88\n",
      "      ncodeunits: Int64 7\n",
      "  A: SparseArrays.SparseMatrixCSC{Int64,Int64}\n",
      "    m: Int64 6\n",
      "    n: Int64 6\n",
      "    colptr: Array{Int64}((7,)) [1, 7, 9, 11, 13, 15, 17]\n",
      "    rowval: Array{Int64}((16,)) [1, 2, 3, 4, 5, 6, 1, 2, 1, 3, 1, 4, 1, 5, 1, 6]\n",
      "    nzval: Array{Int64}((16,)) [1, 7, 9, 11, 13, 15, 2, 8, 3, 10, 4, 12, 5, 14, 6, 16]\n"
     ]
    }
   ],
   "source": [
    "dump(A)"
   ]
  },
  {
   "cell_type": "markdown",
   "metadata": {},
   "source": [
    "The printFull function allows it to be printed in a tabular form."
   ]
  },
  {
   "cell_type": "code",
   "execution_count": 4,
   "metadata": {},
   "outputs": [
    {
     "data": {
      "text/plain": [
       "7×7 Array{Union{AbstractString, Number},2}:\n",
       " \"\"     \"a\"      \"aa\"     \"aaa\"      \"b\"    \"bb\"     \"bbb\"    \n",
       " \"a\"    \"a-a\"    \"a-aa\"   \"a-aaa\"    \"a-b\"  \"a-bb\"   \"a-bbb\"  \n",
       " \"aa\"   \"aa-a\"   \"aa-aa\"  \"\"         \"\"     \"\"       \"\"       \n",
       " \"aaa\"  \"aaa-a\"  \"\"       \"aaa-aaa\"  \"\"     \"\"       \"\"       \n",
       " \"b\"    \"b-a\"    \"\"       \"\"         \"b-b\"  \"\"       \"\"       \n",
       " \"bb\"   \"bb-a\"   \"\"       \"\"         \"\"     \"bb-bb\"  \"\"       \n",
       " \"bbb\"  \"bbb-a\"  \"\"       \"\"         \"\"     \"\"       \"bbb-bbb\""
      ]
     },
     "metadata": {},
     "output_type": "display_data"
    }
   ],
   "source": [
    "printFull(A)"
   ]
  },
  {
   "cell_type": "markdown",
   "metadata": {},
   "source": [
    "When written into CSV form, the data is stored in the tabular form."
   ]
  },
  {
   "cell_type": "code",
   "execution_count": 5,
   "metadata": {},
   "outputs": [],
   "source": [
    "WriteCSV(A,\"A.csv\")"
   ]
  },
  {
   "cell_type": "markdown",
   "metadata": {},
   "source": [
    "### AI2 Subsref"
   ]
  },
  {
   "cell_type": "markdown",
   "metadata": {},
   "source": [
    "This is a test on the subreferencing of Associative Array."
   ]
  },
  {
   "cell_type": "code",
   "execution_count": 2,
   "metadata": {},
   "outputs": [
    {
     "data": {
      "text/plain": [
       "Assoc(Union{AbstractString, Number}[\"a\", \"aa\", \"aaa\", \"b\", \"bb\", \"bbb\"], Union{AbstractString, Number}[\"a\", \"aa\", \"aaa\", \"b\", \"bb\", \"bbb\"], Union{AbstractString, Number}[\"a-a\", \"a-aa\", \"a-aaa\", \"a-b\", \"a-bb\", \"a-bbb\", \"aa-a\", \"aa-aa\", \"aaa-a\", \"aaa-aaa\", \"b-a\", \"b-b\", \"bb-a\", \"bb-bb\", \"bbb-a\", \"bbb-bbb\"], \n",
       "  [1, 1]  =  1\n",
       "  [2, 1]  =  7\n",
       "  [3, 1]  =  9\n",
       "  [4, 1]  =  11\n",
       "  [5, 1]  =  13\n",
       "  [6, 1]  =  15\n",
       "  [1, 2]  =  2\n",
       "  [2, 2]  =  8\n",
       "  [1, 3]  =  3\n",
       "  [3, 3]  =  10\n",
       "  [1, 4]  =  4\n",
       "  [4, 4]  =  12\n",
       "  [1, 5]  =  5\n",
       "  [5, 5]  =  14\n",
       "  [1, 6]  =  6\n",
       "  [6, 6]  =  16)"
      ]
     },
     "execution_count": 2,
     "metadata": {},
     "output_type": "execute_result"
    }
   ],
   "source": [
    "A = ReadCSV(\"A.csv\")"
   ]
  },
  {
   "cell_type": "markdown",
   "metadata": {},
   "source": [
    "Get rows a and b."
   ]
  },
  {
   "cell_type": "code",
   "execution_count": 7,
   "metadata": {},
   "outputs": [
    {
     "name": "stdout",
     "output_type": "stream",
     "text": [
      "  [a, a  ]  =  a-a\n",
      "  [b, a  ]  =  b-a\n",
      "  [a, aa ]  =  a-aa\n",
      "  [a, aaa]  =  a-aaa\n",
      "  [a, b  ]  =  a-b\n",
      "  [b, b  ]  =  b-b\n",
      "  [a, bb ]  =  a-bb\n",
      "  [a, bbb]  =  a-bbb\n"
     ]
    }
   ],
   "source": [
    "A1r = A[\"a,b,\",:]\n",
    "\n",
    "print(A1r)"
   ]
  },
  {
   "cell_type": "markdown",
   "metadata": {},
   "source": [
    "Get rows containing a and columns 1 thru 3 (not yet supported)."
   ]
  },
  {
   "cell_type": "code",
   "execution_count": null,
   "metadata": {
    "collapsed": true
   },
   "outputs": [],
   "source": [
    "#A2r = A[\"a *,\",1:3]\n",
    "\n",
    "#print(A2r)"
   ]
  },
  {
   "cell_type": "markdown",
   "metadata": {},
   "source": [
    "Get rows a to b."
   ]
  },
  {
   "cell_type": "code",
   "execution_count": 8,
   "metadata": {},
   "outputs": [
    {
     "name": "stdout",
     "output_type": "stream",
     "text": [
      "  [a  , a  ]  =  a-a\n",
      "  [aa , a  ]  =  aa-a\n",
      "  [aaa, a  ]  =  aaa-a\n",
      "  [b  , a  ]  =  b-a\n",
      "  [a  , aa ]  =  a-aa\n",
      "  [aa , aa ]  =  aa-aa\n",
      "  [a  , aaa]  =  a-aaa\n",
      "  [aaa, aaa]  =  aaa-aaa\n",
      "  [a  , b  ]  =  a-b\n",
      "  [b  , b  ]  =  b-b\n",
      "  [a  , bb ]  =  a-bb\n",
      "  [a  , bbb]  =  a-bbb\n"
     ]
    }
   ],
   "source": [
    "A3r = A[\"a,:,b,\",:]\n",
    "\n",
    "print(A3r)"
   ]
  },
  {
   "cell_type": "markdown",
   "metadata": {},
   "source": [
    "Get rows starting with a or bb."
   ]
  },
  {
   "cell_type": "code",
   "execution_count": 9,
   "metadata": {},
   "outputs": [
    {
     "name": "stdout",
     "output_type": "stream",
     "text": [
      "  [a  , a  ]  =  a-a\n",
      "  [aa , a  ]  =  aa-a\n",
      "  [aaa, a  ]  =  aaa-a\n",
      "  [bb , a  ]  =  bb-a\n",
      "  [bbb, a  ]  =  bbb-a\n",
      "  [a  , aa ]  =  a-aa\n",
      "  [aa , aa ]  =  aa-aa\n",
      "  [a  , aaa]  =  a-aaa\n",
      "  [aaa, aaa]  =  aaa-aaa\n",
      "  [a  , b  ]  =  a-b\n",
      "  [a  , bb ]  =  a-bb\n",
      "  [bb , bb ]  =  bb-bb\n",
      "  [a  , bbb]  =  a-bbb\n",
      "  [bbb, bbb]  =  bbb-bbb\n"
     ]
    }
   ],
   "source": [
    "A4r = A[StartsWith(\"a,bb,\"),:]\n",
    "\n",
    "print(A4r)"
   ]
  },
  {
   "cell_type": "markdown",
   "metadata": {},
   "source": [
    "Get cols a and b."
   ]
  },
  {
   "cell_type": "code",
   "execution_count": 10,
   "metadata": {},
   "outputs": [
    {
     "name": "stdout",
     "output_type": "stream",
     "text": [
      "  [a  , a]  =  a-a\n",
      "  [aa , a]  =  aa-a\n",
      "  [aaa, a]  =  aaa-a\n",
      "  [b  , a]  =  b-a\n",
      "  [bb , a]  =  bb-a\n",
      "  [bbb, a]  =  bbb-a\n",
      "  [a  , b]  =  a-b\n",
      "  [b  , b]  =  b-b\n"
     ]
    }
   ],
   "source": [
    "A1c = A[:,\"a,b,\"]\n",
    "\n",
    "print(A1c)"
   ]
  },
  {
   "cell_type": "markdown",
   "metadata": {},
   "source": [
    "Get cols a to b."
   ]
  },
  {
   "cell_type": "code",
   "execution_count": 11,
   "metadata": {},
   "outputs": [
    {
     "name": "stdout",
     "output_type": "stream",
     "text": [
      "  [a  , a  ]  =  a-a\n",
      "  [aa , a  ]  =  aa-a\n",
      "  [aaa, a  ]  =  aaa-a\n",
      "  [b  , a  ]  =  b-a\n",
      "  [bb , a  ]  =  bb-a\n",
      "  [bbb, a  ]  =  bbb-a\n",
      "  [a  , aa ]  =  a-aa\n",
      "  [aa , aa ]  =  aa-aa\n",
      "  [a  , aaa]  =  a-aaa\n",
      "  [aaa, aaa]  =  aaa-aaa\n",
      "  [a  , b  ]  =  a-b\n",
      "  [b  , b  ]  =  b-b\n"
     ]
    }
   ],
   "source": [
    "A3c = A[:,\"a,:,b,\"]\n",
    "\n",
    "print(A3c)"
   ]
  },
  {
   "cell_type": "markdown",
   "metadata": {},
   "source": [
    "Get cols starting with a or b."
   ]
  },
  {
   "cell_type": "code",
   "execution_count": 13,
   "metadata": {},
   "outputs": [
    {
     "name": "stdout",
     "output_type": "stream",
     "text": [
      "  [a  , a  ]  =  a-a\n",
      "  [aa , a  ]  =  aa-a\n",
      "  [aaa, a  ]  =  aaa-a\n",
      "  [b  , a  ]  =  b-a\n",
      "  [bb , a  ]  =  bb-a\n",
      "  [bbb, a  ]  =  bbb-a\n",
      "  [a  , aa ]  =  a-aa\n",
      "  [aa , aa ]  =  aa-aa\n",
      "  [a  , aaa]  =  a-aaa\n",
      "  [aaa, aaa]  =  aaa-aaa\n",
      "  [a  , bb ]  =  a-bb\n",
      "  [bb , bb ]  =  bb-bb\n",
      "  [a  , bbb]  =  a-bbb\n",
      "  [bbb, bbb]  =  bbb-bbb\n"
     ]
    }
   ],
   "source": [
    "A4c = A[:,StartsWith(\"a,bb,\")]\n",
    "\n",
    "print(A4c)"
   ]
  },
  {
   "cell_type": "markdown",
   "metadata": {},
   "source": [
    "_TODO filter both rows and columns simultaneously_"
   ]
  },
  {
   "cell_type": "code",
   "execution_count": null,
   "metadata": {},
   "outputs": [],
   "source": []
  },
  {
   "cell_type": "markdown",
   "metadata": {},
   "source": [
    "Using regexes:"
   ]
  },
  {
   "cell_type": "code",
   "execution_count": 31,
   "metadata": {},
   "outputs": [
    {
     "name": "stdout",
     "output_type": "stream",
     "text": [
      "  [aa , aa ]  =  aa-aa\n",
      "  [aaa, aaa]  =  aaa-aaa\n"
     ]
    }
   ],
   "source": [
    "A5 = A[r\"a{2,}\",r\"a{2}\"]\n",
    "\n",
    "print(A5)"
   ]
  },
  {
   "cell_type": "code",
   "execution_count": 118,
   "metadata": {},
   "outputs": [
    {
     "data": {
      "text/plain": [
       "2-element Array{Union{AbstractString, Number},1}:\n",
       " \"aa\" \n",
       " \"aaa\""
      ]
     },
     "execution_count": 118,
     "metadata": {},
     "output_type": "execute_result"
    }
   ],
   "source": [
    "A.row[findall( x -> occursin(i,x),A.row)]"
   ]
  },
  {
   "cell_type": "markdown",
   "metadata": {},
   "source": [
    "### AI3 Math"
   ]
  },
  {
   "cell_type": "markdown",
   "metadata": {},
   "source": [
    "This section demos some of the mathematical operations on Associative Array."
   ]
  },
  {
   "cell_type": "markdown",
   "metadata": {},
   "source": [
    "`logical` converts entries into 1 if they exist, and 0 if they don't."
   ]
  },
  {
   "cell_type": "code",
   "execution_count": 15,
   "metadata": {},
   "outputs": [
    {
     "data": {
      "text/plain": [
       "7×7 Array{Union{AbstractString, Number},2}:\n",
       " \"\"      \"a\"   \"aa\"   \"aaa\"   \"b\"   \"bb\"   \"bbb\"\n",
       " \"a\"    1     1      1       1     1      1     \n",
       " \"aa\"   1     1      0       0     0      0     \n",
       " \"aaa\"  1     0      1       0     0      0     \n",
       " \"b\"    1     0      0       1     0      0     \n",
       " \"bb\"   1     0      0       0     1      0     \n",
       " \"bbb\"  1     0      0       0     0      1     "
      ]
     },
     "metadata": {},
     "output_type": "display_data"
    }
   ],
   "source": [
    "A = ReadCSV(\"A.csv\")\n",
    "A = logical(A)\n",
    "\n",
    "printFull(A)"
   ]
  },
  {
   "cell_type": "markdown",
   "metadata": {},
   "source": [
    "We can sum down rows and across columns."
   ]
  },
  {
   "cell_type": "code",
   "execution_count": 18,
   "metadata": {},
   "outputs": [
    {
     "data": {
      "text/plain": [
       "2×7 Array{Union{AbstractString, Number},2}:\n",
       "  \"\"   \"a\"   \"aa\"   \"aaa\"   \"b\"   \"bb\"   \"bbb\"\n",
       " 1.0  6     2      2       2     2      2     "
      ]
     },
     "metadata": {},
     "output_type": "display_data"
    },
    {
     "data": {
      "text/plain": [
       "7×2 Array{Union{AbstractString, Number},2}:\n",
       " \"\"     1.0\n",
       " \"a\"    6  \n",
       " \"aa\"   2  \n",
       " \"aaa\"  2  \n",
       " \"b\"    2  \n",
       " \"bb\"   2  \n",
       " \"bbb\"  2  "
      ]
     },
     "metadata": {},
     "output_type": "display_data"
    }
   ],
   "source": [
    "printFull(sum(A,1)) # sum across rows; we get the number of entries in each column\n",
    "printFull(sum(A,2)) # sum across columns; we get the number of entries in each row"
   ]
  },
  {
   "cell_type": "markdown",
   "metadata": {},
   "source": [
    "Compute a simple join."
   ]
  },
  {
   "cell_type": "code",
   "execution_count": 19,
   "metadata": {},
   "outputs": [
    {
     "data": {
      "text/plain": [
       "3×2 Array{Union{AbstractString, Number},2}:\n",
       " \"\"   1.0\n",
       " \"a\"  1.0\n",
       " \"b\"  1.0"
      ]
     },
     "metadata": {},
     "output_type": "display_data"
    }
   ],
   "source": [
    "Aa = A[:,\"a,\"]\n",
    "Ab = A[:,\"b,\"]\n",
    "Aab = nocol(Aa) & nocol(Ab)\n",
    "\n",
    "printFull(Aab)"
   ]
  },
  {
   "cell_type": "markdown",
   "metadata": {},
   "source": [
    "Compute a histogram (facets) and normalized histogram of other columns that are in rows with both a and b."
   ]
  },
  {
   "cell_type": "code",
   "execution_count": null,
   "metadata": {
    "collapsed": true
   },
   "outputs": [],
   "source": [
    "F =  ( Aab )' * A\n",
    "printFull(F)\n",
    "\n",
    "Fn = F ./ sum(A,1)\n",
    "printFull(Fn)"
   ]
  },
  {
   "cell_type": "markdown",
   "metadata": {},
   "source": [
    "Compute correlation"
   ]
  },
  {
   "cell_type": "code",
   "execution_count": null,
   "metadata": {
    "collapsed": true
   },
   "outputs": [],
   "source": [
    "AtA = sqIn(A)\n",
    "d = diag(getadj(AtA))\n",
    "AtA = putAdj(AtA,getadj(AtA) - sparse(diagm(d)))\n",
    "printFull(AtA)"
   ]
  },
  {
   "cell_type": "markdown",
   "metadata": {},
   "source": [
    "### AI4 Advanced Constsruction"
   ]
  },
  {
   "cell_type": "markdown",
   "metadata": {},
   "source": [
    "Mixed string and numeric associative arrays."
   ]
  },
  {
   "cell_type": "code",
   "execution_count": 1,
   "metadata": {},
   "outputs": [
    {
     "data": {
      "text/plain": [
       "14×1 LinearAlgebra.Adjoint{Int64,Array{Int64,2}}:\n",
       " 1\n",
       " 1\n",
       " 1\n",
       " 1\n",
       " 4\n",
       " 3\n",
       " 2\n",
       " 1\n",
       " 4\n",
       " 5\n",
       " 6\n",
       " 6\n",
       " 6\n",
       " 6"
      ]
     },
     "execution_count": 1,
     "metadata": {},
     "output_type": "execute_result"
    }
   ],
   "source": [
    "# String  vectors *must* be ROW vectors\n",
    "iStr =  \"01,02,03,04,21,22,23,24,41,51,61,62,63,64,\"\n",
    "\n",
    "# Numeric vectors *must* be COLUMN vectors\n",
    "iNum =  [ 1  1  1  1  4  3  2  1 4  5  6  6  6  6 ]'"
   ]
  },
  {
   "cell_type": "markdown",
   "metadata": {},
   "source": [
    "Mixed type empty arrays."
   ]
  },
  {
   "cell_type": "code",
   "execution_count": null,
   "metadata": {
    "collapsed": true
   },
   "outputs": [],
   "source": [
    "# All empty.\n",
    "A00 = Assoc(\"\",\"\",\"\")\n",
    "\n",
    "# Empty row.\n",
    "A01 = Assoc(\"\",iStr,iNum)\n",
    "\n",
    "# Empty value.\n",
    "A02 = Assoc(iNum,iStr,\"\")\n",
    "\n",
    "# Empty column and value.\n",
    "A03 = Assoc(iNum,[],\"\")\n",
    "\n",
    "# All empty.\n",
    "A04 = Assoc(\"\",[],[])\n",
    "\n",
    "# All empty.\n",
    "A05 = Assoc(\"\",\"\",[])\n",
    "\n",
    "# row and value empty.\n",
    "A06 = Assoc(\"\",iNum,[])\n"
   ]
  },
  {
   "cell_type": "markdown",
   "metadata": {},
   "source": [
    "Mixed type non-empty arrays. (Commented out cells are not yet supported)"
   ]
  },
  {
   "cell_type": "markdown",
   "metadata": {},
   "source": [
    "String scalar,  string vector,  numeric vector."
   ]
  },
  {
   "cell_type": "code",
   "execution_count": null,
   "metadata": {
    "collapsed": true
   },
   "outputs": [],
   "source": [
    "# A11 = Assoc(\"a,\",iStr,iNum)\n",
    "\n",
    "# printFull(A11)"
   ]
  },
  {
   "cell_type": "markdown",
   "metadata": {},
   "source": [
    "Numeric vector, string vector,  string scalar."
   ]
  },
  {
   "cell_type": "code",
   "execution_count": null,
   "metadata": {
    "collapsed": true
   },
   "outputs": [],
   "source": [
    "#A12 = Assoc(iNum,iStr,\"a,\")\n",
    "\n",
    "# printFull(A12)"
   ]
  },
  {
   "cell_type": "markdown",
   "metadata": {},
   "source": [
    "Numeric vector, numeric scalar, string scalar."
   ]
  },
  {
   "cell_type": "code",
   "execution_count": null,
   "metadata": {
    "collapsed": true
   },
   "outputs": [],
   "source": [
    "#A13 = Assoc(iNum,1,\"a,\")\n",
    "\n",
    "# printFull(A13)"
   ]
  },
  {
   "cell_type": "markdown",
   "metadata": {},
   "source": [
    "String scalar,  numeric scalar, numeric scalar."
   ]
  },
  {
   "cell_type": "code",
   "execution_count": null,
   "metadata": {
    "collapsed": true
   },
   "outputs": [],
   "source": [
    "A14 = Assoc(\"a,\",1,1)\n",
    "\n",
    "printFull(A14)"
   ]
  },
  {
   "cell_type": "markdown",
   "metadata": {},
   "source": [
    "String scalar,  string scalar,  numeric scalar."
   ]
  },
  {
   "cell_type": "code",
   "execution_count": null,
   "metadata": {
    "collapsed": true
   },
   "outputs": [],
   "source": [
    "A15 = Assoc(\"a,\",\"a,\",1)\n",
    "\n",
    "printFull(A15)"
   ]
  },
  {
   "cell_type": "markdown",
   "metadata": {},
   "source": [
    "String scalar,  numeric vector, numeric scalar."
   ]
  },
  {
   "cell_type": "code",
   "execution_count": null,
   "metadata": {
    "collapsed": true
   },
   "outputs": [],
   "source": [
    "#A16 = Assoc(\"a,\",iNum,1)\n",
    "\n",
    "# printFull(A16)"
   ]
  },
  {
   "cell_type": "markdown",
   "metadata": {
    "heading_collapsed": true
   },
   "source": [
    "## Edge Art"
   ]
  },
  {
   "cell_type": "markdown",
   "metadata": {
    "hidden": true
   },
   "source": [
    "### EA1 Graph"
   ]
  },
  {
   "cell_type": "markdown",
   "metadata": {
    "hidden": true
   },
   "source": [
    "Read CSV file of an incidence matrix into an associative array. Filter to get just vertices, and convert to actual 1's and 0's so we can do math. <br> (Incidence matrices map each vertex/edge pair to a 1 if the vertex is incident to the edge, and 0 otherwise)"
   ]
  },
  {
   "cell_type": "code",
   "execution_count": 2,
   "metadata": {
    "hidden": true
   },
   "outputs": [
    {
     "data": {
      "text/plain": [
       "20×23 Array{Union{AbstractString, Number},2}:\n",
       " \"\"    \"Color\"   \"Order\"  \"V01\"  \"V02\"  …  \"V16\"  \"V17\"  \"V18\"  \"V19\"  \"V20\"\n",
       " \"B1\"  \"Blue\"    \"2\"      \"1\"    \"1\"       \"\"     \"\"     \"\"     \"\"     \"\"   \n",
       " \"B2\"  \"Blue\"    \"2\"      \"\"     \"\"        \"\"     \"\"     \"\"     \"\"     \"\"   \n",
       " \"G1\"  \"Green\"   \"2\"      \"1\"    \"1\"       \"\"     \"\"     \"\"     \"\"     \"\"   \n",
       " \"G2\"  \"Green\"   \"2\"      \"\"     \"\"        \"\"     \"\"     \"\"     \"\"     \"\"   \n",
       " \"O1\"  \"Orange\"  \"2\"      \"1\"    \"1\"    …  \"\"     \"\"     \"\"     \"\"     \"\"   \n",
       " \"O2\"  \"Orange\"  \"2\"      \"1\"    \"1\"       \"\"     \"\"     \"\"     \"\"     \"\"   \n",
       " \"O3\"  \"Orange\"  \"2\"      \"\"     \"\"        \"\"     \"\"     \"\"     \"\"     \"\"   \n",
       " \"O4\"  \"Orange\"  \"2\"      \"\"     \"\"        \"\"     \"\"     \"\"     \"\"     \"\"   \n",
       " \"O5\"  \"Orange\"  \"1\"      \"\"     \"1\"       \"1\"    \"\"     \"\"     \"\"     \"1\"  \n",
       " \"P1\"  \"Pink\"    \"2\"      \"1\"    \"1\"    …  \"\"     \"\"     \"\"     \"\"     \"\"   \n",
       " \"P2\"  \"Pink\"    \"2\"      \"\"     \"\"        \"\"     \"\"     \"\"     \"\"     \"\"   \n",
       " \"P3\"  \"Pink\"    \"2\"      \"\"     \"\"        \"\"     \"\"     \"\"     \"\"     \"\"   \n",
       " \"P4\"  \"Pink\"    \"2\"      \"\"     \"1\"       \"\"     \"\"     \"\"     \"\"     \"\"   \n",
       " \"P5\"  \"Pink\"    \"2\"      \"\"     \"1\"       \"\"     \"\"     \"\"     \"\"     \"\"   \n",
       " \"P6\"  \"Pink\"    \"2\"      \"\"     \"\"     …  \"1\"    \"1\"    \"\"     \"\"     \"\"   \n",
       " \"P7\"  \"Pink\"    \"3\"      \"\"     \"\"        \"\"     \"\"     \"1\"    \"\"     \"\"   \n",
       " \"P8\"  \"Pink\"    \"3\"      \"\"     \"\"        \"1\"    \"\"     \"\"     \"1\"    \"\"   \n",
       " \"S1\"  \"Silver\"  \"2\"      \"1\"    \"1\"       \"\"     \"\"     \"\"     \"\"     \"\"   \n",
       " \"S2\"  \"Silver\"  \"2\"      \"\"     \"\"        \"\"     \"\"     \"\"     \"\"     \"\"   "
      ]
     },
     "metadata": {},
     "output_type": "display_data"
    },
    {
     "data": {
      "text/plain": [
       "20×21 Array{Union{AbstractString, Number},2}:\n",
       " \"\"     \"V01\"   \"V02\"   \"V03\"   \"V04\"  …   \"V17\"   \"V18\"   \"V19\"   \"V20\"\n",
       " \"B1\"  1       1       1       0          0       0       0       0     \n",
       " \"B2\"  0       0       0       1          0       0       0       0     \n",
       " \"G1\"  1       1       1       0          0       0       0       0     \n",
       " \"G2\"  0       0       0       1          0       0       0       0     \n",
       " \"O1\"  1       1       1       0       …  0       0       0       0     \n",
       " \"O2\"  1       1       1       0          0       0       0       0     \n",
       " \"O3\"  0       0       0       1          0       0       0       0     \n",
       " \"O4\"  0       0       0       1          0       0       0       0     \n",
       " \"O5\"  0       1       0       0          0       0       0       1     \n",
       " \"P1\"  1       1       1       0       …  0       0       0       0     \n",
       " \"P2\"  0       0       0       1          0       0       0       0     \n",
       " \"P3\"  0       0       0       0          0       0       0       0     \n",
       " \"P4\"  0       1       0       0          0       0       0       0     \n",
       " \"P5\"  0       1       0       0          0       0       0       0     \n",
       " \"P6\"  0       0       0       0       …  1       0       0       0     \n",
       " \"P7\"  0       0       0       0          0       1       0       0     \n",
       " \"P8\"  0       0       0       0          0       0       1       0     \n",
       " \"S1\"  1       1       1       0          0       0       0       0     \n",
       " \"S2\"  0       0       0       1          0       0       0       0     "
      ]
     },
     "metadata": {},
     "output_type": "display_data"
    }
   ],
   "source": [
    "E = ReadCSV(\"1Intro/2EdgeArt/Edge.csv\")\n",
    "printFull(E)\n",
    "\n",
    "Ev = logical( E[:, StartsWith(\"V,\")] )\n",
    "printFull(Ev)"
   ]
  },
  {
   "cell_type": "markdown",
   "metadata": {
    "hidden": true
   },
   "source": [
    "Compute vertex adjacency matrix (through some graph theory magic). `sqIn(A) = transpose(A) * A` <br> The resulting matrix's non-diagonal entries represent how many edges there are between two vertices, and its diagonal entries represent how many edges pass through the vertex (perhaps multiple times). (see https://math.stackexchange.com/questions/1231144/what-is-the-special-of-product-of-the-incidence-matrix-and-its-transpose-for-an)"
   ]
  },
  {
   "cell_type": "code",
   "execution_count": 3,
   "metadata": {
    "hidden": true,
    "scrolled": true
   },
   "outputs": [
    {
     "data": {
      "text/plain": [
       "21×21 Array{Union{AbstractString, Number},2}:\n",
       " \"\"      \"V01\"   \"V02\"   \"V03\"   \"V04\"  …   \"V17\"   \"V18\"   \"V19\"   \"V20\"\n",
       " \"V01\"  6       6       6       0          0       0       0       0     \n",
       " \"V02\"  6       9       6       0          0       0       0       1     \n",
       " \"V03\"  6       6       6       0          0       0       0       0     \n",
       " \"V04\"  0       0       0       6          0       0       0       0     \n",
       " \"V05\"  0       0       0       6       …  0       1       0       0     \n",
       " \"V06\"  0       1       0       6          0       0       0       1     \n",
       " \"V07\"  0       0       0       6          0       0       1       0     \n",
       " \"V08\"  0       0       0       6          0       0       0       0     \n",
       " \"V09\"  0       1       0       0          0       0       0       1     \n",
       " \"V10\"  0       1       0       0       …  0       0       0       0     \n",
       " \"V11\"  0       1       0       0          0       0       0       1     \n",
       " \"V12\"  0       1       0       0          0       0       0       0     \n",
       " \"V13\"  0       1       0       0          0       0       0       0     \n",
       " \"V14\"  0       0       0       0          0       0       0       0     \n",
       " \"V15\"  0       0       0       0       …  1       1       0       0     \n",
       " \"V16\"  0       1       0       0          1       0       1       1     \n",
       " \"V17\"  0       0       0       0          1       0       0       0     \n",
       " \"V18\"  0       0       0       0          0       1       0       0     \n",
       " \"V19\"  0       0       0       0          0       0       1       0     \n",
       " \"V20\"  0       1       0       0       …  0       0       0       1     "
      ]
     },
     "metadata": {},
     "output_type": "display_data"
    }
   ],
   "source": [
    "Av = sqIn(Ev)\n",
    "printFull(Av)"
   ]
  },
  {
   "cell_type": "markdown",
   "metadata": {},
   "source": [
    "Compute degrees of each node."
   ]
  },
  {
   "cell_type": "code",
   "execution_count": 4,
   "metadata": {},
   "outputs": [
    {
     "data": {
      "text/plain": [
       "Assoc(Union{AbstractString, Number}[\"V01\", \"V02\", \"V03\", \"V04\", \"V05\", \"V06\", \"V07\", \"V08\", \"V09\", \"V10\", \"V11\", \"V12\", \"V13\", \"V14\", \"V15\", \"V16\", \"V17\", \"V18\", \"V19\", \"V20\"], Union{AbstractString, Number}[1.0], Union{AbstractString, Number}[1.0], \n",
       "  [1 ,  1]  =  18\n",
       "  [2 ,  1]  =  29\n",
       "  [3 ,  1]  =  18\n",
       "  [4 ,  1]  =  30\n",
       "  [5 ,  1]  =  33\n",
       "  [6 ,  1]  =  36\n",
       "  [7 ,  1]  =  33\n",
       "  [8 ,  1]  =  30\n",
       "  [9 ,  1]  =  6\n",
       "  [10,  1]  =  6\n",
       "  [11,  1]  =  10\n",
       "  [12,  1]  =  3\n",
       "  [13,  1]  =  7\n",
       "  [14,  1]  =  4\n",
       "  [15,  1]  =  6\n",
       "  [16,  1]  =  12\n",
       "  [17,  1]  =  3\n",
       "  [18,  1]  =  3\n",
       "  [19,  1]  =  3\n",
       "  [20,  1]  =  6)"
      ]
     },
     "execution_count": 4,
     "metadata": {},
     "output_type": "execute_result"
    }
   ],
   "source": [
    "outdeg = sum(Av, 2)"
   ]
  },
  {
   "cell_type": "code",
   "execution_count": 5,
   "metadata": {},
   "outputs": [
    {
     "data": {
      "text/plain": [
       "2-element Array{String,1}:\n",
       " \"V01\"\n",
       " \"V20\""
      ]
     },
     "execution_count": 5,
     "metadata": {},
     "output_type": "execute_result"
    }
   ],
   "source": [
    "vk = [\"V01\", \"V20\"]"
   ]
  },
  {
   "cell_type": "code",
   "execution_count": 6,
   "metadata": {
    "scrolled": true
   },
   "outputs": [
    {
     "data": {
      "text/html": [
       "getindex(A::<b>Assoc</b>, i::<b>AbstractString</b>, j::<b>Union{Colon, Int64, AbstractRange, Array{Int64,N} where N, Array{Union{AbstractString, Number},N} where N}</b>) in D4M at <a href=\"https://github.com/n8kim1/D4M.jl/tree/0882d47bae8a5f3bd1945f34ae3c2e6d5be054b5//src/Assoc/getindex.jl#L84\" target=\"_blank\">/home/nathan/Documents/UROP/D4M.jl/src/Assoc/getindex.jl:84</a>"
      ],
      "text/plain": [
       "getindex(A::Assoc, i::AbstractString, j::Union{Colon, Int64, AbstractRange, Array{Int64,N} where N, Array{Union{AbstractString, Number},N} where N}) in D4M at /home/nathan/Documents/UROP/D4M.jl/src/Assoc/getindex.jl:84"
      ]
     },
     "execution_count": 6,
     "metadata": {},
     "output_type": "execute_result"
    }
   ],
   "source": [
    "@which outdeg[\"V01,\", :]"
   ]
  },
  {
   "cell_type": "code",
   "execution_count": 7,
   "metadata": {},
   "outputs": [],
   "source": [
    "Aout=Dict()\n",
    "for v in Av.row\n",
    "    Aout[v] = find(Av[v * string(','), v * string(',')])[3]\n",
    "end"
   ]
  },
  {
   "cell_type": "code",
   "execution_count": 8,
   "metadata": {},
   "outputs": [
    {
     "data": {
      "text/plain": [
       "Dict{Any,Any} with 20 entries:\n",
       "  \"V07\" => [7]\n",
       "  \"V16\" => [3]\n",
       "  \"V17\" => [1]\n",
       "  \"V04\" => [6]\n",
       "  \"V14\" => [1]\n",
       "  \"V18\" => [1]\n",
       "  \"V02\" => [9]\n",
       "  \"V09\" => [1]\n",
       "  \"V08\" => [6]\n",
       "  \"V01\" => [6]\n",
       "  \"V05\" => [7]\n",
       "  \"V11\" => [2]\n",
       "  \"V12\" => [1]\n",
       "  \"V19\" => [1]\n",
       "  \"V03\" => [6]\n",
       "  \"V15\" => [2]\n",
       "  \"V06\" => [7]\n",
       "  \"V20\" => [1]\n",
       "  \"V10\" => [2]\n",
       "  \"V13\" => [2]"
      ]
     },
     "execution_count": 8,
     "metadata": {},
     "output_type": "execute_result"
    }
   ],
   "source": [
    "Aout"
   ]
  },
  {
   "cell_type": "code",
   "execution_count": 9,
   "metadata": {},
   "outputs": [],
   "source": [
    "Adiag=[]\n",
    "for v in Av.row\n",
    "    push!(Adiag, find(Av[v * string(','), v * string(',')])[3][1])\n",
    "end"
   ]
  },
  {
   "cell_type": "code",
   "execution_count": 10,
   "metadata": {},
   "outputs": [
    {
     "data": {
      "text/plain": [
       "21×21 Array{Union{AbstractString, Number},2}:\n",
       " \"\"      \"V01\"   \"V02\"   \"V03\"   \"V04\"  …   \"V17\"   \"V18\"   \"V19\"   \"V20\"\n",
       " \"V01\"  6       0       0       0          0       0       0       0     \n",
       " \"V02\"  0       9       0       0          0       0       0       0     \n",
       " \"V03\"  0       0       6       0          0       0       0       0     \n",
       " \"V04\"  0       0       0       6          0       0       0       0     \n",
       " \"V05\"  0       0       0       0       …  0       0       0       0     \n",
       " \"V06\"  0       0       0       0          0       0       0       0     \n",
       " \"V07\"  0       0       0       0          0       0       0       0     \n",
       " \"V08\"  0       0       0       0          0       0       0       0     \n",
       " \"V09\"  0       0       0       0          0       0       0       0     \n",
       " \"V10\"  0       0       0       0       …  0       0       0       0     \n",
       " \"V11\"  0       0       0       0          0       0       0       0     \n",
       " \"V12\"  0       0       0       0          0       0       0       0     \n",
       " \"V13\"  0       0       0       0          0       0       0       0     \n",
       " \"V14\"  0       0       0       0          0       0       0       0     \n",
       " \"V15\"  0       0       0       0       …  0       0       0       0     \n",
       " \"V16\"  0       0       0       0          0       0       0       0     \n",
       " \"V17\"  0       0       0       0          1       0       0       0     \n",
       " \"V18\"  0       0       0       0          0       1       0       0     \n",
       " \"V19\"  0       0       0       0          0       0       1       0     \n",
       " \"V20\"  0       0       0       0       …  0       0       0       1     "
      ]
     },
     "metadata": {},
     "output_type": "display_data"
    }
   ],
   "source": [
    "Avdiag = Assoc(Av.row, Av.col, Adiag)\n",
    "printFull(Avdiag)"
   ]
  },
  {
   "cell_type": "code",
   "execution_count": 11,
   "metadata": {},
   "outputs": [
    {
     "data": {
      "text/plain": [
       "Assoc(Union{AbstractString, Number}[\"V01\", \"V02\", \"V03\", \"V04\", \"V05\", \"V06\", \"V07\", \"V08\", \"V09\", \"V10\", \"V11\", \"V12\", \"V13\", \"V14\", \"V15\", \"V16\", \"V17\", \"V18\", \"V19\", \"V20\"], Union{AbstractString, Number}[1.0], Union{AbstractString, Number}[1.0], \n",
       "  [1 ,  1]  =  6\n",
       "  [2 ,  1]  =  9\n",
       "  [3 ,  1]  =  6\n",
       "  [4 ,  1]  =  6\n",
       "  [5 ,  1]  =  7\n",
       "  [6 ,  1]  =  7\n",
       "  [7 ,  1]  =  7\n",
       "  [8 ,  1]  =  6\n",
       "  [9 ,  1]  =  1\n",
       "  [10,  1]  =  2\n",
       "  [11,  1]  =  2\n",
       "  [12,  1]  =  1\n",
       "  [13,  1]  =  2\n",
       "  [14,  1]  =  1\n",
       "  [15,  1]  =  2\n",
       "  [16,  1]  =  3\n",
       "  [17,  1]  =  1\n",
       "  [18,  1]  =  1\n",
       "  [19,  1]  =  1\n",
       "  [20,  1]  =  1)"
      ]
     },
     "execution_count": 11,
     "metadata": {},
     "output_type": "execute_result"
    }
   ],
   "source": [
    "AvdiagAssoc = sum(Avdiag, 2)"
   ]
  },
  {
   "cell_type": "code",
   "execution_count": 12,
   "metadata": {},
   "outputs": [
    {
     "data": {
      "text/plain": [
       "\"V01,V02,V20,\""
      ]
     },
     "execution_count": 12,
     "metadata": {},
     "output_type": "execute_result"
    }
   ],
   "source": [
    "vk = \"V01,V02,V20,\""
   ]
  },
  {
   "cell_type": "code",
   "execution_count": 13,
   "metadata": {},
   "outputs": [
    {
     "data": {
      "text/plain": [
       "3-element Array{Union{AbstractString, Number},1}:\n",
       " \"V01\"\n",
       " \"V02\"\n",
       " \"V20\""
      ]
     },
     "execution_count": 13,
     "metadata": {},
     "output_type": "execute_result"
    }
   ],
   "source": [
    "varray = AvdiagAssoc[vk, :]. row"
   ]
  },
  {
   "cell_type": "code",
   "execution_count": 14,
   "metadata": {},
   "outputs": [
    {
     "data": {
      "text/plain": [
       "Assoc(Union{AbstractString, Number}[\"V01\", \"V02\", \"V20\"], Union{AbstractString, Number}[\"V01\", \"V02\", \"V03\", \"V06\", \"V09\", \"V10\", \"V11\", \"V12\", \"V13\", \"V16\", \"V20\"], Union{AbstractString, Number}[1.0], \n",
       "  [1 ,  1]  =  6\n",
       "  [2 ,  1]  =  6\n",
       "  [1 ,  2]  =  6\n",
       "  [2 ,  2]  =  9\n",
       "  [3 ,  2]  =  1\n",
       "  [1 ,  3]  =  6\n",
       "  [2 ,  3]  =  6\n",
       "  [2 ,  4]  =  1\n",
       "  [3 ,  4]  =  1\n",
       "  [2 ,  5]  =  1\n",
       "  [3 ,  5]  =  1\n",
       "  [2 ,  6]  =  1\n",
       "  [2 ,  7]  =  1\n",
       "  [3 ,  7]  =  1\n",
       "  [2 ,  8]  =  1\n",
       "  [2 ,  9]  =  1\n",
       "  [2 , 10]  =  1\n",
       "  [3 , 10]  =  1\n",
       "  [2 , 11]  =  1\n",
       "  [3 , 11]  =  1)"
      ]
     },
     "execution_count": 14,
     "metadata": {},
     "output_type": "execute_result"
    }
   ],
   "source": [
    "Av[varray, :]"
   ]
  },
  {
   "cell_type": "code",
   "execution_count": 15,
   "metadata": {},
   "outputs": [
    {
     "name": "stdout",
     "output_type": "stream",
     "text": [
      "  [V01, V01]  =  6\n",
      "  [V02, V01]  =  6\n",
      "  [V01, V02]  =  6\n",
      "  [V01, V03]  =  6\n",
      "  [V02, V03]  =  6\n"
     ]
    }
   ],
   "source": [
    "print(bounded(Av[vk, :], 2, 7))"
   ]
  },
  {
   "cell_type": "code",
   "execution_count": 16,
   "metadata": {
    "scrolled": true
   },
   "outputs": [
    {
     "data": {
      "text/plain": [
       "4×12 Array{Union{AbstractString, Number},2}:\n",
       " \"\"      \"V01\"   \"V02\"   \"V03\"   \"V06\"  …   \"V12\"   \"V13\"   \"V16\"   \"V20\"\n",
       " \"V01\"  6       6       6       0          0       0       0       0     \n",
       " \"V02\"  6       9       6       1          1       1       1       1     \n",
       " \"V20\"  0       1       0       1          0       0       1       1     "
      ]
     },
     "metadata": {},
     "output_type": "display_data"
    },
    {
     "name": "stdout",
     "output_type": "stream",
     "text": [
      "Union{AbstractString, Number}["
     ]
    },
    {
     "data": {
      "text/plain": [
       "12×20 Array{Union{AbstractString, Number},2}:\n",
       " \"\"      \"V01\"   \"V02\"   \"V03\"   \"V04\"  …   \"V16\"   \"V17\"   \"V19\"   \"V20\"\n",
       " \"V01\"  6       6       6       0          0       0       0       0     \n",
       " \"V02\"  6       9       6       0          1       0       0       1     \n",
       " \"V03\"  6       6       6       0          0       0       0       0     \n",
       " \"V06\"  0       1       0       6          1       0       0       1     \n",
       " \"V09\"  0       1       0       0       …  1       0       0       1     \n",
       " \"V10\"  0       1       0       0          0       0       0       0     \n",
       " \"V11\"  0       1       0       0          1       0       0       1     \n",
       " \"V12\"  0       1       0       0          0       0       0       0     \n",
       " \"V13\"  0       1       0       0          0       0       0       0     \n",
       " \"V16\"  0       1       0       0       …  3       1       1       1     \n",
       " \"V20\"  0       1       0       0          1       0       0       1     "
      ]
     },
     "metadata": {},
     "output_type": "display_data"
    },
    {
     "name": "stdout",
     "output_type": "stream",
     "text": [
      "\"V01\", \"V02\", \"V03\", \"V06\", \"V09\", \"V10\", \"V11\", \"V12\", \"V13\", \"V16\", \"V20\"]"
     ]
    }
   ],
   "source": [
    "Avnew = Av[vk,:] \n",
    "printFull(Avnew)\n",
    "print(Avnew.col)\n",
    "c = Avnew.col\n",
    "printFull(Av[c, :])"
   ]
  },
  {
   "cell_type": "markdown",
   "metadata": {},
   "source": [
    "Breadth-first search, using an adjacency matrix:"
   ]
  },
  {
   "cell_type": "code",
   "execution_count": 17,
   "metadata": {
    "scrolled": true
   },
   "outputs": [
    {
     "data": {
      "text/plain": [
       "3-element Array{Union{AbstractString, Number},1}:\n",
       " \"V01\"\n",
       " \"V02\"\n",
       " \"V03\""
      ]
     },
     "execution_count": 17,
     "metadata": {},
     "output_type": "execute_result"
    }
   ],
   "source": [
    "(adjbfs(Av, \"V01,V20,\", 1, 10, 20).col)"
   ]
  },
  {
   "cell_type": "markdown",
   "metadata": {},
   "source": [
    "Another example, first removing self-edges -- to test takeUnion"
   ]
  },
  {
   "cell_type": "code",
   "execution_count": 18,
   "metadata": {},
   "outputs": [
    {
     "data": {
      "text/plain": [
       "5-element Array{Union{AbstractString, Number},1}:\n",
       " \"V02\"\n",
       " \"V06\"\n",
       " \"V11\"\n",
       " \"V16\"\n",
       " \"V20\""
      ]
     },
     "execution_count": 18,
     "metadata": {},
     "output_type": "execute_result"
    }
   ],
   "source": [
    "Avnodiag= removediag(Av)\n",
    "adjbfs(Avnodiag, \"V01,V20,\", 2, 3, 7, takeunion=false).col"
   ]
  },
  {
   "cell_type": "code",
   "execution_count": 19,
   "metadata": {},
   "outputs": [
    {
     "data": {
      "text/plain": [
       "6-element Array{Union{AbstractString, Number},1}:\n",
       " \"V02\"\n",
       " \"V06\"\n",
       " \"V09\"\n",
       " \"V11\"\n",
       " \"V16\"\n",
       " \"V20\""
      ]
     },
     "execution_count": 19,
     "metadata": {},
     "output_type": "execute_result"
    }
   ],
   "source": [
    "Avnodiag= removediag(Av)\n",
    "adjbfs(Avnodiag, \"V01,V20,\", 2, 3, 7, takeunion=true).col"
   ]
  },
  {
   "cell_type": "markdown",
   "metadata": {},
   "source": [
    "What happens if we can't get to any nodes? Here, degree-filtering messes us up."
   ]
  },
  {
   "cell_type": "code",
   "execution_count": 20,
   "metadata": {},
   "outputs": [
    {
     "name": "stdout",
     "output_type": "stream",
     "text": [
      "Stopped BFS after step 2; no nodes in search set.\n",
      "#undef"
     ]
    }
   ],
   "source": [
    "Avnodiag= removediag(Av)\n",
    "result = adjbfs(Avnodiag, \"V01,\", 5, 3, 7, takeunion=true)\n",
    "print(result.col)"
   ]
  },
  {
   "cell_type": "markdown",
   "metadata": {
    "hidden": true
   },
   "source": [
    "Compute edge adjacency graph."
   ]
  },
  {
   "cell_type": "code",
   "execution_count": 21,
   "metadata": {
    "hidden": true
   },
   "outputs": [
    {
     "data": {
      "text/plain": [
       "20×20 Array{Union{AbstractString, Number},2}:\n",
       " \"\"     \"B1\"   \"B2\"   \"G1\"   \"G2\"  …   \"P6\"   \"P7\"   \"P8\"   \"S1\"   \"S2\"\n",
       " \"B1\"  3      0      3      0         0      0      0      3      0    \n",
       " \"B2\"  0      5      0      5         0      1      1      0      5    \n",
       " \"G1\"  3      0      3      0         0      0      0      3      0    \n",
       " \"G2\"  0      5      0      5         0      1      1      0      5    \n",
       " \"O1\"  3      0      3      0      …  0      0      0      3      0    \n",
       " \"O2\"  3      0      3      0         0      0      0      3      0    \n",
       " \"O3\"  0      5      0      5         0      1      1      0      5    \n",
       " \"O4\"  0      5      0      5         0      1      1      0      5    \n",
       " \"O5\"  1      1      1      1         1      0      1      1      1    \n",
       " \"P1\"  3      0      3      0      …  0      0      0      3      0    \n",
       " \"P2\"  0      5      0      5         0      1      1      0      5    \n",
       " \"P3\"  0      0      0      0         0      0      0      0      0    \n",
       " \"P4\"  1      0      1      0         0      0      0      1      0    \n",
       " \"P5\"  1      0      1      0         0      0      0      1      0    \n",
       " \"P6\"  0      0      0      0      …  3      1      1      0      0    \n",
       " \"P7\"  0      1      0      1         1      3      0      0      1    \n",
       " \"P8\"  0      1      0      1         1      0      3      0      1    \n",
       " \"S1\"  3      0      3      0         0      0      0      3      0    \n",
       " \"S2\"  0      5      0      5         0      1      1      0      5    "
      ]
     },
     "metadata": {},
     "output_type": "display_data"
    }
   ],
   "source": [
    "Ae = sqOut(Ev)\n",
    "printFull(Ae)"
   ]
  },
  {
   "cell_type": "markdown",
   "metadata": {
    "heading_collapsed": true,
    "hidden": true
   },
   "source": [
    "### EA2 Subsref"
   ]
  },
  {
   "cell_type": "markdown",
   "metadata": {
    "hidden": true
   },
   "source": [
    "Show different wasy to index associative arrays."
   ]
  },
  {
   "cell_type": "markdown",
   "metadata": {
    "hidden": true
   },
   "source": [
    "Read CSV file into associative array."
   ]
  },
  {
   "cell_type": "code",
   "execution_count": 22,
   "metadata": {
    "hidden": true
   },
   "outputs": [
    {
     "data": {
      "text/plain": [
       "20×23 Array{Union{AbstractString, Number},2}:\n",
       " \"\"    \"Color\"   \"Order\"  \"V01\"  \"V02\"  …  \"V16\"  \"V17\"  \"V18\"  \"V19\"  \"V20\"\n",
       " \"B1\"  \"Blue\"    \"2\"      \"1\"    \"1\"       \"\"     \"\"     \"\"     \"\"     \"\"   \n",
       " \"B2\"  \"Blue\"    \"2\"      \"\"     \"\"        \"\"     \"\"     \"\"     \"\"     \"\"   \n",
       " \"G1\"  \"Green\"   \"2\"      \"1\"    \"1\"       \"\"     \"\"     \"\"     \"\"     \"\"   \n",
       " \"G2\"  \"Green\"   \"2\"      \"\"     \"\"        \"\"     \"\"     \"\"     \"\"     \"\"   \n",
       " \"O1\"  \"Orange\"  \"2\"      \"1\"    \"1\"    …  \"\"     \"\"     \"\"     \"\"     \"\"   \n",
       " \"O2\"  \"Orange\"  \"2\"      \"1\"    \"1\"       \"\"     \"\"     \"\"     \"\"     \"\"   \n",
       " \"O3\"  \"Orange\"  \"2\"      \"\"     \"\"        \"\"     \"\"     \"\"     \"\"     \"\"   \n",
       " \"O4\"  \"Orange\"  \"2\"      \"\"     \"\"        \"\"     \"\"     \"\"     \"\"     \"\"   \n",
       " \"O5\"  \"Orange\"  \"1\"      \"\"     \"1\"       \"1\"    \"\"     \"\"     \"\"     \"1\"  \n",
       " \"P1\"  \"Pink\"    \"2\"      \"1\"    \"1\"    …  \"\"     \"\"     \"\"     \"\"     \"\"   \n",
       " \"P2\"  \"Pink\"    \"2\"      \"\"     \"\"        \"\"     \"\"     \"\"     \"\"     \"\"   \n",
       " \"P3\"  \"Pink\"    \"2\"      \"\"     \"\"        \"\"     \"\"     \"\"     \"\"     \"\"   \n",
       " \"P4\"  \"Pink\"    \"2\"      \"\"     \"1\"       \"\"     \"\"     \"\"     \"\"     \"\"   \n",
       " \"P5\"  \"Pink\"    \"2\"      \"\"     \"1\"       \"\"     \"\"     \"\"     \"\"     \"\"   \n",
       " \"P6\"  \"Pink\"    \"2\"      \"\"     \"\"     …  \"1\"    \"1\"    \"\"     \"\"     \"\"   \n",
       " \"P7\"  \"Pink\"    \"3\"      \"\"     \"\"        \"\"     \"\"     \"1\"    \"\"     \"\"   \n",
       " \"P8\"  \"Pink\"    \"3\"      \"\"     \"\"        \"1\"    \"\"     \"\"     \"1\"    \"\"   \n",
       " \"S1\"  \"Silver\"  \"2\"      \"1\"    \"1\"       \"\"     \"\"     \"\"     \"\"     \"\"   \n",
       " \"S2\"  \"Silver\"  \"2\"      \"\"     \"\"        \"\"     \"\"     \"\"     \"\"     \"\"   "
      ]
     },
     "metadata": {},
     "output_type": "display_data"
    }
   ],
   "source": [
    "printFull(E)"
   ]
  },
  {
   "cell_type": "markdown",
   "metadata": {
    "hidden": true
   },
   "source": [
    "Get orange edges."
   ]
  },
  {
   "cell_type": "markdown",
   "metadata": {},
   "source": [
    "_TODO how does this work?; add earlier demonstration of .row and .col_"
   ]
  },
  {
   "cell_type": "code",
   "execution_count": 24,
   "metadata": {
    "hidden": true
   },
   "outputs": [
    {
     "data": {
      "text/plain": [
       "6×15 Array{Union{AbstractString, Number},2}:\n",
       " \"\"    \"Color\"   \"Order\"  \"V01\"  \"V02\"  …  \"V08\"  \"V09\"  \"V11\"  \"V16\"  \"V20\"\n",
       " \"O1\"  \"Orange\"  \"2\"      \"1\"    \"1\"       \"\"     \"\"     \"\"     \"\"     \"\"   \n",
       " \"O2\"  \"Orange\"  \"2\"      \"1\"    \"1\"       \"\"     \"\"     \"\"     \"\"     \"\"   \n",
       " \"O3\"  \"Orange\"  \"2\"      \"\"     \"\"        \"1\"    \"\"     \"\"     \"\"     \"\"   \n",
       " \"O4\"  \"Orange\"  \"2\"      \"\"     \"\"        \"1\"    \"\"     \"\"     \"\"     \"\"   \n",
       " \"O5\"  \"Orange\"  \"1\"      \"\"     \"1\"    …  \"\"     \"1\"    \"1\"    \"1\"    \"1\"  "
      ]
     },
     "metadata": {},
     "output_type": "display_data"
    }
   ],
   "source": [
    "Eo = E[(E[:,\"Color,\"] == \"Orange\" ).row,:]\n",
    "printFull(Eo)"
   ]
  },
  {
   "cell_type": "markdown",
   "metadata": {},
   "source": [
    "A shorter, more straight-forward way:"
   ]
  },
  {
   "cell_type": "code",
   "execution_count": 25,
   "metadata": {},
   "outputs": [
    {
     "data": {
      "text/plain": [
       "6×15 Array{Union{AbstractString, Number},2}:\n",
       " \"\"    \"Color\"   \"Order\"  \"V01\"  \"V02\"  …  \"V08\"  \"V09\"  \"V11\"  \"V16\"  \"V20\"\n",
       " \"O1\"  \"Orange\"  \"2\"      \"1\"    \"1\"       \"\"     \"\"     \"\"     \"\"     \"\"   \n",
       " \"O2\"  \"Orange\"  \"2\"      \"1\"    \"1\"       \"\"     \"\"     \"\"     \"\"     \"\"   \n",
       " \"O3\"  \"Orange\"  \"2\"      \"\"     \"\"        \"1\"    \"\"     \"\"     \"\"     \"\"   \n",
       " \"O4\"  \"Orange\"  \"2\"      \"\"     \"\"        \"1\"    \"\"     \"\"     \"\"     \"\"   \n",
       " \"O5\"  \"Orange\"  \"1\"      \"\"     \"1\"    …  \"\"     \"1\"    \"1\"    \"1\"    \"1\"  "
      ]
     },
     "metadata": {},
     "output_type": "display_data"
    }
   ],
   "source": [
    "Eo = E[ StartsWith(\"O,\"), :]\n",
    "printFull(Eo)"
   ]
  },
  {
   "cell_type": "markdown",
   "metadata": {
    "hidden": true
   },
   "source": [
    "Get orange and green edges."
   ]
  },
  {
   "cell_type": "code",
   "execution_count": 26,
   "metadata": {
    "hidden": true
   },
   "outputs": [
    {
     "data": {
      "text/plain": [
       "8×15 Array{Union{AbstractString, Number},2}:\n",
       " \"\"    \"Color\"   \"Order\"  \"V01\"  \"V02\"  …  \"V08\"  \"V09\"  \"V11\"  \"V16\"  \"V20\"\n",
       " \"G1\"  \"Green\"   \"2\"      \"1\"    \"1\"       \"\"     \"\"     \"\"     \"\"     \"\"   \n",
       " \"G2\"  \"Green\"   \"2\"      \"\"     \"\"        \"1\"    \"\"     \"\"     \"\"     \"\"   \n",
       " \"O1\"  \"Orange\"  \"2\"      \"1\"    \"1\"       \"\"     \"\"     \"\"     \"\"     \"\"   \n",
       " \"O2\"  \"Orange\"  \"2\"      \"1\"    \"1\"       \"\"     \"\"     \"\"     \"\"     \"\"   \n",
       " \"O3\"  \"Orange\"  \"2\"      \"\"     \"\"     …  \"1\"    \"\"     \"\"     \"\"     \"\"   \n",
       " \"O4\"  \"Orange\"  \"2\"      \"\"     \"\"        \"1\"    \"\"     \"\"     \"\"     \"\"   \n",
       " \"O5\"  \"Orange\"  \"1\"      \"\"     \"1\"       \"\"     \"1\"    \"1\"    \"1\"    \"1\"  "
      ]
     },
     "metadata": {},
     "output_type": "display_data"
    }
   ],
   "source": [
    "Eog = E[ StartsWith(\"O,G,\") ,:]\n",
    "printFull(Eog)"
   ]
  },
  {
   "cell_type": "markdown",
   "metadata": {
    "heading_collapsed": true,
    "hidden": true
   },
   "source": [
    "### EA3 SubGraph"
   ]
  },
  {
   "cell_type": "markdown",
   "metadata": {
    "hidden": true
   },
   "source": [
    "Show some associative array math."
   ]
  },
  {
   "cell_type": "markdown",
   "metadata": {
    "hidden": true
   },
   "source": [
    "Read CSV file into associative array, get vertices and convert to numbers."
   ]
  },
  {
   "cell_type": "code",
   "execution_count": 27,
   "metadata": {
    "hidden": true
   },
   "outputs": [],
   "source": [
    "Ev = logical( E[:, StartsWith(\"V,\")] );"
   ]
  },
  {
   "cell_type": "markdown",
   "metadata": {
    "hidden": true
   },
   "source": [
    "Get orange edges, and green edges."
   ]
  },
  {
   "cell_type": "code",
   "execution_count": 28,
   "metadata": {
    "hidden": true
   },
   "outputs": [
    {
     "data": {
      "text/plain": [
       "6×13 Array{Union{AbstractString, Number},2}:\n",
       " \"\"     \"V01\"   \"V02\"   \"V03\"   \"V04\"  …   \"V09\"   \"V11\"   \"V16\"   \"V20\"\n",
       " \"O1\"  1       1       1       0          0       0       0       0     \n",
       " \"O2\"  1       1       1       0          0       0       0       0     \n",
       " \"O3\"  0       0       0       1          0       0       0       0     \n",
       " \"O4\"  0       0       0       1          0       0       0       0     \n",
       " \"O5\"  0       1       0       0       …  1       1       1       1     "
      ]
     },
     "metadata": {},
     "output_type": "display_data"
    },
    {
     "data": {
      "text/plain": [
       "3×9 Array{Union{AbstractString, Number},2}:\n",
       " \"\"     \"V01\"   \"V02\"   \"V03\"   \"V04\"   \"V05\"   \"V06\"   \"V07\"   \"V08\"\n",
       " \"G1\"  1       1       1       0       0       0       0       0     \n",
       " \"G2\"  0       0       0       1       1       1       1       1     "
      ]
     },
     "metadata": {},
     "output_type": "display_data"
    }
   ],
   "source": [
    "EvO = Ev[StartsWith(\"O,\"),:]\n",
    "printFull(EvO)\n",
    "EvG = Ev[StartsWith(\"G,\"),:]\n",
    "printFull(EvG)"
   ]
  },
  {
   "cell_type": "markdown",
   "metadata": {
    "hidden": true
   },
   "source": [
    "Compute (empty) vertex adjacency graph."
   ]
  },
  {
   "cell_type": "markdown",
   "metadata": {},
   "source": [
    "_TODO why is this empty? demonstrate the workaround, optimize the workaround (the plus is silly)_"
   ]
  },
  {
   "cell_type": "code",
   "execution_count": 76,
   "metadata": {
    "hidden": true,
    "scrolled": true
   },
   "outputs": [
    {
     "name": "stdout",
     "output_type": "stream",
     "text": [
      "Assoc(Union{AbstractString, Number}[], Union{AbstractString, Number}[], Union{AbstractString, Number}[1.0], 0×0 SparseArrays.SparseMatrixCSC{Int64,Int64} with 0 stored entries)"
     ]
    }
   ],
   "source": [
    "AvOG = transpose(EvO) * EvG\n",
    "printFull(AvOG)"
   ]
  },
  {
   "cell_type": "code",
   "execution_count": 23,
   "metadata": {},
   "outputs": [
    {
     "ename": "UndefVarError",
     "evalue": "UndefVarError: EvO not defined",
     "output_type": "error",
     "traceback": [
      "UndefVarError: EvO not defined",
      "",
      "Stacktrace:",
      " [1] top-level scope at In[23]:1"
     ]
    }
   ],
   "source": [
    "EvOG = logical(EvO + EvG)\n",
    "printFull(EvOG)"
   ]
  },
  {
   "cell_type": "code",
   "execution_count": 87,
   "metadata": {},
   "outputs": [
    {
     "data": {
      "text/plain": [
       "13×13 Array{Union{AbstractString, Number},2}:\n",
       " \"\"      \"V01\"   \"V02\"   \"V03\"   \"V04\"  …   \"V09\"   \"V11\"   \"V16\"   \"V20\"\n",
       " \"V01\"  3.0     3.0     3.0     0.0        0.0     0.0     0.0     0.0   \n",
       " \"V02\"  3.0     4.0     3.0     0.0        1.0     1.0     1.0     1.0   \n",
       " \"V03\"  3.0     3.0     3.0     0.0        0.0     0.0     0.0     0.0   \n",
       " \"V04\"  0.0     0.0     0.0     3.0        0.0     0.0     0.0     0.0   \n",
       " \"V05\"  0.0     0.0     0.0     3.0     …  0.0     0.0     0.0     0.0   \n",
       " \"V06\"  0.0     1.0     0.0     3.0        1.0     1.0     1.0     1.0   \n",
       " \"V07\"  0.0     0.0     0.0     3.0        0.0     0.0     0.0     0.0   \n",
       " \"V08\"  0.0     0.0     0.0     3.0        0.0     0.0     0.0     0.0   \n",
       " \"V09\"  0.0     1.0     0.0     0.0        1.0     1.0     1.0     1.0   \n",
       " \"V11\"  0.0     1.0     0.0     0.0     …  1.0     1.0     1.0     1.0   \n",
       " \"V16\"  0.0     1.0     0.0     0.0        1.0     1.0     1.0     1.0   \n",
       " \"V20\"  0.0     1.0     0.0     0.0        1.0     1.0     1.0     1.0   "
      ]
     },
     "metadata": {},
     "output_type": "display_data"
    }
   ],
   "source": [
    "printFull(transpose(EvOG) * EvOG)"
   ]
  },
  {
   "cell_type": "markdown",
   "metadata": {
    "hidden": true
   },
   "source": [
    "Compute edge adjacency graph."
   ]
  },
  {
   "cell_type": "code",
   "execution_count": 66,
   "metadata": {
    "hidden": true
   },
   "outputs": [
    {
     "data": {
      "text/plain": [
       "6×3 Array{Union{AbstractString, Number},2}:\n",
       " \"\"     \"G1\"   \"G2\"\n",
       " \"O1\"  3      0    \n",
       " \"O2\"  3      0    \n",
       " \"O3\"  0      5    \n",
       " \"O4\"  0      5    \n",
       " \"O5\"  1      1    "
      ]
     },
     "metadata": {},
     "output_type": "display_data"
    }
   ],
   "source": [
    "AeOG = EvO * transpose(EvG)\n",
    "printFull(AeOG)"
   ]
  },
  {
   "cell_type": "markdown",
   "metadata": {
    "hidden": true
   },
   "source": [
    "Compute edge adjacency graph preserving keys."
   ]
  },
  {
   "cell_type": "code",
   "execution_count": 29,
   "metadata": {
    "hidden": true
   },
   "outputs": [
    {
     "data": {
      "text/plain": [
       "6×3 Array{Union{AbstractString, Number},2}:\n",
       " \"\"    \"G1\"            \"G2\"                  \n",
       " \"O1\"  \"V01;V02;V03;\"  \"\"                    \n",
       " \"O2\"  \"V01;V02;V03;\"  \"\"                    \n",
       " \"O3\"  \"\"              \"V04;V05;V06;V07;V08;\"\n",
       " \"O4\"  \"\"              \"V04;V05;V06;V07;V08;\"\n",
       " \"O5\"  \"V02;\"          \"V06;\"                "
      ]
     },
     "metadata": {},
     "output_type": "display_data"
    }
   ],
   "source": [
    "AeOG = CatKeyMul(EvO,transpose(EvG))\n",
    "printFull(AeOG)"
   ]
  },
  {
   "cell_type": "code",
   "execution_count": 32,
   "metadata": {},
   "outputs": [
    {
     "data": {
      "text/plain": [
       "6×13 Array{Union{AbstractString, Number},2}:\n",
       " \"\"     \"V01\"   \"V02\"   \"V03\"   \"V04\"  …   \"V09\"   \"V11\"   \"V16\"   \"V20\"\n",
       " \"O1\"  1       1       1       0          0       0       0       0     \n",
       " \"O2\"  1       1       1       0          0       0       0       0     \n",
       " \"O3\"  0       0       0       1          0       0       0       0     \n",
       " \"O4\"  0       0       0       1          0       0       0       0     \n",
       " \"O5\"  0       1       0       0       …  1       1       1       1     "
      ]
     },
     "metadata": {},
     "output_type": "display_data"
    }
   ],
   "source": [
    "EvOprintFull(EvO)"
   ]
  },
  {
   "cell_type": "code",
   "execution_count": 33,
   "metadata": {},
   "outputs": [
    {
     "data": {
      "text/plain": [
       "9×3 Array{Union{AbstractString, Number},2}:\n",
       " \"\"      \"G1\"   \"G2\"\n",
       " \"V01\"  1      0    \n",
       " \"V02\"  1      0    \n",
       " \"V03\"  1      0    \n",
       " \"V04\"  0      1    \n",
       " \"V05\"  0      1    \n",
       " \"V06\"  0      1    \n",
       " \"V07\"  0      1    \n",
       " \"V08\"  0      1    "
      ]
     },
     "metadata": {},
     "output_type": "display_data"
    },
    {
     "name": "stderr",
     "output_type": "stream",
     "text": [
      "\u001b[91mArgumentError: Package Tokenize not found in current path:\u001b[39m\n",
      "\u001b[91m- Run `import Pkg; Pkg.add(\"Tokenize\")` to install the Tokenize package.\u001b[39m\n",
      "\n",
      "Stacktrace:\n",
      " [1] \u001b[1mrequire\u001b[22m\u001b[1m(\u001b[22m::Module, ::Symbol\u001b[1m)\u001b[22m at \u001b[1m./loading.jl:823\u001b[22m\n",
      " [2] \u001b[1meval\u001b[22m at \u001b[1m./boot.jl:319\u001b[22m [inlined]\n",
      " [3] \u001b[1mprepare_thunk\u001b[22m\u001b[1m(\u001b[22m::Module, ::Expr, ::Bool\u001b[1m)\u001b[22m at \u001b[1m/home/nathan/.julia/packages/JuliaInterpreter/Or807/src/construct.jl:355\u001b[22m\n",
      " [4] \u001b[1mprepare_thunk\u001b[22m\u001b[1m(\u001b[22m::Module, ::Expr, ::Bool\u001b[1m)\u001b[22m at \u001b[1m/home/nathan/.julia/packages/JuliaInterpreter/Or807/src/construct.jl:361\u001b[22m\n",
      " [5] \u001b[1mprepare_thunk\u001b[22m at \u001b[1m/home/nathan/.julia/packages/JuliaInterpreter/Or807/src/construct.jl:347\u001b[22m [inlined]\n",
      " [6] \u001b[1m#methods_by_execution!#9\u001b[22m\u001b[1m(\u001b[22m::Base.Iterators.Pairs{Symbol,Bool,Tuple{Symbol},NamedTuple{(:define,),Tuple{Bool}}}, ::Function, ::Any, ::Revise.CodeTrackingMethodInfo, ::Dict{Module,Array{Expr,1}}, ::Module, ::Expr\u001b[1m)\u001b[22m at \u001b[1m/home/nathan/.julia/packages/Revise/agmgx/src/lowered.jl:47\u001b[22m\n",
      " [7] \u001b[1m#methods_by_execution!\u001b[22m at \u001b[1m./none:0\u001b[22m [inlined]\n",
      " [8] \u001b[1m#eval_with_signatures#59\u001b[22m at \u001b[1m/home/nathan/.julia/packages/Revise/agmgx/src/Revise.jl:344\u001b[22m [inlined]\n",
      " [9] \u001b[1m#eval_with_signatures\u001b[22m at \u001b[1m./none:0\u001b[22m [inlined]\n",
      " [10] \u001b[1m#instantiate_sigs!#60\u001b[22m\u001b[1m(\u001b[22m::Bool, ::Base.Iterators.Pairs{Union{},Union{},Tuple{},NamedTuple{(),Tuple{}}}, ::Function, ::OrderedCollections.OrderedDict{Module,OrderedCollections.OrderedDict{Revise.RelocatableExpr,Union{Nothing, Array{Any,1}}}}\u001b[1m)\u001b[22m at \u001b[1m/home/nathan/.julia/packages/Revise/agmgx/src/Revise.jl:352\u001b[22m\n",
      " [11] \u001b[1minstantiate_sigs!\u001b[22m at \u001b[1m/home/nathan/.julia/packages/Revise/agmgx/src/Revise.jl:349\u001b[22m [inlined]\n",
      " [12] \u001b[1mmaybe_parse_from_cache!\u001b[22m\u001b[1m(\u001b[22m::Revise.PkgData, ::String\u001b[1m)\u001b[22m at \u001b[1m/home/nathan/.julia/packages/Revise/agmgx/src/pkgs.jl:224\u001b[22m\n",
      " [13] \u001b[1m(::getfield(Revise, Symbol(\"##26#27\")){String})\u001b[22m\u001b[1m(\u001b[22m\u001b[1m)\u001b[22m at \u001b[1m/home/nathan/.julia/packages/Revise/agmgx/src/pkgs.jl:370\u001b[22m\n",
      " [14] \u001b[1mwith_logstate\u001b[22m\u001b[1m(\u001b[22m::getfield(Revise, Symbol(\"##26#27\")){String}, ::Base.CoreLogging.LogState\u001b[1m)\u001b[22m at \u001b[1m./logging.jl:395\u001b[22m\n",
      " [15] \u001b[1mwith_logger\u001b[22m at \u001b[1m./logging.jl:491\u001b[22m [inlined]\n",
      " [16] \u001b[1mwatch_manifest\u001b[22m\u001b[1m(\u001b[22m::String\u001b[1m)\u001b[22m at \u001b[1m/home/nathan/.julia/packages/Revise/agmgx/src/pkgs.jl:349\u001b[22m\n",
      " [17] \u001b[1m(::Revise.Rescheduler{typeof(Revise.watch_manifest),Tuple{String}})\u001b[22m\u001b[1m(\u001b[22m\u001b[1m)\u001b[22m at \u001b[1m/home/nathan/.julia/packages/Revise/agmgx/src/types.jl:235\u001b[22m\n",
      "while evaluating\n",
      "using Tokenize\n",
      "in module Main.CSTParser\n",
      "\u001b[91mArgumentError: Package Tokenize not found in current path:\u001b[39m\n",
      "\u001b[91m- Run `import Pkg; Pkg.add(\"Tokenize\")` to install the Tokenize package.\u001b[39m\n",
      "\n",
      "Stacktrace:\n",
      " [1] \u001b[1mrequire\u001b[22m\u001b[1m(\u001b[22m::Module, ::Symbol\u001b[1m)\u001b[22m at \u001b[1m./loading.jl:823\u001b[22m\n",
      " [2] \u001b[1meval\u001b[22m at \u001b[1m./boot.jl:319\u001b[22m [inlined]\n",
      " [3] \u001b[1mprepare_thunk\u001b[22m\u001b[1m(\u001b[22m::Module, ::Expr, ::Bool\u001b[1m)\u001b[22m at \u001b[1m/home/nathan/.julia/packages/JuliaInterpreter/Or807/src/construct.jl:355\u001b[22m\n",
      " [4] \u001b[1mprepare_thunk\u001b[22m\u001b[1m(\u001b[22m::Module, ::Expr, ::Bool\u001b[1m)\u001b[22m at \u001b[1m/home/nathan/.julia/packages/JuliaInterpreter/Or807/src/construct.jl:361\u001b[22m\n",
      " [5] \u001b[1mprepare_thunk\u001b[22m at \u001b[1m/home/nathan/.julia/packages/JuliaInterpreter/Or807/src/construct.jl:347\u001b[22m [inlined]\n",
      " [6] \u001b[1m#methods_by_execution!#9\u001b[22m\u001b[1m(\u001b[22m::Base.Iterators.Pairs{Symbol,Bool,Tuple{Symbol},NamedTuple{(:define,),Tuple{Bool}}}, ::Function, ::Any, ::Revise.CodeTrackingMethodInfo, ::Dict{Module,Array{Expr,1}}, ::Module, ::Expr\u001b[1m)\u001b[22m at \u001b[1m/home/nathan/.julia/packages/Revise/agmgx/src/lowered.jl:47\u001b[22m\n",
      " [7] \u001b[1m#methods_by_execution!\u001b[22m at \u001b[1m./none:0\u001b[22m [inlined]\n",
      " [8] \u001b[1m#eval_with_signatures#59\u001b[22m at \u001b[1m/home/nathan/.julia/packages/Revise/agmgx/src/Revise.jl:344\u001b[22m [inlined]\n",
      " [9] \u001b[1m#eval_with_signatures\u001b[22m at \u001b[1m./none:0\u001b[22m [inlined]\n",
      " [10] \u001b[1m#instantiate_sigs!#60\u001b[22m\u001b[1m(\u001b[22m::Bool, ::Base.Iterators.Pairs{Union{},Union{},Tuple{},NamedTuple{(),Tuple{}}}, ::Function, ::OrderedCollections.OrderedDict{Module,OrderedCollections.OrderedDict{Revise.RelocatableExpr,Union{Nothing, Array{Any,1}}}}\u001b[1m)\u001b[22m at \u001b[1m/home/nathan/.julia/packages/Revise/agmgx/src/Revise.jl:352\u001b[22m\n",
      " [11] \u001b[1minstantiate_sigs!\u001b[22m at \u001b[1m/home/nathan/.julia/packages/Revise/agmgx/src/Revise.jl:349\u001b[22m [inlined]\n",
      " [12] \u001b[1mmaybe_parse_from_cache!\u001b[22m\u001b[1m(\u001b[22m::Revise.PkgData, ::String\u001b[1m)\u001b[22m at \u001b[1m/home/nathan/.julia/packages/Revise/agmgx/src/pkgs.jl:224\u001b[22m\n",
      " [13] \u001b[1m(::getfield(Revise, Symbol(\"##26#27\")){String})\u001b[22m\u001b[1m(\u001b[22m\u001b[1m)\u001b[22m at \u001b[1m/home/nathan/.julia/packages/Revise/agmgx/src/pkgs.jl:370\u001b[22m\n",
      " [14] \u001b[1mwith_logstate\u001b[22m\u001b[1m(\u001b[22m::getfield(Revise, Symbol(\"##26#27\")){String}, ::Base.CoreLogging.LogState\u001b[1m)\u001b[22m at \u001b[1m./logging.jl:395\u001b[22m\n",
      " [15] \u001b[1mwith_logger\u001b[22m at \u001b[1m./logging.jl:491\u001b[22m [inlined]\n",
      " [16] \u001b[1mwatch_manifest\u001b[22m\u001b[1m(\u001b[22m::String\u001b[1m)\u001b[22m at \u001b[1m/home/nathan/.julia/packages/Revise/agmgx/src/pkgs.jl:349\u001b[22m\n",
      " [17] \u001b[1m(::Revise.Rescheduler{typeof(Revise.watch_manifest),Tuple{String}})\u001b[22m\u001b[1m(\u001b[22m\u001b[1m)\u001b[22m at \u001b[1m/home/nathan/.julia/packages/Revise/agmgx/src/types.jl:235\u001b[22m\n",
      "while evaluating\n",
      "import Tokenize.Tokens\n",
      "in module Main.CSTParser\n",
      "\u001b[91mArgumentError: Package Tokenize not found in current path:\u001b[39m\n",
      "\u001b[91m- Run `import Pkg; Pkg.add(\"Tokenize\")` to install the Tokenize package.\u001b[39m\n",
      "\n",
      "Stacktrace:\n",
      " [1] \u001b[1mrequire\u001b[22m\u001b[1m(\u001b[22m::Module, ::Symbol\u001b[1m)\u001b[22m at \u001b[1m./loading.jl:823\u001b[22m\n",
      " [2] \u001b[1meval\u001b[22m at \u001b[1m./boot.jl:319\u001b[22m [inlined]\n",
      " [3] \u001b[1mprepare_thunk\u001b[22m\u001b[1m(\u001b[22m::Module, ::Expr, ::Bool\u001b[1m)\u001b[22m at \u001b[1m/home/nathan/.julia/packages/JuliaInterpreter/Or807/src/construct.jl:355\u001b[22m\n",
      " [4] \u001b[1mprepare_thunk\u001b[22m\u001b[1m(\u001b[22m::Module, ::Expr, ::Bool\u001b[1m)\u001b[22m at \u001b[1m/home/nathan/.julia/packages/JuliaInterpreter/Or807/src/construct.jl:361\u001b[22m\n",
      " [5] \u001b[1mprepare_thunk\u001b[22m at \u001b[1m/home/nathan/.julia/packages/JuliaInterpreter/Or807/src/construct.jl:347\u001b[22m [inlined]\n",
      " [6] \u001b[1m#methods_by_execution!#9\u001b[22m\u001b[1m(\u001b[22m::Base.Iterators.Pairs{Symbol,Bool,Tuple{Symbol},NamedTuple{(:define,),Tuple{Bool}}}, ::Function, ::Any, ::Revise.CodeTrackingMethodInfo, ::Dict{Module,Array{Expr,1}}, ::Module, ::Expr\u001b[1m)\u001b[22m at \u001b[1m/home/nathan/.julia/packages/Revise/agmgx/src/lowered.jl:47\u001b[22m\n",
      " [7] \u001b[1m#methods_by_execution!\u001b[22m at \u001b[1m./none:0\u001b[22m [inlined]\n",
      " [8] \u001b[1m#eval_with_signatures#59\u001b[22m at \u001b[1m/home/nathan/.julia/packages/Revise/agmgx/src/Revise.jl:344\u001b[22m [inlined]\n",
      " [9] \u001b[1m#eval_with_signatures\u001b[22m at \u001b[1m./none:0\u001b[22m [inlined]\n",
      " [10] \u001b[1m#instantiate_sigs!#60\u001b[22m\u001b[1m(\u001b[22m::Bool, ::Base.Iterators.Pairs{Union{},Union{},Tuple{},NamedTuple{(),Tuple{}}}, ::Function, ::OrderedCollections.OrderedDict{Module,OrderedCollections.OrderedDict{Revise.RelocatableExpr,Union{Nothing, Array{Any,1}}}}\u001b[1m)\u001b[22m at \u001b[1m/home/nathan/.julia/packages/Revise/agmgx/src/Revise.jl:352\u001b[22m\n",
      " [11] \u001b[1minstantiate_sigs!\u001b[22m at \u001b[1m/home/nathan/.julia/packages/Revise/agmgx/src/Revise.jl:349\u001b[22m [inlined]\n",
      " [12] \u001b[1mmaybe_parse_from_cache!\u001b[22m\u001b[1m(\u001b[22m::Revise.PkgData, ::String\u001b[1m)\u001b[22m at \u001b[1m/home/nathan/.julia/packages/Revise/agmgx/src/pkgs.jl:224\u001b[22m\n",
      " [13] \u001b[1m(::getfield(Revise, Symbol(\"##26#27\")){String})\u001b[22m\u001b[1m(\u001b[22m\u001b[1m)\u001b[22m at \u001b[1m/home/nathan/.julia/packages/Revise/agmgx/src/pkgs.jl:370\u001b[22m\n",
      " [14] \u001b[1mwith_logstate\u001b[22m\u001b[1m(\u001b[22m::getfield(Revise, Symbol(\"##26#27\")){String}, ::Base.CoreLogging.LogState\u001b[1m)\u001b[22m at \u001b[1m./logging.jl:395\u001b[22m\n",
      " [15] \u001b[1mwith_logger\u001b[22m at \u001b[1m./logging.jl:491\u001b[22m [inlined]\n",
      " [16] \u001b[1mwatch_manifest\u001b[22m\u001b[1m(\u001b[22m::String\u001b[1m)\u001b[22m at \u001b[1m/home/nathan/.julia/packages/Revise/agmgx/src/pkgs.jl:349\u001b[22m\n",
      " [17] \u001b[1m(::Revise.Rescheduler{typeof(Revise.watch_manifest),Tuple{String}})\u001b[22m\u001b[1m(\u001b[22m\u001b[1m)\u001b[22m at \u001b[1m/home/nathan/.julia/packages/Revise/agmgx/src/types.jl:235\u001b[22m\n",
      "while evaluating\n",
      "import Tokenize.Tokens: RawToken, AbstractToken, iskeyword, isliteral, isoperator, untokenize\n",
      "in module Main.CSTParser\n",
      "\u001b[91mArgumentError: Package Tokenize not found in current path:\u001b[39m\n",
      "\u001b[91m- Run `import Pkg; Pkg.add(\"Tokenize\")` to install the Tokenize package.\u001b[39m\n",
      "\n",
      "Stacktrace:\n",
      " [1] \u001b[1mrequire\u001b[22m\u001b[1m(\u001b[22m::Module, ::Symbol\u001b[1m)\u001b[22m at \u001b[1m./loading.jl:823\u001b[22m\n",
      " [2] \u001b[1meval\u001b[22m at \u001b[1m./boot.jl:319\u001b[22m [inlined]\n",
      " [3] \u001b[1mprepare_thunk\u001b[22m\u001b[1m(\u001b[22m::Module, ::Expr, ::Bool\u001b[1m)\u001b[22m at \u001b[1m/home/nathan/.julia/packages/JuliaInterpreter/Or807/src/construct.jl:355\u001b[22m\n",
      " [4] \u001b[1mprepare_thunk\u001b[22m\u001b[1m(\u001b[22m::Module, ::Expr, ::Bool\u001b[1m)\u001b[22m at \u001b[1m/home/nathan/.julia/packages/JuliaInterpreter/Or807/src/construct.jl:361\u001b[22m\n",
      " [5] \u001b[1mprepare_thunk\u001b[22m at \u001b[1m/home/nathan/.julia/packages/JuliaInterpreter/Or807/src/construct.jl:347\u001b[22m [inlined]\n",
      " [6] \u001b[1m#methods_by_execution!#9\u001b[22m\u001b[1m(\u001b[22m::Base.Iterators.Pairs{Symbol,Bool,Tuple{Symbol},NamedTuple{(:define,),Tuple{Bool}}}, ::Function, ::Any, ::Revise.CodeTrackingMethodInfo, ::Dict{Module,Array{Expr,1}}, ::Module, ::Expr\u001b[1m)\u001b[22m at \u001b[1m/home/nathan/.julia/packages/Revise/agmgx/src/lowered.jl:47\u001b[22m\n",
      " [7] \u001b[1m#methods_by_execution!\u001b[22m at \u001b[1m./none:0\u001b[22m [inlined]\n",
      " [8] \u001b[1m#eval_with_signatures#59\u001b[22m at \u001b[1m/home/nathan/.julia/packages/Revise/agmgx/src/Revise.jl:344\u001b[22m [inlined]\n",
      " [9] \u001b[1m#eval_with_signatures\u001b[22m at \u001b[1m./none:0\u001b[22m [inlined]\n",
      " [10] \u001b[1m#instantiate_sigs!#60\u001b[22m\u001b[1m(\u001b[22m::Bool, ::Base.Iterators.Pairs{Union{},Union{},Tuple{},NamedTuple{(),Tuple{}}}, ::Function, ::OrderedCollections.OrderedDict{Module,OrderedCollections.OrderedDict{Revise.RelocatableExpr,Union{Nothing, Array{Any,1}}}}\u001b[1m)\u001b[22m at \u001b[1m/home/nathan/.julia/packages/Revise/agmgx/src/Revise.jl:352\u001b[22m\n",
      " [11] \u001b[1minstantiate_sigs!\u001b[22m at \u001b[1m/home/nathan/.julia/packages/Revise/agmgx/src/Revise.jl:349\u001b[22m [inlined]\n",
      " [12] \u001b[1mmaybe_parse_from_cache!\u001b[22m\u001b[1m(\u001b[22m::Revise.PkgData, ::String\u001b[1m)\u001b[22m at \u001b[1m/home/nathan/.julia/packages/Revise/agmgx/src/pkgs.jl:224\u001b[22m\n",
      " [13] \u001b[1m(::getfield(Revise, Symbol(\"##26#27\")){String})\u001b[22m\u001b[1m(\u001b[22m\u001b[1m)\u001b[22m at \u001b[1m/home/nathan/.julia/packages/Revise/agmgx/src/pkgs.jl:370\u001b[22m\n",
      " [14] \u001b[1mwith_logstate\u001b[22m\u001b[1m(\u001b[22m::getfield(Revise, Symbol(\"##26#27\")){String}, ::Base.CoreLogging.LogState\u001b[1m)\u001b[22m at \u001b[1m./logging.jl:395\u001b[22m\n",
      " [15] \u001b[1mwith_logger\u001b[22m at \u001b[1m./logging.jl:491\u001b[22m [inlined]\n",
      " [16] \u001b[1mwatch_manifest\u001b[22m\u001b[1m(\u001b[22m::String\u001b[1m)\u001b[22m at \u001b[1m/home/nathan/.julia/packages/Revise/agmgx/src/pkgs.jl:349\u001b[22m\n",
      " [17] \u001b[1m(::Revise.Rescheduler{typeof(Revise.watch_manifest),Tuple{String}})\u001b[22m\u001b[1m(\u001b[22m\u001b[1m)\u001b[22m at \u001b[1m/home/nathan/.julia/packages/Revise/agmgx/src/types.jl:235\u001b[22m\n",
      "while evaluating\n",
      "import Tokenize.Lexers: Lexer, peekchar, iswhitespace\n",
      "in module Main.CSTParser\n"
     ]
    },
    {
     "name": "stderr",
     "output_type": "stream",
     "text": [
      "LoadError: \u001b[91mUndefVarError: @default not defined\u001b[39m\n",
      "Stacktrace:\n",
      " [1] top-level scope\n",
      " [2] \u001b[1mlower\u001b[22m at \u001b[1m./meta.jl:68\u001b[22m [inlined]\n",
      " [3] \u001b[1mprepare_thunk\u001b[22m\u001b[1m(\u001b[22m::Module, ::Expr, ::Bool\u001b[1m)\u001b[22m at \u001b[1m/home/nathan/.julia/packages/JuliaInterpreter/Or807/src/construct.jl:360\u001b[22m\n",
      " [4] \u001b[1mprepare_thunk\u001b[22m at \u001b[1m/home/nathan/.julia/packages/JuliaInterpreter/Or807/src/construct.jl:347\u001b[22m [inlined]\n",
      " [5] \u001b[1m#methods_by_execution!#9\u001b[22m\u001b[1m(\u001b[22m::Base.Iterators.Pairs{Symbol,Bool,Tuple{Symbol},NamedTuple{(:define,),Tuple{Bool}}}, ::Function, ::Any, ::Revise.CodeTrackingMethodInfo, ::Dict{Module,Array{Expr,1}}, ::Module, ::Expr\u001b[1m)\u001b[22m at \u001b[1m/home/nathan/.julia/packages/Revise/agmgx/src/lowered.jl:47\u001b[22m\n",
      " [6] \u001b[1m#methods_by_execution!\u001b[22m at \u001b[1m./none:0\u001b[22m [inlined]\n",
      " [7] \u001b[1m#eval_with_signatures#59\u001b[22m at \u001b[1m/home/nathan/.julia/packages/Revise/agmgx/src/Revise.jl:344\u001b[22m [inlined]\n",
      " [8] \u001b[1m#eval_with_signatures\u001b[22m at \u001b[1m./none:0\u001b[22m [inlined]\n",
      " [9] \u001b[1m#instantiate_sigs!#60\u001b[22m\u001b[1m(\u001b[22m::Bool, ::Base.Iterators.Pairs{Union{},Union{},Tuple{},NamedTuple{(),Tuple{}}}, ::Function, ::OrderedCollections.OrderedDict{Module,OrderedCollections.OrderedDict{Revise.RelocatableExpr,Union{Nothing, Array{Any,1}}}}\u001b[1m)\u001b[22m at \u001b[1m/home/nathan/.julia/packages/Revise/agmgx/src/Revise.jl:352\u001b[22m\n",
      " [10] \u001b[1minstantiate_sigs!\u001b[22m at \u001b[1m/home/nathan/.julia/packages/Revise/agmgx/src/Revise.jl:349\u001b[22m [inlined]\n",
      " [11] \u001b[1mmaybe_parse_from_cache!\u001b[22m\u001b[1m(\u001b[22m::Revise.PkgData, ::String\u001b[1m)\u001b[22m at \u001b[1m/home/nathan/.julia/packages/Revise/agmgx/src/pkgs.jl:224\u001b[22m\n",
      " [12] \u001b[1m(::getfield(Revise, Symbol(\"##26#27\")){String})\u001b[22m\u001b[1m(\u001b[22m\u001b[1m)\u001b[22m at \u001b[1m/home/nathan/.julia/packages/Revise/agmgx/src/pkgs.jl:370\u001b[22m\n",
      " [13] \u001b[1mwith_logstate\u001b[22m\u001b[1m(\u001b[22m::getfield(Revise, Symbol(\"##26#27\")){String}, ::Base.CoreLogging.LogState\u001b[1m)\u001b[22m at \u001b[1m./logging.jl:395\u001b[22m\n",
      " [14] \u001b[1mwith_logger\u001b[22m at \u001b[1m./logging.jl:491\u001b[22m [inlined]\n",
      " [15] \u001b[1mwatch_manifest\u001b[22m\u001b[1m(\u001b[22m::String\u001b[1m)\u001b[22m at \u001b[1m/home/nathan/.julia/packages/Revise/agmgx/src/pkgs.jl:349\u001b[22m\n",
      " [16] \u001b[1m(::Revise.Rescheduler{typeof(Revise.watch_manifest),Tuple{String}})\u001b[22m\u001b[1m(\u001b[22m\u001b[1m)\u001b[22m at \u001b[1m/home/nathan/.julia/packages/Revise/agmgx/src/types.jl:235\u001b[22m\n",
      "in expression starting at /home/nathan/.julia/packages/CSTParser/i8cPl/src/CSTParser.jl:61\n",
      "while evaluating\n",
      "function parse_expression(ps::ParseState)\n",
      "    #= /home/nathan/.julia/packages/CSTParser/i8cPl/src/CSTParser.jl:42 =#\n",
      "    if (ps.nt).kind == Tokens.COMMA\n",
      "        #= /home/nathan/.julia/packages/CSTParser/i8cPl/src/CSTParser.jl:43 =#\n",
      "        ps.errored = true\n",
      "        #= /home/nathan/.julia/packages/CSTParser/i8cPl/src/CSTParser.jl:44 =#\n",
      "        ret = mErrorToken(mPUNCTUATION(next(ps)), UnexpectedToken)\n",
      "    elseif #= /home/nathan/.julia/packages/CSTParser/i8cPl/src/CSTParser.jl:45 =# (ps.nt).kind ∈ term_c && !((ps.nt).kind === Tokens.END && (ps.closer).square)\n",
      "        #= /home/nathan/.julia/packages/CSTParser/i8cPl/src/CSTParser.jl:46 =#\n",
      "        if match_closer(ps)\n",
      "            #= /home/nathan/.julia/packages/CSTParser/i8cPl/src/CSTParser.jl:48 =#\n",
      "            ps.errored = true\n",
      "            #= /home/nathan/.julia/packages/CSTParser/i8cPl/src/CSTParser.jl:49 =#\n",
      "            ret = mErrorToken(MissingCloser)\n",
      "        else\n",
      "            #= /home/nathan/.julia/packages/CSTParser/i8cPl/src/CSTParser.jl:51 =#\n",
      "            ps.errored = true\n",
      "            #= /home/nathan/.julia/packages/CSTParser/i8cPl/src/CSTParser.jl:52 =#\n",
      "            ret = mErrorToken(INSTANCE(next(ps)), UnexpectedToken)\n",
      "        end\n",
      "    else\n",
      "        #= /home/nathan/.julia/packages/CSTParser/i8cPl/src/CSTParser.jl:55 =#\n",
      "        next(ps)\n",
      "        #= /home/nathan/.julia/packages/CSTParser/i8cPl/src/CSTParser.jl:56 =#\n",
      "        if iskeyword((ps.t).kind) && (ps.t).kind != Tokens.DO\n",
      "            #= /home/nathan/.julia/packages/CSTParser/i8cPl/src/CSTParser.jl:57 =#\n",
      "            ret = parse_kw(ps)\n",
      "        elseif #= /home/nathan/.julia/packages/CSTParser/i8cPl/src/CSTParser.jl:58 =# (ps.t).kind == Tokens.LPAREN\n",
      "            #= /home/nathan/.julia/packages/CSTParser/i8cPl/src/CSTParser.jl:59 =#\n",
      "            ret = parse_paren(ps)\n",
      "        elseif #= /home/nathan/.julia/packages/CSTParser/i8cPl/src/CSTParser.jl:60 =# (ps.t).kind == Tokens.LSQUARE\n",
      "            #= /home/nathan/.julia/packages/CSTParser/i8cPl/src/CSTParser.jl:61 =#\n",
      "            ret = #= /home/nathan/.julia/packages/CSTParser/i8cPl/src/CSTParser.jl:61 =# @default(ps, parse_array(ps))\n",
      "        elseif #= /home/nathan/.julia/packages/CSTParser/i8cPl/src/CSTParser.jl:62 =# (ps.t).kind == Tokens.LBRACE\n",
      "            #= /home/nathan/.julia/packages/CSTParser/i8cPl/src/CSTParser.jl:63 =#\n",
      "            ret = #= /home/nathan/.julia/packages/CSTParser/i8cPl/src/CSTParser.jl:63 =# @default(ps, #= /home/nathan/.julia/packages/CSTParser/i8cPl/src/CSTParser.jl:63 =# @closebrace(ps, parse_braces(ps)))\n",
      "        elseif #= /home/nathan/.julia/packages/CSTParser/i8cPl/src/CSTParser.jl:64 =# isinstance(ps.t) || isoperator(ps.t)\n",
      "            #= /home/nathan/.julia/packages/CSTParser/i8cPl/src/CSTParser.jl:65 =#\n",
      "            if (ps.t).kind == Tokens.WHERE\n",
      "                #= /home/nathan/.julia/packages/CSTParser/i8cPl/src/CSTParser.jl:66 =#\n",
      "                ret = mIDENTIFIER(ps)\n",
      "            else\n",
      "                #= /home/nathan/.julia/packages/CSTParser/i8cPl/src/CSTParser.jl:68 =#\n",
      "                ret = INSTANCE(ps)\n",
      "            end\n",
      "            #= /home/nathan/.julia/packages/CSTParser/i8cPl/src/CSTParser.jl:70 =#\n",
      "            if is_colon(ret) && (ps.nt).kind != Tokens.COMMA\n",
      "                #= /home/nathan/.julia/packages/CSTParser/i8cPl/src/CSTParser.jl:71 =#\n",
      "                ret = parse_unary(ps, ret)\n",
      "            end\n",
      "        elseif #= /home/nathan/.julia/packages/CSTParser/i8cPl/src/CSTParser.jl:73 =# (ps.t).kind == Tokens.AT_SIGN\n",
      "            #= /home/nathan/.julia/packages/CSTParser/i8cPl/src/CSTParser.jl:74 =#\n",
      "            ret = parse_macrocall(ps)\n",
      "        else\n",
      "            #= /home/nathan/.julia/packages/CSTParser/i8cPl/src/CSTParser.jl:76 =#\n",
      "            ps.errored = true\n",
      "            #= /home/nathan/.julia/packages/CSTParser/i8cPl/src/CSTParser.jl:77 =#\n",
      "            ret = mErrorToken(INSTANCE(ps), UnexpectedToken)\n",
      "        end\n",
      "        #= /home/nathan/.julia/packages/CSTParser/i8cPl/src/CSTParser.jl:79 =#\n",
      "        while !(closer(ps))\n",
      "            #= /home/nathan/.julia/packages/CSTParser/i8cPl/src/CSTParser.jl:80 =#\n",
      "            ret = parse_compound(ps, ret)\n",
      "        end\n",
      "    end\n",
      "    #= /home/nathan/.julia/packages/CSTParser/i8cPl/src/CSTParser.jl:83 =#\n",
      "    return ret\n",
      "end\n",
      "in module Main.CSTParser\n",
      "LoadError: \u001b[91mUndefVarError: @default not defined\u001b[39m\n",
      "Stacktrace:\n",
      " [1] top-level scope\n",
      " [2] \u001b[1mlower\u001b[22m at \u001b[1m./meta.jl:68\u001b[22m [inlined]\n",
      " [3] \u001b[1mprepare_thunk\u001b[22m\u001b[1m(\u001b[22m::Module, ::Expr, ::Bool\u001b[1m)\u001b[22m at \u001b[1m/home/nathan/.julia/packages/JuliaInterpreter/Or807/src/construct.jl:360\u001b[22m\n",
      " [4] \u001b[1mprepare_thunk\u001b[22m at \u001b[1m/home/nathan/.julia/packages/JuliaInterpreter/Or807/src/construct.jl:347\u001b[22m [inlined]\n",
      " [5] \u001b[1m#methods_by_execution!#9\u001b[22m\u001b[1m(\u001b[22m::Base.Iterators.Pairs{Symbol,Bool,Tuple{Symbol},NamedTuple{(:define,),Tuple{Bool}}}, ::Function, ::Any, ::Revise.CodeTrackingMethodInfo, ::Dict{Module,Array{Expr,1}}, ::Module, ::Expr\u001b[1m)\u001b[22m at \u001b[1m/home/nathan/.julia/packages/Revise/agmgx/src/lowered.jl:47\u001b[22m\n",
      " [6] \u001b[1m#methods_by_execution!\u001b[22m at \u001b[1m./none:0\u001b[22m [inlined]\n",
      " [7] \u001b[1m#eval_with_signatures#59\u001b[22m at \u001b[1m/home/nathan/.julia/packages/Revise/agmgx/src/Revise.jl:344\u001b[22m [inlined]\n",
      " [8] \u001b[1m#eval_with_signatures\u001b[22m at \u001b[1m./none:0\u001b[22m [inlined]\n",
      " [9] \u001b[1m#instantiate_sigs!#60\u001b[22m\u001b[1m(\u001b[22m::Bool, ::Base.Iterators.Pairs{Union{},Union{},Tuple{},NamedTuple{(),Tuple{}}}, ::Function, ::OrderedCollections.OrderedDict{Module,OrderedCollections.OrderedDict{Revise.RelocatableExpr,Union{Nothing, Array{Any,1}}}}\u001b[1m)\u001b[22m at \u001b[1m/home/nathan/.julia/packages/Revise/agmgx/src/Revise.jl:352\u001b[22m\n",
      " [10] \u001b[1minstantiate_sigs!\u001b[22m at \u001b[1m/home/nathan/.julia/packages/Revise/agmgx/src/Revise.jl:349\u001b[22m [inlined]\n",
      " [11] \u001b[1mmaybe_parse_from_cache!\u001b[22m\u001b[1m(\u001b[22m::Revise.PkgData, ::String\u001b[1m)\u001b[22m at \u001b[1m/home/nathan/.julia/packages/Revise/agmgx/src/pkgs.jl:224\u001b[22m\n",
      " [12] \u001b[1m(::getfield(Revise, Symbol(\"##26#27\")){String})\u001b[22m\u001b[1m(\u001b[22m\u001b[1m)\u001b[22m at \u001b[1m/home/nathan/.julia/packages/Revise/agmgx/src/pkgs.jl:370\u001b[22m\n",
      " [13] \u001b[1mwith_logstate\u001b[22m\u001b[1m(\u001b[22m::getfield(Revise, Symbol(\"##26#27\")){String}, ::Base.CoreLogging.LogState\u001b[1m)\u001b[22m at \u001b[1m./logging.jl:395\u001b[22m\n",
      " [14] \u001b[1mwith_logger\u001b[22m at \u001b[1m./logging.jl:491\u001b[22m [inlined]\n",
      " [15] \u001b[1mwatch_manifest\u001b[22m\u001b[1m(\u001b[22m::String\u001b[1m)\u001b[22m at \u001b[1m/home/nathan/.julia/packages/Revise/agmgx/src/pkgs.jl:349\u001b[22m\n",
      " [16] \u001b[1m(::Revise.Rescheduler{typeof(Revise.watch_manifest),Tuple{String}})\u001b[22m\u001b[1m(\u001b[22m\u001b[1m)\u001b[22m at \u001b[1m/home/nathan/.julia/packages/Revise/agmgx/src/types.jl:235\u001b[22m\n",
      "in expression starting at /home/nathan/.julia/packages/CSTParser/i8cPl/src/CSTParser.jl:90\n",
      "while evaluating\n",
      "function parse_compound(ps::ParseState, #= /home/nathan/.julia/packages/CSTParser/i8cPl/src/CSTParser.jl:86 =# @nospecialize(ret))\n",
      "    #= /home/nathan/.julia/packages/CSTParser/i8cPl/src/CSTParser.jl:87 =#\n",
      "    if (ps.nt).kind == Tokens.FOR\n",
      "        #= /home/nathan/.julia/packages/CSTParser/i8cPl/src/CSTParser.jl:88 =#\n",
      "        ret = parse_generator(ps, ret)\n",
      "    elseif #= /home/nathan/.julia/packages/CSTParser/i8cPl/src/CSTParser.jl:89 =# (ps.nt).kind == Tokens.DO\n",
      "        #= /home/nathan/.julia/packages/CSTParser/i8cPl/src/CSTParser.jl:90 =#\n",
      "        ret = #= /home/nathan/.julia/packages/CSTParser/i8cPl/src/CSTParser.jl:90 =# @default(ps, #= /home/nathan/.julia/packages/CSTParser/i8cPl/src/CSTParser.jl:90 =# @closer(ps, block, parse_do(ps, ret)))\n",
      "    elseif #= /home/nathan/.julia/packages/CSTParser/i8cPl/src/CSTParser.jl:91 =# isajuxtaposition(ps, ret)\n",
      "        #= /home/nathan/.julia/packages/CSTParser/i8cPl/src/CSTParser.jl:92 =#\n",
      "        if is_number(ret) && last(ret.val) == '.'\n",
      "            #= /home/nathan/.julia/packages/CSTParser/i8cPl/src/CSTParser.jl:93 =#\n",
      "            ps.errored = true\n",
      "            #= /home/nathan/.julia/packages/CSTParser/i8cPl/src/CSTParser.jl:94 =#\n",
      "            ret = mErrorToken(ret, CannotJuxtapose)\n",
      "        end\n",
      "        #= /home/nathan/.julia/packages/CSTParser/i8cPl/src/CSTParser.jl:96 =#\n",
      "        op = mOPERATOR(0, 0, Tokens.STAR, false)\n",
      "        #= /home/nathan/.julia/packages/CSTParser/i8cPl/src/CSTParser.jl:97 =#\n",
      "        ret = parse_operator(ps, ret, op)\n",
      "    elseif #= /home/nathan/.julia/packages/CSTParser/i8cPl/src/CSTParser.jl:98 =# (ret.typ === x_Str || ret.typ === x_Cmd) && (ps.nt).kind == Tokens.IDENTIFIER\n",
      "        #= /home/nathan/.julia/packages/CSTParser/i8cPl/src/CSTParser.jl:99 =#\n",
      "        arg = mIDENTIFIER(next(ps))\n",
      "        #= /home/nathan/.julia/packages/CSTParser/i8cPl/src/CSTParser.jl:100 =#\n",
      "        push!(ret, mLITERAL(arg.fullspan, arg.span, val(ps.t, ps), Tokens.STRING))\n"
     ]
    },
    {
     "name": "stderr",
     "output_type": "stream",
     "text": [
      "    elseif #= /home/nathan/.julia/packages/CSTParser/i8cPl/src/CSTParser.jl:101 =# (isidentifier(ret) || ret.typ === BinaryOpCall && is_dot(ret.args[2])) && ((ps.nt).kind == Tokens.STRING || ((ps.nt).kind == Tokens.TRIPLE_STRING || (ps.nt).kind == Tokens.CMD))\n",
      "        #= /home/nathan/.julia/packages/CSTParser/i8cPl/src/CSTParser.jl:102 =#\n",
      "        next(ps)\n",
      "        #= /home/nathan/.julia/packages/CSTParser/i8cPl/src/CSTParser.jl:103 =#\n",
      "        arg = parse_string_or_cmd(ps, ret)\n",
      "        #= /home/nathan/.julia/packages/CSTParser/i8cPl/src/CSTParser.jl:104 =#\n",
      "        head = if arg.kind == Tokens.CMD\n",
      "                x_Cmd\n",
      "            else\n",
      "                x_Str\n",
      "            end\n",
      "        #= /home/nathan/.julia/packages/CSTParser/i8cPl/src/CSTParser.jl:105 =#\n",
      "        ret = EXPR(head, EXPR[ret, arg])\n",
      "    elseif #= /home/nathan/.julia/packages/CSTParser/i8cPl/src/CSTParser.jl:106 =# (ps.nt).kind == Tokens.LPAREN\n",
      "        #= /home/nathan/.julia/packages/CSTParser/i8cPl/src/CSTParser.jl:107 =#\n",
      "        no_ws = !(isemptyws(ps.ws))\n",
      "        #= /home/nathan/.julia/packages/CSTParser/i8cPl/src/CSTParser.jl:108 =#\n",
      "        err_rng = (ps.t).endbyte + 2:(ps.nt).startbyte\n",
      "        #= /home/nathan/.julia/packages/CSTParser/i8cPl/src/CSTParser.jl:109 =#\n",
      "        ret = #= /home/nathan/.julia/packages/CSTParser/i8cPl/src/CSTParser.jl:109 =# @closeparen(ps, parse_call(ps, ret))\n",
      "        #= /home/nathan/.julia/packages/CSTParser/i8cPl/src/CSTParser.jl:110 =#\n",
      "        if no_ws && !(ret.typ === UnaryOpCall)\n",
      "            #= /home/nathan/.julia/packages/CSTParser/i8cPl/src/CSTParser.jl:111 =#\n",
      "            ps.errored = true\n",
      "            #= /home/nathan/.julia/packages/CSTParser/i8cPl/src/CSTParser.jl:112 =#\n",
      "            ret = mErrorToken(ret, UnexpectedWhiteSpace)\n",
      "        end\n",
      "    elseif #= /home/nathan/.julia/packages/CSTParser/i8cPl/src/CSTParser.jl:114 =# (ps.nt).kind == Tokens.LBRACE\n",
      "        #= /home/nathan/.julia/packages/CSTParser/i8cPl/src/CSTParser.jl:115 =#\n",
      "        if isemptyws(ps.ws)\n",
      "            #= /home/nathan/.julia/packages/CSTParser/i8cPl/src/CSTParser.jl:116 =#\n",
      "            ret = #= /home/nathan/.julia/packages/CSTParser/i8cPl/src/CSTParser.jl:116 =# @default(ps, #= /home/nathan/.julia/packages/CSTParser/i8cPl/src/CSTParser.jl:116 =# @nocloser(ps, inwhere, #= /home/nathan/.julia/packages/CSTParser/i8cPl/src/CSTParser.jl:116 =# @closebrace(ps, parse_curly(ps, ret))))\n",
      "        else\n",
      "            #= /home/nathan/.julia/packages/CSTParser/i8cPl/src/CSTParser.jl:118 =#\n",
      "            ps.errored = true\n",
      "            #= /home/nathan/.julia/packages/CSTParser/i8cPl/src/CSTParser.jl:119 =#\n",
      "            ret = mErrorToken(#= /home/nathan/.julia/packages/CSTParser/i8cPl/src/CSTParser.jl:119 =# @default(ps, #= /home/nathan/.julia/packages/CSTParser/i8cPl/src/CSTParser.jl:119 =# @nocloser(ps, inwhere, #= /home/nathan/.julia/packages/CSTParser/i8cPl/src/CSTParser.jl:119 =# @closebrace(ps, (parse_curly(ps, ret), UnexpectedWhiteSpace)))))\n",
      "        end\n",
      "    elseif #= /home/nathan/.julia/packages/CSTParser/i8cPl/src/CSTParser.jl:122 =# (ps.nt).kind == Tokens.LSQUARE && (isemptyws(ps.ws) && !(isoperator(ret)))\n",
      "        #= /home/nathan/.julia/packages/CSTParser/i8cPl/src/CSTParser.jl:123 =#\n",
      "        ret = #= /home/nathan/.julia/packages/CSTParser/i8cPl/src/CSTParser.jl:123 =# @default(ps, #= /home/nathan/.julia/packages/CSTParser/i8cPl/src/CSTParser.jl:123 =# @nocloser(ps, block, parse_ref(ps, ret)))\n",
      "    elseif #= /home/nathan/.julia/packages/CSTParser/i8cPl/src/CSTParser.jl:124 =# (ps.nt).kind == Tokens.COMMA\n",
      "        #= /home/nathan/.julia/packages/CSTParser/i8cPl/src/CSTParser.jl:125 =#\n",
      "        ret = parse_tuple(ps, ret)\n",
      "    elseif #= /home/nathan/.julia/packages/CSTParser/i8cPl/src/CSTParser.jl:126 =# isunaryop(ret) && (ps.nt).kind != Tokens.EQ\n",
      "        #= /home/nathan/.julia/packages/CSTParser/i8cPl/src/CSTParser.jl:127 =#\n",
      "        ret = parse_unary(ps, ret)\n",
      "    elseif #= /home/nathan/.julia/packages/CSTParser/i8cPl/src/CSTParser.jl:128 =# isoperator(ps.nt)\n",
      "        #= /home/nathan/.julia/packages/CSTParser/i8cPl/src/CSTParser.jl:129 =#\n",
      "        op = mOPERATOR(next(ps))\n",
      "        #= /home/nathan/.julia/packages/CSTParser/i8cPl/src/CSTParser.jl:130 =#\n",
      "        ret = parse_operator(ps, ret, op)\n",
      "    elseif #= /home/nathan/.julia/packages/CSTParser/i8cPl/src/CSTParser.jl:131 =# ret.typ === UnaryOpCall && is_prime(ret.args[2])\n",
      "        #= /home/nathan/.julia/packages/CSTParser/i8cPl/src/CSTParser.jl:133 =#\n",
      "        nextarg = #= /home/nathan/.julia/packages/CSTParser/i8cPl/src/CSTParser.jl:133 =# @precedence(ps, 11, parse_expression(ps))\n",
      "        #= /home/nathan/.julia/packages/CSTParser/i8cPl/src/CSTParser.jl:134 =#\n",
      "        ret = mBinaryOpCall(ret, mOPERATOR(0, 0, Tokens.STAR, false), nextarg)\n",
      "    elseif #= /home/nathan/.julia/packages/CSTParser/i8cPl/src/CSTParser.jl:138 =# (ps.nt).kind in (Tokens.RPAREN, Tokens.RSQUARE, Tokens.RBRACE)\n",
      "        #= /home/nathan/.julia/packages/CSTParser/i8cPl/src/CSTParser.jl:139 =#\n",
      "        ps.errored = true\n",
      "        #= /home/nathan/.julia/packages/CSTParser/i8cPl/src/CSTParser.jl:140 =#\n",
      "        ret = EXPR(ErrorToken, EXPR[ret, mErrorToken(mPUNCTUATION(next(ps)), Unknown)])\n",
      "    else\n",
      "        #= /home/nathan/.julia/packages/CSTParser/i8cPl/src/CSTParser.jl:142 =#\n",
      "        nextarg = parse_expression(ps)\n",
      "        #= /home/nathan/.julia/packages/CSTParser/i8cPl/src/CSTParser.jl:143 =#\n",
      "        ps.errored = true\n",
      "        #= /home/nathan/.julia/packages/CSTParser/i8cPl/src/CSTParser.jl:144 =#\n",
      "        ret = EXPR(ErrorToken, EXPR[ret, nextarg])\n",
      "    end\n",
      "    #= /home/nathan/.julia/packages/CSTParser/i8cPl/src/CSTParser.jl:146 =#\n",
      "    return ret\n",
      "end\n",
      "in module Main.CSTParser\n",
      "LoadError: \u001b[91mUndefVarError: @addctx not defined\u001b[39m\n",
      "Stacktrace:\n",
      " [1] top-level scope\n",
      " [2] \u001b[1mlower\u001b[22m at \u001b[1m./meta.jl:68\u001b[22m [inlined]\n",
      " [3] \u001b[1mprepare_thunk\u001b[22m\u001b[1m(\u001b[22m::Module, ::Expr, ::Bool\u001b[1m)\u001b[22m at \u001b[1m/home/nathan/.julia/packages/JuliaInterpreter/Or807/src/construct.jl:360\u001b[22m\n",
      " [4] \u001b[1mprepare_thunk\u001b[22m at \u001b[1m/home/nathan/.julia/packages/JuliaInterpreter/Or807/src/construct.jl:347\u001b[22m [inlined]\n",
      " [5] \u001b[1m#methods_by_execution!#9\u001b[22m\u001b[1m(\u001b[22m::Base.Iterators.Pairs{Symbol,Bool,Tuple{Symbol},NamedTuple{(:define,),Tuple{Bool}}}, ::Function, ::Any, ::Revise.CodeTrackingMethodInfo, ::Dict{Module,Array{Expr,1}}, ::Module, ::Expr\u001b[1m)\u001b[22m at \u001b[1m/home/nathan/.julia/packages/Revise/agmgx/src/lowered.jl:47\u001b[22m\n",
      " [6] \u001b[1m#methods_by_execution!\u001b[22m at \u001b[1m./none:0\u001b[22m [inlined]\n",
      " [7] \u001b[1m#eval_with_signatures#59\u001b[22m at \u001b[1m/home/nathan/.julia/packages/Revise/agmgx/src/Revise.jl:344\u001b[22m [inlined]\n",
      " [8] \u001b[1m#eval_with_signatures\u001b[22m at \u001b[1m./none:0\u001b[22m [inlined]\n",
      " [9] \u001b[1m#instantiate_sigs!#60\u001b[22m\u001b[1m(\u001b[22m::Bool, ::Base.Iterators.Pairs{Union{},Union{},Tuple{},NamedTuple{(),Tuple{}}}, ::Function, ::OrderedCollections.OrderedDict{Module,OrderedCollections.OrderedDict{Revise.RelocatableExpr,Union{Nothing, Array{Any,1}}}}\u001b[1m)\u001b[22m at \u001b[1m/home/nathan/.julia/packages/Revise/agmgx/src/Revise.jl:352\u001b[22m\n",
      " [10] \u001b[1minstantiate_sigs!\u001b[22m at \u001b[1m/home/nathan/.julia/packages/Revise/agmgx/src/Revise.jl:349\u001b[22m [inlined]\n",
      " [11] \u001b[1mmaybe_parse_from_cache!\u001b[22m\u001b[1m(\u001b[22m::Revise.PkgData, ::String\u001b[1m)\u001b[22m at \u001b[1m/home/nathan/.julia/packages/Revise/agmgx/src/pkgs.jl:224\u001b[22m\n",
      " [12] \u001b[1m(::getfield(Revise, Symbol(\"##26#27\")){String})\u001b[22m\u001b[1m(\u001b[22m\u001b[1m)\u001b[22m at \u001b[1m/home/nathan/.julia/packages/Revise/agmgx/src/pkgs.jl:370\u001b[22m\n",
      " [13] \u001b[1mwith_logstate\u001b[22m\u001b[1m(\u001b[22m::getfield(Revise, Symbol(\"##26#27\")){String}, ::Base.CoreLogging.LogState\u001b[1m)\u001b[22m at \u001b[1m./logging.jl:395\u001b[22m\n",
      " [14] \u001b[1mwith_logger\u001b[22m at \u001b[1m./logging.jl:491\u001b[22m [inlined]\n",
      " [15] \u001b[1mwatch_manifest\u001b[22m\u001b[1m(\u001b[22m::String\u001b[1m)\u001b[22m at \u001b[1m/home/nathan/.julia/packages/Revise/agmgx/src/pkgs.jl:349\u001b[22m\n",
      " [16] \u001b[1m(::Revise.Rescheduler{typeof(Revise.watch_manifest),Tuple{String}})\u001b[22m\u001b[1m(\u001b[22m\u001b[1m)\u001b[22m at \u001b[1m/home/nathan/.julia/packages/Revise/agmgx/src/types.jl:235\u001b[22m\n",
      "in expression starting at /home/nathan/.julia/packages/CSTParser/i8cPl/src/CSTParser.jl:154\n",
      "while evaluating\n",
      "#= /home/nathan/.julia/packages/CSTParser/i8cPl/src/CSTParser.jl:154 =# @addctx :paren function parse_paren(ps::ParseState)\n",
      "        #= /home/nathan/.julia/packages/CSTParser/i8cPl/src/CSTParser.jl:155 =#\n",
      "        args = EXPR[mPUNCTUATION(ps)]\n",
      "        #= /home/nathan/.julia/packages/CSTParser/i8cPl/src/CSTParser.jl:156 =#\n",
      "        #= /home/nathan/.julia/packages/CSTParser/i8cPl/src/CSTParser.jl:156 =# @closeparen ps #= /home/nathan/.julia/packages/CSTParser/i8cPl/src/CSTParser.jl:156 =# @default(ps, #= /home/nathan/.julia/packages/CSTParser/i8cPl/src/CSTParser.jl:156 =# @nocloser(ps, inwhere, parse_comma_sep(ps, args, false, true, true)))\n",
      "        #= /home/nathan/.julia/packages/CSTParser/i8cPl/src/CSTParser.jl:158 =#\n",
      "        if length(args) == 2 && (((ps.ws).kind != SemiColonWS || length(args) == 2 && (args[2]).typ === Block) && !((args[2]).typ === Parameters))\n",
      "            #= /home/nathan/.julia/packages/CSTParser/i8cPl/src/CSTParser.jl:159 =#\n",
      "            accept_rparen(ps, args)\n",
      "            #= /home/nathan/.julia/packages/CSTParser/i8cPl/src/CSTParser.jl:160 =#\n",
      "            ret = EXPR(InvisBrackets, args)\n",
      "        else\n",
      "            #= /home/nathan/.julia/packages/CSTParser/i8cPl/src/CSTParser.jl:162 =#\n",
      "            accept_rparen(ps, args)\n",
      "            #= /home/nathan/.julia/packages/CSTParser/i8cPl/src/CSTParser.jl:163 =#\n",
      "            ret = EXPR(TupleH, args)\n",
      "        end\n",
      "        #= /home/nathan/.julia/packages/CSTParser/i8cPl/src/CSTParser.jl:165 =#\n",
      "        return ret\n",
      "    end\n",
      "in module Main.CSTParser\n"
     ]
    },
    {
     "name": "stderr",
     "output_type": "stream",
     "text": [
      "\u001b[91mUndefVarError: ParseState not defined\u001b[39m\n",
      "Stacktrace:\n",
      " [1] \u001b[1mmacro expansion\u001b[22m at \u001b[1m/home/nathan/.julia/packages/JuliaInterpreter/Or807/src/interpret.jl:64\u001b[22m [inlined]\n",
      " [2] \u001b[1mgetargs\u001b[22m\u001b[1m(\u001b[22m::Array{Any,1}, ::JuliaInterpreter.Frame\u001b[1m)\u001b[22m at \u001b[1m/home/nathan/.julia/packages/JuliaInterpreter/Or807/src/builtins.jl:8\u001b[22m\n",
      " [3] \u001b[1mmaybe_evaluate_builtin\u001b[22m\u001b[1m(\u001b[22m::JuliaInterpreter.Frame, ::Expr, ::Bool\u001b[1m)\u001b[22m at \u001b[1m/home/nathan/.julia/packages/JuliaInterpreter/Or807/src/builtins.jl:136\u001b[22m\n",
      " [4] \u001b[1m#evaluate_call_recurse!#37\u001b[22m\u001b[1m(\u001b[22m::Bool, ::Function, ::Any, ::JuliaInterpreter.Frame, ::Expr\u001b[1m)\u001b[22m at \u001b[1m/home/nathan/.julia/packages/JuliaInterpreter/Or807/src/interpret.jl:209\u001b[22m\n",
      " [5] \u001b[1mevaluate_call_recurse!\u001b[22m at \u001b[1m/home/nathan/.julia/packages/JuliaInterpreter/Or807/src/interpret.jl:206\u001b[22m [inlined]\n",
      " [6] \u001b[1meval_rhs\u001b[22m\u001b[1m(\u001b[22m::Any, ::JuliaInterpreter.Frame, ::Expr\u001b[1m)\u001b[22m at \u001b[1m/home/nathan/.julia/packages/JuliaInterpreter/Or807/src/interpret.jl:381\u001b[22m\n",
      " [7] \u001b[1mstep_expr!\u001b[22m\u001b[1m(\u001b[22m::Any, ::JuliaInterpreter.Frame, ::Any, ::Bool\u001b[1m)\u001b[22m at \u001b[1m/home/nathan/.julia/packages/JuliaInterpreter/Or807/src/interpret.jl:509\u001b[22m\n",
      " [8] \u001b[1msignature\u001b[22m\u001b[1m(\u001b[22m::Any, ::JuliaInterpreter.Frame, ::Any, ::Int64\u001b[1m)\u001b[22m at \u001b[1m/home/nathan/.julia/packages/LoweredCodeUtils/6EZqd/src/LoweredCodeUtils.jl:146\u001b[22m\n",
      " [9] \u001b[1m#methoddef!#3\u001b[22m\u001b[1m(\u001b[22m::Bool, ::Function, ::Any, ::Array{Any,1}, ::JuliaInterpreter.Frame, ::Any, ::Int64\u001b[1m)\u001b[22m at \u001b[1m/home/nathan/.julia/packages/LoweredCodeUtils/6EZqd/src/LoweredCodeUtils.jl:420\u001b[22m\n",
      " [10] \u001b[1m(::getfield(LoweredCodeUtils, Symbol(\"#kw##methoddef!\")))\u001b[22m\u001b[1m(\u001b[22m::NamedTuple{(:define,),Tuple{Bool}}, ::typeof(LoweredCodeUtils.methoddef!), ::Function, ::Array{Any,1}, ::JuliaInterpreter.Frame, ::Expr, ::Int64\u001b[1m)\u001b[22m at \u001b[1m./none:0\u001b[22m\n",
      " [11] \u001b[1m#methods_by_execution!#14\u001b[22m\u001b[1m(\u001b[22m::Bool, ::Bool, ::Function, ::Any, ::Revise.CodeTrackingMethodInfo, ::Dict{Module,Array{Expr,1}}, ::JuliaInterpreter.Frame\u001b[1m)\u001b[22m at \u001b[1m/home/nathan/.julia/packages/Revise/agmgx/src/lowered.jl:81\u001b[22m\n",
      " [12] \u001b[1m#methods_by_execution!\u001b[22m at \u001b[1m./none:0\u001b[22m [inlined]\n",
      " [13] \u001b[1m#methods_by_execution!#9\u001b[22m\u001b[1m(\u001b[22m::Base.Iterators.Pairs{Symbol,Bool,Tuple{Symbol},NamedTuple{(:define,),Tuple{Bool}}}, ::Function, ::Any, ::Revise.CodeTrackingMethodInfo, ::Dict{Module,Array{Expr,1}}, ::Module, ::Expr\u001b[1m)\u001b[22m at \u001b[1m/home/nathan/.julia/packages/Revise/agmgx/src/lowered.jl:49\u001b[22m\n",
      " [14] \u001b[1m#methods_by_execution!\u001b[22m at \u001b[1m./none:0\u001b[22m [inlined]\n",
      " [15] \u001b[1m#eval_with_signatures#59\u001b[22m at \u001b[1m/home/nathan/.julia/packages/Revise/agmgx/src/Revise.jl:344\u001b[22m [inlined]\n",
      " [16] \u001b[1m#eval_with_signatures\u001b[22m at \u001b[1m./none:0\u001b[22m [inlined]\n",
      " [17] \u001b[1m#instantiate_sigs!#60\u001b[22m\u001b[1m(\u001b[22m::Bool, ::Base.Iterators.Pairs{Union{},Union{},Tuple{},NamedTuple{(),Tuple{}}}, ::Function, ::OrderedCollections.OrderedDict{Module,OrderedCollections.OrderedDict{Revise.RelocatableExpr,Union{Nothing, Array{Any,1}}}}\u001b[1m)\u001b[22m at \u001b[1m/home/nathan/.julia/packages/Revise/agmgx/src/Revise.jl:352\u001b[22m\n",
      " [18] \u001b[1minstantiate_sigs!\u001b[22m at \u001b[1m/home/nathan/.julia/packages/Revise/agmgx/src/Revise.jl:349\u001b[22m [inlined]\n",
      " [19] \u001b[1mmaybe_parse_from_cache!\u001b[22m\u001b[1m(\u001b[22m::Revise.PkgData, ::String\u001b[1m)\u001b[22m at \u001b[1m/home/nathan/.julia/packages/Revise/agmgx/src/pkgs.jl:224\u001b[22m\n",
      " [20] \u001b[1m(::getfield(Revise, Symbol(\"##26#27\")){String})\u001b[22m\u001b[1m(\u001b[22m\u001b[1m)\u001b[22m at \u001b[1m/home/nathan/.julia/packages/Revise/agmgx/src/pkgs.jl:370\u001b[22m\n",
      " [21] \u001b[1mwith_logstate\u001b[22m\u001b[1m(\u001b[22m::getfield(Revise, Symbol(\"##26#27\")){String}, ::Base.CoreLogging.LogState\u001b[1m)\u001b[22m at \u001b[1m./logging.jl:395\u001b[22m\n",
      " [22] \u001b[1mwith_logger\u001b[22m at \u001b[1m./logging.jl:491\u001b[22m [inlined]\n",
      " [23] \u001b[1mwatch_manifest\u001b[22m\u001b[1m(\u001b[22m::String\u001b[1m)\u001b[22m at \u001b[1m/home/nathan/.julia/packages/Revise/agmgx/src/pkgs.jl:349\u001b[22m\n",
      " [24] \u001b[1m(::Revise.Rescheduler{typeof(Revise.watch_manifest),Tuple{String}})\u001b[22m\u001b[1m(\u001b[22m\u001b[1m)\u001b[22m at \u001b[1m/home/nathan/.julia/packages/Revise/agmgx/src/types.jl:235\u001b[22m\n",
      "while evaluating\n",
      "function parse_doc(ps::ParseState)\n",
      "    #= /home/nathan/.julia/packages/CSTParser/i8cPl/src/CSTParser.jl:180 =#\n",
      "    if ((ps.nt).kind == Tokens.STRING || (ps.nt).kind == Tokens.TRIPLE_STRING) && !(isemptyws(ps.nws))\n",
      "        #= /home/nathan/.julia/packages/CSTParser/i8cPl/src/CSTParser.jl:181 =#\n",
      "        doc = mLITERAL(next(ps))\n",
      "        #= /home/nathan/.julia/packages/CSTParser/i8cPl/src/CSTParser.jl:182 =#\n",
      "        if (ps.nt).kind == Tokens.ENDMARKER || (ps.nt).kind == Tokens.END\n",
      "            #= /home/nathan/.julia/packages/CSTParser/i8cPl/src/CSTParser.jl:183 =#\n",
      "            return doc\n",
      "        elseif #= /home/nathan/.julia/packages/CSTParser/i8cPl/src/CSTParser.jl:184 =# isbinaryop(ps.nt) && !(closer(ps))\n",
      "            #= /home/nathan/.julia/packages/CSTParser/i8cPl/src/CSTParser.jl:185 =#\n",
      "            ret = parse_compound(ps, doc)\n",
      "            #= /home/nathan/.julia/packages/CSTParser/i8cPl/src/CSTParser.jl:186 =#\n",
      "            return ret\n",
      "        end\n",
      "        #= /home/nathan/.julia/packages/CSTParser/i8cPl/src/CSTParser.jl:189 =#\n",
      "        ret = parse_expression(ps)\n",
      "        #= /home/nathan/.julia/packages/CSTParser/i8cPl/src/CSTParser.jl:190 =#\n",
      "        ret = EXPR(MacroCall, EXPR[GlobalRefDOC(), doc, ret])\n",
      "    elseif #= /home/nathan/.julia/packages/CSTParser/i8cPl/src/CSTParser.jl:191 =# (ps.nt).kind == Tokens.IDENTIFIER && (val(ps.nt, ps) == \"doc\" && ((ps.nnt).kind == Tokens.STRING || (ps.nnt).kind == Tokens.TRIPLE_STRING))\n",
      "        #= /home/nathan/.julia/packages/CSTParser/i8cPl/src/CSTParser.jl:192 =#\n",
      "        doc = mIDENTIFIER(next(ps))\n",
      "        #= /home/nathan/.julia/packages/CSTParser/i8cPl/src/CSTParser.jl:193 =#\n",
      "        next(ps)\n",
      "        #= /home/nathan/.julia/packages/CSTParser/i8cPl/src/CSTParser.jl:194 =#\n",
      "        arg = parse_string_or_cmd(ps, doc)\n",
      "        #= /home/nathan/.julia/packages/CSTParser/i8cPl/src/CSTParser.jl:195 =#\n",
      "        doc = EXPR(x_Str, EXPR[doc, arg])\n",
      "        #= /home/nathan/.julia/packages/CSTParser/i8cPl/src/CSTParser.jl:196 =#\n",
      "        ret = parse_expression(ps)\n",
      "        #= /home/nathan/.julia/packages/CSTParser/i8cPl/src/CSTParser.jl:197 =#\n",
      "        ret = EXPR(MacroCall, EXPR[GlobalRefDOC(), doc, ret])\n",
      "    else\n",
      "        #= /home/nathan/.julia/packages/CSTParser/i8cPl/src/CSTParser.jl:199 =#\n",
      "        ret = parse_expression(ps)\n",
      "    end\n",
      "    #= /home/nathan/.julia/packages/CSTParser/i8cPl/src/CSTParser.jl:201 =#\n",
      "    return ret\n",
      "end\n",
      "in module Main.CSTParser\n",
      "\u001b[91mUndefVarError: ParseState not defined\u001b[39m\n",
      "Stacktrace:\n",
      " [1] \u001b[1mmacro expansion\u001b[22m at \u001b[1m/home/nathan/.julia/packages/JuliaInterpreter/Or807/src/interpret.jl:64\u001b[22m [inlined]\n",
      " [2] \u001b[1mgetargs\u001b[22m\u001b[1m(\u001b[22m::Array{Any,1}, ::JuliaInterpreter.Frame\u001b[1m)\u001b[22m at \u001b[1m/home/nathan/.julia/packages/JuliaInterpreter/Or807/src/builtins.jl:8\u001b[22m\n",
      " [3] \u001b[1mmaybe_evaluate_builtin\u001b[22m\u001b[1m(\u001b[22m::JuliaInterpreter.Frame, ::Expr, ::Bool\u001b[1m)\u001b[22m at \u001b[1m/home/nathan/.julia/packages/JuliaInterpreter/Or807/src/builtins.jl:136\u001b[22m\n",
      " [4] \u001b[1m#evaluate_call_recurse!#37\u001b[22m\u001b[1m(\u001b[22m::Bool, ::Function, ::Any, ::JuliaInterpreter.Frame, ::Expr\u001b[1m)\u001b[22m at \u001b[1m/home/nathan/.julia/packages/JuliaInterpreter/Or807/src/interpret.jl:209\u001b[22m\n",
      " [5] \u001b[1mevaluate_call_recurse!\u001b[22m at \u001b[1m/home/nathan/.julia/packages/JuliaInterpreter/Or807/src/interpret.jl:206\u001b[22m [inlined]\n",
      " [6] \u001b[1meval_rhs\u001b[22m\u001b[1m(\u001b[22m::Any, ::JuliaInterpreter.Frame, ::Expr\u001b[1m)\u001b[22m at \u001b[1m/home/nathan/.julia/packages/JuliaInterpreter/Or807/src/interpret.jl:381\u001b[22m\n",
      " [7] \u001b[1mstep_expr!\u001b[22m\u001b[1m(\u001b[22m::Any, ::JuliaInterpreter.Frame, ::Any, ::Bool\u001b[1m)\u001b[22m at \u001b[1m/home/nathan/.julia/packages/JuliaInterpreter/Or807/src/interpret.jl:509\u001b[22m\n",
      " [8] \u001b[1msignature\u001b[22m\u001b[1m(\u001b[22m::Any, ::JuliaInterpreter.Frame, ::Any, ::Int64\u001b[1m)\u001b[22m at \u001b[1m/home/nathan/.julia/packages/LoweredCodeUtils/6EZqd/src/LoweredCodeUtils.jl:146\u001b[22m\n",
      " [9] \u001b[1m#methoddef!#3\u001b[22m\u001b[1m(\u001b[22m::Bool, ::Function, ::Any, ::Array{Any,1}, ::JuliaInterpreter.Frame, ::Any, ::Int64\u001b[1m)\u001b[22m at \u001b[1m/home/nathan/.julia/packages/LoweredCodeUtils/6EZqd/src/LoweredCodeUtils.jl:420\u001b[22m\n",
      " [10] \u001b[1m(::getfield(LoweredCodeUtils, Symbol(\"#kw##methoddef!\")))\u001b[22m\u001b[1m(\u001b[22m::NamedTuple{(:define,),Tuple{Bool}}, ::typeof(LoweredCodeUtils.methoddef!), ::Function, ::Array{Any,1}, ::JuliaInterpreter.Frame, ::Expr, ::Int64\u001b[1m)\u001b[22m at \u001b[1m./none:0\u001b[22m\n",
      " [11] \u001b[1m#methods_by_execution!#14\u001b[22m\u001b[1m(\u001b[22m::Bool, ::Bool, ::Function, ::Any, ::Revise.CodeTrackingMethodInfo, ::Dict{Module,Array{Expr,1}}, ::JuliaInterpreter.Frame\u001b[1m)\u001b[22m at \u001b[1m/home/nathan/.julia/packages/Revise/agmgx/src/lowered.jl:81\u001b[22m\n",
      " [12] \u001b[1m#methods_by_execution!\u001b[22m at \u001b[1m./none:0\u001b[22m [inlined]\n",
      " [13] \u001b[1m#methods_by_execution!#9\u001b[22m\u001b[1m(\u001b[22m::Base.Iterators.Pairs{Symbol,Bool,Tuple{Symbol},NamedTuple{(:define,),Tuple{Bool}}}, ::Function, ::Any, ::Revise.CodeTrackingMethodInfo, ::Dict{Module,Array{Expr,1}}, ::Module, ::Expr\u001b[1m)\u001b[22m at \u001b[1m/home/nathan/.julia/packages/Revise/agmgx/src/lowered.jl:49\u001b[22m\n",
      " [14] \u001b[1m#methods_by_execution!\u001b[22m at \u001b[1m./none:0\u001b[22m [inlined]\n",
      " [15] \u001b[1m#eval_with_signatures#59\u001b[22m at \u001b[1m/home/nathan/.julia/packages/Revise/agmgx/src/Revise.jl:344\u001b[22m [inlined]\n",
      " [16] \u001b[1m#eval_with_signatures\u001b[22m at \u001b[1m./none:0\u001b[22m [inlined]\n",
      " [17] \u001b[1m#instantiate_sigs!#60\u001b[22m\u001b[1m(\u001b[22m::Bool, ::Base.Iterators.Pairs{Union{},Union{},Tuple{},NamedTuple{(),Tuple{}}}, ::Function, ::OrderedCollections.OrderedDict{Module,OrderedCollections.OrderedDict{Revise.RelocatableExpr,Union{Nothing, Array{Any,1}}}}\u001b[1m)\u001b[22m at \u001b[1m/home/nathan/.julia/packages/Revise/agmgx/src/Revise.jl:352\u001b[22m\n",
      " [18] \u001b[1minstantiate_sigs!\u001b[22m at \u001b[1m/home/nathan/.julia/packages/Revise/agmgx/src/Revise.jl:349\u001b[22m [inlined]\n",
      " [19] \u001b[1mmaybe_parse_from_cache!\u001b[22m\u001b[1m(\u001b[22m::Revise.PkgData, ::String\u001b[1m)\u001b[22m at \u001b[1m/home/nathan/.julia/packages/Revise/agmgx/src/pkgs.jl:224\u001b[22m\n",
      " [20] \u001b[1m(::getfield(Revise, Symbol(\"##26#27\")){String})\u001b[22m\u001b[1m(\u001b[22m\u001b[1m)\u001b[22m at \u001b[1m/home/nathan/.julia/packages/Revise/agmgx/src/pkgs.jl:370\u001b[22m\n",
      " [21] \u001b[1mwith_logstate\u001b[22m\u001b[1m(\u001b[22m::getfield(Revise, Symbol(\"##26#27\")){String}, ::Base.CoreLogging.LogState\u001b[1m)\u001b[22m at \u001b[1m./logging.jl:395\u001b[22m\n",
      " [22] \u001b[1mwith_logger\u001b[22m at \u001b[1m./logging.jl:491\u001b[22m [inlined]\n",
      " [23] \u001b[1mwatch_manifest\u001b[22m\u001b[1m(\u001b[22m::String\u001b[1m)\u001b[22m at \u001b[1m/home/nathan/.julia/packages/Revise/agmgx/src/pkgs.jl:349\u001b[22m\n",
      " [24] \u001b[1m(::Revise.Rescheduler{typeof(Revise.watch_manifest),Tuple{String}})\u001b[22m\u001b[1m(\u001b[22m\u001b[1m)\u001b[22m at \u001b[1m/home/nathan/.julia/packages/Revise/agmgx/src/types.jl:235\u001b[22m\n",
      "while evaluating\n",
      "function parse(ps::ParseState, cont=false)\n",
      "    #= /home/nathan/.julia/packages/CSTParser/i8cPl/src/CSTParser.jl:205 =#\n",
      "    if ((ps.l).io).size == 0\n",
      "        #= /home/nathan/.julia/packages/CSTParser/i8cPl/src/CSTParser.jl:206 =#\n",
      "        return (if cont\n",
      "                    EXPR(FileH, EXPR[])\n",
      "                else\n",
      "                    nothing\n",
      "                end, ps)\n",
      "    end\n",
      "    #= /home/nathan/.julia/packages/CSTParser/i8cPl/src/CSTParser.jl:208 =#\n",
      "    last_line = 0\n",
      "    #= /home/nathan/.julia/packages/CSTParser/i8cPl/src/CSTParser.jl:209 =#\n",
      "    curr_line = 0\n",
      "    #= /home/nathan/.julia/packages/CSTParser/i8cPl/src/CSTParser.jl:211 =#\n",
      "    if cont\n",
      "        #= /home/nathan/.julia/packages/CSTParser/i8cPl/src/CSTParser.jl:212 =#\n",
      "        top = EXPR(FileH, EXPR[])\n",
      "        #= /home/nathan/.julia/packages/CSTParser/i8cPl/src/CSTParser.jl:213 =#\n",
      "        if (ps.nt).kind == Tokens.WHITESPACE || (ps.nt).kind == Tokens.COMMENT\n",
      "            #= /home/nathan/.julia/packages/CSTParser/i8cPl/src/CSTParser.jl:214 =#\n",
      "            next(ps)\n",
      "            #= /home/nathan/.julia/packages/CSTParser/i8cPl/src/CSTParser.jl:215 =#\n",
      "            push!(top, mLITERAL((ps.nt).startbyte, (ps.nt).startbyte, \"\", Tokens.NOTHING))\n",
      "        end\n",
      "        #= /home/nathan/.julia/packages/CSTParser/i8cPl/src/CSTParser.jl:218 =#\n",
      "        while !(ps.done)\n",
      "            #= /home/nathan/.julia/packages/CSTParser/i8cPl/src/CSTParser.jl:219 =#\n",
      "            curr_line = (ps.nt).startpos[1]\n",
      "            #= /home/nathan/.julia/packages/CSTParser/i8cPl/src/CSTParser.jl:220 =#\n",
      "            ret = parse_doc(ps)\n",
      "            #= /home/nathan/.julia/packages/CSTParser/i8cPl/src/CSTParser.jl:223 =#\n",
      "            if curr_line == last_line && (last(top.args)).typ === TopLevel\n",
      "                #= /home/nathan/.julia/packages/CSTParser/i8cPl/src/CSTParser.jl:224 =#\n",
      "                push!(last(top.args), ret)\n",
      "            elseif #= /home/nathan/.julia/packages/CSTParser/i8cPl/src/CSTParser.jl:225 =# (ps.ws).kind == SemiColonWS\n",
      "                #= /home/nathan/.julia/packages/CSTParser/i8cPl/src/CSTParser.jl:226 =#\n",
      "                push!(top, EXPR(TopLevel, EXPR[ret]))\n",
      "            else\n",
      "                #= /home/nathan/.julia/packages/CSTParser/i8cPl/src/CSTParser.jl:228 =#\n",
      "                push!(top, ret)\n",
      "            end\n",
      "            #= /home/nathan/.julia/packages/CSTParser/i8cPl/src/CSTParser.jl:230 =#\n",
      "            last_line = curr_line\n",
      "        end\n",
      "    else\n",
      "        #= /home/nathan/.julia/packages/CSTParser/i8cPl/src/CSTParser.jl:233 =#\n",
      "        if (ps.nt).kind == Tokens.WHITESPACE || (ps.nt).kind == Tokens.COMMENT\n",
      "            #= /home/nathan/.julia/packages/CSTParser/i8cPl/src/CSTParser.jl:234 =#\n",
      "            next(ps)\n",
      "            #= /home/nathan/.julia/packages/CSTParser/i8cPl/src/CSTParser.jl:235 =#\n",
      "            top = mLITERAL((ps.nt).startbyte, (ps.nt).startbyte, \"\", Tokens.NOTHING)\n",
      "        else\n",
      "            #= /home/nathan/.julia/packages/CSTParser/i8cPl/src/CSTParser.jl:237 =#\n",
      "            top = parse_doc(ps)\n",
      "            #= /home/nathan/.julia/packages/CSTParser/i8cPl/src/CSTParser.jl:238 =#\n",
      "            last_line = (ps.nt).startpos[1]\n",
      "            #= /home/nathan/.julia/packages/CSTParser/i8cPl/src/CSTParser.jl:239 =#\n",
      "            if (ps.ws).kind == SemiColonWS\n",
      "                #= /home/nathan/.julia/packages/CSTParser/i8cPl/src/CSTParser.jl:240 =#\n",
      "                top = EXPR(TopLevel, EXPR[top])\n",
      "                #= /home/nathan/.julia/packages/CSTParser/i8cPl/src/CSTParser.jl:241 =#\n",
      "                while (ps.ws).kind == SemiColonWS && ((ps.nt).startpos[1] == last_line && (ps.nt).kind != Tokens.ENDMARKER)\n",
      "                    #= /home/nathan/.julia/packages/CSTParser/i8cPl/src/CSTParser.jl:242 =#\n",
      "                    ret = parse_doc(ps)\n",
      "                    #= /home/nathan/.julia/packages/CSTParser/i8cPl/src/CSTParser.jl:243 =#\n",
      "                    push!(top, ret)\n",
      "                    #= /home/nathan/.julia/packages/CSTParser/i8cPl/src/CSTParser.jl:244 =#\n",
      "                    last_line = (ps.nt).startpos[1]\n",
      "                end\n",
      "            end\n",
      "        end\n",
      "    end\n",
      "    #= /home/nathan/.julia/packages/CSTParser/i8cPl/src/CSTParser.jl:250 =#\n",
      "    return (top, ps)\n",
      "end\n",
      "in module Main.CSTParser\n"
     ]
    },
    {
     "name": "stderr",
     "output_type": "stream",
     "text": [
      "\u001b[91mUndefVarError: Lexers not defined\u001b[39m\n",
      "Stacktrace:\n",
      " [1] \u001b[1meval\u001b[22m at \u001b[1m./boot.jl:319\u001b[22m [inlined]\n",
      " [2] \u001b[1mprepare_thunk\u001b[22m\u001b[1m(\u001b[22m::Module, ::Expr, ::Bool\u001b[1m)\u001b[22m at \u001b[1m/home/nathan/.julia/packages/JuliaInterpreter/Or807/src/construct.jl:355\u001b[22m\n",
      " [3] \u001b[1mprepare_thunk\u001b[22m\u001b[1m(\u001b[22m::Module, ::Expr, ::Bool\u001b[1m)\u001b[22m at \u001b[1m/home/nathan/.julia/packages/JuliaInterpreter/Or807/src/construct.jl:361\u001b[22m\n",
      " [4] \u001b[1mprepare_thunk\u001b[22m at \u001b[1m/home/nathan/.julia/packages/JuliaInterpreter/Or807/src/construct.jl:347\u001b[22m [inlined]\n",
      " [5] \u001b[1m#methods_by_execution!#9\u001b[22m\u001b[1m(\u001b[22m::Base.Iterators.Pairs{Symbol,Bool,Tuple{Symbol},NamedTuple{(:define,),Tuple{Bool}}}, ::Function, ::Any, ::Revise.CodeTrackingMethodInfo, ::Dict{Module,Array{Expr,1}}, ::Module, ::Expr\u001b[1m)\u001b[22m at \u001b[1m/home/nathan/.julia/packages/Revise/agmgx/src/lowered.jl:47\u001b[22m\n",
      " [6] \u001b[1m#methods_by_execution!\u001b[22m at \u001b[1m./none:0\u001b[22m [inlined]\n",
      " [7] \u001b[1m#eval_with_signatures#59\u001b[22m at \u001b[1m/home/nathan/.julia/packages/Revise/agmgx/src/Revise.jl:344\u001b[22m [inlined]\n",
      " [8] \u001b[1m#eval_with_signatures\u001b[22m at \u001b[1m./none:0\u001b[22m [inlined]\n",
      " [9] \u001b[1m#instantiate_sigs!#60\u001b[22m\u001b[1m(\u001b[22m::Bool, ::Base.Iterators.Pairs{Union{},Union{},Tuple{},NamedTuple{(),Tuple{}}}, ::Function, ::OrderedCollections.OrderedDict{Module,OrderedCollections.OrderedDict{Revise.RelocatableExpr,Union{Nothing, Array{Any,1}}}}\u001b[1m)\u001b[22m at \u001b[1m/home/nathan/.julia/packages/Revise/agmgx/src/Revise.jl:352\u001b[22m\n",
      " [10] \u001b[1minstantiate_sigs!\u001b[22m at \u001b[1m/home/nathan/.julia/packages/Revise/agmgx/src/Revise.jl:349\u001b[22m [inlined]\n",
      " [11] \u001b[1mmaybe_parse_from_cache!\u001b[22m\u001b[1m(\u001b[22m::Revise.PkgData, ::String\u001b[1m)\u001b[22m at \u001b[1m/home/nathan/.julia/packages/Revise/agmgx/src/pkgs.jl:224\u001b[22m\n",
      " [12] \u001b[1m(::getfield(Revise, Symbol(\"##26#27\")){String})\u001b[22m\u001b[1m(\u001b[22m\u001b[1m)\u001b[22m at \u001b[1m/home/nathan/.julia/packages/Revise/agmgx/src/pkgs.jl:370\u001b[22m\n",
      " [13] \u001b[1mwith_logstate\u001b[22m\u001b[1m(\u001b[22m::getfield(Revise, Symbol(\"##26#27\")){String}, ::Base.CoreLogging.LogState\u001b[1m)\u001b[22m at \u001b[1m./logging.jl:395\u001b[22m\n",
      " [14] \u001b[1mwith_logger\u001b[22m at \u001b[1m./logging.jl:491\u001b[22m [inlined]\n",
      " [15] \u001b[1mwatch_manifest\u001b[22m\u001b[1m(\u001b[22m::String\u001b[1m)\u001b[22m at \u001b[1m/home/nathan/.julia/packages/Revise/agmgx/src/pkgs.jl:349\u001b[22m\n",
      " [16] \u001b[1m(::Revise.Rescheduler{typeof(Revise.watch_manifest),Tuple{String}})\u001b[22m\u001b[1m(\u001b[22m\u001b[1m)\u001b[22m at \u001b[1m/home/nathan/.julia/packages/Revise/agmgx/src/types.jl:235\u001b[22m\n",
      "while evaluating\n",
      "import .Lexers: tokenize\n",
      "in module Main.Tokenize\n",
      "\u001b[91mUndefVarError: Tokens not defined\u001b[39m\n",
      "Stacktrace:\n",
      " [1] \u001b[1meval\u001b[22m at \u001b[1m./boot.jl:319\u001b[22m [inlined]\n",
      " [2] \u001b[1mprepare_thunk\u001b[22m\u001b[1m(\u001b[22m::Module, ::Expr, ::Bool\u001b[1m)\u001b[22m at \u001b[1m/home/nathan/.julia/packages/JuliaInterpreter/Or807/src/construct.jl:355\u001b[22m\n",
      " [3] \u001b[1mprepare_thunk\u001b[22m\u001b[1m(\u001b[22m::Module, ::Expr, ::Bool\u001b[1m)\u001b[22m at \u001b[1m/home/nathan/.julia/packages/JuliaInterpreter/Or807/src/construct.jl:361\u001b[22m\n",
      " [4] \u001b[1mprepare_thunk\u001b[22m at \u001b[1m/home/nathan/.julia/packages/JuliaInterpreter/Or807/src/construct.jl:347\u001b[22m [inlined]\n",
      " [5] \u001b[1m#methods_by_execution!#9\u001b[22m\u001b[1m(\u001b[22m::Base.Iterators.Pairs{Symbol,Bool,Tuple{Symbol},NamedTuple{(:define,),Tuple{Bool}}}, ::Function, ::Any, ::Revise.CodeTrackingMethodInfo, ::Dict{Module,Array{Expr,1}}, ::Module, ::Expr\u001b[1m)\u001b[22m at \u001b[1m/home/nathan/.julia/packages/Revise/agmgx/src/lowered.jl:47\u001b[22m\n",
      " [6] \u001b[1m#methods_by_execution!\u001b[22m at \u001b[1m./none:0\u001b[22m [inlined]\n",
      " [7] \u001b[1m#eval_with_signatures#59\u001b[22m at \u001b[1m/home/nathan/.julia/packages/Revise/agmgx/src/Revise.jl:344\u001b[22m [inlined]\n",
      " [8] \u001b[1m#eval_with_signatures\u001b[22m at \u001b[1m./none:0\u001b[22m [inlined]\n",
      " [9] \u001b[1m#instantiate_sigs!#60\u001b[22m\u001b[1m(\u001b[22m::Bool, ::Base.Iterators.Pairs{Union{},Union{},Tuple{},NamedTuple{(),Tuple{}}}, ::Function, ::OrderedCollections.OrderedDict{Module,OrderedCollections.OrderedDict{Revise.RelocatableExpr,Union{Nothing, Array{Any,1}}}}\u001b[1m)\u001b[22m at \u001b[1m/home/nathan/.julia/packages/Revise/agmgx/src/Revise.jl:352\u001b[22m\n",
      " [10] \u001b[1minstantiate_sigs!\u001b[22m at \u001b[1m/home/nathan/.julia/packages/Revise/agmgx/src/Revise.jl:349\u001b[22m [inlined]\n",
      " [11] \u001b[1mmaybe_parse_from_cache!\u001b[22m\u001b[1m(\u001b[22m::Revise.PkgData, ::String\u001b[1m)\u001b[22m at \u001b[1m/home/nathan/.julia/packages/Revise/agmgx/src/pkgs.jl:224\u001b[22m\n",
      " [12] \u001b[1m(::getfield(Revise, Symbol(\"##26#27\")){String})\u001b[22m\u001b[1m(\u001b[22m\u001b[1m)\u001b[22m at \u001b[1m/home/nathan/.julia/packages/Revise/agmgx/src/pkgs.jl:370\u001b[22m\n",
      " [13] \u001b[1mwith_logstate\u001b[22m\u001b[1m(\u001b[22m::getfield(Revise, Symbol(\"##26#27\")){String}, ::Base.CoreLogging.LogState\u001b[1m)\u001b[22m at \u001b[1m./logging.jl:395\u001b[22m\n",
      " [14] \u001b[1mwith_logger\u001b[22m at \u001b[1m./logging.jl:491\u001b[22m [inlined]\n",
      " [15] \u001b[1mwatch_manifest\u001b[22m\u001b[1m(\u001b[22m::String\u001b[1m)\u001b[22m at \u001b[1m/home/nathan/.julia/packages/Revise/agmgx/src/pkgs.jl:349\u001b[22m\n",
      " [16] \u001b[1m(::Revise.Rescheduler{typeof(Revise.watch_manifest),Tuple{String}})\u001b[22m\u001b[1m(\u001b[22m\u001b[1m)\u001b[22m at \u001b[1m/home/nathan/.julia/packages/Revise/agmgx/src/types.jl:235\u001b[22m\n",
      "while evaluating\n",
      "import .Tokens: untokenize\n",
      "in module Main.Tokenize\n",
      "\u001b[91mUndefVarError: _precompile_ not defined\u001b[39m\n",
      "Stacktrace:\n",
      " [1] \u001b[1mmacro expansion\u001b[22m at \u001b[1m/home/nathan/.julia/packages/JuliaInterpreter/Or807/src/interpret.jl:64\u001b[22m [inlined]\n",
      " [2] \u001b[1m#methods_by_execution!#14\u001b[22m\u001b[1m(\u001b[22m::Bool, ::Bool, ::Function, ::Any, ::Revise.CodeTrackingMethodInfo, ::Dict{Module,Array{Expr,1}}, ::JuliaInterpreter.Frame\u001b[1m)\u001b[22m at \u001b[1m/home/nathan/.julia/packages/Revise/agmgx/src/lowered.jl:125\u001b[22m\n",
      " [3] \u001b[1m#methods_by_execution!\u001b[22m at \u001b[1m./none:0\u001b[22m [inlined]\n",
      " [4] \u001b[1m#methods_by_execution!#9\u001b[22m\u001b[1m(\u001b[22m::Base.Iterators.Pairs{Symbol,Bool,Tuple{Symbol},NamedTuple{(:define,),Tuple{Bool}}}, ::Function, ::Any, ::Revise.CodeTrackingMethodInfo, ::Dict{Module,Array{Expr,1}}, ::Module, ::Expr\u001b[1m)\u001b[22m at \u001b[1m/home/nathan/.julia/packages/Revise/agmgx/src/lowered.jl:49\u001b[22m\n",
      " [5] \u001b[1m#methods_by_execution!\u001b[22m at \u001b[1m./none:0\u001b[22m [inlined]\n",
      " [6] \u001b[1m#eval_with_signatures#59\u001b[22m at \u001b[1m/home/nathan/.julia/packages/Revise/agmgx/src/Revise.jl:344\u001b[22m [inlined]\n",
      " [7] \u001b[1m#eval_with_signatures\u001b[22m at \u001b[1m./none:0\u001b[22m [inlined]\n",
      " [8] \u001b[1m#instantiate_sigs!#60\u001b[22m\u001b[1m(\u001b[22m::Bool, ::Base.Iterators.Pairs{Union{},Union{},Tuple{},NamedTuple{(),Tuple{}}}, ::Function, ::OrderedCollections.OrderedDict{Module,OrderedCollections.OrderedDict{Revise.RelocatableExpr,Union{Nothing, Array{Any,1}}}}\u001b[1m)\u001b[22m at \u001b[1m/home/nathan/.julia/packages/Revise/agmgx/src/Revise.jl:352\u001b[22m\n",
      " [9] \u001b[1minstantiate_sigs!\u001b[22m at \u001b[1m/home/nathan/.julia/packages/Revise/agmgx/src/Revise.jl:349\u001b[22m [inlined]\n",
      " [10] \u001b[1mmaybe_parse_from_cache!\u001b[22m\u001b[1m(\u001b[22m::Revise.PkgData, ::String\u001b[1m)\u001b[22m at \u001b[1m/home/nathan/.julia/packages/Revise/agmgx/src/pkgs.jl:224\u001b[22m\n",
      " [11] \u001b[1m(::getfield(Revise, Symbol(\"##26#27\")){String})\u001b[22m\u001b[1m(\u001b[22m\u001b[1m)\u001b[22m at \u001b[1m/home/nathan/.julia/packages/Revise/agmgx/src/pkgs.jl:370\u001b[22m\n",
      " [12] \u001b[1mwith_logstate\u001b[22m\u001b[1m(\u001b[22m::getfield(Revise, Symbol(\"##26#27\")){String}, ::Base.CoreLogging.LogState\u001b[1m)\u001b[22m at \u001b[1m./logging.jl:395\u001b[22m\n",
      " [13] \u001b[1mwith_logger\u001b[22m at \u001b[1m./logging.jl:491\u001b[22m [inlined]\n",
      " [14] \u001b[1mwatch_manifest\u001b[22m\u001b[1m(\u001b[22m::String\u001b[1m)\u001b[22m at \u001b[1m/home/nathan/.julia/packages/Revise/agmgx/src/pkgs.jl:349\u001b[22m\n",
      " [15] \u001b[1m(::Revise.Rescheduler{typeof(Revise.watch_manifest),Tuple{String}})\u001b[22m\u001b[1m(\u001b[22m\u001b[1m)\u001b[22m at \u001b[1m/home/nathan/.julia/packages/Revise/agmgx/src/types.jl:235\u001b[22m\n",
      "while evaluating\n",
      "_precompile_()\n",
      "in module Main.Tokenize\n",
      "\u001b[91mArgumentError: Package OrderedCollections not found in current path:\u001b[39m\n",
      "\u001b[91m- Run `import Pkg; Pkg.add(\"OrderedCollections\")` to install the OrderedCollections package.\u001b[39m\n",
      "\n",
      "Stacktrace:\n",
      " [1] \u001b[1mrequire\u001b[22m\u001b[1m(\u001b[22m::Module, ::Symbol\u001b[1m)\u001b[22m at \u001b[1m./loading.jl:823\u001b[22m\n",
      " [2] \u001b[1meval\u001b[22m at \u001b[1m./boot.jl:319\u001b[22m [inlined]\n",
      " [3] \u001b[1mprepare_thunk\u001b[22m\u001b[1m(\u001b[22m::Module, ::Expr, ::Bool\u001b[1m)\u001b[22m at \u001b[1m/home/nathan/.julia/packages/JuliaInterpreter/Or807/src/construct.jl:355\u001b[22m\n",
      " [4] \u001b[1mprepare_thunk\u001b[22m\u001b[1m(\u001b[22m::Module, ::Expr, ::Bool\u001b[1m)\u001b[22m at \u001b[1m/home/nathan/.julia/packages/JuliaInterpreter/Or807/src/construct.jl:361\u001b[22m\n",
      " [5] \u001b[1mprepare_thunk\u001b[22m at \u001b[1m/home/nathan/.julia/packages/JuliaInterpreter/Or807/src/construct.jl:347\u001b[22m [inlined]\n",
      " [6] \u001b[1m#methods_by_execution!#9\u001b[22m\u001b[1m(\u001b[22m::Base.Iterators.Pairs{Symbol,Bool,Tuple{Symbol},NamedTuple{(:define,),Tuple{Bool}}}, ::Function, ::Any, ::Revise.CodeTrackingMethodInfo, ::Dict{Module,Array{Expr,1}}, ::Module, ::Expr\u001b[1m)\u001b[22m at \u001b[1m/home/nathan/.julia/packages/Revise/agmgx/src/lowered.jl:47\u001b[22m\n",
      " [7] \u001b[1m#methods_by_execution!\u001b[22m at \u001b[1m./none:0\u001b[22m [inlined]\n",
      " [8] \u001b[1m#eval_with_signatures#59\u001b[22m at \u001b[1m/home/nathan/.julia/packages/Revise/agmgx/src/Revise.jl:344\u001b[22m [inlined]\n",
      " [9] \u001b[1m#eval_with_signatures\u001b[22m at \u001b[1m./none:0\u001b[22m [inlined]\n",
      " [10] \u001b[1m#instantiate_sigs!#60\u001b[22m\u001b[1m(\u001b[22m::Bool, ::Base.Iterators.Pairs{Union{},Union{},Tuple{},NamedTuple{(),Tuple{}}}, ::Function, ::OrderedCollections.OrderedDict{Module,OrderedCollections.OrderedDict{Revise.RelocatableExpr,Union{Nothing, Array{Any,1}}}}\u001b[1m)\u001b[22m at \u001b[1m/home/nathan/.julia/packages/Revise/agmgx/src/Revise.jl:352\u001b[22m\n",
      " [11] \u001b[1minstantiate_sigs!\u001b[22m at \u001b[1m/home/nathan/.julia/packages/Revise/agmgx/src/Revise.jl:349\u001b[22m [inlined]\n",
      " [12] \u001b[1mmaybe_parse_from_cache!\u001b[22m\u001b[1m(\u001b[22m::Revise.PkgData, ::String\u001b[1m)\u001b[22m at \u001b[1m/home/nathan/.julia/packages/Revise/agmgx/src/pkgs.jl:224\u001b[22m\n",
      " [13] \u001b[1m(::getfield(Revise, Symbol(\"##26#27\")){String})\u001b[22m\u001b[1m(\u001b[22m\u001b[1m)\u001b[22m at \u001b[1m/home/nathan/.julia/packages/Revise/agmgx/src/pkgs.jl:370\u001b[22m\n",
      " [14] \u001b[1mwith_logstate\u001b[22m\u001b[1m(\u001b[22m::getfield(Revise, Symbol(\"##26#27\")){String}, ::Base.CoreLogging.LogState\u001b[1m)\u001b[22m at \u001b[1m./logging.jl:395\u001b[22m\n",
      " [15] \u001b[1mwith_logger\u001b[22m at \u001b[1m./logging.jl:491\u001b[22m [inlined]\n",
      " [16] \u001b[1mwatch_manifest\u001b[22m\u001b[1m(\u001b[22m::String\u001b[1m)\u001b[22m at \u001b[1m/home/nathan/.julia/packages/Revise/agmgx/src/pkgs.jl:349\u001b[22m\n",
      " [17] \u001b[1m(::Revise.Rescheduler{typeof(Revise.watch_manifest),Tuple{String}})\u001b[22m\u001b[1m(\u001b[22m\u001b[1m)\u001b[22m at \u001b[1m/home/nathan/.julia/packages/Revise/agmgx/src/types.jl:235\u001b[22m\n",
      "while evaluating\n",
      "using OrderedCollections\n",
      "in module Main.DataStructures\n",
      "\u001b[91mArgumentError: Package OrderedCollections not found in current path:\u001b[39m\n",
      "\u001b[91m- Run `import Pkg; Pkg.add(\"OrderedCollections\")` to install the OrderedCollections package.\u001b[39m\n",
      "\n",
      "Stacktrace:\n",
      " [1] \u001b[1mrequire\u001b[22m\u001b[1m(\u001b[22m::Module, ::Symbol\u001b[1m)\u001b[22m at \u001b[1m./loading.jl:823\u001b[22m\n",
      " [2] \u001b[1meval\u001b[22m at \u001b[1m./boot.jl:319\u001b[22m [inlined]\n",
      " [3] \u001b[1mprepare_thunk\u001b[22m\u001b[1m(\u001b[22m::Module, ::Expr, ::Bool\u001b[1m)\u001b[22m at \u001b[1m/home/nathan/.julia/packages/JuliaInterpreter/Or807/src/construct.jl:355\u001b[22m\n",
      " [4] \u001b[1mprepare_thunk\u001b[22m\u001b[1m(\u001b[22m::Module, ::Expr, ::Bool\u001b[1m)\u001b[22m at \u001b[1m/home/nathan/.julia/packages/JuliaInterpreter/Or807/src/construct.jl:361\u001b[22m\n",
      " [5] \u001b[1mprepare_thunk\u001b[22m at \u001b[1m/home/nathan/.julia/packages/JuliaInterpreter/Or807/src/construct.jl:347\u001b[22m [inlined]\n",
      " [6] \u001b[1m#methods_by_execution!#9\u001b[22m\u001b[1m(\u001b[22m::Base.Iterators.Pairs{Symbol,Bool,Tuple{Symbol},NamedTuple{(:define,),Tuple{Bool}}}, ::Function, ::Any, ::Revise.CodeTrackingMethodInfo, ::Dict{Module,Array{Expr,1}}, ::Module, ::Expr\u001b[1m)\u001b[22m at \u001b[1m/home/nathan/.julia/packages/Revise/agmgx/src/lowered.jl:47\u001b[22m\n",
      " [7] \u001b[1m#methods_by_execution!\u001b[22m at \u001b[1m./none:0\u001b[22m [inlined]\n",
      " [8] \u001b[1m#eval_with_signatures#59\u001b[22m at \u001b[1m/home/nathan/.julia/packages/Revise/agmgx/src/Revise.jl:344\u001b[22m [inlined]\n",
      " [9] \u001b[1m#eval_with_signatures\u001b[22m at \u001b[1m./none:0\u001b[22m [inlined]\n",
      " [10] \u001b[1m#instantiate_sigs!#60\u001b[22m\u001b[1m(\u001b[22m::Bool, ::Base.Iterators.Pairs{Union{},Union{},Tuple{},NamedTuple{(),Tuple{}}}, ::Function, ::OrderedCollections.OrderedDict{Module,OrderedCollections.OrderedDict{Revise.RelocatableExpr,Union{Nothing, Array{Any,1}}}}\u001b[1m)\u001b[22m at \u001b[1m/home/nathan/.julia/packages/Revise/agmgx/src/Revise.jl:352\u001b[22m\n",
      " [11] \u001b[1minstantiate_sigs!\u001b[22m at \u001b[1m/home/nathan/.julia/packages/Revise/agmgx/src/Revise.jl:349\u001b[22m [inlined]\n",
      " [12] \u001b[1mmaybe_parse_from_cache!\u001b[22m\u001b[1m(\u001b[22m::Revise.PkgData, ::String\u001b[1m)\u001b[22m at \u001b[1m/home/nathan/.julia/packages/Revise/agmgx/src/pkgs.jl:224\u001b[22m\n",
      " [13] \u001b[1m(::getfield(Revise, Symbol(\"##26#27\")){String})\u001b[22m\u001b[1m(\u001b[22m\u001b[1m)\u001b[22m at \u001b[1m/home/nathan/.julia/packages/Revise/agmgx/src/pkgs.jl:370\u001b[22m\n",
      " [14] \u001b[1mwith_logstate\u001b[22m\u001b[1m(\u001b[22m::getfield(Revise, Symbol(\"##26#27\")){String}, ::Base.CoreLogging.LogState\u001b[1m)\u001b[22m at \u001b[1m./logging.jl:395\u001b[22m\n",
      " [15] \u001b[1mwith_logger\u001b[22m at \u001b[1m./logging.jl:491\u001b[22m [inlined]\n",
      " [16] \u001b[1mwatch_manifest\u001b[22m\u001b[1m(\u001b[22m::String\u001b[1m)\u001b[22m at \u001b[1m/home/nathan/.julia/packages/Revise/agmgx/src/pkgs.jl:349\u001b[22m\n",
      " [17] \u001b[1m(::Revise.Rescheduler{typeof(Revise.watch_manifest),Tuple{String}})\u001b[22m\u001b[1m(\u001b[22m\u001b[1m)\u001b[22m at \u001b[1m/home/nathan/.julia/packages/Revise/agmgx/src/types.jl:235\u001b[22m\n",
      "while evaluating\n",
      "import OrderedCollections: filter, filter!, isordered\n",
      "in module Main.DataStructures\n",
      "\u001b[91mUndefVarError: Tokens not defined\u001b[39m\n",
      "Stacktrace:\n",
      " [1] \u001b[1meval\u001b[22m at \u001b[1m./boot.jl:319\u001b[22m [inlined]\n",
      " [2] \u001b[1mprepare_thunk\u001b[22m\u001b[1m(\u001b[22m::Module, ::Expr, ::Bool\u001b[1m)\u001b[22m at \u001b[1m/home/nathan/.julia/packages/JuliaInterpreter/Or807/src/construct.jl:355\u001b[22m\n",
      " [3] \u001b[1mprepare_thunk\u001b[22m\u001b[1m(\u001b[22m::Module, ::Expr, ::Bool\u001b[1m)\u001b[22m at \u001b[1m/home/nathan/.julia/packages/JuliaInterpreter/Or807/src/construct.jl:361\u001b[22m\n",
      " [4] \u001b[1mprepare_thunk\u001b[22m at \u001b[1m/home/nathan/.julia/packages/JuliaInterpreter/Or807/src/construct.jl:347\u001b[22m [inlined]\n",
      " [5] \u001b[1m#methods_by_execution!#9\u001b[22m\u001b[1m(\u001b[22m::Base.Iterators.Pairs{Symbol,Bool,Tuple{Symbol},NamedTuple{(:define,),Tuple{Bool}}}, ::Function, ::Any, ::Revise.CodeTrackingMethodInfo, ::Dict{Module,Array{Expr,1}}, ::Module, ::Expr\u001b[1m)\u001b[22m at \u001b[1m/home/nathan/.julia/packages/Revise/agmgx/src/lowered.jl:47\u001b[22m\n",
      " [6] \u001b[1m#methods_by_execution!\u001b[22m at \u001b[1m./none:0\u001b[22m [inlined]\n",
      " [7] \u001b[1m#eval_with_signatures#59\u001b[22m at \u001b[1m/home/nathan/.julia/packages/Revise/agmgx/src/Revise.jl:344\u001b[22m [inlined]\n",
      " [8] \u001b[1m#eval_with_signatures\u001b[22m at \u001b[1m./none:0\u001b[22m [inlined]\n",
      " [9] \u001b[1m#instantiate_sigs!#60\u001b[22m\u001b[1m(\u001b[22m::Bool, ::Base.Iterators.Pairs{Union{},Union{},Tuple{},NamedTuple{(),Tuple{}}}, ::Function, ::OrderedCollections.OrderedDict{Module,OrderedCollections.OrderedDict{Revise.RelocatableExpr,Union{Nothing, Array{Any,1}}}}\u001b[1m)\u001b[22m at \u001b[1m/home/nathan/.julia/packages/Revise/agmgx/src/Revise.jl:352\u001b[22m\n",
      " [10] \u001b[1minstantiate_sigs!\u001b[22m at \u001b[1m/home/nathan/.julia/packages/Revise/agmgx/src/Revise.jl:349\u001b[22m [inlined]\n",
      " [11] \u001b[1mmaybe_parse_from_cache!\u001b[22m\u001b[1m(\u001b[22m::Revise.PkgData, ::String\u001b[1m)\u001b[22m at \u001b[1m/home/nathan/.julia/packages/Revise/agmgx/src/pkgs.jl:224\u001b[22m\n",
      " [12] \u001b[1m(::getfield(Revise, Symbol(\"##26#27\")){String})\u001b[22m\u001b[1m(\u001b[22m\u001b[1m)\u001b[22m at \u001b[1m/home/nathan/.julia/packages/Revise/agmgx/src/pkgs.jl:370\u001b[22m\n",
      " [13] \u001b[1mwith_logstate\u001b[22m\u001b[1m(\u001b[22m::getfield(Revise, Symbol(\"##26#27\")){String}, ::Base.CoreLogging.LogState\u001b[1m)\u001b[22m at \u001b[1m./logging.jl:395\u001b[22m\n",
      " [14] \u001b[1mwith_logger\u001b[22m at \u001b[1m./logging.jl:491\u001b[22m [inlined]\n",
      " [15] \u001b[1mwatch_manifest\u001b[22m\u001b[1m(\u001b[22m::String\u001b[1m)\u001b[22m at \u001b[1m/home/nathan/.julia/packages/Revise/agmgx/src/pkgs.jl:349\u001b[22m\n",
      " [16] \u001b[1m(::Revise.Rescheduler{typeof(Revise.watch_manifest),Tuple{String}})\u001b[22m\u001b[1m(\u001b[22m\u001b[1m)\u001b[22m at \u001b[1m/home/nathan/.julia/packages/Revise/agmgx/src/types.jl:235\u001b[22m\n",
      "while evaluating\n",
      "import .Tokens: IntSemiToken\n",
      "in module Main.DataStructures\n"
     ]
    },
    {
     "name": "stderr",
     "output_type": "stream",
     "text": [
      "\u001b[91mUndefVarError: depsfile not defined\u001b[39m\n",
      "Stacktrace:\n",
      " [1] \u001b[1m#collect_args#33\u001b[22m\u001b[1m(\u001b[22m::Bool, ::Function, ::JuliaInterpreter.Frame, ::Expr\u001b[1m)\u001b[22m at \u001b[1m/home/nathan/.julia/packages/JuliaInterpreter/Or807/src/interpret.jl:64\u001b[22m\n",
      " [2] \u001b[1mcollect_args\u001b[22m at \u001b[1m/home/nathan/.julia/packages/JuliaInterpreter/Or807/src/interpret.jl:139\u001b[22m [inlined]\n",
      " [3] \u001b[1mlookup_callexpr\u001b[22m at \u001b[1m/home/nathan/.julia/packages/Revise/agmgx/src/lowered.jl:13\u001b[22m [inlined]\n",
      " [4] \u001b[1m#methods_by_execution!#14\u001b[22m\u001b[1m(\u001b[22m::Bool, ::Bool, ::Function, ::Any, ::Revise.CodeTrackingMethodInfo, ::Dict{Module,Array{Expr,1}}, ::JuliaInterpreter.Frame\u001b[1m)\u001b[22m at \u001b[1m/home/nathan/.julia/packages/Revise/agmgx/src/lowered.jl:187\u001b[22m\n",
      " [5] \u001b[1m#methods_by_execution!\u001b[22m at \u001b[1m./none:0\u001b[22m [inlined]\n",
      " [6] \u001b[1m#methods_by_execution!#9\u001b[22m\u001b[1m(\u001b[22m::Base.Iterators.Pairs{Symbol,Bool,Tuple{Symbol},NamedTuple{(:define,),Tuple{Bool}}}, ::Function, ::Any, ::Revise.CodeTrackingMethodInfo, ::Dict{Module,Array{Expr,1}}, ::Module, ::Expr\u001b[1m)\u001b[22m at \u001b[1m/home/nathan/.julia/packages/Revise/agmgx/src/lowered.jl:49\u001b[22m\n",
      " [7] \u001b[1m#methods_by_execution!\u001b[22m at \u001b[1m./none:0\u001b[22m [inlined]\n",
      " [8] \u001b[1m#eval_with_signatures#59\u001b[22m at \u001b[1m/home/nathan/.julia/packages/Revise/agmgx/src/Revise.jl:344\u001b[22m [inlined]\n",
      " [9] \u001b[1m#eval_with_signatures\u001b[22m at \u001b[1m./none:0\u001b[22m [inlined]\n",
      " [10] \u001b[1m#instantiate_sigs!#60\u001b[22m\u001b[1m(\u001b[22m::Bool, ::Base.Iterators.Pairs{Union{},Union{},Tuple{},NamedTuple{(),Tuple{}}}, ::Function, ::OrderedCollections.OrderedDict{Module,OrderedCollections.OrderedDict{Revise.RelocatableExpr,Union{Nothing, Array{Any,1}}}}\u001b[1m)\u001b[22m at \u001b[1m/home/nathan/.julia/packages/Revise/agmgx/src/Revise.jl:352\u001b[22m\n",
      " [11] \u001b[1minstantiate_sigs!\u001b[22m at \u001b[1m/home/nathan/.julia/packages/Revise/agmgx/src/Revise.jl:349\u001b[22m [inlined]\n",
      " [12] \u001b[1mmaybe_parse_from_cache!\u001b[22m\u001b[1m(\u001b[22m::Revise.PkgData, ::String\u001b[1m)\u001b[22m at \u001b[1m/home/nathan/.julia/packages/Revise/agmgx/src/pkgs.jl:224\u001b[22m\n",
      " [13] \u001b[1m(::getfield(Revise, Symbol(\"##26#27\")){String})\u001b[22m\u001b[1m(\u001b[22m\u001b[1m)\u001b[22m at \u001b[1m/home/nathan/.julia/packages/Revise/agmgx/src/pkgs.jl:370\u001b[22m\n",
      " [14] \u001b[1mwith_logstate\u001b[22m\u001b[1m(\u001b[22m::getfield(Revise, Symbol(\"##26#27\")){String}, ::Base.CoreLogging.LogState\u001b[1m)\u001b[22m at \u001b[1m./logging.jl:395\u001b[22m\n",
      " [15] \u001b[1mwith_logger\u001b[22m at \u001b[1m./logging.jl:491\u001b[22m [inlined]\n",
      " [16] \u001b[1mwatch_manifest\u001b[22m\u001b[1m(\u001b[22m::String\u001b[1m)\u001b[22m at \u001b[1m/home/nathan/.julia/packages/Revise/agmgx/src/pkgs.jl:349\u001b[22m\n",
      " [17] \u001b[1m(::Revise.Rescheduler{typeof(Revise.watch_manifest),Tuple{String}})\u001b[22m\u001b[1m(\u001b[22m\u001b[1m)\u001b[22m at \u001b[1m/home/nathan/.julia/packages/Revise/agmgx/src/types.jl:235\u001b[22m\n",
      "while evaluating\n",
      "if isfile(depsfile)\n",
      "    #= /home/nathan/.julia/packages/HDF5/2gJEi/src/HDF5.jl:32 =#\n",
      "    include(depsfile)\n",
      "else\n",
      "    #= /home/nathan/.julia/packages/HDF5/2gJEi/src/HDF5.jl:34 =#\n",
      "    error(\"HDF5 not properly installed. Please run Pkg.build(\\\"HDF5\\\")\")\n",
      "end\n",
      "in module Main.HDF5\n",
      "\u001b[91mUndefVarError: libhdf5 not defined\u001b[39m\n",
      "Stacktrace:\n",
      " [1] \u001b[1m#collect_args#33\u001b[22m\u001b[1m(\u001b[22m::Bool, ::Function, ::JuliaInterpreter.Frame, ::Expr\u001b[1m)\u001b[22m at \u001b[1m/home/nathan/.julia/packages/JuliaInterpreter/Or807/src/interpret.jl:64\u001b[22m\n",
      " [2] \u001b[1mcollect_args\u001b[22m at \u001b[1m/home/nathan/.julia/packages/JuliaInterpreter/Or807/src/interpret.jl:139\u001b[22m [inlined]\n",
      " [3] \u001b[1m#evaluate_call_recurse!#37\u001b[22m\u001b[1m(\u001b[22m::Bool, ::Function, ::Any, ::JuliaInterpreter.Frame, ::Expr\u001b[1m)\u001b[22m at \u001b[1m/home/nathan/.julia/packages/JuliaInterpreter/Or807/src/interpret.jl:212\u001b[22m\n",
      " [4] \u001b[1mevaluate_call_recurse!\u001b[22m at \u001b[1m/home/nathan/.julia/packages/JuliaInterpreter/Or807/src/interpret.jl:206\u001b[22m [inlined]\n",
      " [5] \u001b[1meval_rhs\u001b[22m\u001b[1m(\u001b[22m::Any, ::JuliaInterpreter.Frame, ::Expr\u001b[1m)\u001b[22m at \u001b[1m/home/nathan/.julia/packages/JuliaInterpreter/Or807/src/interpret.jl:381\u001b[22m\n",
      " [6] \u001b[1mstep_expr!\u001b[22m\u001b[1m(\u001b[22m::Any, ::JuliaInterpreter.Frame, ::Any, ::Bool\u001b[1m)\u001b[22m at \u001b[1m/home/nathan/.julia/packages/JuliaInterpreter/Or807/src/interpret.jl:431\u001b[22m\n",
      " [7] \u001b[1m#methods_by_execution!#14\u001b[22m\u001b[1m(\u001b[22m::Bool, ::Bool, ::Function, ::Any, ::Revise.CodeTrackingMethodInfo, ::Dict{Module,Array{Expr,1}}, ::JuliaInterpreter.Frame\u001b[1m)\u001b[22m at \u001b[1m/home/nathan/.julia/packages/Revise/agmgx/src/lowered.jl:195\u001b[22m\n",
      " [8] \u001b[1m#methods_by_execution!\u001b[22m at \u001b[1m./none:0\u001b[22m [inlined]\n",
      " [9] \u001b[1m#methods_by_execution!#9\u001b[22m\u001b[1m(\u001b[22m::Base.Iterators.Pairs{Symbol,Bool,Tuple{Symbol},NamedTuple{(:define,),Tuple{Bool}}}, ::Function, ::Any, ::Revise.CodeTrackingMethodInfo, ::Dict{Module,Array{Expr,1}}, ::Module, ::Expr\u001b[1m)\u001b[22m at \u001b[1m/home/nathan/.julia/packages/Revise/agmgx/src/lowered.jl:49\u001b[22m\n",
      " [10] \u001b[1m#methods_by_execution!\u001b[22m at \u001b[1m./none:0\u001b[22m [inlined]\n",
      " [11] \u001b[1m#eval_with_signatures#59\u001b[22m at \u001b[1m/home/nathan/.julia/packages/Revise/agmgx/src/Revise.jl:344\u001b[22m [inlined]\n",
      " [12] \u001b[1m#eval_with_signatures\u001b[22m at \u001b[1m./none:0\u001b[22m [inlined]\n",
      " [13] \u001b[1m#instantiate_sigs!#60\u001b[22m\u001b[1m(\u001b[22m::Bool, ::Base.Iterators.Pairs{Union{},Union{},Tuple{},NamedTuple{(),Tuple{}}}, ::Function, ::OrderedCollections.OrderedDict{Module,OrderedCollections.OrderedDict{Revise.RelocatableExpr,Union{Nothing, Array{Any,1}}}}\u001b[1m)\u001b[22m at \u001b[1m/home/nathan/.julia/packages/Revise/agmgx/src/Revise.jl:352\u001b[22m\n",
      " [14] \u001b[1minstantiate_sigs!\u001b[22m at \u001b[1m/home/nathan/.julia/packages/Revise/agmgx/src/Revise.jl:349\u001b[22m [inlined]\n",
      " [15] \u001b[1mmaybe_parse_from_cache!\u001b[22m\u001b[1m(\u001b[22m::Revise.PkgData, ::String\u001b[1m)\u001b[22m at \u001b[1m/home/nathan/.julia/packages/Revise/agmgx/src/pkgs.jl:224\u001b[22m\n",
      " [16] \u001b[1m(::getfield(Revise, Symbol(\"##26#27\")){String})\u001b[22m\u001b[1m(\u001b[22m\u001b[1m)\u001b[22m at \u001b[1m/home/nathan/.julia/packages/Revise/agmgx/src/pkgs.jl:370\u001b[22m\n",
      " [17] \u001b[1mwith_logstate\u001b[22m\u001b[1m(\u001b[22m::getfield(Revise, Symbol(\"##26#27\")){String}, ::Base.CoreLogging.LogState\u001b[1m)\u001b[22m at \u001b[1m./logging.jl:395\u001b[22m\n",
      " [18] \u001b[1mwith_logger\u001b[22m at \u001b[1m./logging.jl:491\u001b[22m [inlined]\n",
      " [19] \u001b[1mwatch_manifest\u001b[22m\u001b[1m(\u001b[22m::String\u001b[1m)\u001b[22m at \u001b[1m/home/nathan/.julia/packages/Revise/agmgx/src/pkgs.jl:349\u001b[22m\n",
      " [20] \u001b[1m(::Revise.Rescheduler{typeof(Revise.watch_manifest),Tuple{String}})\u001b[22m\u001b[1m(\u001b[22m\u001b[1m)\u001b[22m at \u001b[1m/home/nathan/.julia/packages/Revise/agmgx/src/types.jl:235\u001b[22m\n",
      "while evaluating\n",
      "let d = dirname(libhdf5), b = basename(libhdf5)\n",
      "    #= /home/nathan/.julia/packages/HDF5/2gJEi/src/HDF5.jl:38 =#\n",
      "    (base, ext) = split(b, \".\", limit=2)\n",
      "    #= /home/nathan/.julia/packages/HDF5/2gJEi/src/HDF5.jl:39 =#\n",
      "    hl = joinpath(d, \"libhdf5_hl.$(ext)\")\n",
      "    #= /home/nathan/.julia/packages/HDF5/2gJEi/src/HDF5.jl:40 =#\n",
      "    const global libhdf5_hl = if isfile(hl)\n",
      "                    hl\n",
      "                else\n",
      "                    \"\"\n",
      "                end\n",
      "end\n",
      "in module Main.HDF5\n",
      "Revise.LogRecord(Warn, omitting call expression (Main.HDF5.h5_get_libversion)() in (\"none\", 0), lowered, Revise_c21d3a4d, \"/home/nathan/.julia/packages/Revise/agmgx/src/lowered.jl\", 188)\u001b[91mUndefVarError: libversion not defined\u001b[39m\n",
      "Stacktrace:\n",
      " [1] \u001b[1m#collect_args#33\u001b[22m\u001b[1m(\u001b[22m::Bool, ::Function, ::JuliaInterpreter.Frame, ::Expr\u001b[1m)\u001b[22m at \u001b[1m/home/nathan/.julia/packages/JuliaInterpreter/Or807/src/interpret.jl:64\u001b[22m\n",
      " [2] \u001b[1mcollect_args\u001b[22m at \u001b[1m/home/nathan/.julia/packages/JuliaInterpreter/Or807/src/interpret.jl:139\u001b[22m [inlined]\n",
      " [3] \u001b[1mlookup_callexpr\u001b[22m at \u001b[1m/home/nathan/.julia/packages/Revise/agmgx/src/lowered.jl:13\u001b[22m [inlined]\n",
      " [4] \u001b[1m#methods_by_execution!#14\u001b[22m\u001b[1m(\u001b[22m::Bool, ::Bool, ::Function, ::Any, ::Revise.CodeTrackingMethodInfo, ::Dict{Module,Array{Expr,1}}, ::JuliaInterpreter.Frame\u001b[1m)\u001b[22m at \u001b[1m/home/nathan/.julia/packages/Revise/agmgx/src/lowered.jl:187\u001b[22m\n",
      " [5] \u001b[1m#methods_by_execution!\u001b[22m at \u001b[1m./none:0\u001b[22m [inlined]\n",
      " [6] \u001b[1m#methods_by_execution!#9\u001b[22m\u001b[1m(\u001b[22m::Base.Iterators.Pairs{Symbol,Bool,Tuple{Symbol},NamedTuple{(:define,),Tuple{Bool}}}, ::Function, ::Any, ::Revise.CodeTrackingMethodInfo, ::Dict{Module,Array{Expr,1}}, ::Module, ::Expr\u001b[1m)\u001b[22m at \u001b[1m/home/nathan/.julia/packages/Revise/agmgx/src/lowered.jl:49\u001b[22m\n",
      " [7] \u001b[1m#methods_by_execution!\u001b[22m at \u001b[1m./none:0\u001b[22m [inlined]\n",
      " [8] \u001b[1m#eval_with_signatures#59\u001b[22m at \u001b[1m/home/nathan/.julia/packages/Revise/agmgx/src/Revise.jl:344\u001b[22m [inlined]\n",
      " [9] \u001b[1m#eval_with_signatures\u001b[22m at \u001b[1m./none:0\u001b[22m [inlined]\n",
      " [10] \u001b[1m#instantiate_sigs!#60\u001b[22m\u001b[1m(\u001b[22m::Bool, ::Base.Iterators.Pairs{Union{},Union{},Tuple{},NamedTuple{(),Tuple{}}}, ::Function, ::OrderedCollections.OrderedDict{Module,OrderedCollections.OrderedDict{Revise.RelocatableExpr,Union{Nothing, Array{Any,1}}}}\u001b[1m)\u001b[22m at \u001b[1m/home/nathan/.julia/packages/Revise/agmgx/src/Revise.jl:352\u001b[22m\n",
      " [11] \u001b[1minstantiate_sigs!\u001b[22m at \u001b[1m/home/nathan/.julia/packages/Revise/agmgx/src/Revise.jl:349\u001b[22m [inlined]\n",
      " [12] \u001b[1mmaybe_parse_from_cache!\u001b[22m\u001b[1m(\u001b[22m::Revise.PkgData, ::String\u001b[1m)\u001b[22m at \u001b[1m/home/nathan/.julia/packages/Revise/agmgx/src/pkgs.jl:224\u001b[22m\n",
      " [13] \u001b[1m(::getfield(Revise, Symbol(\"##26#27\")){String})\u001b[22m\u001b[1m(\u001b[22m\u001b[1m)\u001b[22m at \u001b[1m/home/nathan/.julia/packages/Revise/agmgx/src/pkgs.jl:370\u001b[22m\n",
      " [14] \u001b[1mwith_logstate\u001b[22m\u001b[1m(\u001b[22m::getfield(Revise, Symbol(\"##26#27\")){String}, ::Base.CoreLogging.LogState\u001b[1m)\u001b[22m at \u001b[1m./logging.jl:395\u001b[22m\n",
      " [15] \u001b[1mwith_logger\u001b[22m at \u001b[1m./logging.jl:491\u001b[22m [inlined]\n",
      " [16] \u001b[1mwatch_manifest\u001b[22m\u001b[1m(\u001b[22m::String\u001b[1m)\u001b[22m at \u001b[1m/home/nathan/.julia/packages/Revise/agmgx/src/pkgs.jl:349\u001b[22m\n",
      " [17] \u001b[1m(::Revise.Rescheduler{typeof(Revise.watch_manifest),Tuple{String}})\u001b[22m\u001b[1m(\u001b[22m\u001b[1m)\u001b[22m at \u001b[1m/home/nathan/.julia/packages/Revise/agmgx/src/types.jl:235\u001b[22m\n",
      "while evaluating\n",
      "if libversion >= #= /home/nathan/.julia/packages/HDF5/2gJEi/src/HDF5.jl:63 =# @v_str(\"1.10.0\")\n",
      "    #= /home/nathan/.julia/packages/HDF5/2gJEi/src/HDF5.jl:64 =#\n",
      "    const Hid = Int64\n",
      "else\n",
      "    #= /home/nathan/.julia/packages/HDF5/2gJEi/src/HDF5.jl:66 =#\n",
      "    const Hid = Cint\n",
      "end\n",
      "in module Main.HDF5\n",
      "\u001b[91mUndefVarError: Hmpih32 not defined\u001b[39m\n",
      "Stacktrace:\n",
      " [1] \u001b[1m#collect_args#33\u001b[22m\u001b[1m(\u001b[22m::Bool, ::Function, ::JuliaInterpreter.Frame, ::Expr\u001b[1m)\u001b[22m at \u001b[1m/home/nathan/.julia/packages/JuliaInterpreter/Or807/src/interpret.jl:64\u001b[22m\n",
      " [2] \u001b[1mcollect_args\u001b[22m at \u001b[1m/home/nathan/.julia/packages/JuliaInterpreter/Or807/src/interpret.jl:139\u001b[22m [inlined]\n",
      " [3] \u001b[1mlookup_callexpr\u001b[22m at \u001b[1m/home/nathan/.julia/packages/Revise/agmgx/src/lowered.jl:13\u001b[22m [inlined]\n",
      " [4] \u001b[1m#methods_by_execution!#14\u001b[22m\u001b[1m(\u001b[22m::Bool, ::Bool, ::Function, ::Any, ::Revise.CodeTrackingMethodInfo, ::Dict{Module,Array{Expr,1}}, ::JuliaInterpreter.Frame\u001b[1m)\u001b[22m at \u001b[1m/home/nathan/.julia/packages/Revise/agmgx/src/lowered.jl:187\u001b[22m\n",
      " [5] \u001b[1m#methods_by_execution!\u001b[22m at \u001b[1m./none:0\u001b[22m [inlined]\n",
      " [6] \u001b[1m#methods_by_execution!#9\u001b[22m\u001b[1m(\u001b[22m::Base.Iterators.Pairs{Symbol,Bool,Tuple{Symbol},NamedTuple{(:define,),Tuple{Bool}}}, ::Function, ::Any, ::Revise.CodeTrackingMethodInfo, ::Dict{Module,Array{Expr,1}}, ::Module, ::Expr\u001b[1m)\u001b[22m at \u001b[1m/home/nathan/.julia/packages/Revise/agmgx/src/lowered.jl:49\u001b[22m\n",
      " [7] \u001b[1m#methods_by_execution!\u001b[22m at \u001b[1m./none:0\u001b[22m [inlined]\n",
      " [8] \u001b[1m#eval_with_signatures#59\u001b[22m at \u001b[1m/home/nathan/.julia/packages/Revise/agmgx/src/Revise.jl:344\u001b[22m [inlined]\n",
      " [9] \u001b[1m#eval_with_signatures\u001b[22m at \u001b[1m./none:0\u001b[22m [inlined]\n",
      " [10] \u001b[1m#instantiate_sigs!#60\u001b[22m\u001b[1m(\u001b[22m::Bool, ::Base.Iterators.Pairs{Union{},Union{},Tuple{},NamedTuple{(),Tuple{}}}, ::Function, ::OrderedCollections.OrderedDict{Module,OrderedCollections.OrderedDict{Revise.RelocatableExpr,Union{Nothing, Array{Any,1}}}}\u001b[1m)\u001b[22m at \u001b[1m/home/nathan/.julia/packages/Revise/agmgx/src/Revise.jl:352\u001b[22m\n",
      " [11] \u001b[1minstantiate_sigs!\u001b[22m at \u001b[1m/home/nathan/.julia/packages/Revise/agmgx/src/Revise.jl:349\u001b[22m [inlined]\n",
      " [12] \u001b[1mmaybe_parse_from_cache!\u001b[22m\u001b[1m(\u001b[22m::Revise.PkgData, ::String\u001b[1m)\u001b[22m at \u001b[1m/home/nathan/.julia/packages/Revise/agmgx/src/pkgs.jl:224\u001b[22m\n",
      " [13] \u001b[1m(::getfield(Revise, Symbol(\"##26#27\")){String})\u001b[22m\u001b[1m(\u001b[22m\u001b[1m)\u001b[22m at \u001b[1m/home/nathan/.julia/packages/Revise/agmgx/src/pkgs.jl:370\u001b[22m\n",
      " [14] \u001b[1mwith_logstate\u001b[22m\u001b[1m(\u001b[22m::getfield(Revise, Symbol(\"##26#27\")){String}, ::Base.CoreLogging.LogState\u001b[1m)\u001b[22m at \u001b[1m./logging.jl:395\u001b[22m\n",
      " [15] \u001b[1mwith_logger\u001b[22m at \u001b[1m./logging.jl:491\u001b[22m [inlined]\n",
      " [16] \u001b[1mwatch_manifest\u001b[22m\u001b[1m(\u001b[22m::String\u001b[1m)\u001b[22m at \u001b[1m/home/nathan/.julia/packages/Revise/agmgx/src/pkgs.jl:349\u001b[22m\n",
      " [17] \u001b[1m(::Revise.Rescheduler{typeof(Revise.watch_manifest),Tuple{String}})\u001b[22m\u001b[1m(\u001b[22m\u001b[1m)\u001b[22m at \u001b[1m/home/nathan/.julia/packages/Revise/agmgx/src/types.jl:235\u001b[22m\n",
      "while evaluating\n",
      "const mpihandles = Dict(4 => Hmpih32, 8 => Hmpih64)\n",
      "in module Main.HDF5\n",
      "\u001b[91mUndefVarError: libhdf5 not defined\u001b[39m\n",
      "Stacktrace:\n",
      " [1] \u001b[1m#collect_args#33\u001b[22m\u001b[1m(\u001b[22m::Bool, ::Function, ::JuliaInterpreter.Frame, ::Expr\u001b[1m)\u001b[22m at \u001b[1m/home/nathan/.julia/packages/JuliaInterpreter/Or807/src/interpret.jl:64\u001b[22m\n",
      " [2] \u001b[1mcollect_args\u001b[22m at \u001b[1m/home/nathan/.julia/packages/JuliaInterpreter/Or807/src/interpret.jl:139\u001b[22m [inlined]\n",
      " [3] \u001b[1mlookup_callexpr\u001b[22m at \u001b[1m/home/nathan/.julia/packages/Revise/agmgx/src/lowered.jl:13\u001b[22m [inlined]\n",
      " [4] \u001b[1m#methods_by_execution!#14\u001b[22m\u001b[1m(\u001b[22m::Bool, ::Bool, ::Function, ::Any, ::Revise.CodeTrackingMethodInfo, ::Dict{Module,Array{Expr,1}}, ::JuliaInterpreter.Frame\u001b[1m)\u001b[22m at \u001b[1m/home/nathan/.julia/packages/Revise/agmgx/src/lowered.jl:187\u001b[22m\n",
      " [5] \u001b[1m#methods_by_execution!\u001b[22m at \u001b[1m./none:0\u001b[22m [inlined]\n",
      " [6] \u001b[1m#methods_by_execution!#9\u001b[22m\u001b[1m(\u001b[22m::Base.Iterators.Pairs{Symbol,Bool,Tuple{Symbol},NamedTuple{(:define,),Tuple{Bool}}}, ::Function, ::Any, ::Revise.CodeTrackingMethodInfo, ::Dict{Module,Array{Expr,1}}, ::Module, ::Expr\u001b[1m)\u001b[22m at \u001b[1m/home/nathan/.julia/packages/Revise/agmgx/src/lowered.jl:49\u001b[22m\n",
      " [7] \u001b[1m#methods_by_execution!\u001b[22m at \u001b[1m./none:0\u001b[22m [inlined]\n",
      " [8] \u001b[1m#eval_with_signatures#59\u001b[22m at \u001b[1m/home/nathan/.julia/packages/Revise/agmgx/src/Revise.jl:344\u001b[22m [inlined]\n",
      " [9] \u001b[1m#eval_with_signatures\u001b[22m at \u001b[1m./none:0\u001b[22m [inlined]\n",
      " [10] \u001b[1m#instantiate_sigs!#60\u001b[22m\u001b[1m(\u001b[22m::Bool, ::Base.Iterators.Pairs{Union{},Union{},Tuple{},NamedTuple{(),Tuple{}}}, ::Function, ::OrderedCollections.OrderedDict{Module,OrderedCollections.OrderedDict{Revise.RelocatableExpr,Union{Nothing, Array{Any,1}}}}\u001b[1m)\u001b[22m at \u001b[1m/home/nathan/.julia/packages/Revise/agmgx/src/Revise.jl:352\u001b[22m\n",
      " [11] \u001b[1minstantiate_sigs!\u001b[22m at \u001b[1m/home/nathan/.julia/packages/Revise/agmgx/src/Revise.jl:349\u001b[22m [inlined]\n",
      " [12] \u001b[1mmaybe_parse_from_cache!\u001b[22m\u001b[1m(\u001b[22m::Revise.PkgData, ::String\u001b[1m)\u001b[22m at \u001b[1m/home/nathan/.julia/packages/Revise/agmgx/src/pkgs.jl:224\u001b[22m\n",
      " [13] \u001b[1m(::getfield(Revise, Symbol(\"##26#27\")){String})\u001b[22m\u001b[1m(\u001b[22m\u001b[1m)\u001b[22m at \u001b[1m/home/nathan/.julia/packages/Revise/agmgx/src/pkgs.jl:370\u001b[22m\n",
      " [14] \u001b[1mwith_logstate\u001b[22m\u001b[1m(\u001b[22m::getfield(Revise, Symbol(\"##26#27\")){String}, ::Base.CoreLogging.LogState\u001b[1m)\u001b[22m at \u001b[1m./logging.jl:395\u001b[22m\n",
      " [15] \u001b[1mwith_logger\u001b[22m at \u001b[1m./logging.jl:491\u001b[22m [inlined]\n",
      " [16] \u001b[1mwatch_manifest\u001b[22m\u001b[1m(\u001b[22m::String\u001b[1m)\u001b[22m at \u001b[1m/home/nathan/.julia/packages/Revise/agmgx/src/pkgs.jl:349\u001b[22m\n",
      " [17] \u001b[1m(::Revise.Rescheduler{typeof(Revise.watch_manifest),Tuple{String}})\u001b[22m\u001b[1m(\u001b[22m\u001b[1m)\u001b[22m at \u001b[1m/home/nathan/.julia/packages/Revise/agmgx/src/types.jl:235\u001b[22m\n",
      "while evaluating\n",
      "const libhdf5handle = Libdl.dlopen(libhdf5)\n",
      "in module Main.HDF5\n",
      "\u001b[91mUndefVarError: H5F_OBJ_FILE not defined\u001b[39m\n",
      "Stacktrace:\n",
      " [1] \u001b[1m#collect_args#33\u001b[22m\u001b[1m(\u001b[22m::Bool, ::Function, ::JuliaInterpreter.Frame, ::Expr\u001b[1m)\u001b[22m at \u001b[1m/home/nathan/.julia/packages/JuliaInterpreter/Or807/src/interpret.jl:64\u001b[22m\n",
      " [2] \u001b[1mcollect_args\u001b[22m at \u001b[1m/home/nathan/.julia/packages/JuliaInterpreter/Or807/src/interpret.jl:139\u001b[22m [inlined]\n",
      " [3] \u001b[1mlookup_callexpr\u001b[22m at \u001b[1m/home/nathan/.julia/packages/Revise/agmgx/src/lowered.jl:13\u001b[22m [inlined]\n",
      " [4] \u001b[1m#methods_by_execution!#14\u001b[22m\u001b[1m(\u001b[22m::Bool, ::Bool, ::Function, ::Any, ::Revise.CodeTrackingMethodInfo, ::Dict{Module,Array{Expr,1}}, ::JuliaInterpreter.Frame\u001b[1m)\u001b[22m at \u001b[1m/home/nathan/.julia/packages/Revise/agmgx/src/lowered.jl:187\u001b[22m\n",
      " [5] \u001b[1m#methods_by_execution!\u001b[22m at \u001b[1m./none:0\u001b[22m [inlined]\n",
      " [6] \u001b[1m#methods_by_execution!#9\u001b[22m\u001b[1m(\u001b[22m::Base.Iterators.Pairs{Symbol,Bool,Tuple{Symbol},NamedTuple{(:define,),Tuple{Bool}}}, ::Function, ::Any, ::Revise.CodeTrackingMethodInfo, ::Dict{Module,Array{Expr,1}}, ::Module, ::Expr\u001b[1m)\u001b[22m at \u001b[1m/home/nathan/.julia/packages/Revise/agmgx/src/lowered.jl:49\u001b[22m\n",
      " [7] \u001b[1m#methods_by_execution!\u001b[22m at \u001b[1m./none:0\u001b[22m [inlined]\n",
      " [8] \u001b[1m#eval_with_signatures#59\u001b[22m at \u001b[1m/home/nathan/.julia/packages/Revise/agmgx/src/Revise.jl:344\u001b[22m [inlined]\n",
      " [9] \u001b[1m#eval_with_signatures\u001b[22m at \u001b[1m./none:0\u001b[22m [inlined]\n"
     ]
    },
    {
     "name": "stderr",
     "output_type": "stream",
     "text": [
      " [10] \u001b[1m#instantiate_sigs!#60\u001b[22m\u001b[1m(\u001b[22m::Bool, ::Base.Iterators.Pairs{Union{},Union{},Tuple{},NamedTuple{(),Tuple{}}}, ::Function, ::OrderedCollections.OrderedDict{Module,OrderedCollections.OrderedDict{Revise.RelocatableExpr,Union{Nothing, Array{Any,1}}}}\u001b[1m)\u001b[22m at \u001b[1m/home/nathan/.julia/packages/Revise/agmgx/src/Revise.jl:352\u001b[22m\n",
      " [11] \u001b[1minstantiate_sigs!\u001b[22m at \u001b[1m/home/nathan/.julia/packages/Revise/agmgx/src/Revise.jl:349\u001b[22m [inlined]\n",
      " [12] \u001b[1mmaybe_parse_from_cache!\u001b[22m\u001b[1m(\u001b[22m::Revise.PkgData, ::String\u001b[1m)\u001b[22m at \u001b[1m/home/nathan/.julia/packages/Revise/agmgx/src/pkgs.jl:224\u001b[22m\n",
      " [13] \u001b[1m(::getfield(Revise, Symbol(\"##26#27\")){String})\u001b[22m\u001b[1m(\u001b[22m\u001b[1m)\u001b[22m at \u001b[1m/home/nathan/.julia/packages/Revise/agmgx/src/pkgs.jl:370\u001b[22m\n",
      " [14] \u001b[1mwith_logstate\u001b[22m\u001b[1m(\u001b[22m::getfield(Revise, Symbol(\"##26#27\")){String}, ::Base.CoreLogging.LogState\u001b[1m)\u001b[22m at \u001b[1m./logging.jl:395\u001b[22m\n",
      " [15] \u001b[1mwith_logger\u001b[22m at \u001b[1m./logging.jl:491\u001b[22m [inlined]\n",
      " [16] \u001b[1mwatch_manifest\u001b[22m\u001b[1m(\u001b[22m::String\u001b[1m)\u001b[22m at \u001b[1m/home/nathan/.julia/packages/Revise/agmgx/src/pkgs.jl:349\u001b[22m\n",
      " [17] \u001b[1m(::Revise.Rescheduler{typeof(Revise.watch_manifest),Tuple{String}})\u001b[22m\u001b[1m(\u001b[22m\u001b[1m)\u001b[22m at \u001b[1m/home/nathan/.julia/packages/Revise/agmgx/src/types.jl:235\u001b[22m\n",
      "while evaluating\n",
      "const H5F_OBJ_ALL = (((H5F_OBJ_FILE | H5F_OBJ_DATASET) | H5F_OBJ_GROUP) | H5F_OBJ_DATATYPE) | H5F_OBJ_ATTR\n",
      "in module Main.HDF5\n",
      "\u001b[91mUndefVarError: Hid not defined\u001b[39m\n",
      "Stacktrace:\n",
      " [1] \u001b[1mmacro expansion\u001b[22m at \u001b[1m/home/nathan/.julia/packages/JuliaInterpreter/Or807/src/interpret.jl:64\u001b[22m [inlined]\n",
      " [2] \u001b[1m#methods_by_execution!#14\u001b[22m\u001b[1m(\u001b[22m::Bool, ::Bool, ::Function, ::Any, ::Revise.CodeTrackingMethodInfo, ::Dict{Module,Array{Expr,1}}, ::JuliaInterpreter.Frame\u001b[1m)\u001b[22m at \u001b[1m/home/nathan/.julia/packages/Revise/agmgx/src/lowered.jl:125\u001b[22m\n",
      " [3] \u001b[1m#methods_by_execution!\u001b[22m at \u001b[1m./none:0\u001b[22m [inlined]\n",
      " [4] \u001b[1m#methods_by_execution!#9\u001b[22m\u001b[1m(\u001b[22m::Base.Iterators.Pairs{Symbol,Bool,Tuple{Symbol},NamedTuple{(:define,),Tuple{Bool}}}, ::Function, ::Any, ::Revise.CodeTrackingMethodInfo, ::Dict{Module,Array{Expr,1}}, ::Module, ::Expr\u001b[1m)\u001b[22m at \u001b[1m/home/nathan/.julia/packages/Revise/agmgx/src/lowered.jl:49\u001b[22m\n",
      " [5] \u001b[1m#methods_by_execution!\u001b[22m at \u001b[1m./none:0\u001b[22m [inlined]\n",
      " [6] \u001b[1m#eval_with_signatures#59\u001b[22m at \u001b[1m/home/nathan/.julia/packages/Revise/agmgx/src/Revise.jl:344\u001b[22m [inlined]\n",
      " [7] \u001b[1m#eval_with_signatures\u001b[22m at \u001b[1m./none:0\u001b[22m [inlined]\n",
      " [8] \u001b[1m#instantiate_sigs!#60\u001b[22m\u001b[1m(\u001b[22m::Bool, ::Base.Iterators.Pairs{Union{},Union{},Tuple{},NamedTuple{(),Tuple{}}}, ::Function, ::OrderedCollections.OrderedDict{Module,OrderedCollections.OrderedDict{Revise.RelocatableExpr,Union{Nothing, Array{Any,1}}}}\u001b[1m)\u001b[22m at \u001b[1m/home/nathan/.julia/packages/Revise/agmgx/src/Revise.jl:352\u001b[22m\n",
      " [9] \u001b[1minstantiate_sigs!\u001b[22m at \u001b[1m/home/nathan/.julia/packages/Revise/agmgx/src/Revise.jl:349\u001b[22m [inlined]\n",
      " [10] \u001b[1mmaybe_parse_from_cache!\u001b[22m\u001b[1m(\u001b[22m::Revise.PkgData, ::String\u001b[1m)\u001b[22m at \u001b[1m/home/nathan/.julia/packages/Revise/agmgx/src/pkgs.jl:224\u001b[22m\n",
      " [11] \u001b[1m(::getfield(Revise, Symbol(\"##26#27\")){String})\u001b[22m\u001b[1m(\u001b[22m\u001b[1m)\u001b[22m at \u001b[1m/home/nathan/.julia/packages/Revise/agmgx/src/pkgs.jl:370\u001b[22m\n",
      " [12] \u001b[1mwith_logstate\u001b[22m\u001b[1m(\u001b[22m::getfield(Revise, Symbol(\"##26#27\")){String}, ::Base.CoreLogging.LogState\u001b[1m)\u001b[22m at \u001b[1m./logging.jl:395\u001b[22m\n",
      " [13] \u001b[1mwith_logger\u001b[22m at \u001b[1m./logging.jl:491\u001b[22m [inlined]\n",
      " [14] \u001b[1mwatch_manifest\u001b[22m\u001b[1m(\u001b[22m::String\u001b[1m)\u001b[22m at \u001b[1m/home/nathan/.julia/packages/Revise/agmgx/src/pkgs.jl:349\u001b[22m\n",
      " [15] \u001b[1m(::Revise.Rescheduler{typeof(Revise.watch_manifest),Tuple{String}})\u001b[22m\u001b[1m(\u001b[22m\u001b[1m)\u001b[22m at \u001b[1m/home/nathan/.julia/packages/Revise/agmgx/src/types.jl:235\u001b[22m\n",
      "while evaluating\n",
      "const H5P_DEFAULT = Hid(0)\n",
      "in module Main.HDF5\n",
      "\u001b[91mUndefVarError: libversion not defined\u001b[39m\n",
      "Stacktrace:\n",
      " [1] \u001b[1m#collect_args#33\u001b[22m\u001b[1m(\u001b[22m::Bool, ::Function, ::JuliaInterpreter.Frame, ::Expr\u001b[1m)\u001b[22m at \u001b[1m/home/nathan/.julia/packages/JuliaInterpreter/Or807/src/interpret.jl:64\u001b[22m\n",
      " [2] \u001b[1mcollect_args\u001b[22m at \u001b[1m/home/nathan/.julia/packages/JuliaInterpreter/Or807/src/interpret.jl:139\u001b[22m [inlined]\n",
      " [3] \u001b[1mlookup_callexpr\u001b[22m at \u001b[1m/home/nathan/.julia/packages/Revise/agmgx/src/lowered.jl:13\u001b[22m [inlined]\n",
      " [4] \u001b[1m#methods_by_execution!#14\u001b[22m\u001b[1m(\u001b[22m::Bool, ::Bool, ::Function, ::Any, ::Revise.CodeTrackingMethodInfo, ::Dict{Module,Array{Expr,1}}, ::JuliaInterpreter.Frame\u001b[1m)\u001b[22m at \u001b[1m/home/nathan/.julia/packages/Revise/agmgx/src/lowered.jl:187\u001b[22m\n",
      " [5] \u001b[1m#methods_by_execution!\u001b[22m at \u001b[1m./none:0\u001b[22m [inlined]\n",
      " [6] \u001b[1m#methods_by_execution!#9\u001b[22m\u001b[1m(\u001b[22m::Base.Iterators.Pairs{Symbol,Bool,Tuple{Symbol},NamedTuple{(:define,),Tuple{Bool}}}, ::Function, ::Any, ::Revise.CodeTrackingMethodInfo, ::Dict{Module,Array{Expr,1}}, ::Module, ::Expr\u001b[1m)\u001b[22m at \u001b[1m/home/nathan/.julia/packages/Revise/agmgx/src/lowered.jl:49\u001b[22m\n",
      " [7] \u001b[1m#methods_by_execution!\u001b[22m at \u001b[1m./none:0\u001b[22m [inlined]\n",
      " [8] \u001b[1m#eval_with_signatures#59\u001b[22m at \u001b[1m/home/nathan/.julia/packages/Revise/agmgx/src/Revise.jl:344\u001b[22m [inlined]\n",
      " [9] \u001b[1m#eval_with_signatures\u001b[22m at \u001b[1m./none:0\u001b[22m [inlined]\n",
      " [10] \u001b[1m#instantiate_sigs!#60\u001b[22m\u001b[1m(\u001b[22m::Bool, ::Base.Iterators.Pairs{Union{},Union{},Tuple{},NamedTuple{(),Tuple{}}}, ::Function, ::OrderedCollections.OrderedDict{Module,OrderedCollections.OrderedDict{Revise.RelocatableExpr,Union{Nothing, Array{Any,1}}}}\u001b[1m)\u001b[22m at \u001b[1m/home/nathan/.julia/packages/Revise/agmgx/src/Revise.jl:352\u001b[22m\n",
      " [11] \u001b[1minstantiate_sigs!\u001b[22m at \u001b[1m/home/nathan/.julia/packages/Revise/agmgx/src/Revise.jl:349\u001b[22m [inlined]\n",
      " [12] \u001b[1mmaybe_parse_from_cache!\u001b[22m\u001b[1m(\u001b[22m::Revise.PkgData, ::String\u001b[1m)\u001b[22m at \u001b[1m/home/nathan/.julia/packages/Revise/agmgx/src/pkgs.jl:224\u001b[22m\n",
      " [13] \u001b[1m(::getfield(Revise, Symbol(\"##26#27\")){String})\u001b[22m\u001b[1m(\u001b[22m\u001b[1m)\u001b[22m at \u001b[1m/home/nathan/.julia/packages/Revise/agmgx/src/pkgs.jl:370\u001b[22m\n",
      " [14] \u001b[1mwith_logstate\u001b[22m\u001b[1m(\u001b[22m::getfield(Revise, Symbol(\"##26#27\")){String}, ::Base.CoreLogging.LogState\u001b[1m)\u001b[22m at \u001b[1m./logging.jl:395\u001b[22m\n",
      " [15] \u001b[1mwith_logger\u001b[22m at \u001b[1m./logging.jl:491\u001b[22m [inlined]\n",
      " [16] \u001b[1mwatch_manifest\u001b[22m\u001b[1m(\u001b[22m::String\u001b[1m)\u001b[22m at \u001b[1m/home/nathan/.julia/packages/Revise/agmgx/src/pkgs.jl:349\u001b[22m\n",
      " [17] \u001b[1m(::Revise.Rescheduler{typeof(Revise.watch_manifest),Tuple{String}})\u001b[22m\u001b[1m(\u001b[22m\u001b[1m)\u001b[22m at \u001b[1m/home/nathan/.julia/packages/Revise/agmgx/src/types.jl:235\u001b[22m\n",
      "while evaluating\n",
      "const H5P_OBJECT_CREATE = read_const(if libversion >= #= /home/nathan/.julia/packages/HDF5/2gJEi/src/HDF5.jl:152 =# @v_str(\"1.8.14\")\n",
      "                :H5P_CLS_OBJECT_CREATE_ID_g\n",
      "            else\n",
      "                :H5P_CLS_OBJECT_CREATE_g\n",
      "            end)\n",
      "in module Main.HDF5\n",
      "\u001b[91mUndefVarError: libversion not defined\u001b[39m\n",
      "Stacktrace:\n",
      " [1] \u001b[1m#collect_args#33\u001b[22m\u001b[1m(\u001b[22m::Bool, ::Function, ::JuliaInterpreter.Frame, ::Expr\u001b[1m)\u001b[22m at \u001b[1m/home/nathan/.julia/packages/JuliaInterpreter/Or807/src/interpret.jl:64\u001b[22m\n",
      " [2] \u001b[1mcollect_args\u001b[22m at \u001b[1m/home/nathan/.julia/packages/JuliaInterpreter/Or807/src/interpret.jl:139\u001b[22m [inlined]\n",
      " [3] \u001b[1mlookup_callexpr\u001b[22m at \u001b[1m/home/nathan/.julia/packages/Revise/agmgx/src/lowered.jl:13\u001b[22m [inlined]\n",
      " [4] \u001b[1m#methods_by_execution!#14\u001b[22m\u001b[1m(\u001b[22m::Bool, ::Bool, ::Function, ::Any, ::Revise.CodeTrackingMethodInfo, ::Dict{Module,Array{Expr,1}}, ::JuliaInterpreter.Frame\u001b[1m)\u001b[22m at \u001b[1m/home/nathan/.julia/packages/Revise/agmgx/src/lowered.jl:187\u001b[22m\n",
      " [5] \u001b[1m#methods_by_execution!\u001b[22m at \u001b[1m./none:0\u001b[22m [inlined]\n",
      " [6] \u001b[1m#methods_by_execution!#9\u001b[22m\u001b[1m(\u001b[22m::Base.Iterators.Pairs{Symbol,Bool,Tuple{Symbol},NamedTuple{(:define,),Tuple{Bool}}}, ::Function, ::Any, ::Revise.CodeTrackingMethodInfo, ::Dict{Module,Array{Expr,1}}, ::Module, ::Expr\u001b[1m)\u001b[22m at \u001b[1m/home/nathan/.julia/packages/Revise/agmgx/src/lowered.jl:49\u001b[22m\n",
      " [7] \u001b[1m#methods_by_execution!\u001b[22m at \u001b[1m./none:0\u001b[22m [inlined]\n",
      " [8] \u001b[1m#eval_with_signatures#59\u001b[22m at \u001b[1m/home/nathan/.julia/packages/Revise/agmgx/src/Revise.jl:344\u001b[22m [inlined]\n",
      " [9] \u001b[1m#eval_with_signatures\u001b[22m at \u001b[1m./none:0\u001b[22m [inlined]\n",
      " [10] \u001b[1m#instantiate_sigs!#60\u001b[22m\u001b[1m(\u001b[22m::Bool, ::Base.Iterators.Pairs{Union{},Union{},Tuple{},NamedTuple{(),Tuple{}}}, ::Function, ::OrderedCollections.OrderedDict{Module,OrderedCollections.OrderedDict{Revise.RelocatableExpr,Union{Nothing, Array{Any,1}}}}\u001b[1m)\u001b[22m at \u001b[1m/home/nathan/.julia/packages/Revise/agmgx/src/Revise.jl:352\u001b[22m\n",
      " [11] \u001b[1minstantiate_sigs!\u001b[22m at \u001b[1m/home/nathan/.julia/packages/Revise/agmgx/src/Revise.jl:349\u001b[22m [inlined]\n",
      " [12] \u001b[1mmaybe_parse_from_cache!\u001b[22m\u001b[1m(\u001b[22m::Revise.PkgData, ::String\u001b[1m)\u001b[22m at \u001b[1m/home/nathan/.julia/packages/Revise/agmgx/src/pkgs.jl:224\u001b[22m\n",
      " [13] \u001b[1m(::getfield(Revise, Symbol(\"##26#27\")){String})\u001b[22m\u001b[1m(\u001b[22m\u001b[1m)\u001b[22m at \u001b[1m/home/nathan/.julia/packages/Revise/agmgx/src/pkgs.jl:370\u001b[22m\n",
      " [14] \u001b[1mwith_logstate\u001b[22m\u001b[1m(\u001b[22m::getfield(Revise, Symbol(\"##26#27\")){String}, ::Base.CoreLogging.LogState\u001b[1m)\u001b[22m at \u001b[1m./logging.jl:395\u001b[22m\n",
      " [15] \u001b[1mwith_logger\u001b[22m at \u001b[1m./logging.jl:491\u001b[22m [inlined]\n",
      " [16] \u001b[1mwatch_manifest\u001b[22m\u001b[1m(\u001b[22m::String\u001b[1m)\u001b[22m at \u001b[1m/home/nathan/.julia/packages/Revise/agmgx/src/pkgs.jl:349\u001b[22m\n",
      " [17] \u001b[1m(::Revise.Rescheduler{typeof(Revise.watch_manifest),Tuple{String}})\u001b[22m\u001b[1m(\u001b[22m\u001b[1m)\u001b[22m at \u001b[1m/home/nathan/.julia/packages/Revise/agmgx/src/types.jl:235\u001b[22m\n",
      "while evaluating\n",
      "const H5P_FILE_CREATE = read_const(if libversion >= #= /home/nathan/.julia/packages/HDF5/2gJEi/src/HDF5.jl:153 =# @v_str(\"1.8.14\")\n",
      "                :H5P_CLS_FILE_CREATE_ID_g\n",
      "            else\n",
      "                :H5P_CLS_FILE_CREATE_g\n",
      "            end)\n",
      "in module Main.HDF5\n",
      "\u001b[91mUndefVarError: libversion not defined\u001b[39m\n",
      "Stacktrace:\n",
      " [1] \u001b[1m#collect_args#33\u001b[22m\u001b[1m(\u001b[22m::Bool, ::Function, ::JuliaInterpreter.Frame, ::Expr\u001b[1m)\u001b[22m at \u001b[1m/home/nathan/.julia/packages/JuliaInterpreter/Or807/src/interpret.jl:64\u001b[22m\n",
      " [2] \u001b[1mcollect_args\u001b[22m at \u001b[1m/home/nathan/.julia/packages/JuliaInterpreter/Or807/src/interpret.jl:139\u001b[22m [inlined]\n",
      " [3] \u001b[1mlookup_callexpr\u001b[22m at \u001b[1m/home/nathan/.julia/packages/Revise/agmgx/src/lowered.jl:13\u001b[22m [inlined]\n",
      " [4] \u001b[1m#methods_by_execution!#14\u001b[22m\u001b[1m(\u001b[22m::Bool, ::Bool, ::Function, ::Any, ::Revise.CodeTrackingMethodInfo, ::Dict{Module,Array{Expr,1}}, ::JuliaInterpreter.Frame\u001b[1m)\u001b[22m at \u001b[1m/home/nathan/.julia/packages/Revise/agmgx/src/lowered.jl:187\u001b[22m\n",
      " [5] \u001b[1m#methods_by_execution!\u001b[22m at \u001b[1m./none:0\u001b[22m [inlined]\n",
      " [6] \u001b[1m#methods_by_execution!#9\u001b[22m\u001b[1m(\u001b[22m::Base.Iterators.Pairs{Symbol,Bool,Tuple{Symbol},NamedTuple{(:define,),Tuple{Bool}}}, ::Function, ::Any, ::Revise.CodeTrackingMethodInfo, ::Dict{Module,Array{Expr,1}}, ::Module, ::Expr\u001b[1m)\u001b[22m at \u001b[1m/home/nathan/.julia/packages/Revise/agmgx/src/lowered.jl:49\u001b[22m\n",
      " [7] \u001b[1m#methods_by_execution!\u001b[22m at \u001b[1m./none:0\u001b[22m [inlined]\n",
      " [8] \u001b[1m#eval_with_signatures#59\u001b[22m at \u001b[1m/home/nathan/.julia/packages/Revise/agmgx/src/Revise.jl:344\u001b[22m [inlined]\n",
      " [9] \u001b[1m#eval_with_signatures\u001b[22m at \u001b[1m./none:0\u001b[22m [inlined]\n",
      " [10] \u001b[1m#instantiate_sigs!#60\u001b[22m\u001b[1m(\u001b[22m::Bool, ::Base.Iterators.Pairs{Union{},Union{},Tuple{},NamedTuple{(),Tuple{}}}, ::Function, ::OrderedCollections.OrderedDict{Module,OrderedCollections.OrderedDict{Revise.RelocatableExpr,Union{Nothing, Array{Any,1}}}}\u001b[1m)\u001b[22m at \u001b[1m/home/nathan/.julia/packages/Revise/agmgx/src/Revise.jl:352\u001b[22m\n",
      " [11] \u001b[1minstantiate_sigs!\u001b[22m at \u001b[1m/home/nathan/.julia/packages/Revise/agmgx/src/Revise.jl:349\u001b[22m [inlined]\n",
      " [12] \u001b[1mmaybe_parse_from_cache!\u001b[22m\u001b[1m(\u001b[22m::Revise.PkgData, ::String\u001b[1m)\u001b[22m at \u001b[1m/home/nathan/.julia/packages/Revise/agmgx/src/pkgs.jl:224\u001b[22m\n",
      " [13] \u001b[1m(::getfield(Revise, Symbol(\"##26#27\")){String})\u001b[22m\u001b[1m(\u001b[22m\u001b[1m)\u001b[22m at \u001b[1m/home/nathan/.julia/packages/Revise/agmgx/src/pkgs.jl:370\u001b[22m\n",
      " [14] \u001b[1mwith_logstate\u001b[22m\u001b[1m(\u001b[22m::getfield(Revise, Symbol(\"##26#27\")){String}, ::Base.CoreLogging.LogState\u001b[1m)\u001b[22m at \u001b[1m./logging.jl:395\u001b[22m\n",
      " [15] \u001b[1mwith_logger\u001b[22m at \u001b[1m./logging.jl:491\u001b[22m [inlined]\n",
      " [16] \u001b[1mwatch_manifest\u001b[22m\u001b[1m(\u001b[22m::String\u001b[1m)\u001b[22m at \u001b[1m/home/nathan/.julia/packages/Revise/agmgx/src/pkgs.jl:349\u001b[22m\n",
      " [17] \u001b[1m(::Revise.Rescheduler{typeof(Revise.watch_manifest),Tuple{String}})\u001b[22m\u001b[1m(\u001b[22m\u001b[1m)\u001b[22m at \u001b[1m/home/nathan/.julia/packages/Revise/agmgx/src/types.jl:235\u001b[22m\n",
      "while evaluating\n",
      "const H5P_FILE_ACCESS = read_const(if libversion >= #= /home/nathan/.julia/packages/HDF5/2gJEi/src/HDF5.jl:154 =# @v_str(\"1.8.14\")\n",
      "                :H5P_CLS_FILE_ACCESS_ID_g\n",
      "            else\n",
      "                :H5P_CLS_FILE_ACCESS_g\n",
      "            end)\n",
      "in module Main.HDF5\n",
      "\u001b[91mUndefVarError: libversion not defined\u001b[39m\n",
      "Stacktrace:\n",
      " [1] \u001b[1m#collect_args#33\u001b[22m\u001b[1m(\u001b[22m::Bool, ::Function, ::JuliaInterpreter.Frame, ::Expr\u001b[1m)\u001b[22m at \u001b[1m/home/nathan/.julia/packages/JuliaInterpreter/Or807/src/interpret.jl:64\u001b[22m\n",
      " [2] \u001b[1mcollect_args\u001b[22m at \u001b[1m/home/nathan/.julia/packages/JuliaInterpreter/Or807/src/interpret.jl:139\u001b[22m [inlined]\n",
      " [3] \u001b[1mlookup_callexpr\u001b[22m at \u001b[1m/home/nathan/.julia/packages/Revise/agmgx/src/lowered.jl:13\u001b[22m [inlined]\n",
      " [4] \u001b[1m#methods_by_execution!#14\u001b[22m\u001b[1m(\u001b[22m::Bool, ::Bool, ::Function, ::Any, ::Revise.CodeTrackingMethodInfo, ::Dict{Module,Array{Expr,1}}, ::JuliaInterpreter.Frame\u001b[1m)\u001b[22m at \u001b[1m/home/nathan/.julia/packages/Revise/agmgx/src/lowered.jl:187\u001b[22m\n",
      " [5] \u001b[1m#methods_by_execution!\u001b[22m at \u001b[1m./none:0\u001b[22m [inlined]\n",
      " [6] \u001b[1m#methods_by_execution!#9\u001b[22m\u001b[1m(\u001b[22m::Base.Iterators.Pairs{Symbol,Bool,Tuple{Symbol},NamedTuple{(:define,),Tuple{Bool}}}, ::Function, ::Any, ::Revise.CodeTrackingMethodInfo, ::Dict{Module,Array{Expr,1}}, ::Module, ::Expr\u001b[1m)\u001b[22m at \u001b[1m/home/nathan/.julia/packages/Revise/agmgx/src/lowered.jl:49\u001b[22m\n",
      " [7] \u001b[1m#methods_by_execution!\u001b[22m at \u001b[1m./none:0\u001b[22m [inlined]\n",
      " [8] \u001b[1m#eval_with_signatures#59\u001b[22m at \u001b[1m/home/nathan/.julia/packages/Revise/agmgx/src/Revise.jl:344\u001b[22m [inlined]\n",
      " [9] \u001b[1m#eval_with_signatures\u001b[22m at \u001b[1m./none:0\u001b[22m [inlined]\n",
      " [10] \u001b[1m#instantiate_sigs!#60\u001b[22m\u001b[1m(\u001b[22m::Bool, ::Base.Iterators.Pairs{Union{},Union{},Tuple{},NamedTuple{(),Tuple{}}}, ::Function, ::OrderedCollections.OrderedDict{Module,OrderedCollections.OrderedDict{Revise.RelocatableExpr,Union{Nothing, Array{Any,1}}}}\u001b[1m)\u001b[22m at \u001b[1m/home/nathan/.julia/packages/Revise/agmgx/src/Revise.jl:352\u001b[22m\n",
      " [11] \u001b[1minstantiate_sigs!\u001b[22m at \u001b[1m/home/nathan/.julia/packages/Revise/agmgx/src/Revise.jl:349\u001b[22m [inlined]\n",
      " [12] \u001b[1mmaybe_parse_from_cache!\u001b[22m\u001b[1m(\u001b[22m::Revise.PkgData, ::String\u001b[1m)\u001b[22m at \u001b[1m/home/nathan/.julia/packages/Revise/agmgx/src/pkgs.jl:224\u001b[22m\n",
      " [13] \u001b[1m(::getfield(Revise, Symbol(\"##26#27\")){String})\u001b[22m\u001b[1m(\u001b[22m\u001b[1m)\u001b[22m at \u001b[1m/home/nathan/.julia/packages/Revise/agmgx/src/pkgs.jl:370\u001b[22m\n",
      " [14] \u001b[1mwith_logstate\u001b[22m\u001b[1m(\u001b[22m::getfield(Revise, Symbol(\"##26#27\")){String}, ::Base.CoreLogging.LogState\u001b[1m)\u001b[22m at \u001b[1m./logging.jl:395\u001b[22m\n",
      " [15] \u001b[1mwith_logger\u001b[22m at \u001b[1m./logging.jl:491\u001b[22m [inlined]\n",
      " [16] \u001b[1mwatch_manifest\u001b[22m\u001b[1m(\u001b[22m::String\u001b[1m)\u001b[22m at \u001b[1m/home/nathan/.julia/packages/Revise/agmgx/src/pkgs.jl:349\u001b[22m\n",
      " [17] \u001b[1m(::Revise.Rescheduler{typeof(Revise.watch_manifest),Tuple{String}})\u001b[22m\u001b[1m(\u001b[22m\u001b[1m)\u001b[22m at \u001b[1m/home/nathan/.julia/packages/Revise/agmgx/src/types.jl:235\u001b[22m\n",
      "while evaluating\n",
      "const H5P_DATASET_CREATE = read_const(if libversion >= #= /home/nathan/.julia/packages/HDF5/2gJEi/src/HDF5.jl:155 =# @v_str(\"1.8.14\")\n",
      "                :H5P_CLS_DATASET_CREATE_ID_g\n",
      "            else\n",
      "                :H5P_CLS_DATASET_CREATE_g\n",
      "            end)\n",
      "in module Main.HDF5\n",
      "\u001b[91mUndefVarError: libversion not defined\u001b[39m\n",
      "Stacktrace:\n",
      " [1] \u001b[1m#collect_args#33\u001b[22m\u001b[1m(\u001b[22m::Bool, ::Function, ::JuliaInterpreter.Frame, ::Expr\u001b[1m)\u001b[22m at \u001b[1m/home/nathan/.julia/packages/JuliaInterpreter/Or807/src/interpret.jl:64\u001b[22m\n",
      " [2] \u001b[1mcollect_args\u001b[22m at \u001b[1m/home/nathan/.julia/packages/JuliaInterpreter/Or807/src/interpret.jl:139\u001b[22m [inlined]\n",
      " [3] \u001b[1mlookup_callexpr\u001b[22m at \u001b[1m/home/nathan/.julia/packages/Revise/agmgx/src/lowered.jl:13\u001b[22m [inlined]\n",
      " [4] \u001b[1m#methods_by_execution!#14\u001b[22m\u001b[1m(\u001b[22m::Bool, ::Bool, ::Function, ::Any, ::Revise.CodeTrackingMethodInfo, ::Dict{Module,Array{Expr,1}}, ::JuliaInterpreter.Frame\u001b[1m)\u001b[22m at \u001b[1m/home/nathan/.julia/packages/Revise/agmgx/src/lowered.jl:187\u001b[22m\n",
      " [5] \u001b[1m#methods_by_execution!\u001b[22m at \u001b[1m./none:0\u001b[22m [inlined]\n",
      " [6] \u001b[1m#methods_by_execution!#9\u001b[22m\u001b[1m(\u001b[22m::Base.Iterators.Pairs{Symbol,Bool,Tuple{Symbol},NamedTuple{(:define,),Tuple{Bool}}}, ::Function, ::Any, ::Revise.CodeTrackingMethodInfo, ::Dict{Module,Array{Expr,1}}, ::Module, ::Expr\u001b[1m)\u001b[22m at \u001b[1m/home/nathan/.julia/packages/Revise/agmgx/src/lowered.jl:49\u001b[22m\n"
     ]
    },
    {
     "name": "stderr",
     "output_type": "stream",
     "text": [
      " [7] \u001b[1m#methods_by_execution!\u001b[22m at \u001b[1m./none:0\u001b[22m [inlined]\n",
      " [8] \u001b[1m#eval_with_signatures#59\u001b[22m at \u001b[1m/home/nathan/.julia/packages/Revise/agmgx/src/Revise.jl:344\u001b[22m [inlined]\n",
      " [9] \u001b[1m#eval_with_signatures\u001b[22m at \u001b[1m./none:0\u001b[22m [inlined]\n",
      " [10] \u001b[1m#instantiate_sigs!#60\u001b[22m\u001b[1m(\u001b[22m::Bool, ::Base.Iterators.Pairs{Union{},Union{},Tuple{},NamedTuple{(),Tuple{}}}, ::Function, ::OrderedCollections.OrderedDict{Module,OrderedCollections.OrderedDict{Revise.RelocatableExpr,Union{Nothing, Array{Any,1}}}}\u001b[1m)\u001b[22m at \u001b[1m/home/nathan/.julia/packages/Revise/agmgx/src/Revise.jl:352\u001b[22m\n",
      " [11] \u001b[1minstantiate_sigs!\u001b[22m at \u001b[1m/home/nathan/.julia/packages/Revise/agmgx/src/Revise.jl:349\u001b[22m [inlined]\n",
      " [12] \u001b[1mmaybe_parse_from_cache!\u001b[22m\u001b[1m(\u001b[22m::Revise.PkgData, ::String\u001b[1m)\u001b[22m at \u001b[1m/home/nathan/.julia/packages/Revise/agmgx/src/pkgs.jl:224\u001b[22m\n",
      " [13] \u001b[1m(::getfield(Revise, Symbol(\"##26#27\")){String})\u001b[22m\u001b[1m(\u001b[22m\u001b[1m)\u001b[22m at \u001b[1m/home/nathan/.julia/packages/Revise/agmgx/src/pkgs.jl:370\u001b[22m\n",
      " [14] \u001b[1mwith_logstate\u001b[22m\u001b[1m(\u001b[22m::getfield(Revise, Symbol(\"##26#27\")){String}, ::Base.CoreLogging.LogState\u001b[1m)\u001b[22m at \u001b[1m./logging.jl:395\u001b[22m\n",
      " [15] \u001b[1mwith_logger\u001b[22m at \u001b[1m./logging.jl:491\u001b[22m [inlined]\n",
      " [16] \u001b[1mwatch_manifest\u001b[22m\u001b[1m(\u001b[22m::String\u001b[1m)\u001b[22m at \u001b[1m/home/nathan/.julia/packages/Revise/agmgx/src/pkgs.jl:349\u001b[22m\n",
      " [17] \u001b[1m(::Revise.Rescheduler{typeof(Revise.watch_manifest),Tuple{String}})\u001b[22m\u001b[1m(\u001b[22m\u001b[1m)\u001b[22m at \u001b[1m/home/nathan/.julia/packages/Revise/agmgx/src/types.jl:235\u001b[22m\n",
      "while evaluating\n",
      "const H5P_DATASET_ACCESS = read_const(if libversion >= #= /home/nathan/.julia/packages/HDF5/2gJEi/src/HDF5.jl:156 =# @v_str(\"1.8.14\")\n",
      "                :H5P_CLS_DATASET_ACCESS_ID_g\n",
      "            else\n",
      "                :H5P_CLS_DATASET_ACCESS_g\n",
      "            end)\n",
      "in module Main.HDF5\n",
      "\u001b[91mUndefVarError: libversion not defined\u001b[39m\n",
      "Stacktrace:\n",
      " [1] \u001b[1m#collect_args#33\u001b[22m\u001b[1m(\u001b[22m::Bool, ::Function, ::JuliaInterpreter.Frame, ::Expr\u001b[1m)\u001b[22m at \u001b[1m/home/nathan/.julia/packages/JuliaInterpreter/Or807/src/interpret.jl:64\u001b[22m\n",
      " [2] \u001b[1mcollect_args\u001b[22m at \u001b[1m/home/nathan/.julia/packages/JuliaInterpreter/Or807/src/interpret.jl:139\u001b[22m [inlined]\n",
      " [3] \u001b[1mlookup_callexpr\u001b[22m at \u001b[1m/home/nathan/.julia/packages/Revise/agmgx/src/lowered.jl:13\u001b[22m [inlined]\n",
      " [4] \u001b[1m#methods_by_execution!#14\u001b[22m\u001b[1m(\u001b[22m::Bool, ::Bool, ::Function, ::Any, ::Revise.CodeTrackingMethodInfo, ::Dict{Module,Array{Expr,1}}, ::JuliaInterpreter.Frame\u001b[1m)\u001b[22m at \u001b[1m/home/nathan/.julia/packages/Revise/agmgx/src/lowered.jl:187\u001b[22m\n",
      " [5] \u001b[1m#methods_by_execution!\u001b[22m at \u001b[1m./none:0\u001b[22m [inlined]\n",
      " [6] \u001b[1m#methods_by_execution!#9\u001b[22m\u001b[1m(\u001b[22m::Base.Iterators.Pairs{Symbol,Bool,Tuple{Symbol},NamedTuple{(:define,),Tuple{Bool}}}, ::Function, ::Any, ::Revise.CodeTrackingMethodInfo, ::Dict{Module,Array{Expr,1}}, ::Module, ::Expr\u001b[1m)\u001b[22m at \u001b[1m/home/nathan/.julia/packages/Revise/agmgx/src/lowered.jl:49\u001b[22m\n",
      " [7] \u001b[1m#methods_by_execution!\u001b[22m at \u001b[1m./none:0\u001b[22m [inlined]\n",
      " [8] \u001b[1m#eval_with_signatures#59\u001b[22m at \u001b[1m/home/nathan/.julia/packages/Revise/agmgx/src/Revise.jl:344\u001b[22m [inlined]\n",
      " [9] \u001b[1m#eval_with_signatures\u001b[22m at \u001b[1m./none:0\u001b[22m [inlined]\n",
      " [10] \u001b[1m#instantiate_sigs!#60\u001b[22m\u001b[1m(\u001b[22m::Bool, ::Base.Iterators.Pairs{Union{},Union{},Tuple{},NamedTuple{(),Tuple{}}}, ::Function, ::OrderedCollections.OrderedDict{Module,OrderedCollections.OrderedDict{Revise.RelocatableExpr,Union{Nothing, Array{Any,1}}}}\u001b[1m)\u001b[22m at \u001b[1m/home/nathan/.julia/packages/Revise/agmgx/src/Revise.jl:352\u001b[22m\n",
      " [11] \u001b[1minstantiate_sigs!\u001b[22m at \u001b[1m/home/nathan/.julia/packages/Revise/agmgx/src/Revise.jl:349\u001b[22m [inlined]\n",
      " [12] \u001b[1mmaybe_parse_from_cache!\u001b[22m\u001b[1m(\u001b[22m::Revise.PkgData, ::String\u001b[1m)\u001b[22m at \u001b[1m/home/nathan/.julia/packages/Revise/agmgx/src/pkgs.jl:224\u001b[22m\n",
      " [13] \u001b[1m(::getfield(Revise, Symbol(\"##26#27\")){String})\u001b[22m\u001b[1m(\u001b[22m\u001b[1m)\u001b[22m at \u001b[1m/home/nathan/.julia/packages/Revise/agmgx/src/pkgs.jl:370\u001b[22m\n",
      " [14] \u001b[1mwith_logstate\u001b[22m\u001b[1m(\u001b[22m::getfield(Revise, Symbol(\"##26#27\")){String}, ::Base.CoreLogging.LogState\u001b[1m)\u001b[22m at \u001b[1m./logging.jl:395\u001b[22m\n",
      " [15] \u001b[1mwith_logger\u001b[22m at \u001b[1m./logging.jl:491\u001b[22m [inlined]\n",
      " [16] \u001b[1mwatch_manifest\u001b[22m\u001b[1m(\u001b[22m::String\u001b[1m)\u001b[22m at \u001b[1m/home/nathan/.julia/packages/Revise/agmgx/src/pkgs.jl:349\u001b[22m\n",
      " [17] \u001b[1m(::Revise.Rescheduler{typeof(Revise.watch_manifest),Tuple{String}})\u001b[22m\u001b[1m(\u001b[22m\u001b[1m)\u001b[22m at \u001b[1m/home/nathan/.julia/packages/Revise/agmgx/src/types.jl:235\u001b[22m\n",
      "while evaluating\n",
      "const H5P_DATASET_XFER = read_const(if libversion >= #= /home/nathan/.julia/packages/HDF5/2gJEi/src/HDF5.jl:157 =# @v_str(\"1.8.14\")\n",
      "                :H5P_CLS_DATASET_XFER_ID_g\n",
      "            else\n",
      "                :H5P_CLS_DATASET_XFER_g\n",
      "            end)\n",
      "in module Main.HDF5\n",
      "\u001b[91mUndefVarError: libversion not defined\u001b[39m\n",
      "Stacktrace:\n",
      " [1] \u001b[1m#collect_args#33\u001b[22m\u001b[1m(\u001b[22m::Bool, ::Function, ::JuliaInterpreter.Frame, ::Expr\u001b[1m)\u001b[22m at \u001b[1m/home/nathan/.julia/packages/JuliaInterpreter/Or807/src/interpret.jl:64\u001b[22m\n",
      " [2] \u001b[1mcollect_args\u001b[22m at \u001b[1m/home/nathan/.julia/packages/JuliaInterpreter/Or807/src/interpret.jl:139\u001b[22m [inlined]\n",
      " [3] \u001b[1mlookup_callexpr\u001b[22m at \u001b[1m/home/nathan/.julia/packages/Revise/agmgx/src/lowered.jl:13\u001b[22m [inlined]\n",
      " [4] \u001b[1m#methods_by_execution!#14\u001b[22m\u001b[1m(\u001b[22m::Bool, ::Bool, ::Function, ::Any, ::Revise.CodeTrackingMethodInfo, ::Dict{Module,Array{Expr,1}}, ::JuliaInterpreter.Frame\u001b[1m)\u001b[22m at \u001b[1m/home/nathan/.julia/packages/Revise/agmgx/src/lowered.jl:187\u001b[22m\n",
      " [5] \u001b[1m#methods_by_execution!\u001b[22m at \u001b[1m./none:0\u001b[22m [inlined]\n",
      " [6] \u001b[1m#methods_by_execution!#9\u001b[22m\u001b[1m(\u001b[22m::Base.Iterators.Pairs{Symbol,Bool,Tuple{Symbol},NamedTuple{(:define,),Tuple{Bool}}}, ::Function, ::Any, ::Revise.CodeTrackingMethodInfo, ::Dict{Module,Array{Expr,1}}, ::Module, ::Expr\u001b[1m)\u001b[22m at \u001b[1m/home/nathan/.julia/packages/Revise/agmgx/src/lowered.jl:49\u001b[22m\n",
      " [7] \u001b[1m#methods_by_execution!\u001b[22m at \u001b[1m./none:0\u001b[22m [inlined]\n",
      " [8] \u001b[1m#eval_with_signatures#59\u001b[22m at \u001b[1m/home/nathan/.julia/packages/Revise/agmgx/src/Revise.jl:344\u001b[22m [inlined]\n",
      " [9] \u001b[1m#eval_with_signatures\u001b[22m at \u001b[1m./none:0\u001b[22m [inlined]\n",
      " [10] \u001b[1m#instantiate_sigs!#60\u001b[22m\u001b[1m(\u001b[22m::Bool, ::Base.Iterators.Pairs{Union{},Union{},Tuple{},NamedTuple{(),Tuple{}}}, ::Function, ::OrderedCollections.OrderedDict{Module,OrderedCollections.OrderedDict{Revise.RelocatableExpr,Union{Nothing, Array{Any,1}}}}\u001b[1m)\u001b[22m at \u001b[1m/home/nathan/.julia/packages/Revise/agmgx/src/Revise.jl:352\u001b[22m\n",
      " [11] \u001b[1minstantiate_sigs!\u001b[22m at \u001b[1m/home/nathan/.julia/packages/Revise/agmgx/src/Revise.jl:349\u001b[22m [inlined]\n",
      " [12] \u001b[1mmaybe_parse_from_cache!\u001b[22m\u001b[1m(\u001b[22m::Revise.PkgData, ::String\u001b[1m)\u001b[22m at \u001b[1m/home/nathan/.julia/packages/Revise/agmgx/src/pkgs.jl:224\u001b[22m\n",
      " [13] \u001b[1m(::getfield(Revise, Symbol(\"##26#27\")){String})\u001b[22m\u001b[1m(\u001b[22m\u001b[1m)\u001b[22m at \u001b[1m/home/nathan/.julia/packages/Revise/agmgx/src/pkgs.jl:370\u001b[22m\n",
      " [14] \u001b[1mwith_logstate\u001b[22m\u001b[1m(\u001b[22m::getfield(Revise, Symbol(\"##26#27\")){String}, ::Base.CoreLogging.LogState\u001b[1m)\u001b[22m at \u001b[1m./logging.jl:395\u001b[22m\n",
      " [15] \u001b[1mwith_logger\u001b[22m at \u001b[1m./logging.jl:491\u001b[22m [inlined]\n",
      " [16] \u001b[1mwatch_manifest\u001b[22m\u001b[1m(\u001b[22m::String\u001b[1m)\u001b[22m at \u001b[1m/home/nathan/.julia/packages/Revise/agmgx/src/pkgs.jl:349\u001b[22m\n",
      " [17] \u001b[1m(::Revise.Rescheduler{typeof(Revise.watch_manifest),Tuple{String}})\u001b[22m\u001b[1m(\u001b[22m\u001b[1m)\u001b[22m at \u001b[1m/home/nathan/.julia/packages/Revise/agmgx/src/types.jl:235\u001b[22m\n",
      "while evaluating\n",
      "const H5P_FILE_MOUNT = read_const(if libversion >= #= /home/nathan/.julia/packages/HDF5/2gJEi/src/HDF5.jl:158 =# @v_str(\"1.8.14\")\n",
      "                :H5P_CLS_FILE_MOUNT_ID_g\n",
      "            else\n",
      "                :H5P_CLS_FILE_MOUNT_g\n",
      "            end)\n",
      "in module Main.HDF5\n",
      "\u001b[91mUndefVarError: libversion not defined\u001b[39m\n",
      "Stacktrace:\n",
      " [1] \u001b[1m#collect_args#33\u001b[22m\u001b[1m(\u001b[22m::Bool, ::Function, ::JuliaInterpreter.Frame, ::Expr\u001b[1m)\u001b[22m at \u001b[1m/home/nathan/.julia/packages/JuliaInterpreter/Or807/src/interpret.jl:64\u001b[22m\n",
      " [2] \u001b[1mcollect_args\u001b[22m at \u001b[1m/home/nathan/.julia/packages/JuliaInterpreter/Or807/src/interpret.jl:139\u001b[22m [inlined]\n",
      " [3] \u001b[1mlookup_callexpr\u001b[22m at \u001b[1m/home/nathan/.julia/packages/Revise/agmgx/src/lowered.jl:13\u001b[22m [inlined]\n",
      " [4] \u001b[1m#methods_by_execution!#14\u001b[22m\u001b[1m(\u001b[22m::Bool, ::Bool, ::Function, ::Any, ::Revise.CodeTrackingMethodInfo, ::Dict{Module,Array{Expr,1}}, ::JuliaInterpreter.Frame\u001b[1m)\u001b[22m at \u001b[1m/home/nathan/.julia/packages/Revise/agmgx/src/lowered.jl:187\u001b[22m\n",
      " [5] \u001b[1m#methods_by_execution!\u001b[22m at \u001b[1m./none:0\u001b[22m [inlined]\n",
      " [6] \u001b[1m#methods_by_execution!#9\u001b[22m\u001b[1m(\u001b[22m::Base.Iterators.Pairs{Symbol,Bool,Tuple{Symbol},NamedTuple{(:define,),Tuple{Bool}}}, ::Function, ::Any, ::Revise.CodeTrackingMethodInfo, ::Dict{Module,Array{Expr,1}}, ::Module, ::Expr\u001b[1m)\u001b[22m at \u001b[1m/home/nathan/.julia/packages/Revise/agmgx/src/lowered.jl:49\u001b[22m\n",
      " [7] \u001b[1m#methods_by_execution!\u001b[22m at \u001b[1m./none:0\u001b[22m [inlined]\n",
      " [8] \u001b[1m#eval_with_signatures#59\u001b[22m at \u001b[1m/home/nathan/.julia/packages/Revise/agmgx/src/Revise.jl:344\u001b[22m [inlined]\n",
      " [9] \u001b[1m#eval_with_signatures\u001b[22m at \u001b[1m./none:0\u001b[22m [inlined]\n",
      " [10] \u001b[1m#instantiate_sigs!#60\u001b[22m\u001b[1m(\u001b[22m::Bool, ::Base.Iterators.Pairs{Union{},Union{},Tuple{},NamedTuple{(),Tuple{}}}, ::Function, ::OrderedCollections.OrderedDict{Module,OrderedCollections.OrderedDict{Revise.RelocatableExpr,Union{Nothing, Array{Any,1}}}}\u001b[1m)\u001b[22m at \u001b[1m/home/nathan/.julia/packages/Revise/agmgx/src/Revise.jl:352\u001b[22m\n",
      " [11] \u001b[1minstantiate_sigs!\u001b[22m at \u001b[1m/home/nathan/.julia/packages/Revise/agmgx/src/Revise.jl:349\u001b[22m [inlined]\n",
      " [12] \u001b[1mmaybe_parse_from_cache!\u001b[22m\u001b[1m(\u001b[22m::Revise.PkgData, ::String\u001b[1m)\u001b[22m at \u001b[1m/home/nathan/.julia/packages/Revise/agmgx/src/pkgs.jl:224\u001b[22m\n",
      " [13] \u001b[1m(::getfield(Revise, Symbol(\"##26#27\")){String})\u001b[22m\u001b[1m(\u001b[22m\u001b[1m)\u001b[22m at \u001b[1m/home/nathan/.julia/packages/Revise/agmgx/src/pkgs.jl:370\u001b[22m\n",
      " [14] \u001b[1mwith_logstate\u001b[22m\u001b[1m(\u001b[22m::getfield(Revise, Symbol(\"##26#27\")){String}, ::Base.CoreLogging.LogState\u001b[1m)\u001b[22m at \u001b[1m./logging.jl:395\u001b[22m\n",
      " [15] \u001b[1mwith_logger\u001b[22m at \u001b[1m./logging.jl:491\u001b[22m [inlined]\n",
      " [16] \u001b[1mwatch_manifest\u001b[22m\u001b[1m(\u001b[22m::String\u001b[1m)\u001b[22m at \u001b[1m/home/nathan/.julia/packages/Revise/agmgx/src/pkgs.jl:349\u001b[22m\n"
     ]
    },
    {
     "name": "stderr",
     "output_type": "stream",
     "text": [
      " [17] \u001b[1m(::Revise.Rescheduler{typeof(Revise.watch_manifest),Tuple{String}})\u001b[22m\u001b[1m(\u001b[22m\u001b[1m)\u001b[22m at \u001b[1m/home/nathan/.julia/packages/Revise/agmgx/src/types.jl:235\u001b[22m\n",
      "while evaluating\n",
      "const H5P_GROUP_CREATE = read_const(if libversion >= #= /home/nathan/.julia/packages/HDF5/2gJEi/src/HDF5.jl:159 =# @v_str(\"1.8.14\")\n",
      "                :H5P_CLS_GROUP_CREATE_ID_g\n",
      "            else\n",
      "                :H5P_CLS_GROUP_CREATE_g\n",
      "            end)\n",
      "in module Main.HDF5\n",
      "\u001b[91mUndefVarError: libversion not defined\u001b[39m\n",
      "Stacktrace:\n",
      " [1] \u001b[1m#collect_args#33\u001b[22m\u001b[1m(\u001b[22m::Bool, ::Function, ::JuliaInterpreter.Frame, ::Expr\u001b[1m)\u001b[22m at \u001b[1m/home/nathan/.julia/packages/JuliaInterpreter/Or807/src/interpret.jl:64\u001b[22m\n",
      " [2] \u001b[1mcollect_args\u001b[22m at \u001b[1m/home/nathan/.julia/packages/JuliaInterpreter/Or807/src/interpret.jl:139\u001b[22m [inlined]\n",
      " [3] \u001b[1mlookup_callexpr\u001b[22m at \u001b[1m/home/nathan/.julia/packages/Revise/agmgx/src/lowered.jl:13\u001b[22m [inlined]\n",
      " [4] \u001b[1m#methods_by_execution!#14\u001b[22m\u001b[1m(\u001b[22m::Bool, ::Bool, ::Function, ::Any, ::Revise.CodeTrackingMethodInfo, ::Dict{Module,Array{Expr,1}}, ::JuliaInterpreter.Frame\u001b[1m)\u001b[22m at \u001b[1m/home/nathan/.julia/packages/Revise/agmgx/src/lowered.jl:187\u001b[22m\n",
      " [5] \u001b[1m#methods_by_execution!\u001b[22m at \u001b[1m./none:0\u001b[22m [inlined]\n",
      " [6] \u001b[1m#methods_by_execution!#9\u001b[22m\u001b[1m(\u001b[22m::Base.Iterators.Pairs{Symbol,Bool,Tuple{Symbol},NamedTuple{(:define,),Tuple{Bool}}}, ::Function, ::Any, ::Revise.CodeTrackingMethodInfo, ::Dict{Module,Array{Expr,1}}, ::Module, ::Expr\u001b[1m)\u001b[22m at \u001b[1m/home/nathan/.julia/packages/Revise/agmgx/src/lowered.jl:49\u001b[22m\n",
      " [7] \u001b[1m#methods_by_execution!\u001b[22m at \u001b[1m./none:0\u001b[22m [inlined]\n",
      " [8] \u001b[1m#eval_with_signatures#59\u001b[22m at \u001b[1m/home/nathan/.julia/packages/Revise/agmgx/src/Revise.jl:344\u001b[22m [inlined]\n",
      " [9] \u001b[1m#eval_with_signatures\u001b[22m at \u001b[1m./none:0\u001b[22m [inlined]\n",
      " [10] \u001b[1m#instantiate_sigs!#60\u001b[22m\u001b[1m(\u001b[22m::Bool, ::Base.Iterators.Pairs{Union{},Union{},Tuple{},NamedTuple{(),Tuple{}}}, ::Function, ::OrderedCollections.OrderedDict{Module,OrderedCollections.OrderedDict{Revise.RelocatableExpr,Union{Nothing, Array{Any,1}}}}\u001b[1m)\u001b[22m at \u001b[1m/home/nathan/.julia/packages/Revise/agmgx/src/Revise.jl:352\u001b[22m\n",
      " [11] \u001b[1minstantiate_sigs!\u001b[22m at \u001b[1m/home/nathan/.julia/packages/Revise/agmgx/src/Revise.jl:349\u001b[22m [inlined]\n",
      " [12] \u001b[1mmaybe_parse_from_cache!\u001b[22m\u001b[1m(\u001b[22m::Revise.PkgData, ::String\u001b[1m)\u001b[22m at \u001b[1m/home/nathan/.julia/packages/Revise/agmgx/src/pkgs.jl:224\u001b[22m\n",
      " [13] \u001b[1m(::getfield(Revise, Symbol(\"##26#27\")){String})\u001b[22m\u001b[1m(\u001b[22m\u001b[1m)\u001b[22m at \u001b[1m/home/nathan/.julia/packages/Revise/agmgx/src/pkgs.jl:370\u001b[22m\n",
      " [14] \u001b[1mwith_logstate\u001b[22m\u001b[1m(\u001b[22m::getfield(Revise, Symbol(\"##26#27\")){String}, ::Base.CoreLogging.LogState\u001b[1m)\u001b[22m at \u001b[1m./logging.jl:395\u001b[22m\n",
      " [15] \u001b[1mwith_logger\u001b[22m at \u001b[1m./logging.jl:491\u001b[22m [inlined]\n",
      " [16] \u001b[1mwatch_manifest\u001b[22m\u001b[1m(\u001b[22m::String\u001b[1m)\u001b[22m at \u001b[1m/home/nathan/.julia/packages/Revise/agmgx/src/pkgs.jl:349\u001b[22m\n",
      " [17] \u001b[1m(::Revise.Rescheduler{typeof(Revise.watch_manifest),Tuple{String}})\u001b[22m\u001b[1m(\u001b[22m\u001b[1m)\u001b[22m at \u001b[1m/home/nathan/.julia/packages/Revise/agmgx/src/types.jl:235\u001b[22m\n",
      "while evaluating\n",
      "const H5P_GROUP_ACCESS = read_const(if libversion >= #= /home/nathan/.julia/packages/HDF5/2gJEi/src/HDF5.jl:160 =# @v_str(\"1.8.14\")\n",
      "                :H5P_CLS_GROUP_ACCESS_ID_g\n",
      "            else\n",
      "                :H5P_CLS_GROUP_ACCESS_g\n",
      "            end)\n",
      "in module Main.HDF5\n",
      "\u001b[91mUndefVarError: libversion not defined\u001b[39m\n",
      "Stacktrace:\n",
      " [1] \u001b[1m#collect_args#33\u001b[22m\u001b[1m(\u001b[22m::Bool, ::Function, ::JuliaInterpreter.Frame, ::Expr\u001b[1m)\u001b[22m at \u001b[1m/home/nathan/.julia/packages/JuliaInterpreter/Or807/src/interpret.jl:64\u001b[22m\n",
      " [2] \u001b[1mcollect_args\u001b[22m at \u001b[1m/home/nathan/.julia/packages/JuliaInterpreter/Or807/src/interpret.jl:139\u001b[22m [inlined]\n",
      " [3] \u001b[1mlookup_callexpr\u001b[22m at \u001b[1m/home/nathan/.julia/packages/Revise/agmgx/src/lowered.jl:13\u001b[22m [inlined]\n",
      " [4] \u001b[1m#methods_by_execution!#14\u001b[22m\u001b[1m(\u001b[22m::Bool, ::Bool, ::Function, ::Any, ::Revise.CodeTrackingMethodInfo, ::Dict{Module,Array{Expr,1}}, ::JuliaInterpreter.Frame\u001b[1m)\u001b[22m at \u001b[1m/home/nathan/.julia/packages/Revise/agmgx/src/lowered.jl:187\u001b[22m\n",
      " [5] \u001b[1m#methods_by_execution!\u001b[22m at \u001b[1m./none:0\u001b[22m [inlined]\n",
      " [6] \u001b[1m#methods_by_execution!#9\u001b[22m\u001b[1m(\u001b[22m::Base.Iterators.Pairs{Symbol,Bool,Tuple{Symbol},NamedTuple{(:define,),Tuple{Bool}}}, ::Function, ::Any, ::Revise.CodeTrackingMethodInfo, ::Dict{Module,Array{Expr,1}}, ::Module, ::Expr\u001b[1m)\u001b[22m at \u001b[1m/home/nathan/.julia/packages/Revise/agmgx/src/lowered.jl:49\u001b[22m\n",
      " [7] \u001b[1m#methods_by_execution!\u001b[22m at \u001b[1m./none:0\u001b[22m [inlined]\n",
      " [8] \u001b[1m#eval_with_signatures#59\u001b[22m at \u001b[1m/home/nathan/.julia/packages/Revise/agmgx/src/Revise.jl:344\u001b[22m [inlined]\n",
      " [9] \u001b[1m#eval_with_signatures\u001b[22m at \u001b[1m./none:0\u001b[22m [inlined]\n",
      " [10] \u001b[1m#instantiate_sigs!#60\u001b[22m\u001b[1m(\u001b[22m::Bool, ::Base.Iterators.Pairs{Union{},Union{},Tuple{},NamedTuple{(),Tuple{}}}, ::Function, ::OrderedCollections.OrderedDict{Module,OrderedCollections.OrderedDict{Revise.RelocatableExpr,Union{Nothing, Array{Any,1}}}}\u001b[1m)\u001b[22m at \u001b[1m/home/nathan/.julia/packages/Revise/agmgx/src/Revise.jl:352\u001b[22m\n",
      " [11] \u001b[1minstantiate_sigs!\u001b[22m at \u001b[1m/home/nathan/.julia/packages/Revise/agmgx/src/Revise.jl:349\u001b[22m [inlined]\n",
      " [12] \u001b[1mmaybe_parse_from_cache!\u001b[22m\u001b[1m(\u001b[22m::Revise.PkgData, ::String\u001b[1m)\u001b[22m at \u001b[1m/home/nathan/.julia/packages/Revise/agmgx/src/pkgs.jl:224\u001b[22m\n",
      " [13] \u001b[1m(::getfield(Revise, Symbol(\"##26#27\")){String})\u001b[22m\u001b[1m(\u001b[22m\u001b[1m)\u001b[22m at \u001b[1m/home/nathan/.julia/packages/Revise/agmgx/src/pkgs.jl:370\u001b[22m\n",
      " [14] \u001b[1mwith_logstate\u001b[22m\u001b[1m(\u001b[22m::getfield(Revise, Symbol(\"##26#27\")){String}, ::Base.CoreLogging.LogState\u001b[1m)\u001b[22m at \u001b[1m./logging.jl:395\u001b[22m\n",
      " [15] \u001b[1mwith_logger\u001b[22m at \u001b[1m./logging.jl:491\u001b[22m [inlined]\n",
      " [16] \u001b[1mwatch_manifest\u001b[22m\u001b[1m(\u001b[22m::String\u001b[1m)\u001b[22m at \u001b[1m/home/nathan/.julia/packages/Revise/agmgx/src/pkgs.jl:349\u001b[22m\n",
      " [17] \u001b[1m(::Revise.Rescheduler{typeof(Revise.watch_manifest),Tuple{String}})\u001b[22m\u001b[1m(\u001b[22m\u001b[1m)\u001b[22m at \u001b[1m/home/nathan/.julia/packages/Revise/agmgx/src/types.jl:235\u001b[22m\n",
      "while evaluating\n",
      "const H5P_DATATYPE_CREATE = read_const(if libversion >= #= /home/nathan/.julia/packages/HDF5/2gJEi/src/HDF5.jl:161 =# @v_str(\"1.8.14\")\n",
      "                :H5P_CLS_DATATYPE_CREATE_ID_g\n",
      "            else\n",
      "                :H5P_CLS_DATATYPE_CREATE_g\n",
      "            end)\n",
      "in module Main.HDF5\n",
      "\u001b[91mUndefVarError: libversion not defined\u001b[39m\n",
      "Stacktrace:\n",
      " [1] \u001b[1m#collect_args#33\u001b[22m\u001b[1m(\u001b[22m::Bool, ::Function, ::JuliaInterpreter.Frame, ::Expr\u001b[1m)\u001b[22m at \u001b[1m/home/nathan/.julia/packages/JuliaInterpreter/Or807/src/interpret.jl:64\u001b[22m\n",
      " [2] \u001b[1mcollect_args\u001b[22m at \u001b[1m/home/nathan/.julia/packages/JuliaInterpreter/Or807/src/interpret.jl:139\u001b[22m [inlined]\n",
      " [3] \u001b[1mlookup_callexpr\u001b[22m at \u001b[1m/home/nathan/.julia/packages/Revise/agmgx/src/lowered.jl:13\u001b[22m [inlined]\n",
      " [4] \u001b[1m#methods_by_execution!#14\u001b[22m\u001b[1m(\u001b[22m::Bool, ::Bool, ::Function, ::Any, ::Revise.CodeTrackingMethodInfo, ::Dict{Module,Array{Expr,1}}, ::JuliaInterpreter.Frame\u001b[1m)\u001b[22m at \u001b[1m/home/nathan/.julia/packages/Revise/agmgx/src/lowered.jl:187\u001b[22m\n",
      " [5] \u001b[1m#methods_by_execution!\u001b[22m at \u001b[1m./none:0\u001b[22m [inlined]\n",
      " [6] \u001b[1m#methods_by_execution!#9\u001b[22m\u001b[1m(\u001b[22m::Base.Iterators.Pairs{Symbol,Bool,Tuple{Symbol},NamedTuple{(:define,),Tuple{Bool}}}, ::Function, ::Any, ::Revise.CodeTrackingMethodInfo, ::Dict{Module,Array{Expr,1}}, ::Module, ::Expr\u001b[1m)\u001b[22m at \u001b[1m/home/nathan/.julia/packages/Revise/agmgx/src/lowered.jl:49\u001b[22m\n",
      " [7] \u001b[1m#methods_by_execution!\u001b[22m at \u001b[1m./none:0\u001b[22m [inlined]\n",
      " [8] \u001b[1m#eval_with_signatures#59\u001b[22m at \u001b[1m/home/nathan/.julia/packages/Revise/agmgx/src/Revise.jl:344\u001b[22m [inlined]\n",
      " [9] \u001b[1m#eval_with_signatures\u001b[22m at \u001b[1m./none:0\u001b[22m [inlined]\n",
      " [10] \u001b[1m#instantiate_sigs!#60\u001b[22m\u001b[1m(\u001b[22m::Bool, ::Base.Iterators.Pairs{Union{},Union{},Tuple{},NamedTuple{(),Tuple{}}}, ::Function, ::OrderedCollections.OrderedDict{Module,OrderedCollections.OrderedDict{Revise.RelocatableExpr,Union{Nothing, Array{Any,1}}}}\u001b[1m)\u001b[22m at \u001b[1m/home/nathan/.julia/packages/Revise/agmgx/src/Revise.jl:352\u001b[22m\n",
      " [11] \u001b[1minstantiate_sigs!\u001b[22m at \u001b[1m/home/nathan/.julia/packages/Revise/agmgx/src/Revise.jl:349\u001b[22m [inlined]\n",
      " [12] \u001b[1mmaybe_parse_from_cache!\u001b[22m\u001b[1m(\u001b[22m::Revise.PkgData, ::String\u001b[1m)\u001b[22m at \u001b[1m/home/nathan/.julia/packages/Revise/agmgx/src/pkgs.jl:224\u001b[22m\n",
      " [13] \u001b[1m(::getfield(Revise, Symbol(\"##26#27\")){String})\u001b[22m\u001b[1m(\u001b[22m\u001b[1m)\u001b[22m at \u001b[1m/home/nathan/.julia/packages/Revise/agmgx/src/pkgs.jl:370\u001b[22m\n",
      " [14] \u001b[1mwith_logstate\u001b[22m\u001b[1m(\u001b[22m::getfield(Revise, Symbol(\"##26#27\")){String}, ::Base.CoreLogging.LogState\u001b[1m)\u001b[22m at \u001b[1m./logging.jl:395\u001b[22m\n",
      " [15] \u001b[1mwith_logger\u001b[22m at \u001b[1m./logging.jl:491\u001b[22m [inlined]\n",
      " [16] \u001b[1mwatch_manifest\u001b[22m\u001b[1m(\u001b[22m::String\u001b[1m)\u001b[22m at \u001b[1m/home/nathan/.julia/packages/Revise/agmgx/src/pkgs.jl:349\u001b[22m\n",
      " [17] \u001b[1m(::Revise.Rescheduler{typeof(Revise.watch_manifest),Tuple{String}})\u001b[22m\u001b[1m(\u001b[22m\u001b[1m)\u001b[22m at \u001b[1m/home/nathan/.julia/packages/Revise/agmgx/src/types.jl:235\u001b[22m\n",
      "while evaluating\n",
      "const H5P_DATATYPE_ACCESS = read_const(if libversion >= #= /home/nathan/.julia/packages/HDF5/2gJEi/src/HDF5.jl:162 =# @v_str(\"1.8.14\")\n",
      "                :H5P_CLS_DATATYPE_ACCESS_ID_g\n",
      "            else\n",
      "                :H5P_CLS_DATATYPE_ACCESS_g\n",
      "            end)\n",
      "in module Main.HDF5\n"
     ]
    },
    {
     "name": "stderr",
     "output_type": "stream",
     "text": [
      "\u001b[91mUndefVarError: libversion not defined\u001b[39m\n",
      "Stacktrace:\n",
      " [1] \u001b[1m#collect_args#33\u001b[22m\u001b[1m(\u001b[22m::Bool, ::Function, ::JuliaInterpreter.Frame, ::Expr\u001b[1m)\u001b[22m at \u001b[1m/home/nathan/.julia/packages/JuliaInterpreter/Or807/src/interpret.jl:64\u001b[22m\n",
      " [2] \u001b[1mcollect_args\u001b[22m at \u001b[1m/home/nathan/.julia/packages/JuliaInterpreter/Or807/src/interpret.jl:139\u001b[22m [inlined]\n",
      " [3] \u001b[1mlookup_callexpr\u001b[22m at \u001b[1m/home/nathan/.julia/packages/Revise/agmgx/src/lowered.jl:13\u001b[22m [inlined]\n",
      " [4] \u001b[1m#methods_by_execution!#14\u001b[22m\u001b[1m(\u001b[22m::Bool, ::Bool, ::Function, ::Any, ::Revise.CodeTrackingMethodInfo, ::Dict{Module,Array{Expr,1}}, ::JuliaInterpreter.Frame\u001b[1m)\u001b[22m at \u001b[1m/home/nathan/.julia/packages/Revise/agmgx/src/lowered.jl:187\u001b[22m\n",
      " [5] \u001b[1m#methods_by_execution!\u001b[22m at \u001b[1m./none:0\u001b[22m [inlined]\n",
      " [6] \u001b[1m#methods_by_execution!#9\u001b[22m\u001b[1m(\u001b[22m::Base.Iterators.Pairs{Symbol,Bool,Tuple{Symbol},NamedTuple{(:define,),Tuple{Bool}}}, ::Function, ::Any, ::Revise.CodeTrackingMethodInfo, ::Dict{Module,Array{Expr,1}}, ::Module, ::Expr\u001b[1m)\u001b[22m at \u001b[1m/home/nathan/.julia/packages/Revise/agmgx/src/lowered.jl:49\u001b[22m\n",
      " [7] \u001b[1m#methods_by_execution!\u001b[22m at \u001b[1m./none:0\u001b[22m [inlined]\n",
      " [8] \u001b[1m#eval_with_signatures#59\u001b[22m at \u001b[1m/home/nathan/.julia/packages/Revise/agmgx/src/Revise.jl:344\u001b[22m [inlined]\n",
      " [9] \u001b[1m#eval_with_signatures\u001b[22m at \u001b[1m./none:0\u001b[22m [inlined]\n",
      " [10] \u001b[1m#instantiate_sigs!#60\u001b[22m\u001b[1m(\u001b[22m::Bool, ::Base.Iterators.Pairs{Union{},Union{},Tuple{},NamedTuple{(),Tuple{}}}, ::Function, ::OrderedCollections.OrderedDict{Module,OrderedCollections.OrderedDict{Revise.RelocatableExpr,Union{Nothing, Array{Any,1}}}}\u001b[1m)\u001b[22m at \u001b[1m/home/nathan/.julia/packages/Revise/agmgx/src/Revise.jl:352\u001b[22m\n",
      " [11] \u001b[1minstantiate_sigs!\u001b[22m at \u001b[1m/home/nathan/.julia/packages/Revise/agmgx/src/Revise.jl:349\u001b[22m [inlined]\n",
      " [12] \u001b[1mmaybe_parse_from_cache!\u001b[22m\u001b[1m(\u001b[22m::Revise.PkgData, ::String\u001b[1m)\u001b[22m at \u001b[1m/home/nathan/.julia/packages/Revise/agmgx/src/pkgs.jl:224\u001b[22m\n",
      " [13] \u001b[1m(::getfield(Revise, Symbol(\"##26#27\")){String})\u001b[22m\u001b[1m(\u001b[22m\u001b[1m)\u001b[22m at \u001b[1m/home/nathan/.julia/packages/Revise/agmgx/src/pkgs.jl:370\u001b[22m\n",
      " [14] \u001b[1mwith_logstate\u001b[22m\u001b[1m(\u001b[22m::getfield(Revise, Symbol(\"##26#27\")){String}, ::Base.CoreLogging.LogState\u001b[1m)\u001b[22m at \u001b[1m./logging.jl:395\u001b[22m\n",
      " [15] \u001b[1mwith_logger\u001b[22m at \u001b[1m./logging.jl:491\u001b[22m [inlined]\n",
      " [16] \u001b[1mwatch_manifest\u001b[22m\u001b[1m(\u001b[22m::String\u001b[1m)\u001b[22m at \u001b[1m/home/nathan/.julia/packages/Revise/agmgx/src/pkgs.jl:349\u001b[22m\n",
      " [17] \u001b[1m(::Revise.Rescheduler{typeof(Revise.watch_manifest),Tuple{String}})\u001b[22m\u001b[1m(\u001b[22m\u001b[1m)\u001b[22m at \u001b[1m/home/nathan/.julia/packages/Revise/agmgx/src/types.jl:235\u001b[22m\n",
      "while evaluating\n",
      "const H5P_STRING_CREATE = read_const(if libversion >= #= /home/nathan/.julia/packages/HDF5/2gJEi/src/HDF5.jl:163 =# @v_str(\"1.8.14\")\n",
      "                :H5P_CLS_STRING_CREATE_ID_g\n",
      "            else\n",
      "                :H5P_CLS_STRING_CREATE_g\n",
      "            end)\n",
      "in module Main.HDF5\n",
      "\u001b[91mUndefVarError: libversion not defined\u001b[39m\n",
      "Stacktrace:\n",
      " [1] \u001b[1m#collect_args#33\u001b[22m\u001b[1m(\u001b[22m::Bool, ::Function, ::JuliaInterpreter.Frame, ::Expr\u001b[1m)\u001b[22m at \u001b[1m/home/nathan/.julia/packages/JuliaInterpreter/Or807/src/interpret.jl:64\u001b[22m\n",
      " [2] \u001b[1mcollect_args\u001b[22m at \u001b[1m/home/nathan/.julia/packages/JuliaInterpreter/Or807/src/interpret.jl:139\u001b[22m [inlined]\n",
      " [3] \u001b[1mlookup_callexpr\u001b[22m at \u001b[1m/home/nathan/.julia/packages/Revise/agmgx/src/lowered.jl:13\u001b[22m [inlined]\n",
      " [4] \u001b[1m#methods_by_execution!#14\u001b[22m\u001b[1m(\u001b[22m::Bool, ::Bool, ::Function, ::Any, ::Revise.CodeTrackingMethodInfo, ::Dict{Module,Array{Expr,1}}, ::JuliaInterpreter.Frame\u001b[1m)\u001b[22m at \u001b[1m/home/nathan/.julia/packages/Revise/agmgx/src/lowered.jl:187\u001b[22m\n",
      " [5] \u001b[1m#methods_by_execution!\u001b[22m at \u001b[1m./none:0\u001b[22m [inlined]\n",
      " [6] \u001b[1m#methods_by_execution!#9\u001b[22m\u001b[1m(\u001b[22m::Base.Iterators.Pairs{Symbol,Bool,Tuple{Symbol},NamedTuple{(:define,),Tuple{Bool}}}, ::Function, ::Any, ::Revise.CodeTrackingMethodInfo, ::Dict{Module,Array{Expr,1}}, ::Module, ::Expr\u001b[1m)\u001b[22m at \u001b[1m/home/nathan/.julia/packages/Revise/agmgx/src/lowered.jl:49\u001b[22m\n",
      " [7] \u001b[1m#methods_by_execution!\u001b[22m at \u001b[1m./none:0\u001b[22m [inlined]\n",
      " [8] \u001b[1m#eval_with_signatures#59\u001b[22m at \u001b[1m/home/nathan/.julia/packages/Revise/agmgx/src/Revise.jl:344\u001b[22m [inlined]\n",
      " [9] \u001b[1m#eval_with_signatures\u001b[22m at \u001b[1m./none:0\u001b[22m [inlined]\n",
      " [10] \u001b[1m#instantiate_sigs!#60\u001b[22m\u001b[1m(\u001b[22m::Bool, ::Base.Iterators.Pairs{Union{},Union{},Tuple{},NamedTuple{(),Tuple{}}}, ::Function, ::OrderedCollections.OrderedDict{Module,OrderedCollections.OrderedDict{Revise.RelocatableExpr,Union{Nothing, Array{Any,1}}}}\u001b[1m)\u001b[22m at \u001b[1m/home/nathan/.julia/packages/Revise/agmgx/src/Revise.jl:352\u001b[22m\n",
      " [11] \u001b[1minstantiate_sigs!\u001b[22m at \u001b[1m/home/nathan/.julia/packages/Revise/agmgx/src/Revise.jl:349\u001b[22m [inlined]\n",
      " [12] \u001b[1mmaybe_parse_from_cache!\u001b[22m\u001b[1m(\u001b[22m::Revise.PkgData, ::String\u001b[1m)\u001b[22m at \u001b[1m/home/nathan/.julia/packages/Revise/agmgx/src/pkgs.jl:224\u001b[22m\n",
      " [13] \u001b[1m(::getfield(Revise, Symbol(\"##26#27\")){String})\u001b[22m\u001b[1m(\u001b[22m\u001b[1m)\u001b[22m at \u001b[1m/home/nathan/.julia/packages/Revise/agmgx/src/pkgs.jl:370\u001b[22m\n",
      " [14] \u001b[1mwith_logstate\u001b[22m\u001b[1m(\u001b[22m::getfield(Revise, Symbol(\"##26#27\")){String}, ::Base.CoreLogging.LogState\u001b[1m)\u001b[22m at \u001b[1m./logging.jl:395\u001b[22m\n",
      " [15] \u001b[1mwith_logger\u001b[22m at \u001b[1m./logging.jl:491\u001b[22m [inlined]\n",
      " [16] \u001b[1mwatch_manifest\u001b[22m\u001b[1m(\u001b[22m::String\u001b[1m)\u001b[22m at \u001b[1m/home/nathan/.julia/packages/Revise/agmgx/src/pkgs.jl:349\u001b[22m\n",
      " [17] \u001b[1m(::Revise.Rescheduler{typeof(Revise.watch_manifest),Tuple{String}})\u001b[22m\u001b[1m(\u001b[22m\u001b[1m)\u001b[22m at \u001b[1m/home/nathan/.julia/packages/Revise/agmgx/src/types.jl:235\u001b[22m\n",
      "while evaluating\n",
      "const H5P_ATTRIBUTE_CREATE = read_const(if libversion >= #= /home/nathan/.julia/packages/HDF5/2gJEi/src/HDF5.jl:164 =# @v_str(\"1.8.14\")\n",
      "                :H5P_CLS_ATTRIBUTE_CREATE_ID_g\n",
      "            else\n",
      "                :H5P_CLS_ATTRIBUTE_CREATE_g\n",
      "            end)\n",
      "in module Main.HDF5\n",
      "\u001b[91mUndefVarError: libversion not defined\u001b[39m\n",
      "Stacktrace:\n",
      " [1] \u001b[1m#collect_args#33\u001b[22m\u001b[1m(\u001b[22m::Bool, ::Function, ::JuliaInterpreter.Frame, ::Expr\u001b[1m)\u001b[22m at \u001b[1m/home/nathan/.julia/packages/JuliaInterpreter/Or807/src/interpret.jl:64\u001b[22m\n",
      " [2] \u001b[1mcollect_args\u001b[22m at \u001b[1m/home/nathan/.julia/packages/JuliaInterpreter/Or807/src/interpret.jl:139\u001b[22m [inlined]\n",
      " [3] \u001b[1mlookup_callexpr\u001b[22m at \u001b[1m/home/nathan/.julia/packages/Revise/agmgx/src/lowered.jl:13\u001b[22m [inlined]\n",
      " [4] \u001b[1m#methods_by_execution!#14\u001b[22m\u001b[1m(\u001b[22m::Bool, ::Bool, ::Function, ::Any, ::Revise.CodeTrackingMethodInfo, ::Dict{Module,Array{Expr,1}}, ::JuliaInterpreter.Frame\u001b[1m)\u001b[22m at \u001b[1m/home/nathan/.julia/packages/Revise/agmgx/src/lowered.jl:187\u001b[22m\n",
      " [5] \u001b[1m#methods_by_execution!\u001b[22m at \u001b[1m./none:0\u001b[22m [inlined]\n",
      " [6] \u001b[1m#methods_by_execution!#9\u001b[22m\u001b[1m(\u001b[22m::Base.Iterators.Pairs{Symbol,Bool,Tuple{Symbol},NamedTuple{(:define,),Tuple{Bool}}}, ::Function, ::Any, ::Revise.CodeTrackingMethodInfo, ::Dict{Module,Array{Expr,1}}, ::Module, ::Expr\u001b[1m)\u001b[22m at \u001b[1m/home/nathan/.julia/packages/Revise/agmgx/src/lowered.jl:49\u001b[22m\n",
      " [7] \u001b[1m#methods_by_execution!\u001b[22m at \u001b[1m./none:0\u001b[22m [inlined]\n",
      " [8] \u001b[1m#eval_with_signatures#59\u001b[22m at \u001b[1m/home/nathan/.julia/packages/Revise/agmgx/src/Revise.jl:344\u001b[22m [inlined]\n",
      " [9] \u001b[1m#eval_with_signatures\u001b[22m at \u001b[1m./none:0\u001b[22m [inlined]\n",
      " [10] \u001b[1m#instantiate_sigs!#60\u001b[22m\u001b[1m(\u001b[22m::Bool, ::Base.Iterators.Pairs{Union{},Union{},Tuple{},NamedTuple{(),Tuple{}}}, ::Function, ::OrderedCollections.OrderedDict{Module,OrderedCollections.OrderedDict{Revise.RelocatableExpr,Union{Nothing, Array{Any,1}}}}\u001b[1m)\u001b[22m at \u001b[1m/home/nathan/.julia/packages/Revise/agmgx/src/Revise.jl:352\u001b[22m\n",
      " [11] \u001b[1minstantiate_sigs!\u001b[22m at \u001b[1m/home/nathan/.julia/packages/Revise/agmgx/src/Revise.jl:349\u001b[22m [inlined]\n",
      " [12] \u001b[1mmaybe_parse_from_cache!\u001b[22m\u001b[1m(\u001b[22m::Revise.PkgData, ::String\u001b[1m)\u001b[22m at \u001b[1m/home/nathan/.julia/packages/Revise/agmgx/src/pkgs.jl:224\u001b[22m\n",
      " [13] \u001b[1m(::getfield(Revise, Symbol(\"##26#27\")){String})\u001b[22m\u001b[1m(\u001b[22m\u001b[1m)\u001b[22m at \u001b[1m/home/nathan/.julia/packages/Revise/agmgx/src/pkgs.jl:370\u001b[22m\n",
      " [14] \u001b[1mwith_logstate\u001b[22m\u001b[1m(\u001b[22m::getfield(Revise, Symbol(\"##26#27\")){String}, ::Base.CoreLogging.LogState\u001b[1m)\u001b[22m at \u001b[1m./logging.jl:395\u001b[22m\n",
      " [15] \u001b[1mwith_logger\u001b[22m at \u001b[1m./logging.jl:491\u001b[22m [inlined]\n",
      " [16] \u001b[1mwatch_manifest\u001b[22m\u001b[1m(\u001b[22m::String\u001b[1m)\u001b[22m at \u001b[1m/home/nathan/.julia/packages/Revise/agmgx/src/pkgs.jl:349\u001b[22m\n",
      " [17] \u001b[1m(::Revise.Rescheduler{typeof(Revise.watch_manifest),Tuple{String}})\u001b[22m\u001b[1m(\u001b[22m\u001b[1m)\u001b[22m at \u001b[1m/home/nathan/.julia/packages/Revise/agmgx/src/types.jl:235\u001b[22m\n",
      "while evaluating\n",
      "const H5P_OBJECT_COPY = read_const(if libversion >= #= /home/nathan/.julia/packages/HDF5/2gJEi/src/HDF5.jl:165 =# @v_str(\"1.8.14\")\n",
      "                :H5P_CLS_OBJECT_COPY_ID_g\n",
      "            else\n",
      "                :H5P_CLS_OBJECT_COPY_g\n",
      "            end)\n",
      "in module Main.HDF5\n",
      "\u001b[91mUndefVarError: libversion not defined\u001b[39m\n",
      "Stacktrace:\n",
      " [1] \u001b[1m#collect_args#33\u001b[22m\u001b[1m(\u001b[22m::Bool, ::Function, ::JuliaInterpreter.Frame, ::Expr\u001b[1m)\u001b[22m at \u001b[1m/home/nathan/.julia/packages/JuliaInterpreter/Or807/src/interpret.jl:64\u001b[22m\n",
      " [2] \u001b[1mcollect_args\u001b[22m at \u001b[1m/home/nathan/.julia/packages/JuliaInterpreter/Or807/src/interpret.jl:139\u001b[22m [inlined]\n",
      " [3] \u001b[1mlookup_callexpr\u001b[22m at \u001b[1m/home/nathan/.julia/packages/Revise/agmgx/src/lowered.jl:13\u001b[22m [inlined]\n",
      " [4] \u001b[1m#methods_by_execution!#14\u001b[22m\u001b[1m(\u001b[22m::Bool, ::Bool, ::Function, ::Any, ::Revise.CodeTrackingMethodInfo, ::Dict{Module,Array{Expr,1}}, ::JuliaInterpreter.Frame\u001b[1m)\u001b[22m at \u001b[1m/home/nathan/.julia/packages/Revise/agmgx/src/lowered.jl:187\u001b[22m\n",
      " [5] \u001b[1m#methods_by_execution!\u001b[22m at \u001b[1m./none:0\u001b[22m [inlined]\n",
      " [6] \u001b[1m#methods_by_execution!#9\u001b[22m\u001b[1m(\u001b[22m::Base.Iterators.Pairs{Symbol,Bool,Tuple{Symbol},NamedTuple{(:define,),Tuple{Bool}}}, ::Function, ::Any, ::Revise.CodeTrackingMethodInfo, ::Dict{Module,Array{Expr,1}}, ::Module, ::Expr\u001b[1m)\u001b[22m at \u001b[1m/home/nathan/.julia/packages/Revise/agmgx/src/lowered.jl:49\u001b[22m\n",
      " [7] \u001b[1m#methods_by_execution!\u001b[22m at \u001b[1m./none:0\u001b[22m [inlined]\n",
      " [8] \u001b[1m#eval_with_signatures#59\u001b[22m at \u001b[1m/home/nathan/.julia/packages/Revise/agmgx/src/Revise.jl:344\u001b[22m [inlined]\n",
      " [9] \u001b[1m#eval_with_signatures\u001b[22m at \u001b[1m./none:0\u001b[22m [inlined]\n"
     ]
    },
    {
     "name": "stderr",
     "output_type": "stream",
     "text": [
      " [10] \u001b[1m#instantiate_sigs!#60\u001b[22m\u001b[1m(\u001b[22m::Bool, ::Base.Iterators.Pairs{Union{},Union{},Tuple{},NamedTuple{(),Tuple{}}}, ::Function, ::OrderedCollections.OrderedDict{Module,OrderedCollections.OrderedDict{Revise.RelocatableExpr,Union{Nothing, Array{Any,1}}}}\u001b[1m)\u001b[22m at \u001b[1m/home/nathan/.julia/packages/Revise/agmgx/src/Revise.jl:352\u001b[22m\n",
      " [11] \u001b[1minstantiate_sigs!\u001b[22m at \u001b[1m/home/nathan/.julia/packages/Revise/agmgx/src/Revise.jl:349\u001b[22m [inlined]\n",
      " [12] \u001b[1mmaybe_parse_from_cache!\u001b[22m\u001b[1m(\u001b[22m::Revise.PkgData, ::String\u001b[1m)\u001b[22m at \u001b[1m/home/nathan/.julia/packages/Revise/agmgx/src/pkgs.jl:224\u001b[22m\n",
      " [13] \u001b[1m(::getfield(Revise, Symbol(\"##26#27\")){String})\u001b[22m\u001b[1m(\u001b[22m\u001b[1m)\u001b[22m at \u001b[1m/home/nathan/.julia/packages/Revise/agmgx/src/pkgs.jl:370\u001b[22m\n",
      " [14] \u001b[1mwith_logstate\u001b[22m\u001b[1m(\u001b[22m::getfield(Revise, Symbol(\"##26#27\")){String}, ::Base.CoreLogging.LogState\u001b[1m)\u001b[22m at \u001b[1m./logging.jl:395\u001b[22m\n",
      " [15] \u001b[1mwith_logger\u001b[22m at \u001b[1m./logging.jl:491\u001b[22m [inlined]\n",
      " [16] \u001b[1mwatch_manifest\u001b[22m\u001b[1m(\u001b[22m::String\u001b[1m)\u001b[22m at \u001b[1m/home/nathan/.julia/packages/Revise/agmgx/src/pkgs.jl:349\u001b[22m\n",
      " [17] \u001b[1m(::Revise.Rescheduler{typeof(Revise.watch_manifest),Tuple{String}})\u001b[22m\u001b[1m(\u001b[22m\u001b[1m)\u001b[22m at \u001b[1m/home/nathan/.julia/packages/Revise/agmgx/src/types.jl:235\u001b[22m\n",
      "while evaluating\n",
      "const H5P_LINK_CREATE = read_const(if libversion >= #= /home/nathan/.julia/packages/HDF5/2gJEi/src/HDF5.jl:166 =# @v_str(\"1.8.14\")\n",
      "                :H5P_CLS_LINK_CREATE_ID_g\n",
      "            else\n",
      "                :H5P_CLS_LINK_CREATE_g\n",
      "            end)\n",
      "in module Main.HDF5\n",
      "\u001b[91mUndefVarError: libversion not defined\u001b[39m\n",
      "Stacktrace:\n",
      " [1] \u001b[1m#collect_args#33\u001b[22m\u001b[1m(\u001b[22m::Bool, ::Function, ::JuliaInterpreter.Frame, ::Expr\u001b[1m)\u001b[22m at \u001b[1m/home/nathan/.julia/packages/JuliaInterpreter/Or807/src/interpret.jl:64\u001b[22m\n",
      " [2] \u001b[1mcollect_args\u001b[22m at \u001b[1m/home/nathan/.julia/packages/JuliaInterpreter/Or807/src/interpret.jl:139\u001b[22m [inlined]\n",
      " [3] \u001b[1mlookup_callexpr\u001b[22m at \u001b[1m/home/nathan/.julia/packages/Revise/agmgx/src/lowered.jl:13\u001b[22m [inlined]\n",
      " [4] \u001b[1m#methods_by_execution!#14\u001b[22m\u001b[1m(\u001b[22m::Bool, ::Bool, ::Function, ::Any, ::Revise.CodeTrackingMethodInfo, ::Dict{Module,Array{Expr,1}}, ::JuliaInterpreter.Frame\u001b[1m)\u001b[22m at \u001b[1m/home/nathan/.julia/packages/Revise/agmgx/src/lowered.jl:187\u001b[22m\n",
      " [5] \u001b[1m#methods_by_execution!\u001b[22m at \u001b[1m./none:0\u001b[22m [inlined]\n",
      " [6] \u001b[1m#methods_by_execution!#9\u001b[22m\u001b[1m(\u001b[22m::Base.Iterators.Pairs{Symbol,Bool,Tuple{Symbol},NamedTuple{(:define,),Tuple{Bool}}}, ::Function, ::Any, ::Revise.CodeTrackingMethodInfo, ::Dict{Module,Array{Expr,1}}, ::Module, ::Expr\u001b[1m)\u001b[22m at \u001b[1m/home/nathan/.julia/packages/Revise/agmgx/src/lowered.jl:49\u001b[22m\n",
      " [7] \u001b[1m#methods_by_execution!\u001b[22m at \u001b[1m./none:0\u001b[22m [inlined]\n",
      " [8] \u001b[1m#eval_with_signatures#59\u001b[22m at \u001b[1m/home/nathan/.julia/packages/Revise/agmgx/src/Revise.jl:344\u001b[22m [inlined]\n",
      " [9] \u001b[1m#eval_with_signatures\u001b[22m at \u001b[1m./none:0\u001b[22m [inlined]\n",
      " [10] \u001b[1m#instantiate_sigs!#60\u001b[22m\u001b[1m(\u001b[22m::Bool, ::Base.Iterators.Pairs{Union{},Union{},Tuple{},NamedTuple{(),Tuple{}}}, ::Function, ::OrderedCollections.OrderedDict{Module,OrderedCollections.OrderedDict{Revise.RelocatableExpr,Union{Nothing, Array{Any,1}}}}\u001b[1m)\u001b[22m at \u001b[1m/home/nathan/.julia/packages/Revise/agmgx/src/Revise.jl:352\u001b[22m\n",
      " [11] \u001b[1minstantiate_sigs!\u001b[22m at \u001b[1m/home/nathan/.julia/packages/Revise/agmgx/src/Revise.jl:349\u001b[22m [inlined]\n",
      " [12] \u001b[1mmaybe_parse_from_cache!\u001b[22m\u001b[1m(\u001b[22m::Revise.PkgData, ::String\u001b[1m)\u001b[22m at \u001b[1m/home/nathan/.julia/packages/Revise/agmgx/src/pkgs.jl:224\u001b[22m\n",
      " [13] \u001b[1m(::getfield(Revise, Symbol(\"##26#27\")){String})\u001b[22m\u001b[1m(\u001b[22m\u001b[1m)\u001b[22m at \u001b[1m/home/nathan/.julia/packages/Revise/agmgx/src/pkgs.jl:370\u001b[22m\n",
      " [14] \u001b[1mwith_logstate\u001b[22m\u001b[1m(\u001b[22m::getfield(Revise, Symbol(\"##26#27\")){String}, ::Base.CoreLogging.LogState\u001b[1m)\u001b[22m at \u001b[1m./logging.jl:395\u001b[22m\n",
      " [15] \u001b[1mwith_logger\u001b[22m at \u001b[1m./logging.jl:491\u001b[22m [inlined]\n",
      " [16] \u001b[1mwatch_manifest\u001b[22m\u001b[1m(\u001b[22m::String\u001b[1m)\u001b[22m at \u001b[1m/home/nathan/.julia/packages/Revise/agmgx/src/pkgs.jl:349\u001b[22m\n",
      " [17] \u001b[1m(::Revise.Rescheduler{typeof(Revise.watch_manifest),Tuple{String}})\u001b[22m\u001b[1m(\u001b[22m\u001b[1m)\u001b[22m at \u001b[1m/home/nathan/.julia/packages/Revise/agmgx/src/types.jl:235\u001b[22m\n",
      "while evaluating\n",
      "const H5P_LINK_ACCESS = read_const(if libversion >= #= /home/nathan/.julia/packages/HDF5/2gJEi/src/HDF5.jl:167 =# @v_str(\"1.8.14\")\n",
      "                :H5P_CLS_LINK_ACCESS_ID_g\n",
      "            else\n",
      "                :H5P_CLS_LINK_ACCESS_g\n",
      "            end)\n",
      "in module Main.HDF5\n",
      "\u001b[91mUndefVarError: Hid not defined\u001b[39m\n",
      "Stacktrace:\n",
      " [1] \u001b[1mmacro expansion\u001b[22m at \u001b[1m/home/nathan/.julia/packages/JuliaInterpreter/Or807/src/interpret.jl:64\u001b[22m [inlined]\n",
      " [2] \u001b[1m#methods_by_execution!#14\u001b[22m\u001b[1m(\u001b[22m::Bool, ::Bool, ::Function, ::Any, ::Revise.CodeTrackingMethodInfo, ::Dict{Module,Array{Expr,1}}, ::JuliaInterpreter.Frame\u001b[1m)\u001b[22m at \u001b[1m/home/nathan/.julia/packages/Revise/agmgx/src/lowered.jl:125\u001b[22m\n",
      " [3] \u001b[1m#methods_by_execution!\u001b[22m at \u001b[1m./none:0\u001b[22m [inlined]\n",
      " [4] \u001b[1m#methods_by_execution!#9\u001b[22m\u001b[1m(\u001b[22m::Base.Iterators.Pairs{Symbol,Bool,Tuple{Symbol},NamedTuple{(:define,),Tuple{Bool}}}, ::Function, ::Any, ::Revise.CodeTrackingMethodInfo, ::Dict{Module,Array{Expr,1}}, ::Module, ::Expr\u001b[1m)\u001b[22m at \u001b[1m/home/nathan/.julia/packages/Revise/agmgx/src/lowered.jl:49\u001b[22m\n",
      " [5] \u001b[1m#methods_by_execution!\u001b[22m at \u001b[1m./none:0\u001b[22m [inlined]\n",
      " [6] \u001b[1m#eval_with_signatures#59\u001b[22m at \u001b[1m/home/nathan/.julia/packages/Revise/agmgx/src/Revise.jl:344\u001b[22m [inlined]\n",
      " [7] \u001b[1m#eval_with_signatures\u001b[22m at \u001b[1m./none:0\u001b[22m [inlined]\n",
      " [8] \u001b[1m#instantiate_sigs!#60\u001b[22m\u001b[1m(\u001b[22m::Bool, ::Base.Iterators.Pairs{Union{},Union{},Tuple{},NamedTuple{(),Tuple{}}}, ::Function, ::OrderedCollections.OrderedDict{Module,OrderedCollections.OrderedDict{Revise.RelocatableExpr,Union{Nothing, Array{Any,1}}}}\u001b[1m)\u001b[22m at \u001b[1m/home/nathan/.julia/packages/Revise/agmgx/src/Revise.jl:352\u001b[22m\n",
      " [9] \u001b[1minstantiate_sigs!\u001b[22m at \u001b[1m/home/nathan/.julia/packages/Revise/agmgx/src/Revise.jl:349\u001b[22m [inlined]\n",
      " [10] \u001b[1mmaybe_parse_from_cache!\u001b[22m\u001b[1m(\u001b[22m::Revise.PkgData, ::String\u001b[1m)\u001b[22m at \u001b[1m/home/nathan/.julia/packages/Revise/agmgx/src/pkgs.jl:224\u001b[22m\n",
      " [11] \u001b[1m(::getfield(Revise, Symbol(\"##26#27\")){String})\u001b[22m\u001b[1m(\u001b[22m\u001b[1m)\u001b[22m at \u001b[1m/home/nathan/.julia/packages/Revise/agmgx/src/pkgs.jl:370\u001b[22m\n",
      " [12] \u001b[1mwith_logstate\u001b[22m\u001b[1m(\u001b[22m::getfield(Revise, Symbol(\"##26#27\")){String}, ::Base.CoreLogging.LogState\u001b[1m)\u001b[22m at \u001b[1m./logging.jl:395\u001b[22m\n",
      " [13] \u001b[1mwith_logger\u001b[22m at \u001b[1m./logging.jl:491\u001b[22m [inlined]\n",
      " [14] \u001b[1mwatch_manifest\u001b[22m\u001b[1m(\u001b[22m::String\u001b[1m)\u001b[22m at \u001b[1m/home/nathan/.julia/packages/Revise/agmgx/src/pkgs.jl:349\u001b[22m\n",
      " [15] \u001b[1m(::Revise.Rescheduler{typeof(Revise.watch_manifest),Tuple{String}})\u001b[22m\u001b[1m(\u001b[22m\u001b[1m)\u001b[22m at \u001b[1m/home/nathan/.julia/packages/Revise/agmgx/src/types.jl:235\u001b[22m\n",
      "while evaluating\n",
      "const H5S_ALL = Hid(0)\n",
      "in module Main.HDF5\n",
      "\u001b[91mUndefVarError: Hid not defined\u001b[39m\n",
      "Stacktrace:\n",
      " [1] \u001b[1mmacro expansion\u001b[22m at \u001b[1m/home/nathan/.julia/packages/JuliaInterpreter/Or807/src/interpret.jl:64\u001b[22m [inlined]\n",
      " [2] \u001b[1m#methods_by_execution!#14\u001b[22m\u001b[1m(\u001b[22m::Bool, ::Bool, ::Function, ::Any, ::Revise.CodeTrackingMethodInfo, ::Dict{Module,Array{Expr,1}}, ::JuliaInterpreter.Frame\u001b[1m)\u001b[22m at \u001b[1m/home/nathan/.julia/packages/Revise/agmgx/src/lowered.jl:125\u001b[22m\n",
      " [3] \u001b[1m#methods_by_execution!\u001b[22m at \u001b[1m./none:0\u001b[22m [inlined]\n",
      " [4] \u001b[1m#methods_by_execution!#9\u001b[22m\u001b[1m(\u001b[22m::Base.Iterators.Pairs{Symbol,Bool,Tuple{Symbol},NamedTuple{(:define,),Tuple{Bool}}}, ::Function, ::Any, ::Revise.CodeTrackingMethodInfo, ::Dict{Module,Array{Expr,1}}, ::Module, ::Expr\u001b[1m)\u001b[22m at \u001b[1m/home/nathan/.julia/packages/Revise/agmgx/src/lowered.jl:49\u001b[22m\n",
      " [5] \u001b[1m#methods_by_execution!\u001b[22m at \u001b[1m./none:0\u001b[22m [inlined]\n",
      " [6] \u001b[1m#eval_with_signatures#59\u001b[22m at \u001b[1m/home/nathan/.julia/packages/Revise/agmgx/src/Revise.jl:344\u001b[22m [inlined]\n",
      " [7] \u001b[1m#eval_with_signatures\u001b[22m at \u001b[1m./none:0\u001b[22m [inlined]\n",
      " [8] \u001b[1m#instantiate_sigs!#60\u001b[22m\u001b[1m(\u001b[22m::Bool, ::Base.Iterators.Pairs{Union{},Union{},Tuple{},NamedTuple{(),Tuple{}}}, ::Function, ::OrderedCollections.OrderedDict{Module,OrderedCollections.OrderedDict{Revise.RelocatableExpr,Union{Nothing, Array{Any,1}}}}\u001b[1m)\u001b[22m at \u001b[1m/home/nathan/.julia/packages/Revise/agmgx/src/Revise.jl:352\u001b[22m\n",
      " [9] \u001b[1minstantiate_sigs!\u001b[22m at \u001b[1m/home/nathan/.julia/packages/Revise/agmgx/src/Revise.jl:349\u001b[22m [inlined]\n",
      " [10] \u001b[1mmaybe_parse_from_cache!\u001b[22m\u001b[1m(\u001b[22m::Revise.PkgData, ::String\u001b[1m)\u001b[22m at \u001b[1m/home/nathan/.julia/packages/Revise/agmgx/src/pkgs.jl:224\u001b[22m\n",
      " [11] \u001b[1m(::getfield(Revise, Symbol(\"##26#27\")){String})\u001b[22m\u001b[1m(\u001b[22m\u001b[1m)\u001b[22m at \u001b[1m/home/nathan/.julia/packages/Revise/agmgx/src/pkgs.jl:370\u001b[22m\n",
      " [12] \u001b[1mwith_logstate\u001b[22m\u001b[1m(\u001b[22m::getfield(Revise, Symbol(\"##26#27\")){String}, ::Base.CoreLogging.LogState\u001b[1m)\u001b[22m at \u001b[1m./logging.jl:395\u001b[22m\n",
      " [13] \u001b[1mwith_logger\u001b[22m at \u001b[1m./logging.jl:491\u001b[22m [inlined]\n",
      " [14] \u001b[1mwatch_manifest\u001b[22m\u001b[1m(\u001b[22m::String\u001b[1m)\u001b[22m at \u001b[1m/home/nathan/.julia/packages/Revise/agmgx/src/pkgs.jl:349\u001b[22m\n",
      " [15] \u001b[1m(::Revise.Rescheduler{typeof(Revise.watch_manifest),Tuple{String}})\u001b[22m\u001b[1m(\u001b[22m\u001b[1m)\u001b[22m at \u001b[1m/home/nathan/.julia/packages/Revise/agmgx/src/types.jl:235\u001b[22m\n",
      "while evaluating\n",
      "const H5S_SCALAR = Hid(0)\n",
      "in module Main.HDF5\n",
      "\u001b[91mUndefVarError: Hid not defined\u001b[39m\n",
      "Stacktrace:\n",
      " [1] \u001b[1mmacro expansion\u001b[22m at \u001b[1m/home/nathan/.julia/packages/JuliaInterpreter/Or807/src/interpret.jl:64\u001b[22m [inlined]\n",
      " [2] \u001b[1m#methods_by_execution!#14\u001b[22m\u001b[1m(\u001b[22m::Bool, ::Bool, ::Function, ::Any, ::Revise.CodeTrackingMethodInfo, ::Dict{Module,Array{Expr,1}}, ::JuliaInterpreter.Frame\u001b[1m)\u001b[22m at \u001b[1m/home/nathan/.julia/packages/Revise/agmgx/src/lowered.jl:125\u001b[22m\n",
      " [3] \u001b[1m#methods_by_execution!\u001b[22m at \u001b[1m./none:0\u001b[22m [inlined]\n",
      " [4] \u001b[1m#methods_by_execution!#9\u001b[22m\u001b[1m(\u001b[22m::Base.Iterators.Pairs{Symbol,Bool,Tuple{Symbol},NamedTuple{(:define,),Tuple{Bool}}}, ::Function, ::Any, ::Revise.CodeTrackingMethodInfo, ::Dict{Module,Array{Expr,1}}, ::Module, ::Expr\u001b[1m)\u001b[22m at \u001b[1m/home/nathan/.julia/packages/Revise/agmgx/src/lowered.jl:49\u001b[22m\n",
      " [5] \u001b[1m#methods_by_execution!\u001b[22m at \u001b[1m./none:0\u001b[22m [inlined]\n"
     ]
    },
    {
     "name": "stderr",
     "output_type": "stream",
     "text": [
      " [6] \u001b[1m#eval_with_signatures#59\u001b[22m at \u001b[1m/home/nathan/.julia/packages/Revise/agmgx/src/Revise.jl:344\u001b[22m [inlined]\n",
      " [7] \u001b[1m#eval_with_signatures\u001b[22m at \u001b[1m./none:0\u001b[22m [inlined]\n",
      " [8] \u001b[1m#instantiate_sigs!#60\u001b[22m\u001b[1m(\u001b[22m::Bool, ::Base.Iterators.Pairs{Union{},Union{},Tuple{},NamedTuple{(),Tuple{}}}, ::Function, ::OrderedCollections.OrderedDict{Module,OrderedCollections.OrderedDict{Revise.RelocatableExpr,Union{Nothing, Array{Any,1}}}}\u001b[1m)\u001b[22m at \u001b[1m/home/nathan/.julia/packages/Revise/agmgx/src/Revise.jl:352\u001b[22m\n",
      " [9] \u001b[1minstantiate_sigs!\u001b[22m at \u001b[1m/home/nathan/.julia/packages/Revise/agmgx/src/Revise.jl:349\u001b[22m [inlined]\n",
      " [10] \u001b[1mmaybe_parse_from_cache!\u001b[22m\u001b[1m(\u001b[22m::Revise.PkgData, ::String\u001b[1m)\u001b[22m at \u001b[1m/home/nathan/.julia/packages/Revise/agmgx/src/pkgs.jl:224\u001b[22m\n",
      " [11] \u001b[1m(::getfield(Revise, Symbol(\"##26#27\")){String})\u001b[22m\u001b[1m(\u001b[22m\u001b[1m)\u001b[22m at \u001b[1m/home/nathan/.julia/packages/Revise/agmgx/src/pkgs.jl:370\u001b[22m\n",
      " [12] \u001b[1mwith_logstate\u001b[22m\u001b[1m(\u001b[22m::getfield(Revise, Symbol(\"##26#27\")){String}, ::Base.CoreLogging.LogState\u001b[1m)\u001b[22m at \u001b[1m./logging.jl:395\u001b[22m\n",
      " [13] \u001b[1mwith_logger\u001b[22m at \u001b[1m./logging.jl:491\u001b[22m [inlined]\n",
      " [14] \u001b[1mwatch_manifest\u001b[22m\u001b[1m(\u001b[22m::String\u001b[1m)\u001b[22m at \u001b[1m/home/nathan/.julia/packages/Revise/agmgx/src/pkgs.jl:349\u001b[22m\n",
      " [15] \u001b[1m(::Revise.Rescheduler{typeof(Revise.watch_manifest),Tuple{String}})\u001b[22m\u001b[1m(\u001b[22m\u001b[1m)\u001b[22m at \u001b[1m/home/nathan/.julia/packages/Revise/agmgx/src/types.jl:235\u001b[22m\n",
      "while evaluating\n",
      "const H5S_SIMPLE = Hid(1)\n",
      "in module Main.HDF5\n",
      "\u001b[91mUndefVarError: Hid not defined\u001b[39m\n",
      "Stacktrace:\n",
      " [1] \u001b[1mmacro expansion\u001b[22m at \u001b[1m/home/nathan/.julia/packages/JuliaInterpreter/Or807/src/interpret.jl:64\u001b[22m [inlined]\n",
      " [2] \u001b[1m#methods_by_execution!#14\u001b[22m\u001b[1m(\u001b[22m::Bool, ::Bool, ::Function, ::Any, ::Revise.CodeTrackingMethodInfo, ::Dict{Module,Array{Expr,1}}, ::JuliaInterpreter.Frame\u001b[1m)\u001b[22m at \u001b[1m/home/nathan/.julia/packages/Revise/agmgx/src/lowered.jl:125\u001b[22m\n",
      " [3] \u001b[1m#methods_by_execution!\u001b[22m at \u001b[1m./none:0\u001b[22m [inlined]\n",
      " [4] \u001b[1m#methods_by_execution!#9\u001b[22m\u001b[1m(\u001b[22m::Base.Iterators.Pairs{Symbol,Bool,Tuple{Symbol},NamedTuple{(:define,),Tuple{Bool}}}, ::Function, ::Any, ::Revise.CodeTrackingMethodInfo, ::Dict{Module,Array{Expr,1}}, ::Module, ::Expr\u001b[1m)\u001b[22m at \u001b[1m/home/nathan/.julia/packages/Revise/agmgx/src/lowered.jl:49\u001b[22m\n",
      " [5] \u001b[1m#methods_by_execution!\u001b[22m at \u001b[1m./none:0\u001b[22m [inlined]\n",
      " [6] \u001b[1m#eval_with_signatures#59\u001b[22m at \u001b[1m/home/nathan/.julia/packages/Revise/agmgx/src/Revise.jl:344\u001b[22m [inlined]\n",
      " [7] \u001b[1m#eval_with_signatures\u001b[22m at \u001b[1m./none:0\u001b[22m [inlined]\n",
      " [8] \u001b[1m#instantiate_sigs!#60\u001b[22m\u001b[1m(\u001b[22m::Bool, ::Base.Iterators.Pairs{Union{},Union{},Tuple{},NamedTuple{(),Tuple{}}}, ::Function, ::OrderedCollections.OrderedDict{Module,OrderedCollections.OrderedDict{Revise.RelocatableExpr,Union{Nothing, Array{Any,1}}}}\u001b[1m)\u001b[22m at \u001b[1m/home/nathan/.julia/packages/Revise/agmgx/src/Revise.jl:352\u001b[22m\n",
      " [9] \u001b[1minstantiate_sigs!\u001b[22m at \u001b[1m/home/nathan/.julia/packages/Revise/agmgx/src/Revise.jl:349\u001b[22m [inlined]\n",
      " [10] \u001b[1mmaybe_parse_from_cache!\u001b[22m\u001b[1m(\u001b[22m::Revise.PkgData, ::String\u001b[1m)\u001b[22m at \u001b[1m/home/nathan/.julia/packages/Revise/agmgx/src/pkgs.jl:224\u001b[22m\n",
      " [11] \u001b[1m(::getfield(Revise, Symbol(\"##26#27\")){String})\u001b[22m\u001b[1m(\u001b[22m\u001b[1m)\u001b[22m at \u001b[1m/home/nathan/.julia/packages/Revise/agmgx/src/pkgs.jl:370\u001b[22m\n",
      " [12] \u001b[1mwith_logstate\u001b[22m\u001b[1m(\u001b[22m::getfield(Revise, Symbol(\"##26#27\")){String}, ::Base.CoreLogging.LogState\u001b[1m)\u001b[22m at \u001b[1m./logging.jl:395\u001b[22m\n",
      " [13] \u001b[1mwith_logger\u001b[22m at \u001b[1m./logging.jl:491\u001b[22m [inlined]\n",
      " [14] \u001b[1mwatch_manifest\u001b[22m\u001b[1m(\u001b[22m::String\u001b[1m)\u001b[22m at \u001b[1m/home/nathan/.julia/packages/Revise/agmgx/src/pkgs.jl:349\u001b[22m\n",
      " [15] \u001b[1m(::Revise.Rescheduler{typeof(Revise.watch_manifest),Tuple{String}})\u001b[22m\u001b[1m(\u001b[22m\u001b[1m)\u001b[22m at \u001b[1m/home/nathan/.julia/packages/Revise/agmgx/src/types.jl:235\u001b[22m\n",
      "while evaluating\n",
      "const H5S_NULL = Hid(2)\n",
      "in module Main.HDF5\n",
      "\u001b[91mUndefVarError: Hsize not defined\u001b[39m\n",
      "Stacktrace:\n",
      " [1] \u001b[1m#collect_args#33\u001b[22m\u001b[1m(\u001b[22m::Bool, ::Function, ::JuliaInterpreter.Frame, ::Expr\u001b[1m)\u001b[22m at \u001b[1m/home/nathan/.julia/packages/JuliaInterpreter/Or807/src/interpret.jl:64\u001b[22m\n",
      " [2] \u001b[1mcollect_args\u001b[22m at \u001b[1m/home/nathan/.julia/packages/JuliaInterpreter/Or807/src/interpret.jl:139\u001b[22m [inlined]\n",
      " [3] \u001b[1mlookup_callexpr\u001b[22m at \u001b[1m/home/nathan/.julia/packages/Revise/agmgx/src/lowered.jl:13\u001b[22m [inlined]\n",
      " [4] \u001b[1m#methods_by_execution!#14\u001b[22m\u001b[1m(\u001b[22m::Bool, ::Bool, ::Function, ::Any, ::Revise.CodeTrackingMethodInfo, ::Dict{Module,Array{Expr,1}}, ::JuliaInterpreter.Frame\u001b[1m)\u001b[22m at \u001b[1m/home/nathan/.julia/packages/Revise/agmgx/src/lowered.jl:187\u001b[22m\n",
      " [5] \u001b[1m#methods_by_execution!\u001b[22m at \u001b[1m./none:0\u001b[22m [inlined]\n",
      " [6] \u001b[1m#methods_by_execution!#9\u001b[22m\u001b[1m(\u001b[22m::Base.Iterators.Pairs{Symbol,Bool,Tuple{Symbol},NamedTuple{(:define,),Tuple{Bool}}}, ::Function, ::Any, ::Revise.CodeTrackingMethodInfo, ::Dict{Module,Array{Expr,1}}, ::Module, ::Expr\u001b[1m)\u001b[22m at \u001b[1m/home/nathan/.julia/packages/Revise/agmgx/src/lowered.jl:49\u001b[22m\n",
      " [7] \u001b[1m#methods_by_execution!\u001b[22m at \u001b[1m./none:0\u001b[22m [inlined]\n",
      " [8] \u001b[1m#eval_with_signatures#59\u001b[22m at \u001b[1m/home/nathan/.julia/packages/Revise/agmgx/src/Revise.jl:344\u001b[22m [inlined]\n",
      " [9] \u001b[1m#eval_with_signatures\u001b[22m at \u001b[1m./none:0\u001b[22m [inlined]\n",
      " [10] \u001b[1m#instantiate_sigs!#60\u001b[22m\u001b[1m(\u001b[22m::Bool, ::Base.Iterators.Pairs{Union{},Union{},Tuple{},NamedTuple{(),Tuple{}}}, ::Function, ::OrderedCollections.OrderedDict{Module,OrderedCollections.OrderedDict{Revise.RelocatableExpr,Union{Nothing, Array{Any,1}}}}\u001b[1m)\u001b[22m at \u001b[1m/home/nathan/.julia/packages/Revise/agmgx/src/Revise.jl:352\u001b[22m\n",
      " [11] \u001b[1minstantiate_sigs!\u001b[22m at \u001b[1m/home/nathan/.julia/packages/Revise/agmgx/src/Revise.jl:349\u001b[22m [inlined]\n",
      " [12] \u001b[1mmaybe_parse_from_cache!\u001b[22m\u001b[1m(\u001b[22m::Revise.PkgData, ::String\u001b[1m)\u001b[22m at \u001b[1m/home/nathan/.julia/packages/Revise/agmgx/src/pkgs.jl:224\u001b[22m\n",
      " [13] \u001b[1m(::getfield(Revise, Symbol(\"##26#27\")){String})\u001b[22m\u001b[1m(\u001b[22m\u001b[1m)\u001b[22m at \u001b[1m/home/nathan/.julia/packages/Revise/agmgx/src/pkgs.jl:370\u001b[22m\n",
      " [14] \u001b[1mwith_logstate\u001b[22m\u001b[1m(\u001b[22m::getfield(Revise, Symbol(\"##26#27\")){String}, ::Base.CoreLogging.LogState\u001b[1m)\u001b[22m at \u001b[1m./logging.jl:395\u001b[22m\n",
      " [15] \u001b[1mwith_logger\u001b[22m at \u001b[1m./logging.jl:491\u001b[22m [inlined]\n",
      " [16] \u001b[1mwatch_manifest\u001b[22m\u001b[1m(\u001b[22m::String\u001b[1m)\u001b[22m at \u001b[1m/home/nathan/.julia/packages/Revise/agmgx/src/pkgs.jl:349\u001b[22m\n",
      " [17] \u001b[1m(::Revise.Rescheduler{typeof(Revise.watch_manifest),Tuple{String}})\u001b[22m\u001b[1m(\u001b[22m\u001b[1m)\u001b[22m at \u001b[1m/home/nathan/.julia/packages/Revise/agmgx/src/types.jl:235\u001b[22m\n",
      "while evaluating\n",
      "const H5S_UNLIMITED = typemax(Hsize)\n",
      "in module Main.HDF5\n",
      "\u001b[91mUndefVarError: Hid not defined\u001b[39m\n",
      "Stacktrace:\n",
      " [1] \u001b[1mmacro expansion\u001b[22m at \u001b[1m/home/nathan/.julia/packages/JuliaInterpreter/Or807/src/interpret.jl:64\u001b[22m [inlined]\n",
      " [2] \u001b[1m#methods_by_execution!#14\u001b[22m\u001b[1m(\u001b[22m::Bool, ::Bool, ::Function, ::Any, ::Revise.CodeTrackingMethodInfo, ::Dict{Module,Array{Expr,1}}, ::JuliaInterpreter.Frame\u001b[1m)\u001b[22m at \u001b[1m/home/nathan/.julia/packages/Revise/agmgx/src/lowered.jl:125\u001b[22m\n",
      " [3] \u001b[1m#methods_by_execution!\u001b[22m at \u001b[1m./none:0\u001b[22m [inlined]\n",
      " [4] \u001b[1m#methods_by_execution!#9\u001b[22m\u001b[1m(\u001b[22m::Base.Iterators.Pairs{Symbol,Bool,Tuple{Symbol},NamedTuple{(:define,),Tuple{Bool}}}, ::Function, ::Any, ::Revise.CodeTrackingMethodInfo, ::Dict{Module,Array{Expr,1}}, ::Module, ::Expr\u001b[1m)\u001b[22m at \u001b[1m/home/nathan/.julia/packages/Revise/agmgx/src/lowered.jl:49\u001b[22m\n",
      " [5] \u001b[1m#methods_by_execution!\u001b[22m at \u001b[1m./none:0\u001b[22m [inlined]\n",
      " [6] \u001b[1m#eval_with_signatures#59\u001b[22m at \u001b[1m/home/nathan/.julia/packages/Revise/agmgx/src/Revise.jl:344\u001b[22m [inlined]\n",
      " [7] \u001b[1m#eval_with_signatures\u001b[22m at \u001b[1m./none:0\u001b[22m [inlined]\n",
      " [8] \u001b[1m#instantiate_sigs!#60\u001b[22m\u001b[1m(\u001b[22m::Bool, ::Base.Iterators.Pairs{Union{},Union{},Tuple{},NamedTuple{(),Tuple{}}}, ::Function, ::OrderedCollections.OrderedDict{Module,OrderedCollections.OrderedDict{Revise.RelocatableExpr,Union{Nothing, Array{Any,1}}}}\u001b[1m)\u001b[22m at \u001b[1m/home/nathan/.julia/packages/Revise/agmgx/src/Revise.jl:352\u001b[22m\n",
      " [9] \u001b[1minstantiate_sigs!\u001b[22m at \u001b[1m/home/nathan/.julia/packages/Revise/agmgx/src/Revise.jl:349\u001b[22m [inlined]\n",
      " [10] \u001b[1mmaybe_parse_from_cache!\u001b[22m\u001b[1m(\u001b[22m::Revise.PkgData, ::String\u001b[1m)\u001b[22m at \u001b[1m/home/nathan/.julia/packages/Revise/agmgx/src/pkgs.jl:224\u001b[22m\n",
      " [11] \u001b[1m(::getfield(Revise, Symbol(\"##26#27\")){String})\u001b[22m\u001b[1m(\u001b[22m\u001b[1m)\u001b[22m at \u001b[1m/home/nathan/.julia/packages/Revise/agmgx/src/pkgs.jl:370\u001b[22m\n",
      " [12] \u001b[1mwith_logstate\u001b[22m\u001b[1m(\u001b[22m::getfield(Revise, Symbol(\"##26#27\")){String}, ::Base.CoreLogging.LogState\u001b[1m)\u001b[22m at \u001b[1m./logging.jl:395\u001b[22m\n",
      " [13] \u001b[1mwith_logger\u001b[22m at \u001b[1m./logging.jl:491\u001b[22m [inlined]\n",
      " [14] \u001b[1mwatch_manifest\u001b[22m\u001b[1m(\u001b[22m::String\u001b[1m)\u001b[22m at \u001b[1m/home/nathan/.julia/packages/Revise/agmgx/src/pkgs.jl:349\u001b[22m\n",
      " [15] \u001b[1m(::Revise.Rescheduler{typeof(Revise.watch_manifest),Tuple{String}})\u001b[22m\u001b[1m(\u001b[22m\u001b[1m)\u001b[22m at \u001b[1m/home/nathan/.julia/packages/Revise/agmgx/src/types.jl:235\u001b[22m\n",
      "while evaluating\n",
      "const H5T_INTEGER = Hid(0)\n",
      "in module Main.HDF5\n",
      "\u001b[91mUndefVarError: Hid not defined\u001b[39m\n",
      "Stacktrace:\n",
      " [1] \u001b[1mmacro expansion\u001b[22m at \u001b[1m/home/nathan/.julia/packages/JuliaInterpreter/Or807/src/interpret.jl:64\u001b[22m [inlined]\n",
      " [2] \u001b[1m#methods_by_execution!#14\u001b[22m\u001b[1m(\u001b[22m::Bool, ::Bool, ::Function, ::Any, ::Revise.CodeTrackingMethodInfo, ::Dict{Module,Array{Expr,1}}, ::JuliaInterpreter.Frame\u001b[1m)\u001b[22m at \u001b[1m/home/nathan/.julia/packages/Revise/agmgx/src/lowered.jl:125\u001b[22m\n",
      " [3] \u001b[1m#methods_by_execution!\u001b[22m at \u001b[1m./none:0\u001b[22m [inlined]\n",
      " [4] \u001b[1m#methods_by_execution!#9\u001b[22m\u001b[1m(\u001b[22m::Base.Iterators.Pairs{Symbol,Bool,Tuple{Symbol},NamedTuple{(:define,),Tuple{Bool}}}, ::Function, ::Any, ::Revise.CodeTrackingMethodInfo, ::Dict{Module,Array{Expr,1}}, ::Module, ::Expr\u001b[1m)\u001b[22m at \u001b[1m/home/nathan/.julia/packages/Revise/agmgx/src/lowered.jl:49\u001b[22m\n",
      " [5] \u001b[1m#methods_by_execution!\u001b[22m at \u001b[1m./none:0\u001b[22m [inlined]\n",
      " [6] \u001b[1m#eval_with_signatures#59\u001b[22m at \u001b[1m/home/nathan/.julia/packages/Revise/agmgx/src/Revise.jl:344\u001b[22m [inlined]\n",
      " [7] \u001b[1m#eval_with_signatures\u001b[22m at \u001b[1m./none:0\u001b[22m [inlined]\n"
     ]
    },
    {
     "name": "stderr",
     "output_type": "stream",
     "text": [
      " [8] \u001b[1m#instantiate_sigs!#60\u001b[22m\u001b[1m(\u001b[22m::Bool, ::Base.Iterators.Pairs{Union{},Union{},Tuple{},NamedTuple{(),Tuple{}}}, ::Function, ::OrderedCollections.OrderedDict{Module,OrderedCollections.OrderedDict{Revise.RelocatableExpr,Union{Nothing, Array{Any,1}}}}\u001b[1m)\u001b[22m at \u001b[1m/home/nathan/.julia/packages/Revise/agmgx/src/Revise.jl:352\u001b[22m\n",
      " [9] \u001b[1minstantiate_sigs!\u001b[22m at \u001b[1m/home/nathan/.julia/packages/Revise/agmgx/src/Revise.jl:349\u001b[22m [inlined]\n",
      " [10] \u001b[1mmaybe_parse_from_cache!\u001b[22m\u001b[1m(\u001b[22m::Revise.PkgData, ::String\u001b[1m)\u001b[22m at \u001b[1m/home/nathan/.julia/packages/Revise/agmgx/src/pkgs.jl:224\u001b[22m\n",
      " [11] \u001b[1m(::getfield(Revise, Symbol(\"##26#27\")){String})\u001b[22m\u001b[1m(\u001b[22m\u001b[1m)\u001b[22m at \u001b[1m/home/nathan/.julia/packages/Revise/agmgx/src/pkgs.jl:370\u001b[22m\n",
      " [12] \u001b[1mwith_logstate\u001b[22m\u001b[1m(\u001b[22m::getfield(Revise, Symbol(\"##26#27\")){String}, ::Base.CoreLogging.LogState\u001b[1m)\u001b[22m at \u001b[1m./logging.jl:395\u001b[22m\n",
      " [13] \u001b[1mwith_logger\u001b[22m at \u001b[1m./logging.jl:491\u001b[22m [inlined]\n",
      " [14] \u001b[1mwatch_manifest\u001b[22m\u001b[1m(\u001b[22m::String\u001b[1m)\u001b[22m at \u001b[1m/home/nathan/.julia/packages/Revise/agmgx/src/pkgs.jl:349\u001b[22m\n",
      " [15] \u001b[1m(::Revise.Rescheduler{typeof(Revise.watch_manifest),Tuple{String}})\u001b[22m\u001b[1m(\u001b[22m\u001b[1m)\u001b[22m at \u001b[1m/home/nathan/.julia/packages/Revise/agmgx/src/types.jl:235\u001b[22m\n",
      "while evaluating\n",
      "const H5T_FLOAT = Hid(1)\n",
      "in module Main.HDF5\n",
      "\u001b[91mUndefVarError: Hid not defined\u001b[39m\n",
      "Stacktrace:\n",
      " [1] \u001b[1mmacro expansion\u001b[22m at \u001b[1m/home/nathan/.julia/packages/JuliaInterpreter/Or807/src/interpret.jl:64\u001b[22m [inlined]\n",
      " [2] \u001b[1m#methods_by_execution!#14\u001b[22m\u001b[1m(\u001b[22m::Bool, ::Bool, ::Function, ::Any, ::Revise.CodeTrackingMethodInfo, ::Dict{Module,Array{Expr,1}}, ::JuliaInterpreter.Frame\u001b[1m)\u001b[22m at \u001b[1m/home/nathan/.julia/packages/Revise/agmgx/src/lowered.jl:125\u001b[22m\n",
      " [3] \u001b[1m#methods_by_execution!\u001b[22m at \u001b[1m./none:0\u001b[22m [inlined]\n",
      " [4] \u001b[1m#methods_by_execution!#9\u001b[22m\u001b[1m(\u001b[22m::Base.Iterators.Pairs{Symbol,Bool,Tuple{Symbol},NamedTuple{(:define,),Tuple{Bool}}}, ::Function, ::Any, ::Revise.CodeTrackingMethodInfo, ::Dict{Module,Array{Expr,1}}, ::Module, ::Expr\u001b[1m)\u001b[22m at \u001b[1m/home/nathan/.julia/packages/Revise/agmgx/src/lowered.jl:49\u001b[22m\n",
      " [5] \u001b[1m#methods_by_execution!\u001b[22m at \u001b[1m./none:0\u001b[22m [inlined]\n",
      " [6] \u001b[1m#eval_with_signatures#59\u001b[22m at \u001b[1m/home/nathan/.julia/packages/Revise/agmgx/src/Revise.jl:344\u001b[22m [inlined]\n",
      " [7] \u001b[1m#eval_with_signatures\u001b[22m at \u001b[1m./none:0\u001b[22m [inlined]\n",
      " [8] \u001b[1m#instantiate_sigs!#60\u001b[22m\u001b[1m(\u001b[22m::Bool, ::Base.Iterators.Pairs{Union{},Union{},Tuple{},NamedTuple{(),Tuple{}}}, ::Function, ::OrderedCollections.OrderedDict{Module,OrderedCollections.OrderedDict{Revise.RelocatableExpr,Union{Nothing, Array{Any,1}}}}\u001b[1m)\u001b[22m at \u001b[1m/home/nathan/.julia/packages/Revise/agmgx/src/Revise.jl:352\u001b[22m\n",
      " [9] \u001b[1minstantiate_sigs!\u001b[22m at \u001b[1m/home/nathan/.julia/packages/Revise/agmgx/src/Revise.jl:349\u001b[22m [inlined]\n",
      " [10] \u001b[1mmaybe_parse_from_cache!\u001b[22m\u001b[1m(\u001b[22m::Revise.PkgData, ::String\u001b[1m)\u001b[22m at \u001b[1m/home/nathan/.julia/packages/Revise/agmgx/src/pkgs.jl:224\u001b[22m\n",
      " [11] \u001b[1m(::getfield(Revise, Symbol(\"##26#27\")){String})\u001b[22m\u001b[1m(\u001b[22m\u001b[1m)\u001b[22m at \u001b[1m/home/nathan/.julia/packages/Revise/agmgx/src/pkgs.jl:370\u001b[22m\n",
      " [12] \u001b[1mwith_logstate\u001b[22m\u001b[1m(\u001b[22m::getfield(Revise, Symbol(\"##26#27\")){String}, ::Base.CoreLogging.LogState\u001b[1m)\u001b[22m at \u001b[1m./logging.jl:395\u001b[22m\n",
      " [13] \u001b[1mwith_logger\u001b[22m at \u001b[1m./logging.jl:491\u001b[22m [inlined]\n",
      " [14] \u001b[1mwatch_manifest\u001b[22m\u001b[1m(\u001b[22m::String\u001b[1m)\u001b[22m at \u001b[1m/home/nathan/.julia/packages/Revise/agmgx/src/pkgs.jl:349\u001b[22m\n",
      " [15] \u001b[1m(::Revise.Rescheduler{typeof(Revise.watch_manifest),Tuple{String}})\u001b[22m\u001b[1m(\u001b[22m\u001b[1m)\u001b[22m at \u001b[1m/home/nathan/.julia/packages/Revise/agmgx/src/types.jl:235\u001b[22m\n",
      "while evaluating\n",
      "const H5T_TIME = Hid(2)\n",
      "in module Main.HDF5\n",
      "\u001b[91mUndefVarError: Hid not defined\u001b[39m\n",
      "Stacktrace:\n",
      " [1] \u001b[1mmacro expansion\u001b[22m at \u001b[1m/home/nathan/.julia/packages/JuliaInterpreter/Or807/src/interpret.jl:64\u001b[22m [inlined]\n",
      " [2] \u001b[1m#methods_by_execution!#14\u001b[22m\u001b[1m(\u001b[22m::Bool, ::Bool, ::Function, ::Any, ::Revise.CodeTrackingMethodInfo, ::Dict{Module,Array{Expr,1}}, ::JuliaInterpreter.Frame\u001b[1m)\u001b[22m at \u001b[1m/home/nathan/.julia/packages/Revise/agmgx/src/lowered.jl:125\u001b[22m\n",
      " [3] \u001b[1m#methods_by_execution!\u001b[22m at \u001b[1m./none:0\u001b[22m [inlined]\n",
      " [4] \u001b[1m#methods_by_execution!#9\u001b[22m\u001b[1m(\u001b[22m::Base.Iterators.Pairs{Symbol,Bool,Tuple{Symbol},NamedTuple{(:define,),Tuple{Bool}}}, ::Function, ::Any, ::Revise.CodeTrackingMethodInfo, ::Dict{Module,Array{Expr,1}}, ::Module, ::Expr\u001b[1m)\u001b[22m at \u001b[1m/home/nathan/.julia/packages/Revise/agmgx/src/lowered.jl:49\u001b[22m\n",
      " [5] \u001b[1m#methods_by_execution!\u001b[22m at \u001b[1m./none:0\u001b[22m [inlined]\n",
      " [6] \u001b[1m#eval_with_signatures#59\u001b[22m at \u001b[1m/home/nathan/.julia/packages/Revise/agmgx/src/Revise.jl:344\u001b[22m [inlined]\n",
      " [7] \u001b[1m#eval_with_signatures\u001b[22m at \u001b[1m./none:0\u001b[22m [inlined]\n",
      " [8] \u001b[1m#instantiate_sigs!#60\u001b[22m\u001b[1m(\u001b[22m::Bool, ::Base.Iterators.Pairs{Union{},Union{},Tuple{},NamedTuple{(),Tuple{}}}, ::Function, ::OrderedCollections.OrderedDict{Module,OrderedCollections.OrderedDict{Revise.RelocatableExpr,Union{Nothing, Array{Any,1}}}}\u001b[1m)\u001b[22m at \u001b[1m/home/nathan/.julia/packages/Revise/agmgx/src/Revise.jl:352\u001b[22m\n",
      " [9] \u001b[1minstantiate_sigs!\u001b[22m at \u001b[1m/home/nathan/.julia/packages/Revise/agmgx/src/Revise.jl:349\u001b[22m [inlined]\n",
      " [10] \u001b[1mmaybe_parse_from_cache!\u001b[22m\u001b[1m(\u001b[22m::Revise.PkgData, ::String\u001b[1m)\u001b[22m at \u001b[1m/home/nathan/.julia/packages/Revise/agmgx/src/pkgs.jl:224\u001b[22m\n",
      " [11] \u001b[1m(::getfield(Revise, Symbol(\"##26#27\")){String})\u001b[22m\u001b[1m(\u001b[22m\u001b[1m)\u001b[22m at \u001b[1m/home/nathan/.julia/packages/Revise/agmgx/src/pkgs.jl:370\u001b[22m\n",
      " [12] \u001b[1mwith_logstate\u001b[22m\u001b[1m(\u001b[22m::getfield(Revise, Symbol(\"##26#27\")){String}, ::Base.CoreLogging.LogState\u001b[1m)\u001b[22m at \u001b[1m./logging.jl:395\u001b[22m\n",
      " [13] \u001b[1mwith_logger\u001b[22m at \u001b[1m./logging.jl:491\u001b[22m [inlined]\n",
      " [14] \u001b[1mwatch_manifest\u001b[22m\u001b[1m(\u001b[22m::String\u001b[1m)\u001b[22m at \u001b[1m/home/nathan/.julia/packages/Revise/agmgx/src/pkgs.jl:349\u001b[22m\n",
      " [15] \u001b[1m(::Revise.Rescheduler{typeof(Revise.watch_manifest),Tuple{String}})\u001b[22m\u001b[1m(\u001b[22m\u001b[1m)\u001b[22m at \u001b[1m/home/nathan/.julia/packages/Revise/agmgx/src/types.jl:235\u001b[22m\n",
      "while evaluating\n",
      "const H5T_STRING = Hid(3)\n",
      "in module Main.HDF5\n",
      "\u001b[91mUndefVarError: Hid not defined\u001b[39m\n",
      "Stacktrace:\n",
      " [1] \u001b[1mmacro expansion\u001b[22m at \u001b[1m/home/nathan/.julia/packages/JuliaInterpreter/Or807/src/interpret.jl:64\u001b[22m [inlined]\n",
      " [2] \u001b[1m#methods_by_execution!#14\u001b[22m\u001b[1m(\u001b[22m::Bool, ::Bool, ::Function, ::Any, ::Revise.CodeTrackingMethodInfo, ::Dict{Module,Array{Expr,1}}, ::JuliaInterpreter.Frame\u001b[1m)\u001b[22m at \u001b[1m/home/nathan/.julia/packages/Revise/agmgx/src/lowered.jl:125\u001b[22m\n",
      " [3] \u001b[1m#methods_by_execution!\u001b[22m at \u001b[1m./none:0\u001b[22m [inlined]\n",
      " [4] \u001b[1m#methods_by_execution!#9\u001b[22m\u001b[1m(\u001b[22m::Base.Iterators.Pairs{Symbol,Bool,Tuple{Symbol},NamedTuple{(:define,),Tuple{Bool}}}, ::Function, ::Any, ::Revise.CodeTrackingMethodInfo, ::Dict{Module,Array{Expr,1}}, ::Module, ::Expr\u001b[1m)\u001b[22m at \u001b[1m/home/nathan/.julia/packages/Revise/agmgx/src/lowered.jl:49\u001b[22m\n",
      " [5] \u001b[1m#methods_by_execution!\u001b[22m at \u001b[1m./none:0\u001b[22m [inlined]\n",
      " [6] \u001b[1m#eval_with_signatures#59\u001b[22m at \u001b[1m/home/nathan/.julia/packages/Revise/agmgx/src/Revise.jl:344\u001b[22m [inlined]\n",
      " [7] \u001b[1m#eval_with_signatures\u001b[22m at \u001b[1m./none:0\u001b[22m [inlined]\n",
      " [8] \u001b[1m#instantiate_sigs!#60\u001b[22m\u001b[1m(\u001b[22m::Bool, ::Base.Iterators.Pairs{Union{},Union{},Tuple{},NamedTuple{(),Tuple{}}}, ::Function, ::OrderedCollections.OrderedDict{Module,OrderedCollections.OrderedDict{Revise.RelocatableExpr,Union{Nothing, Array{Any,1}}}}\u001b[1m)\u001b[22m at \u001b[1m/home/nathan/.julia/packages/Revise/agmgx/src/Revise.jl:352\u001b[22m\n",
      " [9] \u001b[1minstantiate_sigs!\u001b[22m at \u001b[1m/home/nathan/.julia/packages/Revise/agmgx/src/Revise.jl:349\u001b[22m [inlined]\n",
      " [10] \u001b[1mmaybe_parse_from_cache!\u001b[22m\u001b[1m(\u001b[22m::Revise.PkgData, ::String\u001b[1m)\u001b[22m at \u001b[1m/home/nathan/.julia/packages/Revise/agmgx/src/pkgs.jl:224\u001b[22m\n",
      " [11] \u001b[1m(::getfield(Revise, Symbol(\"##26#27\")){String})\u001b[22m\u001b[1m(\u001b[22m\u001b[1m)\u001b[22m at \u001b[1m/home/nathan/.julia/packages/Revise/agmgx/src/pkgs.jl:370\u001b[22m\n",
      " [12] \u001b[1mwith_logstate\u001b[22m\u001b[1m(\u001b[22m::getfield(Revise, Symbol(\"##26#27\")){String}, ::Base.CoreLogging.LogState\u001b[1m)\u001b[22m at \u001b[1m./logging.jl:395\u001b[22m\n",
      " [13] \u001b[1mwith_logger\u001b[22m at \u001b[1m./logging.jl:491\u001b[22m [inlined]\n",
      " [14] \u001b[1mwatch_manifest\u001b[22m\u001b[1m(\u001b[22m::String\u001b[1m)\u001b[22m at \u001b[1m/home/nathan/.julia/packages/Revise/agmgx/src/pkgs.jl:349\u001b[22m\n",
      " [15] \u001b[1m(::Revise.Rescheduler{typeof(Revise.watch_manifest),Tuple{String}})\u001b[22m\u001b[1m(\u001b[22m\u001b[1m)\u001b[22m at \u001b[1m/home/nathan/.julia/packages/Revise/agmgx/src/types.jl:235\u001b[22m\n",
      "while evaluating\n",
      "const H5T_BITFIELD = Hid(4)\n",
      "in module Main.HDF5\n",
      "\u001b[91mUndefVarError: Hid not defined\u001b[39m\n",
      "Stacktrace:\n",
      " [1] \u001b[1mmacro expansion\u001b[22m at \u001b[1m/home/nathan/.julia/packages/JuliaInterpreter/Or807/src/interpret.jl:64\u001b[22m [inlined]\n",
      " [2] \u001b[1m#methods_by_execution!#14\u001b[22m\u001b[1m(\u001b[22m::Bool, ::Bool, ::Function, ::Any, ::Revise.CodeTrackingMethodInfo, ::Dict{Module,Array{Expr,1}}, ::JuliaInterpreter.Frame\u001b[1m)\u001b[22m at \u001b[1m/home/nathan/.julia/packages/Revise/agmgx/src/lowered.jl:125\u001b[22m\n",
      " [3] \u001b[1m#methods_by_execution!\u001b[22m at \u001b[1m./none:0\u001b[22m [inlined]\n",
      " [4] \u001b[1m#methods_by_execution!#9\u001b[22m\u001b[1m(\u001b[22m::Base.Iterators.Pairs{Symbol,Bool,Tuple{Symbol},NamedTuple{(:define,),Tuple{Bool}}}, ::Function, ::Any, ::Revise.CodeTrackingMethodInfo, ::Dict{Module,Array{Expr,1}}, ::Module, ::Expr\u001b[1m)\u001b[22m at \u001b[1m/home/nathan/.julia/packages/Revise/agmgx/src/lowered.jl:49\u001b[22m\n",
      " [5] \u001b[1m#methods_by_execution!\u001b[22m at \u001b[1m./none:0\u001b[22m [inlined]\n",
      " [6] \u001b[1m#eval_with_signatures#59\u001b[22m at \u001b[1m/home/nathan/.julia/packages/Revise/agmgx/src/Revise.jl:344\u001b[22m [inlined]\n",
      " [7] \u001b[1m#eval_with_signatures\u001b[22m at \u001b[1m./none:0\u001b[22m [inlined]\n",
      " [8] \u001b[1m#instantiate_sigs!#60\u001b[22m\u001b[1m(\u001b[22m::Bool, ::Base.Iterators.Pairs{Union{},Union{},Tuple{},NamedTuple{(),Tuple{}}}, ::Function, ::OrderedCollections.OrderedDict{Module,OrderedCollections.OrderedDict{Revise.RelocatableExpr,Union{Nothing, Array{Any,1}}}}\u001b[1m)\u001b[22m at \u001b[1m/home/nathan/.julia/packages/Revise/agmgx/src/Revise.jl:352\u001b[22m\n",
      " [9] \u001b[1minstantiate_sigs!\u001b[22m at \u001b[1m/home/nathan/.julia/packages/Revise/agmgx/src/Revise.jl:349\u001b[22m [inlined]\n",
      " [10] \u001b[1mmaybe_parse_from_cache!\u001b[22m\u001b[1m(\u001b[22m::Revise.PkgData, ::String\u001b[1m)\u001b[22m at \u001b[1m/home/nathan/.julia/packages/Revise/agmgx/src/pkgs.jl:224\u001b[22m\n"
     ]
    },
    {
     "name": "stderr",
     "output_type": "stream",
     "text": [
      " [11] \u001b[1m(::getfield(Revise, Symbol(\"##26#27\")){String})\u001b[22m\u001b[1m(\u001b[22m\u001b[1m)\u001b[22m at \u001b[1m/home/nathan/.julia/packages/Revise/agmgx/src/pkgs.jl:370\u001b[22m\n",
      " [12] \u001b[1mwith_logstate\u001b[22m\u001b[1m(\u001b[22m::getfield(Revise, Symbol(\"##26#27\")){String}, ::Base.CoreLogging.LogState\u001b[1m)\u001b[22m at \u001b[1m./logging.jl:395\u001b[22m\n",
      " [13] \u001b[1mwith_logger\u001b[22m at \u001b[1m./logging.jl:491\u001b[22m [inlined]\n",
      " [14] \u001b[1mwatch_manifest\u001b[22m\u001b[1m(\u001b[22m::String\u001b[1m)\u001b[22m at \u001b[1m/home/nathan/.julia/packages/Revise/agmgx/src/pkgs.jl:349\u001b[22m\n",
      " [15] \u001b[1m(::Revise.Rescheduler{typeof(Revise.watch_manifest),Tuple{String}})\u001b[22m\u001b[1m(\u001b[22m\u001b[1m)\u001b[22m at \u001b[1m/home/nathan/.julia/packages/Revise/agmgx/src/types.jl:235\u001b[22m\n",
      "while evaluating\n",
      "const H5T_OPAQUE = Hid(5)\n",
      "in module Main.HDF5\n",
      "\u001b[91mUndefVarError: Hid not defined\u001b[39m\n",
      "Stacktrace:\n",
      " [1] \u001b[1mmacro expansion\u001b[22m at \u001b[1m/home/nathan/.julia/packages/JuliaInterpreter/Or807/src/interpret.jl:64\u001b[22m [inlined]\n",
      " [2] \u001b[1m#methods_by_execution!#14\u001b[22m\u001b[1m(\u001b[22m::Bool, ::Bool, ::Function, ::Any, ::Revise.CodeTrackingMethodInfo, ::Dict{Module,Array{Expr,1}}, ::JuliaInterpreter.Frame\u001b[1m)\u001b[22m at \u001b[1m/home/nathan/.julia/packages/Revise/agmgx/src/lowered.jl:125\u001b[22m\n",
      " [3] \u001b[1m#methods_by_execution!\u001b[22m at \u001b[1m./none:0\u001b[22m [inlined]\n",
      " [4] \u001b[1m#methods_by_execution!#9\u001b[22m\u001b[1m(\u001b[22m::Base.Iterators.Pairs{Symbol,Bool,Tuple{Symbol},NamedTuple{(:define,),Tuple{Bool}}}, ::Function, ::Any, ::Revise.CodeTrackingMethodInfo, ::Dict{Module,Array{Expr,1}}, ::Module, ::Expr\u001b[1m)\u001b[22m at \u001b[1m/home/nathan/.julia/packages/Revise/agmgx/src/lowered.jl:49\u001b[22m\n",
      " [5] \u001b[1m#methods_by_execution!\u001b[22m at \u001b[1m./none:0\u001b[22m [inlined]\n",
      " [6] \u001b[1m#eval_with_signatures#59\u001b[22m at \u001b[1m/home/nathan/.julia/packages/Revise/agmgx/src/Revise.jl:344\u001b[22m [inlined]\n",
      " [7] \u001b[1m#eval_with_signatures\u001b[22m at \u001b[1m./none:0\u001b[22m [inlined]\n",
      " [8] \u001b[1m#instantiate_sigs!#60\u001b[22m\u001b[1m(\u001b[22m::Bool, ::Base.Iterators.Pairs{Union{},Union{},Tuple{},NamedTuple{(),Tuple{}}}, ::Function, ::OrderedCollections.OrderedDict{Module,OrderedCollections.OrderedDict{Revise.RelocatableExpr,Union{Nothing, Array{Any,1}}}}\u001b[1m)\u001b[22m at \u001b[1m/home/nathan/.julia/packages/Revise/agmgx/src/Revise.jl:352\u001b[22m\n",
      " [9] \u001b[1minstantiate_sigs!\u001b[22m at \u001b[1m/home/nathan/.julia/packages/Revise/agmgx/src/Revise.jl:349\u001b[22m [inlined]\n",
      " [10] \u001b[1mmaybe_parse_from_cache!\u001b[22m\u001b[1m(\u001b[22m::Revise.PkgData, ::String\u001b[1m)\u001b[22m at \u001b[1m/home/nathan/.julia/packages/Revise/agmgx/src/pkgs.jl:224\u001b[22m\n",
      " [11] \u001b[1m(::getfield(Revise, Symbol(\"##26#27\")){String})\u001b[22m\u001b[1m(\u001b[22m\u001b[1m)\u001b[22m at \u001b[1m/home/nathan/.julia/packages/Revise/agmgx/src/pkgs.jl:370\u001b[22m\n",
      " [12] \u001b[1mwith_logstate\u001b[22m\u001b[1m(\u001b[22m::getfield(Revise, Symbol(\"##26#27\")){String}, ::Base.CoreLogging.LogState\u001b[1m)\u001b[22m at \u001b[1m./logging.jl:395\u001b[22m\n",
      " [13] \u001b[1mwith_logger\u001b[22m at \u001b[1m./logging.jl:491\u001b[22m [inlined]\n",
      " [14] \u001b[1mwatch_manifest\u001b[22m\u001b[1m(\u001b[22m::String\u001b[1m)\u001b[22m at \u001b[1m/home/nathan/.julia/packages/Revise/agmgx/src/pkgs.jl:349\u001b[22m\n",
      " [15] \u001b[1m(::Revise.Rescheduler{typeof(Revise.watch_manifest),Tuple{String}})\u001b[22m\u001b[1m(\u001b[22m\u001b[1m)\u001b[22m at \u001b[1m/home/nathan/.julia/packages/Revise/agmgx/src/types.jl:235\u001b[22m\n",
      "while evaluating\n",
      "const H5T_COMPOUND = Hid(6)\n",
      "in module Main.HDF5\n",
      "\u001b[91mUndefVarError: Hid not defined\u001b[39m\n",
      "Stacktrace:\n",
      " [1] \u001b[1mmacro expansion\u001b[22m at \u001b[1m/home/nathan/.julia/packages/JuliaInterpreter/Or807/src/interpret.jl:64\u001b[22m [inlined]\n",
      " [2] \u001b[1m#methods_by_execution!#14\u001b[22m\u001b[1m(\u001b[22m::Bool, ::Bool, ::Function, ::Any, ::Revise.CodeTrackingMethodInfo, ::Dict{Module,Array{Expr,1}}, ::JuliaInterpreter.Frame\u001b[1m)\u001b[22m at \u001b[1m/home/nathan/.julia/packages/Revise/agmgx/src/lowered.jl:125\u001b[22m\n",
      " [3] \u001b[1m#methods_by_execution!\u001b[22m at \u001b[1m./none:0\u001b[22m [inlined]\n",
      " [4] \u001b[1m#methods_by_execution!#9\u001b[22m\u001b[1m(\u001b[22m::Base.Iterators.Pairs{Symbol,Bool,Tuple{Symbol},NamedTuple{(:define,),Tuple{Bool}}}, ::Function, ::Any, ::Revise.CodeTrackingMethodInfo, ::Dict{Module,Array{Expr,1}}, ::Module, ::Expr\u001b[1m)\u001b[22m at \u001b[1m/home/nathan/.julia/packages/Revise/agmgx/src/lowered.jl:49\u001b[22m\n",
      " [5] \u001b[1m#methods_by_execution!\u001b[22m at \u001b[1m./none:0\u001b[22m [inlined]\n",
      " [6] \u001b[1m#eval_with_signatures#59\u001b[22m at \u001b[1m/home/nathan/.julia/packages/Revise/agmgx/src/Revise.jl:344\u001b[22m [inlined]\n",
      " [7] \u001b[1m#eval_with_signatures\u001b[22m at \u001b[1m./none:0\u001b[22m [inlined]\n",
      " [8] \u001b[1m#instantiate_sigs!#60\u001b[22m\u001b[1m(\u001b[22m::Bool, ::Base.Iterators.Pairs{Union{},Union{},Tuple{},NamedTuple{(),Tuple{}}}, ::Function, ::OrderedCollections.OrderedDict{Module,OrderedCollections.OrderedDict{Revise.RelocatableExpr,Union{Nothing, Array{Any,1}}}}\u001b[1m)\u001b[22m at \u001b[1m/home/nathan/.julia/packages/Revise/agmgx/src/Revise.jl:352\u001b[22m\n",
      " [9] \u001b[1minstantiate_sigs!\u001b[22m at \u001b[1m/home/nathan/.julia/packages/Revise/agmgx/src/Revise.jl:349\u001b[22m [inlined]\n",
      " [10] \u001b[1mmaybe_parse_from_cache!\u001b[22m\u001b[1m(\u001b[22m::Revise.PkgData, ::String\u001b[1m)\u001b[22m at \u001b[1m/home/nathan/.julia/packages/Revise/agmgx/src/pkgs.jl:224\u001b[22m\n",
      " [11] \u001b[1m(::getfield(Revise, Symbol(\"##26#27\")){String})\u001b[22m\u001b[1m(\u001b[22m\u001b[1m)\u001b[22m at \u001b[1m/home/nathan/.julia/packages/Revise/agmgx/src/pkgs.jl:370\u001b[22m\n",
      " [12] \u001b[1mwith_logstate\u001b[22m\u001b[1m(\u001b[22m::getfield(Revise, Symbol(\"##26#27\")){String}, ::Base.CoreLogging.LogState\u001b[1m)\u001b[22m at \u001b[1m./logging.jl:395\u001b[22m\n",
      " [13] \u001b[1mwith_logger\u001b[22m at \u001b[1m./logging.jl:491\u001b[22m [inlined]\n",
      " [14] \u001b[1mwatch_manifest\u001b[22m\u001b[1m(\u001b[22m::String\u001b[1m)\u001b[22m at \u001b[1m/home/nathan/.julia/packages/Revise/agmgx/src/pkgs.jl:349\u001b[22m\n",
      " [15] \u001b[1m(::Revise.Rescheduler{typeof(Revise.watch_manifest),Tuple{String}})\u001b[22m\u001b[1m(\u001b[22m\u001b[1m)\u001b[22m at \u001b[1m/home/nathan/.julia/packages/Revise/agmgx/src/types.jl:235\u001b[22m\n",
      "while evaluating\n",
      "const H5T_REFERENCE = Hid(7)\n",
      "in module Main.HDF5\n",
      "\u001b[91mUndefVarError: Hid not defined\u001b[39m\n",
      "Stacktrace:\n",
      " [1] \u001b[1mmacro expansion\u001b[22m at \u001b[1m/home/nathan/.julia/packages/JuliaInterpreter/Or807/src/interpret.jl:64\u001b[22m [inlined]\n",
      " [2] \u001b[1m#methods_by_execution!#14\u001b[22m\u001b[1m(\u001b[22m::Bool, ::Bool, ::Function, ::Any, ::Revise.CodeTrackingMethodInfo, ::Dict{Module,Array{Expr,1}}, ::JuliaInterpreter.Frame\u001b[1m)\u001b[22m at \u001b[1m/home/nathan/.julia/packages/Revise/agmgx/src/lowered.jl:125\u001b[22m\n",
      " [3] \u001b[1m#methods_by_execution!\u001b[22m at \u001b[1m./none:0\u001b[22m [inlined]\n",
      " [4] \u001b[1m#methods_by_execution!#9\u001b[22m\u001b[1m(\u001b[22m::Base.Iterators.Pairs{Symbol,Bool,Tuple{Symbol},NamedTuple{(:define,),Tuple{Bool}}}, ::Function, ::Any, ::Revise.CodeTrackingMethodInfo, ::Dict{Module,Array{Expr,1}}, ::Module, ::Expr\u001b[1m)\u001b[22m at \u001b[1m/home/nathan/.julia/packages/Revise/agmgx/src/lowered.jl:49\u001b[22m\n",
      " [5] \u001b[1m#methods_by_execution!\u001b[22m at \u001b[1m./none:0\u001b[22m [inlined]\n",
      " [6] \u001b[1m#eval_with_signatures#59\u001b[22m at \u001b[1m/home/nathan/.julia/packages/Revise/agmgx/src/Revise.jl:344\u001b[22m [inlined]\n",
      " [7] \u001b[1m#eval_with_signatures\u001b[22m at \u001b[1m./none:0\u001b[22m [inlined]\n",
      " [8] \u001b[1m#instantiate_sigs!#60\u001b[22m\u001b[1m(\u001b[22m::Bool, ::Base.Iterators.Pairs{Union{},Union{},Tuple{},NamedTuple{(),Tuple{}}}, ::Function, ::OrderedCollections.OrderedDict{Module,OrderedCollections.OrderedDict{Revise.RelocatableExpr,Union{Nothing, Array{Any,1}}}}\u001b[1m)\u001b[22m at \u001b[1m/home/nathan/.julia/packages/Revise/agmgx/src/Revise.jl:352\u001b[22m\n",
      " [9] \u001b[1minstantiate_sigs!\u001b[22m at \u001b[1m/home/nathan/.julia/packages/Revise/agmgx/src/Revise.jl:349\u001b[22m [inlined]\n",
      " [10] \u001b[1mmaybe_parse_from_cache!\u001b[22m\u001b[1m(\u001b[22m::Revise.PkgData, ::String\u001b[1m)\u001b[22m at \u001b[1m/home/nathan/.julia/packages/Revise/agmgx/src/pkgs.jl:224\u001b[22m\n",
      " [11] \u001b[1m(::getfield(Revise, Symbol(\"##26#27\")){String})\u001b[22m\u001b[1m(\u001b[22m\u001b[1m)\u001b[22m at \u001b[1m/home/nathan/.julia/packages/Revise/agmgx/src/pkgs.jl:370\u001b[22m\n",
      " [12] \u001b[1mwith_logstate\u001b[22m\u001b[1m(\u001b[22m::getfield(Revise, Symbol(\"##26#27\")){String}, ::Base.CoreLogging.LogState\u001b[1m)\u001b[22m at \u001b[1m./logging.jl:395\u001b[22m\n",
      " [13] \u001b[1mwith_logger\u001b[22m at \u001b[1m./logging.jl:491\u001b[22m [inlined]\n",
      " [14] \u001b[1mwatch_manifest\u001b[22m\u001b[1m(\u001b[22m::String\u001b[1m)\u001b[22m at \u001b[1m/home/nathan/.julia/packages/Revise/agmgx/src/pkgs.jl:349\u001b[22m\n",
      " [15] \u001b[1m(::Revise.Rescheduler{typeof(Revise.watch_manifest),Tuple{String}})\u001b[22m\u001b[1m(\u001b[22m\u001b[1m)\u001b[22m at \u001b[1m/home/nathan/.julia/packages/Revise/agmgx/src/types.jl:235\u001b[22m\n",
      "while evaluating\n",
      "const H5T_ENUM = Hid(8)\n",
      "in module Main.HDF5\n",
      "\u001b[91mUndefVarError: Hid not defined\u001b[39m\n",
      "Stacktrace:\n",
      " [1] \u001b[1mmacro expansion\u001b[22m at \u001b[1m/home/nathan/.julia/packages/JuliaInterpreter/Or807/src/interpret.jl:64\u001b[22m [inlined]\n",
      " [2] \u001b[1m#methods_by_execution!#14\u001b[22m\u001b[1m(\u001b[22m::Bool, ::Bool, ::Function, ::Any, ::Revise.CodeTrackingMethodInfo, ::Dict{Module,Array{Expr,1}}, ::JuliaInterpreter.Frame\u001b[1m)\u001b[22m at \u001b[1m/home/nathan/.julia/packages/Revise/agmgx/src/lowered.jl:125\u001b[22m\n",
      " [3] \u001b[1m#methods_by_execution!\u001b[22m at \u001b[1m./none:0\u001b[22m [inlined]\n",
      " [4] \u001b[1m#methods_by_execution!#9\u001b[22m\u001b[1m(\u001b[22m::Base.Iterators.Pairs{Symbol,Bool,Tuple{Symbol},NamedTuple{(:define,),Tuple{Bool}}}, ::Function, ::Any, ::Revise.CodeTrackingMethodInfo, ::Dict{Module,Array{Expr,1}}, ::Module, ::Expr\u001b[1m)\u001b[22m at \u001b[1m/home/nathan/.julia/packages/Revise/agmgx/src/lowered.jl:49\u001b[22m\n",
      " [5] \u001b[1m#methods_by_execution!\u001b[22m at \u001b[1m./none:0\u001b[22m [inlined]\n",
      " [6] \u001b[1m#eval_with_signatures#59\u001b[22m at \u001b[1m/home/nathan/.julia/packages/Revise/agmgx/src/Revise.jl:344\u001b[22m [inlined]\n",
      " [7] \u001b[1m#eval_with_signatures\u001b[22m at \u001b[1m./none:0\u001b[22m [inlined]\n",
      " [8] \u001b[1m#instantiate_sigs!#60\u001b[22m\u001b[1m(\u001b[22m::Bool, ::Base.Iterators.Pairs{Union{},Union{},Tuple{},NamedTuple{(),Tuple{}}}, ::Function, ::OrderedCollections.OrderedDict{Module,OrderedCollections.OrderedDict{Revise.RelocatableExpr,Union{Nothing, Array{Any,1}}}}\u001b[1m)\u001b[22m at \u001b[1m/home/nathan/.julia/packages/Revise/agmgx/src/Revise.jl:352\u001b[22m\n",
      " [9] \u001b[1minstantiate_sigs!\u001b[22m at \u001b[1m/home/nathan/.julia/packages/Revise/agmgx/src/Revise.jl:349\u001b[22m [inlined]\n",
      " [10] \u001b[1mmaybe_parse_from_cache!\u001b[22m\u001b[1m(\u001b[22m::Revise.PkgData, ::String\u001b[1m)\u001b[22m at \u001b[1m/home/nathan/.julia/packages/Revise/agmgx/src/pkgs.jl:224\u001b[22m\n",
      " [11] \u001b[1m(::getfield(Revise, Symbol(\"##26#27\")){String})\u001b[22m\u001b[1m(\u001b[22m\u001b[1m)\u001b[22m at \u001b[1m/home/nathan/.julia/packages/Revise/agmgx/src/pkgs.jl:370\u001b[22m\n",
      " [12] \u001b[1mwith_logstate\u001b[22m\u001b[1m(\u001b[22m::getfield(Revise, Symbol(\"##26#27\")){String}, ::Base.CoreLogging.LogState\u001b[1m)\u001b[22m at \u001b[1m./logging.jl:395\u001b[22m\n",
      " [13] \u001b[1mwith_logger\u001b[22m at \u001b[1m./logging.jl:491\u001b[22m [inlined]\n",
      " [14] \u001b[1mwatch_manifest\u001b[22m\u001b[1m(\u001b[22m::String\u001b[1m)\u001b[22m at \u001b[1m/home/nathan/.julia/packages/Revise/agmgx/src/pkgs.jl:349\u001b[22m\n",
      " [15] \u001b[1m(::Revise.Rescheduler{typeof(Revise.watch_manifest),Tuple{String}})\u001b[22m\u001b[1m(\u001b[22m\u001b[1m)\u001b[22m at \u001b[1m/home/nathan/.julia/packages/Revise/agmgx/src/types.jl:235\u001b[22m\n",
      "while evaluating\n",
      "const H5T_VLEN = Hid(9)\n",
      "in module Main.HDF5\n",
      "\u001b[91mUndefVarError: Hid not defined\u001b[39m\n",
      "Stacktrace:\n",
      " [1] \u001b[1mmacro expansion\u001b[22m at \u001b[1m/home/nathan/.julia/packages/JuliaInterpreter/Or807/src/interpret.jl:64\u001b[22m [inlined]\n",
      " [2] \u001b[1m#methods_by_execution!#14\u001b[22m\u001b[1m(\u001b[22m::Bool, ::Bool, ::Function, ::Any, ::Revise.CodeTrackingMethodInfo, ::Dict{Module,Array{Expr,1}}, ::JuliaInterpreter.Frame\u001b[1m)\u001b[22m at \u001b[1m/home/nathan/.julia/packages/Revise/agmgx/src/lowered.jl:125\u001b[22m\n",
      " [3] \u001b[1m#methods_by_execution!\u001b[22m at \u001b[1m./none:0\u001b[22m [inlined]\n"
     ]
    },
    {
     "name": "stderr",
     "output_type": "stream",
     "text": [
      " [4] \u001b[1m#methods_by_execution!#9\u001b[22m\u001b[1m(\u001b[22m::Base.Iterators.Pairs{Symbol,Bool,Tuple{Symbol},NamedTuple{(:define,),Tuple{Bool}}}, ::Function, ::Any, ::Revise.CodeTrackingMethodInfo, ::Dict{Module,Array{Expr,1}}, ::Module, ::Expr\u001b[1m)\u001b[22m at \u001b[1m/home/nathan/.julia/packages/Revise/agmgx/src/lowered.jl:49\u001b[22m\n",
      " [5] \u001b[1m#methods_by_execution!\u001b[22m at \u001b[1m./none:0\u001b[22m [inlined]\n",
      " [6] \u001b[1m#eval_with_signatures#59\u001b[22m at \u001b[1m/home/nathan/.julia/packages/Revise/agmgx/src/Revise.jl:344\u001b[22m [inlined]\n",
      " [7] \u001b[1m#eval_with_signatures\u001b[22m at \u001b[1m./none:0\u001b[22m [inlined]\n",
      " [8] \u001b[1m#instantiate_sigs!#60\u001b[22m\u001b[1m(\u001b[22m::Bool, ::Base.Iterators.Pairs{Union{},Union{},Tuple{},NamedTuple{(),Tuple{}}}, ::Function, ::OrderedCollections.OrderedDict{Module,OrderedCollections.OrderedDict{Revise.RelocatableExpr,Union{Nothing, Array{Any,1}}}}\u001b[1m)\u001b[22m at \u001b[1m/home/nathan/.julia/packages/Revise/agmgx/src/Revise.jl:352\u001b[22m\n",
      " [9] \u001b[1minstantiate_sigs!\u001b[22m at \u001b[1m/home/nathan/.julia/packages/Revise/agmgx/src/Revise.jl:349\u001b[22m [inlined]\n",
      " [10] \u001b[1mmaybe_parse_from_cache!\u001b[22m\u001b[1m(\u001b[22m::Revise.PkgData, ::String\u001b[1m)\u001b[22m at \u001b[1m/home/nathan/.julia/packages/Revise/agmgx/src/pkgs.jl:224\u001b[22m\n",
      " [11] \u001b[1m(::getfield(Revise, Symbol(\"##26#27\")){String})\u001b[22m\u001b[1m(\u001b[22m\u001b[1m)\u001b[22m at \u001b[1m/home/nathan/.julia/packages/Revise/agmgx/src/pkgs.jl:370\u001b[22m\n",
      " [12] \u001b[1mwith_logstate\u001b[22m\u001b[1m(\u001b[22m::getfield(Revise, Symbol(\"##26#27\")){String}, ::Base.CoreLogging.LogState\u001b[1m)\u001b[22m at \u001b[1m./logging.jl:395\u001b[22m\n",
      " [13] \u001b[1mwith_logger\u001b[22m at \u001b[1m./logging.jl:491\u001b[22m [inlined]\n",
      " [14] \u001b[1mwatch_manifest\u001b[22m\u001b[1m(\u001b[22m::String\u001b[1m)\u001b[22m at \u001b[1m/home/nathan/.julia/packages/Revise/agmgx/src/pkgs.jl:349\u001b[22m\n",
      " [15] \u001b[1m(::Revise.Rescheduler{typeof(Revise.watch_manifest),Tuple{String}})\u001b[22m\u001b[1m(\u001b[22m\u001b[1m)\u001b[22m at \u001b[1m/home/nathan/.julia/packages/Revise/agmgx/src/types.jl:235\u001b[22m\n",
      "while evaluating\n",
      "const H5T_ARRAY = Hid(10)\n",
      "in module Main.HDF5\n",
      "Revise.LogRecord(Warn, omitting call expression (Main.HDF5.read_const)(H5T_STD_I8LE_g) in (\"none\", 0), lowered, Revise_c21d3a4d, \"/home/nathan/.julia/packages/Revise/agmgx/src/lowered.jl\", 188)Revise.LogRecord(Warn, omitting call expression (Main.HDF5.read_const)(H5T_STD_I8BE_g) in (\"none\", 0), lowered, Revise_c21d3a4d, \"/home/nathan/.julia/packages/Revise/agmgx/src/lowered.jl\", 188)Revise.LogRecord(Warn, omitting call expression (Main.HDF5.read_const)(H5T_STD_U8LE_g) in (\"none\", 0), lowered, Revise_c21d3a4d, \"/home/nathan/.julia/packages/Revise/agmgx/src/lowered.jl\", 188)Revise.LogRecord(Warn, omitting call expression (Main.HDF5.read_const)(H5T_STD_U8BE_g) in (\"none\", 0), lowered, Revise_c21d3a4d, \"/home/nathan/.julia/packages/Revise/agmgx/src/lowered.jl\", 188)Revise.LogRecord(Warn, omitting call expression (Main.HDF5.read_const)(H5T_STD_I16LE_g) in (\"none\", 0), lowered, Revise_c21d3a4d, \"/home/nathan/.julia/packages/Revise/agmgx/src/lowered.jl\", 188)Revise.LogRecord(Warn, omitting call expression (Main.HDF5.read_const)(H5T_STD_I16BE_g) in (\"none\", 0), lowered, Revise_c21d3a4d, \"/home/nathan/.julia/packages/Revise/agmgx/src/lowered.jl\", 188)Revise.LogRecord(Warn, omitting call expression (Main.HDF5.read_const)(H5T_STD_U16LE_g) in (\"none\", 0), lowered, Revise_c21d3a4d, \"/home/nathan/.julia/packages/Revise/agmgx/src/lowered.jl\", 188)Revise.LogRecord(Warn, omitting call expression (Main.HDF5.read_const)(H5T_STD_U16BE_g) in (\"none\", 0), lowered, Revise_c21d3a4d, \"/home/nathan/.julia/packages/Revise/agmgx/src/lowered.jl\", 188)Revise.LogRecord(Warn, omitting call expression (Main.HDF5.read_const)(H5T_STD_I32LE_g) in (\"none\", 0), lowered, Revise_c21d3a4d, \"/home/nathan/.julia/packages/Revise/agmgx/src/lowered.jl\", 188)Revise.LogRecord(Warn, omitting call expression (Main.HDF5.read_const)(H5T_STD_I32BE_g) in (\"none\", 0), lowered, Revise_c21d3a4d, \"/home/nathan/.julia/packages/Revise/agmgx/src/lowered.jl\", 188)Revise.LogRecord(Warn, omitting call expression (Main.HDF5.read_const)(H5T_STD_U32LE_g) in (\"none\", 0), lowered, Revise_c21d3a4d, \"/home/nathan/.julia/packages/Revise/agmgx/src/lowered.jl\", 188)Revise.LogRecord(Warn, omitting call expression (Main.HDF5.read_const)(H5T_STD_U32BE_g) in (\"none\", 0), lowered, Revise_c21d3a4d, \"/home/nathan/.julia/packages/Revise/agmgx/src/lowered.jl\", 188)Revise.LogRecord(Warn, omitting call expression (Main.HDF5.read_const)(H5T_STD_I64LE_g) in (\"none\", 0), lowered, Revise_c21d3a4d, \"/home/nathan/.julia/packages/Revise/agmgx/src/lowered.jl\", 188)Revise.LogRecord(Warn, omitting call expression (Main.HDF5.read_const)(H5T_STD_I64BE_g) in (\"none\", 0), lowered, Revise_c21d3a4d, \"/home/nathan/.julia/packages/Revise/agmgx/src/lowered.jl\", 188)Revise.LogRecord(Warn, omitting call expression (Main.HDF5.read_const)(H5T_STD_U64LE_g) in (\"none\", 0), lowered, Revise_c21d3a4d, \"/home/nathan/.julia/packages/Revise/agmgx/src/lowered.jl\", 188)Revise.LogRecord(Warn, omitting call expression (Main.HDF5.read_const)(H5T_STD_U64BE_g) in (\"none\", 0), lowered, Revise_c21d3a4d, \"/home/nathan/.julia/packages/Revise/agmgx/src/lowered.jl\", 188)Revise.LogRecord(Warn, omitting call expression (Main.HDF5.read_const)(H5T_IEEE_F32LE_g) in (\"none\", 0), lowered, Revise_c21d3a4d, \"/home/nathan/.julia/packages/Revise/agmgx/src/lowered.jl\", 188)Revise.LogRecord(Warn, omitting call expression (Main.HDF5.read_const)(H5T_IEEE_F32BE_g) in (\"none\", 0), lowered, Revise_c21d3a4d, \"/home/nathan/.julia/packages/Revise/agmgx/src/lowered.jl\", 188)Revise.LogRecord(Warn, omitting call expression (Main.HDF5.read_const)(H5T_IEEE_F64LE_g) in (\"none\", 0), lowered, Revise_c21d3a4d, \"/home/nathan/.julia/packages/Revise/agmgx/src/lowered.jl\", 188)Revise.LogRecord(Warn, omitting call expression (Main.HDF5.read_const)(H5T_IEEE_F64BE_g) in (\"none\", 0), lowered, Revise_c21d3a4d, \"/home/nathan/.julia/packages/Revise/agmgx/src/lowered.jl\", 188)Revise.LogRecord(Warn, omitting call expression (Main.HDF5.read_const)(H5T_C_S1_g) in (\"none\", 0), lowered, Revise_c21d3a4d, \"/home/nathan/.julia/packages/Revise/agmgx/src/lowered.jl\", 188)Revise.LogRecord(Warn, omitting call expression (Main.HDF5.read_const)(H5T_STD_REF_OBJ_g) in (\"none\", 0), lowered, Revise_c21d3a4d, \"/home/nathan/.julia/packages/Revise/agmgx/src/lowered.jl\", 188)Revise.LogRecord(Warn, omitting call expression (Main.HDF5.read_const)(H5T_STD_REF_DSETREG_g) in (\"none\", 0), lowered, Revise_c21d3a4d, \"/home/nathan/.julia/packages/Revise/agmgx/src/lowered.jl\", 188)Revise.LogRecord(Warn, omitting call expression (Main.HDF5.read_const)(H5T_NATIVE_B8_g) in (\"none\", 0), lowered, Revise_c21d3a4d, \"/home/nathan/.julia/packages/Revise/agmgx/src/lowered.jl\", 188)Revise.LogRecord(Warn, omitting call expression (Main.HDF5.read_const)(H5T_NATIVE_INT8_g) in (\"none\", 0), lowered, Revise_c21d3a4d, \"/home/nathan/.julia/packages/Revise/agmgx/src/lowered.jl\", 188)Revise.LogRecord(Warn, omitting call expression (Main.HDF5.read_const)(H5T_NATIVE_UINT8_g) in (\"none\", 0), lowered, Revise_c21d3a4d, \"/home/nathan/.julia/packages/Revise/agmgx/src/lowered.jl\", 188)Revise.LogRecord(Warn, omitting call expression (Main.HDF5.read_const)(H5T_NATIVE_INT16_g) in (\"none\", 0), lowered, Revise_c21d3a4d, \"/home/nathan/.julia/packages/Revise/agmgx/src/lowered.jl\", 188)Revise.LogRecord(Warn, omitting call expression (Main.HDF5.read_const)(H5T_NATIVE_UINT16_g) in (\"none\", 0), lowered, Revise_c21d3a4d, \"/home/nathan/.julia/packages/Revise/agmgx/src/lowered.jl\", 188)Revise.LogRecord(Warn, omitting call expression (Main.HDF5.read_const)(H5T_NATIVE_INT32_g) in (\"none\", 0), lowered, Revise_c21d3a4d, \"/home/nathan/.julia/packages/Revise/agmgx/src/lowered.jl\", 188)Revise.LogRecord(Warn, omitting call expression (Main.HDF5.read_const)(H5T_NATIVE_UINT32_g) in (\"none\", 0), lowered, Revise_c21d3a4d, \"/home/nathan/.julia/packages/Revise/agmgx/src/lowered.jl\", 188)Revise.LogRecord(Warn, omitting call expression (Main.HDF5.read_const)(H5T_NATIVE_INT64_g) in (\"none\", 0), lowered, Revise_c21d3a4d, \"/home/nathan/.julia/packages/Revise/agmgx/src/lowered.jl\", 188)Revise.LogRecord(Warn, omitting call expression (Main.HDF5.read_const)(H5T_NATIVE_UINT64_g) in (\"none\", 0), lowered, Revise_c21d3a4d, \"/home/nathan/.julia/packages/Revise/agmgx/src/lowered.jl\", 188)Revise.LogRecord(Warn, omitting call expression (Main.HDF5.read_const)(H5T_NATIVE_FLOAT_g) in (\"none\", 0), lowered, Revise_c21d3a4d, \"/home/nathan/.julia/packages/Revise/agmgx/src/lowered.jl\", 188)Revise.LogRecord(Warn, omitting call expression (Main.HDF5.read_const)(H5T_NATIVE_DOUBLE_g) in (\"none\", 0), lowered, Revise_c21d3a4d, \"/home/nathan/.julia/packages/Revise/agmgx/src/lowered.jl\", 188)\u001b[91mUndefVarError: libversion not defined\u001b[39m\n",
      "Stacktrace:\n",
      " [1] \u001b[1m#collect_args#33\u001b[22m\u001b[1m(\u001b[22m::Bool, ::Function, ::JuliaInterpreter.Frame, ::Expr\u001b[1m)\u001b[22m at \u001b[1m/home/nathan/.julia/packages/JuliaInterpreter/Or807/src/interpret.jl:64\u001b[22m\n",
      " [2] \u001b[1mcollect_args\u001b[22m at \u001b[1m/home/nathan/.julia/packages/JuliaInterpreter/Or807/src/interpret.jl:139\u001b[22m [inlined]\n",
      " [3] \u001b[1mlookup_callexpr\u001b[22m at \u001b[1m/home/nathan/.julia/packages/Revise/agmgx/src/lowered.jl:13\u001b[22m [inlined]\n",
      " [4] \u001b[1m#methods_by_execution!#14\u001b[22m\u001b[1m(\u001b[22m::Bool, ::Bool, ::Function, ::Any, ::Revise.CodeTrackingMethodInfo, ::Dict{Module,Array{Expr,1}}, ::JuliaInterpreter.Frame\u001b[1m)\u001b[22m at \u001b[1m/home/nathan/.julia/packages/Revise/agmgx/src/lowered.jl:187\u001b[22m\n",
      " [5] \u001b[1m#methods_by_execution!\u001b[22m at \u001b[1m./none:0\u001b[22m [inlined]\n",
      " [6] \u001b[1m#methods_by_execution!#9\u001b[22m\u001b[1m(\u001b[22m::Base.Iterators.Pairs{Symbol,Bool,Tuple{Symbol},NamedTuple{(:define,),Tuple{Bool}}}, ::Function, ::Any, ::Revise.CodeTrackingMethodInfo, ::Dict{Module,Array{Expr,1}}, ::Module, ::Expr\u001b[1m)\u001b[22m at \u001b[1m/home/nathan/.julia/packages/Revise/agmgx/src/lowered.jl:49\u001b[22m\n",
      " [7] \u001b[1m#methods_by_execution!\u001b[22m at \u001b[1m./none:0\u001b[22m [inlined]\n",
      " [8] \u001b[1m#eval_with_signatures#59\u001b[22m at \u001b[1m/home/nathan/.julia/packages/Revise/agmgx/src/Revise.jl:344\u001b[22m [inlined]\n",
      " [9] \u001b[1m#eval_with_signatures\u001b[22m at \u001b[1m./none:0\u001b[22m [inlined]\n",
      " [10] \u001b[1m#instantiate_sigs!#60\u001b[22m\u001b[1m(\u001b[22m::Bool, ::Base.Iterators.Pairs{Union{},Union{},Tuple{},NamedTuple{(),Tuple{}}}, ::Function, ::OrderedCollections.OrderedDict{Module,OrderedCollections.OrderedDict{Revise.RelocatableExpr,Union{Nothing, Array{Any,1}}}}\u001b[1m)\u001b[22m at \u001b[1m/home/nathan/.julia/packages/Revise/agmgx/src/Revise.jl:352\u001b[22m\n"
     ]
    },
    {
     "name": "stderr",
     "output_type": "stream",
     "text": [
      " [11] \u001b[1minstantiate_sigs!\u001b[22m at \u001b[1m/home/nathan/.julia/packages/Revise/agmgx/src/Revise.jl:349\u001b[22m [inlined]\n",
      " [12] \u001b[1mmaybe_parse_from_cache!\u001b[22m\u001b[1m(\u001b[22m::Revise.PkgData, ::String\u001b[1m)\u001b[22m at \u001b[1m/home/nathan/.julia/packages/Revise/agmgx/src/pkgs.jl:224\u001b[22m\n",
      " [13] \u001b[1m(::getfield(Revise, Symbol(\"##26#27\")){String})\u001b[22m\u001b[1m(\u001b[22m\u001b[1m)\u001b[22m at \u001b[1m/home/nathan/.julia/packages/Revise/agmgx/src/pkgs.jl:370\u001b[22m\n",
      " [14] \u001b[1mwith_logstate\u001b[22m\u001b[1m(\u001b[22m::getfield(Revise, Symbol(\"##26#27\")){String}, ::Base.CoreLogging.LogState\u001b[1m)\u001b[22m at \u001b[1m./logging.jl:395\u001b[22m\n",
      " [15] \u001b[1mwith_logger\u001b[22m at \u001b[1m./logging.jl:491\u001b[22m [inlined]\n",
      " [16] \u001b[1mwatch_manifest\u001b[22m\u001b[1m(\u001b[22m::String\u001b[1m)\u001b[22m at \u001b[1m/home/nathan/.julia/packages/Revise/agmgx/src/pkgs.jl:349\u001b[22m\n",
      " [17] \u001b[1m(::Revise.Rescheduler{typeof(Revise.watch_manifest),Tuple{String}})\u001b[22m\u001b[1m(\u001b[22m\u001b[1m)\u001b[22m at \u001b[1m/home/nathan/.julia/packages/Revise/agmgx/src/types.jl:235\u001b[22m\n",
      "while evaluating\n",
      "if libversion >= #= /home/nathan/.julia/packages/HDF5/2gJEi/src/HDF5.jl:252 =# @v_str(\"1.10.2\")\n",
      "    #= /home/nathan/.julia/packages/HDF5/2gJEi/src/HDF5.jl:253 =#\n",
      "    const H5F_LIBVER_EARLIEST = 0\n",
      "    #= /home/nathan/.julia/packages/HDF5/2gJEi/src/HDF5.jl:254 =#\n",
      "    const H5F_LIBVER_V18 = 1\n",
      "    #= /home/nathan/.julia/packages/HDF5/2gJEi/src/HDF5.jl:255 =#\n",
      "    const H5F_LIBVER_V110 = 2\n",
      "    #= /home/nathan/.julia/packages/HDF5/2gJEi/src/HDF5.jl:256 =#\n",
      "    const H5F_LIBVER_LATEST = H5F_LIBVER_V110\n",
      "else\n",
      "    #= /home/nathan/.julia/packages/HDF5/2gJEi/src/HDF5.jl:258 =#\n",
      "    const H5F_LIBVER_EARLIEST = 0\n",
      "    #= /home/nathan/.julia/packages/HDF5/2gJEi/src/HDF5.jl:259 =#\n",
      "    const H5F_LIBVER_LATEST = 1\n",
      "end\n",
      "in module Main.HDF5\n",
      "Revise.LogRecord(Warn, omitting call expression (Main.HDF5.HDF5ReferenceObj)(0x0000000000000000) in (\"none\", 0), lowered, Revise_c21d3a4d, \"/home/nathan/.julia/packages/Revise/agmgx/src/lowered.jl\", 188)\u001b[91mUndefVarError: HDF5BitsKind not defined\u001b[39m\n",
      "Stacktrace:\n",
      " [1] \u001b[1m#collect_args#33\u001b[22m\u001b[1m(\u001b[22m::Bool, ::Function, ::JuliaInterpreter.Frame, ::Expr\u001b[1m)\u001b[22m at \u001b[1m/home/nathan/.julia/packages/JuliaInterpreter/Or807/src/interpret.jl:64\u001b[22m\n",
      " [2] \u001b[1mcollect_args\u001b[22m at \u001b[1m/home/nathan/.julia/packages/JuliaInterpreter/Or807/src/interpret.jl:139\u001b[22m [inlined]\n",
      " [3] \u001b[1mlookup_callexpr\u001b[22m at \u001b[1m/home/nathan/.julia/packages/Revise/agmgx/src/lowered.jl:13\u001b[22m [inlined]\n",
      " [4] \u001b[1m#methods_by_execution!#14\u001b[22m\u001b[1m(\u001b[22m::Bool, ::Bool, ::Function, ::Any, ::Revise.CodeTrackingMethodInfo, ::Dict{Module,Array{Expr,1}}, ::JuliaInterpreter.Frame\u001b[1m)\u001b[22m at \u001b[1m/home/nathan/.julia/packages/Revise/agmgx/src/lowered.jl:187\u001b[22m\n",
      " [5] \u001b[1m#methods_by_execution!\u001b[22m at \u001b[1m./none:0\u001b[22m [inlined]\n",
      " [6] \u001b[1m#methods_by_execution!#9\u001b[22m\u001b[1m(\u001b[22m::Base.Iterators.Pairs{Symbol,Bool,Tuple{Symbol},NamedTuple{(:define,),Tuple{Bool}}}, ::Function, ::Any, ::Revise.CodeTrackingMethodInfo, ::Dict{Module,Array{Expr,1}}, ::Module, ::Expr\u001b[1m)\u001b[22m at \u001b[1m/home/nathan/.julia/packages/Revise/agmgx/src/lowered.jl:49\u001b[22m\n",
      " [7] \u001b[1m#methods_by_execution!\u001b[22m at \u001b[1m./none:0\u001b[22m [inlined]\n",
      " [8] \u001b[1m#eval_with_signatures#59\u001b[22m at \u001b[1m/home/nathan/.julia/packages/Revise/agmgx/src/Revise.jl:344\u001b[22m [inlined]\n",
      " [9] \u001b[1m#eval_with_signatures\u001b[22m at \u001b[1m./none:0\u001b[22m [inlined]\n",
      " [10] \u001b[1m#instantiate_sigs!#60\u001b[22m\u001b[1m(\u001b[22m::Bool, ::Base.Iterators.Pairs{Union{},Union{},Tuple{},NamedTuple{(),Tuple{}}}, ::Function, ::OrderedCollections.OrderedDict{Module,OrderedCollections.OrderedDict{Revise.RelocatableExpr,Union{Nothing, Array{Any,1}}}}\u001b[1m)\u001b[22m at \u001b[1m/home/nathan/.julia/packages/Revise/agmgx/src/Revise.jl:352\u001b[22m\n",
      " [11] \u001b[1minstantiate_sigs!\u001b[22m at \u001b[1m/home/nathan/.julia/packages/Revise/agmgx/src/Revise.jl:349\u001b[22m [inlined]\n",
      " [12] \u001b[1mmaybe_parse_from_cache!\u001b[22m\u001b[1m(\u001b[22m::Revise.PkgData, ::String\u001b[1m)\u001b[22m at \u001b[1m/home/nathan/.julia/packages/Revise/agmgx/src/pkgs.jl:224\u001b[22m\n",
      " [13] \u001b[1m(::getfield(Revise, Symbol(\"##26#27\")){String})\u001b[22m\u001b[1m(\u001b[22m\u001b[1m)\u001b[22m at \u001b[1m/home/nathan/.julia/packages/Revise/agmgx/src/pkgs.jl:370\u001b[22m\n",
      " [14] \u001b[1mwith_logstate\u001b[22m\u001b[1m(\u001b[22m::getfield(Revise, Symbol(\"##26#27\")){String}, ::Base.CoreLogging.LogState\u001b[1m)\u001b[22m at \u001b[1m./logging.jl:395\u001b[22m\n",
      " [15] \u001b[1mwith_logger\u001b[22m at \u001b[1m./logging.jl:491\u001b[22m [inlined]\n",
      " [16] \u001b[1mwatch_manifest\u001b[22m\u001b[1m(\u001b[22m::String\u001b[1m)\u001b[22m at \u001b[1m/home/nathan/.julia/packages/Revise/agmgx/src/pkgs.jl:349\u001b[22m\n",
      " [17] \u001b[1m(::Revise.Rescheduler{typeof(Revise.watch_manifest),Tuple{String}})\u001b[22m\u001b[1m(\u001b[22m\u001b[1m)\u001b[22m at \u001b[1m/home/nathan/.julia/packages/Revise/agmgx/src/types.jl:235\u001b[22m\n",
      "while evaluating\n",
      "const HDF5Scalar = Union{HDF5BitsKind, HDF5ReferenceObj}\n",
      "in module Main.HDF5\n",
      "\u001b[91mUndefVarError: HDF5Scalar not defined\u001b[39m\n",
      "Stacktrace:\n",
      " [1] \u001b[1m#collect_args#33\u001b[22m\u001b[1m(\u001b[22m::Bool, ::Function, ::JuliaInterpreter.Frame, ::Expr\u001b[1m)\u001b[22m at \u001b[1m/home/nathan/.julia/packages/JuliaInterpreter/Or807/src/interpret.jl:64\u001b[22m\n",
      " [2] \u001b[1mcollect_args\u001b[22m at \u001b[1m/home/nathan/.julia/packages/JuliaInterpreter/Or807/src/interpret.jl:139\u001b[22m [inlined]\n",
      " [3] \u001b[1mlookup_callexpr\u001b[22m at \u001b[1m/home/nathan/.julia/packages/Revise/agmgx/src/lowered.jl:13\u001b[22m [inlined]\n",
      " [4] \u001b[1m#methods_by_execution!#14\u001b[22m\u001b[1m(\u001b[22m::Bool, ::Bool, ::Function, ::Any, ::Revise.CodeTrackingMethodInfo, ::Dict{Module,Array{Expr,1}}, ::JuliaInterpreter.Frame\u001b[1m)\u001b[22m at \u001b[1m/home/nathan/.julia/packages/Revise/agmgx/src/lowered.jl:187\u001b[22m\n",
      " [5] \u001b[1m#methods_by_execution!\u001b[22m at \u001b[1m./none:0\u001b[22m [inlined]\n",
      " [6] \u001b[1m#methods_by_execution!#9\u001b[22m\u001b[1m(\u001b[22m::Base.Iterators.Pairs{Symbol,Bool,Tuple{Symbol},NamedTuple{(:define,),Tuple{Bool}}}, ::Function, ::Any, ::Revise.CodeTrackingMethodInfo, ::Dict{Module,Array{Expr,1}}, ::Module, ::Expr\u001b[1m)\u001b[22m at \u001b[1m/home/nathan/.julia/packages/Revise/agmgx/src/lowered.jl:49\u001b[22m\n",
      " [7] \u001b[1m#methods_by_execution!\u001b[22m at \u001b[1m./none:0\u001b[22m [inlined]\n",
      " [8] \u001b[1m#eval_with_signatures#59\u001b[22m at \u001b[1m/home/nathan/.julia/packages/Revise/agmgx/src/Revise.jl:344\u001b[22m [inlined]\n",
      " [9] \u001b[1m#eval_with_signatures\u001b[22m at \u001b[1m./none:0\u001b[22m [inlined]\n",
      " [10] \u001b[1m#instantiate_sigs!#60\u001b[22m\u001b[1m(\u001b[22m::Bool, ::Base.Iterators.Pairs{Union{},Union{},Tuple{},NamedTuple{(),Tuple{}}}, ::Function, ::OrderedCollections.OrderedDict{Module,OrderedCollections.OrderedDict{Revise.RelocatableExpr,Union{Nothing, Array{Any,1}}}}\u001b[1m)\u001b[22m at \u001b[1m/home/nathan/.julia/packages/Revise/agmgx/src/Revise.jl:352\u001b[22m\n",
      " [11] \u001b[1minstantiate_sigs!\u001b[22m at \u001b[1m/home/nathan/.julia/packages/Revise/agmgx/src/Revise.jl:349\u001b[22m [inlined]\n",
      " [12] \u001b[1mmaybe_parse_from_cache!\u001b[22m\u001b[1m(\u001b[22m::Revise.PkgData, ::String\u001b[1m)\u001b[22m at \u001b[1m/home/nathan/.julia/packages/Revise/agmgx/src/pkgs.jl:224\u001b[22m\n",
      " [13] \u001b[1m(::getfield(Revise, Symbol(\"##26#27\")){String})\u001b[22m\u001b[1m(\u001b[22m\u001b[1m)\u001b[22m at \u001b[1m/home/nathan/.julia/packages/Revise/agmgx/src/pkgs.jl:370\u001b[22m\n",
      " [14] \u001b[1mwith_logstate\u001b[22m\u001b[1m(\u001b[22m::getfield(Revise, Symbol(\"##26#27\")){String}, ::Base.CoreLogging.LogState\u001b[1m)\u001b[22m at \u001b[1m./logging.jl:395\u001b[22m\n",
      " [15] \u001b[1mwith_logger\u001b[22m at \u001b[1m./logging.jl:491\u001b[22m [inlined]\n",
      " [16] \u001b[1mwatch_manifest\u001b[22m\u001b[1m(\u001b[22m::String\u001b[1m)\u001b[22m at \u001b[1m/home/nathan/.julia/packages/Revise/agmgx/src/pkgs.jl:349\u001b[22m\n",
      " [17] \u001b[1m(::Revise.Rescheduler{typeof(Revise.watch_manifest),Tuple{String}})\u001b[22m\u001b[1m(\u001b[22m\u001b[1m)\u001b[22m at \u001b[1m/home/nathan/.julia/packages/Revise/agmgx/src/types.jl:235\u001b[22m\n",
      "while evaluating\n",
      "const ScalarOrString = Union{HDF5Scalar, String}\n",
      "in module Main.HDF5\n",
      "\u001b[91mUndefVarError: H5T_INTEGER not defined\u001b[39m\n",
      "Stacktrace:\n",
      " [1] \u001b[1m#collect_args#33\u001b[22m\u001b[1m(\u001b[22m::Bool, ::Function, ::JuliaInterpreter.Frame, ::Expr\u001b[1m)\u001b[22m at \u001b[1m/home/nathan/.julia/packages/JuliaInterpreter/Or807/src/interpret.jl:64\u001b[22m\n",
      " [2] \u001b[1mcollect_args\u001b[22m at \u001b[1m/home/nathan/.julia/packages/JuliaInterpreter/Or807/src/interpret.jl:139\u001b[22m [inlined]\n",
      " [3] \u001b[1mlookup_callexpr\u001b[22m at \u001b[1m/home/nathan/.julia/packages/Revise/agmgx/src/lowered.jl:13\u001b[22m [inlined]\n",
      " [4] \u001b[1m#methods_by_execution!#14\u001b[22m\u001b[1m(\u001b[22m::Bool, ::Bool, ::Function, ::Any, ::Revise.CodeTrackingMethodInfo, ::Dict{Module,Array{Expr,1}}, ::JuliaInterpreter.Frame\u001b[1m)\u001b[22m at \u001b[1m/home/nathan/.julia/packages/Revise/agmgx/src/lowered.jl:187\u001b[22m\n",
      " [5] \u001b[1m#methods_by_execution!\u001b[22m at \u001b[1m./none:0\u001b[22m [inlined]\n",
      " [6] \u001b[1m#methods_by_execution!#9\u001b[22m\u001b[1m(\u001b[22m::Base.Iterators.Pairs{Symbol,Bool,Tuple{Symbol},NamedTuple{(:define,),Tuple{Bool}}}, ::Function, ::Any, ::Revise.CodeTrackingMethodInfo, ::Dict{Module,Array{Expr,1}}, ::Module, ::Expr\u001b[1m)\u001b[22m at \u001b[1m/home/nathan/.julia/packages/Revise/agmgx/src/lowered.jl:49\u001b[22m\n",
      " [7] \u001b[1m#methods_by_execution!\u001b[22m at \u001b[1m./none:0\u001b[22m [inlined]\n",
      " [8] \u001b[1m#eval_with_signatures#59\u001b[22m at \u001b[1m/home/nathan/.julia/packages/Revise/agmgx/src/Revise.jl:344\u001b[22m [inlined]\n"
     ]
    },
    {
     "name": "stderr",
     "output_type": "stream",
     "text": [
      " [9] \u001b[1m#eval_with_signatures\u001b[22m at \u001b[1m./none:0\u001b[22m [inlined]\n",
      " [10] \u001b[1m#instantiate_sigs!#60\u001b[22m\u001b[1m(\u001b[22m::Bool, ::Base.Iterators.Pairs{Union{},Union{},Tuple{},NamedTuple{(),Tuple{}}}, ::Function, ::OrderedCollections.OrderedDict{Module,OrderedCollections.OrderedDict{Revise.RelocatableExpr,Union{Nothing, Array{Any,1}}}}\u001b[1m)\u001b[22m at \u001b[1m/home/nathan/.julia/packages/Revise/agmgx/src/Revise.jl:352\u001b[22m\n",
      " [11] \u001b[1minstantiate_sigs!\u001b[22m at \u001b[1m/home/nathan/.julia/packages/Revise/agmgx/src/Revise.jl:349\u001b[22m [inlined]\n",
      " [12] \u001b[1mmaybe_parse_from_cache!\u001b[22m\u001b[1m(\u001b[22m::Revise.PkgData, ::String\u001b[1m)\u001b[22m at \u001b[1m/home/nathan/.julia/packages/Revise/agmgx/src/pkgs.jl:224\u001b[22m\n",
      " [13] \u001b[1m(::getfield(Revise, Symbol(\"##26#27\")){String})\u001b[22m\u001b[1m(\u001b[22m\u001b[1m)\u001b[22m at \u001b[1m/home/nathan/.julia/packages/Revise/agmgx/src/pkgs.jl:370\u001b[22m\n",
      " [14] \u001b[1mwith_logstate\u001b[22m\u001b[1m(\u001b[22m::getfield(Revise, Symbol(\"##26#27\")){String}, ::Base.CoreLogging.LogState\u001b[1m)\u001b[22m at \u001b[1m./logging.jl:395\u001b[22m\n",
      " [15] \u001b[1mwith_logger\u001b[22m at \u001b[1m./logging.jl:491\u001b[22m [inlined]\n",
      " [16] \u001b[1mwatch_manifest\u001b[22m\u001b[1m(\u001b[22m::String\u001b[1m)\u001b[22m at \u001b[1m/home/nathan/.julia/packages/Revise/agmgx/src/pkgs.jl:349\u001b[22m\n",
      " [17] \u001b[1m(::Revise.Rescheduler{typeof(Revise.watch_manifest),Tuple{String}})\u001b[22m\u001b[1m(\u001b[22m\u001b[1m)\u001b[22m at \u001b[1m/home/nathan/.julia/packages/Revise/agmgx/src/types.jl:235\u001b[22m\n",
      "while evaluating\n",
      "const hdf5_type_map = Dict((H5T_INTEGER, H5T_SGN_2, Csize_t(1)) => Int8, (H5T_INTEGER, H5T_SGN_2, Csize_t(2)) => Int16, (H5T_INTEGER, H5T_SGN_2, Csize_t(4)) => Int32, (H5T_INTEGER, H5T_SGN_2, Csize_t(8)) => Int64, (H5T_INTEGER, H5T_SGN_NONE, Csize_t(1)) => UInt8, (H5T_INTEGER, H5T_SGN_NONE, Csize_t(2)) => UInt16, (H5T_INTEGER, H5T_SGN_NONE, Csize_t(4)) => UInt32, (H5T_INTEGER, H5T_SGN_NONE, Csize_t(8)) => UInt64, (H5T_FLOAT, nothing, Csize_t(4)) => Float32, (H5T_FLOAT, nothing, Csize_t(8)) => Float64)\n",
      "in module Main.HDF5\n",
      "\u001b[91mUndefVarError: CharType not defined\u001b[39m\n",
      "Stacktrace:\n",
      " [1] \u001b[1m#collect_args#33\u001b[22m\u001b[1m(\u001b[22m::Bool, ::Function, ::JuliaInterpreter.Frame, ::Expr\u001b[1m)\u001b[22m at \u001b[1m/home/nathan/.julia/packages/JuliaInterpreter/Or807/src/interpret.jl:64\u001b[22m\n",
      " [2] \u001b[1mcollect_args\u001b[22m at \u001b[1m/home/nathan/.julia/packages/JuliaInterpreter/Or807/src/interpret.jl:139\u001b[22m [inlined]\n",
      " [3] \u001b[1m#evaluate_call_recurse!#37\u001b[22m\u001b[1m(\u001b[22m::Bool, ::Function, ::Any, ::JuliaInterpreter.Frame, ::Expr\u001b[1m)\u001b[22m at \u001b[1m/home/nathan/.julia/packages/JuliaInterpreter/Or807/src/interpret.jl:212\u001b[22m\n",
      " [4] \u001b[1mevaluate_call_recurse!\u001b[22m at \u001b[1m/home/nathan/.julia/packages/JuliaInterpreter/Or807/src/interpret.jl:206\u001b[22m [inlined]\n",
      " [5] \u001b[1meval_rhs\u001b[22m\u001b[1m(\u001b[22m::Any, ::JuliaInterpreter.Frame, ::Expr\u001b[1m)\u001b[22m at \u001b[1m/home/nathan/.julia/packages/JuliaInterpreter/Or807/src/interpret.jl:381\u001b[22m\n",
      " [6] \u001b[1mstep_expr!\u001b[22m\u001b[1m(\u001b[22m::Any, ::JuliaInterpreter.Frame, ::Any, ::Bool\u001b[1m)\u001b[22m at \u001b[1m/home/nathan/.julia/packages/JuliaInterpreter/Or807/src/interpret.jl:509\u001b[22m\n",
      " [7] \u001b[1msignature\u001b[22m\u001b[1m(\u001b[22m::Any, ::JuliaInterpreter.Frame, ::Any, ::Int64\u001b[1m)\u001b[22m at \u001b[1m/home/nathan/.julia/packages/LoweredCodeUtils/6EZqd/src/LoweredCodeUtils.jl:146\u001b[22m\n",
      " [8] \u001b[1m#methoddef!#3\u001b[22m\u001b[1m(\u001b[22m::Bool, ::Function, ::Any, ::Array{Any,1}, ::JuliaInterpreter.Frame, ::Any, ::Int64\u001b[1m)\u001b[22m at \u001b[1m/home/nathan/.julia/packages/LoweredCodeUtils/6EZqd/src/LoweredCodeUtils.jl:420\u001b[22m\n",
      " [9] \u001b[1m(::getfield(LoweredCodeUtils, Symbol(\"#kw##methoddef!\")))\u001b[22m\u001b[1m(\u001b[22m::NamedTuple{(:define,),Tuple{Bool}}, ::typeof(LoweredCodeUtils.methoddef!), ::Function, ::Array{Any,1}, ::JuliaInterpreter.Frame, ::Expr, ::Int64\u001b[1m)\u001b[22m at \u001b[1m./none:0\u001b[22m\n",
      " [10] \u001b[1m#methods_by_execution!#14\u001b[22m\u001b[1m(\u001b[22m::Bool, ::Bool, ::Function, ::Any, ::Revise.CodeTrackingMethodInfo, ::Dict{Module,Array{Expr,1}}, ::JuliaInterpreter.Frame\u001b[1m)\u001b[22m at \u001b[1m/home/nathan/.julia/packages/Revise/agmgx/src/lowered.jl:81\u001b[22m\n",
      " [11] \u001b[1m#methods_by_execution!\u001b[22m at \u001b[1m./none:0\u001b[22m [inlined]\n",
      " [12] \u001b[1m#methods_by_execution!#9\u001b[22m\u001b[1m(\u001b[22m::Base.Iterators.Pairs{Symbol,Bool,Tuple{Symbol},NamedTuple{(:define,),Tuple{Bool}}}, ::Function, ::Any, ::Revise.CodeTrackingMethodInfo, ::Dict{Module,Array{Expr,1}}, ::Module, ::Expr\u001b[1m)\u001b[22m at \u001b[1m/home/nathan/.julia/packages/Revise/agmgx/src/lowered.jl:49\u001b[22m\n",
      " [13] \u001b[1m#methods_by_execution!\u001b[22m at \u001b[1m./none:0\u001b[22m [inlined]\n",
      " [14] \u001b[1m#eval_with_signatures#59\u001b[22m at \u001b[1m/home/nathan/.julia/packages/Revise/agmgx/src/Revise.jl:344\u001b[22m [inlined]\n",
      " [15] \u001b[1m#eval_with_signatures\u001b[22m at \u001b[1m./none:0\u001b[22m [inlined]\n",
      " [16] \u001b[1m#instantiate_sigs!#60\u001b[22m\u001b[1m(\u001b[22m::Bool, ::Base.Iterators.Pairs{Union{},Union{},Tuple{},NamedTuple{(),Tuple{}}}, ::Function, ::OrderedCollections.OrderedDict{Module,OrderedCollections.OrderedDict{Revise.RelocatableExpr,Union{Nothing, Array{Any,1}}}}\u001b[1m)\u001b[22m at \u001b[1m/home/nathan/.julia/packages/Revise/agmgx/src/Revise.jl:352\u001b[22m\n",
      " [17] \u001b[1minstantiate_sigs!\u001b[22m at \u001b[1m/home/nathan/.julia/packages/Revise/agmgx/src/Revise.jl:349\u001b[22m [inlined]\n",
      " [18] \u001b[1mmaybe_parse_from_cache!\u001b[22m\u001b[1m(\u001b[22m::Revise.PkgData, ::String\u001b[1m)\u001b[22m at \u001b[1m/home/nathan/.julia/packages/Revise/agmgx/src/pkgs.jl:224\u001b[22m\n",
      " [19] \u001b[1m(::getfield(Revise, Symbol(\"##26#27\")){String})\u001b[22m\u001b[1m(\u001b[22m\u001b[1m)\u001b[22m at \u001b[1m/home/nathan/.julia/packages/Revise/agmgx/src/pkgs.jl:370\u001b[22m\n",
      " [20] \u001b[1mwith_logstate\u001b[22m\u001b[1m(\u001b[22m::getfield(Revise, Symbol(\"##26#27\")){String}, ::Base.CoreLogging.LogState\u001b[1m)\u001b[22m at \u001b[1m./logging.jl:395\u001b[22m\n",
      " [21] \u001b[1mwith_logger\u001b[22m at \u001b[1m./logging.jl:491\u001b[22m [inlined]\n",
      " [22] \u001b[1mwatch_manifest\u001b[22m\u001b[1m(\u001b[22m::String\u001b[1m)\u001b[22m at \u001b[1m/home/nathan/.julia/packages/Revise/agmgx/src/pkgs.jl:349\u001b[22m\n",
      " [23] \u001b[1m(::Revise.Rescheduler{typeof(Revise.watch_manifest),Tuple{String}})\u001b[22m\u001b[1m(\u001b[22m\u001b[1m)\u001b[22m at \u001b[1m/home/nathan/.julia/packages/Revise/agmgx/src/types.jl:235\u001b[22m\n",
      "while evaluating\n",
      "(hdf5_type_id(::Type{C}) where C <: CharType) = begin\n",
      "        #= /home/nathan/.julia/packages/HDF5/2gJEi/src/HDF5.jl:324 =#\n",
      "        H5T_C_S1\n",
      "    end\n",
      "in module Main.HDF5\n",
      "\u001b[91mUndefVarError: Hid not defined\u001b[39m\n",
      "Stacktrace:\n",
      " [1] \u001b[1mmacro expansion\u001b[22m at \u001b[1m/home/nathan/.julia/packages/JuliaInterpreter/Or807/src/interpret.jl:64\u001b[22m [inlined]\n",
      " [2] \u001b[1mgetargs\u001b[22m\u001b[1m(\u001b[22m::Array{Any,1}, ::JuliaInterpreter.Frame\u001b[1m)\u001b[22m at \u001b[1m/home/nathan/.julia/packages/JuliaInterpreter/Or807/src/builtins.jl:8\u001b[22m\n",
      " [3] \u001b[1mmaybe_evaluate_builtin\u001b[22m\u001b[1m(\u001b[22m::JuliaInterpreter.Frame, ::Expr, ::Bool\u001b[1m)\u001b[22m at \u001b[1m/home/nathan/.julia/packages/JuliaInterpreter/Or807/src/builtins.jl:86\u001b[22m\n",
      " [4] \u001b[1m#evaluate_call_recurse!#37\u001b[22m\u001b[1m(\u001b[22m::Bool, ::Function, ::Any, ::JuliaInterpreter.Frame, ::Expr\u001b[1m)\u001b[22m at \u001b[1m/home/nathan/.julia/packages/JuliaInterpreter/Or807/src/interpret.jl:209\u001b[22m\n",
      " [5] \u001b[1mevaluate_call_recurse!\u001b[22m at \u001b[1m/home/nathan/.julia/packages/JuliaInterpreter/Or807/src/interpret.jl:206\u001b[22m [inlined]\n",
      " [6] \u001b[1meval_rhs\u001b[22m\u001b[1m(\u001b[22m::Any, ::JuliaInterpreter.Frame, ::Expr\u001b[1m)\u001b[22m at \u001b[1m/home/nathan/.julia/packages/JuliaInterpreter/Or807/src/interpret.jl:381\u001b[22m\n",
      " [7] \u001b[1mstep_expr!\u001b[22m\u001b[1m(\u001b[22m::Any, ::JuliaInterpreter.Frame, ::Any, ::Bool\u001b[1m)\u001b[22m at \u001b[1m/home/nathan/.julia/packages/JuliaInterpreter/Or807/src/interpret.jl:509\u001b[22m\n",
      " [8] \u001b[1msignature\u001b[22m\u001b[1m(\u001b[22m::Any, ::JuliaInterpreter.Frame, ::Any, ::Int64\u001b[1m)\u001b[22m at \u001b[1m/home/nathan/.julia/packages/LoweredCodeUtils/6EZqd/src/LoweredCodeUtils.jl:146\u001b[22m\n",
      " [9] \u001b[1m#methoddef!#3\u001b[22m\u001b[1m(\u001b[22m::Bool, ::Function, ::Any, ::Array{Any,1}, ::JuliaInterpreter.Frame, ::Any, ::Int64\u001b[1m)\u001b[22m at \u001b[1m/home/nathan/.julia/packages/LoweredCodeUtils/6EZqd/src/LoweredCodeUtils.jl:420\u001b[22m\n",
      " [10] \u001b[1m(::getfield(LoweredCodeUtils, Symbol(\"#kw##methoddef!\")))\u001b[22m\u001b[1m(\u001b[22m::NamedTuple{(:define,),Tuple{Bool}}, ::typeof(LoweredCodeUtils.methoddef!), ::Function, ::Array{Any,1}, ::JuliaInterpreter.Frame, ::Expr, ::Int64\u001b[1m)\u001b[22m at \u001b[1m./none:0\u001b[22m\n",
      " [11] \u001b[1m#methods_by_execution!#14\u001b[22m\u001b[1m(\u001b[22m::Bool, ::Bool, ::Function, ::Any, ::Revise.CodeTrackingMethodInfo, ::Dict{Module,Array{Expr,1}}, ::JuliaInterpreter.Frame\u001b[1m)\u001b[22m at \u001b[1m/home/nathan/.julia/packages/Revise/agmgx/src/lowered.jl:81\u001b[22m\n",
      " [12] \u001b[1m#methods_by_execution!\u001b[22m at \u001b[1m./none:0\u001b[22m [inlined]\n",
      " [13] \u001b[1m#methods_by_execution!#9\u001b[22m\u001b[1m(\u001b[22m::Base.Iterators.Pairs{Symbol,Bool,Tuple{Symbol},NamedTuple{(:define,),Tuple{Bool}}}, ::Function, ::Any, ::Revise.CodeTrackingMethodInfo, ::Dict{Module,Array{Expr,1}}, ::Module, ::Expr\u001b[1m)\u001b[22m at \u001b[1m/home/nathan/.julia/packages/Revise/agmgx/src/lowered.jl:49\u001b[22m\n",
      " [14] \u001b[1m#methods_by_execution!\u001b[22m at \u001b[1m./none:0\u001b[22m [inlined]\n",
      " [15] \u001b[1m#eval_with_signatures#59\u001b[22m at \u001b[1m/home/nathan/.julia/packages/Revise/agmgx/src/Revise.jl:344\u001b[22m [inlined]\n",
      " [16] \u001b[1m#eval_with_signatures\u001b[22m at \u001b[1m./none:0\u001b[22m [inlined]\n",
      " [17] \u001b[1m#instantiate_sigs!#60\u001b[22m\u001b[1m(\u001b[22m::Bool, ::Base.Iterators.Pairs{Union{},Union{},Tuple{},NamedTuple{(),Tuple{}}}, ::Function, ::OrderedCollections.OrderedDict{Module,OrderedCollections.OrderedDict{Revise.RelocatableExpr,Union{Nothing, Array{Any,1}}}}\u001b[1m)\u001b[22m at \u001b[1m/home/nathan/.julia/packages/Revise/agmgx/src/Revise.jl:352\u001b[22m\n",
      " [18] \u001b[1minstantiate_sigs!\u001b[22m at \u001b[1m/home/nathan/.julia/packages/Revise/agmgx/src/Revise.jl:349\u001b[22m [inlined]\n",
      " [19] \u001b[1mmaybe_parse_from_cache!\u001b[22m\u001b[1m(\u001b[22m::Revise.PkgData, ::String\u001b[1m)\u001b[22m at \u001b[1m/home/nathan/.julia/packages/Revise/agmgx/src/pkgs.jl:224\u001b[22m\n",
      " [20] \u001b[1m(::getfield(Revise, Symbol(\"##26#27\")){String})\u001b[22m\u001b[1m(\u001b[22m\u001b[1m)\u001b[22m at \u001b[1m/home/nathan/.julia/packages/Revise/agmgx/src/pkgs.jl:370\u001b[22m\n",
      " [21] \u001b[1mwith_logstate\u001b[22m\u001b[1m(\u001b[22m::getfield(Revise, Symbol(\"##26#27\")){String}, ::Base.CoreLogging.LogState\u001b[1m)\u001b[22m at \u001b[1m./logging.jl:395\u001b[22m\n",
      " [22] \u001b[1mwith_logger\u001b[22m at \u001b[1m./logging.jl:491\u001b[22m [inlined]\n",
      " [23] \u001b[1mwatch_manifest\u001b[22m\u001b[1m(\u001b[22m::String\u001b[1m)\u001b[22m at \u001b[1m/home/nathan/.julia/packages/Revise/agmgx/src/pkgs.jl:349\u001b[22m\n",
      " [24] \u001b[1m(::Revise.Rescheduler{typeof(Revise.watch_manifest),Tuple{String}})\u001b[22m\u001b[1m(\u001b[22m\u001b[1m)\u001b[22m at \u001b[1m/home/nathan/.julia/packages/Revise/agmgx/src/types.jl:235\u001b[22m\n",
      "while evaluating\n",
      "convert(::Type{Hid}, f::HDF5File) = begin\n",
      "        #= /home/nathan/.julia/packages/HDF5/2gJEi/src/HDF5.jl:350 =#\n",
      "        f.id\n",
      "    end\n",
      "in module Main.HDF5\n",
      "\u001b[91mUndefVarError: Hid not defined\u001b[39m\n"
     ]
    },
    {
     "name": "stderr",
     "output_type": "stream",
     "text": [
      "Stacktrace:\n",
      " [1] \u001b[1mmacro expansion\u001b[22m at \u001b[1m/home/nathan/.julia/packages/JuliaInterpreter/Or807/src/interpret.jl:64\u001b[22m [inlined]\n",
      " [2] \u001b[1mgetargs\u001b[22m\u001b[1m(\u001b[22m::Array{Any,1}, ::JuliaInterpreter.Frame\u001b[1m)\u001b[22m at \u001b[1m/home/nathan/.julia/packages/JuliaInterpreter/Or807/src/builtins.jl:8\u001b[22m\n",
      " [3] \u001b[1mmaybe_evaluate_builtin\u001b[22m\u001b[1m(\u001b[22m::JuliaInterpreter.Frame, ::Expr, ::Bool\u001b[1m)\u001b[22m at \u001b[1m/home/nathan/.julia/packages/JuliaInterpreter/Or807/src/builtins.jl:86\u001b[22m\n",
      " [4] \u001b[1m#evaluate_call_recurse!#37\u001b[22m\u001b[1m(\u001b[22m::Bool, ::Function, ::Any, ::JuliaInterpreter.Frame, ::Expr\u001b[1m)\u001b[22m at \u001b[1m/home/nathan/.julia/packages/JuliaInterpreter/Or807/src/interpret.jl:209\u001b[22m\n",
      " [5] \u001b[1mevaluate_call_recurse!\u001b[22m at \u001b[1m/home/nathan/.julia/packages/JuliaInterpreter/Or807/src/interpret.jl:206\u001b[22m [inlined]\n",
      " [6] \u001b[1meval_rhs\u001b[22m\u001b[1m(\u001b[22m::Any, ::JuliaInterpreter.Frame, ::Expr\u001b[1m)\u001b[22m at \u001b[1m/home/nathan/.julia/packages/JuliaInterpreter/Or807/src/interpret.jl:381\u001b[22m\n",
      " [7] \u001b[1mstep_expr!\u001b[22m\u001b[1m(\u001b[22m::Any, ::JuliaInterpreter.Frame, ::Any, ::Bool\u001b[1m)\u001b[22m at \u001b[1m/home/nathan/.julia/packages/JuliaInterpreter/Or807/src/interpret.jl:509\u001b[22m\n",
      " [8] \u001b[1msignature\u001b[22m\u001b[1m(\u001b[22m::Any, ::JuliaInterpreter.Frame, ::Any, ::Int64\u001b[1m)\u001b[22m at \u001b[1m/home/nathan/.julia/packages/LoweredCodeUtils/6EZqd/src/LoweredCodeUtils.jl:146\u001b[22m\n",
      " [9] \u001b[1m#methoddef!#3\u001b[22m\u001b[1m(\u001b[22m::Bool, ::Function, ::Any, ::Array{Any,1}, ::JuliaInterpreter.Frame, ::Any, ::Int64\u001b[1m)\u001b[22m at \u001b[1m/home/nathan/.julia/packages/LoweredCodeUtils/6EZqd/src/LoweredCodeUtils.jl:420\u001b[22m\n",
      " [10] \u001b[1m(::getfield(LoweredCodeUtils, Symbol(\"#kw##methoddef!\")))\u001b[22m\u001b[1m(\u001b[22m::NamedTuple{(:define,),Tuple{Bool}}, ::typeof(LoweredCodeUtils.methoddef!), ::Function, ::Array{Any,1}, ::JuliaInterpreter.Frame, ::Expr, ::Int64\u001b[1m)\u001b[22m at \u001b[1m./none:0\u001b[22m\n",
      " [11] \u001b[1m#methods_by_execution!#14\u001b[22m\u001b[1m(\u001b[22m::Bool, ::Bool, ::Function, ::Any, ::Revise.CodeTrackingMethodInfo, ::Dict{Module,Array{Expr,1}}, ::JuliaInterpreter.Frame\u001b[1m)\u001b[22m at \u001b[1m/home/nathan/.julia/packages/Revise/agmgx/src/lowered.jl:81\u001b[22m\n",
      " [12] \u001b[1m#methods_by_execution!\u001b[22m at \u001b[1m./none:0\u001b[22m [inlined]\n",
      " [13] \u001b[1m#methods_by_execution!#9\u001b[22m\u001b[1m(\u001b[22m::Base.Iterators.Pairs{Symbol,Bool,Tuple{Symbol},NamedTuple{(:define,),Tuple{Bool}}}, ::Function, ::Any, ::Revise.CodeTrackingMethodInfo, ::Dict{Module,Array{Expr,1}}, ::Module, ::Expr\u001b[1m)\u001b[22m at \u001b[1m/home/nathan/.julia/packages/Revise/agmgx/src/lowered.jl:49\u001b[22m\n",
      " [14] \u001b[1m#methods_by_execution!\u001b[22m at \u001b[1m./none:0\u001b[22m [inlined]\n",
      " [15] \u001b[1m#eval_with_signatures#59\u001b[22m at \u001b[1m/home/nathan/.julia/packages/Revise/agmgx/src/Revise.jl:344\u001b[22m [inlined]\n",
      " [16] \u001b[1m#eval_with_signatures\u001b[22m at \u001b[1m./none:0\u001b[22m [inlined]\n",
      " [17] \u001b[1m#instantiate_sigs!#60\u001b[22m\u001b[1m(\u001b[22m::Bool, ::Base.Iterators.Pairs{Union{},Union{},Tuple{},NamedTuple{(),Tuple{}}}, ::Function, ::OrderedCollections.OrderedDict{Module,OrderedCollections.OrderedDict{Revise.RelocatableExpr,Union{Nothing, Array{Any,1}}}}\u001b[1m)\u001b[22m at \u001b[1m/home/nathan/.julia/packages/Revise/agmgx/src/Revise.jl:352\u001b[22m\n",
      " [18] \u001b[1minstantiate_sigs!\u001b[22m at \u001b[1m/home/nathan/.julia/packages/Revise/agmgx/src/Revise.jl:349\u001b[22m [inlined]\n",
      " [19] \u001b[1mmaybe_parse_from_cache!\u001b[22m\u001b[1m(\u001b[22m::Revise.PkgData, ::String\u001b[1m)\u001b[22m at \u001b[1m/home/nathan/.julia/packages/Revise/agmgx/src/pkgs.jl:224\u001b[22m\n",
      " [20] \u001b[1m(::getfield(Revise, Symbol(\"##26#27\")){String})\u001b[22m\u001b[1m(\u001b[22m\u001b[1m)\u001b[22m at \u001b[1m/home/nathan/.julia/packages/Revise/agmgx/src/pkgs.jl:370\u001b[22m\n",
      " [21] \u001b[1mwith_logstate\u001b[22m\u001b[1m(\u001b[22m::getfield(Revise, Symbol(\"##26#27\")){String}, ::Base.CoreLogging.LogState\u001b[1m)\u001b[22m at \u001b[1m./logging.jl:395\u001b[22m\n",
      " [22] \u001b[1mwith_logger\u001b[22m at \u001b[1m./logging.jl:491\u001b[22m [inlined]\n",
      " [23] \u001b[1mwatch_manifest\u001b[22m\u001b[1m(\u001b[22m::String\u001b[1m)\u001b[22m at \u001b[1m/home/nathan/.julia/packages/Revise/agmgx/src/pkgs.jl:349\u001b[22m\n",
      " [24] \u001b[1m(::Revise.Rescheduler{typeof(Revise.watch_manifest),Tuple{String}})\u001b[22m\u001b[1m(\u001b[22m\u001b[1m)\u001b[22m at \u001b[1m/home/nathan/.julia/packages/Revise/agmgx/src/types.jl:235\u001b[22m\n",
      "while evaluating\n",
      "convert(::Type{Hid}, g::HDF5Group) = begin\n",
      "        #= /home/nathan/.julia/packages/HDF5/2gJEi/src/HDF5.jl:370 =#\n",
      "        g.id\n",
      "    end\n",
      "in module Main.HDF5\n",
      "\u001b[91mUndefVarError: Hid not defined\u001b[39m\n",
      "Stacktrace:\n",
      " [1] \u001b[1mmacro expansion\u001b[22m at \u001b[1m/home/nathan/.julia/packages/JuliaInterpreter/Or807/src/interpret.jl:64\u001b[22m [inlined]\n",
      " [2] \u001b[1mgetargs\u001b[22m\u001b[1m(\u001b[22m::Array{Any,1}, ::JuliaInterpreter.Frame\u001b[1m)\u001b[22m at \u001b[1m/home/nathan/.julia/packages/JuliaInterpreter/Or807/src/builtins.jl:8\u001b[22m\n",
      " [3] \u001b[1mmaybe_evaluate_builtin\u001b[22m\u001b[1m(\u001b[22m::JuliaInterpreter.Frame, ::Expr, ::Bool\u001b[1m)\u001b[22m at \u001b[1m/home/nathan/.julia/packages/JuliaInterpreter/Or807/src/builtins.jl:86\u001b[22m\n",
      " [4] \u001b[1m#evaluate_call_recurse!#37\u001b[22m\u001b[1m(\u001b[22m::Bool, ::Function, ::Any, ::JuliaInterpreter.Frame, ::Expr\u001b[1m)\u001b[22m at \u001b[1m/home/nathan/.julia/packages/JuliaInterpreter/Or807/src/interpret.jl:209\u001b[22m\n",
      " [5] \u001b[1mevaluate_call_recurse!\u001b[22m at \u001b[1m/home/nathan/.julia/packages/JuliaInterpreter/Or807/src/interpret.jl:206\u001b[22m [inlined]\n",
      " [6] \u001b[1meval_rhs\u001b[22m\u001b[1m(\u001b[22m::Any, ::JuliaInterpreter.Frame, ::Expr\u001b[1m)\u001b[22m at \u001b[1m/home/nathan/.julia/packages/JuliaInterpreter/Or807/src/interpret.jl:381\u001b[22m\n",
      " [7] \u001b[1mstep_expr!\u001b[22m\u001b[1m(\u001b[22m::Any, ::JuliaInterpreter.Frame, ::Any, ::Bool\u001b[1m)\u001b[22m at \u001b[1m/home/nathan/.julia/packages/JuliaInterpreter/Or807/src/interpret.jl:509\u001b[22m\n",
      " [8] \u001b[1msignature\u001b[22m\u001b[1m(\u001b[22m::Any, ::JuliaInterpreter.Frame, ::Any, ::Int64\u001b[1m)\u001b[22m at \u001b[1m/home/nathan/.julia/packages/LoweredCodeUtils/6EZqd/src/LoweredCodeUtils.jl:146\u001b[22m\n",
      " [9] \u001b[1m#methoddef!#3\u001b[22m\u001b[1m(\u001b[22m::Bool, ::Function, ::Any, ::Array{Any,1}, ::JuliaInterpreter.Frame, ::Any, ::Int64\u001b[1m)\u001b[22m at \u001b[1m/home/nathan/.julia/packages/LoweredCodeUtils/6EZqd/src/LoweredCodeUtils.jl:420\u001b[22m\n",
      " [10] \u001b[1m(::getfield(LoweredCodeUtils, Symbol(\"#kw##methoddef!\")))\u001b[22m\u001b[1m(\u001b[22m::NamedTuple{(:define,),Tuple{Bool}}, ::typeof(LoweredCodeUtils.methoddef!), ::Function, ::Array{Any,1}, ::JuliaInterpreter.Frame, ::Expr, ::Int64\u001b[1m)\u001b[22m at \u001b[1m./none:0\u001b[22m\n",
      " [11] \u001b[1m#methods_by_execution!#14\u001b[22m\u001b[1m(\u001b[22m::Bool, ::Bool, ::Function, ::Any, ::Revise.CodeTrackingMethodInfo, ::Dict{Module,Array{Expr,1}}, ::JuliaInterpreter.Frame\u001b[1m)\u001b[22m at \u001b[1m/home/nathan/.julia/packages/Revise/agmgx/src/lowered.jl:81\u001b[22m\n",
      " [12] \u001b[1m#methods_by_execution!\u001b[22m at \u001b[1m./none:0\u001b[22m [inlined]\n",
      " [13] \u001b[1m#methods_by_execution!#9\u001b[22m\u001b[1m(\u001b[22m::Base.Iterators.Pairs{Symbol,Bool,Tuple{Symbol},NamedTuple{(:define,),Tuple{Bool}}}, ::Function, ::Any, ::Revise.CodeTrackingMethodInfo, ::Dict{Module,Array{Expr,1}}, ::Module, ::Expr\u001b[1m)\u001b[22m at \u001b[1m/home/nathan/.julia/packages/Revise/agmgx/src/lowered.jl:49\u001b[22m\n",
      " [14] \u001b[1m#methods_by_execution!\u001b[22m at \u001b[1m./none:0\u001b[22m [inlined]\n",
      " [15] \u001b[1m#eval_with_signatures#59\u001b[22m at \u001b[1m/home/nathan/.julia/packages/Revise/agmgx/src/Revise.jl:344\u001b[22m [inlined]\n",
      " [16] \u001b[1m#eval_with_signatures\u001b[22m at \u001b[1m./none:0\u001b[22m [inlined]\n",
      " [17] \u001b[1m#instantiate_sigs!#60\u001b[22m\u001b[1m(\u001b[22m::Bool, ::Base.Iterators.Pairs{Union{},Union{},Tuple{},NamedTuple{(),Tuple{}}}, ::Function, ::OrderedCollections.OrderedDict{Module,OrderedCollections.OrderedDict{Revise.RelocatableExpr,Union{Nothing, Array{Any,1}}}}\u001b[1m)\u001b[22m at \u001b[1m/home/nathan/.julia/packages/Revise/agmgx/src/Revise.jl:352\u001b[22m\n",
      " [18] \u001b[1minstantiate_sigs!\u001b[22m at \u001b[1m/home/nathan/.julia/packages/Revise/agmgx/src/Revise.jl:349\u001b[22m [inlined]\n",
      " [19] \u001b[1mmaybe_parse_from_cache!\u001b[22m\u001b[1m(\u001b[22m::Revise.PkgData, ::String\u001b[1m)\u001b[22m at \u001b[1m/home/nathan/.julia/packages/Revise/agmgx/src/pkgs.jl:224\u001b[22m\n",
      " [20] \u001b[1m(::getfield(Revise, Symbol(\"##26#27\")){String})\u001b[22m\u001b[1m(\u001b[22m\u001b[1m)\u001b[22m at \u001b[1m/home/nathan/.julia/packages/Revise/agmgx/src/pkgs.jl:370\u001b[22m\n",
      " [21] \u001b[1mwith_logstate\u001b[22m\u001b[1m(\u001b[22m::getfield(Revise, Symbol(\"##26#27\")){String}, ::Base.CoreLogging.LogState\u001b[1m)\u001b[22m at \u001b[1m./logging.jl:395\u001b[22m\n",
      " [22] \u001b[1mwith_logger\u001b[22m at \u001b[1m./logging.jl:491\u001b[22m [inlined]\n",
      " [23] \u001b[1mwatch_manifest\u001b[22m\u001b[1m(\u001b[22m::String\u001b[1m)\u001b[22m at \u001b[1m/home/nathan/.julia/packages/Revise/agmgx/src/pkgs.jl:349\u001b[22m\n",
      " [24] \u001b[1m(::Revise.Rescheduler{typeof(Revise.watch_manifest),Tuple{String}})\u001b[22m\u001b[1m(\u001b[22m\u001b[1m)\u001b[22m at \u001b[1m/home/nathan/.julia/packages/Revise/agmgx/src/types.jl:235\u001b[22m\n",
      "while evaluating\n",
      "convert(::Type{Hid}, dset::HDF5Dataset) = begin\n",
      "        #= /home/nathan/.julia/packages/HDF5/2gJEi/src/HDF5.jl:390 =#\n",
      "        dset.id\n",
      "    end\n",
      "in module Main.HDF5\n",
      "\u001b[91mUndefVarError: Hid not defined\u001b[39m\n",
      "Stacktrace:\n",
      " [1] \u001b[1mmacro expansion\u001b[22m at \u001b[1m/home/nathan/.julia/packages/JuliaInterpreter/Or807/src/interpret.jl:64\u001b[22m [inlined]\n",
      " [2] \u001b[1mgetargs\u001b[22m\u001b[1m(\u001b[22m::Array{Any,1}, ::JuliaInterpreter.Frame\u001b[1m)\u001b[22m at \u001b[1m/home/nathan/.julia/packages/JuliaInterpreter/Or807/src/builtins.jl:8\u001b[22m\n",
      " [3] \u001b[1mmaybe_evaluate_builtin\u001b[22m\u001b[1m(\u001b[22m::JuliaInterpreter.Frame, ::Expr, ::Bool\u001b[1m)\u001b[22m at \u001b[1m/home/nathan/.julia/packages/JuliaInterpreter/Or807/src/builtins.jl:86\u001b[22m\n",
      " [4] \u001b[1m#evaluate_call_recurse!#37\u001b[22m\u001b[1m(\u001b[22m::Bool, ::Function, ::Any, ::JuliaInterpreter.Frame, ::Expr\u001b[1m)\u001b[22m at \u001b[1m/home/nathan/.julia/packages/JuliaInterpreter/Or807/src/interpret.jl:209\u001b[22m\n",
      " [5] \u001b[1mevaluate_call_recurse!\u001b[22m at \u001b[1m/home/nathan/.julia/packages/JuliaInterpreter/Or807/src/interpret.jl:206\u001b[22m [inlined]\n",
      " [6] \u001b[1meval_rhs\u001b[22m\u001b[1m(\u001b[22m::Any, ::JuliaInterpreter.Frame, ::Expr\u001b[1m)\u001b[22m at \u001b[1m/home/nathan/.julia/packages/JuliaInterpreter/Or807/src/interpret.jl:381\u001b[22m\n",
      " [7] \u001b[1mstep_expr!\u001b[22m\u001b[1m(\u001b[22m::Any, ::JuliaInterpreter.Frame, ::Any, ::Bool\u001b[1m)\u001b[22m at \u001b[1m/home/nathan/.julia/packages/JuliaInterpreter/Or807/src/interpret.jl:509\u001b[22m\n",
      " [8] \u001b[1msignature\u001b[22m\u001b[1m(\u001b[22m::Any, ::JuliaInterpreter.Frame, ::Any, ::Int64\u001b[1m)\u001b[22m at \u001b[1m/home/nathan/.julia/packages/LoweredCodeUtils/6EZqd/src/LoweredCodeUtils.jl:146\u001b[22m\n",
      " [9] \u001b[1m#methoddef!#3\u001b[22m\u001b[1m(\u001b[22m::Bool, ::Function, ::Any, ::Array{Any,1}, ::JuliaInterpreter.Frame, ::Any, ::Int64\u001b[1m)\u001b[22m at \u001b[1m/home/nathan/.julia/packages/LoweredCodeUtils/6EZqd/src/LoweredCodeUtils.jl:420\u001b[22m\n"
     ]
    },
    {
     "name": "stderr",
     "output_type": "stream",
     "text": [
      " [10] \u001b[1m(::getfield(LoweredCodeUtils, Symbol(\"#kw##methoddef!\")))\u001b[22m\u001b[1m(\u001b[22m::NamedTuple{(:define,),Tuple{Bool}}, ::typeof(LoweredCodeUtils.methoddef!), ::Function, ::Array{Any,1}, ::JuliaInterpreter.Frame, ::Expr, ::Int64\u001b[1m)\u001b[22m at \u001b[1m./none:0\u001b[22m\n",
      " [11] \u001b[1m#methods_by_execution!#14\u001b[22m\u001b[1m(\u001b[22m::Bool, ::Bool, ::Function, ::Any, ::Revise.CodeTrackingMethodInfo, ::Dict{Module,Array{Expr,1}}, ::JuliaInterpreter.Frame\u001b[1m)\u001b[22m at \u001b[1m/home/nathan/.julia/packages/Revise/agmgx/src/lowered.jl:81\u001b[22m\n",
      " [12] \u001b[1m#methods_by_execution!\u001b[22m at \u001b[1m./none:0\u001b[22m [inlined]\n",
      " [13] \u001b[1m#methods_by_execution!#9\u001b[22m\u001b[1m(\u001b[22m::Base.Iterators.Pairs{Symbol,Bool,Tuple{Symbol},NamedTuple{(:define,),Tuple{Bool}}}, ::Function, ::Any, ::Revise.CodeTrackingMethodInfo, ::Dict{Module,Array{Expr,1}}, ::Module, ::Expr\u001b[1m)\u001b[22m at \u001b[1m/home/nathan/.julia/packages/Revise/agmgx/src/lowered.jl:49\u001b[22m\n",
      " [14] \u001b[1m#methods_by_execution!\u001b[22m at \u001b[1m./none:0\u001b[22m [inlined]\n",
      " [15] \u001b[1m#eval_with_signatures#59\u001b[22m at \u001b[1m/home/nathan/.julia/packages/Revise/agmgx/src/Revise.jl:344\u001b[22m [inlined]\n",
      " [16] \u001b[1m#eval_with_signatures\u001b[22m at \u001b[1m./none:0\u001b[22m [inlined]\n",
      " [17] \u001b[1m#instantiate_sigs!#60\u001b[22m\u001b[1m(\u001b[22m::Bool, ::Base.Iterators.Pairs{Union{},Union{},Tuple{},NamedTuple{(),Tuple{}}}, ::Function, ::OrderedCollections.OrderedDict{Module,OrderedCollections.OrderedDict{Revise.RelocatableExpr,Union{Nothing, Array{Any,1}}}}\u001b[1m)\u001b[22m at \u001b[1m/home/nathan/.julia/packages/Revise/agmgx/src/Revise.jl:352\u001b[22m\n",
      " [18] \u001b[1minstantiate_sigs!\u001b[22m at \u001b[1m/home/nathan/.julia/packages/Revise/agmgx/src/Revise.jl:349\u001b[22m [inlined]\n",
      " [19] \u001b[1mmaybe_parse_from_cache!\u001b[22m\u001b[1m(\u001b[22m::Revise.PkgData, ::String\u001b[1m)\u001b[22m at \u001b[1m/home/nathan/.julia/packages/Revise/agmgx/src/pkgs.jl:224\u001b[22m\n",
      " [20] \u001b[1m(::getfield(Revise, Symbol(\"##26#27\")){String})\u001b[22m\u001b[1m(\u001b[22m\u001b[1m)\u001b[22m at \u001b[1m/home/nathan/.julia/packages/Revise/agmgx/src/pkgs.jl:370\u001b[22m\n",
      " [21] \u001b[1mwith_logstate\u001b[22m\u001b[1m(\u001b[22m::getfield(Revise, Symbol(\"##26#27\")){String}, ::Base.CoreLogging.LogState\u001b[1m)\u001b[22m at \u001b[1m./logging.jl:395\u001b[22m\n",
      " [22] \u001b[1mwith_logger\u001b[22m at \u001b[1m./logging.jl:491\u001b[22m [inlined]\n",
      " [23] \u001b[1mwatch_manifest\u001b[22m\u001b[1m(\u001b[22m::String\u001b[1m)\u001b[22m at \u001b[1m/home/nathan/.julia/packages/Revise/agmgx/src/pkgs.jl:349\u001b[22m\n",
      " [24] \u001b[1m(::Revise.Rescheduler{typeof(Revise.watch_manifest),Tuple{String}})\u001b[22m\u001b[1m(\u001b[22m\u001b[1m)\u001b[22m at \u001b[1m/home/nathan/.julia/packages/Revise/agmgx/src/types.jl:235\u001b[22m\n",
      "while evaluating\n",
      "convert(::Type{Hid}, dtype::HDF5Datatype) = begin\n",
      "        #= /home/nathan/.julia/packages/HDF5/2gJEi/src/HDF5.jl:419 =#\n",
      "        dtype.id\n",
      "    end\n",
      "in module Main.HDF5\n",
      "Revise.LogRecord(Warn, omitting call expression (Core.apply_type)(Union, Main.HDF5.HDF5Group, Main.HDF5.HDF5Dataset, Main.HDF5.HDF5Datatype) in (\"none\", 0), lowered, Revise_c21d3a4d, \"/home/nathan/.julia/packages/Revise/agmgx/src/lowered.jl\", 188)\u001b[91mUndefVarError: Hid not defined\u001b[39m\n",
      "Stacktrace:\n",
      " [1] \u001b[1mmacro expansion\u001b[22m at \u001b[1m/home/nathan/.julia/packages/JuliaInterpreter/Or807/src/interpret.jl:64\u001b[22m [inlined]\n",
      " [2] \u001b[1mgetargs\u001b[22m\u001b[1m(\u001b[22m::Array{Any,1}, ::JuliaInterpreter.Frame\u001b[1m)\u001b[22m at \u001b[1m/home/nathan/.julia/packages/JuliaInterpreter/Or807/src/builtins.jl:8\u001b[22m\n",
      " [3] \u001b[1mmaybe_evaluate_builtin\u001b[22m\u001b[1m(\u001b[22m::JuliaInterpreter.Frame, ::Expr, ::Bool\u001b[1m)\u001b[22m at \u001b[1m/home/nathan/.julia/packages/JuliaInterpreter/Or807/src/builtins.jl:86\u001b[22m\n",
      " [4] \u001b[1m#evaluate_call_recurse!#37\u001b[22m\u001b[1m(\u001b[22m::Bool, ::Function, ::Any, ::JuliaInterpreter.Frame, ::Expr\u001b[1m)\u001b[22m at \u001b[1m/home/nathan/.julia/packages/JuliaInterpreter/Or807/src/interpret.jl:209\u001b[22m\n",
      " [5] \u001b[1mevaluate_call_recurse!\u001b[22m at \u001b[1m/home/nathan/.julia/packages/JuliaInterpreter/Or807/src/interpret.jl:206\u001b[22m [inlined]\n",
      " [6] \u001b[1meval_rhs\u001b[22m\u001b[1m(\u001b[22m::Any, ::JuliaInterpreter.Frame, ::Expr\u001b[1m)\u001b[22m at \u001b[1m/home/nathan/.julia/packages/JuliaInterpreter/Or807/src/interpret.jl:381\u001b[22m\n",
      " [7] \u001b[1mstep_expr!\u001b[22m\u001b[1m(\u001b[22m::Any, ::JuliaInterpreter.Frame, ::Any, ::Bool\u001b[1m)\u001b[22m at \u001b[1m/home/nathan/.julia/packages/JuliaInterpreter/Or807/src/interpret.jl:509\u001b[22m\n",
      " [8] \u001b[1msignature\u001b[22m\u001b[1m(\u001b[22m::Any, ::JuliaInterpreter.Frame, ::Any, ::Int64\u001b[1m)\u001b[22m at \u001b[1m/home/nathan/.julia/packages/LoweredCodeUtils/6EZqd/src/LoweredCodeUtils.jl:146\u001b[22m\n",
      " [9] \u001b[1m#methoddef!#3\u001b[22m\u001b[1m(\u001b[22m::Bool, ::Function, ::Any, ::Array{Any,1}, ::JuliaInterpreter.Frame, ::Any, ::Int64\u001b[1m)\u001b[22m at \u001b[1m/home/nathan/.julia/packages/LoweredCodeUtils/6EZqd/src/LoweredCodeUtils.jl:420\u001b[22m\n",
      " [10] \u001b[1m(::getfield(LoweredCodeUtils, Symbol(\"#kw##methoddef!\")))\u001b[22m\u001b[1m(\u001b[22m::NamedTuple{(:define,),Tuple{Bool}}, ::typeof(LoweredCodeUtils.methoddef!), ::Function, ::Array{Any,1}, ::JuliaInterpreter.Frame, ::Expr, ::Int64\u001b[1m)\u001b[22m at \u001b[1m./none:0\u001b[22m\n",
      " [11] \u001b[1m#methods_by_execution!#14\u001b[22m\u001b[1m(\u001b[22m::Bool, ::Bool, ::Function, ::Any, ::Revise.CodeTrackingMethodInfo, ::Dict{Module,Array{Expr,1}}, ::JuliaInterpreter.Frame\u001b[1m)\u001b[22m at \u001b[1m/home/nathan/.julia/packages/Revise/agmgx/src/lowered.jl:81\u001b[22m\n",
      " [12] \u001b[1m#methods_by_execution!\u001b[22m at \u001b[1m./none:0\u001b[22m [inlined]\n",
      " [13] \u001b[1m#methods_by_execution!#9\u001b[22m\u001b[1m(\u001b[22m::Base.Iterators.Pairs{Symbol,Bool,Tuple{Symbol},NamedTuple{(:define,),Tuple{Bool}}}, ::Function, ::Any, ::Revise.CodeTrackingMethodInfo, ::Dict{Module,Array{Expr,1}}, ::Module, ::Expr\u001b[1m)\u001b[22m at \u001b[1m/home/nathan/.julia/packages/Revise/agmgx/src/lowered.jl:49\u001b[22m\n",
      " [14] \u001b[1m#methods_by_execution!\u001b[22m at \u001b[1m./none:0\u001b[22m [inlined]\n",
      " [15] \u001b[1m#eval_with_signatures#59\u001b[22m at \u001b[1m/home/nathan/.julia/packages/Revise/agmgx/src/Revise.jl:344\u001b[22m [inlined]\n",
      " [16] \u001b[1m#eval_with_signatures\u001b[22m at \u001b[1m./none:0\u001b[22m [inlined]\n",
      " [17] \u001b[1m#instantiate_sigs!#60\u001b[22m\u001b[1m(\u001b[22m::Bool, ::Base.Iterators.Pairs{Union{},Union{},Tuple{},NamedTuple{(),Tuple{}}}, ::Function, ::OrderedCollections.OrderedDict{Module,OrderedCollections.OrderedDict{Revise.RelocatableExpr,Union{Nothing, Array{Any,1}}}}\u001b[1m)\u001b[22m at \u001b[1m/home/nathan/.julia/packages/Revise/agmgx/src/Revise.jl:352\u001b[22m\n",
      " [18] \u001b[1minstantiate_sigs!\u001b[22m at \u001b[1m/home/nathan/.julia/packages/Revise/agmgx/src/Revise.jl:349\u001b[22m [inlined]\n",
      " [19] \u001b[1mmaybe_parse_from_cache!\u001b[22m\u001b[1m(\u001b[22m::Revise.PkgData, ::String\u001b[1m)\u001b[22m at \u001b[1m/home/nathan/.julia/packages/Revise/agmgx/src/pkgs.jl:224\u001b[22m\n",
      " [20] \u001b[1m(::getfield(Revise, Symbol(\"##26#27\")){String})\u001b[22m\u001b[1m(\u001b[22m\u001b[1m)\u001b[22m at \u001b[1m/home/nathan/.julia/packages/Revise/agmgx/src/pkgs.jl:370\u001b[22m\n",
      " [21] \u001b[1mwith_logstate\u001b[22m\u001b[1m(\u001b[22m::getfield(Revise, Symbol(\"##26#27\")){String}, ::Base.CoreLogging.LogState\u001b[1m)\u001b[22m at \u001b[1m./logging.jl:395\u001b[22m\n",
      " [22] \u001b[1mwith_logger\u001b[22m at \u001b[1m./logging.jl:491\u001b[22m [inlined]\n",
      " [23] \u001b[1mwatch_manifest\u001b[22m\u001b[1m(\u001b[22m::String\u001b[1m)\u001b[22m at \u001b[1m/home/nathan/.julia/packages/Revise/agmgx/src/pkgs.jl:349\u001b[22m\n",
      " [24] \u001b[1m(::Revise.Rescheduler{typeof(Revise.watch_manifest),Tuple{String}})\u001b[22m\u001b[1m(\u001b[22m\u001b[1m)\u001b[22m at \u001b[1m/home/nathan/.julia/packages/Revise/agmgx/src/types.jl:235\u001b[22m\n",
      "while evaluating\n",
      "convert(::Type{Hid}, dspace::HDF5Dataspace) = begin\n",
      "        #= /home/nathan/.julia/packages/HDF5/2gJEi/src/HDF5.jl:437 =#\n",
      "        dspace.id\n",
      "    end\n",
      "in module Main.HDF5\n",
      "\u001b[91mUndefVarError: Hid not defined\u001b[39m\n",
      "Stacktrace:\n",
      " [1] \u001b[1mmacro expansion\u001b[22m at \u001b[1m/home/nathan/.julia/packages/JuliaInterpreter/Or807/src/interpret.jl:64\u001b[22m [inlined]\n",
      " [2] \u001b[1mgetargs\u001b[22m\u001b[1m(\u001b[22m::Array{Any,1}, ::JuliaInterpreter.Frame\u001b[1m)\u001b[22m at \u001b[1m/home/nathan/.julia/packages/JuliaInterpreter/Or807/src/builtins.jl:8\u001b[22m\n",
      " [3] \u001b[1mmaybe_evaluate_builtin\u001b[22m\u001b[1m(\u001b[22m::JuliaInterpreter.Frame, ::Expr, ::Bool\u001b[1m)\u001b[22m at \u001b[1m/home/nathan/.julia/packages/JuliaInterpreter/Or807/src/builtins.jl:86\u001b[22m\n",
      " [4] \u001b[1m#evaluate_call_recurse!#37\u001b[22m\u001b[1m(\u001b[22m::Bool, ::Function, ::Any, ::JuliaInterpreter.Frame, ::Expr\u001b[1m)\u001b[22m at \u001b[1m/home/nathan/.julia/packages/JuliaInterpreter/Or807/src/interpret.jl:209\u001b[22m\n",
      " [5] \u001b[1mevaluate_call_recurse!\u001b[22m at \u001b[1m/home/nathan/.julia/packages/JuliaInterpreter/Or807/src/interpret.jl:206\u001b[22m [inlined]\n",
      " [6] \u001b[1meval_rhs\u001b[22m\u001b[1m(\u001b[22m::Any, ::JuliaInterpreter.Frame, ::Expr\u001b[1m)\u001b[22m at \u001b[1m/home/nathan/.julia/packages/JuliaInterpreter/Or807/src/interpret.jl:381\u001b[22m\n",
      " [7] \u001b[1mstep_expr!\u001b[22m\u001b[1m(\u001b[22m::Any, ::JuliaInterpreter.Frame, ::Any, ::Bool\u001b[1m)\u001b[22m at \u001b[1m/home/nathan/.julia/packages/JuliaInterpreter/Or807/src/interpret.jl:509\u001b[22m\n",
      " [8] \u001b[1msignature\u001b[22m\u001b[1m(\u001b[22m::Any, ::JuliaInterpreter.Frame, ::Any, ::Int64\u001b[1m)\u001b[22m at \u001b[1m/home/nathan/.julia/packages/LoweredCodeUtils/6EZqd/src/LoweredCodeUtils.jl:146\u001b[22m\n",
      " [9] \u001b[1m#methoddef!#3\u001b[22m\u001b[1m(\u001b[22m::Bool, ::Function, ::Any, ::Array{Any,1}, ::JuliaInterpreter.Frame, ::Any, ::Int64\u001b[1m)\u001b[22m at \u001b[1m/home/nathan/.julia/packages/LoweredCodeUtils/6EZqd/src/LoweredCodeUtils.jl:420\u001b[22m\n",
      " [10] \u001b[1m(::getfield(LoweredCodeUtils, Symbol(\"#kw##methoddef!\")))\u001b[22m\u001b[1m(\u001b[22m::NamedTuple{(:define,),Tuple{Bool}}, ::typeof(LoweredCodeUtils.methoddef!), ::Function, ::Array{Any,1}, ::JuliaInterpreter.Frame, ::Expr, ::Int64\u001b[1m)\u001b[22m at \u001b[1m./none:0\u001b[22m\n",
      " [11] \u001b[1m#methods_by_execution!#14\u001b[22m\u001b[1m(\u001b[22m::Bool, ::Bool, ::Function, ::Any, ::Revise.CodeTrackingMethodInfo, ::Dict{Module,Array{Expr,1}}, ::JuliaInterpreter.Frame\u001b[1m)\u001b[22m at \u001b[1m/home/nathan/.julia/packages/Revise/agmgx/src/lowered.jl:81\u001b[22m\n",
      " [12] \u001b[1m#methods_by_execution!\u001b[22m at \u001b[1m./none:0\u001b[22m [inlined]\n",
      " [13] \u001b[1m#methods_by_execution!#9\u001b[22m\u001b[1m(\u001b[22m::Base.Iterators.Pairs{Symbol,Bool,Tuple{Symbol},NamedTuple{(:define,),Tuple{Bool}}}, ::Function, ::Any, ::Revise.CodeTrackingMethodInfo, ::Dict{Module,Array{Expr,1}}, ::Module, ::Expr\u001b[1m)\u001b[22m at \u001b[1m/home/nathan/.julia/packages/Revise/agmgx/src/lowered.jl:49\u001b[22m\n",
      " [14] \u001b[1m#methods_by_execution!\u001b[22m at \u001b[1m./none:0\u001b[22m [inlined]\n",
      " [15] \u001b[1m#eval_with_signatures#59\u001b[22m at \u001b[1m/home/nathan/.julia/packages/Revise/agmgx/src/Revise.jl:344\u001b[22m [inlined]\n",
      " [16] \u001b[1m#eval_with_signatures\u001b[22m at \u001b[1m./none:0\u001b[22m [inlined]\n",
      " [17] \u001b[1m#instantiate_sigs!#60\u001b[22m\u001b[1m(\u001b[22m::Bool, ::Base.Iterators.Pairs{Union{},Union{},Tuple{},NamedTuple{(),Tuple{}}}, ::Function, ::OrderedCollections.OrderedDict{Module,OrderedCollections.OrderedDict{Revise.RelocatableExpr,Union{Nothing, Array{Any,1}}}}\u001b[1m)\u001b[22m at \u001b[1m/home/nathan/.julia/packages/Revise/agmgx/src/Revise.jl:352\u001b[22m\n",
      " [18] \u001b[1minstantiate_sigs!\u001b[22m at \u001b[1m/home/nathan/.julia/packages/Revise/agmgx/src/Revise.jl:349\u001b[22m [inlined]\n",
      " [19] \u001b[1mmaybe_parse_from_cache!\u001b[22m\u001b[1m(\u001b[22m::Revise.PkgData, ::String\u001b[1m)\u001b[22m at \u001b[1m/home/nathan/.julia/packages/Revise/agmgx/src/pkgs.jl:224\u001b[22m\n",
      " [20] \u001b[1m(::getfield(Revise, Symbol(\"##26#27\")){String})\u001b[22m\u001b[1m(\u001b[22m\u001b[1m)\u001b[22m at \u001b[1m/home/nathan/.julia/packages/Revise/agmgx/src/pkgs.jl:370\u001b[22m\n",
      " [21] \u001b[1mwith_logstate\u001b[22m\u001b[1m(\u001b[22m::getfield(Revise, Symbol(\"##26#27\")){String}, ::Base.CoreLogging.LogState\u001b[1m)\u001b[22m at \u001b[1m./logging.jl:395\u001b[22m\n",
      " [22] \u001b[1mwith_logger\u001b[22m at \u001b[1m./logging.jl:491\u001b[22m [inlined]\n",
      " [23] \u001b[1mwatch_manifest\u001b[22m\u001b[1m(\u001b[22m::String\u001b[1m)\u001b[22m at \u001b[1m/home/nathan/.julia/packages/Revise/agmgx/src/pkgs.jl:349\u001b[22m\n",
      " [24] \u001b[1m(::Revise.Rescheduler{typeof(Revise.watch_manifest),Tuple{String}})\u001b[22m\u001b[1m(\u001b[22m\u001b[1m)\u001b[22m at \u001b[1m/home/nathan/.julia/packages/Revise/agmgx/src/types.jl:235\u001b[22m\n",
      "while evaluating\n",
      "convert(::Type{Hid}, attr::HDF5Attribute) = begin\n",
      "        #= /home/nathan/.julia/packages/HDF5/2gJEi/src/HDF5.jl:449 =#\n",
      "        attr.id\n",
      "    end\n",
      "in module Main.HDF5\n"
     ]
    },
    {
     "name": "stderr",
     "output_type": "stream",
     "text": [
      "Revise.LogRecord(Warn, omitting call expression (Core.apply_type)(Union, Main.HDF5.HDF5File, Main.HDF5.HDF5Group, Main.HDF5.HDF5Dataset) in (\"none\", 0), lowered, Revise_c21d3a4d, \"/home/nathan/.julia/packages/Revise/agmgx/src/lowered.jl\", 188)Revise.LogRecord(Warn, omitting call expression (Core.apply_type)(Union, Main.HDF5.HDF5File, Main.HDF5.HDF5Group, Main.HDF5.HDF5Dataset) in (\"none\", 0), lowered, Revise_c21d3a4d, \"/home/nathan/.julia/packages/Revise/agmgx/src/lowered.jl\", 188)\u001b[91mTypeError: in Union, in parameter, expected Type, got typeof(Main.HDF5.HDF5File)\u001b[39m\n",
      "Stacktrace:\n",
      " [1] \u001b[1mmaybe_evaluate_builtin\u001b[22m\u001b[1m(\u001b[22m::JuliaInterpreter.Frame, ::Expr, ::Bool\u001b[1m)\u001b[22m at \u001b[1m/home/nathan/.julia/packages/JuliaInterpreter/Or807/src/builtins.jl:86\u001b[22m\n",
      " [2] \u001b[1m#evaluate_call_recurse!#37\u001b[22m\u001b[1m(\u001b[22m::Bool, ::Function, ::Any, ::JuliaInterpreter.Frame, ::Expr\u001b[1m)\u001b[22m at \u001b[1m/home/nathan/.julia/packages/JuliaInterpreter/Or807/src/interpret.jl:209\u001b[22m\n",
      " [3] \u001b[1mevaluate_call_recurse!\u001b[22m at \u001b[1m/home/nathan/.julia/packages/JuliaInterpreter/Or807/src/interpret.jl:206\u001b[22m [inlined]\n",
      " [4] \u001b[1meval_rhs\u001b[22m\u001b[1m(\u001b[22m::Any, ::JuliaInterpreter.Frame, ::Expr\u001b[1m)\u001b[22m at \u001b[1m/home/nathan/.julia/packages/JuliaInterpreter/Or807/src/interpret.jl:381\u001b[22m\n",
      " [5] \u001b[1mstep_expr!\u001b[22m\u001b[1m(\u001b[22m::Any, ::JuliaInterpreter.Frame, ::Any, ::Bool\u001b[1m)\u001b[22m at \u001b[1m/home/nathan/.julia/packages/JuliaInterpreter/Or807/src/interpret.jl:509\u001b[22m\n",
      " [6] \u001b[1msignature\u001b[22m\u001b[1m(\u001b[22m::Any, ::JuliaInterpreter.Frame, ::Any, ::Int64\u001b[1m)\u001b[22m at \u001b[1m/home/nathan/.julia/packages/LoweredCodeUtils/6EZqd/src/LoweredCodeUtils.jl:146\u001b[22m\n",
      " [7] \u001b[1m#methoddef!#3\u001b[22m\u001b[1m(\u001b[22m::Bool, ::Function, ::Any, ::Array{Any,1}, ::JuliaInterpreter.Frame, ::Any, ::Int64\u001b[1m)\u001b[22m at \u001b[1m/home/nathan/.julia/packages/LoweredCodeUtils/6EZqd/src/LoweredCodeUtils.jl:420\u001b[22m\n",
      " [8] \u001b[1m(::getfield(LoweredCodeUtils, Symbol(\"#kw##methoddef!\")))\u001b[22m\u001b[1m(\u001b[22m::NamedTuple{(:define,),Tuple{Bool}}, ::typeof(LoweredCodeUtils.methoddef!), ::Function, ::Array{Any,1}, ::JuliaInterpreter.Frame, ::Expr, ::Int64\u001b[1m)\u001b[22m at \u001b[1m./none:0\u001b[22m\n",
      " [9] \u001b[1m#methods_by_execution!#14\u001b[22m\u001b[1m(\u001b[22m::Bool, ::Bool, ::Function, ::Any, ::Revise.CodeTrackingMethodInfo, ::Dict{Module,Array{Expr,1}}, ::JuliaInterpreter.Frame\u001b[1m)\u001b[22m at \u001b[1m/home/nathan/.julia/packages/Revise/agmgx/src/lowered.jl:81\u001b[22m\n",
      " [10] \u001b[1m#methods_by_execution!\u001b[22m at \u001b[1m./none:0\u001b[22m [inlined]\n",
      " [11] \u001b[1m#methods_by_execution!#9\u001b[22m\u001b[1m(\u001b[22m::Base.Iterators.Pairs{Symbol,Bool,Tuple{Symbol},NamedTuple{(:define,),Tuple{Bool}}}, ::Function, ::Any, ::Revise.CodeTrackingMethodInfo, ::Dict{Module,Array{Expr,1}}, ::Module, ::Expr\u001b[1m)\u001b[22m at \u001b[1m/home/nathan/.julia/packages/Revise/agmgx/src/lowered.jl:49\u001b[22m\n",
      " [12] \u001b[1m#methods_by_execution!\u001b[22m at \u001b[1m./none:0\u001b[22m [inlined]\n",
      " [13] \u001b[1m#eval_with_signatures#59\u001b[22m at \u001b[1m/home/nathan/.julia/packages/Revise/agmgx/src/Revise.jl:344\u001b[22m [inlined]\n",
      " [14] \u001b[1m#eval_with_signatures\u001b[22m at \u001b[1m./none:0\u001b[22m [inlined]\n",
      " [15] \u001b[1m#instantiate_sigs!#60\u001b[22m\u001b[1m(\u001b[22m::Bool, ::Base.Iterators.Pairs{Union{},Union{},Tuple{},NamedTuple{(),Tuple{}}}, ::Function, ::OrderedCollections.OrderedDict{Module,OrderedCollections.OrderedDict{Revise.RelocatableExpr,Union{Nothing, Array{Any,1}}}}\u001b[1m)\u001b[22m at \u001b[1m/home/nathan/.julia/packages/Revise/agmgx/src/Revise.jl:352\u001b[22m\n",
      " [16] \u001b[1minstantiate_sigs!\u001b[22m at \u001b[1m/home/nathan/.julia/packages/Revise/agmgx/src/Revise.jl:349\u001b[22m [inlined]\n",
      " [17] \u001b[1mmaybe_parse_from_cache!\u001b[22m\u001b[1m(\u001b[22m::Revise.PkgData, ::String\u001b[1m)\u001b[22m at \u001b[1m/home/nathan/.julia/packages/Revise/agmgx/src/pkgs.jl:224\u001b[22m\n",
      " [18] \u001b[1m(::getfield(Revise, Symbol(\"##26#27\")){String})\u001b[22m\u001b[1m(\u001b[22m\u001b[1m)\u001b[22m at \u001b[1m/home/nathan/.julia/packages/Revise/agmgx/src/pkgs.jl:370\u001b[22m\n",
      " [19] \u001b[1mwith_logstate\u001b[22m\u001b[1m(\u001b[22m::getfield(Revise, Symbol(\"##26#27\")){String}, ::Base.CoreLogging.LogState\u001b[1m)\u001b[22m at \u001b[1m./logging.jl:395\u001b[22m\n",
      " [20] \u001b[1mwith_logger\u001b[22m at \u001b[1m./logging.jl:491\u001b[22m [inlined]\n",
      " [21] \u001b[1mwatch_manifest\u001b[22m\u001b[1m(\u001b[22m::String\u001b[1m)\u001b[22m at \u001b[1m/home/nathan/.julia/packages/Revise/agmgx/src/pkgs.jl:349\u001b[22m\n",
      " [22] \u001b[1m(::Revise.Rescheduler{typeof(Revise.watch_manifest),Tuple{String}})\u001b[22m\u001b[1m(\u001b[22m\u001b[1m)\u001b[22m at \u001b[1m/home/nathan/.julia/packages/Revise/agmgx/src/types.jl:235\u001b[22m\n",
      "while evaluating\n",
      "mutable struct HDF5Attributes\n",
      "    #= /home/nathan/.julia/packages/HDF5/2gJEi/src/HDF5.jl:453 =#\n",
      "    parent::Union{HDF5File, HDF5Group, HDF5Dataset}\n",
      "end\n",
      "in module Main.HDF5\n",
      "\u001b[91mTypeError: in Union, in parameter, expected Type, got typeof(Main.HDF5.HDF5File)\u001b[39m\n",
      "Stacktrace:\n",
      " [1] \u001b[1mmaybe_evaluate_builtin\u001b[22m\u001b[1m(\u001b[22m::JuliaInterpreter.Frame, ::Expr, ::Bool\u001b[1m)\u001b[22m at \u001b[1m/home/nathan/.julia/packages/JuliaInterpreter/Or807/src/builtins.jl:86\u001b[22m\n",
      " [2] \u001b[1m#evaluate_call_recurse!#37\u001b[22m\u001b[1m(\u001b[22m::Bool, ::Function, ::Any, ::JuliaInterpreter.Frame, ::Expr\u001b[1m)\u001b[22m at \u001b[1m/home/nathan/.julia/packages/JuliaInterpreter/Or807/src/interpret.jl:209\u001b[22m\n",
      " [3] \u001b[1mevaluate_call_recurse!\u001b[22m at \u001b[1m/home/nathan/.julia/packages/JuliaInterpreter/Or807/src/interpret.jl:206\u001b[22m [inlined]\n",
      " [4] \u001b[1meval_rhs\u001b[22m\u001b[1m(\u001b[22m::Any, ::JuliaInterpreter.Frame, ::Expr\u001b[1m)\u001b[22m at \u001b[1m/home/nathan/.julia/packages/JuliaInterpreter/Or807/src/interpret.jl:381\u001b[22m\n",
      " [5] \u001b[1mstep_expr!\u001b[22m\u001b[1m(\u001b[22m::Any, ::JuliaInterpreter.Frame, ::Any, ::Bool\u001b[1m)\u001b[22m at \u001b[1m/home/nathan/.julia/packages/JuliaInterpreter/Or807/src/interpret.jl:509\u001b[22m\n",
      " [6] \u001b[1msignature\u001b[22m\u001b[1m(\u001b[22m::Any, ::JuliaInterpreter.Frame, ::Any, ::Int64\u001b[1m)\u001b[22m at \u001b[1m/home/nathan/.julia/packages/LoweredCodeUtils/6EZqd/src/LoweredCodeUtils.jl:146\u001b[22m\n",
      " [7] \u001b[1m#methoddef!#3\u001b[22m\u001b[1m(\u001b[22m::Bool, ::Function, ::Any, ::Array{Any,1}, ::JuliaInterpreter.Frame, ::Any, ::Int64\u001b[1m)\u001b[22m at \u001b[1m/home/nathan/.julia/packages/LoweredCodeUtils/6EZqd/src/LoweredCodeUtils.jl:420\u001b[22m\n",
      " [8] \u001b[1m(::getfield(LoweredCodeUtils, Symbol(\"#kw##methoddef!\")))\u001b[22m\u001b[1m(\u001b[22m::NamedTuple{(:define,),Tuple{Bool}}, ::typeof(LoweredCodeUtils.methoddef!), ::Function, ::Array{Any,1}, ::JuliaInterpreter.Frame, ::Expr, ::Int64\u001b[1m)\u001b[22m at \u001b[1m./none:0\u001b[22m\n",
      " [9] \u001b[1m#methods_by_execution!#14\u001b[22m\u001b[1m(\u001b[22m::Bool, ::Bool, ::Function, ::Any, ::Revise.CodeTrackingMethodInfo, ::Dict{Module,Array{Expr,1}}, ::JuliaInterpreter.Frame\u001b[1m)\u001b[22m at \u001b[1m/home/nathan/.julia/packages/Revise/agmgx/src/lowered.jl:81\u001b[22m\n",
      " [10] \u001b[1m#methods_by_execution!\u001b[22m at \u001b[1m./none:0\u001b[22m [inlined]\n",
      " [11] \u001b[1m#methods_by_execution!#9\u001b[22m\u001b[1m(\u001b[22m::Base.Iterators.Pairs{Symbol,Bool,Tuple{Symbol},NamedTuple{(:define,),Tuple{Bool}}}, ::Function, ::Any, ::Revise.CodeTrackingMethodInfo, ::Dict{Module,Array{Expr,1}}, ::Module, ::Expr\u001b[1m)\u001b[22m at \u001b[1m/home/nathan/.julia/packages/Revise/agmgx/src/lowered.jl:49\u001b[22m\n",
      " [12] \u001b[1m#methods_by_execution!\u001b[22m at \u001b[1m./none:0\u001b[22m [inlined]\n",
      " [13] \u001b[1m#eval_with_signatures#59\u001b[22m at \u001b[1m/home/nathan/.julia/packages/Revise/agmgx/src/Revise.jl:344\u001b[22m [inlined]\n",
      " [14] \u001b[1m#eval_with_signatures\u001b[22m at \u001b[1m./none:0\u001b[22m [inlined]\n",
      " [15] \u001b[1m#instantiate_sigs!#60\u001b[22m\u001b[1m(\u001b[22m::Bool, ::Base.Iterators.Pairs{Union{},Union{},Tuple{},NamedTuple{(),Tuple{}}}, ::Function, ::OrderedCollections.OrderedDict{Module,OrderedCollections.OrderedDict{Revise.RelocatableExpr,Union{Nothing, Array{Any,1}}}}\u001b[1m)\u001b[22m at \u001b[1m/home/nathan/.julia/packages/Revise/agmgx/src/Revise.jl:352\u001b[22m\n",
      " [16] \u001b[1minstantiate_sigs!\u001b[22m at \u001b[1m/home/nathan/.julia/packages/Revise/agmgx/src/Revise.jl:349\u001b[22m [inlined]\n",
      " [17] \u001b[1mmaybe_parse_from_cache!\u001b[22m\u001b[1m(\u001b[22m::Revise.PkgData, ::String\u001b[1m)\u001b[22m at \u001b[1m/home/nathan/.julia/packages/Revise/agmgx/src/pkgs.jl:224\u001b[22m\n",
      " [18] \u001b[1m(::getfield(Revise, Symbol(\"##26#27\")){String})\u001b[22m\u001b[1m(\u001b[22m\u001b[1m)\u001b[22m at \u001b[1m/home/nathan/.julia/packages/Revise/agmgx/src/pkgs.jl:370\u001b[22m\n",
      " [19] \u001b[1mwith_logstate\u001b[22m\u001b[1m(\u001b[22m::getfield(Revise, Symbol(\"##26#27\")){String}, ::Base.CoreLogging.LogState\u001b[1m)\u001b[22m at \u001b[1m./logging.jl:395\u001b[22m\n",
      " [20] \u001b[1mwith_logger\u001b[22m at \u001b[1m./logging.jl:491\u001b[22m [inlined]\n",
      " [21] \u001b[1mwatch_manifest\u001b[22m\u001b[1m(\u001b[22m::String\u001b[1m)\u001b[22m at \u001b[1m/home/nathan/.julia/packages/Revise/agmgx/src/pkgs.jl:349\u001b[22m\n",
      " [22] \u001b[1m(::Revise.Rescheduler{typeof(Revise.watch_manifest),Tuple{String}})\u001b[22m\u001b[1m(\u001b[22m\u001b[1m)\u001b[22m at \u001b[1m/home/nathan/.julia/packages/Revise/agmgx/src/types.jl:235\u001b[22m\n",
      "while evaluating\n",
      "attrs(p::Union{HDF5File, HDF5Group, HDF5Dataset}) = begin\n",
      "        #= /home/nathan/.julia/packages/HDF5/2gJEi/src/HDF5.jl:455 =#\n",
      "        HDF5Attributes(p)\n",
      "    end\n",
      "in module Main.HDF5\n",
      "\u001b[91mUndefVarError: Hid not defined\u001b[39m\n",
      "Stacktrace:\n",
      " [1] \u001b[1mmacro expansion\u001b[22m at \u001b[1m/home/nathan/.julia/packages/JuliaInterpreter/Or807/src/interpret.jl:64\u001b[22m [inlined]\n",
      " [2] \u001b[1mgetargs\u001b[22m\u001b[1m(\u001b[22m::Array{Any,1}, ::JuliaInterpreter.Frame\u001b[1m)\u001b[22m at \u001b[1m/home/nathan/.julia/packages/JuliaInterpreter/Or807/src/builtins.jl:8\u001b[22m\n",
      " [3] \u001b[1mmaybe_evaluate_builtin\u001b[22m\u001b[1m(\u001b[22m::JuliaInterpreter.Frame, ::Expr, ::Bool\u001b[1m)\u001b[22m at \u001b[1m/home/nathan/.julia/packages/JuliaInterpreter/Or807/src/builtins.jl:136\u001b[22m\n",
      " [4] \u001b[1m#evaluate_call_recurse!#37\u001b[22m\u001b[1m(\u001b[22m::Bool, ::Function, ::Any, ::JuliaInterpreter.Frame, ::Expr\u001b[1m)\u001b[22m at \u001b[1m/home/nathan/.julia/packages/JuliaInterpreter/Or807/src/interpret.jl:209\u001b[22m\n",
      " [5] \u001b[1mevaluate_call_recurse!\u001b[22m at \u001b[1m/home/nathan/.julia/packages/JuliaInterpreter/Or807/src/interpret.jl:206\u001b[22m [inlined]\n",
      " [6] \u001b[1meval_rhs\u001b[22m\u001b[1m(\u001b[22m::Any, ::JuliaInterpreter.Frame, ::Expr\u001b[1m)\u001b[22m at \u001b[1m/home/nathan/.julia/packages/JuliaInterpreter/Or807/src/interpret.jl:381\u001b[22m\n",
      " [7] \u001b[1mstep_expr!\u001b[22m\u001b[1m(\u001b[22m::Any, ::JuliaInterpreter.Frame, ::Any, ::Bool\u001b[1m)\u001b[22m at \u001b[1m/home/nathan/.julia/packages/JuliaInterpreter/Or807/src/interpret.jl:509\u001b[22m\n",
      " [8] \u001b[1msignature\u001b[22m\u001b[1m(\u001b[22m::Any, ::JuliaInterpreter.Frame, ::Any, ::Int64\u001b[1m)\u001b[22m at \u001b[1m/home/nathan/.julia/packages/LoweredCodeUtils/6EZqd/src/LoweredCodeUtils.jl:146\u001b[22m\n",
      " [9] \u001b[1m#methoddef!#3\u001b[22m\u001b[1m(\u001b[22m::Bool, ::Function, ::Any, ::Array{Any,1}, ::JuliaInterpreter.Frame, ::Any, ::Int64\u001b[1m)\u001b[22m at \u001b[1m/home/nathan/.julia/packages/LoweredCodeUtils/6EZqd/src/LoweredCodeUtils.jl:420\u001b[22m\n",
      " [10] \u001b[1m(::getfield(LoweredCodeUtils, Symbol(\"#kw##methoddef!\")))\u001b[22m\u001b[1m(\u001b[22m::NamedTuple{(:define,),Tuple{Bool}}, ::typeof(LoweredCodeUtils.methoddef!), ::Function, ::Array{Any,1}, ::JuliaInterpreter.Frame, ::Expr, ::Int64\u001b[1m)\u001b[22m at \u001b[1m./none:0\u001b[22m\n",
      " [11] \u001b[1m#methods_by_execution!#14\u001b[22m\u001b[1m(\u001b[22m::Bool, ::Bool, ::Function, ::Any, ::Revise.CodeTrackingMethodInfo, ::Dict{Module,Array{Expr,1}}, ::JuliaInterpreter.Frame\u001b[1m)\u001b[22m at \u001b[1m/home/nathan/.julia/packages/Revise/agmgx/src/lowered.jl:81\u001b[22m\n",
      " [12] \u001b[1m#methods_by_execution!\u001b[22m at \u001b[1m./none:0\u001b[22m [inlined]\n"
     ]
    },
    {
     "name": "stderr",
     "output_type": "stream",
     "text": [
      " [13] \u001b[1m#methods_by_execution!#9\u001b[22m\u001b[1m(\u001b[22m::Base.Iterators.Pairs{Symbol,Bool,Tuple{Symbol},NamedTuple{(:define,),Tuple{Bool}}}, ::Function, ::Any, ::Revise.CodeTrackingMethodInfo, ::Dict{Module,Array{Expr,1}}, ::Module, ::Expr\u001b[1m)\u001b[22m at \u001b[1m/home/nathan/.julia/packages/Revise/agmgx/src/lowered.jl:49\u001b[22m\n",
      " [14] \u001b[1m#methods_by_execution!\u001b[22m at \u001b[1m./none:0\u001b[22m [inlined]\n",
      " [15] \u001b[1m#eval_with_signatures#59\u001b[22m at \u001b[1m/home/nathan/.julia/packages/Revise/agmgx/src/Revise.jl:344\u001b[22m [inlined]\n",
      " [16] \u001b[1m#eval_with_signatures\u001b[22m at \u001b[1m./none:0\u001b[22m [inlined]\n",
      " [17] \u001b[1m#instantiate_sigs!#60\u001b[22m\u001b[1m(\u001b[22m::Bool, ::Base.Iterators.Pairs{Union{},Union{},Tuple{},NamedTuple{(),Tuple{}}}, ::Function, ::OrderedCollections.OrderedDict{Module,OrderedCollections.OrderedDict{Revise.RelocatableExpr,Union{Nothing, Array{Any,1}}}}\u001b[1m)\u001b[22m at \u001b[1m/home/nathan/.julia/packages/Revise/agmgx/src/Revise.jl:352\u001b[22m\n",
      " [18] \u001b[1minstantiate_sigs!\u001b[22m at \u001b[1m/home/nathan/.julia/packages/Revise/agmgx/src/Revise.jl:349\u001b[22m [inlined]\n",
      " [19] \u001b[1mmaybe_parse_from_cache!\u001b[22m\u001b[1m(\u001b[22m::Revise.PkgData, ::String\u001b[1m)\u001b[22m at \u001b[1m/home/nathan/.julia/packages/Revise/agmgx/src/pkgs.jl:224\u001b[22m\n",
      " [20] \u001b[1m(::getfield(Revise, Symbol(\"##26#27\")){String})\u001b[22m\u001b[1m(\u001b[22m\u001b[1m)\u001b[22m at \u001b[1m/home/nathan/.julia/packages/Revise/agmgx/src/pkgs.jl:370\u001b[22m\n",
      " [21] \u001b[1mwith_logstate\u001b[22m\u001b[1m(\u001b[22m::getfield(Revise, Symbol(\"##26#27\")){String}, ::Base.CoreLogging.LogState\u001b[1m)\u001b[22m at \u001b[1m./logging.jl:395\u001b[22m\n",
      " [22] \u001b[1mwith_logger\u001b[22m at \u001b[1m./logging.jl:491\u001b[22m [inlined]\n",
      " [23] \u001b[1mwatch_manifest\u001b[22m\u001b[1m(\u001b[22m::String\u001b[1m)\u001b[22m at \u001b[1m/home/nathan/.julia/packages/Revise/agmgx/src/pkgs.jl:349\u001b[22m\n",
      " [24] \u001b[1m(::Revise.Rescheduler{typeof(Revise.watch_manifest),Tuple{String}})\u001b[22m\u001b[1m(\u001b[22m\u001b[1m)\u001b[22m at \u001b[1m/home/nathan/.julia/packages/Revise/agmgx/src/types.jl:235\u001b[22m\n",
      "while evaluating\n",
      "mutable struct HDF5Properties\n",
      "    #= /home/nathan/.julia/packages/HDF5/2gJEi/src/HDF5.jl:458 =#\n",
      "    id::Hid\n",
      "    #= /home/nathan/.julia/packages/HDF5/2gJEi/src/HDF5.jl:459 =#\n",
      "    toclose::Bool\n",
      "    #= /home/nathan/.julia/packages/HDF5/2gJEi/src/HDF5.jl:460 =#\n",
      "    class::Hid\n",
      "    #= /home/nathan/.julia/packages/HDF5/2gJEi/src/HDF5.jl:462 =#\n",
      "    function HDF5Properties(id, toclose::Bool=true, class::Hid=H5P_DEFAULT)\n",
      "        #= /home/nathan/.julia/packages/HDF5/2gJEi/src/HDF5.jl:463 =#\n",
      "        p = new(id, toclose, class)\n",
      "        #= /home/nathan/.julia/packages/HDF5/2gJEi/src/HDF5.jl:464 =#\n",
      "        if toclose\n",
      "            #= /home/nathan/.julia/packages/HDF5/2gJEi/src/HDF5.jl:465 =#\n",
      "            finalizer(close, p)\n",
      "        end\n",
      "        #= /home/nathan/.julia/packages/HDF5/2gJEi/src/HDF5.jl:467 =#\n",
      "        p\n",
      "    end\n",
      "end\n",
      "in module Main.HDF5\n",
      "\u001b[91mUndefVarError: Hid not defined\u001b[39m\n",
      "Stacktrace:\n",
      " [1] \u001b[1mmacro expansion\u001b[22m at \u001b[1m/home/nathan/.julia/packages/JuliaInterpreter/Or807/src/interpret.jl:64\u001b[22m [inlined]\n",
      " [2] \u001b[1mgetargs\u001b[22m\u001b[1m(\u001b[22m::Array{Any,1}, ::JuliaInterpreter.Frame\u001b[1m)\u001b[22m at \u001b[1m/home/nathan/.julia/packages/JuliaInterpreter/Or807/src/builtins.jl:8\u001b[22m\n",
      " [3] \u001b[1mmaybe_evaluate_builtin\u001b[22m\u001b[1m(\u001b[22m::JuliaInterpreter.Frame, ::Expr, ::Bool\u001b[1m)\u001b[22m at \u001b[1m/home/nathan/.julia/packages/JuliaInterpreter/Or807/src/builtins.jl:86\u001b[22m\n",
      " [4] \u001b[1m#evaluate_call_recurse!#37\u001b[22m\u001b[1m(\u001b[22m::Bool, ::Function, ::Any, ::JuliaInterpreter.Frame, ::Expr\u001b[1m)\u001b[22m at \u001b[1m/home/nathan/.julia/packages/JuliaInterpreter/Or807/src/interpret.jl:209\u001b[22m\n",
      " [5] \u001b[1mevaluate_call_recurse!\u001b[22m at \u001b[1m/home/nathan/.julia/packages/JuliaInterpreter/Or807/src/interpret.jl:206\u001b[22m [inlined]\n",
      " [6] \u001b[1meval_rhs\u001b[22m\u001b[1m(\u001b[22m::Any, ::JuliaInterpreter.Frame, ::Expr\u001b[1m)\u001b[22m at \u001b[1m/home/nathan/.julia/packages/JuliaInterpreter/Or807/src/interpret.jl:381\u001b[22m\n",
      " [7] \u001b[1mstep_expr!\u001b[22m\u001b[1m(\u001b[22m::Any, ::JuliaInterpreter.Frame, ::Any, ::Bool\u001b[1m)\u001b[22m at \u001b[1m/home/nathan/.julia/packages/JuliaInterpreter/Or807/src/interpret.jl:509\u001b[22m\n",
      " [8] \u001b[1msignature\u001b[22m\u001b[1m(\u001b[22m::Any, ::JuliaInterpreter.Frame, ::Any, ::Int64\u001b[1m)\u001b[22m at \u001b[1m/home/nathan/.julia/packages/LoweredCodeUtils/6EZqd/src/LoweredCodeUtils.jl:146\u001b[22m\n",
      " [9] \u001b[1m#methoddef!#3\u001b[22m\u001b[1m(\u001b[22m::Bool, ::Function, ::Any, ::Array{Any,1}, ::JuliaInterpreter.Frame, ::Any, ::Int64\u001b[1m)\u001b[22m at \u001b[1m/home/nathan/.julia/packages/LoweredCodeUtils/6EZqd/src/LoweredCodeUtils.jl:420\u001b[22m\n",
      " [10] \u001b[1m(::getfield(LoweredCodeUtils, Symbol(\"#kw##methoddef!\")))\u001b[22m\u001b[1m(\u001b[22m::NamedTuple{(:define,),Tuple{Bool}}, ::typeof(LoweredCodeUtils.methoddef!), ::Function, ::Array{Any,1}, ::JuliaInterpreter.Frame, ::Expr, ::Int64\u001b[1m)\u001b[22m at \u001b[1m./none:0\u001b[22m\n",
      " [11] \u001b[1m#methods_by_execution!#14\u001b[22m\u001b[1m(\u001b[22m::Bool, ::Bool, ::Function, ::Any, ::Revise.CodeTrackingMethodInfo, ::Dict{Module,Array{Expr,1}}, ::JuliaInterpreter.Frame\u001b[1m)\u001b[22m at \u001b[1m/home/nathan/.julia/packages/Revise/agmgx/src/lowered.jl:81\u001b[22m\n",
      " [12] \u001b[1m#methods_by_execution!\u001b[22m at \u001b[1m./none:0\u001b[22m [inlined]\n",
      " [13] \u001b[1m#methods_by_execution!#9\u001b[22m\u001b[1m(\u001b[22m::Base.Iterators.Pairs{Symbol,Bool,Tuple{Symbol},NamedTuple{(:define,),Tuple{Bool}}}, ::Function, ::Any, ::Revise.CodeTrackingMethodInfo, ::Dict{Module,Array{Expr,1}}, ::Module, ::Expr\u001b[1m)\u001b[22m at \u001b[1m/home/nathan/.julia/packages/Revise/agmgx/src/lowered.jl:49\u001b[22m\n",
      " [14] \u001b[1m#methods_by_execution!\u001b[22m at \u001b[1m./none:0\u001b[22m [inlined]\n",
      " [15] \u001b[1m#eval_with_signatures#59\u001b[22m at \u001b[1m/home/nathan/.julia/packages/Revise/agmgx/src/Revise.jl:344\u001b[22m [inlined]\n",
      " [16] \u001b[1m#eval_with_signatures\u001b[22m at \u001b[1m./none:0\u001b[22m [inlined]\n",
      " [17] \u001b[1m#instantiate_sigs!#60\u001b[22m\u001b[1m(\u001b[22m::Bool, ::Base.Iterators.Pairs{Union{},Union{},Tuple{},NamedTuple{(),Tuple{}}}, ::Function, ::OrderedCollections.OrderedDict{Module,OrderedCollections.OrderedDict{Revise.RelocatableExpr,Union{Nothing, Array{Any,1}}}}\u001b[1m)\u001b[22m at \u001b[1m/home/nathan/.julia/packages/Revise/agmgx/src/Revise.jl:352\u001b[22m\n",
      " [18] \u001b[1minstantiate_sigs!\u001b[22m at \u001b[1m/home/nathan/.julia/packages/Revise/agmgx/src/Revise.jl:349\u001b[22m [inlined]\n",
      " [19] \u001b[1mmaybe_parse_from_cache!\u001b[22m\u001b[1m(\u001b[22m::Revise.PkgData, ::String\u001b[1m)\u001b[22m at \u001b[1m/home/nathan/.julia/packages/Revise/agmgx/src/pkgs.jl:224\u001b[22m\n",
      " [20] \u001b[1m(::getfield(Revise, Symbol(\"##26#27\")){String})\u001b[22m\u001b[1m(\u001b[22m\u001b[1m)\u001b[22m at \u001b[1m/home/nathan/.julia/packages/Revise/agmgx/src/pkgs.jl:370\u001b[22m\n",
      " [21] \u001b[1mwith_logstate\u001b[22m\u001b[1m(\u001b[22m::getfield(Revise, Symbol(\"##26#27\")){String}, ::Base.CoreLogging.LogState\u001b[1m)\u001b[22m at \u001b[1m./logging.jl:395\u001b[22m\n",
      " [22] \u001b[1mwith_logger\u001b[22m at \u001b[1m./logging.jl:491\u001b[22m [inlined]\n",
      " [23] \u001b[1mwatch_manifest\u001b[22m\u001b[1m(\u001b[22m::String\u001b[1m)\u001b[22m at \u001b[1m/home/nathan/.julia/packages/Revise/agmgx/src/pkgs.jl:349\u001b[22m\n",
      " [24] \u001b[1m(::Revise.Rescheduler{typeof(Revise.watch_manifest),Tuple{String}})\u001b[22m\u001b[1m(\u001b[22m\u001b[1m)\u001b[22m at \u001b[1m/home/nathan/.julia/packages/Revise/agmgx/src/types.jl:235\u001b[22m\n",
      "while evaluating\n",
      "convert(::Type{Hid}, p::HDF5Properties) = begin\n",
      "        #= /home/nathan/.julia/packages/HDF5/2gJEi/src/HDF5.jl:471 =#\n",
      "        p.id\n",
      "    end\n",
      "in module Main.HDF5\n",
      "\u001b[91mTypeError: in Union, in parameter, expected Type, got typeof(Main.HDF5.HDF5File)\u001b[39m\n",
      "Stacktrace:\n",
      " [1] \u001b[1mmaybe_evaluate_builtin\u001b[22m\u001b[1m(\u001b[22m::JuliaInterpreter.Frame, ::Expr, ::Bool\u001b[1m)\u001b[22m at \u001b[1m/home/nathan/.julia/packages/JuliaInterpreter/Or807/src/builtins.jl:86\u001b[22m\n",
      " [2] \u001b[1m#evaluate_call_recurse!#37\u001b[22m\u001b[1m(\u001b[22m::Bool, ::Function, ::Any, ::JuliaInterpreter.Frame, ::Expr\u001b[1m)\u001b[22m at \u001b[1m/home/nathan/.julia/packages/JuliaInterpreter/Or807/src/interpret.jl:209\u001b[22m\n",
      " [3] \u001b[1mevaluate_call_recurse!\u001b[22m at \u001b[1m/home/nathan/.julia/packages/JuliaInterpreter/Or807/src/interpret.jl:206\u001b[22m [inlined]\n",
      " [4] \u001b[1meval_rhs\u001b[22m\u001b[1m(\u001b[22m::Any, ::JuliaInterpreter.Frame, ::Expr\u001b[1m)\u001b[22m at \u001b[1m/home/nathan/.julia/packages/JuliaInterpreter/Or807/src/interpret.jl:381\u001b[22m\n",
      " [5] \u001b[1mstep_expr!\u001b[22m\u001b[1m(\u001b[22m::Any, ::JuliaInterpreter.Frame, ::Any, ::Bool\u001b[1m)\u001b[22m at \u001b[1m/home/nathan/.julia/packages/JuliaInterpreter/Or807/src/interpret.jl:509\u001b[22m\n",
      " [6] \u001b[1msignature\u001b[22m\u001b[1m(\u001b[22m::Any, ::JuliaInterpreter.Frame, ::Any, ::Int64\u001b[1m)\u001b[22m at \u001b[1m/home/nathan/.julia/packages/LoweredCodeUtils/6EZqd/src/LoweredCodeUtils.jl:146\u001b[22m\n",
      " [7] \u001b[1m#methoddef!#3\u001b[22m\u001b[1m(\u001b[22m::Bool, ::Function, ::Any, ::Array{Any,1}, ::JuliaInterpreter.Frame, ::Any, ::Int64\u001b[1m)\u001b[22m at \u001b[1m/home/nathan/.julia/packages/LoweredCodeUtils/6EZqd/src/LoweredCodeUtils.jl:420\u001b[22m\n",
      " [8] \u001b[1m(::getfield(LoweredCodeUtils, Symbol(\"#kw##methoddef!\")))\u001b[22m\u001b[1m(\u001b[22m::NamedTuple{(:define,),Tuple{Bool}}, ::typeof(LoweredCodeUtils.methoddef!), ::Function, ::Array{Any,1}, ::JuliaInterpreter.Frame, ::Expr, ::Int64\u001b[1m)\u001b[22m at \u001b[1m./none:0\u001b[22m\n",
      " [9] \u001b[1m#methods_by_execution!#14\u001b[22m\u001b[1m(\u001b[22m::Bool, ::Bool, ::Function, ::Any, ::Revise.CodeTrackingMethodInfo, ::Dict{Module,Array{Expr,1}}, ::JuliaInterpreter.Frame\u001b[1m)\u001b[22m at \u001b[1m/home/nathan/.julia/packages/Revise/agmgx/src/lowered.jl:81\u001b[22m\n",
      " [10] \u001b[1m#methods_by_execution!\u001b[22m at \u001b[1m./none:0\u001b[22m [inlined]\n",
      " [11] \u001b[1m#methods_by_execution!#9\u001b[22m\u001b[1m(\u001b[22m::Base.Iterators.Pairs{Symbol,Bool,Tuple{Symbol},NamedTuple{(:define,),Tuple{Bool}}}, ::Function, ::Any, ::Revise.CodeTrackingMethodInfo, ::Dict{Module,Array{Expr,1}}, ::Module, ::Expr\u001b[1m)\u001b[22m at \u001b[1m/home/nathan/.julia/packages/Revise/agmgx/src/lowered.jl:49\u001b[22m\n",
      " [12] \u001b[1m#methods_by_execution!\u001b[22m at \u001b[1m./none:0\u001b[22m [inlined]\n",
      " [13] \u001b[1m#eval_with_signatures#59\u001b[22m at \u001b[1m/home/nathan/.julia/packages/Revise/agmgx/src/Revise.jl:344\u001b[22m [inlined]\n",
      " [14] \u001b[1m#eval_with_signatures\u001b[22m at \u001b[1m./none:0\u001b[22m [inlined]\n",
      " [15] \u001b[1m#instantiate_sigs!#60\u001b[22m\u001b[1m(\u001b[22m::Bool, ::Base.Iterators.Pairs{Union{},Union{},Tuple{},NamedTuple{(),Tuple{}}}, ::Function, ::OrderedCollections.OrderedDict{Module,OrderedCollections.OrderedDict{Revise.RelocatableExpr,Union{Nothing, Array{Any,1}}}}\u001b[1m)\u001b[22m at \u001b[1m/home/nathan/.julia/packages/Revise/agmgx/src/Revise.jl:352\u001b[22m\n",
      " [16] \u001b[1minstantiate_sigs!\u001b[22m at \u001b[1m/home/nathan/.julia/packages/Revise/agmgx/src/Revise.jl:349\u001b[22m [inlined]\n",
      " [17] \u001b[1mmaybe_parse_from_cache!\u001b[22m\u001b[1m(\u001b[22m::Revise.PkgData, ::String\u001b[1m)\u001b[22m at \u001b[1m/home/nathan/.julia/packages/Revise/agmgx/src/pkgs.jl:224\u001b[22m\n",
      " [18] \u001b[1m(::getfield(Revise, Symbol(\"##26#27\")){String})\u001b[22m\u001b[1m(\u001b[22m\u001b[1m)\u001b[22m at \u001b[1m/home/nathan/.julia/packages/Revise/agmgx/src/pkgs.jl:370\u001b[22m\n"
     ]
    },
    {
     "name": "stderr",
     "output_type": "stream",
     "text": [
      " [19] \u001b[1mwith_logstate\u001b[22m\u001b[1m(\u001b[22m::getfield(Revise, Symbol(\"##26#27\")){String}, ::Base.CoreLogging.LogState\u001b[1m)\u001b[22m at \u001b[1m./logging.jl:395\u001b[22m\n",
      " [20] \u001b[1mwith_logger\u001b[22m at \u001b[1m./logging.jl:491\u001b[22m [inlined]\n",
      " [21] \u001b[1mwatch_manifest\u001b[22m\u001b[1m(\u001b[22m::String\u001b[1m)\u001b[22m at \u001b[1m/home/nathan/.julia/packages/Revise/agmgx/src/pkgs.jl:349\u001b[22m\n",
      " [22] \u001b[1m(::Revise.Rescheduler{typeof(Revise.watch_manifest),Tuple{String}})\u001b[22m\u001b[1m(\u001b[22m\u001b[1m)\u001b[22m at \u001b[1m/home/nathan/.julia/packages/Revise/agmgx/src/types.jl:235\u001b[22m\n",
      "while evaluating\n",
      "function HDF5ReferenceObj(parent::Union{HDF5File, HDF5Group, HDF5Dataset}, name::String)\n",
      "    #= /home/nathan/.julia/packages/HDF5/2gJEi/src/HDF5.jl:476 =#\n",
      "    h5r_create(REF_TEMP_ARRAY, (checkvalid(parent)).id, name, H5R_OBJECT, -1)\n",
      "    #= /home/nathan/.julia/packages/HDF5/2gJEi/src/HDF5.jl:477 =#\n",
      "    REF_TEMP_ARRAY[]\n",
      "end\n",
      "in module Main.HDF5\n",
      "\u001b[91mUndefVarError: HDF5Compound not defined\u001b[39m\n",
      "Stacktrace:\n",
      " [1] \u001b[1m#collect_args#33\u001b[22m\u001b[1m(\u001b[22m::Bool, ::Function, ::JuliaInterpreter.Frame, ::Expr\u001b[1m)\u001b[22m at \u001b[1m/home/nathan/.julia/packages/JuliaInterpreter/Or807/src/interpret.jl:64\u001b[22m\n",
      " [2] \u001b[1mcollect_args\u001b[22m at \u001b[1m/home/nathan/.julia/packages/JuliaInterpreter/Or807/src/interpret.jl:139\u001b[22m [inlined]\n",
      " [3] \u001b[1mlookup_callexpr\u001b[22m at \u001b[1m/home/nathan/.julia/packages/Revise/agmgx/src/lowered.jl:13\u001b[22m [inlined]\n",
      " [4] \u001b[1m#methods_by_execution!#14\u001b[22m\u001b[1m(\u001b[22m::Bool, ::Bool, ::Function, ::Any, ::Revise.CodeTrackingMethodInfo, ::Dict{Module,Array{Expr,1}}, ::JuliaInterpreter.Frame\u001b[1m)\u001b[22m at \u001b[1m/home/nathan/.julia/packages/Revise/agmgx/src/lowered.jl:187\u001b[22m\n",
      " [5] \u001b[1m#methods_by_execution!\u001b[22m at \u001b[1m./none:0\u001b[22m [inlined]\n",
      " [6] \u001b[1m#methods_by_execution!#9\u001b[22m\u001b[1m(\u001b[22m::Base.Iterators.Pairs{Symbol,Bool,Tuple{Symbol},NamedTuple{(:define,),Tuple{Bool}}}, ::Function, ::Any, ::Revise.CodeTrackingMethodInfo, ::Dict{Module,Array{Expr,1}}, ::Module, ::Expr\u001b[1m)\u001b[22m at \u001b[1m/home/nathan/.julia/packages/Revise/agmgx/src/lowered.jl:49\u001b[22m\n",
      " [7] \u001b[1m#methods_by_execution!\u001b[22m at \u001b[1m./none:0\u001b[22m [inlined]\n",
      " [8] \u001b[1m#eval_with_signatures#59\u001b[22m at \u001b[1m/home/nathan/.julia/packages/Revise/agmgx/src/Revise.jl:344\u001b[22m [inlined]\n",
      " [9] \u001b[1m#eval_with_signatures\u001b[22m at \u001b[1m./none:0\u001b[22m [inlined]\n",
      " [10] \u001b[1m#instantiate_sigs!#60\u001b[22m\u001b[1m(\u001b[22m::Bool, ::Base.Iterators.Pairs{Union{},Union{},Tuple{},NamedTuple{(),Tuple{}}}, ::Function, ::OrderedCollections.OrderedDict{Module,OrderedCollections.OrderedDict{Revise.RelocatableExpr,Union{Nothing, Array{Any,1}}}}\u001b[1m)\u001b[22m at \u001b[1m/home/nathan/.julia/packages/Revise/agmgx/src/Revise.jl:352\u001b[22m\n",
      " [11] \u001b[1minstantiate_sigs!\u001b[22m at \u001b[1m/home/nathan/.julia/packages/Revise/agmgx/src/Revise.jl:349\u001b[22m [inlined]\n",
      " [12] \u001b[1mmaybe_parse_from_cache!\u001b[22m\u001b[1m(\u001b[22m::Revise.PkgData, ::String\u001b[1m)\u001b[22m at \u001b[1m/home/nathan/.julia/packages/Revise/agmgx/src/pkgs.jl:224\u001b[22m\n",
      " [13] \u001b[1m(::getfield(Revise, Symbol(\"##26#27\")){String})\u001b[22m\u001b[1m(\u001b[22m\u001b[1m)\u001b[22m at \u001b[1m/home/nathan/.julia/packages/Revise/agmgx/src/pkgs.jl:370\u001b[22m\n",
      " [14] \u001b[1mwith_logstate\u001b[22m\u001b[1m(\u001b[22m::getfield(Revise, Symbol(\"##26#27\")){String}, ::Base.CoreLogging.LogState\u001b[1m)\u001b[22m at \u001b[1m./logging.jl:395\u001b[22m\n",
      " [15] \u001b[1mwith_logger\u001b[22m at \u001b[1m./logging.jl:491\u001b[22m [inlined]\n",
      " [16] \u001b[1mwatch_manifest\u001b[22m\u001b[1m(\u001b[22m::String\u001b[1m)\u001b[22m at \u001b[1m/home/nathan/.julia/packages/Revise/agmgx/src/pkgs.jl:349\u001b[22m\n",
      " [17] \u001b[1m(::Revise.Rescheduler{typeof(Revise.watch_manifest),Tuple{String}})\u001b[22m\u001b[1m(\u001b[22m\u001b[1m)\u001b[22m at \u001b[1m/home/nathan/.julia/packages/Revise/agmgx/src/types.jl:235\u001b[22m\n",
      "while evaluating\n",
      "struct HDF5Compound{N}\n",
      "    #= /home/nathan/.julia/packages/HDF5/2gJEi/src/HDF5.jl:484 =#\n",
      "    data::NTuple{N, Any}\n",
      "    #= /home/nathan/.julia/packages/HDF5/2gJEi/src/HDF5.jl:485 =#\n",
      "    membername::NTuple{N, String}\n",
      "    #= /home/nathan/.julia/packages/HDF5/2gJEi/src/HDF5.jl:486 =#\n",
      "    membertype::NTuple{N, Type}\n",
      "end\n",
      "in module Main.HDF5\n",
      "\u001b[91mUndefVarError: EmptyArray not defined\u001b[39m\n",
      "Stacktrace:\n",
      " [1] \u001b[1m#collect_args#33\u001b[22m\u001b[1m(\u001b[22m::Bool, ::Function, ::JuliaInterpreter.Frame, ::Expr\u001b[1m)\u001b[22m at \u001b[1m/home/nathan/.julia/packages/JuliaInterpreter/Or807/src/interpret.jl:64\u001b[22m\n",
      " [2] \u001b[1mcollect_args\u001b[22m at \u001b[1m/home/nathan/.julia/packages/JuliaInterpreter/Or807/src/interpret.jl:139\u001b[22m [inlined]\n",
      " [3] \u001b[1mlookup_callexpr\u001b[22m at \u001b[1m/home/nathan/.julia/packages/Revise/agmgx/src/lowered.jl:13\u001b[22m [inlined]\n",
      " [4] \u001b[1m#methods_by_execution!#14\u001b[22m\u001b[1m(\u001b[22m::Bool, ::Bool, ::Function, ::Any, ::Revise.CodeTrackingMethodInfo, ::Dict{Module,Array{Expr,1}}, ::JuliaInterpreter.Frame\u001b[1m)\u001b[22m at \u001b[1m/home/nathan/.julia/packages/Revise/agmgx/src/lowered.jl:187\u001b[22m\n",
      " [5] \u001b[1m#methods_by_execution!\u001b[22m at \u001b[1m./none:0\u001b[22m [inlined]\n",
      " [6] \u001b[1m#methods_by_execution!#9\u001b[22m\u001b[1m(\u001b[22m::Base.Iterators.Pairs{Symbol,Bool,Tuple{Symbol},NamedTuple{(:define,),Tuple{Bool}}}, ::Function, ::Any, ::Revise.CodeTrackingMethodInfo, ::Dict{Module,Array{Expr,1}}, ::Module, ::Expr\u001b[1m)\u001b[22m at \u001b[1m/home/nathan/.julia/packages/Revise/agmgx/src/lowered.jl:49\u001b[22m\n",
      " [7] \u001b[1m#methods_by_execution!\u001b[22m at \u001b[1m./none:0\u001b[22m [inlined]\n",
      " [8] \u001b[1m#eval_with_signatures#59\u001b[22m at \u001b[1m/home/nathan/.julia/packages/Revise/agmgx/src/Revise.jl:344\u001b[22m [inlined]\n",
      " [9] \u001b[1m#eval_with_signatures\u001b[22m at \u001b[1m./none:0\u001b[22m [inlined]\n",
      " [10] \u001b[1m#instantiate_sigs!#60\u001b[22m\u001b[1m(\u001b[22m::Bool, ::Base.Iterators.Pairs{Union{},Union{},Tuple{},NamedTuple{(),Tuple{}}}, ::Function, ::OrderedCollections.OrderedDict{Module,OrderedCollections.OrderedDict{Revise.RelocatableExpr,Union{Nothing, Array{Any,1}}}}\u001b[1m)\u001b[22m at \u001b[1m/home/nathan/.julia/packages/Revise/agmgx/src/Revise.jl:352\u001b[22m\n",
      " [11] \u001b[1minstantiate_sigs!\u001b[22m at \u001b[1m/home/nathan/.julia/packages/Revise/agmgx/src/Revise.jl:349\u001b[22m [inlined]\n",
      " [12] \u001b[1mmaybe_parse_from_cache!\u001b[22m\u001b[1m(\u001b[22m::Revise.PkgData, ::String\u001b[1m)\u001b[22m at \u001b[1m/home/nathan/.julia/packages/Revise/agmgx/src/pkgs.jl:224\u001b[22m\n",
      " [13] \u001b[1m(::getfield(Revise, Symbol(\"##26#27\")){String})\u001b[22m\u001b[1m(\u001b[22m\u001b[1m)\u001b[22m at \u001b[1m/home/nathan/.julia/packages/Revise/agmgx/src/pkgs.jl:370\u001b[22m\n",
      " [14] \u001b[1mwith_logstate\u001b[22m\u001b[1m(\u001b[22m::getfield(Revise, Symbol(\"##26#27\")){String}, ::Base.CoreLogging.LogState\u001b[1m)\u001b[22m at \u001b[1m./logging.jl:395\u001b[22m\n",
      " [15] \u001b[1mwith_logger\u001b[22m at \u001b[1m./logging.jl:491\u001b[22m [inlined]\n",
      " [16] \u001b[1mwatch_manifest\u001b[22m\u001b[1m(\u001b[22m::String\u001b[1m)\u001b[22m at \u001b[1m/home/nathan/.julia/packages/Revise/agmgx/src/pkgs.jl:349\u001b[22m\n",
      " [17] \u001b[1m(::Revise.Rescheduler{typeof(Revise.watch_manifest),Tuple{String}})\u001b[22m\u001b[1m(\u001b[22m\u001b[1m)\u001b[22m at \u001b[1m/home/nathan/.julia/packages/Revise/agmgx/src/types.jl:235\u001b[22m\n",
      "while evaluating\n",
      "struct EmptyArray{T}\n",
      "    #= /home/nathan/.julia/packages/HDF5/2gJEi/src/HDF5.jl:496 =#\n",
      "end\n",
      "in module Main.HDF5\n",
      "\u001b[91mUndefVarError: FixedArray not defined\u001b[39m\n",
      "Stacktrace:\n",
      " [1] \u001b[1m#collect_args#33\u001b[22m\u001b[1m(\u001b[22m::Bool, ::Function, ::JuliaInterpreter.Frame, ::Expr\u001b[1m)\u001b[22m at \u001b[1m/home/nathan/.julia/packages/JuliaInterpreter/Or807/src/interpret.jl:64\u001b[22m\n",
      " [2] \u001b[1mcollect_args\u001b[22m at \u001b[1m/home/nathan/.julia/packages/JuliaInterpreter/Or807/src/interpret.jl:139\u001b[22m [inlined]\n",
      " [3] \u001b[1mlookup_callexpr\u001b[22m at \u001b[1m/home/nathan/.julia/packages/Revise/agmgx/src/lowered.jl:13\u001b[22m [inlined]\n",
      " [4] \u001b[1m#methods_by_execution!#14\u001b[22m\u001b[1m(\u001b[22m::Bool, ::Bool, ::Function, ::Any, ::Revise.CodeTrackingMethodInfo, ::Dict{Module,Array{Expr,1}}, ::JuliaInterpreter.Frame\u001b[1m)\u001b[22m at \u001b[1m/home/nathan/.julia/packages/Revise/agmgx/src/lowered.jl:187\u001b[22m\n",
      " [5] \u001b[1m#methods_by_execution!\u001b[22m at \u001b[1m./none:0\u001b[22m [inlined]\n",
      " [6] \u001b[1m#methods_by_execution!#9\u001b[22m\u001b[1m(\u001b[22m::Base.Iterators.Pairs{Symbol,Bool,Tuple{Symbol},NamedTuple{(:define,),Tuple{Bool}}}, ::Function, ::Any, ::Revise.CodeTrackingMethodInfo, ::Dict{Module,Array{Expr,1}}, ::Module, ::Expr\u001b[1m)\u001b[22m at \u001b[1m/home/nathan/.julia/packages/Revise/agmgx/src/lowered.jl:49\u001b[22m\n",
      " [7] \u001b[1m#methods_by_execution!\u001b[22m at \u001b[1m./none:0\u001b[22m [inlined]\n",
      " [8] \u001b[1m#eval_with_signatures#59\u001b[22m at \u001b[1m/home/nathan/.julia/packages/Revise/agmgx/src/Revise.jl:344\u001b[22m [inlined]\n",
      " [9] \u001b[1m#eval_with_signatures\u001b[22m at \u001b[1m./none:0\u001b[22m [inlined]\n",
      " [10] \u001b[1m#instantiate_sigs!#60\u001b[22m\u001b[1m(\u001b[22m::Bool, ::Base.Iterators.Pairs{Union{},Union{},Tuple{},NamedTuple{(),Tuple{}}}, ::Function, ::OrderedCollections.OrderedDict{Module,OrderedCollections.OrderedDict{Revise.RelocatableExpr,Union{Nothing, Array{Any,1}}}}\u001b[1m)\u001b[22m at \u001b[1m/home/nathan/.julia/packages/Revise/agmgx/src/Revise.jl:352\u001b[22m\n",
      " [11] \u001b[1minstantiate_sigs!\u001b[22m at \u001b[1m/home/nathan/.julia/packages/Revise/agmgx/src/Revise.jl:349\u001b[22m [inlined]\n",
      " [12] \u001b[1mmaybe_parse_from_cache!\u001b[22m\u001b[1m(\u001b[22m::Revise.PkgData, ::String\u001b[1m)\u001b[22m at \u001b[1m/home/nathan/.julia/packages/Revise/agmgx/src/pkgs.jl:224\u001b[22m\n",
      " [13] \u001b[1m(::getfield(Revise, Symbol(\"##26#27\")){String})\u001b[22m\u001b[1m(\u001b[22m\u001b[1m)\u001b[22m at \u001b[1m/home/nathan/.julia/packages/Revise/agmgx/src/pkgs.jl:370\u001b[22m\n",
      " [14] \u001b[1mwith_logstate\u001b[22m\u001b[1m(\u001b[22m::getfield(Revise, Symbol(\"##26#27\")){String}, ::Base.CoreLogging.LogState\u001b[1m)\u001b[22m at \u001b[1m./logging.jl:395\u001b[22m\n",
      " [15] \u001b[1mwith_logger\u001b[22m at \u001b[1m./logging.jl:491\u001b[22m [inlined]\n",
      " [16] \u001b[1mwatch_manifest\u001b[22m\u001b[1m(\u001b[22m::String\u001b[1m)\u001b[22m at \u001b[1m/home/nathan/.julia/packages/Revise/agmgx/src/pkgs.jl:349\u001b[22m\n",
      " [17] \u001b[1m(::Revise.Rescheduler{typeof(Revise.watch_manifest),Tuple{String}})\u001b[22m\u001b[1m(\u001b[22m\u001b[1m)\u001b[22m at \u001b[1m/home/nathan/.julia/packages/Revise/agmgx/src/types.jl:235\u001b[22m\n",
      "while evaluating\n",
      "struct FixedArray{T, D}\n",
      "    #= /home/nathan/.julia/packages/HDF5/2gJEi/src/HDF5.jl:499 =#\n",
      "end\n",
      "in module Main.HDF5\n",
      "\u001b[91mUndefVarError: FixedArray not defined\u001b[39m\n",
      "Stacktrace:\n",
      " [1] \u001b[1mmacro expansion\u001b[22m at \u001b[1m/home/nathan/.julia/packages/JuliaInterpreter/Or807/src/interpret.jl:64\u001b[22m [inlined]\n",
      " [2] \u001b[1mgetargs\u001b[22m\u001b[1m(\u001b[22m::Array{Any,1}, ::JuliaInterpreter.Frame\u001b[1m)\u001b[22m at \u001b[1m/home/nathan/.julia/packages/JuliaInterpreter/Or807/src/builtins.jl:8\u001b[22m\n",
      " [3] \u001b[1mmaybe_evaluate_builtin\u001b[22m\u001b[1m(\u001b[22m::JuliaInterpreter.Frame, ::Expr, ::Bool\u001b[1m)\u001b[22m at \u001b[1m/home/nathan/.julia/packages/JuliaInterpreter/Or807/src/builtins.jl:86\u001b[22m\n",
      " [4] \u001b[1m#evaluate_call_recurse!#37\u001b[22m\u001b[1m(\u001b[22m::Bool, ::Function, ::Any, ::JuliaInterpreter.Frame, ::Expr\u001b[1m)\u001b[22m at \u001b[1m/home/nathan/.julia/packages/JuliaInterpreter/Or807/src/interpret.jl:209\u001b[22m\n",
      " [5] \u001b[1mevaluate_call_recurse!\u001b[22m at \u001b[1m/home/nathan/.julia/packages/JuliaInterpreter/Or807/src/interpret.jl:206\u001b[22m [inlined]\n"
     ]
    },
    {
     "name": "stderr",
     "output_type": "stream",
     "text": [
      " [6] \u001b[1meval_rhs\u001b[22m\u001b[1m(\u001b[22m::Any, ::JuliaInterpreter.Frame, ::Expr\u001b[1m)\u001b[22m at \u001b[1m/home/nathan/.julia/packages/JuliaInterpreter/Or807/src/interpret.jl:381\u001b[22m\n",
      " [7] \u001b[1mstep_expr!\u001b[22m\u001b[1m(\u001b[22m::Any, ::JuliaInterpreter.Frame, ::Any, ::Bool\u001b[1m)\u001b[22m at \u001b[1m/home/nathan/.julia/packages/JuliaInterpreter/Or807/src/interpret.jl:509\u001b[22m\n",
      " [8] \u001b[1msignature\u001b[22m\u001b[1m(\u001b[22m::Any, ::JuliaInterpreter.Frame, ::Any, ::Int64\u001b[1m)\u001b[22m at \u001b[1m/home/nathan/.julia/packages/LoweredCodeUtils/6EZqd/src/LoweredCodeUtils.jl:146\u001b[22m\n",
      " [9] \u001b[1m#methoddef!#3\u001b[22m\u001b[1m(\u001b[22m::Bool, ::Function, ::Any, ::Array{Any,1}, ::JuliaInterpreter.Frame, ::Any, ::Int64\u001b[1m)\u001b[22m at \u001b[1m/home/nathan/.julia/packages/LoweredCodeUtils/6EZqd/src/LoweredCodeUtils.jl:420\u001b[22m\n",
      " [10] \u001b[1m(::getfield(LoweredCodeUtils, Symbol(\"#kw##methoddef!\")))\u001b[22m\u001b[1m(\u001b[22m::NamedTuple{(:define,),Tuple{Bool}}, ::typeof(LoweredCodeUtils.methoddef!), ::Function, ::Array{Any,1}, ::JuliaInterpreter.Frame, ::Expr, ::Int64\u001b[1m)\u001b[22m at \u001b[1m./none:0\u001b[22m\n",
      " [11] \u001b[1m#methods_by_execution!#14\u001b[22m\u001b[1m(\u001b[22m::Bool, ::Bool, ::Function, ::Any, ::Revise.CodeTrackingMethodInfo, ::Dict{Module,Array{Expr,1}}, ::JuliaInterpreter.Frame\u001b[1m)\u001b[22m at \u001b[1m/home/nathan/.julia/packages/Revise/agmgx/src/lowered.jl:81\u001b[22m\n",
      " [12] \u001b[1m#methods_by_execution!\u001b[22m at \u001b[1m./none:0\u001b[22m [inlined]\n",
      " [13] \u001b[1m#methods_by_execution!#9\u001b[22m\u001b[1m(\u001b[22m::Base.Iterators.Pairs{Symbol,Bool,Tuple{Symbol},NamedTuple{(:define,),Tuple{Bool}}}, ::Function, ::Any, ::Revise.CodeTrackingMethodInfo, ::Dict{Module,Array{Expr,1}}, ::Module, ::Expr\u001b[1m)\u001b[22m at \u001b[1m/home/nathan/.julia/packages/Revise/agmgx/src/lowered.jl:49\u001b[22m\n",
      " [14] \u001b[1m#methods_by_execution!\u001b[22m at \u001b[1m./none:0\u001b[22m [inlined]\n",
      " [15] \u001b[1m#eval_with_signatures#59\u001b[22m at \u001b[1m/home/nathan/.julia/packages/Revise/agmgx/src/Revise.jl:344\u001b[22m [inlined]\n",
      " [16] \u001b[1m#eval_with_signatures\u001b[22m at \u001b[1m./none:0\u001b[22m [inlined]\n",
      " [17] \u001b[1m#instantiate_sigs!#60\u001b[22m\u001b[1m(\u001b[22m::Bool, ::Base.Iterators.Pairs{Union{},Union{},Tuple{},NamedTuple{(),Tuple{}}}, ::Function, ::OrderedCollections.OrderedDict{Module,OrderedCollections.OrderedDict{Revise.RelocatableExpr,Union{Nothing, Array{Any,1}}}}\u001b[1m)\u001b[22m at \u001b[1m/home/nathan/.julia/packages/Revise/agmgx/src/Revise.jl:352\u001b[22m\n",
      " [18] \u001b[1minstantiate_sigs!\u001b[22m at \u001b[1m/home/nathan/.julia/packages/Revise/agmgx/src/Revise.jl:349\u001b[22m [inlined]\n",
      " [19] \u001b[1mmaybe_parse_from_cache!\u001b[22m\u001b[1m(\u001b[22m::Revise.PkgData, ::String\u001b[1m)\u001b[22m at \u001b[1m/home/nathan/.julia/packages/Revise/agmgx/src/pkgs.jl:224\u001b[22m\n",
      " [20] \u001b[1m(::getfield(Revise, Symbol(\"##26#27\")){String})\u001b[22m\u001b[1m(\u001b[22m\u001b[1m)\u001b[22m at \u001b[1m/home/nathan/.julia/packages/Revise/agmgx/src/pkgs.jl:370\u001b[22m\n",
      " [21] \u001b[1mwith_logstate\u001b[22m\u001b[1m(\u001b[22m::getfield(Revise, Symbol(\"##26#27\")){String}, ::Base.CoreLogging.LogState\u001b[1m)\u001b[22m at \u001b[1m./logging.jl:395\u001b[22m\n",
      " [22] \u001b[1mwith_logger\u001b[22m at \u001b[1m./logging.jl:491\u001b[22m [inlined]\n",
      " [23] \u001b[1mwatch_manifest\u001b[22m\u001b[1m(\u001b[22m::String\u001b[1m)\u001b[22m at \u001b[1m/home/nathan/.julia/packages/Revise/agmgx/src/pkgs.jl:349\u001b[22m\n",
      " [24] \u001b[1m(::Revise.Rescheduler{typeof(Revise.watch_manifest),Tuple{String}})\u001b[22m\u001b[1m(\u001b[22m\u001b[1m)\u001b[22m at \u001b[1m/home/nathan/.julia/packages/Revise/agmgx/src/types.jl:235\u001b[22m\n",
      "while evaluating\n",
      "(size(::Type{FixedArray{T, D}}) where {T, D}) = begin\n",
      "        #= /home/nathan/.julia/packages/HDF5/2gJEi/src/HDF5.jl:500 =#\n",
      "        D\n",
      "    end\n",
      "in module Main.HDF5\n",
      "\u001b[91mUndefVarError: FixedArray not defined\u001b[39m\n",
      "Stacktrace:\n",
      " [1] \u001b[1mmacro expansion\u001b[22m at \u001b[1m/home/nathan/.julia/packages/JuliaInterpreter/Or807/src/interpret.jl:64\u001b[22m [inlined]\n",
      " [2] \u001b[1mgetargs\u001b[22m\u001b[1m(\u001b[22m::Array{Any,1}, ::JuliaInterpreter.Frame\u001b[1m)\u001b[22m at \u001b[1m/home/nathan/.julia/packages/JuliaInterpreter/Or807/src/builtins.jl:8\u001b[22m\n",
      " [3] \u001b[1mmaybe_evaluate_builtin\u001b[22m\u001b[1m(\u001b[22m::JuliaInterpreter.Frame, ::Expr, ::Bool\u001b[1m)\u001b[22m at \u001b[1m/home/nathan/.julia/packages/JuliaInterpreter/Or807/src/builtins.jl:86\u001b[22m\n",
      " [4] \u001b[1m#evaluate_call_recurse!#37\u001b[22m\u001b[1m(\u001b[22m::Bool, ::Function, ::Any, ::JuliaInterpreter.Frame, ::Expr\u001b[1m)\u001b[22m at \u001b[1m/home/nathan/.julia/packages/JuliaInterpreter/Or807/src/interpret.jl:209\u001b[22m\n",
      " [5] \u001b[1mevaluate_call_recurse!\u001b[22m at \u001b[1m/home/nathan/.julia/packages/JuliaInterpreter/Or807/src/interpret.jl:206\u001b[22m [inlined]\n",
      " [6] \u001b[1meval_rhs\u001b[22m\u001b[1m(\u001b[22m::Any, ::JuliaInterpreter.Frame, ::Expr\u001b[1m)\u001b[22m at \u001b[1m/home/nathan/.julia/packages/JuliaInterpreter/Or807/src/interpret.jl:381\u001b[22m\n",
      " [7] \u001b[1mstep_expr!\u001b[22m\u001b[1m(\u001b[22m::Any, ::JuliaInterpreter.Frame, ::Any, ::Bool\u001b[1m)\u001b[22m at \u001b[1m/home/nathan/.julia/packages/JuliaInterpreter/Or807/src/interpret.jl:509\u001b[22m\n",
      " [8] \u001b[1msignature\u001b[22m\u001b[1m(\u001b[22m::Any, ::JuliaInterpreter.Frame, ::Any, ::Int64\u001b[1m)\u001b[22m at \u001b[1m/home/nathan/.julia/packages/LoweredCodeUtils/6EZqd/src/LoweredCodeUtils.jl:146\u001b[22m\n",
      " [9] \u001b[1m#methoddef!#3\u001b[22m\u001b[1m(\u001b[22m::Bool, ::Function, ::Any, ::Array{Any,1}, ::JuliaInterpreter.Frame, ::Any, ::Int64\u001b[1m)\u001b[22m at \u001b[1m/home/nathan/.julia/packages/LoweredCodeUtils/6EZqd/src/LoweredCodeUtils.jl:420\u001b[22m\n",
      " [10] \u001b[1m(::getfield(LoweredCodeUtils, Symbol(\"#kw##methoddef!\")))\u001b[22m\u001b[1m(\u001b[22m::NamedTuple{(:define,),Tuple{Bool}}, ::typeof(LoweredCodeUtils.methoddef!), ::Function, ::Array{Any,1}, ::JuliaInterpreter.Frame, ::Expr, ::Int64\u001b[1m)\u001b[22m at \u001b[1m./none:0\u001b[22m\n",
      " [11] \u001b[1m#methods_by_execution!#14\u001b[22m\u001b[1m(\u001b[22m::Bool, ::Bool, ::Function, ::Any, ::Revise.CodeTrackingMethodInfo, ::Dict{Module,Array{Expr,1}}, ::JuliaInterpreter.Frame\u001b[1m)\u001b[22m at \u001b[1m/home/nathan/.julia/packages/Revise/agmgx/src/lowered.jl:81\u001b[22m\n",
      " [12] \u001b[1m#methods_by_execution!\u001b[22m at \u001b[1m./none:0\u001b[22m [inlined]\n",
      " [13] \u001b[1m#methods_by_execution!#9\u001b[22m\u001b[1m(\u001b[22m::Base.Iterators.Pairs{Symbol,Bool,Tuple{Symbol},NamedTuple{(:define,),Tuple{Bool}}}, ::Function, ::Any, ::Revise.CodeTrackingMethodInfo, ::Dict{Module,Array{Expr,1}}, ::Module, ::Expr\u001b[1m)\u001b[22m at \u001b[1m/home/nathan/.julia/packages/Revise/agmgx/src/lowered.jl:49\u001b[22m\n",
      " [14] \u001b[1m#methods_by_execution!\u001b[22m at \u001b[1m./none:0\u001b[22m [inlined]\n",
      " [15] \u001b[1m#eval_with_signatures#59\u001b[22m at \u001b[1m/home/nathan/.julia/packages/Revise/agmgx/src/Revise.jl:344\u001b[22m [inlined]\n",
      " [16] \u001b[1m#eval_with_signatures\u001b[22m at \u001b[1m./none:0\u001b[22m [inlined]\n",
      " [17] \u001b[1m#instantiate_sigs!#60\u001b[22m\u001b[1m(\u001b[22m::Bool, ::Base.Iterators.Pairs{Union{},Union{},Tuple{},NamedTuple{(),Tuple{}}}, ::Function, ::OrderedCollections.OrderedDict{Module,OrderedCollections.OrderedDict{Revise.RelocatableExpr,Union{Nothing, Array{Any,1}}}}\u001b[1m)\u001b[22m at \u001b[1m/home/nathan/.julia/packages/Revise/agmgx/src/Revise.jl:352\u001b[22m\n",
      " [18] \u001b[1minstantiate_sigs!\u001b[22m at \u001b[1m/home/nathan/.julia/packages/Revise/agmgx/src/Revise.jl:349\u001b[22m [inlined]\n",
      " [19] \u001b[1mmaybe_parse_from_cache!\u001b[22m\u001b[1m(\u001b[22m::Revise.PkgData, ::String\u001b[1m)\u001b[22m at \u001b[1m/home/nathan/.julia/packages/Revise/agmgx/src/pkgs.jl:224\u001b[22m\n",
      " [20] \u001b[1m(::getfield(Revise, Symbol(\"##26#27\")){String})\u001b[22m\u001b[1m(\u001b[22m\u001b[1m)\u001b[22m at \u001b[1m/home/nathan/.julia/packages/Revise/agmgx/src/pkgs.jl:370\u001b[22m\n",
      " [21] \u001b[1mwith_logstate\u001b[22m\u001b[1m(\u001b[22m::getfield(Revise, Symbol(\"##26#27\")){String}, ::Base.CoreLogging.LogState\u001b[1m)\u001b[22m at \u001b[1m./logging.jl:395\u001b[22m\n",
      " [22] \u001b[1mwith_logger\u001b[22m at \u001b[1m./logging.jl:491\u001b[22m [inlined]\n",
      " [23] \u001b[1mwatch_manifest\u001b[22m\u001b[1m(\u001b[22m::String\u001b[1m)\u001b[22m at \u001b[1m/home/nathan/.julia/packages/Revise/agmgx/src/pkgs.jl:349\u001b[22m\n",
      " [24] \u001b[1m(::Revise.Rescheduler{typeof(Revise.watch_manifest),Tuple{String}})\u001b[22m\u001b[1m(\u001b[22m\u001b[1m)\u001b[22m at \u001b[1m/home/nathan/.julia/packages/Revise/agmgx/src/types.jl:235\u001b[22m\n",
      "while evaluating\n",
      "(eltype(::Type{FixedArray{T, D}}) where {T, D}) = begin\n",
      "        #= /home/nathan/.julia/packages/HDF5/2gJEi/src/HDF5.jl:501 =#\n",
      "        T\n",
      "    end\n",
      "in module Main.HDF5\n",
      "\u001b[91mUndefVarError: HDF5Vlen not defined\u001b[39m\n",
      "Stacktrace:\n",
      " [1] \u001b[1m#collect_args#33\u001b[22m\u001b[1m(\u001b[22m::Bool, ::Function, ::JuliaInterpreter.Frame, ::Expr\u001b[1m)\u001b[22m at \u001b[1m/home/nathan/.julia/packages/JuliaInterpreter/Or807/src/interpret.jl:64\u001b[22m\n",
      " [2] \u001b[1mcollect_args\u001b[22m at \u001b[1m/home/nathan/.julia/packages/JuliaInterpreter/Or807/src/interpret.jl:139\u001b[22m [inlined]\n",
      " [3] \u001b[1mlookup_callexpr\u001b[22m at \u001b[1m/home/nathan/.julia/packages/Revise/agmgx/src/lowered.jl:13\u001b[22m [inlined]\n",
      " [4] \u001b[1m#methods_by_execution!#14\u001b[22m\u001b[1m(\u001b[22m::Bool, ::Bool, ::Function, ::Any, ::Revise.CodeTrackingMethodInfo, ::Dict{Module,Array{Expr,1}}, ::JuliaInterpreter.Frame\u001b[1m)\u001b[22m at \u001b[1m/home/nathan/.julia/packages/Revise/agmgx/src/lowered.jl:187\u001b[22m\n",
      " [5] \u001b[1m#methods_by_execution!\u001b[22m at \u001b[1m./none:0\u001b[22m [inlined]\n",
      " [6] \u001b[1m#methods_by_execution!#9\u001b[22m\u001b[1m(\u001b[22m::Base.Iterators.Pairs{Symbol,Bool,Tuple{Symbol},NamedTuple{(:define,),Tuple{Bool}}}, ::Function, ::Any, ::Revise.CodeTrackingMethodInfo, ::Dict{Module,Array{Expr,1}}, ::Module, ::Expr\u001b[1m)\u001b[22m at \u001b[1m/home/nathan/.julia/packages/Revise/agmgx/src/lowered.jl:49\u001b[22m\n",
      " [7] \u001b[1m#methods_by_execution!\u001b[22m at \u001b[1m./none:0\u001b[22m [inlined]\n",
      " [8] \u001b[1m#eval_with_signatures#59\u001b[22m at \u001b[1m/home/nathan/.julia/packages/Revise/agmgx/src/Revise.jl:344\u001b[22m [inlined]\n",
      " [9] \u001b[1m#eval_with_signatures\u001b[22m at \u001b[1m./none:0\u001b[22m [inlined]\n",
      " [10] \u001b[1m#instantiate_sigs!#60\u001b[22m\u001b[1m(\u001b[22m::Bool, ::Base.Iterators.Pairs{Union{},Union{},Tuple{},NamedTuple{(),Tuple{}}}, ::Function, ::OrderedCollections.OrderedDict{Module,OrderedCollections.OrderedDict{Revise.RelocatableExpr,Union{Nothing, Array{Any,1}}}}\u001b[1m)\u001b[22m at \u001b[1m/home/nathan/.julia/packages/Revise/agmgx/src/Revise.jl:352\u001b[22m\n",
      " [11] \u001b[1minstantiate_sigs!\u001b[22m at \u001b[1m/home/nathan/.julia/packages/Revise/agmgx/src/Revise.jl:349\u001b[22m [inlined]\n",
      " [12] \u001b[1mmaybe_parse_from_cache!\u001b[22m\u001b[1m(\u001b[22m::Revise.PkgData, ::String\u001b[1m)\u001b[22m at \u001b[1m/home/nathan/.julia/packages/Revise/agmgx/src/pkgs.jl:224\u001b[22m\n",
      " [13] \u001b[1m(::getfield(Revise, Symbol(\"##26#27\")){String})\u001b[22m\u001b[1m(\u001b[22m\u001b[1m)\u001b[22m at \u001b[1m/home/nathan/.julia/packages/Revise/agmgx/src/pkgs.jl:370\u001b[22m\n",
      " [14] \u001b[1mwith_logstate\u001b[22m\u001b[1m(\u001b[22m::getfield(Revise, Symbol(\"##26#27\")){String}, ::Base.CoreLogging.LogState\u001b[1m)\u001b[22m at \u001b[1m./logging.jl:395\u001b[22m\n",
      " [15] \u001b[1mwith_logger\u001b[22m at \u001b[1m./logging.jl:491\u001b[22m [inlined]\n",
      " [16] \u001b[1mwatch_manifest\u001b[22m\u001b[1m(\u001b[22m::String\u001b[1m)\u001b[22m at \u001b[1m/home/nathan/.julia/packages/Revise/agmgx/src/pkgs.jl:349\u001b[22m\n"
     ]
    },
    {
     "name": "stderr",
     "output_type": "stream",
     "text": [
      " [17] \u001b[1m(::Revise.Rescheduler{typeof(Revise.watch_manifest),Tuple{String}})\u001b[22m\u001b[1m(\u001b[22m\u001b[1m)\u001b[22m at \u001b[1m/home/nathan/.julia/packages/Revise/agmgx/src/types.jl:235\u001b[22m\n",
      "while evaluating\n",
      "struct HDF5Vlen{T}\n",
      "    #= /home/nathan/.julia/packages/HDF5/2gJEi/src/HDF5.jl:505 =#\n",
      "    data\n",
      "end\n",
      "in module Main.HDF5\n",
      "\u001b[91mUndefVarError: HDF5Scalar not defined\u001b[39m\n",
      "Stacktrace:\n",
      " [1] \u001b[1m#collect_args#33\u001b[22m\u001b[1m(\u001b[22m::Bool, ::Function, ::JuliaInterpreter.Frame, ::Expr\u001b[1m)\u001b[22m at \u001b[1m/home/nathan/.julia/packages/JuliaInterpreter/Or807/src/interpret.jl:64\u001b[22m\n",
      " [2] \u001b[1mcollect_args\u001b[22m at \u001b[1m/home/nathan/.julia/packages/JuliaInterpreter/Or807/src/interpret.jl:139\u001b[22m [inlined]\n",
      " [3] \u001b[1m#evaluate_call_recurse!#37\u001b[22m\u001b[1m(\u001b[22m::Bool, ::Function, ::Any, ::JuliaInterpreter.Frame, ::Expr\u001b[1m)\u001b[22m at \u001b[1m/home/nathan/.julia/packages/JuliaInterpreter/Or807/src/interpret.jl:212\u001b[22m\n",
      " [4] \u001b[1mevaluate_call_recurse!\u001b[22m at \u001b[1m/home/nathan/.julia/packages/JuliaInterpreter/Or807/src/interpret.jl:206\u001b[22m [inlined]\n",
      " [5] \u001b[1meval_rhs\u001b[22m\u001b[1m(\u001b[22m::Any, ::JuliaInterpreter.Frame, ::Expr\u001b[1m)\u001b[22m at \u001b[1m/home/nathan/.julia/packages/JuliaInterpreter/Or807/src/interpret.jl:381\u001b[22m\n",
      " [6] \u001b[1mstep_expr!\u001b[22m\u001b[1m(\u001b[22m::Any, ::JuliaInterpreter.Frame, ::Any, ::Bool\u001b[1m)\u001b[22m at \u001b[1m/home/nathan/.julia/packages/JuliaInterpreter/Or807/src/interpret.jl:509\u001b[22m\n",
      " [7] \u001b[1msignature\u001b[22m\u001b[1m(\u001b[22m::Any, ::JuliaInterpreter.Frame, ::Any, ::Int64\u001b[1m)\u001b[22m at \u001b[1m/home/nathan/.julia/packages/LoweredCodeUtils/6EZqd/src/LoweredCodeUtils.jl:146\u001b[22m\n",
      " [8] \u001b[1m#methoddef!#3\u001b[22m\u001b[1m(\u001b[22m::Bool, ::Function, ::Any, ::Array{Any,1}, ::JuliaInterpreter.Frame, ::Any, ::Int64\u001b[1m)\u001b[22m at \u001b[1m/home/nathan/.julia/packages/LoweredCodeUtils/6EZqd/src/LoweredCodeUtils.jl:420\u001b[22m\n",
      " [9] \u001b[1m(::getfield(LoweredCodeUtils, Symbol(\"#kw##methoddef!\")))\u001b[22m\u001b[1m(\u001b[22m::NamedTuple{(:define,),Tuple{Bool}}, ::typeof(LoweredCodeUtils.methoddef!), ::Function, ::Array{Any,1}, ::JuliaInterpreter.Frame, ::Expr, ::Int64\u001b[1m)\u001b[22m at \u001b[1m./none:0\u001b[22m\n",
      " [10] \u001b[1m#methods_by_execution!#14\u001b[22m\u001b[1m(\u001b[22m::Bool, ::Bool, ::Function, ::Any, ::Revise.CodeTrackingMethodInfo, ::Dict{Module,Array{Expr,1}}, ::JuliaInterpreter.Frame\u001b[1m)\u001b[22m at \u001b[1m/home/nathan/.julia/packages/Revise/agmgx/src/lowered.jl:81\u001b[22m\n",
      " [11] \u001b[1m#methods_by_execution!\u001b[22m at \u001b[1m./none:0\u001b[22m [inlined]\n",
      " [12] \u001b[1m#methods_by_execution!#9\u001b[22m\u001b[1m(\u001b[22m::Base.Iterators.Pairs{Symbol,Bool,Tuple{Symbol},NamedTuple{(:define,),Tuple{Bool}}}, ::Function, ::Any, ::Revise.CodeTrackingMethodInfo, ::Dict{Module,Array{Expr,1}}, ::Module, ::Expr\u001b[1m)\u001b[22m at \u001b[1m/home/nathan/.julia/packages/Revise/agmgx/src/lowered.jl:49\u001b[22m\n",
      " [13] \u001b[1m#methods_by_execution!\u001b[22m at \u001b[1m./none:0\u001b[22m [inlined]\n",
      " [14] \u001b[1m#eval_with_signatures#59\u001b[22m at \u001b[1m/home/nathan/.julia/packages/Revise/agmgx/src/Revise.jl:344\u001b[22m [inlined]\n",
      " [15] \u001b[1m#eval_with_signatures\u001b[22m at \u001b[1m./none:0\u001b[22m [inlined]\n",
      " [16] \u001b[1m#instantiate_sigs!#60\u001b[22m\u001b[1m(\u001b[22m::Bool, ::Base.Iterators.Pairs{Union{},Union{},Tuple{},NamedTuple{(),Tuple{}}}, ::Function, ::OrderedCollections.OrderedDict{Module,OrderedCollections.OrderedDict{Revise.RelocatableExpr,Union{Nothing, Array{Any,1}}}}\u001b[1m)\u001b[22m at \u001b[1m/home/nathan/.julia/packages/Revise/agmgx/src/Revise.jl:352\u001b[22m\n",
      " [17] \u001b[1minstantiate_sigs!\u001b[22m at \u001b[1m/home/nathan/.julia/packages/Revise/agmgx/src/Revise.jl:349\u001b[22m [inlined]\n",
      " [18] \u001b[1mmaybe_parse_from_cache!\u001b[22m\u001b[1m(\u001b[22m::Revise.PkgData, ::String\u001b[1m)\u001b[22m at \u001b[1m/home/nathan/.julia/packages/Revise/agmgx/src/pkgs.jl:224\u001b[22m\n",
      " [19] \u001b[1m(::getfield(Revise, Symbol(\"##26#27\")){String})\u001b[22m\u001b[1m(\u001b[22m\u001b[1m)\u001b[22m at \u001b[1m/home/nathan/.julia/packages/Revise/agmgx/src/pkgs.jl:370\u001b[22m\n",
      " [20] \u001b[1mwith_logstate\u001b[22m\u001b[1m(\u001b[22m::getfield(Revise, Symbol(\"##26#27\")){String}, ::Base.CoreLogging.LogState\u001b[1m)\u001b[22m at \u001b[1m./logging.jl:395\u001b[22m\n",
      " [21] \u001b[1mwith_logger\u001b[22m at \u001b[1m./logging.jl:491\u001b[22m [inlined]\n",
      " [22] \u001b[1mwatch_manifest\u001b[22m\u001b[1m(\u001b[22m::String\u001b[1m)\u001b[22m at \u001b[1m/home/nathan/.julia/packages/Revise/agmgx/src/pkgs.jl:349\u001b[22m\n",
      " [23] \u001b[1m(::Revise.Rescheduler{typeof(Revise.watch_manifest),Tuple{String}})\u001b[22m\u001b[1m(\u001b[22m\u001b[1m)\u001b[22m at \u001b[1m/home/nathan/.julia/packages/Revise/agmgx/src/types.jl:235\u001b[22m\n",
      "while evaluating\n",
      "(HDF5Vlen(A::Array{Array{T}}) where T <: HDF5Scalar) = begin\n",
      "        #= /home/nathan/.julia/packages/HDF5/2gJEi/src/HDF5.jl:508 =#\n",
      "        HDF5Vlen{T}(A)\n",
      "    end\n",
      "in module Main.HDF5\n",
      "\u001b[91mUndefVarError: HDF5Scalar not defined\u001b[39m\n",
      "Stacktrace:\n",
      " [1] \u001b[1m#collect_args#33\u001b[22m\u001b[1m(\u001b[22m::Bool, ::Function, ::JuliaInterpreter.Frame, ::Expr\u001b[1m)\u001b[22m at \u001b[1m/home/nathan/.julia/packages/JuliaInterpreter/Or807/src/interpret.jl:64\u001b[22m\n",
      " [2] \u001b[1mcollect_args\u001b[22m at \u001b[1m/home/nathan/.julia/packages/JuliaInterpreter/Or807/src/interpret.jl:139\u001b[22m [inlined]\n",
      " [3] \u001b[1m#evaluate_call_recurse!#37\u001b[22m\u001b[1m(\u001b[22m::Bool, ::Function, ::Any, ::JuliaInterpreter.Frame, ::Expr\u001b[1m)\u001b[22m at \u001b[1m/home/nathan/.julia/packages/JuliaInterpreter/Or807/src/interpret.jl:212\u001b[22m\n",
      " [4] \u001b[1mevaluate_call_recurse!\u001b[22m at \u001b[1m/home/nathan/.julia/packages/JuliaInterpreter/Or807/src/interpret.jl:206\u001b[22m [inlined]\n",
      " [5] \u001b[1meval_rhs\u001b[22m\u001b[1m(\u001b[22m::Any, ::JuliaInterpreter.Frame, ::Expr\u001b[1m)\u001b[22m at \u001b[1m/home/nathan/.julia/packages/JuliaInterpreter/Or807/src/interpret.jl:381\u001b[22m\n",
      " [6] \u001b[1mstep_expr!\u001b[22m\u001b[1m(\u001b[22m::Any, ::JuliaInterpreter.Frame, ::Any, ::Bool\u001b[1m)\u001b[22m at \u001b[1m/home/nathan/.julia/packages/JuliaInterpreter/Or807/src/interpret.jl:509\u001b[22m\n",
      " [7] \u001b[1msignature\u001b[22m\u001b[1m(\u001b[22m::Any, ::JuliaInterpreter.Frame, ::Any, ::Int64\u001b[1m)\u001b[22m at \u001b[1m/home/nathan/.julia/packages/LoweredCodeUtils/6EZqd/src/LoweredCodeUtils.jl:146\u001b[22m\n",
      " [8] \u001b[1m#methoddef!#3\u001b[22m\u001b[1m(\u001b[22m::Bool, ::Function, ::Any, ::Array{Any,1}, ::JuliaInterpreter.Frame, ::Any, ::Int64\u001b[1m)\u001b[22m at \u001b[1m/home/nathan/.julia/packages/LoweredCodeUtils/6EZqd/src/LoweredCodeUtils.jl:420\u001b[22m\n",
      " [9] \u001b[1m(::getfield(LoweredCodeUtils, Symbol(\"#kw##methoddef!\")))\u001b[22m\u001b[1m(\u001b[22m::NamedTuple{(:define,),Tuple{Bool}}, ::typeof(LoweredCodeUtils.methoddef!), ::Function, ::Array{Any,1}, ::JuliaInterpreter.Frame, ::Expr, ::Int64\u001b[1m)\u001b[22m at \u001b[1m./none:0\u001b[22m\n",
      " [10] \u001b[1m#methods_by_execution!#14\u001b[22m\u001b[1m(\u001b[22m::Bool, ::Bool, ::Function, ::Any, ::Revise.CodeTrackingMethodInfo, ::Dict{Module,Array{Expr,1}}, ::JuliaInterpreter.Frame\u001b[1m)\u001b[22m at \u001b[1m/home/nathan/.julia/packages/Revise/agmgx/src/lowered.jl:81\u001b[22m\n",
      " [11] \u001b[1m#methods_by_execution!\u001b[22m at \u001b[1m./none:0\u001b[22m [inlined]\n",
      " [12] \u001b[1m#methods_by_execution!#9\u001b[22m\u001b[1m(\u001b[22m::Base.Iterators.Pairs{Symbol,Bool,Tuple{Symbol},NamedTuple{(:define,),Tuple{Bool}}}, ::Function, ::Any, ::Revise.CodeTrackingMethodInfo, ::Dict{Module,Array{Expr,1}}, ::Module, ::Expr\u001b[1m)\u001b[22m at \u001b[1m/home/nathan/.julia/packages/Revise/agmgx/src/lowered.jl:49\u001b[22m\n",
      " [13] \u001b[1m#methods_by_execution!\u001b[22m at \u001b[1m./none:0\u001b[22m [inlined]\n",
      " [14] \u001b[1m#eval_with_signatures#59\u001b[22m at \u001b[1m/home/nathan/.julia/packages/Revise/agmgx/src/Revise.jl:344\u001b[22m [inlined]\n",
      " [15] \u001b[1m#eval_with_signatures\u001b[22m at \u001b[1m./none:0\u001b[22m [inlined]\n",
      " [16] \u001b[1m#instantiate_sigs!#60\u001b[22m\u001b[1m(\u001b[22m::Bool, ::Base.Iterators.Pairs{Union{},Union{},Tuple{},NamedTuple{(),Tuple{}}}, ::Function, ::OrderedCollections.OrderedDict{Module,OrderedCollections.OrderedDict{Revise.RelocatableExpr,Union{Nothing, Array{Any,1}}}}\u001b[1m)\u001b[22m at \u001b[1m/home/nathan/.julia/packages/Revise/agmgx/src/Revise.jl:352\u001b[22m\n",
      " [17] \u001b[1minstantiate_sigs!\u001b[22m at \u001b[1m/home/nathan/.julia/packages/Revise/agmgx/src/Revise.jl:349\u001b[22m [inlined]\n",
      " [18] \u001b[1mmaybe_parse_from_cache!\u001b[22m\u001b[1m(\u001b[22m::Revise.PkgData, ::String\u001b[1m)\u001b[22m at \u001b[1m/home/nathan/.julia/packages/Revise/agmgx/src/pkgs.jl:224\u001b[22m\n",
      " [19] \u001b[1m(::getfield(Revise, Symbol(\"##26#27\")){String})\u001b[22m\u001b[1m(\u001b[22m\u001b[1m)\u001b[22m at \u001b[1m/home/nathan/.julia/packages/Revise/agmgx/src/pkgs.jl:370\u001b[22m\n",
      " [20] \u001b[1mwith_logstate\u001b[22m\u001b[1m(\u001b[22m::getfield(Revise, Symbol(\"##26#27\")){String}, ::Base.CoreLogging.LogState\u001b[1m)\u001b[22m at \u001b[1m./logging.jl:395\u001b[22m\n",
      " [21] \u001b[1mwith_logger\u001b[22m at \u001b[1m./logging.jl:491\u001b[22m [inlined]\n",
      " [22] \u001b[1mwatch_manifest\u001b[22m\u001b[1m(\u001b[22m::String\u001b[1m)\u001b[22m at \u001b[1m/home/nathan/.julia/packages/Revise/agmgx/src/pkgs.jl:349\u001b[22m\n",
      " [23] \u001b[1m(::Revise.Rescheduler{typeof(Revise.watch_manifest),Tuple{String}})\u001b[22m\u001b[1m(\u001b[22m\u001b[1m)\u001b[22m at \u001b[1m/home/nathan/.julia/packages/Revise/agmgx/src/types.jl:235\u001b[22m\n",
      "while evaluating\n",
      "(HDF5Vlen(A::Array{Array{T, N}}) where {T <: HDF5Scalar, N}) = begin\n",
      "        #= /home/nathan/.julia/packages/HDF5/2gJEi/src/HDF5.jl:509 =#\n",
      "        HDF5Vlen{T}(A)\n",
      "    end\n",
      "in module Main.HDF5\n",
      "\u001b[91mUndefVarError: HDF5Scalar not defined\u001b[39m\n"
     ]
    },
    {
     "name": "stderr",
     "output_type": "stream",
     "text": [
      "Stacktrace:\n",
      " [1] \u001b[1mmacro expansion\u001b[22m at \u001b[1m/home/nathan/.julia/packages/JuliaInterpreter/Or807/src/interpret.jl:64\u001b[22m [inlined]\n",
      " [2] \u001b[1mgetargs\u001b[22m\u001b[1m(\u001b[22m::Array{Any,1}, ::JuliaInterpreter.Frame\u001b[1m)\u001b[22m at \u001b[1m/home/nathan/.julia/packages/JuliaInterpreter/Or807/src/builtins.jl:8\u001b[22m\n",
      " [3] \u001b[1mmaybe_evaluate_builtin\u001b[22m\u001b[1m(\u001b[22m::JuliaInterpreter.Frame, ::Expr, ::Bool\u001b[1m)\u001b[22m at \u001b[1m/home/nathan/.julia/packages/JuliaInterpreter/Or807/src/builtins.jl:86\u001b[22m\n",
      " [4] \u001b[1m#evaluate_call_recurse!#37\u001b[22m\u001b[1m(\u001b[22m::Bool, ::Function, ::Any, ::JuliaInterpreter.Frame, ::Expr\u001b[1m)\u001b[22m at \u001b[1m/home/nathan/.julia/packages/JuliaInterpreter/Or807/src/interpret.jl:209\u001b[22m\n",
      " [5] \u001b[1mevaluate_call_recurse!\u001b[22m at \u001b[1m/home/nathan/.julia/packages/JuliaInterpreter/Or807/src/interpret.jl:206\u001b[22m [inlined]\n",
      " [6] \u001b[1meval_rhs\u001b[22m\u001b[1m(\u001b[22m::Any, ::JuliaInterpreter.Frame, ::Expr\u001b[1m)\u001b[22m at \u001b[1m/home/nathan/.julia/packages/JuliaInterpreter/Or807/src/interpret.jl:381\u001b[22m\n",
      " [7] \u001b[1mstep_expr!\u001b[22m\u001b[1m(\u001b[22m::Any, ::JuliaInterpreter.Frame, ::Any, ::Bool\u001b[1m)\u001b[22m at \u001b[1m/home/nathan/.julia/packages/JuliaInterpreter/Or807/src/interpret.jl:509\u001b[22m\n",
      " [8] \u001b[1msignature\u001b[22m\u001b[1m(\u001b[22m::Any, ::JuliaInterpreter.Frame, ::Any, ::Int64\u001b[1m)\u001b[22m at \u001b[1m/home/nathan/.julia/packages/LoweredCodeUtils/6EZqd/src/LoweredCodeUtils.jl:146\u001b[22m\n",
      " [9] \u001b[1m#methoddef!#3\u001b[22m\u001b[1m(\u001b[22m::Bool, ::Function, ::Any, ::Array{Any,1}, ::JuliaInterpreter.Frame, ::Any, ::Int64\u001b[1m)\u001b[22m at \u001b[1m/home/nathan/.julia/packages/LoweredCodeUtils/6EZqd/src/LoweredCodeUtils.jl:420\u001b[22m\n",
      " [10] \u001b[1m(::getfield(LoweredCodeUtils, Symbol(\"#kw##methoddef!\")))\u001b[22m\u001b[1m(\u001b[22m::NamedTuple{(:define,),Tuple{Bool}}, ::typeof(LoweredCodeUtils.methoddef!), ::Function, ::Array{Any,1}, ::JuliaInterpreter.Frame, ::Expr, ::Int64\u001b[1m)\u001b[22m at \u001b[1m./none:0\u001b[22m\n",
      " [11] \u001b[1m#methods_by_execution!#14\u001b[22m\u001b[1m(\u001b[22m::Bool, ::Bool, ::Function, ::Any, ::Revise.CodeTrackingMethodInfo, ::Dict{Module,Array{Expr,1}}, ::JuliaInterpreter.Frame\u001b[1m)\u001b[22m at \u001b[1m/home/nathan/.julia/packages/Revise/agmgx/src/lowered.jl:81\u001b[22m\n",
      " [12] \u001b[1m#methods_by_execution!\u001b[22m at \u001b[1m./none:0\u001b[22m [inlined]\n",
      " [13] \u001b[1m#methods_by_execution!#9\u001b[22m\u001b[1m(\u001b[22m::Base.Iterators.Pairs{Symbol,Bool,Tuple{Symbol},NamedTuple{(:define,),Tuple{Bool}}}, ::Function, ::Any, ::Revise.CodeTrackingMethodInfo, ::Dict{Module,Array{Expr,1}}, ::Module, ::Expr\u001b[1m)\u001b[22m at \u001b[1m/home/nathan/.julia/packages/Revise/agmgx/src/lowered.jl:49\u001b[22m\n",
      " [14] \u001b[1m#methods_by_execution!\u001b[22m at \u001b[1m./none:0\u001b[22m [inlined]\n",
      " [15] \u001b[1m#eval_with_signatures#59\u001b[22m at \u001b[1m/home/nathan/.julia/packages/Revise/agmgx/src/Revise.jl:344\u001b[22m [inlined]\n",
      " [16] \u001b[1m#eval_with_signatures\u001b[22m at \u001b[1m./none:0\u001b[22m [inlined]\n",
      " [17] \u001b[1m#instantiate_sigs!#60\u001b[22m\u001b[1m(\u001b[22m::Bool, ::Base.Iterators.Pairs{Union{},Union{},Tuple{},NamedTuple{(),Tuple{}}}, ::Function, ::OrderedCollections.OrderedDict{Module,OrderedCollections.OrderedDict{Revise.RelocatableExpr,Union{Nothing, Array{Any,1}}}}\u001b[1m)\u001b[22m at \u001b[1m/home/nathan/.julia/packages/Revise/agmgx/src/Revise.jl:352\u001b[22m\n",
      " [18] \u001b[1minstantiate_sigs!\u001b[22m at \u001b[1m/home/nathan/.julia/packages/Revise/agmgx/src/Revise.jl:349\u001b[22m [inlined]\n",
      " [19] \u001b[1mmaybe_parse_from_cache!\u001b[22m\u001b[1m(\u001b[22m::Revise.PkgData, ::String\u001b[1m)\u001b[22m at \u001b[1m/home/nathan/.julia/packages/Revise/agmgx/src/pkgs.jl:224\u001b[22m\n",
      " [20] \u001b[1m(::getfield(Revise, Symbol(\"##26#27\")){String})\u001b[22m\u001b[1m(\u001b[22m\u001b[1m)\u001b[22m at \u001b[1m/home/nathan/.julia/packages/Revise/agmgx/src/pkgs.jl:370\u001b[22m\n",
      " [21] \u001b[1mwith_logstate\u001b[22m\u001b[1m(\u001b[22m::getfield(Revise, Symbol(\"##26#27\")){String}, ::Base.CoreLogging.LogState\u001b[1m)\u001b[22m at \u001b[1m./logging.jl:395\u001b[22m\n",
      " [22] \u001b[1mwith_logger\u001b[22m at \u001b[1m./logging.jl:491\u001b[22m [inlined]\n",
      " [23] \u001b[1mwatch_manifest\u001b[22m\u001b[1m(\u001b[22m::String\u001b[1m)\u001b[22m at \u001b[1m/home/nathan/.julia/packages/Revise/agmgx/src/pkgs.jl:349\u001b[22m\n",
      " [24] \u001b[1m(::Revise.Rescheduler{typeof(Revise.watch_manifest),Tuple{String}})\u001b[22m\u001b[1m(\u001b[22m\u001b[1m)\u001b[22m at \u001b[1m/home/nathan/.julia/packages/Revise/agmgx/src/types.jl:235\u001b[22m\n",
      "while evaluating\n",
      "function vlenpack(v::HDF5Vlen{T}) where T <: Union{HDF5Scalar, CharType}\n",
      "    #= /home/nathan/.julia/packages/HDF5/2gJEi/src/HDF5.jl:519 =#\n",
      "    len = length(v.data)\n",
      "    #= /home/nathan/.julia/packages/HDF5/2gJEi/src/HDF5.jl:520 =#\n",
      "    Tp = t2p(T)\n",
      "    #= /home/nathan/.julia/packages/HDF5/2gJEi/src/HDF5.jl:521 =#\n",
      "    h = Vector{Hvl_t}(undef, len)\n",
      "    #= /home/nathan/.julia/packages/HDF5/2gJEi/src/HDF5.jl:522 =#\n",
      "    for i = 1:len\n",
      "        #= /home/nathan/.julia/packages/HDF5/2gJEi/src/HDF5.jl:523 =#\n",
      "        h[i] = Hvl_t(convert(Csize_t, length(v.data[i])), convert(Ptr{Cvoid}, unsafe_convert(Tp, v.data[i])))\n",
      "    end\n",
      "    #= /home/nathan/.julia/packages/HDF5/2gJEi/src/HDF5.jl:525 =#\n",
      "    h\n",
      "end\n",
      "in module Main.HDF5\n",
      "\u001b[91mUndefVarError: Hsize not defined\u001b[39m\n",
      "Stacktrace:\n",
      " [1] \u001b[1mmacro expansion\u001b[22m at \u001b[1m/home/nathan/.julia/packages/JuliaInterpreter/Or807/src/interpret.jl:64\u001b[22m [inlined]\n",
      " [2] \u001b[1mgetargs\u001b[22m\u001b[1m(\u001b[22m::Array{Any,1}, ::JuliaInterpreter.Frame\u001b[1m)\u001b[22m at \u001b[1m/home/nathan/.julia/packages/JuliaInterpreter/Or807/src/builtins.jl:8\u001b[22m\n",
      " [3] \u001b[1mmaybe_evaluate_builtin\u001b[22m\u001b[1m(\u001b[22m::JuliaInterpreter.Frame, ::Expr, ::Bool\u001b[1m)\u001b[22m at \u001b[1m/home/nathan/.julia/packages/JuliaInterpreter/Or807/src/builtins.jl:136\u001b[22m\n",
      " [4] \u001b[1m#evaluate_call_recurse!#37\u001b[22m\u001b[1m(\u001b[22m::Bool, ::Function, ::Any, ::JuliaInterpreter.Frame, ::Expr\u001b[1m)\u001b[22m at \u001b[1m/home/nathan/.julia/packages/JuliaInterpreter/Or807/src/interpret.jl:209\u001b[22m\n",
      " [5] \u001b[1mevaluate_call_recurse!\u001b[22m at \u001b[1m/home/nathan/.julia/packages/JuliaInterpreter/Or807/src/interpret.jl:206\u001b[22m [inlined]\n",
      " [6] \u001b[1meval_rhs\u001b[22m\u001b[1m(\u001b[22m::Any, ::JuliaInterpreter.Frame, ::Expr\u001b[1m)\u001b[22m at \u001b[1m/home/nathan/.julia/packages/JuliaInterpreter/Or807/src/interpret.jl:381\u001b[22m\n",
      " [7] \u001b[1mstep_expr!\u001b[22m\u001b[1m(\u001b[22m::Any, ::JuliaInterpreter.Frame, ::Any, ::Bool\u001b[1m)\u001b[22m at \u001b[1m/home/nathan/.julia/packages/JuliaInterpreter/Or807/src/interpret.jl:509\u001b[22m\n",
      " [8] \u001b[1msignature\u001b[22m\u001b[1m(\u001b[22m::Any, ::JuliaInterpreter.Frame, ::Any, ::Int64\u001b[1m)\u001b[22m at \u001b[1m/home/nathan/.julia/packages/LoweredCodeUtils/6EZqd/src/LoweredCodeUtils.jl:146\u001b[22m\n",
      " [9] \u001b[1m#methoddef!#3\u001b[22m\u001b[1m(\u001b[22m::Bool, ::Function, ::Any, ::Array{Any,1}, ::JuliaInterpreter.Frame, ::Any, ::Int64\u001b[1m)\u001b[22m at \u001b[1m/home/nathan/.julia/packages/LoweredCodeUtils/6EZqd/src/LoweredCodeUtils.jl:420\u001b[22m\n",
      " [10] \u001b[1m(::getfield(LoweredCodeUtils, Symbol(\"#kw##methoddef!\")))\u001b[22m\u001b[1m(\u001b[22m::NamedTuple{(:define,),Tuple{Bool}}, ::typeof(LoweredCodeUtils.methoddef!), ::Function, ::Array{Any,1}, ::JuliaInterpreter.Frame, ::Expr, ::Int64\u001b[1m)\u001b[22m at \u001b[1m./none:0\u001b[22m\n",
      " [11] \u001b[1m#methods_by_execution!#14\u001b[22m\u001b[1m(\u001b[22m::Bool, ::Bool, ::Function, ::Any, ::Revise.CodeTrackingMethodInfo, ::Dict{Module,Array{Expr,1}}, ::JuliaInterpreter.Frame\u001b[1m)\u001b[22m at \u001b[1m/home/nathan/.julia/packages/Revise/agmgx/src/lowered.jl:81\u001b[22m\n",
      " [12] \u001b[1m#methods_by_execution!\u001b[22m at \u001b[1m./none:0\u001b[22m [inlined]\n",
      " [13] \u001b[1m#methods_by_execution!#9\u001b[22m\u001b[1m(\u001b[22m::Base.Iterators.Pairs{Symbol,Bool,Tuple{Symbol},NamedTuple{(:define,),Tuple{Bool}}}, ::Function, ::Any, ::Revise.CodeTrackingMethodInfo, ::Dict{Module,Array{Expr,1}}, ::Module, ::Expr\u001b[1m)\u001b[22m at \u001b[1m/home/nathan/.julia/packages/Revise/agmgx/src/lowered.jl:49\u001b[22m\n",
      " [14] \u001b[1m#methods_by_execution!\u001b[22m at \u001b[1m./none:0\u001b[22m [inlined]\n",
      " [15] \u001b[1m#eval_with_signatures#59\u001b[22m at \u001b[1m/home/nathan/.julia/packages/Revise/agmgx/src/Revise.jl:344\u001b[22m [inlined]\n",
      " [16] \u001b[1m#eval_with_signatures\u001b[22m at \u001b[1m./none:0\u001b[22m [inlined]\n",
      " [17] \u001b[1m#instantiate_sigs!#60\u001b[22m\u001b[1m(\u001b[22m::Bool, ::Base.Iterators.Pairs{Union{},Union{},Tuple{},NamedTuple{(),Tuple{}}}, ::Function, ::OrderedCollections.OrderedDict{Module,OrderedCollections.OrderedDict{Revise.RelocatableExpr,Union{Nothing, Array{Any,1}}}}\u001b[1m)\u001b[22m at \u001b[1m/home/nathan/.julia/packages/Revise/agmgx/src/Revise.jl:352\u001b[22m\n",
      " [18] \u001b[1minstantiate_sigs!\u001b[22m at \u001b[1m/home/nathan/.julia/packages/Revise/agmgx/src/Revise.jl:349\u001b[22m [inlined]\n",
      " [19] \u001b[1mmaybe_parse_from_cache!\u001b[22m\u001b[1m(\u001b[22m::Revise.PkgData, ::String\u001b[1m)\u001b[22m at \u001b[1m/home/nathan/.julia/packages/Revise/agmgx/src/pkgs.jl:224\u001b[22m\n",
      " [20] \u001b[1m(::getfield(Revise, Symbol(\"##26#27\")){String})\u001b[22m\u001b[1m(\u001b[22m\u001b[1m)\u001b[22m at \u001b[1m/home/nathan/.julia/packages/Revise/agmgx/src/pkgs.jl:370\u001b[22m\n",
      " [21] \u001b[1mwith_logstate\u001b[22m\u001b[1m(\u001b[22m::getfield(Revise, Symbol(\"##26#27\")){String}, ::Base.CoreLogging.LogState\u001b[1m)\u001b[22m at \u001b[1m./logging.jl:395\u001b[22m\n",
      " [22] \u001b[1mwith_logger\u001b[22m at \u001b[1m./logging.jl:491\u001b[22m [inlined]\n",
      " [23] \u001b[1mwatch_manifest\u001b[22m\u001b[1m(\u001b[22m::String\u001b[1m)\u001b[22m at \u001b[1m/home/nathan/.julia/packages/Revise/agmgx/src/pkgs.jl:349\u001b[22m\n",
      " [24] \u001b[1m(::Revise.Rescheduler{typeof(Revise.watch_manifest),Tuple{String}})\u001b[22m\u001b[1m(\u001b[22m\u001b[1m)\u001b[22m at \u001b[1m/home/nathan/.julia/packages/Revise/agmgx/src/types.jl:235\u001b[22m\n",
      "while evaluating\n",
      "struct H5Ginfo\n",
      "    #= /home/nathan/.julia/packages/HDF5/2gJEi/src/HDF5.jl:530 =#\n",
      "    storage_type::Cint\n",
      "    #= /home/nathan/.julia/packages/HDF5/2gJEi/src/HDF5.jl:531 =#\n",
      "    nlinks::Hsize\n",
      "    #= /home/nathan/.julia/packages/HDF5/2gJEi/src/HDF5.jl:532 =#\n",
      "    max_corder::Int64\n",
      "    #= /home/nathan/.julia/packages/HDF5/2gJEi/src/HDF5.jl:533 =#\n",
      "    mounted::Cint\n",
      "end\n",
      "in module Main.HDF5\n",
      "\u001b[91mUndefVarError: Hsize not defined\u001b[39m\n",
      "Stacktrace:\n",
      " [1] \u001b[1m#collect_args#33\u001b[22m\u001b[1m(\u001b[22m::Bool, ::Function, ::JuliaInterpreter.Frame, ::Expr\u001b[1m)\u001b[22m at \u001b[1m/home/nathan/.julia/packages/JuliaInterpreter/Or807/src/interpret.jl:64\u001b[22m\n",
      " [2] \u001b[1mcollect_args\u001b[22m at \u001b[1m/home/nathan/.julia/packages/JuliaInterpreter/Or807/src/interpret.jl:139\u001b[22m [inlined]\n",
      " [3] \u001b[1mlookup_callexpr\u001b[22m at \u001b[1m/home/nathan/.julia/packages/Revise/agmgx/src/lowered.jl:13\u001b[22m [inlined]\n",
      " [4] \u001b[1m#methods_by_execution!#14\u001b[22m\u001b[1m(\u001b[22m::Bool, ::Bool, ::Function, ::Any, ::Revise.CodeTrackingMethodInfo, ::Dict{Module,Array{Expr,1}}, ::JuliaInterpreter.Frame\u001b[1m)\u001b[22m at \u001b[1m/home/nathan/.julia/packages/Revise/agmgx/src/lowered.jl:187\u001b[22m\n",
      " [5] \u001b[1m#methods_by_execution!\u001b[22m at \u001b[1m./none:0\u001b[22m [inlined]\n"
     ]
    },
    {
     "name": "stderr",
     "output_type": "stream",
     "text": [
      " [6] \u001b[1m#methods_by_execution!#9\u001b[22m\u001b[1m(\u001b[22m::Base.Iterators.Pairs{Symbol,Bool,Tuple{Symbol},NamedTuple{(:define,),Tuple{Bool}}}, ::Function, ::Any, ::Revise.CodeTrackingMethodInfo, ::Dict{Module,Array{Expr,1}}, ::Module, ::Expr\u001b[1m)\u001b[22m at \u001b[1m/home/nathan/.julia/packages/Revise/agmgx/src/lowered.jl:49\u001b[22m\n",
      " [7] \u001b[1m#methods_by_execution!\u001b[22m at \u001b[1m./none:0\u001b[22m [inlined]\n",
      " [8] \u001b[1m#eval_with_signatures#59\u001b[22m at \u001b[1m/home/nathan/.julia/packages/Revise/agmgx/src/Revise.jl:344\u001b[22m [inlined]\n",
      " [9] \u001b[1m#eval_with_signatures\u001b[22m at \u001b[1m./none:0\u001b[22m [inlined]\n",
      " [10] \u001b[1m#instantiate_sigs!#60\u001b[22m\u001b[1m(\u001b[22m::Bool, ::Base.Iterators.Pairs{Union{},Union{},Tuple{},NamedTuple{(),Tuple{}}}, ::Function, ::OrderedCollections.OrderedDict{Module,OrderedCollections.OrderedDict{Revise.RelocatableExpr,Union{Nothing, Array{Any,1}}}}\u001b[1m)\u001b[22m at \u001b[1m/home/nathan/.julia/packages/Revise/agmgx/src/Revise.jl:352\u001b[22m\n",
      " [11] \u001b[1minstantiate_sigs!\u001b[22m at \u001b[1m/home/nathan/.julia/packages/Revise/agmgx/src/Revise.jl:349\u001b[22m [inlined]\n",
      " [12] \u001b[1mmaybe_parse_from_cache!\u001b[22m\u001b[1m(\u001b[22m::Revise.PkgData, ::String\u001b[1m)\u001b[22m at \u001b[1m/home/nathan/.julia/packages/Revise/agmgx/src/pkgs.jl:224\u001b[22m\n",
      " [13] \u001b[1m(::getfield(Revise, Symbol(\"##26#27\")){String})\u001b[22m\u001b[1m(\u001b[22m\u001b[1m)\u001b[22m at \u001b[1m/home/nathan/.julia/packages/Revise/agmgx/src/pkgs.jl:370\u001b[22m\n",
      " [14] \u001b[1mwith_logstate\u001b[22m\u001b[1m(\u001b[22m::getfield(Revise, Symbol(\"##26#27\")){String}, ::Base.CoreLogging.LogState\u001b[1m)\u001b[22m at \u001b[1m./logging.jl:395\u001b[22m\n",
      " [15] \u001b[1mwith_logger\u001b[22m at \u001b[1m./logging.jl:491\u001b[22m [inlined]\n",
      " [16] \u001b[1mwatch_manifest\u001b[22m\u001b[1m(\u001b[22m::String\u001b[1m)\u001b[22m at \u001b[1m/home/nathan/.julia/packages/Revise/agmgx/src/pkgs.jl:349\u001b[22m\n",
      " [17] \u001b[1m(::Revise.Rescheduler{typeof(Revise.watch_manifest),Tuple{String}})\u001b[22m\u001b[1m(\u001b[22m\u001b[1m)\u001b[22m at \u001b[1m/home/nathan/.julia/packages/Revise/agmgx/src/types.jl:235\u001b[22m\n",
      "while evaluating\n",
      "struct Hmetainfo\n",
      "    #= /home/nathan/.julia/packages/HDF5/2gJEi/src/HDF5.jl:538 =#\n",
      "    index_size::Hsize\n",
      "    #= /home/nathan/.julia/packages/HDF5/2gJEi/src/HDF5.jl:539 =#\n",
      "    heap_size::Hsize\n",
      "end\n",
      "in module Main.HDF5\n",
      "\u001b[91mUndefVarError: Hsize not defined\u001b[39m\n",
      "Stacktrace:\n",
      " [1] \u001b[1mmacro expansion\u001b[22m at \u001b[1m/home/nathan/.julia/packages/JuliaInterpreter/Or807/src/interpret.jl:64\u001b[22m [inlined]\n",
      " [2] \u001b[1mgetargs\u001b[22m\u001b[1m(\u001b[22m::Array{Any,1}, ::JuliaInterpreter.Frame\u001b[1m)\u001b[22m at \u001b[1m/home/nathan/.julia/packages/JuliaInterpreter/Or807/src/builtins.jl:8\u001b[22m\n",
      " [3] \u001b[1mmaybe_evaluate_builtin\u001b[22m\u001b[1m(\u001b[22m::JuliaInterpreter.Frame, ::Expr, ::Bool\u001b[1m)\u001b[22m at \u001b[1m/home/nathan/.julia/packages/JuliaInterpreter/Or807/src/builtins.jl:136\u001b[22m\n",
      " [4] \u001b[1m#evaluate_call_recurse!#37\u001b[22m\u001b[1m(\u001b[22m::Bool, ::Function, ::Any, ::JuliaInterpreter.Frame, ::Expr\u001b[1m)\u001b[22m at \u001b[1m/home/nathan/.julia/packages/JuliaInterpreter/Or807/src/interpret.jl:209\u001b[22m\n",
      " [5] \u001b[1mevaluate_call_recurse!\u001b[22m at \u001b[1m/home/nathan/.julia/packages/JuliaInterpreter/Or807/src/interpret.jl:206\u001b[22m [inlined]\n",
      " [6] \u001b[1meval_rhs\u001b[22m\u001b[1m(\u001b[22m::Any, ::JuliaInterpreter.Frame, ::Expr\u001b[1m)\u001b[22m at \u001b[1m/home/nathan/.julia/packages/JuliaInterpreter/Or807/src/interpret.jl:381\u001b[22m\n",
      " [7] \u001b[1mstep_expr!\u001b[22m\u001b[1m(\u001b[22m::Any, ::JuliaInterpreter.Frame, ::Any, ::Bool\u001b[1m)\u001b[22m at \u001b[1m/home/nathan/.julia/packages/JuliaInterpreter/Or807/src/interpret.jl:509\u001b[22m\n",
      " [8] \u001b[1msignature\u001b[22m\u001b[1m(\u001b[22m::Any, ::JuliaInterpreter.Frame, ::Any, ::Int64\u001b[1m)\u001b[22m at \u001b[1m/home/nathan/.julia/packages/LoweredCodeUtils/6EZqd/src/LoweredCodeUtils.jl:146\u001b[22m\n",
      " [9] \u001b[1m#methoddef!#3\u001b[22m\u001b[1m(\u001b[22m::Bool, ::Function, ::Any, ::Array{Any,1}, ::JuliaInterpreter.Frame, ::Any, ::Int64\u001b[1m)\u001b[22m at \u001b[1m/home/nathan/.julia/packages/LoweredCodeUtils/6EZqd/src/LoweredCodeUtils.jl:420\u001b[22m\n",
      " [10] \u001b[1m(::getfield(LoweredCodeUtils, Symbol(\"#kw##methoddef!\")))\u001b[22m\u001b[1m(\u001b[22m::NamedTuple{(:define,),Tuple{Bool}}, ::typeof(LoweredCodeUtils.methoddef!), ::Function, ::Array{Any,1}, ::JuliaInterpreter.Frame, ::Expr, ::Int64\u001b[1m)\u001b[22m at \u001b[1m./none:0\u001b[22m\n",
      " [11] \u001b[1m#methods_by_execution!#14\u001b[22m\u001b[1m(\u001b[22m::Bool, ::Bool, ::Function, ::Any, ::Revise.CodeTrackingMethodInfo, ::Dict{Module,Array{Expr,1}}, ::JuliaInterpreter.Frame\u001b[1m)\u001b[22m at \u001b[1m/home/nathan/.julia/packages/Revise/agmgx/src/lowered.jl:81\u001b[22m\n",
      " [12] \u001b[1m#methods_by_execution!\u001b[22m at \u001b[1m./none:0\u001b[22m [inlined]\n",
      " [13] \u001b[1m#methods_by_execution!#9\u001b[22m\u001b[1m(\u001b[22m::Base.Iterators.Pairs{Symbol,Bool,Tuple{Symbol},NamedTuple{(:define,),Tuple{Bool}}}, ::Function, ::Any, ::Revise.CodeTrackingMethodInfo, ::Dict{Module,Array{Expr,1}}, ::Module, ::Expr\u001b[1m)\u001b[22m at \u001b[1m/home/nathan/.julia/packages/Revise/agmgx/src/lowered.jl:49\u001b[22m\n",
      " [14] \u001b[1m#methods_by_execution!\u001b[22m at \u001b[1m./none:0\u001b[22m [inlined]\n",
      " [15] \u001b[1m#eval_with_signatures#59\u001b[22m at \u001b[1m/home/nathan/.julia/packages/Revise/agmgx/src/Revise.jl:344\u001b[22m [inlined]\n",
      " [16] \u001b[1m#eval_with_signatures\u001b[22m at \u001b[1m./none:0\u001b[22m [inlined]\n",
      " [17] \u001b[1m#instantiate_sigs!#60\u001b[22m\u001b[1m(\u001b[22m::Bool, ::Base.Iterators.Pairs{Union{},Union{},Tuple{},NamedTuple{(),Tuple{}}}, ::Function, ::OrderedCollections.OrderedDict{Module,OrderedCollections.OrderedDict{Revise.RelocatableExpr,Union{Nothing, Array{Any,1}}}}\u001b[1m)\u001b[22m at \u001b[1m/home/nathan/.julia/packages/Revise/agmgx/src/Revise.jl:352\u001b[22m\n",
      " [18] \u001b[1minstantiate_sigs!\u001b[22m at \u001b[1m/home/nathan/.julia/packages/Revise/agmgx/src/Revise.jl:349\u001b[22m [inlined]\n",
      " [19] \u001b[1mmaybe_parse_from_cache!\u001b[22m\u001b[1m(\u001b[22m::Revise.PkgData, ::String\u001b[1m)\u001b[22m at \u001b[1m/home/nathan/.julia/packages/Revise/agmgx/src/pkgs.jl:224\u001b[22m\n",
      " [20] \u001b[1m(::getfield(Revise, Symbol(\"##26#27\")){String})\u001b[22m\u001b[1m(\u001b[22m\u001b[1m)\u001b[22m at \u001b[1m/home/nathan/.julia/packages/Revise/agmgx/src/pkgs.jl:370\u001b[22m\n",
      " [21] \u001b[1mwith_logstate\u001b[22m\u001b[1m(\u001b[22m::getfield(Revise, Symbol(\"##26#27\")){String}, ::Base.CoreLogging.LogState\u001b[1m)\u001b[22m at \u001b[1m./logging.jl:395\u001b[22m\n",
      " [22] \u001b[1mwith_logger\u001b[22m at \u001b[1m./logging.jl:491\u001b[22m [inlined]\n",
      " [23] \u001b[1mwatch_manifest\u001b[22m\u001b[1m(\u001b[22m::String\u001b[1m)\u001b[22m at \u001b[1m/home/nathan/.julia/packages/Revise/agmgx/src/pkgs.jl:349\u001b[22m\n",
      " [24] \u001b[1m(::Revise.Rescheduler{typeof(Revise.watch_manifest),Tuple{String}})\u001b[22m\u001b[1m(\u001b[22m\u001b[1m)\u001b[22m at \u001b[1m/home/nathan/.julia/packages/Revise/agmgx/src/types.jl:235\u001b[22m\n",
      "while evaluating\n",
      "struct H5Oinfo\n",
      "    #= /home/nathan/.julia/packages/HDF5/2gJEi/src/HDF5.jl:542 =#\n",
      "    fileno::Cuint\n",
      "    #= /home/nathan/.julia/packages/HDF5/2gJEi/src/HDF5.jl:543 =#\n",
      "    addr::Hsize\n",
      "    #= /home/nathan/.julia/packages/HDF5/2gJEi/src/HDF5.jl:544 =#\n",
      "    otype::Cint\n",
      "    #= /home/nathan/.julia/packages/HDF5/2gJEi/src/HDF5.jl:545 =#\n",
      "    rc::Cuint\n",
      "    #= /home/nathan/.julia/packages/HDF5/2gJEi/src/HDF5.jl:546 =#\n",
      "    atime::C_time_t\n",
      "    #= /home/nathan/.julia/packages/HDF5/2gJEi/src/HDF5.jl:547 =#\n",
      "    mtime::C_time_t\n",
      "    #= /home/nathan/.julia/packages/HDF5/2gJEi/src/HDF5.jl:548 =#\n",
      "    ctime::C_time_t\n",
      "    #= /home/nathan/.julia/packages/HDF5/2gJEi/src/HDF5.jl:549 =#\n",
      "    btime::C_time_t\n",
      "    #= /home/nathan/.julia/packages/HDF5/2gJEi/src/HDF5.jl:550 =#\n",
      "    num_attrs::Hsize\n",
      "    #= /home/nathan/.julia/packages/HDF5/2gJEi/src/HDF5.jl:551 =#\n",
      "    version::Cuint\n",
      "    #= /home/nathan/.julia/packages/HDF5/2gJEi/src/HDF5.jl:552 =#\n",
      "    nmesgs::Cuint\n",
      "    #= /home/nathan/.julia/packages/HDF5/2gJEi/src/HDF5.jl:553 =#\n",
      "    nchunks::Cuint\n",
      "    #= /home/nathan/.julia/packages/HDF5/2gJEi/src/HDF5.jl:554 =#\n",
      "    flags::Cuint\n",
      "    #= /home/nathan/.julia/packages/HDF5/2gJEi/src/HDF5.jl:555 =#\n",
      "    total::Hsize\n",
      "    #= /home/nathan/.julia/packages/HDF5/2gJEi/src/HDF5.jl:556 =#\n",
      "    meta::Hsize\n",
      "    #= /home/nathan/.julia/packages/HDF5/2gJEi/src/HDF5.jl:557 =#\n",
      "    mesg::Hsize\n",
      "    #= /home/nathan/.julia/packages/HDF5/2gJEi/src/HDF5.jl:558 =#\n",
      "    free::Hsize\n",
      "    #= /home/nathan/.julia/packages/HDF5/2gJEi/src/HDF5.jl:559 =#\n",
      "    present::UInt64\n",
      "    #= /home/nathan/.julia/packages/HDF5/2gJEi/src/HDF5.jl:560 =#\n",
      "    shared::UInt64\n",
      "    #= /home/nathan/.julia/packages/HDF5/2gJEi/src/HDF5.jl:561 =#\n",
      "    meta_obj::Hmetainfo\n",
      "    #= /home/nathan/.julia/packages/HDF5/2gJEi/src/HDF5.jl:562 =#\n",
      "    meta_attr::Hmetainfo\n",
      "end\n",
      "in module Main.HDF5\n",
      "\u001b[91mTypeError: in Union, in parameter, expected Type, got typeof(Main.HDF5.HDF5File)\u001b[39m\n",
      "Stacktrace:\n",
      " [1] \u001b[1mmaybe_evaluate_builtin\u001b[22m\u001b[1m(\u001b[22m::JuliaInterpreter.Frame, ::Expr, ::Bool\u001b[1m)\u001b[22m at \u001b[1m/home/nathan/.julia/packages/JuliaInterpreter/Or807/src/builtins.jl:86\u001b[22m\n",
      " [2] \u001b[1m#evaluate_call_recurse!#37\u001b[22m\u001b[1m(\u001b[22m::Bool, ::Function, ::Any, ::JuliaInterpreter.Frame, ::Expr\u001b[1m)\u001b[22m at \u001b[1m/home/nathan/.julia/packages/JuliaInterpreter/Or807/src/interpret.jl:209\u001b[22m\n",
      " [3] \u001b[1mevaluate_call_recurse!\u001b[22m at \u001b[1m/home/nathan/.julia/packages/JuliaInterpreter/Or807/src/interpret.jl:206\u001b[22m [inlined]\n",
      " [4] \u001b[1meval_rhs\u001b[22m\u001b[1m(\u001b[22m::Any, ::JuliaInterpreter.Frame, ::Expr\u001b[1m)\u001b[22m at \u001b[1m/home/nathan/.julia/packages/JuliaInterpreter/Or807/src/interpret.jl:381\u001b[22m\n",
      " [5] \u001b[1mstep_expr!\u001b[22m\u001b[1m(\u001b[22m::Any, ::JuliaInterpreter.Frame, ::Any, ::Bool\u001b[1m)\u001b[22m at \u001b[1m/home/nathan/.julia/packages/JuliaInterpreter/Or807/src/interpret.jl:509\u001b[22m\n",
      " [6] \u001b[1msignature\u001b[22m\u001b[1m(\u001b[22m::Any, ::JuliaInterpreter.Frame, ::Any, ::Int64\u001b[1m)\u001b[22m at \u001b[1m/home/nathan/.julia/packages/LoweredCodeUtils/6EZqd/src/LoweredCodeUtils.jl:146\u001b[22m\n",
      " [7] \u001b[1m#methoddef!#3\u001b[22m\u001b[1m(\u001b[22m::Bool, ::Function, ::Any, ::Array{Any,1}, ::JuliaInterpreter.Frame, ::Any, ::Int64\u001b[1m)\u001b[22m at \u001b[1m/home/nathan/.julia/packages/LoweredCodeUtils/6EZqd/src/LoweredCodeUtils.jl:420\u001b[22m\n",
      " [8] \u001b[1m(::getfield(LoweredCodeUtils, Symbol(\"#kw##methoddef!\")))\u001b[22m\u001b[1m(\u001b[22m::NamedTuple{(:define,),Tuple{Bool}}, ::typeof(LoweredCodeUtils.methoddef!), ::Function, ::Array{Any,1}, ::JuliaInterpreter.Frame, ::Expr, ::Int64\u001b[1m)\u001b[22m at \u001b[1m./none:0\u001b[22m\n",
      " [9] \u001b[1m#methods_by_execution!#14\u001b[22m\u001b[1m(\u001b[22m::Bool, ::Bool, ::Function, ::Any, ::Revise.CodeTrackingMethodInfo, ::Dict{Module,Array{Expr,1}}, ::JuliaInterpreter.Frame\u001b[1m)\u001b[22m at \u001b[1m/home/nathan/.julia/packages/Revise/agmgx/src/lowered.jl:81\u001b[22m\n",
      " [10] \u001b[1m#methods_by_execution!\u001b[22m at \u001b[1m./none:0\u001b[22m [inlined]\n",
      " [11] \u001b[1m#methods_by_execution!#9\u001b[22m\u001b[1m(\u001b[22m::Base.Iterators.Pairs{Symbol,Bool,Tuple{Symbol},NamedTuple{(:define,),Tuple{Bool}}}, ::Function, ::Any, ::Revise.CodeTrackingMethodInfo, ::Dict{Module,Array{Expr,1}}, ::Module, ::Expr\u001b[1m)\u001b[22m at \u001b[1m/home/nathan/.julia/packages/Revise/agmgx/src/lowered.jl:49\u001b[22m\n",
      " [12] \u001b[1m#methods_by_execution!\u001b[22m at \u001b[1m./none:0\u001b[22m [inlined]\n",
      " [13] \u001b[1m#eval_with_signatures#59\u001b[22m at \u001b[1m/home/nathan/.julia/packages/Revise/agmgx/src/Revise.jl:344\u001b[22m [inlined]\n",
      " [14] \u001b[1m#eval_with_signatures\u001b[22m at \u001b[1m./none:0\u001b[22m [inlined]\n"
     ]
    },
    {
     "name": "stderr",
     "output_type": "stream",
     "text": [
      " [15] \u001b[1m#instantiate_sigs!#60\u001b[22m\u001b[1m(\u001b[22m::Bool, ::Base.Iterators.Pairs{Union{},Union{},Tuple{},NamedTuple{(),Tuple{}}}, ::Function, ::OrderedCollections.OrderedDict{Module,OrderedCollections.OrderedDict{Revise.RelocatableExpr,Union{Nothing, Array{Any,1}}}}\u001b[1m)\u001b[22m at \u001b[1m/home/nathan/.julia/packages/Revise/agmgx/src/Revise.jl:352\u001b[22m\n",
      " [16] \u001b[1minstantiate_sigs!\u001b[22m at \u001b[1m/home/nathan/.julia/packages/Revise/agmgx/src/Revise.jl:349\u001b[22m [inlined]\n",
      " [17] \u001b[1mmaybe_parse_from_cache!\u001b[22m\u001b[1m(\u001b[22m::Revise.PkgData, ::String\u001b[1m)\u001b[22m at \u001b[1m/home/nathan/.julia/packages/Revise/agmgx/src/pkgs.jl:224\u001b[22m\n",
      " [18] \u001b[1m(::getfield(Revise, Symbol(\"##26#27\")){String})\u001b[22m\u001b[1m(\u001b[22m\u001b[1m)\u001b[22m at \u001b[1m/home/nathan/.julia/packages/Revise/agmgx/src/pkgs.jl:370\u001b[22m\n",
      " [19] \u001b[1mwith_logstate\u001b[22m\u001b[1m(\u001b[22m::getfield(Revise, Symbol(\"##26#27\")){String}, ::Base.CoreLogging.LogState\u001b[1m)\u001b[22m at \u001b[1m./logging.jl:395\u001b[22m\n",
      " [20] \u001b[1mwith_logger\u001b[22m at \u001b[1m./logging.jl:491\u001b[22m [inlined]\n",
      " [21] \u001b[1mwatch_manifest\u001b[22m\u001b[1m(\u001b[22m::String\u001b[1m)\u001b[22m at \u001b[1m/home/nathan/.julia/packages/Revise/agmgx/src/pkgs.jl:349\u001b[22m\n",
      " [22] \u001b[1m(::Revise.Rescheduler{typeof(Revise.watch_manifest),Tuple{String}})\u001b[22m\u001b[1m(\u001b[22m\u001b[1m)\u001b[22m at \u001b[1m/home/nathan/.julia/packages/Revise/agmgx/src/types.jl:235\u001b[22m\n",
      "while evaluating\n",
      "isvalid(obj::Union{HDF5File, HDF5Properties, HDF5Datatype, HDF5Dataspace}) = begin\n",
      "        #= /home/nathan/.julia/packages/HDF5/2gJEi/src/HDF5.jl:776 =#\n",
      "        obj.id != -1 && h5i_is_valid(obj.id)\n",
      "    end\n",
      "in module Main.HDF5\n",
      "\u001b[91mTypeError: in Union, in parameter, expected Type, got typeof(Main.HDF5.HDF5Group)\u001b[39m\n",
      "Stacktrace:\n",
      " [1] \u001b[1mmaybe_evaluate_builtin\u001b[22m\u001b[1m(\u001b[22m::JuliaInterpreter.Frame, ::Expr, ::Bool\u001b[1m)\u001b[22m at \u001b[1m/home/nathan/.julia/packages/JuliaInterpreter/Or807/src/builtins.jl:86\u001b[22m\n",
      " [2] \u001b[1m#evaluate_call_recurse!#37\u001b[22m\u001b[1m(\u001b[22m::Bool, ::Function, ::Any, ::JuliaInterpreter.Frame, ::Expr\u001b[1m)\u001b[22m at \u001b[1m/home/nathan/.julia/packages/JuliaInterpreter/Or807/src/interpret.jl:209\u001b[22m\n",
      " [3] \u001b[1mevaluate_call_recurse!\u001b[22m at \u001b[1m/home/nathan/.julia/packages/JuliaInterpreter/Or807/src/interpret.jl:206\u001b[22m [inlined]\n",
      " [4] \u001b[1meval_rhs\u001b[22m\u001b[1m(\u001b[22m::Any, ::JuliaInterpreter.Frame, ::Expr\u001b[1m)\u001b[22m at \u001b[1m/home/nathan/.julia/packages/JuliaInterpreter/Or807/src/interpret.jl:381\u001b[22m\n",
      " [5] \u001b[1mstep_expr!\u001b[22m\u001b[1m(\u001b[22m::Any, ::JuliaInterpreter.Frame, ::Any, ::Bool\u001b[1m)\u001b[22m at \u001b[1m/home/nathan/.julia/packages/JuliaInterpreter/Or807/src/interpret.jl:509\u001b[22m\n",
      " [6] \u001b[1msignature\u001b[22m\u001b[1m(\u001b[22m::Any, ::JuliaInterpreter.Frame, ::Any, ::Int64\u001b[1m)\u001b[22m at \u001b[1m/home/nathan/.julia/packages/LoweredCodeUtils/6EZqd/src/LoweredCodeUtils.jl:146\u001b[22m\n",
      " [7] \u001b[1m#methoddef!#3\u001b[22m\u001b[1m(\u001b[22m::Bool, ::Function, ::Any, ::Array{Any,1}, ::JuliaInterpreter.Frame, ::Any, ::Int64\u001b[1m)\u001b[22m at \u001b[1m/home/nathan/.julia/packages/LoweredCodeUtils/6EZqd/src/LoweredCodeUtils.jl:420\u001b[22m\n",
      " [8] \u001b[1m(::getfield(LoweredCodeUtils, Symbol(\"#kw##methoddef!\")))\u001b[22m\u001b[1m(\u001b[22m::NamedTuple{(:define,),Tuple{Bool}}, ::typeof(LoweredCodeUtils.methoddef!), ::Function, ::Array{Any,1}, ::JuliaInterpreter.Frame, ::Expr, ::Int64\u001b[1m)\u001b[22m at \u001b[1m./none:0\u001b[22m\n",
      " [9] \u001b[1m#methods_by_execution!#14\u001b[22m\u001b[1m(\u001b[22m::Bool, ::Bool, ::Function, ::Any, ::Revise.CodeTrackingMethodInfo, ::Dict{Module,Array{Expr,1}}, ::JuliaInterpreter.Frame\u001b[1m)\u001b[22m at \u001b[1m/home/nathan/.julia/packages/Revise/agmgx/src/lowered.jl:81\u001b[22m\n",
      " [10] \u001b[1m#methods_by_execution!\u001b[22m at \u001b[1m./none:0\u001b[22m [inlined]\n",
      " [11] \u001b[1m#methods_by_execution!#9\u001b[22m\u001b[1m(\u001b[22m::Base.Iterators.Pairs{Symbol,Bool,Tuple{Symbol},NamedTuple{(:define,),Tuple{Bool}}}, ::Function, ::Any, ::Revise.CodeTrackingMethodInfo, ::Dict{Module,Array{Expr,1}}, ::Module, ::Expr\u001b[1m)\u001b[22m at \u001b[1m/home/nathan/.julia/packages/Revise/agmgx/src/lowered.jl:49\u001b[22m\n",
      " [12] \u001b[1m#methods_by_execution!\u001b[22m at \u001b[1m./none:0\u001b[22m [inlined]\n",
      " [13] \u001b[1m#eval_with_signatures#59\u001b[22m at \u001b[1m/home/nathan/.julia/packages/Revise/agmgx/src/Revise.jl:344\u001b[22m [inlined]\n",
      " [14] \u001b[1m#eval_with_signatures\u001b[22m at \u001b[1m./none:0\u001b[22m [inlined]\n",
      " [15] \u001b[1m#instantiate_sigs!#60\u001b[22m\u001b[1m(\u001b[22m::Bool, ::Base.Iterators.Pairs{Union{},Union{},Tuple{},NamedTuple{(),Tuple{}}}, ::Function, ::OrderedCollections.OrderedDict{Module,OrderedCollections.OrderedDict{Revise.RelocatableExpr,Union{Nothing, Array{Any,1}}}}\u001b[1m)\u001b[22m at \u001b[1m/home/nathan/.julia/packages/Revise/agmgx/src/Revise.jl:352\u001b[22m\n",
      " [16] \u001b[1minstantiate_sigs!\u001b[22m at \u001b[1m/home/nathan/.julia/packages/Revise/agmgx/src/Revise.jl:349\u001b[22m [inlined]\n",
      " [17] \u001b[1mmaybe_parse_from_cache!\u001b[22m\u001b[1m(\u001b[22m::Revise.PkgData, ::String\u001b[1m)\u001b[22m at \u001b[1m/home/nathan/.julia/packages/Revise/agmgx/src/pkgs.jl:224\u001b[22m\n",
      " [18] \u001b[1m(::getfield(Revise, Symbol(\"##26#27\")){String})\u001b[22m\u001b[1m(\u001b[22m\u001b[1m)\u001b[22m at \u001b[1m/home/nathan/.julia/packages/Revise/agmgx/src/pkgs.jl:370\u001b[22m\n",
      " [19] \u001b[1mwith_logstate\u001b[22m\u001b[1m(\u001b[22m::getfield(Revise, Symbol(\"##26#27\")){String}, ::Base.CoreLogging.LogState\u001b[1m)\u001b[22m at \u001b[1m./logging.jl:395\u001b[22m\n",
      " [20] \u001b[1mwith_logger\u001b[22m at \u001b[1m./logging.jl:491\u001b[22m [inlined]\n",
      " [21] \u001b[1mwatch_manifest\u001b[22m\u001b[1m(\u001b[22m::String\u001b[1m)\u001b[22m at \u001b[1m/home/nathan/.julia/packages/Revise/agmgx/src/pkgs.jl:349\u001b[22m\n",
      " [22] \u001b[1m(::Revise.Rescheduler{typeof(Revise.watch_manifest),Tuple{String}})\u001b[22m\u001b[1m(\u001b[22m\u001b[1m)\u001b[22m at \u001b[1m/home/nathan/.julia/packages/Revise/agmgx/src/types.jl:235\u001b[22m\n",
      "while evaluating\n",
      "isvalid(obj::Union{HDF5Group, HDF5Dataset, HDF5Attribute}) = begin\n",
      "        #= /home/nathan/.julia/packages/HDF5/2gJEi/src/HDF5.jl:777 =#\n",
      "        obj.id != -1 && ((obj.file).id != -1 && h5i_is_valid(obj.id))\n",
      "    end\n",
      "in module Main.HDF5\n",
      "\u001b[91mTypeError: in Union, in parameter, expected Type, got typeof(Main.HDF5.HDF5Group)\u001b[39m\n",
      "Stacktrace:\n",
      " [1] \u001b[1mmaybe_evaluate_builtin\u001b[22m\u001b[1m(\u001b[22m::JuliaInterpreter.Frame, ::Expr, ::Bool\u001b[1m)\u001b[22m at \u001b[1m/home/nathan/.julia/packages/JuliaInterpreter/Or807/src/builtins.jl:86\u001b[22m\n",
      " [2] \u001b[1m#evaluate_call_recurse!#37\u001b[22m\u001b[1m(\u001b[22m::Bool, ::Function, ::Any, ::JuliaInterpreter.Frame, ::Expr\u001b[1m)\u001b[22m at \u001b[1m/home/nathan/.julia/packages/JuliaInterpreter/Or807/src/interpret.jl:209\u001b[22m\n",
      " [3] \u001b[1mevaluate_call_recurse!\u001b[22m at \u001b[1m/home/nathan/.julia/packages/JuliaInterpreter/Or807/src/interpret.jl:206\u001b[22m [inlined]\n",
      " [4] \u001b[1meval_rhs\u001b[22m\u001b[1m(\u001b[22m::Any, ::JuliaInterpreter.Frame, ::Expr\u001b[1m)\u001b[22m at \u001b[1m/home/nathan/.julia/packages/JuliaInterpreter/Or807/src/interpret.jl:381\u001b[22m\n",
      " [5] \u001b[1mstep_expr!\u001b[22m\u001b[1m(\u001b[22m::Any, ::JuliaInterpreter.Frame, ::Any, ::Bool\u001b[1m)\u001b[22m at \u001b[1m/home/nathan/.julia/packages/JuliaInterpreter/Or807/src/interpret.jl:509\u001b[22m\n",
      " [6] \u001b[1msignature\u001b[22m\u001b[1m(\u001b[22m::Any, ::JuliaInterpreter.Frame, ::Any, ::Int64\u001b[1m)\u001b[22m at \u001b[1m/home/nathan/.julia/packages/LoweredCodeUtils/6EZqd/src/LoweredCodeUtils.jl:146\u001b[22m\n",
      " [7] \u001b[1m#methoddef!#3\u001b[22m\u001b[1m(\u001b[22m::Bool, ::Function, ::Any, ::Array{Any,1}, ::JuliaInterpreter.Frame, ::Any, ::Int64\u001b[1m)\u001b[22m at \u001b[1m/home/nathan/.julia/packages/LoweredCodeUtils/6EZqd/src/LoweredCodeUtils.jl:420\u001b[22m\n",
      " [8] \u001b[1m(::getfield(LoweredCodeUtils, Symbol(\"#kw##methoddef!\")))\u001b[22m\u001b[1m(\u001b[22m::NamedTuple{(:define,),Tuple{Bool}}, ::typeof(LoweredCodeUtils.methoddef!), ::Function, ::Array{Any,1}, ::JuliaInterpreter.Frame, ::Expr, ::Int64\u001b[1m)\u001b[22m at \u001b[1m./none:0\u001b[22m\n",
      " [9] \u001b[1m#methods_by_execution!#14\u001b[22m\u001b[1m(\u001b[22m::Bool, ::Bool, ::Function, ::Any, ::Revise.CodeTrackingMethodInfo, ::Dict{Module,Array{Expr,1}}, ::JuliaInterpreter.Frame\u001b[1m)\u001b[22m at \u001b[1m/home/nathan/.julia/packages/Revise/agmgx/src/lowered.jl:81\u001b[22m\n",
      " [10] \u001b[1m#methods_by_execution!\u001b[22m at \u001b[1m./none:0\u001b[22m [inlined]\n",
      " [11] \u001b[1m#methods_by_execution!#14\u001b[22m\u001b[1m(\u001b[22m::Bool, ::Bool, ::Function, ::Any, ::Revise.CodeTrackingMethodInfo, ::Dict{Module,Array{Expr,1}}, ::JuliaInterpreter.Frame\u001b[1m)\u001b[22m at \u001b[1m/home/nathan/.julia/packages/Revise/agmgx/src/lowered.jl:142\u001b[22m\n",
      " [12] \u001b[1m#methods_by_execution!\u001b[22m at \u001b[1m./none:0\u001b[22m [inlined]\n",
      " [13] \u001b[1m#methods_by_execution!#9\u001b[22m\u001b[1m(\u001b[22m::Base.Iterators.Pairs{Symbol,Bool,Tuple{Symbol},NamedTuple{(:define,),Tuple{Bool}}}, ::Function, ::Any, ::Revise.CodeTrackingMethodInfo, ::Dict{Module,Array{Expr,1}}, ::Module, ::Expr\u001b[1m)\u001b[22m at \u001b[1m/home/nathan/.julia/packages/Revise/agmgx/src/lowered.jl:49\u001b[22m\n",
      " [14] \u001b[1m#methods_by_execution!\u001b[22m at \u001b[1m./none:0\u001b[22m [inlined]\n",
      " [15] \u001b[1m#eval_with_signatures#59\u001b[22m at \u001b[1m/home/nathan/.julia/packages/Revise/agmgx/src/Revise.jl:344\u001b[22m [inlined]\n",
      " [16] \u001b[1m#eval_with_signatures\u001b[22m at \u001b[1m./none:0\u001b[22m [inlined]\n",
      " [17] \u001b[1m#instantiate_sigs!#60\u001b[22m\u001b[1m(\u001b[22m::Bool, ::Base.Iterators.Pairs{Union{},Union{},Tuple{},NamedTuple{(),Tuple{}}}, ::Function, ::OrderedCollections.OrderedDict{Module,OrderedCollections.OrderedDict{Revise.RelocatableExpr,Union{Nothing, Array{Any,1}}}}\u001b[1m)\u001b[22m at \u001b[1m/home/nathan/.julia/packages/Revise/agmgx/src/Revise.jl:352\u001b[22m\n",
      " [18] \u001b[1minstantiate_sigs!\u001b[22m at \u001b[1m/home/nathan/.julia/packages/Revise/agmgx/src/Revise.jl:349\u001b[22m [inlined]\n",
      " [19] \u001b[1mmaybe_parse_from_cache!\u001b[22m\u001b[1m(\u001b[22m::Revise.PkgData, ::String\u001b[1m)\u001b[22m at \u001b[1m/home/nathan/.julia/packages/Revise/agmgx/src/pkgs.jl:224\u001b[22m\n",
      " [20] \u001b[1m(::getfield(Revise, Symbol(\"##26#27\")){String})\u001b[22m\u001b[1m(\u001b[22m\u001b[1m)\u001b[22m at \u001b[1m/home/nathan/.julia/packages/Revise/agmgx/src/pkgs.jl:370\u001b[22m\n",
      " [21] \u001b[1mwith_logstate\u001b[22m\u001b[1m(\u001b[22m::getfield(Revise, Symbol(\"##26#27\")){String}, ::Base.CoreLogging.LogState\u001b[1m)\u001b[22m at \u001b[1m./logging.jl:395\u001b[22m\n",
      " [22] \u001b[1mwith_logger\u001b[22m at \u001b[1m./logging.jl:491\u001b[22m [inlined]\n",
      " [23] \u001b[1mwatch_manifest\u001b[22m\u001b[1m(\u001b[22m::String\u001b[1m)\u001b[22m at \u001b[1m/home/nathan/.julia/packages/Revise/agmgx/src/pkgs.jl:349\u001b[22m\n",
      " [24] \u001b[1m(::Revise.Rescheduler{typeof(Revise.watch_manifest),Tuple{String}})\u001b[22m\u001b[1m(\u001b[22m\u001b[1m)\u001b[22m at \u001b[1m/home/nathan/.julia/packages/Revise/agmgx/src/types.jl:235\u001b[22m\n",
      "while evaluating\n",
      "for (h5type, h5func) = (($(Expr(:quote, :(Union{HDF5Group, HDF5Dataset}))), :h5o_close), (:HDF5Attribute, :h5a_close))\n",
      "    #= /home/nathan/.julia/packages/HDF5/2gJEi/src/HDF5.jl:804 =#\n",
      "    #= /home/nathan/.julia/packages/HDF5/2gJEi/src/HDF5.jl:804 =# @eval begin\n",
      "            #= /home/nathan/.julia/packages/HDF5/2gJEi/src/HDF5.jl:805 =#\n",
      "            function close(obj::$(Expr(:$, :h5type)))\n",
      "                #= /home/nathan/.julia/packages/HDF5/2gJEi/src/HDF5.jl:806 =#\n",
      "                if obj.id != -1\n"
     ]
    },
    {
     "name": "stderr",
     "output_type": "stream",
     "text": [
      "                    #= /home/nathan/.julia/packages/HDF5/2gJEi/src/HDF5.jl:807 =#\n",
      "                    if (obj.file).id != -1 && isvalid(obj)\n",
      "                        #= /home/nathan/.julia/packages/HDF5/2gJEi/src/HDF5.jl:808 =#\n",
      "                        ($(Expr(:$, :h5func)))(obj.id)\n",
      "                    end\n",
      "                    #= /home/nathan/.julia/packages/HDF5/2gJEi/src/HDF5.jl:810 =#\n",
      "                    obj.id = -1\n",
      "                end\n",
      "                #= /home/nathan/.julia/packages/HDF5/2gJEi/src/HDF5.jl:812 =#\n",
      "                nothing\n",
      "            end\n",
      "        end\n",
      "end\n",
      "in module Main.HDF5\n",
      "\u001b[91mUndefVarError: HDF5Object not defined\u001b[39m\n",
      "Stacktrace:\n",
      " [1] \u001b[1mmacro expansion\u001b[22m at \u001b[1m/home/nathan/.julia/packages/JuliaInterpreter/Or807/src/interpret.jl:64\u001b[22m [inlined]\n",
      " [2] \u001b[1mgetargs\u001b[22m\u001b[1m(\u001b[22m::Array{Any,1}, ::JuliaInterpreter.Frame\u001b[1m)\u001b[22m at \u001b[1m/home/nathan/.julia/packages/JuliaInterpreter/Or807/src/builtins.jl:8\u001b[22m\n",
      " [3] \u001b[1mmaybe_evaluate_builtin\u001b[22m\u001b[1m(\u001b[22m::JuliaInterpreter.Frame, ::Expr, ::Bool\u001b[1m)\u001b[22m at \u001b[1m/home/nathan/.julia/packages/JuliaInterpreter/Or807/src/builtins.jl:136\u001b[22m\n",
      " [4] \u001b[1m#evaluate_call_recurse!#37\u001b[22m\u001b[1m(\u001b[22m::Bool, ::Function, ::Any, ::JuliaInterpreter.Frame, ::Expr\u001b[1m)\u001b[22m at \u001b[1m/home/nathan/.julia/packages/JuliaInterpreter/Or807/src/interpret.jl:209\u001b[22m\n",
      " [5] \u001b[1mevaluate_call_recurse!\u001b[22m at \u001b[1m/home/nathan/.julia/packages/JuliaInterpreter/Or807/src/interpret.jl:206\u001b[22m [inlined]\n",
      " [6] \u001b[1meval_rhs\u001b[22m\u001b[1m(\u001b[22m::Any, ::JuliaInterpreter.Frame, ::Expr\u001b[1m)\u001b[22m at \u001b[1m/home/nathan/.julia/packages/JuliaInterpreter/Or807/src/interpret.jl:381\u001b[22m\n",
      " [7] \u001b[1mstep_expr!\u001b[22m\u001b[1m(\u001b[22m::Any, ::JuliaInterpreter.Frame, ::Any, ::Bool\u001b[1m)\u001b[22m at \u001b[1m/home/nathan/.julia/packages/JuliaInterpreter/Or807/src/interpret.jl:509\u001b[22m\n",
      " [8] \u001b[1msignature\u001b[22m\u001b[1m(\u001b[22m::Any, ::JuliaInterpreter.Frame, ::Any, ::Int64\u001b[1m)\u001b[22m at \u001b[1m/home/nathan/.julia/packages/LoweredCodeUtils/6EZqd/src/LoweredCodeUtils.jl:146\u001b[22m\n",
      " [9] \u001b[1m#methoddef!#3\u001b[22m\u001b[1m(\u001b[22m::Bool, ::Function, ::Any, ::Array{Any,1}, ::JuliaInterpreter.Frame, ::Any, ::Int64\u001b[1m)\u001b[22m at \u001b[1m/home/nathan/.julia/packages/LoweredCodeUtils/6EZqd/src/LoweredCodeUtils.jl:420\u001b[22m\n",
      " [10] \u001b[1m(::getfield(LoweredCodeUtils, Symbol(\"#kw##methoddef!\")))\u001b[22m\u001b[1m(\u001b[22m::NamedTuple{(:define,),Tuple{Bool}}, ::typeof(LoweredCodeUtils.methoddef!), ::Function, ::Array{Any,1}, ::JuliaInterpreter.Frame, ::Expr, ::Int64\u001b[1m)\u001b[22m at \u001b[1m./none:0\u001b[22m\n",
      " [11] \u001b[1m#methods_by_execution!#14\u001b[22m\u001b[1m(\u001b[22m::Bool, ::Bool, ::Function, ::Any, ::Revise.CodeTrackingMethodInfo, ::Dict{Module,Array{Expr,1}}, ::JuliaInterpreter.Frame\u001b[1m)\u001b[22m at \u001b[1m/home/nathan/.julia/packages/Revise/agmgx/src/lowered.jl:81\u001b[22m\n",
      " [12] \u001b[1m#methods_by_execution!\u001b[22m at \u001b[1m./none:0\u001b[22m [inlined]\n",
      " [13] \u001b[1m#methods_by_execution!#9\u001b[22m\u001b[1m(\u001b[22m::Base.Iterators.Pairs{Symbol,Bool,Tuple{Symbol},NamedTuple{(:define,),Tuple{Bool}}}, ::Function, ::Any, ::Revise.CodeTrackingMethodInfo, ::Dict{Module,Array{Expr,1}}, ::Module, ::Expr\u001b[1m)\u001b[22m at \u001b[1m/home/nathan/.julia/packages/Revise/agmgx/src/lowered.jl:49\u001b[22m\n",
      " [14] \u001b[1m#methods_by_execution!\u001b[22m at \u001b[1m./none:0\u001b[22m [inlined]\n",
      " [15] \u001b[1m#eval_with_signatures#59\u001b[22m at \u001b[1m/home/nathan/.julia/packages/Revise/agmgx/src/Revise.jl:344\u001b[22m [inlined]\n",
      " [16] \u001b[1m#eval_with_signatures\u001b[22m at \u001b[1m./none:0\u001b[22m [inlined]\n",
      " [17] \u001b[1m#instantiate_sigs!#60\u001b[22m\u001b[1m(\u001b[22m::Bool, ::Base.Iterators.Pairs{Union{},Union{},Tuple{},NamedTuple{(),Tuple{}}}, ::Function, ::OrderedCollections.OrderedDict{Module,OrderedCollections.OrderedDict{Revise.RelocatableExpr,Union{Nothing, Array{Any,1}}}}\u001b[1m)\u001b[22m at \u001b[1m/home/nathan/.julia/packages/Revise/agmgx/src/Revise.jl:352\u001b[22m\n",
      " [18] \u001b[1minstantiate_sigs!\u001b[22m at \u001b[1m/home/nathan/.julia/packages/Revise/agmgx/src/Revise.jl:349\u001b[22m [inlined]\n",
      " [19] \u001b[1mmaybe_parse_from_cache!\u001b[22m\u001b[1m(\u001b[22m::Revise.PkgData, ::String\u001b[1m)\u001b[22m at \u001b[1m/home/nathan/.julia/packages/Revise/agmgx/src/pkgs.jl:224\u001b[22m\n",
      " [20] \u001b[1m(::getfield(Revise, Symbol(\"##26#27\")){String})\u001b[22m\u001b[1m(\u001b[22m\u001b[1m)\u001b[22m at \u001b[1m/home/nathan/.julia/packages/Revise/agmgx/src/pkgs.jl:370\u001b[22m\n",
      " [21] \u001b[1mwith_logstate\u001b[22m\u001b[1m(\u001b[22m::getfield(Revise, Symbol(\"##26#27\")){String}, ::Base.CoreLogging.LogState\u001b[1m)\u001b[22m at \u001b[1m./logging.jl:395\u001b[22m\n",
      " [22] \u001b[1mwith_logger\u001b[22m at \u001b[1m./logging.jl:491\u001b[22m [inlined]\n",
      " [23] \u001b[1mwatch_manifest\u001b[22m\u001b[1m(\u001b[22m::String\u001b[1m)\u001b[22m at \u001b[1m/home/nathan/.julia/packages/Revise/agmgx/src/pkgs.jl:349\u001b[22m\n",
      " [24] \u001b[1m(::Revise.Rescheduler{typeof(Revise.watch_manifest),Tuple{String}})\u001b[22m\u001b[1m(\u001b[22m\u001b[1m)\u001b[22m at \u001b[1m/home/nathan/.julia/packages/Revise/agmgx/src/types.jl:235\u001b[22m\n",
      "while evaluating\n",
      "fd(obj::HDF5Object) = begin\n",
      "        #= /home/nathan/.julia/packages/HDF5/2gJEi/src/HDF5.jl:858 =#\n",
      "        h5i_get_file_id((checkvalid(obj)).id)\n",
      "    end\n",
      "in module Main.HDF5\n",
      "\u001b[91mUndefVarError: HDF5Object not defined\u001b[39m\n",
      "Stacktrace:\n",
      " [1] \u001b[1mmacro expansion\u001b[22m at \u001b[1m/home/nathan/.julia/packages/JuliaInterpreter/Or807/src/interpret.jl:64\u001b[22m [inlined]\n",
      " [2] \u001b[1mgetargs\u001b[22m\u001b[1m(\u001b[22m::Array{Any,1}, ::JuliaInterpreter.Frame\u001b[1m)\u001b[22m at \u001b[1m/home/nathan/.julia/packages/JuliaInterpreter/Or807/src/builtins.jl:8\u001b[22m\n",
      " [3] \u001b[1mmaybe_evaluate_builtin\u001b[22m\u001b[1m(\u001b[22m::JuliaInterpreter.Frame, ::Expr, ::Bool\u001b[1m)\u001b[22m at \u001b[1m/home/nathan/.julia/packages/JuliaInterpreter/Or807/src/builtins.jl:86\u001b[22m\n",
      " [4] \u001b[1m#evaluate_call_recurse!#37\u001b[22m\u001b[1m(\u001b[22m::Bool, ::Function, ::Any, ::JuliaInterpreter.Frame, ::Expr\u001b[1m)\u001b[22m at \u001b[1m/home/nathan/.julia/packages/JuliaInterpreter/Or807/src/interpret.jl:209\u001b[22m\n",
      " [5] \u001b[1mevaluate_call_recurse!\u001b[22m at \u001b[1m/home/nathan/.julia/packages/JuliaInterpreter/Or807/src/interpret.jl:206\u001b[22m [inlined]\n",
      " [6] \u001b[1meval_rhs\u001b[22m\u001b[1m(\u001b[22m::Any, ::JuliaInterpreter.Frame, ::Expr\u001b[1m)\u001b[22m at \u001b[1m/home/nathan/.julia/packages/JuliaInterpreter/Or807/src/interpret.jl:381\u001b[22m\n",
      " [7] \u001b[1mstep_expr!\u001b[22m\u001b[1m(\u001b[22m::Any, ::JuliaInterpreter.Frame, ::Any, ::Bool\u001b[1m)\u001b[22m at \u001b[1m/home/nathan/.julia/packages/JuliaInterpreter/Or807/src/interpret.jl:509\u001b[22m\n",
      " [8] \u001b[1msignature\u001b[22m\u001b[1m(\u001b[22m::Any, ::JuliaInterpreter.Frame, ::Any, ::Int64\u001b[1m)\u001b[22m at \u001b[1m/home/nathan/.julia/packages/LoweredCodeUtils/6EZqd/src/LoweredCodeUtils.jl:146\u001b[22m\n",
      " [9] \u001b[1m#methoddef!#3\u001b[22m\u001b[1m(\u001b[22m::Bool, ::Function, ::Any, ::Array{Any,1}, ::JuliaInterpreter.Frame, ::Any, ::Int64\u001b[1m)\u001b[22m at \u001b[1m/home/nathan/.julia/packages/LoweredCodeUtils/6EZqd/src/LoweredCodeUtils.jl:420\u001b[22m\n",
      " [10] \u001b[1m(::getfield(LoweredCodeUtils, Symbol(\"#kw##methoddef!\")))\u001b[22m\u001b[1m(\u001b[22m::NamedTuple{(:define,),Tuple{Bool}}, ::typeof(LoweredCodeUtils.methoddef!), ::Function, ::Array{Any,1}, ::JuliaInterpreter.Frame, ::Expr, ::Int64\u001b[1m)\u001b[22m at \u001b[1m./none:0\u001b[22m\n",
      " [11] \u001b[1m#methods_by_execution!#14\u001b[22m\u001b[1m(\u001b[22m::Bool, ::Bool, ::Function, ::Any, ::Revise.CodeTrackingMethodInfo, ::Dict{Module,Array{Expr,1}}, ::JuliaInterpreter.Frame\u001b[1m)\u001b[22m at \u001b[1m/home/nathan/.julia/packages/Revise/agmgx/src/lowered.jl:81\u001b[22m\n",
      " [12] \u001b[1m#methods_by_execution!\u001b[22m at \u001b[1m./none:0\u001b[22m [inlined]\n",
      " [13] \u001b[1m#methods_by_execution!#9\u001b[22m\u001b[1m(\u001b[22m::Base.Iterators.Pairs{Symbol,Bool,Tuple{Symbol},NamedTuple{(:define,),Tuple{Bool}}}, ::Function, ::Any, ::Revise.CodeTrackingMethodInfo, ::Dict{Module,Array{Expr,1}}, ::Module, ::Expr\u001b[1m)\u001b[22m at \u001b[1m/home/nathan/.julia/packages/Revise/agmgx/src/lowered.jl:49\u001b[22m\n",
      " [14] \u001b[1m#methods_by_execution!\u001b[22m at \u001b[1m./none:0\u001b[22m [inlined]\n",
      " [15] \u001b[1m#eval_with_signatures#59\u001b[22m at \u001b[1m/home/nathan/.julia/packages/Revise/agmgx/src/Revise.jl:344\u001b[22m [inlined]\n",
      " [16] \u001b[1m#eval_with_signatures\u001b[22m at \u001b[1m./none:0\u001b[22m [inlined]\n",
      " [17] \u001b[1m#instantiate_sigs!#60\u001b[22m\u001b[1m(\u001b[22m::Bool, ::Base.Iterators.Pairs{Union{},Union{},Tuple{},NamedTuple{(),Tuple{}}}, ::Function, ::OrderedCollections.OrderedDict{Module,OrderedCollections.OrderedDict{Revise.RelocatableExpr,Union{Nothing, Array{Any,1}}}}\u001b[1m)\u001b[22m at \u001b[1m/home/nathan/.julia/packages/Revise/agmgx/src/Revise.jl:352\u001b[22m\n",
      " [18] \u001b[1minstantiate_sigs!\u001b[22m at \u001b[1m/home/nathan/.julia/packages/Revise/agmgx/src/Revise.jl:349\u001b[22m [inlined]\n",
      " [19] \u001b[1mmaybe_parse_from_cache!\u001b[22m\u001b[1m(\u001b[22m::Revise.PkgData, ::String\u001b[1m)\u001b[22m at \u001b[1m/home/nathan/.julia/packages/Revise/agmgx/src/pkgs.jl:224\u001b[22m\n",
      " [20] \u001b[1m(::getfield(Revise, Symbol(\"##26#27\")){String})\u001b[22m\u001b[1m(\u001b[22m\u001b[1m)\u001b[22m at \u001b[1m/home/nathan/.julia/packages/Revise/agmgx/src/pkgs.jl:370\u001b[22m\n",
      " [21] \u001b[1mwith_logstate\u001b[22m\u001b[1m(\u001b[22m::getfield(Revise, Symbol(\"##26#27\")){String}, ::Base.CoreLogging.LogState\u001b[1m)\u001b[22m at \u001b[1m./logging.jl:395\u001b[22m\n",
      " [22] \u001b[1mwith_logger\u001b[22m at \u001b[1m./logging.jl:491\u001b[22m [inlined]\n",
      " [23] \u001b[1mwatch_manifest\u001b[22m\u001b[1m(\u001b[22m::String\u001b[1m)\u001b[22m at \u001b[1m/home/nathan/.julia/packages/Revise/agmgx/src/pkgs.jl:349\u001b[22m\n",
      " [24] \u001b[1m(::Revise.Rescheduler{typeof(Revise.watch_manifest),Tuple{String}})\u001b[22m\u001b[1m(\u001b[22m\u001b[1m)\u001b[22m at \u001b[1m/home/nathan/.julia/packages/Revise/agmgx/src/types.jl:235\u001b[22m\n",
      "while evaluating\n",
      "flush(f::Union{HDF5Object, HDF5Attribute, HDF5Datatype, HDF5File}, scope) = begin\n",
      "        #= /home/nathan/.julia/packages/HDF5/2gJEi/src/HDF5.jl:861 =#\n",
      "        h5f_flush((checkvalid(f)).id, scope)\n",
      "    end\n",
      "in module Main.HDF5\n",
      "\u001b[91mUndefVarError: HDF5Object not defined\u001b[39m\n",
      "Stacktrace:\n",
      " [1] \u001b[1mmacro expansion\u001b[22m at \u001b[1m/home/nathan/.julia/packages/JuliaInterpreter/Or807/src/interpret.jl:64\u001b[22m [inlined]\n",
      " [2] \u001b[1mgetargs\u001b[22m\u001b[1m(\u001b[22m::Array{Any,1}, ::JuliaInterpreter.Frame\u001b[1m)\u001b[22m at \u001b[1m/home/nathan/.julia/packages/JuliaInterpreter/Or807/src/builtins.jl:8\u001b[22m\n",
      " [3] \u001b[1mmaybe_evaluate_builtin\u001b[22m\u001b[1m(\u001b[22m::JuliaInterpreter.Frame, ::Expr, ::Bool\u001b[1m)\u001b[22m at \u001b[1m/home/nathan/.julia/packages/JuliaInterpreter/Or807/src/builtins.jl:86\u001b[22m\n",
      " [4] \u001b[1m#evaluate_call_recurse!#37\u001b[22m\u001b[1m(\u001b[22m::Bool, ::Function, ::Any, ::JuliaInterpreter.Frame, ::Expr\u001b[1m)\u001b[22m at \u001b[1m/home/nathan/.julia/packages/JuliaInterpreter/Or807/src/interpret.jl:209\u001b[22m\n",
      " [5] \u001b[1mevaluate_call_recurse!\u001b[22m at \u001b[1m/home/nathan/.julia/packages/JuliaInterpreter/Or807/src/interpret.jl:206\u001b[22m [inlined]\n",
      " [6] \u001b[1meval_rhs\u001b[22m\u001b[1m(\u001b[22m::Any, ::JuliaInterpreter.Frame, ::Expr\u001b[1m)\u001b[22m at \u001b[1m/home/nathan/.julia/packages/JuliaInterpreter/Or807/src/interpret.jl:381\u001b[22m\n",
      " [7] \u001b[1mstep_expr!\u001b[22m\u001b[1m(\u001b[22m::Any, ::JuliaInterpreter.Frame, ::Any, ::Bool\u001b[1m)\u001b[22m at \u001b[1m/home/nathan/.julia/packages/JuliaInterpreter/Or807/src/interpret.jl:509\u001b[22m\n",
      " [8] \u001b[1msignature\u001b[22m\u001b[1m(\u001b[22m::Any, ::JuliaInterpreter.Frame, ::Any, ::Int64\u001b[1m)\u001b[22m at \u001b[1m/home/nathan/.julia/packages/LoweredCodeUtils/6EZqd/src/LoweredCodeUtils.jl:146\u001b[22m\n",
      " [9] \u001b[1m#methoddef!#3\u001b[22m\u001b[1m(\u001b[22m::Bool, ::Function, ::Any, ::Array{Any,1}, ::JuliaInterpreter.Frame, ::Any, ::Int64\u001b[1m)\u001b[22m at \u001b[1m/home/nathan/.julia/packages/LoweredCodeUtils/6EZqd/src/LoweredCodeUtils.jl:420\u001b[22m\n",
      " [10] \u001b[1m(::getfield(LoweredCodeUtils, Symbol(\"#kw##methoddef!\")))\u001b[22m\u001b[1m(\u001b[22m::NamedTuple{(:define,),Tuple{Bool}}, ::typeof(LoweredCodeUtils.methoddef!), ::Function, ::Array{Any,1}, ::JuliaInterpreter.Frame, ::Expr, ::Int64\u001b[1m)\u001b[22m at \u001b[1m./none:0\u001b[22m\n",
      " [11] \u001b[1m#methods_by_execution!#14\u001b[22m\u001b[1m(\u001b[22m::Bool, ::Bool, ::Function, ::Any, ::Revise.CodeTrackingMethodInfo, ::Dict{Module,Array{Expr,1}}, ::JuliaInterpreter.Frame\u001b[1m)\u001b[22m at \u001b[1m/home/nathan/.julia/packages/Revise/agmgx/src/lowered.jl:81\u001b[22m\n",
      " [12] \u001b[1m#methods_by_execution!\u001b[22m at \u001b[1m./none:0\u001b[22m [inlined]\n",
      " [13] \u001b[1m#methods_by_execution!#9\u001b[22m\u001b[1m(\u001b[22m::Base.Iterators.Pairs{Symbol,Bool,Tuple{Symbol},NamedTuple{(:define,),Tuple{Bool}}}, ::Function, ::Any, ::Revise.CodeTrackingMethodInfo, ::Dict{Module,Array{Expr,1}}, ::Module, ::Expr\u001b[1m)\u001b[22m at \u001b[1m/home/nathan/.julia/packages/Revise/agmgx/src/lowered.jl:49\u001b[22m\n",
      " [14] \u001b[1m#methods_by_execution!\u001b[22m at \u001b[1m./none:0\u001b[22m [inlined]\n",
      " [15] \u001b[1m#eval_with_signatures#59\u001b[22m at \u001b[1m/home/nathan/.julia/packages/Revise/agmgx/src/Revise.jl:344\u001b[22m [inlined]\n",
      " [16] \u001b[1m#eval_with_signatures\u001b[22m at \u001b[1m./none:0\u001b[22m [inlined]\n",
      " [17] \u001b[1m#instantiate_sigs!#60\u001b[22m\u001b[1m(\u001b[22m::Bool, ::Base.Iterators.Pairs{Union{},Union{},Tuple{},NamedTuple{(),Tuple{}}}, ::Function, ::OrderedCollections.OrderedDict{Module,OrderedCollections.OrderedDict{Revise.RelocatableExpr,Union{Nothing, Array{Any,1}}}}\u001b[1m)\u001b[22m at \u001b[1m/home/nathan/.julia/packages/Revise/agmgx/src/Revise.jl:352\u001b[22m\n",
      " [18] \u001b[1minstantiate_sigs!\u001b[22m at \u001b[1m/home/nathan/.julia/packages/Revise/agmgx/src/Revise.jl:349\u001b[22m [inlined]\n",
      " [19] \u001b[1mmaybe_parse_from_cache!\u001b[22m\u001b[1m(\u001b[22m::Revise.PkgData, ::String\u001b[1m)\u001b[22m at \u001b[1m/home/nathan/.julia/packages/Revise/agmgx/src/pkgs.jl:224\u001b[22m\n",
      " [20] \u001b[1m(::getfield(Revise, Symbol(\"##26#27\")){String})\u001b[22m\u001b[1m(\u001b[22m\u001b[1m)\u001b[22m at \u001b[1m/home/nathan/.julia/packages/Revise/agmgx/src/pkgs.jl:370\u001b[22m\n",
      " [21] \u001b[1mwith_logstate\u001b[22m\u001b[1m(\u001b[22m::getfield(Revise, Symbol(\"##26#27\")){String}, ::Base.CoreLogging.LogState\u001b[1m)\u001b[22m at \u001b[1m./logging.jl:395\u001b[22m\n",
      " [22] \u001b[1mwith_logger\u001b[22m at \u001b[1m./logging.jl:491\u001b[22m [inlined]\n",
      " [23] \u001b[1mwatch_manifest\u001b[22m\u001b[1m(\u001b[22m::String\u001b[1m)\u001b[22m at \u001b[1m/home/nathan/.julia/packages/Revise/agmgx/src/pkgs.jl:349\u001b[22m\n",
      " [24] \u001b[1m(::Revise.Rescheduler{typeof(Revise.watch_manifest),Tuple{String}})\u001b[22m\u001b[1m(\u001b[22m\u001b[1m)\u001b[22m at \u001b[1m/home/nathan/.julia/packages/Revise/agmgx/src/types.jl:235\u001b[22m\n",
      "while evaluating\n",
      "flush(f::Union{HDF5Object, HDF5Attribute, HDF5Datatype, HDF5File}) = begin\n",
      "        #= /home/nathan/.julia/packages/HDF5/2gJEi/src/HDF5.jl:862 =#\n",
      "        flush(f, H5F_SCOPE_GLOBAL)\n",
      "    end\n",
      "in module Main.HDF5\n",
      "\u001b[91mTypeError: in Union, in parameter, expected Type, got typeof(Main.HDF5.HDF5File)\u001b[39m\n",
      "Stacktrace:\n",
      " [1] \u001b[1mmaybe_evaluate_builtin\u001b[22m\u001b[1m(\u001b[22m::JuliaInterpreter.Frame, ::Expr, ::Bool\u001b[1m)\u001b[22m at \u001b[1m/home/nathan/.julia/packages/JuliaInterpreter/Or807/src/builtins.jl:86\u001b[22m\n",
      " [2] \u001b[1m#evaluate_call_recurse!#37\u001b[22m\u001b[1m(\u001b[22m::Bool, ::Function, ::Any, ::JuliaInterpreter.Frame, ::Expr\u001b[1m)\u001b[22m at \u001b[1m/home/nathan/.julia/packages/JuliaInterpreter/Or807/src/interpret.jl:209\u001b[22m\n",
      " [3] \u001b[1mevaluate_call_recurse!\u001b[22m at \u001b[1m/home/nathan/.julia/packages/JuliaInterpreter/Or807/src/interpret.jl:206\u001b[22m [inlined]\n",
      " [4] \u001b[1meval_rhs\u001b[22m\u001b[1m(\u001b[22m::Any, ::JuliaInterpreter.Frame, ::Expr\u001b[1m)\u001b[22m at \u001b[1m/home/nathan/.julia/packages/JuliaInterpreter/Or807/src/interpret.jl:381\u001b[22m\n",
      " [5] \u001b[1mstep_expr!\u001b[22m\u001b[1m(\u001b[22m::Any, ::JuliaInterpreter.Frame, ::Any, ::Bool\u001b[1m)\u001b[22m at \u001b[1m/home/nathan/.julia/packages/JuliaInterpreter/Or807/src/interpret.jl:509\u001b[22m\n",
      " [6] \u001b[1msignature\u001b[22m\u001b[1m(\u001b[22m::Any, ::JuliaInterpreter.Frame, ::Any, ::Int64\u001b[1m)\u001b[22m at \u001b[1m/home/nathan/.julia/packages/LoweredCodeUtils/6EZqd/src/LoweredCodeUtils.jl:146\u001b[22m\n",
      " [7] \u001b[1m#methoddef!#3\u001b[22m\u001b[1m(\u001b[22m::Bool, ::Function, ::Any, ::Array{Any,1}, ::JuliaInterpreter.Frame, ::Any, ::Int64\u001b[1m)\u001b[22m at \u001b[1m/home/nathan/.julia/packages/LoweredCodeUtils/6EZqd/src/LoweredCodeUtils.jl:420\u001b[22m\n",
      " [8] \u001b[1m(::getfield(LoweredCodeUtils, Symbol(\"#kw##methoddef!\")))\u001b[22m\u001b[1m(\u001b[22m::NamedTuple{(:define,),Tuple{Bool}}, ::typeof(LoweredCodeUtils.methoddef!), ::Function, ::Array{Any,1}, ::JuliaInterpreter.Frame, ::Expr, ::Int64\u001b[1m)\u001b[22m at \u001b[1m./none:0\u001b[22m\n",
      " [9] \u001b[1m#methods_by_execution!#14\u001b[22m\u001b[1m(\u001b[22m::Bool, ::Bool, ::Function, ::Any, ::Revise.CodeTrackingMethodInfo, ::Dict{Module,Array{Expr,1}}, ::JuliaInterpreter.Frame\u001b[1m)\u001b[22m at \u001b[1m/home/nathan/.julia/packages/Revise/agmgx/src/lowered.jl:81\u001b[22m\n",
      " [10] \u001b[1m#methods_by_execution!\u001b[22m at \u001b[1m./none:0\u001b[22m [inlined]\n",
      " [11] \u001b[1m#methods_by_execution!#9\u001b[22m\u001b[1m(\u001b[22m::Base.Iterators.Pairs{Symbol,Bool,Tuple{Symbol},NamedTuple{(:define,),Tuple{Bool}}}, ::Function, ::Any, ::Revise.CodeTrackingMethodInfo, ::Dict{Module,Array{Expr,1}}, ::Module, ::Expr\u001b[1m)\u001b[22m at \u001b[1m/home/nathan/.julia/packages/Revise/agmgx/src/lowered.jl:49\u001b[22m\n",
      " [12] \u001b[1m#methods_by_execution!\u001b[22m at \u001b[1m./none:0\u001b[22m [inlined]\n",
      " [13] \u001b[1m#eval_with_signatures#59\u001b[22m at \u001b[1m/home/nathan/.julia/packages/Revise/agmgx/src/Revise.jl:344\u001b[22m [inlined]\n",
      " [14] \u001b[1m#eval_with_signatures\u001b[22m at \u001b[1m./none:0\u001b[22m [inlined]\n",
      " [15] \u001b[1m#instantiate_sigs!#60\u001b[22m\u001b[1m(\u001b[22m::Bool, ::Base.Iterators.Pairs{Union{},Union{},Tuple{},NamedTuple{(),Tuple{}}}, ::Function, ::OrderedCollections.OrderedDict{Module,OrderedCollections.OrderedDict{Revise.RelocatableExpr,Union{Nothing, Array{Any,1}}}}\u001b[1m)\u001b[22m at \u001b[1m/home/nathan/.julia/packages/Revise/agmgx/src/Revise.jl:352\u001b[22m\n",
      " [16] \u001b[1minstantiate_sigs!\u001b[22m at \u001b[1m/home/nathan/.julia/packages/Revise/agmgx/src/Revise.jl:349\u001b[22m [inlined]\n",
      " [17] \u001b[1mmaybe_parse_from_cache!\u001b[22m\u001b[1m(\u001b[22m::Revise.PkgData, ::String\u001b[1m)\u001b[22m at \u001b[1m/home/nathan/.julia/packages/Revise/agmgx/src/pkgs.jl:224\u001b[22m\n",
      " [18] \u001b[1m(::getfield(Revise, Symbol(\"##26#27\")){String})\u001b[22m\u001b[1m(\u001b[22m\u001b[1m)\u001b[22m at \u001b[1m/home/nathan/.julia/packages/Revise/agmgx/src/pkgs.jl:370\u001b[22m\n",
      " [19] \u001b[1mwith_logstate\u001b[22m\u001b[1m(\u001b[22m::getfield(Revise, Symbol(\"##26#27\")){String}, ::Base.CoreLogging.LogState\u001b[1m)\u001b[22m at \u001b[1m./logging.jl:395\u001b[22m\n",
      " [20] \u001b[1mwith_logger\u001b[22m at \u001b[1m./logging.jl:491\u001b[22m [inlined]\n",
      " [21] \u001b[1mwatch_manifest\u001b[22m\u001b[1m(\u001b[22m::String\u001b[1m)\u001b[22m at \u001b[1m/home/nathan/.julia/packages/Revise/agmgx/src/pkgs.jl:349\u001b[22m\n",
      " [22] \u001b[1m(::Revise.Rescheduler{typeof(Revise.watch_manifest),Tuple{String}})\u001b[22m\u001b[1m(\u001b[22m\u001b[1m)\u001b[22m at \u001b[1m/home/nathan/.julia/packages/Revise/agmgx/src/types.jl:235\u001b[22m\n",
      "while evaluating\n",
      "g_open(parent::Union{HDF5File, HDF5Group}, name::String, apl::HDF5Properties=DEFAULT_PROPERTIES) = begin\n",
      "        #= /home/nathan/.julia/packages/HDF5/2gJEi/src/HDF5.jl:865 =#\n",
      "        HDF5Group(h5g_open((checkvalid(parent)).id, name, apl.id), file(parent))\n",
      "    end\n",
      "in module Main.HDF5\n",
      "\u001b[91mTypeError: in Union, in parameter, expected Type, got typeof(Main.HDF5.HDF5File)\u001b[39m\n",
      "Stacktrace:\n",
      " [1] \u001b[1mmaybe_evaluate_builtin\u001b[22m\u001b[1m(\u001b[22m::JuliaInterpreter.Frame, ::Expr, ::Bool\u001b[1m)\u001b[22m at \u001b[1m/home/nathan/.julia/packages/JuliaInterpreter/Or807/src/builtins.jl:86\u001b[22m\n",
      " [2] \u001b[1m#evaluate_call_recurse!#37\u001b[22m\u001b[1m(\u001b[22m::Bool, ::Function, ::Any, ::JuliaInterpreter.Frame, ::Expr\u001b[1m)\u001b[22m at \u001b[1m/home/nathan/.julia/packages/JuliaInterpreter/Or807/src/interpret.jl:209\u001b[22m\n"
     ]
    },
    {
     "name": "stderr",
     "output_type": "stream",
     "text": [
      " [3] \u001b[1mevaluate_call_recurse!\u001b[22m at \u001b[1m/home/nathan/.julia/packages/JuliaInterpreter/Or807/src/interpret.jl:206\u001b[22m [inlined]\n",
      " [4] \u001b[1meval_rhs\u001b[22m\u001b[1m(\u001b[22m::Any, ::JuliaInterpreter.Frame, ::Expr\u001b[1m)\u001b[22m at \u001b[1m/home/nathan/.julia/packages/JuliaInterpreter/Or807/src/interpret.jl:381\u001b[22m\n",
      " [5] \u001b[1mstep_expr!\u001b[22m\u001b[1m(\u001b[22m::Any, ::JuliaInterpreter.Frame, ::Any, ::Bool\u001b[1m)\u001b[22m at \u001b[1m/home/nathan/.julia/packages/JuliaInterpreter/Or807/src/interpret.jl:509\u001b[22m\n",
      " [6] \u001b[1msignature\u001b[22m\u001b[1m(\u001b[22m::Any, ::JuliaInterpreter.Frame, ::Any, ::Int64\u001b[1m)\u001b[22m at \u001b[1m/home/nathan/.julia/packages/LoweredCodeUtils/6EZqd/src/LoweredCodeUtils.jl:146\u001b[22m\n",
      " [7] \u001b[1m#methoddef!#3\u001b[22m\u001b[1m(\u001b[22m::Bool, ::Function, ::Any, ::Array{Any,1}, ::JuliaInterpreter.Frame, ::Any, ::Int64\u001b[1m)\u001b[22m at \u001b[1m/home/nathan/.julia/packages/LoweredCodeUtils/6EZqd/src/LoweredCodeUtils.jl:420\u001b[22m\n",
      " [8] \u001b[1m(::getfield(LoweredCodeUtils, Symbol(\"#kw##methoddef!\")))\u001b[22m\u001b[1m(\u001b[22m::NamedTuple{(:define,),Tuple{Bool}}, ::typeof(LoweredCodeUtils.methoddef!), ::Function, ::Array{Any,1}, ::JuliaInterpreter.Frame, ::Expr, ::Int64\u001b[1m)\u001b[22m at \u001b[1m./none:0\u001b[22m\n",
      " [9] \u001b[1m#methods_by_execution!#14\u001b[22m\u001b[1m(\u001b[22m::Bool, ::Bool, ::Function, ::Any, ::Revise.CodeTrackingMethodInfo, ::Dict{Module,Array{Expr,1}}, ::JuliaInterpreter.Frame\u001b[1m)\u001b[22m at \u001b[1m/home/nathan/.julia/packages/Revise/agmgx/src/lowered.jl:81\u001b[22m\n",
      " [10] \u001b[1m#methods_by_execution!\u001b[22m at \u001b[1m./none:0\u001b[22m [inlined]\n",
      " [11] \u001b[1m#methods_by_execution!#9\u001b[22m\u001b[1m(\u001b[22m::Base.Iterators.Pairs{Symbol,Bool,Tuple{Symbol},NamedTuple{(:define,),Tuple{Bool}}}, ::Function, ::Any, ::Revise.CodeTrackingMethodInfo, ::Dict{Module,Array{Expr,1}}, ::Module, ::Expr\u001b[1m)\u001b[22m at \u001b[1m/home/nathan/.julia/packages/Revise/agmgx/src/lowered.jl:49\u001b[22m\n",
      " [12] \u001b[1m#methods_by_execution!\u001b[22m at \u001b[1m./none:0\u001b[22m [inlined]\n",
      " [13] \u001b[1m#eval_with_signatures#59\u001b[22m at \u001b[1m/home/nathan/.julia/packages/Revise/agmgx/src/Revise.jl:344\u001b[22m [inlined]\n",
      " [14] \u001b[1m#eval_with_signatures\u001b[22m at \u001b[1m./none:0\u001b[22m [inlined]\n",
      " [15] \u001b[1m#instantiate_sigs!#60\u001b[22m\u001b[1m(\u001b[22m::Bool, ::Base.Iterators.Pairs{Union{},Union{},Tuple{},NamedTuple{(),Tuple{}}}, ::Function, ::OrderedCollections.OrderedDict{Module,OrderedCollections.OrderedDict{Revise.RelocatableExpr,Union{Nothing, Array{Any,1}}}}\u001b[1m)\u001b[22m at \u001b[1m/home/nathan/.julia/packages/Revise/agmgx/src/Revise.jl:352\u001b[22m\n",
      " [16] \u001b[1minstantiate_sigs!\u001b[22m at \u001b[1m/home/nathan/.julia/packages/Revise/agmgx/src/Revise.jl:349\u001b[22m [inlined]\n",
      " [17] \u001b[1mmaybe_parse_from_cache!\u001b[22m\u001b[1m(\u001b[22m::Revise.PkgData, ::String\u001b[1m)\u001b[22m at \u001b[1m/home/nathan/.julia/packages/Revise/agmgx/src/pkgs.jl:224\u001b[22m\n",
      " [18] \u001b[1m(::getfield(Revise, Symbol(\"##26#27\")){String})\u001b[22m\u001b[1m(\u001b[22m\u001b[1m)\u001b[22m at \u001b[1m/home/nathan/.julia/packages/Revise/agmgx/src/pkgs.jl:370\u001b[22m\n",
      " [19] \u001b[1mwith_logstate\u001b[22m\u001b[1m(\u001b[22m::getfield(Revise, Symbol(\"##26#27\")){String}, ::Base.CoreLogging.LogState\u001b[1m)\u001b[22m at \u001b[1m./logging.jl:395\u001b[22m\n",
      " [20] \u001b[1mwith_logger\u001b[22m at \u001b[1m./logging.jl:491\u001b[22m [inlined]\n",
      " [21] \u001b[1mwatch_manifest\u001b[22m\u001b[1m(\u001b[22m::String\u001b[1m)\u001b[22m at \u001b[1m/home/nathan/.julia/packages/Revise/agmgx/src/pkgs.jl:349\u001b[22m\n",
      " [22] \u001b[1m(::Revise.Rescheduler{typeof(Revise.watch_manifest),Tuple{String}})\u001b[22m\u001b[1m(\u001b[22m\u001b[1m)\u001b[22m at \u001b[1m/home/nathan/.julia/packages/Revise/agmgx/src/types.jl:235\u001b[22m\n",
      "while evaluating\n",
      "d_open(parent::Union{HDF5File, HDF5Group}, name::String, apl::HDF5Properties=DEFAULT_PROPERTIES, xpl::HDF5Properties=DEFAULT_PROPERTIES) = begin\n",
      "        #= /home/nathan/.julia/packages/HDF5/2gJEi/src/HDF5.jl:866 =#\n",
      "        HDF5Dataset(h5d_open((checkvalid(parent)).id, name, apl.id), file(parent), xpl.id)\n",
      "    end\n",
      "in module Main.HDF5\n",
      "\u001b[91mTypeError: in Union, in parameter, expected Type, got typeof(Main.HDF5.HDF5File)\u001b[39m\n",
      "Stacktrace:\n",
      " [1] \u001b[1mmaybe_evaluate_builtin\u001b[22m\u001b[1m(\u001b[22m::JuliaInterpreter.Frame, ::Expr, ::Bool\u001b[1m)\u001b[22m at \u001b[1m/home/nathan/.julia/packages/JuliaInterpreter/Or807/src/builtins.jl:86\u001b[22m\n",
      " [2] \u001b[1m#evaluate_call_recurse!#37\u001b[22m\u001b[1m(\u001b[22m::Bool, ::Function, ::Any, ::JuliaInterpreter.Frame, ::Expr\u001b[1m)\u001b[22m at \u001b[1m/home/nathan/.julia/packages/JuliaInterpreter/Or807/src/interpret.jl:209\u001b[22m\n",
      " [3] \u001b[1mevaluate_call_recurse!\u001b[22m at \u001b[1m/home/nathan/.julia/packages/JuliaInterpreter/Or807/src/interpret.jl:206\u001b[22m [inlined]\n",
      " [4] \u001b[1meval_rhs\u001b[22m\u001b[1m(\u001b[22m::Any, ::JuliaInterpreter.Frame, ::Expr\u001b[1m)\u001b[22m at \u001b[1m/home/nathan/.julia/packages/JuliaInterpreter/Or807/src/interpret.jl:381\u001b[22m\n",
      " [5] \u001b[1mstep_expr!\u001b[22m\u001b[1m(\u001b[22m::Any, ::JuliaInterpreter.Frame, ::Any, ::Bool\u001b[1m)\u001b[22m at \u001b[1m/home/nathan/.julia/packages/JuliaInterpreter/Or807/src/interpret.jl:509\u001b[22m\n",
      " [6] \u001b[1msignature\u001b[22m\u001b[1m(\u001b[22m::Any, ::JuliaInterpreter.Frame, ::Any, ::Int64\u001b[1m)\u001b[22m at \u001b[1m/home/nathan/.julia/packages/LoweredCodeUtils/6EZqd/src/LoweredCodeUtils.jl:146\u001b[22m\n",
      " [7] \u001b[1m#methoddef!#3\u001b[22m\u001b[1m(\u001b[22m::Bool, ::Function, ::Any, ::Array{Any,1}, ::JuliaInterpreter.Frame, ::Any, ::Int64\u001b[1m)\u001b[22m at \u001b[1m/home/nathan/.julia/packages/LoweredCodeUtils/6EZqd/src/LoweredCodeUtils.jl:420\u001b[22m\n",
      " [8] \u001b[1m(::getfield(LoweredCodeUtils, Symbol(\"#kw##methoddef!\")))\u001b[22m\u001b[1m(\u001b[22m::NamedTuple{(:define,),Tuple{Bool}}, ::typeof(LoweredCodeUtils.methoddef!), ::Function, ::Array{Any,1}, ::JuliaInterpreter.Frame, ::Expr, ::Int64\u001b[1m)\u001b[22m at \u001b[1m./none:0\u001b[22m\n",
      " [9] \u001b[1m#methods_by_execution!#14\u001b[22m\u001b[1m(\u001b[22m::Bool, ::Bool, ::Function, ::Any, ::Revise.CodeTrackingMethodInfo, ::Dict{Module,Array{Expr,1}}, ::JuliaInterpreter.Frame\u001b[1m)\u001b[22m at \u001b[1m/home/nathan/.julia/packages/Revise/agmgx/src/lowered.jl:81\u001b[22m\n",
      " [10] \u001b[1m#methods_by_execution!\u001b[22m at \u001b[1m./none:0\u001b[22m [inlined]\n",
      " [11] \u001b[1m#methods_by_execution!#9\u001b[22m\u001b[1m(\u001b[22m::Base.Iterators.Pairs{Symbol,Bool,Tuple{Symbol},NamedTuple{(:define,),Tuple{Bool}}}, ::Function, ::Any, ::Revise.CodeTrackingMethodInfo, ::Dict{Module,Array{Expr,1}}, ::Module, ::Expr\u001b[1m)\u001b[22m at \u001b[1m/home/nathan/.julia/packages/Revise/agmgx/src/lowered.jl:49\u001b[22m\n",
      " [12] \u001b[1m#methods_by_execution!\u001b[22m at \u001b[1m./none:0\u001b[22m [inlined]\n",
      " [13] \u001b[1m#eval_with_signatures#59\u001b[22m at \u001b[1m/home/nathan/.julia/packages/Revise/agmgx/src/Revise.jl:344\u001b[22m [inlined]\n",
      " [14] \u001b[1m#eval_with_signatures\u001b[22m at \u001b[1m./none:0\u001b[22m [inlined]\n",
      " [15] \u001b[1m#instantiate_sigs!#60\u001b[22m\u001b[1m(\u001b[22m::Bool, ::Base.Iterators.Pairs{Union{},Union{},Tuple{},NamedTuple{(),Tuple{}}}, ::Function, ::OrderedCollections.OrderedDict{Module,OrderedCollections.OrderedDict{Revise.RelocatableExpr,Union{Nothing, Array{Any,1}}}}\u001b[1m)\u001b[22m at \u001b[1m/home/nathan/.julia/packages/Revise/agmgx/src/Revise.jl:352\u001b[22m\n",
      " [16] \u001b[1minstantiate_sigs!\u001b[22m at \u001b[1m/home/nathan/.julia/packages/Revise/agmgx/src/Revise.jl:349\u001b[22m [inlined]\n",
      " [17] \u001b[1mmaybe_parse_from_cache!\u001b[22m\u001b[1m(\u001b[22m::Revise.PkgData, ::String\u001b[1m)\u001b[22m at \u001b[1m/home/nathan/.julia/packages/Revise/agmgx/src/pkgs.jl:224\u001b[22m\n",
      " [18] \u001b[1m(::getfield(Revise, Symbol(\"##26#27\")){String})\u001b[22m\u001b[1m(\u001b[22m\u001b[1m)\u001b[22m at \u001b[1m/home/nathan/.julia/packages/Revise/agmgx/src/pkgs.jl:370\u001b[22m\n",
      " [19] \u001b[1mwith_logstate\u001b[22m\u001b[1m(\u001b[22m::getfield(Revise, Symbol(\"##26#27\")){String}, ::Base.CoreLogging.LogState\u001b[1m)\u001b[22m at \u001b[1m./logging.jl:395\u001b[22m\n",
      " [20] \u001b[1mwith_logger\u001b[22m at \u001b[1m./logging.jl:491\u001b[22m [inlined]\n",
      " [21] \u001b[1mwatch_manifest\u001b[22m\u001b[1m(\u001b[22m::String\u001b[1m)\u001b[22m at \u001b[1m/home/nathan/.julia/packages/Revise/agmgx/src/pkgs.jl:349\u001b[22m\n",
      " [22] \u001b[1m(::Revise.Rescheduler{typeof(Revise.watch_manifest),Tuple{String}})\u001b[22m\u001b[1m(\u001b[22m\u001b[1m)\u001b[22m at \u001b[1m/home/nathan/.julia/packages/Revise/agmgx/src/types.jl:235\u001b[22m\n",
      "while evaluating\n",
      "t_open(parent::Union{HDF5File, HDF5Group}, name::String, apl::HDF5Properties=DEFAULT_PROPERTIES) = begin\n",
      "        #= /home/nathan/.julia/packages/HDF5/2gJEi/src/HDF5.jl:867 =#\n",
      "        HDF5Datatype(h5t_open((checkvalid(parent)).id, name, apl.id), file(parent))\n",
      "    end\n",
      "in module Main.HDF5\n",
      "\u001b[91mUndefVarError: HDF5Object not defined\u001b[39m\n",
      "Stacktrace:\n",
      " [1] \u001b[1mmacro expansion\u001b[22m at \u001b[1m/home/nathan/.julia/packages/JuliaInterpreter/Or807/src/interpret.jl:64\u001b[22m [inlined]\n",
      " [2] \u001b[1mgetargs\u001b[22m\u001b[1m(\u001b[22m::Array{Any,1}, ::JuliaInterpreter.Frame\u001b[1m)\u001b[22m at \u001b[1m/home/nathan/.julia/packages/JuliaInterpreter/Or807/src/builtins.jl:8\u001b[22m\n",
      " [3] \u001b[1mmaybe_evaluate_builtin\u001b[22m\u001b[1m(\u001b[22m::JuliaInterpreter.Frame, ::Expr, ::Bool\u001b[1m)\u001b[22m at \u001b[1m/home/nathan/.julia/packages/JuliaInterpreter/Or807/src/builtins.jl:86\u001b[22m\n",
      " [4] \u001b[1m#evaluate_call_recurse!#37\u001b[22m\u001b[1m(\u001b[22m::Bool, ::Function, ::Any, ::JuliaInterpreter.Frame, ::Expr\u001b[1m)\u001b[22m at \u001b[1m/home/nathan/.julia/packages/JuliaInterpreter/Or807/src/interpret.jl:209\u001b[22m\n",
      " [5] \u001b[1mevaluate_call_recurse!\u001b[22m at \u001b[1m/home/nathan/.julia/packages/JuliaInterpreter/Or807/src/interpret.jl:206\u001b[22m [inlined]\n",
      " [6] \u001b[1meval_rhs\u001b[22m\u001b[1m(\u001b[22m::Any, ::JuliaInterpreter.Frame, ::Expr\u001b[1m)\u001b[22m at \u001b[1m/home/nathan/.julia/packages/JuliaInterpreter/Or807/src/interpret.jl:381\u001b[22m\n",
      " [7] \u001b[1mstep_expr!\u001b[22m\u001b[1m(\u001b[22m::Any, ::JuliaInterpreter.Frame, ::Any, ::Bool\u001b[1m)\u001b[22m at \u001b[1m/home/nathan/.julia/packages/JuliaInterpreter/Or807/src/interpret.jl:509\u001b[22m\n",
      " [8] \u001b[1msignature\u001b[22m\u001b[1m(\u001b[22m::Any, ::JuliaInterpreter.Frame, ::Any, ::Int64\u001b[1m)\u001b[22m at \u001b[1m/home/nathan/.julia/packages/LoweredCodeUtils/6EZqd/src/LoweredCodeUtils.jl:146\u001b[22m\n",
      " [9] \u001b[1m#methoddef!#3\u001b[22m\u001b[1m(\u001b[22m::Bool, ::Function, ::Any, ::Array{Any,1}, ::JuliaInterpreter.Frame, ::Any, ::Int64\u001b[1m)\u001b[22m at \u001b[1m/home/nathan/.julia/packages/LoweredCodeUtils/6EZqd/src/LoweredCodeUtils.jl:420\u001b[22m\n",
      " [10] \u001b[1m(::getfield(LoweredCodeUtils, Symbol(\"#kw##methoddef!\")))\u001b[22m\u001b[1m(\u001b[22m::NamedTuple{(:define,),Tuple{Bool}}, ::typeof(LoweredCodeUtils.methoddef!), ::Function, ::Array{Any,1}, ::JuliaInterpreter.Frame, ::Expr, ::Int64\u001b[1m)\u001b[22m at \u001b[1m./none:0\u001b[22m\n",
      " [11] \u001b[1m#methods_by_execution!#14\u001b[22m\u001b[1m(\u001b[22m::Bool, ::Bool, ::Function, ::Any, ::Revise.CodeTrackingMethodInfo, ::Dict{Module,Array{Expr,1}}, ::JuliaInterpreter.Frame\u001b[1m)\u001b[22m at \u001b[1m/home/nathan/.julia/packages/Revise/agmgx/src/lowered.jl:81\u001b[22m\n",
      " [12] \u001b[1m#methods_by_execution!\u001b[22m at \u001b[1m./none:0\u001b[22m [inlined]\n"
     ]
    },
    {
     "name": "stderr",
     "output_type": "stream",
     "text": [
      " [13] \u001b[1m#methods_by_execution!#9\u001b[22m\u001b[1m(\u001b[22m::Base.Iterators.Pairs{Symbol,Bool,Tuple{Symbol},NamedTuple{(:define,),Tuple{Bool}}}, ::Function, ::Any, ::Revise.CodeTrackingMethodInfo, ::Dict{Module,Array{Expr,1}}, ::Module, ::Expr\u001b[1m)\u001b[22m at \u001b[1m/home/nathan/.julia/packages/Revise/agmgx/src/lowered.jl:49\u001b[22m\n",
      " [14] \u001b[1m#methods_by_execution!\u001b[22m at \u001b[1m./none:0\u001b[22m [inlined]\n",
      " [15] \u001b[1m#eval_with_signatures#59\u001b[22m at \u001b[1m/home/nathan/.julia/packages/Revise/agmgx/src/Revise.jl:344\u001b[22m [inlined]\n",
      " [16] \u001b[1m#eval_with_signatures\u001b[22m at \u001b[1m./none:0\u001b[22m [inlined]\n",
      " [17] \u001b[1m#instantiate_sigs!#60\u001b[22m\u001b[1m(\u001b[22m::Bool, ::Base.Iterators.Pairs{Union{},Union{},Tuple{},NamedTuple{(),Tuple{}}}, ::Function, ::OrderedCollections.OrderedDict{Module,OrderedCollections.OrderedDict{Revise.RelocatableExpr,Union{Nothing, Array{Any,1}}}}\u001b[1m)\u001b[22m at \u001b[1m/home/nathan/.julia/packages/Revise/agmgx/src/Revise.jl:352\u001b[22m\n",
      " [18] \u001b[1minstantiate_sigs!\u001b[22m at \u001b[1m/home/nathan/.julia/packages/Revise/agmgx/src/Revise.jl:349\u001b[22m [inlined]\n",
      " [19] \u001b[1mmaybe_parse_from_cache!\u001b[22m\u001b[1m(\u001b[22m::Revise.PkgData, ::String\u001b[1m)\u001b[22m at \u001b[1m/home/nathan/.julia/packages/Revise/agmgx/src/pkgs.jl:224\u001b[22m\n",
      " [20] \u001b[1m(::getfield(Revise, Symbol(\"##26#27\")){String})\u001b[22m\u001b[1m(\u001b[22m\u001b[1m)\u001b[22m at \u001b[1m/home/nathan/.julia/packages/Revise/agmgx/src/pkgs.jl:370\u001b[22m\n",
      " [21] \u001b[1mwith_logstate\u001b[22m\u001b[1m(\u001b[22m::getfield(Revise, Symbol(\"##26#27\")){String}, ::Base.CoreLogging.LogState\u001b[1m)\u001b[22m at \u001b[1m./logging.jl:395\u001b[22m\n",
      " [22] \u001b[1mwith_logger\u001b[22m at \u001b[1m./logging.jl:491\u001b[22m [inlined]\n",
      " [23] \u001b[1mwatch_manifest\u001b[22m\u001b[1m(\u001b[22m::String\u001b[1m)\u001b[22m at \u001b[1m/home/nathan/.julia/packages/Revise/agmgx/src/pkgs.jl:349\u001b[22m\n",
      " [24] \u001b[1m(::Revise.Rescheduler{typeof(Revise.watch_manifest),Tuple{String}})\u001b[22m\u001b[1m(\u001b[22m\u001b[1m)\u001b[22m at \u001b[1m/home/nathan/.julia/packages/Revise/agmgx/src/types.jl:235\u001b[22m\n",
      "while evaluating\n",
      "a_open(parent::Union{HDF5File, HDF5Object}, name::String) = begin\n",
      "        #= /home/nathan/.julia/packages/HDF5/2gJEi/src/HDF5.jl:868 =#\n",
      "        HDF5Attribute(h5a_open((checkvalid(parent)).id, name, H5P_DEFAULT), file(parent))\n",
      "    end\n",
      "in module Main.HDF5\n",
      "\u001b[91mUndefVarError: Hid not defined\u001b[39m\n",
      "Stacktrace:\n",
      " [1] \u001b[1mmacro expansion\u001b[22m at \u001b[1m/home/nathan/.julia/packages/JuliaInterpreter/Or807/src/interpret.jl:64\u001b[22m [inlined]\n",
      " [2] \u001b[1mgetargs\u001b[22m\u001b[1m(\u001b[22m::Array{Any,1}, ::JuliaInterpreter.Frame\u001b[1m)\u001b[22m at \u001b[1m/home/nathan/.julia/packages/JuliaInterpreter/Or807/src/builtins.jl:8\u001b[22m\n",
      " [3] \u001b[1mmaybe_evaluate_builtin\u001b[22m\u001b[1m(\u001b[22m::JuliaInterpreter.Frame, ::Expr, ::Bool\u001b[1m)\u001b[22m at \u001b[1m/home/nathan/.julia/packages/JuliaInterpreter/Or807/src/builtins.jl:136\u001b[22m\n",
      " [4] \u001b[1m#evaluate_call_recurse!#37\u001b[22m\u001b[1m(\u001b[22m::Bool, ::Function, ::Any, ::JuliaInterpreter.Frame, ::Expr\u001b[1m)\u001b[22m at \u001b[1m/home/nathan/.julia/packages/JuliaInterpreter/Or807/src/interpret.jl:209\u001b[22m\n",
      " [5] \u001b[1mevaluate_call_recurse!\u001b[22m at \u001b[1m/home/nathan/.julia/packages/JuliaInterpreter/Or807/src/interpret.jl:206\u001b[22m [inlined]\n",
      " [6] \u001b[1meval_rhs\u001b[22m\u001b[1m(\u001b[22m::Any, ::JuliaInterpreter.Frame, ::Expr\u001b[1m)\u001b[22m at \u001b[1m/home/nathan/.julia/packages/JuliaInterpreter/Or807/src/interpret.jl:381\u001b[22m\n",
      " [7] \u001b[1mstep_expr!\u001b[22m\u001b[1m(\u001b[22m::Any, ::JuliaInterpreter.Frame, ::Any, ::Bool\u001b[1m)\u001b[22m at \u001b[1m/home/nathan/.julia/packages/JuliaInterpreter/Or807/src/interpret.jl:509\u001b[22m\n",
      " [8] \u001b[1msignature\u001b[22m\u001b[1m(\u001b[22m::Any, ::JuliaInterpreter.Frame, ::Any, ::Int64\u001b[1m)\u001b[22m at \u001b[1m/home/nathan/.julia/packages/LoweredCodeUtils/6EZqd/src/LoweredCodeUtils.jl:146\u001b[22m\n",
      " [9] \u001b[1m#methoddef!#3\u001b[22m\u001b[1m(\u001b[22m::Bool, ::Function, ::Any, ::Array{Any,1}, ::JuliaInterpreter.Frame, ::Any, ::Int64\u001b[1m)\u001b[22m at \u001b[1m/home/nathan/.julia/packages/LoweredCodeUtils/6EZqd/src/LoweredCodeUtils.jl:420\u001b[22m\n",
      " [10] \u001b[1m(::getfield(LoweredCodeUtils, Symbol(\"#kw##methoddef!\")))\u001b[22m\u001b[1m(\u001b[22m::NamedTuple{(:define,),Tuple{Bool}}, ::typeof(LoweredCodeUtils.methoddef!), ::Function, ::Array{Any,1}, ::JuliaInterpreter.Frame, ::Expr, ::Int64\u001b[1m)\u001b[22m at \u001b[1m./none:0\u001b[22m\n",
      " [11] \u001b[1m#methods_by_execution!#14\u001b[22m\u001b[1m(\u001b[22m::Bool, ::Bool, ::Function, ::Any, ::Revise.CodeTrackingMethodInfo, ::Dict{Module,Array{Expr,1}}, ::JuliaInterpreter.Frame\u001b[1m)\u001b[22m at \u001b[1m/home/nathan/.julia/packages/Revise/agmgx/src/lowered.jl:81\u001b[22m\n",
      " [12] \u001b[1m#methods_by_execution!\u001b[22m at \u001b[1m./none:0\u001b[22m [inlined]\n",
      " [13] \u001b[1m#methods_by_execution!#9\u001b[22m\u001b[1m(\u001b[22m::Base.Iterators.Pairs{Symbol,Bool,Tuple{Symbol},NamedTuple{(:define,),Tuple{Bool}}}, ::Function, ::Any, ::Revise.CodeTrackingMethodInfo, ::Dict{Module,Array{Expr,1}}, ::Module, ::Expr\u001b[1m)\u001b[22m at \u001b[1m/home/nathan/.julia/packages/Revise/agmgx/src/lowered.jl:49\u001b[22m\n",
      " [14] \u001b[1m#methods_by_execution!\u001b[22m at \u001b[1m./none:0\u001b[22m [inlined]\n",
      " [15] \u001b[1m#eval_with_signatures#59\u001b[22m at \u001b[1m/home/nathan/.julia/packages/Revise/agmgx/src/Revise.jl:344\u001b[22m [inlined]\n",
      " [16] \u001b[1m#eval_with_signatures\u001b[22m at \u001b[1m./none:0\u001b[22m [inlined]\n",
      " [17] \u001b[1m#instantiate_sigs!#60\u001b[22m\u001b[1m(\u001b[22m::Bool, ::Base.Iterators.Pairs{Union{},Union{},Tuple{},NamedTuple{(),Tuple{}}}, ::Function, ::OrderedCollections.OrderedDict{Module,OrderedCollections.OrderedDict{Revise.RelocatableExpr,Union{Nothing, Array{Any,1}}}}\u001b[1m)\u001b[22m at \u001b[1m/home/nathan/.julia/packages/Revise/agmgx/src/Revise.jl:352\u001b[22m\n",
      " [18] \u001b[1minstantiate_sigs!\u001b[22m at \u001b[1m/home/nathan/.julia/packages/Revise/agmgx/src/Revise.jl:349\u001b[22m [inlined]\n",
      " [19] \u001b[1mmaybe_parse_from_cache!\u001b[22m\u001b[1m(\u001b[22m::Revise.PkgData, ::String\u001b[1m)\u001b[22m at \u001b[1m/home/nathan/.julia/packages/Revise/agmgx/src/pkgs.jl:224\u001b[22m\n",
      " [20] \u001b[1m(::getfield(Revise, Symbol(\"##26#27\")){String})\u001b[22m\u001b[1m(\u001b[22m\u001b[1m)\u001b[22m at \u001b[1m/home/nathan/.julia/packages/Revise/agmgx/src/pkgs.jl:370\u001b[22m\n",
      " [21] \u001b[1mwith_logstate\u001b[22m\u001b[1m(\u001b[22m::getfield(Revise, Symbol(\"##26#27\")){String}, ::Base.CoreLogging.LogState\u001b[1m)\u001b[22m at \u001b[1m./logging.jl:395\u001b[22m\n",
      " [22] \u001b[1mwith_logger\u001b[22m at \u001b[1m./logging.jl:491\u001b[22m [inlined]\n",
      " [23] \u001b[1mwatch_manifest\u001b[22m\u001b[1m(\u001b[22m::String\u001b[1m)\u001b[22m at \u001b[1m/home/nathan/.julia/packages/Revise/agmgx/src/pkgs.jl:349\u001b[22m\n",
      " [24] \u001b[1m(::Revise.Rescheduler{typeof(Revise.watch_manifest),Tuple{String}})\u001b[22m\u001b[1m(\u001b[22m\u001b[1m)\u001b[22m at \u001b[1m/home/nathan/.julia/packages/Revise/agmgx/src/types.jl:235\u001b[22m\n",
      "while evaluating\n",
      "function h5object(obj_id::Hid, parent)\n",
      "    #= /home/nathan/.julia/packages/HDF5/2gJEi/src/HDF5.jl:871 =#\n",
      "    obj_type = h5i_get_type(obj_id)\n",
      "    #= /home/nathan/.julia/packages/HDF5/2gJEi/src/HDF5.jl:872 =#\n",
      "    if obj_type == H5I_GROUP\n",
      "        HDF5Group(obj_id, file(parent))\n",
      "    else\n",
      "        if obj_type == H5I_DATATYPE\n",
      "            HDF5Datatype(obj_id, file(parent))\n",
      "        else\n",
      "            if obj_type == H5I_DATASET\n",
      "                HDF5Dataset(obj_id, file(parent))\n",
      "            else\n",
      "                error(\"Invalid object type for path \", path)\n",
      "            end\n",
      "        end\n",
      "    end\n",
      "end\n",
      "in module Main.HDF5\n",
      "\u001b[91mTypeError: in Union, in parameter, expected Type, got typeof(Main.HDF5.HDF5Group)\u001b[39m\n",
      "Stacktrace:\n",
      " [1] \u001b[1mmaybe_evaluate_builtin\u001b[22m\u001b[1m(\u001b[22m::JuliaInterpreter.Frame, ::Expr, ::Bool\u001b[1m)\u001b[22m at \u001b[1m/home/nathan/.julia/packages/JuliaInterpreter/Or807/src/builtins.jl:86\u001b[22m\n",
      " [2] \u001b[1m#evaluate_call_recurse!#37\u001b[22m\u001b[1m(\u001b[22m::Bool, ::Function, ::Any, ::JuliaInterpreter.Frame, ::Expr\u001b[1m)\u001b[22m at \u001b[1m/home/nathan/.julia/packages/JuliaInterpreter/Or807/src/interpret.jl:209\u001b[22m\n",
      " [3] \u001b[1mevaluate_call_recurse!\u001b[22m at \u001b[1m/home/nathan/.julia/packages/JuliaInterpreter/Or807/src/interpret.jl:206\u001b[22m [inlined]\n",
      " [4] \u001b[1meval_rhs\u001b[22m\u001b[1m(\u001b[22m::Any, ::JuliaInterpreter.Frame, ::Expr\u001b[1m)\u001b[22m at \u001b[1m/home/nathan/.julia/packages/JuliaInterpreter/Or807/src/interpret.jl:381\u001b[22m\n",
      " [5] \u001b[1mstep_expr!\u001b[22m\u001b[1m(\u001b[22m::Any, ::JuliaInterpreter.Frame, ::Any, ::Bool\u001b[1m)\u001b[22m at \u001b[1m/home/nathan/.julia/packages/JuliaInterpreter/Or807/src/interpret.jl:509\u001b[22m\n",
      " [6] \u001b[1msignature\u001b[22m\u001b[1m(\u001b[22m::Any, ::JuliaInterpreter.Frame, ::Any, ::Int64\u001b[1m)\u001b[22m at \u001b[1m/home/nathan/.julia/packages/LoweredCodeUtils/6EZqd/src/LoweredCodeUtils.jl:146\u001b[22m\n",
      " [7] \u001b[1m#methoddef!#3\u001b[22m\u001b[1m(\u001b[22m::Bool, ::Function, ::Any, ::Array{Any,1}, ::JuliaInterpreter.Frame, ::Any, ::Int64\u001b[1m)\u001b[22m at \u001b[1m/home/nathan/.julia/packages/LoweredCodeUtils/6EZqd/src/LoweredCodeUtils.jl:420\u001b[22m\n",
      " [8] \u001b[1m(::getfield(LoweredCodeUtils, Symbol(\"#kw##methoddef!\")))\u001b[22m\u001b[1m(\u001b[22m::NamedTuple{(:define,),Tuple{Bool}}, ::typeof(LoweredCodeUtils.methoddef!), ::Function, ::Array{Any,1}, ::JuliaInterpreter.Frame, ::Expr, ::Int64\u001b[1m)\u001b[22m at \u001b[1m./none:0\u001b[22m\n",
      " [9] \u001b[1m#methods_by_execution!#14\u001b[22m\u001b[1m(\u001b[22m::Bool, ::Bool, ::Function, ::Any, ::Revise.CodeTrackingMethodInfo, ::Dict{Module,Array{Expr,1}}, ::JuliaInterpreter.Frame\u001b[1m)\u001b[22m at \u001b[1m/home/nathan/.julia/packages/Revise/agmgx/src/lowered.jl:81\u001b[22m\n",
      " [10] \u001b[1m#methods_by_execution!\u001b[22m at \u001b[1m./none:0\u001b[22m [inlined]\n",
      " [11] \u001b[1m#methods_by_execution!#9\u001b[22m\u001b[1m(\u001b[22m::Base.Iterators.Pairs{Symbol,Bool,Tuple{Symbol},NamedTuple{(:define,),Tuple{Bool}}}, ::Function, ::Any, ::Revise.CodeTrackingMethodInfo, ::Dict{Module,Array{Expr,1}}, ::Module, ::Expr\u001b[1m)\u001b[22m at \u001b[1m/home/nathan/.julia/packages/Revise/agmgx/src/lowered.jl:49\u001b[22m\n",
      " [12] \u001b[1m#methods_by_execution!\u001b[22m at \u001b[1m./none:0\u001b[22m [inlined]\n",
      " [13] \u001b[1m#eval_with_signatures#59\u001b[22m at \u001b[1m/home/nathan/.julia/packages/Revise/agmgx/src/Revise.jl:344\u001b[22m [inlined]\n",
      " [14] \u001b[1m#eval_with_signatures\u001b[22m at \u001b[1m./none:0\u001b[22m [inlined]\n",
      " [15] \u001b[1m#instantiate_sigs!#60\u001b[22m\u001b[1m(\u001b[22m::Bool, ::Base.Iterators.Pairs{Union{},Union{},Tuple{},NamedTuple{(),Tuple{}}}, ::Function, ::OrderedCollections.OrderedDict{Module,OrderedCollections.OrderedDict{Revise.RelocatableExpr,Union{Nothing, Array{Any,1}}}}\u001b[1m)\u001b[22m at \u001b[1m/home/nathan/.julia/packages/Revise/agmgx/src/Revise.jl:352\u001b[22m\n",
      " [16] \u001b[1minstantiate_sigs!\u001b[22m at \u001b[1m/home/nathan/.julia/packages/Revise/agmgx/src/Revise.jl:349\u001b[22m [inlined]\n",
      " [17] \u001b[1mmaybe_parse_from_cache!\u001b[22m\u001b[1m(\u001b[22m::Revise.PkgData, ::String\u001b[1m)\u001b[22m at \u001b[1m/home/nathan/.julia/packages/Revise/agmgx/src/pkgs.jl:224\u001b[22m\n",
      " [18] \u001b[1m(::getfield(Revise, Symbol(\"##26#27\")){String})\u001b[22m\u001b[1m(\u001b[22m\u001b[1m)\u001b[22m at \u001b[1m/home/nathan/.julia/packages/Revise/agmgx/src/pkgs.jl:370\u001b[22m\n",
      " [19] \u001b[1mwith_logstate\u001b[22m\u001b[1m(\u001b[22m::getfield(Revise, Symbol(\"##26#27\")){String}, ::Base.CoreLogging.LogState\u001b[1m)\u001b[22m at \u001b[1m./logging.jl:395\u001b[22m\n",
      " [20] \u001b[1mwith_logger\u001b[22m at \u001b[1m./logging.jl:491\u001b[22m [inlined]\n",
      " [21] \u001b[1mwatch_manifest\u001b[22m\u001b[1m(\u001b[22m::String\u001b[1m)\u001b[22m at \u001b[1m/home/nathan/.julia/packages/Revise/agmgx/src/pkgs.jl:349\u001b[22m\n"
     ]
    },
    {
     "name": "stderr",
     "output_type": "stream",
     "text": [
      " [22] \u001b[1m(::Revise.Rescheduler{typeof(Revise.watch_manifest),Tuple{String}})\u001b[22m\u001b[1m(\u001b[22m\u001b[1m)\u001b[22m at \u001b[1m/home/nathan/.julia/packages/Revise/agmgx/src/types.jl:235\u001b[22m\n",
      "while evaluating\n",
      "root(obj::Union{HDF5Group, HDF5Dataset}) = begin\n",
      "        #= /home/nathan/.julia/packages/HDF5/2gJEi/src/HDF5.jl:886 =#\n",
      "        g_open(file(obj), \"/\")\n",
      "    end\n",
      "in module Main.HDF5\n",
      "\u001b[91mTypeError: in Union, in parameter, expected Type, got typeof(Main.HDF5.HDF5File)\u001b[39m\n",
      "Stacktrace:\n",
      " [1] \u001b[1mmaybe_evaluate_builtin\u001b[22m\u001b[1m(\u001b[22m::JuliaInterpreter.Frame, ::Expr, ::Bool\u001b[1m)\u001b[22m at \u001b[1m/home/nathan/.julia/packages/JuliaInterpreter/Or807/src/builtins.jl:86\u001b[22m\n",
      " [2] \u001b[1m#evaluate_call_recurse!#37\u001b[22m\u001b[1m(\u001b[22m::Bool, ::Function, ::Any, ::JuliaInterpreter.Frame, ::Expr\u001b[1m)\u001b[22m at \u001b[1m/home/nathan/.julia/packages/JuliaInterpreter/Or807/src/interpret.jl:209\u001b[22m\n",
      " [3] \u001b[1mevaluate_call_recurse!\u001b[22m at \u001b[1m/home/nathan/.julia/packages/JuliaInterpreter/Or807/src/interpret.jl:206\u001b[22m [inlined]\n",
      " [4] \u001b[1meval_rhs\u001b[22m\u001b[1m(\u001b[22m::Any, ::JuliaInterpreter.Frame, ::Expr\u001b[1m)\u001b[22m at \u001b[1m/home/nathan/.julia/packages/JuliaInterpreter/Or807/src/interpret.jl:381\u001b[22m\n",
      " [5] \u001b[1mstep_expr!\u001b[22m\u001b[1m(\u001b[22m::Any, ::JuliaInterpreter.Frame, ::Any, ::Bool\u001b[1m)\u001b[22m at \u001b[1m/home/nathan/.julia/packages/JuliaInterpreter/Or807/src/interpret.jl:509\u001b[22m\n",
      " [6] \u001b[1msignature\u001b[22m\u001b[1m(\u001b[22m::Any, ::JuliaInterpreter.Frame, ::Any, ::Int64\u001b[1m)\u001b[22m at \u001b[1m/home/nathan/.julia/packages/LoweredCodeUtils/6EZqd/src/LoweredCodeUtils.jl:146\u001b[22m\n",
      " [7] \u001b[1m#methoddef!#3\u001b[22m\u001b[1m(\u001b[22m::Bool, ::Function, ::Any, ::Array{Any,1}, ::JuliaInterpreter.Frame, ::Any, ::Int64\u001b[1m)\u001b[22m at \u001b[1m/home/nathan/.julia/packages/LoweredCodeUtils/6EZqd/src/LoweredCodeUtils.jl:420\u001b[22m\n",
      " [8] \u001b[1m(::getfield(LoweredCodeUtils, Symbol(\"#kw##methoddef!\")))\u001b[22m\u001b[1m(\u001b[22m::NamedTuple{(:define,),Tuple{Bool}}, ::typeof(LoweredCodeUtils.methoddef!), ::Function, ::Array{Any,1}, ::JuliaInterpreter.Frame, ::Expr, ::Int64\u001b[1m)\u001b[22m at \u001b[1m./none:0\u001b[22m\n",
      " [9] \u001b[1m#methods_by_execution!#14\u001b[22m\u001b[1m(\u001b[22m::Bool, ::Bool, ::Function, ::Any, ::Revise.CodeTrackingMethodInfo, ::Dict{Module,Array{Expr,1}}, ::JuliaInterpreter.Frame\u001b[1m)\u001b[22m at \u001b[1m/home/nathan/.julia/packages/Revise/agmgx/src/lowered.jl:81\u001b[22m\n",
      " [10] \u001b[1m#methods_by_execution!\u001b[22m at \u001b[1m./none:0\u001b[22m [inlined]\n",
      " [11] \u001b[1m#methods_by_execution!#9\u001b[22m\u001b[1m(\u001b[22m::Base.Iterators.Pairs{Symbol,Bool,Tuple{Symbol},NamedTuple{(:define,),Tuple{Bool}}}, ::Function, ::Any, ::Revise.CodeTrackingMethodInfo, ::Dict{Module,Array{Expr,1}}, ::Module, ::Expr\u001b[1m)\u001b[22m at \u001b[1m/home/nathan/.julia/packages/Revise/agmgx/src/lowered.jl:49\u001b[22m\n",
      " [12] \u001b[1m#methods_by_execution!\u001b[22m at \u001b[1m./none:0\u001b[22m [inlined]\n",
      " [13] \u001b[1m#eval_with_signatures#59\u001b[22m at \u001b[1m/home/nathan/.julia/packages/Revise/agmgx/src/Revise.jl:344\u001b[22m [inlined]\n",
      " [14] \u001b[1m#eval_with_signatures\u001b[22m at \u001b[1m./none:0\u001b[22m [inlined]\n",
      " [15] \u001b[1m#instantiate_sigs!#60\u001b[22m\u001b[1m(\u001b[22m::Bool, ::Base.Iterators.Pairs{Union{},Union{},Tuple{},NamedTuple{(),Tuple{}}}, ::Function, ::OrderedCollections.OrderedDict{Module,OrderedCollections.OrderedDict{Revise.RelocatableExpr,Union{Nothing, Array{Any,1}}}}\u001b[1m)\u001b[22m at \u001b[1m/home/nathan/.julia/packages/Revise/agmgx/src/Revise.jl:352\u001b[22m\n",
      " [16] \u001b[1minstantiate_sigs!\u001b[22m at \u001b[1m/home/nathan/.julia/packages/Revise/agmgx/src/Revise.jl:349\u001b[22m [inlined]\n",
      " [17] \u001b[1mmaybe_parse_from_cache!\u001b[22m\u001b[1m(\u001b[22m::Revise.PkgData, ::String\u001b[1m)\u001b[22m at \u001b[1m/home/nathan/.julia/packages/Revise/agmgx/src/pkgs.jl:224\u001b[22m\n",
      " [18] \u001b[1m(::getfield(Revise, Symbol(\"##26#27\")){String})\u001b[22m\u001b[1m(\u001b[22m\u001b[1m)\u001b[22m at \u001b[1m/home/nathan/.julia/packages/Revise/agmgx/src/pkgs.jl:370\u001b[22m\n",
      " [19] \u001b[1mwith_logstate\u001b[22m\u001b[1m(\u001b[22m::getfield(Revise, Symbol(\"##26#27\")){String}, ::Base.CoreLogging.LogState\u001b[1m)\u001b[22m at \u001b[1m./logging.jl:395\u001b[22m\n",
      " [20] \u001b[1mwith_logger\u001b[22m at \u001b[1m./logging.jl:491\u001b[22m [inlined]\n",
      " [21] \u001b[1mwatch_manifest\u001b[22m\u001b[1m(\u001b[22m::String\u001b[1m)\u001b[22m at \u001b[1m/home/nathan/.julia/packages/Revise/agmgx/src/pkgs.jl:349\u001b[22m\n",
      " [22] \u001b[1m(::Revise.Rescheduler{typeof(Revise.watch_manifest),Tuple{String}})\u001b[22m\u001b[1m(\u001b[22m\u001b[1m)\u001b[22m at \u001b[1m/home/nathan/.julia/packages/Revise/agmgx/src/types.jl:235\u001b[22m\n",
      "while evaluating\n",
      "getindex(parent::Union{HDF5File, HDF5Group}, path::String) = begin\n",
      "        #= /home/nathan/.julia/packages/HDF5/2gJEi/src/HDF5.jl:888 =#\n",
      "        o_open(parent, path)\n",
      "    end\n",
      "in module Main.HDF5\n",
      "\u001b[91mUndefVarError: H5P_DATASET_ACCESS not defined\u001b[39m\n",
      "Stacktrace:\n",
      " [1] \u001b[1m#collect_args#33\u001b[22m\u001b[1m(\u001b[22m::Bool, ::Function, ::JuliaInterpreter.Frame, ::Expr\u001b[1m)\u001b[22m at \u001b[1m/home/nathan/.julia/packages/JuliaInterpreter/Or807/src/interpret.jl:64\u001b[22m\n",
      " [2] \u001b[1mcollect_args\u001b[22m at \u001b[1m/home/nathan/.julia/packages/JuliaInterpreter/Or807/src/interpret.jl:139\u001b[22m [inlined]\n",
      " [3] \u001b[1mlookup_callexpr\u001b[22m at \u001b[1m/home/nathan/.julia/packages/Revise/agmgx/src/lowered.jl:13\u001b[22m [inlined]\n",
      " [4] \u001b[1m#methods_by_execution!#14\u001b[22m\u001b[1m(\u001b[22m::Bool, ::Bool, ::Function, ::Any, ::Revise.CodeTrackingMethodInfo, ::Dict{Module,Array{Expr,1}}, ::JuliaInterpreter.Frame\u001b[1m)\u001b[22m at \u001b[1m/home/nathan/.julia/packages/Revise/agmgx/src/lowered.jl:187\u001b[22m\n",
      " [5] \u001b[1m#methods_by_execution!\u001b[22m at \u001b[1m./none:0\u001b[22m [inlined]\n",
      " [6] \u001b[1m#methods_by_execution!#9\u001b[22m\u001b[1m(\u001b[22m::Base.Iterators.Pairs{Symbol,Bool,Tuple{Symbol},NamedTuple{(:define,),Tuple{Bool}}}, ::Function, ::Any, ::Revise.CodeTrackingMethodInfo, ::Dict{Module,Array{Expr,1}}, ::Module, ::Expr\u001b[1m)\u001b[22m at \u001b[1m/home/nathan/.julia/packages/Revise/agmgx/src/lowered.jl:49\u001b[22m\n",
      " [7] \u001b[1m#methods_by_execution!\u001b[22m at \u001b[1m./none:0\u001b[22m [inlined]\n",
      " [8] \u001b[1m#eval_with_signatures#59\u001b[22m at \u001b[1m/home/nathan/.julia/packages/Revise/agmgx/src/Revise.jl:344\u001b[22m [inlined]\n",
      " [9] \u001b[1m#eval_with_signatures\u001b[22m at \u001b[1m./none:0\u001b[22m [inlined]\n",
      " [10] \u001b[1m#instantiate_sigs!#60\u001b[22m\u001b[1m(\u001b[22m::Bool, ::Base.Iterators.Pairs{Union{},Union{},Tuple{},NamedTuple{(),Tuple{}}}, ::Function, ::OrderedCollections.OrderedDict{Module,OrderedCollections.OrderedDict{Revise.RelocatableExpr,Union{Nothing, Array{Any,1}}}}\u001b[1m)\u001b[22m at \u001b[1m/home/nathan/.julia/packages/Revise/agmgx/src/Revise.jl:352\u001b[22m\n",
      " [11] \u001b[1minstantiate_sigs!\u001b[22m at \u001b[1m/home/nathan/.julia/packages/Revise/agmgx/src/Revise.jl:349\u001b[22m [inlined]\n",
      " [12] \u001b[1mmaybe_parse_from_cache!\u001b[22m\u001b[1m(\u001b[22m::Revise.PkgData, ::String\u001b[1m)\u001b[22m at \u001b[1m/home/nathan/.julia/packages/Revise/agmgx/src/pkgs.jl:224\u001b[22m\n",
      " [13] \u001b[1m(::getfield(Revise, Symbol(\"##26#27\")){String})\u001b[22m\u001b[1m(\u001b[22m\u001b[1m)\u001b[22m at \u001b[1m/home/nathan/.julia/packages/Revise/agmgx/src/pkgs.jl:370\u001b[22m\n",
      " [14] \u001b[1mwith_logstate\u001b[22m\u001b[1m(\u001b[22m::getfield(Revise, Symbol(\"##26#27\")){String}, ::Base.CoreLogging.LogState\u001b[1m)\u001b[22m at \u001b[1m./logging.jl:395\u001b[22m\n",
      " [15] \u001b[1mwith_logger\u001b[22m at \u001b[1m./logging.jl:491\u001b[22m [inlined]\n",
      " [16] \u001b[1mwatch_manifest\u001b[22m\u001b[1m(\u001b[22m::String\u001b[1m)\u001b[22m at \u001b[1m/home/nathan/.julia/packages/Revise/agmgx/src/pkgs.jl:349\u001b[22m\n",
      " [17] \u001b[1m(::Revise.Rescheduler{typeof(Revise.watch_manifest),Tuple{String}})\u001b[22m\u001b[1m(\u001b[22m\u001b[1m)\u001b[22m at \u001b[1m/home/nathan/.julia/packages/Revise/agmgx/src/types.jl:235\u001b[22m\n",
      "while evaluating\n",
      "const hdf5_obj_open = Dict(H5I_DATASET => (d_open, H5P_DATASET_ACCESS, H5P_DATASET_XFER), H5I_DATATYPE => (t_open, H5P_DATATYPE_ACCESS), H5I_GROUP => (g_open, H5P_GROUP_ACCESS))\n",
      "in module Main.HDF5\n",
      "\u001b[91mTypeError: in Union, in parameter, expected Type, got typeof(Main.HDF5.HDF5File)\u001b[39m\n",
      "Stacktrace:\n",
      " [1] \u001b[1mmaybe_evaluate_builtin\u001b[22m\u001b[1m(\u001b[22m::JuliaInterpreter.Frame, ::Expr, ::Bool\u001b[1m)\u001b[22m at \u001b[1m/home/nathan/.julia/packages/JuliaInterpreter/Or807/src/builtins.jl:86\u001b[22m\n",
      " [2] \u001b[1m#evaluate_call_recurse!#37\u001b[22m\u001b[1m(\u001b[22m::Bool, ::Function, ::Any, ::JuliaInterpreter.Frame, ::Expr\u001b[1m)\u001b[22m at \u001b[1m/home/nathan/.julia/packages/JuliaInterpreter/Or807/src/interpret.jl:209\u001b[22m\n",
      " [3] \u001b[1mevaluate_call_recurse!\u001b[22m at \u001b[1m/home/nathan/.julia/packages/JuliaInterpreter/Or807/src/interpret.jl:206\u001b[22m [inlined]\n",
      " [4] \u001b[1meval_rhs\u001b[22m\u001b[1m(\u001b[22m::Any, ::JuliaInterpreter.Frame, ::Expr\u001b[1m)\u001b[22m at \u001b[1m/home/nathan/.julia/packages/JuliaInterpreter/Or807/src/interpret.jl:381\u001b[22m\n",
      " [5] \u001b[1mstep_expr!\u001b[22m\u001b[1m(\u001b[22m::Any, ::JuliaInterpreter.Frame, ::Any, ::Bool\u001b[1m)\u001b[22m at \u001b[1m/home/nathan/.julia/packages/JuliaInterpreter/Or807/src/interpret.jl:509\u001b[22m\n",
      " [6] \u001b[1msignature\u001b[22m\u001b[1m(\u001b[22m::Any, ::JuliaInterpreter.Frame, ::Any, ::Int64\u001b[1m)\u001b[22m at \u001b[1m/home/nathan/.julia/packages/LoweredCodeUtils/6EZqd/src/LoweredCodeUtils.jl:146\u001b[22m\n",
      " [7] \u001b[1m#methoddef!#3\u001b[22m\u001b[1m(\u001b[22m::Bool, ::Function, ::Any, ::Array{Any,1}, ::JuliaInterpreter.Frame, ::Any, ::Int64\u001b[1m)\u001b[22m at \u001b[1m/home/nathan/.julia/packages/LoweredCodeUtils/6EZqd/src/LoweredCodeUtils.jl:420\u001b[22m\n",
      " [8] \u001b[1m(::getfield(LoweredCodeUtils, Symbol(\"#kw##methoddef!\")))\u001b[22m\u001b[1m(\u001b[22m::NamedTuple{(:define,),Tuple{Bool}}, ::typeof(LoweredCodeUtils.methoddef!), ::Function, ::Array{Any,1}, ::JuliaInterpreter.Frame, ::Expr, ::Int64\u001b[1m)\u001b[22m at \u001b[1m./none:0\u001b[22m\n",
      " [9] \u001b[1m#methods_by_execution!#14\u001b[22m\u001b[1m(\u001b[22m::Bool, ::Bool, ::Function, ::Any, ::Revise.CodeTrackingMethodInfo, ::Dict{Module,Array{Expr,1}}, ::JuliaInterpreter.Frame\u001b[1m)\u001b[22m at \u001b[1m/home/nathan/.julia/packages/Revise/agmgx/src/lowered.jl:81\u001b[22m\n",
      " [10] \u001b[1m#methods_by_execution!\u001b[22m at \u001b[1m./none:0\u001b[22m [inlined]\n",
      " [11] \u001b[1m#methods_by_execution!#9\u001b[22m\u001b[1m(\u001b[22m::Base.Iterators.Pairs{Symbol,Bool,Tuple{Symbol},NamedTuple{(:define,),Tuple{Bool}}}, ::Function, ::Any, ::Revise.CodeTrackingMethodInfo, ::Dict{Module,Array{Expr,1}}, ::Module, ::Expr\u001b[1m)\u001b[22m at \u001b[1m/home/nathan/.julia/packages/Revise/agmgx/src/lowered.jl:49\u001b[22m\n",
      " [12] \u001b[1m#methods_by_execution!\u001b[22m at \u001b[1m./none:0\u001b[22m [inlined]\n",
      " [13] \u001b[1m#eval_with_signatures#59\u001b[22m at \u001b[1m/home/nathan/.julia/packages/Revise/agmgx/src/Revise.jl:344\u001b[22m [inlined]\n",
      " [14] \u001b[1m#eval_with_signatures\u001b[22m at \u001b[1m./none:0\u001b[22m [inlined]\n",
      " [15] \u001b[1m#instantiate_sigs!#60\u001b[22m\u001b[1m(\u001b[22m::Bool, ::Base.Iterators.Pairs{Union{},Union{},Tuple{},NamedTuple{(),Tuple{}}}, ::Function, ::OrderedCollections.OrderedDict{Module,OrderedCollections.OrderedDict{Revise.RelocatableExpr,Union{Nothing, Array{Any,1}}}}\u001b[1m)\u001b[22m at \u001b[1m/home/nathan/.julia/packages/Revise/agmgx/src/Revise.jl:352\u001b[22m\n",
      " [16] \u001b[1minstantiate_sigs!\u001b[22m at \u001b[1m/home/nathan/.julia/packages/Revise/agmgx/src/Revise.jl:349\u001b[22m [inlined]\n"
     ]
    },
    {
     "name": "stderr",
     "output_type": "stream",
     "text": [
      " [17] \u001b[1mmaybe_parse_from_cache!\u001b[22m\u001b[1m(\u001b[22m::Revise.PkgData, ::String\u001b[1m)\u001b[22m at \u001b[1m/home/nathan/.julia/packages/Revise/agmgx/src/pkgs.jl:224\u001b[22m\n",
      " [18] \u001b[1m(::getfield(Revise, Symbol(\"##26#27\")){String})\u001b[22m\u001b[1m(\u001b[22m\u001b[1m)\u001b[22m at \u001b[1m/home/nathan/.julia/packages/Revise/agmgx/src/pkgs.jl:370\u001b[22m\n",
      " [19] \u001b[1mwith_logstate\u001b[22m\u001b[1m(\u001b[22m::getfield(Revise, Symbol(\"##26#27\")){String}, ::Base.CoreLogging.LogState\u001b[1m)\u001b[22m at \u001b[1m./logging.jl:395\u001b[22m\n",
      " [20] \u001b[1mwith_logger\u001b[22m at \u001b[1m./logging.jl:491\u001b[22m [inlined]\n",
      " [21] \u001b[1mwatch_manifest\u001b[22m\u001b[1m(\u001b[22m::String\u001b[1m)\u001b[22m at \u001b[1m/home/nathan/.julia/packages/Revise/agmgx/src/pkgs.jl:349\u001b[22m\n",
      " [22] \u001b[1m(::Revise.Rescheduler{typeof(Revise.watch_manifest),Tuple{String}})\u001b[22m\u001b[1m(\u001b[22m\u001b[1m)\u001b[22m at \u001b[1m/home/nathan/.julia/packages/Revise/agmgx/src/types.jl:235\u001b[22m\n",
      "while evaluating\n",
      "function getindex(parent::Union{HDF5File, HDF5Group}, path::String, prop1::String, val1, pv...)\n",
      "    #= /home/nathan/.julia/packages/HDF5/2gJEi/src/HDF5.jl:898 =#\n",
      "    t = (prop1, val1, pv...)\n",
      "    #= /home/nathan/.julia/packages/HDF5/2gJEi/src/HDF5.jl:899 =#\n",
      "    checkprops(t...)\n",
      "    #= /home/nathan/.julia/packages/HDF5/2gJEi/src/HDF5.jl:900 =#\n",
      "    objtype = gettype(parent, path)\n",
      "    #= /home/nathan/.julia/packages/HDF5/2gJEi/src/HDF5.jl:901 =#\n",
      "    (fun, propids) = hdf5_obj_open[objtype]\n",
      "    #= /home/nathan/.julia/packages/HDF5/2gJEi/src/HDF5.jl:902 =#\n",
      "    props = [p_create(prop, false, t...) for prop = propids]\n",
      "    #= /home/nathan/.julia/packages/HDF5/2gJEi/src/HDF5.jl:903 =#\n",
      "    obj = fun(parent, path, props...)\n",
      "end\n",
      "in module Main.HDF5\n",
      "\u001b[91mTypeError: in Union, in parameter, expected Type, got typeof(Main.HDF5.HDF5File)\u001b[39m\n",
      "Stacktrace:\n",
      " [1] \u001b[1mmaybe_evaluate_builtin\u001b[22m\u001b[1m(\u001b[22m::JuliaInterpreter.Frame, ::Expr, ::Bool\u001b[1m)\u001b[22m at \u001b[1m/home/nathan/.julia/packages/JuliaInterpreter/Or807/src/builtins.jl:86\u001b[22m\n",
      " [2] \u001b[1m#evaluate_call_recurse!#37\u001b[22m\u001b[1m(\u001b[22m::Bool, ::Function, ::Any, ::JuliaInterpreter.Frame, ::Expr\u001b[1m)\u001b[22m at \u001b[1m/home/nathan/.julia/packages/JuliaInterpreter/Or807/src/interpret.jl:209\u001b[22m\n",
      " [3] \u001b[1mevaluate_call_recurse!\u001b[22m at \u001b[1m/home/nathan/.julia/packages/JuliaInterpreter/Or807/src/interpret.jl:206\u001b[22m [inlined]\n",
      " [4] \u001b[1meval_rhs\u001b[22m\u001b[1m(\u001b[22m::Any, ::JuliaInterpreter.Frame, ::Expr\u001b[1m)\u001b[22m at \u001b[1m/home/nathan/.julia/packages/JuliaInterpreter/Or807/src/interpret.jl:381\u001b[22m\n",
      " [5] \u001b[1mstep_expr!\u001b[22m\u001b[1m(\u001b[22m::Any, ::JuliaInterpreter.Frame, ::Any, ::Bool\u001b[1m)\u001b[22m at \u001b[1m/home/nathan/.julia/packages/JuliaInterpreter/Or807/src/interpret.jl:509\u001b[22m\n",
      " [6] \u001b[1msignature\u001b[22m\u001b[1m(\u001b[22m::Any, ::JuliaInterpreter.Frame, ::Any, ::Int64\u001b[1m)\u001b[22m at \u001b[1m/home/nathan/.julia/packages/LoweredCodeUtils/6EZqd/src/LoweredCodeUtils.jl:146\u001b[22m\n",
      " [7] \u001b[1m#methoddef!#3\u001b[22m\u001b[1m(\u001b[22m::Bool, ::Function, ::Any, ::Array{Any,1}, ::JuliaInterpreter.Frame, ::Any, ::Int64\u001b[1m)\u001b[22m at \u001b[1m/home/nathan/.julia/packages/LoweredCodeUtils/6EZqd/src/LoweredCodeUtils.jl:420\u001b[22m\n",
      " [8] \u001b[1m(::getfield(LoweredCodeUtils, Symbol(\"#kw##methoddef!\")))\u001b[22m\u001b[1m(\u001b[22m::NamedTuple{(:define,),Tuple{Bool}}, ::typeof(LoweredCodeUtils.methoddef!), ::Function, ::Array{Any,1}, ::JuliaInterpreter.Frame, ::Expr, ::Int64\u001b[1m)\u001b[22m at \u001b[1m./none:0\u001b[22m\n",
      " [9] \u001b[1m#methods_by_execution!#14\u001b[22m\u001b[1m(\u001b[22m::Bool, ::Bool, ::Function, ::Any, ::Revise.CodeTrackingMethodInfo, ::Dict{Module,Array{Expr,1}}, ::JuliaInterpreter.Frame\u001b[1m)\u001b[22m at \u001b[1m/home/nathan/.julia/packages/Revise/agmgx/src/lowered.jl:81\u001b[22m\n",
      " [10] \u001b[1m#methods_by_execution!\u001b[22m at \u001b[1m./none:0\u001b[22m [inlined]\n",
      " [11] \u001b[1m#methods_by_execution!#9\u001b[22m\u001b[1m(\u001b[22m::Base.Iterators.Pairs{Symbol,Bool,Tuple{Symbol},NamedTuple{(:define,),Tuple{Bool}}}, ::Function, ::Any, ::Revise.CodeTrackingMethodInfo, ::Dict{Module,Array{Expr,1}}, ::Module, ::Expr\u001b[1m)\u001b[22m at \u001b[1m/home/nathan/.julia/packages/Revise/agmgx/src/lowered.jl:49\u001b[22m\n",
      " [12] \u001b[1m#methods_by_execution!\u001b[22m at \u001b[1m./none:0\u001b[22m [inlined]\n",
      " [13] \u001b[1m#eval_with_signatures#59\u001b[22m at \u001b[1m/home/nathan/.julia/packages/Revise/agmgx/src/Revise.jl:344\u001b[22m [inlined]\n",
      " [14] \u001b[1m#eval_with_signatures\u001b[22m at \u001b[1m./none:0\u001b[22m [inlined]\n",
      " [15] \u001b[1m#instantiate_sigs!#60\u001b[22m\u001b[1m(\u001b[22m::Bool, ::Base.Iterators.Pairs{Union{},Union{},Tuple{},NamedTuple{(),Tuple{}}}, ::Function, ::OrderedCollections.OrderedDict{Module,OrderedCollections.OrderedDict{Revise.RelocatableExpr,Union{Nothing, Array{Any,1}}}}\u001b[1m)\u001b[22m at \u001b[1m/home/nathan/.julia/packages/Revise/agmgx/src/Revise.jl:352\u001b[22m\n",
      " [16] \u001b[1minstantiate_sigs!\u001b[22m at \u001b[1m/home/nathan/.julia/packages/Revise/agmgx/src/Revise.jl:349\u001b[22m [inlined]\n",
      " [17] \u001b[1mmaybe_parse_from_cache!\u001b[22m\u001b[1m(\u001b[22m::Revise.PkgData, ::String\u001b[1m)\u001b[22m at \u001b[1m/home/nathan/.julia/packages/Revise/agmgx/src/pkgs.jl:224\u001b[22m\n",
      " [18] \u001b[1m(::getfield(Revise, Symbol(\"##26#27\")){String})\u001b[22m\u001b[1m(\u001b[22m\u001b[1m)\u001b[22m at \u001b[1m/home/nathan/.julia/packages/Revise/agmgx/src/pkgs.jl:370\u001b[22m\n",
      " [19] \u001b[1mwith_logstate\u001b[22m\u001b[1m(\u001b[22m::getfield(Revise, Symbol(\"##26#27\")){String}, ::Base.CoreLogging.LogState\u001b[1m)\u001b[22m at \u001b[1m./logging.jl:395\u001b[22m\n",
      " [20] \u001b[1mwith_logger\u001b[22m at \u001b[1m./logging.jl:491\u001b[22m [inlined]\n",
      " [21] \u001b[1mwatch_manifest\u001b[22m\u001b[1m(\u001b[22m::String\u001b[1m)\u001b[22m at \u001b[1m/home/nathan/.julia/packages/Revise/agmgx/src/pkgs.jl:349\u001b[22m\n",
      " [22] \u001b[1m(::Revise.Rescheduler{typeof(Revise.watch_manifest),Tuple{String}})\u001b[22m\u001b[1m(\u001b[22m\u001b[1m)\u001b[22m at \u001b[1m/home/nathan/.julia/packages/Revise/agmgx/src/types.jl:235\u001b[22m\n",
      "while evaluating\n",
      "function g_create(parent::Union{HDF5File, HDF5Group}, path::String, lcpl::HDF5Properties=_link_properties(path), dcpl::HDF5Properties=DEFAULT_PROPERTIES)\n",
      "    #= /home/nathan/.julia/packages/HDF5/2gJEi/src/HDF5.jl:924 =#\n",
      "    HDF5Group(h5g_create((checkvalid(parent)).id, path, lcpl.id, dcpl.id), file(parent))\n",
      "end\n",
      "in module Main.HDF5\n",
      "\u001b[91mTypeError: in Union, in parameter, expected Type, got typeof(Main.HDF5.HDF5File)\u001b[39m\n",
      "Stacktrace:\n",
      " [1] \u001b[1mmaybe_evaluate_builtin\u001b[22m\u001b[1m(\u001b[22m::JuliaInterpreter.Frame, ::Expr, ::Bool\u001b[1m)\u001b[22m at \u001b[1m/home/nathan/.julia/packages/JuliaInterpreter/Or807/src/builtins.jl:86\u001b[22m\n",
      " [2] \u001b[1m#evaluate_call_recurse!#37\u001b[22m\u001b[1m(\u001b[22m::Bool, ::Function, ::Any, ::JuliaInterpreter.Frame, ::Expr\u001b[1m)\u001b[22m at \u001b[1m/home/nathan/.julia/packages/JuliaInterpreter/Or807/src/interpret.jl:209\u001b[22m\n",
      " [3] \u001b[1mevaluate_call_recurse!\u001b[22m at \u001b[1m/home/nathan/.julia/packages/JuliaInterpreter/Or807/src/interpret.jl:206\u001b[22m [inlined]\n",
      " [4] \u001b[1meval_rhs\u001b[22m\u001b[1m(\u001b[22m::Any, ::JuliaInterpreter.Frame, ::Expr\u001b[1m)\u001b[22m at \u001b[1m/home/nathan/.julia/packages/JuliaInterpreter/Or807/src/interpret.jl:381\u001b[22m\n",
      " [5] \u001b[1mstep_expr!\u001b[22m\u001b[1m(\u001b[22m::Any, ::JuliaInterpreter.Frame, ::Any, ::Bool\u001b[1m)\u001b[22m at \u001b[1m/home/nathan/.julia/packages/JuliaInterpreter/Or807/src/interpret.jl:509\u001b[22m\n",
      " [6] \u001b[1msignature\u001b[22m\u001b[1m(\u001b[22m::Any, ::JuliaInterpreter.Frame, ::Any, ::Int64\u001b[1m)\u001b[22m at \u001b[1m/home/nathan/.julia/packages/LoweredCodeUtils/6EZqd/src/LoweredCodeUtils.jl:146\u001b[22m\n",
      " [7] \u001b[1m#methoddef!#3\u001b[22m\u001b[1m(\u001b[22m::Bool, ::Function, ::Any, ::Array{Any,1}, ::JuliaInterpreter.Frame, ::Any, ::Int64\u001b[1m)\u001b[22m at \u001b[1m/home/nathan/.julia/packages/LoweredCodeUtils/6EZqd/src/LoweredCodeUtils.jl:420\u001b[22m\n",
      " [8] \u001b[1m(::getfield(LoweredCodeUtils, Symbol(\"#kw##methoddef!\")))\u001b[22m\u001b[1m(\u001b[22m::NamedTuple{(:define,),Tuple{Bool}}, ::typeof(LoweredCodeUtils.methoddef!), ::Function, ::Array{Any,1}, ::JuliaInterpreter.Frame, ::Expr, ::Int64\u001b[1m)\u001b[22m at \u001b[1m./none:0\u001b[22m\n",
      " [9] \u001b[1m#methods_by_execution!#14\u001b[22m\u001b[1m(\u001b[22m::Bool, ::Bool, ::Function, ::Any, ::Revise.CodeTrackingMethodInfo, ::Dict{Module,Array{Expr,1}}, ::JuliaInterpreter.Frame\u001b[1m)\u001b[22m at \u001b[1m/home/nathan/.julia/packages/Revise/agmgx/src/lowered.jl:81\u001b[22m\n",
      " [10] \u001b[1m#methods_by_execution!\u001b[22m at \u001b[1m./none:0\u001b[22m [inlined]\n",
      " [11] \u001b[1m#methods_by_execution!#9\u001b[22m\u001b[1m(\u001b[22m::Base.Iterators.Pairs{Symbol,Bool,Tuple{Symbol},NamedTuple{(:define,),Tuple{Bool}}}, ::Function, ::Any, ::Revise.CodeTrackingMethodInfo, ::Dict{Module,Array{Expr,1}}, ::Module, ::Expr\u001b[1m)\u001b[22m at \u001b[1m/home/nathan/.julia/packages/Revise/agmgx/src/lowered.jl:49\u001b[22m\n",
      " [12] \u001b[1m#methods_by_execution!\u001b[22m at \u001b[1m./none:0\u001b[22m [inlined]\n",
      " [13] \u001b[1m#eval_with_signatures#59\u001b[22m at \u001b[1m/home/nathan/.julia/packages/Revise/agmgx/src/Revise.jl:344\u001b[22m [inlined]\n",
      " [14] \u001b[1m#eval_with_signatures\u001b[22m at \u001b[1m./none:0\u001b[22m [inlined]\n",
      " [15] \u001b[1m#instantiate_sigs!#60\u001b[22m\u001b[1m(\u001b[22m::Bool, ::Base.Iterators.Pairs{Union{},Union{},Tuple{},NamedTuple{(),Tuple{}}}, ::Function, ::OrderedCollections.OrderedDict{Module,OrderedCollections.OrderedDict{Revise.RelocatableExpr,Union{Nothing, Array{Any,1}}}}\u001b[1m)\u001b[22m at \u001b[1m/home/nathan/.julia/packages/Revise/agmgx/src/Revise.jl:352\u001b[22m\n",
      " [16] \u001b[1minstantiate_sigs!\u001b[22m at \u001b[1m/home/nathan/.julia/packages/Revise/agmgx/src/Revise.jl:349\u001b[22m [inlined]\n",
      " [17] \u001b[1mmaybe_parse_from_cache!\u001b[22m\u001b[1m(\u001b[22m::Revise.PkgData, ::String\u001b[1m)\u001b[22m at \u001b[1m/home/nathan/.julia/packages/Revise/agmgx/src/pkgs.jl:224\u001b[22m\n",
      " [18] \u001b[1m(::getfield(Revise, Symbol(\"##26#27\")){String})\u001b[22m\u001b[1m(\u001b[22m\u001b[1m)\u001b[22m at \u001b[1m/home/nathan/.julia/packages/Revise/agmgx/src/pkgs.jl:370\u001b[22m\n",
      " [19] \u001b[1mwith_logstate\u001b[22m\u001b[1m(\u001b[22m::getfield(Revise, Symbol(\"##26#27\")){String}, ::Base.CoreLogging.LogState\u001b[1m)\u001b[22m at \u001b[1m./logging.jl:395\u001b[22m\n",
      " [20] \u001b[1mwith_logger\u001b[22m at \u001b[1m./logging.jl:491\u001b[22m [inlined]\n",
      " [21] \u001b[1mwatch_manifest\u001b[22m\u001b[1m(\u001b[22m::String\u001b[1m)\u001b[22m at \u001b[1m/home/nathan/.julia/packages/Revise/agmgx/src/pkgs.jl:349\u001b[22m\n",
      " [22] \u001b[1m(::Revise.Rescheduler{typeof(Revise.watch_manifest),Tuple{String}})\u001b[22m\u001b[1m(\u001b[22m\u001b[1m)\u001b[22m at \u001b[1m/home/nathan/.julia/packages/Revise/agmgx/src/types.jl:235\u001b[22m\n",
      "while evaluating\n",
      "function g_create(f::Function, parent::Union{HDF5File, HDF5Group}, args...)\n",
      "    #= /home/nathan/.julia/packages/HDF5/2gJEi/src/HDF5.jl:927 =#\n",
      "    g = g_create(parent, args...)\n",
      "    #= /home/nathan/.julia/packages/HDF5/2gJEi/src/HDF5.jl:928 =#\n",
      "    try\n",
      "        #= /home/nathan/.julia/packages/HDF5/2gJEi/src/HDF5.jl:929 =#\n"
     ]
    },
    {
     "name": "stderr",
     "output_type": "stream",
     "text": [
      "        f(g)\n",
      "    finally\n",
      "        #= /home/nathan/.julia/packages/HDF5/2gJEi/src/HDF5.jl:931 =#\n",
      "        close(g)\n",
      "    end\n",
      "end\n",
      "in module Main.HDF5\n",
      "\u001b[91mTypeError: in Union, in parameter, expected Type, got typeof(Main.HDF5.HDF5File)\u001b[39m\n",
      "Stacktrace:\n",
      " [1] \u001b[1mmaybe_evaluate_builtin\u001b[22m\u001b[1m(\u001b[22m::JuliaInterpreter.Frame, ::Expr, ::Bool\u001b[1m)\u001b[22m at \u001b[1m/home/nathan/.julia/packages/JuliaInterpreter/Or807/src/builtins.jl:86\u001b[22m\n",
      " [2] \u001b[1m#evaluate_call_recurse!#37\u001b[22m\u001b[1m(\u001b[22m::Bool, ::Function, ::Any, ::JuliaInterpreter.Frame, ::Expr\u001b[1m)\u001b[22m at \u001b[1m/home/nathan/.julia/packages/JuliaInterpreter/Or807/src/interpret.jl:209\u001b[22m\n",
      " [3] \u001b[1mevaluate_call_recurse!\u001b[22m at \u001b[1m/home/nathan/.julia/packages/JuliaInterpreter/Or807/src/interpret.jl:206\u001b[22m [inlined]\n",
      " [4] \u001b[1meval_rhs\u001b[22m\u001b[1m(\u001b[22m::Any, ::JuliaInterpreter.Frame, ::Expr\u001b[1m)\u001b[22m at \u001b[1m/home/nathan/.julia/packages/JuliaInterpreter/Or807/src/interpret.jl:381\u001b[22m\n",
      " [5] \u001b[1mstep_expr!\u001b[22m\u001b[1m(\u001b[22m::Any, ::JuliaInterpreter.Frame, ::Any, ::Bool\u001b[1m)\u001b[22m at \u001b[1m/home/nathan/.julia/packages/JuliaInterpreter/Or807/src/interpret.jl:509\u001b[22m\n",
      " [6] \u001b[1msignature\u001b[22m\u001b[1m(\u001b[22m::Any, ::JuliaInterpreter.Frame, ::Any, ::Int64\u001b[1m)\u001b[22m at \u001b[1m/home/nathan/.julia/packages/LoweredCodeUtils/6EZqd/src/LoweredCodeUtils.jl:146\u001b[22m\n",
      " [7] \u001b[1m#methoddef!#3\u001b[22m\u001b[1m(\u001b[22m::Bool, ::Function, ::Any, ::Array{Any,1}, ::JuliaInterpreter.Frame, ::Any, ::Int64\u001b[1m)\u001b[22m at \u001b[1m/home/nathan/.julia/packages/LoweredCodeUtils/6EZqd/src/LoweredCodeUtils.jl:420\u001b[22m\n",
      " [8] \u001b[1m(::getfield(LoweredCodeUtils, Symbol(\"#kw##methoddef!\")))\u001b[22m\u001b[1m(\u001b[22m::NamedTuple{(:define,),Tuple{Bool}}, ::typeof(LoweredCodeUtils.methoddef!), ::Function, ::Array{Any,1}, ::JuliaInterpreter.Frame, ::Expr, ::Int64\u001b[1m)\u001b[22m at \u001b[1m./none:0\u001b[22m\n",
      " [9] \u001b[1m#methods_by_execution!#14\u001b[22m\u001b[1m(\u001b[22m::Bool, ::Bool, ::Function, ::Any, ::Revise.CodeTrackingMethodInfo, ::Dict{Module,Array{Expr,1}}, ::JuliaInterpreter.Frame\u001b[1m)\u001b[22m at \u001b[1m/home/nathan/.julia/packages/Revise/agmgx/src/lowered.jl:81\u001b[22m\n",
      " [10] \u001b[1m#methods_by_execution!\u001b[22m at \u001b[1m./none:0\u001b[22m [inlined]\n",
      " [11] \u001b[1m#methods_by_execution!#9\u001b[22m\u001b[1m(\u001b[22m::Base.Iterators.Pairs{Symbol,Bool,Tuple{Symbol},NamedTuple{(:define,),Tuple{Bool}}}, ::Function, ::Any, ::Revise.CodeTrackingMethodInfo, ::Dict{Module,Array{Expr,1}}, ::Module, ::Expr\u001b[1m)\u001b[22m at \u001b[1m/home/nathan/.julia/packages/Revise/agmgx/src/lowered.jl:49\u001b[22m\n",
      " [12] \u001b[1m#methods_by_execution!\u001b[22m at \u001b[1m./none:0\u001b[22m [inlined]\n",
      " [13] \u001b[1m#eval_with_signatures#59\u001b[22m at \u001b[1m/home/nathan/.julia/packages/Revise/agmgx/src/Revise.jl:344\u001b[22m [inlined]\n",
      " [14] \u001b[1m#eval_with_signatures\u001b[22m at \u001b[1m./none:0\u001b[22m [inlined]\n",
      " [15] \u001b[1m#instantiate_sigs!#60\u001b[22m\u001b[1m(\u001b[22m::Bool, ::Base.Iterators.Pairs{Union{},Union{},Tuple{},NamedTuple{(),Tuple{}}}, ::Function, ::OrderedCollections.OrderedDict{Module,OrderedCollections.OrderedDict{Revise.RelocatableExpr,Union{Nothing, Array{Any,1}}}}\u001b[1m)\u001b[22m at \u001b[1m/home/nathan/.julia/packages/Revise/agmgx/src/Revise.jl:352\u001b[22m\n",
      " [16] \u001b[1minstantiate_sigs!\u001b[22m at \u001b[1m/home/nathan/.julia/packages/Revise/agmgx/src/Revise.jl:349\u001b[22m [inlined]\n",
      " [17] \u001b[1mmaybe_parse_from_cache!\u001b[22m\u001b[1m(\u001b[22m::Revise.PkgData, ::String\u001b[1m)\u001b[22m at \u001b[1m/home/nathan/.julia/packages/Revise/agmgx/src/pkgs.jl:224\u001b[22m\n",
      " [18] \u001b[1m(::getfield(Revise, Symbol(\"##26#27\")){String})\u001b[22m\u001b[1m(\u001b[22m\u001b[1m)\u001b[22m at \u001b[1m/home/nathan/.julia/packages/Revise/agmgx/src/pkgs.jl:370\u001b[22m\n",
      " [19] \u001b[1mwith_logstate\u001b[22m\u001b[1m(\u001b[22m::getfield(Revise, Symbol(\"##26#27\")){String}, ::Base.CoreLogging.LogState\u001b[1m)\u001b[22m at \u001b[1m./logging.jl:395\u001b[22m\n",
      " [20] \u001b[1mwith_logger\u001b[22m at \u001b[1m./logging.jl:491\u001b[22m [inlined]\n",
      " [21] \u001b[1mwatch_manifest\u001b[22m\u001b[1m(\u001b[22m::String\u001b[1m)\u001b[22m at \u001b[1m/home/nathan/.julia/packages/Revise/agmgx/src/pkgs.jl:349\u001b[22m\n",
      " [22] \u001b[1m(::Revise.Rescheduler{typeof(Revise.watch_manifest),Tuple{String}})\u001b[22m\u001b[1m(\u001b[22m\u001b[1m)\u001b[22m at \u001b[1m/home/nathan/.julia/packages/Revise/agmgx/src/types.jl:235\u001b[22m\n",
      "while evaluating\n",
      "function d_create(parent::Union{HDF5File, HDF5Group}, path::String, dtype::HDF5Datatype, dspace::HDF5Dataspace, lcpl::HDF5Properties=_link_properties(path), dcpl::HDF5Properties=DEFAULT_PROPERTIES, dapl::HDF5Properties=DEFAULT_PROPERTIES, dxpl::HDF5Properties=DEFAULT_PROPERTIES)\n",
      "    #= /home/nathan/.julia/packages/HDF5/2gJEi/src/HDF5.jl:940 =#\n",
      "    HDF5Dataset(h5d_create((checkvalid(parent)).id, path, dtype.id, dspace.id, lcpl.id, dcpl.id, dapl.id), file(parent), dxpl.id)\n",
      "end\n",
      "in module Main.HDF5\n",
      "\u001b[91mTypeError: in Union, in parameter, expected Type, got typeof(Main.HDF5.HDF5File)\u001b[39m\n",
      "Stacktrace:\n",
      " [1] \u001b[1mmaybe_evaluate_builtin\u001b[22m\u001b[1m(\u001b[22m::JuliaInterpreter.Frame, ::Expr, ::Bool\u001b[1m)\u001b[22m at \u001b[1m/home/nathan/.julia/packages/JuliaInterpreter/Or807/src/builtins.jl:86\u001b[22m\n",
      " [2] \u001b[1m#evaluate_call_recurse!#37\u001b[22m\u001b[1m(\u001b[22m::Bool, ::Function, ::Any, ::JuliaInterpreter.Frame, ::Expr\u001b[1m)\u001b[22m at \u001b[1m/home/nathan/.julia/packages/JuliaInterpreter/Or807/src/interpret.jl:209\u001b[22m\n",
      " [3] \u001b[1mevaluate_call_recurse!\u001b[22m at \u001b[1m/home/nathan/.julia/packages/JuliaInterpreter/Or807/src/interpret.jl:206\u001b[22m [inlined]\n",
      " [4] \u001b[1meval_rhs\u001b[22m\u001b[1m(\u001b[22m::Any, ::JuliaInterpreter.Frame, ::Expr\u001b[1m)\u001b[22m at \u001b[1m/home/nathan/.julia/packages/JuliaInterpreter/Or807/src/interpret.jl:381\u001b[22m\n",
      " [5] \u001b[1mstep_expr!\u001b[22m\u001b[1m(\u001b[22m::Any, ::JuliaInterpreter.Frame, ::Any, ::Bool\u001b[1m)\u001b[22m at \u001b[1m/home/nathan/.julia/packages/JuliaInterpreter/Or807/src/interpret.jl:509\u001b[22m\n",
      " [6] \u001b[1msignature\u001b[22m\u001b[1m(\u001b[22m::Any, ::JuliaInterpreter.Frame, ::Any, ::Int64\u001b[1m)\u001b[22m at \u001b[1m/home/nathan/.julia/packages/LoweredCodeUtils/6EZqd/src/LoweredCodeUtils.jl:146\u001b[22m\n",
      " [7] \u001b[1m#methoddef!#3\u001b[22m\u001b[1m(\u001b[22m::Bool, ::Function, ::Any, ::Array{Any,1}, ::JuliaInterpreter.Frame, ::Any, ::Int64\u001b[1m)\u001b[22m at \u001b[1m/home/nathan/.julia/packages/LoweredCodeUtils/6EZqd/src/LoweredCodeUtils.jl:420\u001b[22m\n",
      " [8] \u001b[1m(::getfield(LoweredCodeUtils, Symbol(\"#kw##methoddef!\")))\u001b[22m\u001b[1m(\u001b[22m::NamedTuple{(:define,),Tuple{Bool}}, ::typeof(LoweredCodeUtils.methoddef!), ::Function, ::Array{Any,1}, ::JuliaInterpreter.Frame, ::Expr, ::Int64\u001b[1m)\u001b[22m at \u001b[1m./none:0\u001b[22m\n",
      " [9] \u001b[1m#methods_by_execution!#14\u001b[22m\u001b[1m(\u001b[22m::Bool, ::Bool, ::Function, ::Any, ::Revise.CodeTrackingMethodInfo, ::Dict{Module,Array{Expr,1}}, ::JuliaInterpreter.Frame\u001b[1m)\u001b[22m at \u001b[1m/home/nathan/.julia/packages/Revise/agmgx/src/lowered.jl:81\u001b[22m\n",
      " [10] \u001b[1m#methods_by_execution!\u001b[22m at \u001b[1m./none:0\u001b[22m [inlined]\n",
      " [11] \u001b[1m#methods_by_execution!#9\u001b[22m\u001b[1m(\u001b[22m::Base.Iterators.Pairs{Symbol,Bool,Tuple{Symbol},NamedTuple{(:define,),Tuple{Bool}}}, ::Function, ::Any, ::Revise.CodeTrackingMethodInfo, ::Dict{Module,Array{Expr,1}}, ::Module, ::Expr\u001b[1m)\u001b[22m at \u001b[1m/home/nathan/.julia/packages/Revise/agmgx/src/lowered.jl:49\u001b[22m\n",
      " [12] \u001b[1m#methods_by_execution!\u001b[22m at \u001b[1m./none:0\u001b[22m [inlined]\n",
      " [13] \u001b[1m#eval_with_signatures#59\u001b[22m at \u001b[1m/home/nathan/.julia/packages/Revise/agmgx/src/Revise.jl:344\u001b[22m [inlined]\n",
      " [14] \u001b[1m#eval_with_signatures\u001b[22m at \u001b[1m./none:0\u001b[22m [inlined]\n",
      " [15] \u001b[1m#instantiate_sigs!#60\u001b[22m\u001b[1m(\u001b[22m::Bool, ::Base.Iterators.Pairs{Union{},Union{},Tuple{},NamedTuple{(),Tuple{}}}, ::Function, ::OrderedCollections.OrderedDict{Module,OrderedCollections.OrderedDict{Revise.RelocatableExpr,Union{Nothing, Array{Any,1}}}}\u001b[1m)\u001b[22m at \u001b[1m/home/nathan/.julia/packages/Revise/agmgx/src/Revise.jl:352\u001b[22m\n",
      " [16] \u001b[1minstantiate_sigs!\u001b[22m at \u001b[1m/home/nathan/.julia/packages/Revise/agmgx/src/Revise.jl:349\u001b[22m [inlined]\n",
      " [17] \u001b[1mmaybe_parse_from_cache!\u001b[22m\u001b[1m(\u001b[22m::Revise.PkgData, ::String\u001b[1m)\u001b[22m at \u001b[1m/home/nathan/.julia/packages/Revise/agmgx/src/pkgs.jl:224\u001b[22m\n",
      " [18] \u001b[1m(::getfield(Revise, Symbol(\"##26#27\")){String})\u001b[22m\u001b[1m(\u001b[22m\u001b[1m)\u001b[22m at \u001b[1m/home/nathan/.julia/packages/Revise/agmgx/src/pkgs.jl:370\u001b[22m\n",
      " [19] \u001b[1mwith_logstate\u001b[22m\u001b[1m(\u001b[22m::getfield(Revise, Symbol(\"##26#27\")){String}, ::Base.CoreLogging.LogState\u001b[1m)\u001b[22m at \u001b[1m./logging.jl:395\u001b[22m\n",
      " [20] \u001b[1mwith_logger\u001b[22m at \u001b[1m./logging.jl:491\u001b[22m [inlined]\n",
      " [21] \u001b[1mwatch_manifest\u001b[22m\u001b[1m(\u001b[22m::String\u001b[1m)\u001b[22m at \u001b[1m/home/nathan/.julia/packages/Revise/agmgx/src/pkgs.jl:349\u001b[22m\n",
      " [22] \u001b[1m(::Revise.Rescheduler{typeof(Revise.watch_manifest),Tuple{String}})\u001b[22m\u001b[1m(\u001b[22m\u001b[1m)\u001b[22m at \u001b[1m/home/nathan/.julia/packages/Revise/agmgx/src/types.jl:235\u001b[22m\n",
      "while evaluating\n",
      "function d_create(parent::Union{HDF5File, HDF5Group}, path::String, dtype::HDF5Datatype, dspace::HDF5Dataspace, prop1::String, val1, pv...)\n",
      "    #= /home/nathan/.julia/packages/HDF5/2gJEi/src/HDF5.jl:946 =#\n",
      "    t = (prop1, val1, pv...)\n",
      "    #= /home/nathan/.julia/packages/HDF5/2gJEi/src/HDF5.jl:947 =#\n",
      "    checkprops(t...)\n",
      "    #= /home/nathan/.julia/packages/HDF5/2gJEi/src/HDF5.jl:948 =#\n",
      "    dcpl = p_create(H5P_DATASET_CREATE, false, t...)\n",
      "    #= /home/nathan/.julia/packages/HDF5/2gJEi/src/HDF5.jl:949 =#\n",
      "    dxpl = p_create(H5P_DATASET_XFER, false, t...)\n",
      "    #= /home/nathan/.julia/packages/HDF5/2gJEi/src/HDF5.jl:950 =#\n",
      "    dapl = p_create(H5P_DATASET_ACCESS, false, t...)\n",
      "    #= /home/nathan/.julia/packages/HDF5/2gJEi/src/HDF5.jl:951 =#\n",
      "    HDF5Dataset(h5d_create((checkvalid(parent)).id, path, dtype.id, dspace.id, _link_properties(path), dcpl.id, dapl.id), file(parent), dxpl.id)\n",
      "end\n",
      "in module Main.HDF5\n",
      "\u001b[91mTypeError: in Union, in parameter, expected Type, got typeof(Main.HDF5.HDF5File)\u001b[39m\n",
      "Stacktrace:\n",
      " [1] \u001b[1mmaybe_evaluate_builtin\u001b[22m\u001b[1m(\u001b[22m::JuliaInterpreter.Frame, ::Expr, ::Bool\u001b[1m)\u001b[22m at \u001b[1m/home/nathan/.julia/packages/JuliaInterpreter/Or807/src/builtins.jl:86\u001b[22m\n",
      " [2] \u001b[1m#evaluate_call_recurse!#37\u001b[22m\u001b[1m(\u001b[22m::Bool, ::Function, ::Any, ::JuliaInterpreter.Frame, ::Expr\u001b[1m)\u001b[22m at \u001b[1m/home/nathan/.julia/packages/JuliaInterpreter/Or807/src/interpret.jl:209\u001b[22m\n",
      " [3] \u001b[1mevaluate_call_recurse!\u001b[22m at \u001b[1m/home/nathan/.julia/packages/JuliaInterpreter/Or807/src/interpret.jl:206\u001b[22m [inlined]\n",
      " [4] \u001b[1meval_rhs\u001b[22m\u001b[1m(\u001b[22m::Any, ::JuliaInterpreter.Frame, ::Expr\u001b[1m)\u001b[22m at \u001b[1m/home/nathan/.julia/packages/JuliaInterpreter/Or807/src/interpret.jl:381\u001b[22m\n",
      " [5] \u001b[1mstep_expr!\u001b[22m\u001b[1m(\u001b[22m::Any, ::JuliaInterpreter.Frame, ::Any, ::Bool\u001b[1m)\u001b[22m at \u001b[1m/home/nathan/.julia/packages/JuliaInterpreter/Or807/src/interpret.jl:509\u001b[22m\n"
     ]
    },
    {
     "name": "stderr",
     "output_type": "stream",
     "text": [
      " [6] \u001b[1msignature\u001b[22m\u001b[1m(\u001b[22m::Any, ::JuliaInterpreter.Frame, ::Any, ::Int64\u001b[1m)\u001b[22m at \u001b[1m/home/nathan/.julia/packages/LoweredCodeUtils/6EZqd/src/LoweredCodeUtils.jl:146\u001b[22m\n",
      " [7] \u001b[1m#methoddef!#3\u001b[22m\u001b[1m(\u001b[22m::Bool, ::Function, ::Any, ::Array{Any,1}, ::JuliaInterpreter.Frame, ::Any, ::Int64\u001b[1m)\u001b[22m at \u001b[1m/home/nathan/.julia/packages/LoweredCodeUtils/6EZqd/src/LoweredCodeUtils.jl:420\u001b[22m\n",
      " [8] \u001b[1m(::getfield(LoweredCodeUtils, Symbol(\"#kw##methoddef!\")))\u001b[22m\u001b[1m(\u001b[22m::NamedTuple{(:define,),Tuple{Bool}}, ::typeof(LoweredCodeUtils.methoddef!), ::Function, ::Array{Any,1}, ::JuliaInterpreter.Frame, ::Expr, ::Int64\u001b[1m)\u001b[22m at \u001b[1m./none:0\u001b[22m\n",
      " [9] \u001b[1m#methods_by_execution!#14\u001b[22m\u001b[1m(\u001b[22m::Bool, ::Bool, ::Function, ::Any, ::Revise.CodeTrackingMethodInfo, ::Dict{Module,Array{Expr,1}}, ::JuliaInterpreter.Frame\u001b[1m)\u001b[22m at \u001b[1m/home/nathan/.julia/packages/Revise/agmgx/src/lowered.jl:81\u001b[22m\n",
      " [10] \u001b[1m#methods_by_execution!\u001b[22m at \u001b[1m./none:0\u001b[22m [inlined]\n",
      " [11] \u001b[1m#methods_by_execution!#9\u001b[22m\u001b[1m(\u001b[22m::Base.Iterators.Pairs{Symbol,Bool,Tuple{Symbol},NamedTuple{(:define,),Tuple{Bool}}}, ::Function, ::Any, ::Revise.CodeTrackingMethodInfo, ::Dict{Module,Array{Expr,1}}, ::Module, ::Expr\u001b[1m)\u001b[22m at \u001b[1m/home/nathan/.julia/packages/Revise/agmgx/src/lowered.jl:49\u001b[22m\n",
      " [12] \u001b[1m#methods_by_execution!\u001b[22m at \u001b[1m./none:0\u001b[22m [inlined]\n",
      " [13] \u001b[1m#eval_with_signatures#59\u001b[22m at \u001b[1m/home/nathan/.julia/packages/Revise/agmgx/src/Revise.jl:344\u001b[22m [inlined]\n",
      " [14] \u001b[1m#eval_with_signatures\u001b[22m at \u001b[1m./none:0\u001b[22m [inlined]\n",
      " [15] \u001b[1m#instantiate_sigs!#60\u001b[22m\u001b[1m(\u001b[22m::Bool, ::Base.Iterators.Pairs{Union{},Union{},Tuple{},NamedTuple{(),Tuple{}}}, ::Function, ::OrderedCollections.OrderedDict{Module,OrderedCollections.OrderedDict{Revise.RelocatableExpr,Union{Nothing, Array{Any,1}}}}\u001b[1m)\u001b[22m at \u001b[1m/home/nathan/.julia/packages/Revise/agmgx/src/Revise.jl:352\u001b[22m\n",
      " [16] \u001b[1minstantiate_sigs!\u001b[22m at \u001b[1m/home/nathan/.julia/packages/Revise/agmgx/src/Revise.jl:349\u001b[22m [inlined]\n",
      " [17] \u001b[1mmaybe_parse_from_cache!\u001b[22m\u001b[1m(\u001b[22m::Revise.PkgData, ::String\u001b[1m)\u001b[22m at \u001b[1m/home/nathan/.julia/packages/Revise/agmgx/src/pkgs.jl:224\u001b[22m\n",
      " [18] \u001b[1m(::getfield(Revise, Symbol(\"##26#27\")){String})\u001b[22m\u001b[1m(\u001b[22m\u001b[1m)\u001b[22m at \u001b[1m/home/nathan/.julia/packages/Revise/agmgx/src/pkgs.jl:370\u001b[22m\n",
      " [19] \u001b[1mwith_logstate\u001b[22m\u001b[1m(\u001b[22m::getfield(Revise, Symbol(\"##26#27\")){String}, ::Base.CoreLogging.LogState\u001b[1m)\u001b[22m at \u001b[1m./logging.jl:395\u001b[22m\n",
      " [20] \u001b[1mwith_logger\u001b[22m at \u001b[1m./logging.jl:491\u001b[22m [inlined]\n",
      " [21] \u001b[1mwatch_manifest\u001b[22m\u001b[1m(\u001b[22m::String\u001b[1m)\u001b[22m at \u001b[1m/home/nathan/.julia/packages/Revise/agmgx/src/pkgs.jl:349\u001b[22m\n",
      " [22] \u001b[1m(::Revise.Rescheduler{typeof(Revise.watch_manifest),Tuple{String}})\u001b[22m\u001b[1m(\u001b[22m\u001b[1m)\u001b[22m at \u001b[1m/home/nathan/.julia/packages/Revise/agmgx/src/types.jl:235\u001b[22m\n",
      "while evaluating\n",
      "d_create(parent::Union{HDF5File, HDF5Group}, path::String, dtype::HDF5Datatype, dspace_dims::Dims, prop1::String, val1, pv...) = begin\n",
      "        #= /home/nathan/.julia/packages/HDF5/2gJEi/src/HDF5.jl:953 =#\n",
      "        d_create(checkvalid(parent), path, dtype, dataspace(dspace_dims), prop1, val1, pv...)\n",
      "    end\n",
      "in module Main.HDF5\n",
      "\u001b[91mTypeError: in Union, in parameter, expected Type, got typeof(Main.HDF5.HDF5File)\u001b[39m\n",
      "Stacktrace:\n",
      " [1] \u001b[1mmaybe_evaluate_builtin\u001b[22m\u001b[1m(\u001b[22m::JuliaInterpreter.Frame, ::Expr, ::Bool\u001b[1m)\u001b[22m at \u001b[1m/home/nathan/.julia/packages/JuliaInterpreter/Or807/src/builtins.jl:86\u001b[22m\n",
      " [2] \u001b[1m#evaluate_call_recurse!#37\u001b[22m\u001b[1m(\u001b[22m::Bool, ::Function, ::Any, ::JuliaInterpreter.Frame, ::Expr\u001b[1m)\u001b[22m at \u001b[1m/home/nathan/.julia/packages/JuliaInterpreter/Or807/src/interpret.jl:209\u001b[22m\n",
      " [3] \u001b[1mevaluate_call_recurse!\u001b[22m at \u001b[1m/home/nathan/.julia/packages/JuliaInterpreter/Or807/src/interpret.jl:206\u001b[22m [inlined]\n",
      " [4] \u001b[1meval_rhs\u001b[22m\u001b[1m(\u001b[22m::Any, ::JuliaInterpreter.Frame, ::Expr\u001b[1m)\u001b[22m at \u001b[1m/home/nathan/.julia/packages/JuliaInterpreter/Or807/src/interpret.jl:381\u001b[22m\n",
      " [5] \u001b[1mstep_expr!\u001b[22m\u001b[1m(\u001b[22m::Any, ::JuliaInterpreter.Frame, ::Any, ::Bool\u001b[1m)\u001b[22m at \u001b[1m/home/nathan/.julia/packages/JuliaInterpreter/Or807/src/interpret.jl:509\u001b[22m\n",
      " [6] \u001b[1msignature\u001b[22m\u001b[1m(\u001b[22m::Any, ::JuliaInterpreter.Frame, ::Any, ::Int64\u001b[1m)\u001b[22m at \u001b[1m/home/nathan/.julia/packages/LoweredCodeUtils/6EZqd/src/LoweredCodeUtils.jl:146\u001b[22m\n",
      " [7] \u001b[1m#methoddef!#3\u001b[22m\u001b[1m(\u001b[22m::Bool, ::Function, ::Any, ::Array{Any,1}, ::JuliaInterpreter.Frame, ::Any, ::Int64\u001b[1m)\u001b[22m at \u001b[1m/home/nathan/.julia/packages/LoweredCodeUtils/6EZqd/src/LoweredCodeUtils.jl:420\u001b[22m\n",
      " [8] \u001b[1m(::getfield(LoweredCodeUtils, Symbol(\"#kw##methoddef!\")))\u001b[22m\u001b[1m(\u001b[22m::NamedTuple{(:define,),Tuple{Bool}}, ::typeof(LoweredCodeUtils.methoddef!), ::Function, ::Array{Any,1}, ::JuliaInterpreter.Frame, ::Expr, ::Int64\u001b[1m)\u001b[22m at \u001b[1m./none:0\u001b[22m\n",
      " [9] \u001b[1m#methods_by_execution!#14\u001b[22m\u001b[1m(\u001b[22m::Bool, ::Bool, ::Function, ::Any, ::Revise.CodeTrackingMethodInfo, ::Dict{Module,Array{Expr,1}}, ::JuliaInterpreter.Frame\u001b[1m)\u001b[22m at \u001b[1m/home/nathan/.julia/packages/Revise/agmgx/src/lowered.jl:81\u001b[22m\n",
      " [10] \u001b[1m#methods_by_execution!\u001b[22m at \u001b[1m./none:0\u001b[22m [inlined]\n",
      " [11] \u001b[1m#methods_by_execution!#9\u001b[22m\u001b[1m(\u001b[22m::Base.Iterators.Pairs{Symbol,Bool,Tuple{Symbol},NamedTuple{(:define,),Tuple{Bool}}}, ::Function, ::Any, ::Revise.CodeTrackingMethodInfo, ::Dict{Module,Array{Expr,1}}, ::Module, ::Expr\u001b[1m)\u001b[22m at \u001b[1m/home/nathan/.julia/packages/Revise/agmgx/src/lowered.jl:49\u001b[22m\n",
      " [12] \u001b[1m#methods_by_execution!\u001b[22m at \u001b[1m./none:0\u001b[22m [inlined]\n",
      " [13] \u001b[1m#eval_with_signatures#59\u001b[22m at \u001b[1m/home/nathan/.julia/packages/Revise/agmgx/src/Revise.jl:344\u001b[22m [inlined]\n",
      " [14] \u001b[1m#eval_with_signatures\u001b[22m at \u001b[1m./none:0\u001b[22m [inlined]\n",
      " [15] \u001b[1m#instantiate_sigs!#60\u001b[22m\u001b[1m(\u001b[22m::Bool, ::Base.Iterators.Pairs{Union{},Union{},Tuple{},NamedTuple{(),Tuple{}}}, ::Function, ::OrderedCollections.OrderedDict{Module,OrderedCollections.OrderedDict{Revise.RelocatableExpr,Union{Nothing, Array{Any,1}}}}\u001b[1m)\u001b[22m at \u001b[1m/home/nathan/.julia/packages/Revise/agmgx/src/Revise.jl:352\u001b[22m\n",
      " [16] \u001b[1minstantiate_sigs!\u001b[22m at \u001b[1m/home/nathan/.julia/packages/Revise/agmgx/src/Revise.jl:349\u001b[22m [inlined]\n",
      " [17] \u001b[1mmaybe_parse_from_cache!\u001b[22m\u001b[1m(\u001b[22m::Revise.PkgData, ::String\u001b[1m)\u001b[22m at \u001b[1m/home/nathan/.julia/packages/Revise/agmgx/src/pkgs.jl:224\u001b[22m\n",
      " [18] \u001b[1m(::getfield(Revise, Symbol(\"##26#27\")){String})\u001b[22m\u001b[1m(\u001b[22m\u001b[1m)\u001b[22m at \u001b[1m/home/nathan/.julia/packages/Revise/agmgx/src/pkgs.jl:370\u001b[22m\n",
      " [19] \u001b[1mwith_logstate\u001b[22m\u001b[1m(\u001b[22m::getfield(Revise, Symbol(\"##26#27\")){String}, ::Base.CoreLogging.LogState\u001b[1m)\u001b[22m at \u001b[1m./logging.jl:395\u001b[22m\n",
      " [20] \u001b[1mwith_logger\u001b[22m at \u001b[1m./logging.jl:491\u001b[22m [inlined]\n",
      " [21] \u001b[1mwatch_manifest\u001b[22m\u001b[1m(\u001b[22m::String\u001b[1m)\u001b[22m at \u001b[1m/home/nathan/.julia/packages/Revise/agmgx/src/pkgs.jl:349\u001b[22m\n",
      " [22] \u001b[1m(::Revise.Rescheduler{typeof(Revise.watch_manifest),Tuple{String}})\u001b[22m\u001b[1m(\u001b[22m\u001b[1m)\u001b[22m at \u001b[1m/home/nathan/.julia/packages/Revise/agmgx/src/types.jl:235\u001b[22m\n",
      "while evaluating\n",
      "d_create(parent::Union{HDF5File, HDF5Group}, path::String, dtype::HDF5Datatype, dspace_dims::Tuple{Dims, Dims}, prop1::String, val1, pv...) = begin\n",
      "        #= /home/nathan/.julia/packages/HDF5/2gJEi/src/HDF5.jl:954 =#\n",
      "        d_create(checkvalid(parent), path, dtype, dataspace(dspace_dims[1], max_dims=dspace_dims[2]), prop1, val1, pv...)\n",
      "    end\n",
      "in module Main.HDF5\n",
      "\u001b[91mTypeError: in Union, in parameter, expected Type, got typeof(Main.HDF5.HDF5File)\u001b[39m\n",
      "Stacktrace:\n",
      " [1] \u001b[1mmaybe_evaluate_builtin\u001b[22m\u001b[1m(\u001b[22m::JuliaInterpreter.Frame, ::Expr, ::Bool\u001b[1m)\u001b[22m at \u001b[1m/home/nathan/.julia/packages/JuliaInterpreter/Or807/src/builtins.jl:86\u001b[22m\n",
      " [2] \u001b[1m#evaluate_call_recurse!#37\u001b[22m\u001b[1m(\u001b[22m::Bool, ::Function, ::Any, ::JuliaInterpreter.Frame, ::Expr\u001b[1m)\u001b[22m at \u001b[1m/home/nathan/.julia/packages/JuliaInterpreter/Or807/src/interpret.jl:209\u001b[22m\n",
      " [3] \u001b[1mevaluate_call_recurse!\u001b[22m at \u001b[1m/home/nathan/.julia/packages/JuliaInterpreter/Or807/src/interpret.jl:206\u001b[22m [inlined]\n",
      " [4] \u001b[1meval_rhs\u001b[22m\u001b[1m(\u001b[22m::Any, ::JuliaInterpreter.Frame, ::Expr\u001b[1m)\u001b[22m at \u001b[1m/home/nathan/.julia/packages/JuliaInterpreter/Or807/src/interpret.jl:381\u001b[22m\n",
      " [5] \u001b[1mstep_expr!\u001b[22m\u001b[1m(\u001b[22m::Any, ::JuliaInterpreter.Frame, ::Any, ::Bool\u001b[1m)\u001b[22m at \u001b[1m/home/nathan/.julia/packages/JuliaInterpreter/Or807/src/interpret.jl:509\u001b[22m\n",
      " [6] \u001b[1msignature\u001b[22m\u001b[1m(\u001b[22m::Any, ::JuliaInterpreter.Frame, ::Any, ::Int64\u001b[1m)\u001b[22m at \u001b[1m/home/nathan/.julia/packages/LoweredCodeUtils/6EZqd/src/LoweredCodeUtils.jl:146\u001b[22m\n",
      " [7] \u001b[1m#methoddef!#3\u001b[22m\u001b[1m(\u001b[22m::Bool, ::Function, ::Any, ::Array{Any,1}, ::JuliaInterpreter.Frame, ::Any, ::Int64\u001b[1m)\u001b[22m at \u001b[1m/home/nathan/.julia/packages/LoweredCodeUtils/6EZqd/src/LoweredCodeUtils.jl:420\u001b[22m\n",
      " [8] \u001b[1m(::getfield(LoweredCodeUtils, Symbol(\"#kw##methoddef!\")))\u001b[22m\u001b[1m(\u001b[22m::NamedTuple{(:define,),Tuple{Bool}}, ::typeof(LoweredCodeUtils.methoddef!), ::Function, ::Array{Any,1}, ::JuliaInterpreter.Frame, ::Expr, ::Int64\u001b[1m)\u001b[22m at \u001b[1m./none:0\u001b[22m\n",
      " [9] \u001b[1m#methods_by_execution!#14\u001b[22m\u001b[1m(\u001b[22m::Bool, ::Bool, ::Function, ::Any, ::Revise.CodeTrackingMethodInfo, ::Dict{Module,Array{Expr,1}}, ::JuliaInterpreter.Frame\u001b[1m)\u001b[22m at \u001b[1m/home/nathan/.julia/packages/Revise/agmgx/src/lowered.jl:81\u001b[22m\n",
      " [10] \u001b[1m#methods_by_execution!\u001b[22m at \u001b[1m./none:0\u001b[22m [inlined]\n",
      " [11] \u001b[1m#methods_by_execution!#9\u001b[22m\u001b[1m(\u001b[22m::Base.Iterators.Pairs{Symbol,Bool,Tuple{Symbol},NamedTuple{(:define,),Tuple{Bool}}}, ::Function, ::Any, ::Revise.CodeTrackingMethodInfo, ::Dict{Module,Array{Expr,1}}, ::Module, ::Expr\u001b[1m)\u001b[22m at \u001b[1m/home/nathan/.julia/packages/Revise/agmgx/src/lowered.jl:49\u001b[22m\n",
      " [12] \u001b[1m#methods_by_execution!\u001b[22m at \u001b[1m./none:0\u001b[22m [inlined]\n",
      " [13] \u001b[1m#eval_with_signatures#59\u001b[22m at \u001b[1m/home/nathan/.julia/packages/Revise/agmgx/src/Revise.jl:344\u001b[22m [inlined]\n",
      " [14] \u001b[1m#eval_with_signatures\u001b[22m at \u001b[1m./none:0\u001b[22m [inlined]\n",
      " [15] \u001b[1m#instantiate_sigs!#60\u001b[22m\u001b[1m(\u001b[22m::Bool, ::Base.Iterators.Pairs{Union{},Union{},Tuple{},NamedTuple{(),Tuple{}}}, ::Function, ::OrderedCollections.OrderedDict{Module,OrderedCollections.OrderedDict{Revise.RelocatableExpr,Union{Nothing, Array{Any,1}}}}\u001b[1m)\u001b[22m at \u001b[1m/home/nathan/.julia/packages/Revise/agmgx/src/Revise.jl:352\u001b[22m\n"
     ]
    },
    {
     "name": "stderr",
     "output_type": "stream",
     "text": [
      " [16] \u001b[1minstantiate_sigs!\u001b[22m at \u001b[1m/home/nathan/.julia/packages/Revise/agmgx/src/Revise.jl:349\u001b[22m [inlined]\n",
      " [17] \u001b[1mmaybe_parse_from_cache!\u001b[22m\u001b[1m(\u001b[22m::Revise.PkgData, ::String\u001b[1m)\u001b[22m at \u001b[1m/home/nathan/.julia/packages/Revise/agmgx/src/pkgs.jl:224\u001b[22m\n",
      " [18] \u001b[1m(::getfield(Revise, Symbol(\"##26#27\")){String})\u001b[22m\u001b[1m(\u001b[22m\u001b[1m)\u001b[22m at \u001b[1m/home/nathan/.julia/packages/Revise/agmgx/src/pkgs.jl:370\u001b[22m\n",
      " [19] \u001b[1mwith_logstate\u001b[22m\u001b[1m(\u001b[22m::getfield(Revise, Symbol(\"##26#27\")){String}, ::Base.CoreLogging.LogState\u001b[1m)\u001b[22m at \u001b[1m./logging.jl:395\u001b[22m\n",
      " [20] \u001b[1mwith_logger\u001b[22m at \u001b[1m./logging.jl:491\u001b[22m [inlined]\n",
      " [21] \u001b[1mwatch_manifest\u001b[22m\u001b[1m(\u001b[22m::String\u001b[1m)\u001b[22m at \u001b[1m/home/nathan/.julia/packages/Revise/agmgx/src/pkgs.jl:349\u001b[22m\n",
      " [22] \u001b[1m(::Revise.Rescheduler{typeof(Revise.watch_manifest),Tuple{String}})\u001b[22m\u001b[1m(\u001b[22m\u001b[1m)\u001b[22m at \u001b[1m/home/nathan/.julia/packages/Revise/agmgx/src/types.jl:235\u001b[22m\n",
      "while evaluating\n",
      "d_create(parent::Union{HDF5File, HDF5Group}, path::String, dtype::Type, dspace_dims, prop1::String, val1, pv...) = begin\n",
      "        #= /home/nathan/.julia/packages/HDF5/2gJEi/src/HDF5.jl:955 =#\n",
      "        d_create(checkvalid(parent), path, datatype(dtype), dataspace(dspace_dims[1], max_dims=dspace_dims[2]), prop1, val1, pv...)\n",
      "    end\n",
      "in module Main.HDF5\n",
      "\u001b[91mTypeError: in Union, in parameter, expected Type, got typeof(Main.HDF5.HDF5File)\u001b[39m\n",
      "Stacktrace:\n",
      " [1] \u001b[1mmaybe_evaluate_builtin\u001b[22m\u001b[1m(\u001b[22m::JuliaInterpreter.Frame, ::Expr, ::Bool\u001b[1m)\u001b[22m at \u001b[1m/home/nathan/.julia/packages/JuliaInterpreter/Or807/src/builtins.jl:86\u001b[22m\n",
      " [2] \u001b[1m#evaluate_call_recurse!#37\u001b[22m\u001b[1m(\u001b[22m::Bool, ::Function, ::Any, ::JuliaInterpreter.Frame, ::Expr\u001b[1m)\u001b[22m at \u001b[1m/home/nathan/.julia/packages/JuliaInterpreter/Or807/src/interpret.jl:209\u001b[22m\n",
      " [3] \u001b[1mevaluate_call_recurse!\u001b[22m at \u001b[1m/home/nathan/.julia/packages/JuliaInterpreter/Or807/src/interpret.jl:206\u001b[22m [inlined]\n",
      " [4] \u001b[1meval_rhs\u001b[22m\u001b[1m(\u001b[22m::Any, ::JuliaInterpreter.Frame, ::Expr\u001b[1m)\u001b[22m at \u001b[1m/home/nathan/.julia/packages/JuliaInterpreter/Or807/src/interpret.jl:381\u001b[22m\n",
      " [5] \u001b[1mstep_expr!\u001b[22m\u001b[1m(\u001b[22m::Any, ::JuliaInterpreter.Frame, ::Any, ::Bool\u001b[1m)\u001b[22m at \u001b[1m/home/nathan/.julia/packages/JuliaInterpreter/Or807/src/interpret.jl:509\u001b[22m\n",
      " [6] \u001b[1msignature\u001b[22m\u001b[1m(\u001b[22m::Any, ::JuliaInterpreter.Frame, ::Any, ::Int64\u001b[1m)\u001b[22m at \u001b[1m/home/nathan/.julia/packages/LoweredCodeUtils/6EZqd/src/LoweredCodeUtils.jl:146\u001b[22m\n",
      " [7] \u001b[1m#methoddef!#3\u001b[22m\u001b[1m(\u001b[22m::Bool, ::Function, ::Any, ::Array{Any,1}, ::JuliaInterpreter.Frame, ::Any, ::Int64\u001b[1m)\u001b[22m at \u001b[1m/home/nathan/.julia/packages/LoweredCodeUtils/6EZqd/src/LoweredCodeUtils.jl:420\u001b[22m\n",
      " [8] \u001b[1m(::getfield(LoweredCodeUtils, Symbol(\"#kw##methoddef!\")))\u001b[22m\u001b[1m(\u001b[22m::NamedTuple{(:define,),Tuple{Bool}}, ::typeof(LoweredCodeUtils.methoddef!), ::Function, ::Array{Any,1}, ::JuliaInterpreter.Frame, ::Expr, ::Int64\u001b[1m)\u001b[22m at \u001b[1m./none:0\u001b[22m\n",
      " [9] \u001b[1m#methods_by_execution!#14\u001b[22m\u001b[1m(\u001b[22m::Bool, ::Bool, ::Function, ::Any, ::Revise.CodeTrackingMethodInfo, ::Dict{Module,Array{Expr,1}}, ::JuliaInterpreter.Frame\u001b[1m)\u001b[22m at \u001b[1m/home/nathan/.julia/packages/Revise/agmgx/src/lowered.jl:81\u001b[22m\n",
      " [10] \u001b[1m#methods_by_execution!\u001b[22m at \u001b[1m./none:0\u001b[22m [inlined]\n",
      " [11] \u001b[1m#methods_by_execution!#9\u001b[22m\u001b[1m(\u001b[22m::Base.Iterators.Pairs{Symbol,Bool,Tuple{Symbol},NamedTuple{(:define,),Tuple{Bool}}}, ::Function, ::Any, ::Revise.CodeTrackingMethodInfo, ::Dict{Module,Array{Expr,1}}, ::Module, ::Expr\u001b[1m)\u001b[22m at \u001b[1m/home/nathan/.julia/packages/Revise/agmgx/src/lowered.jl:49\u001b[22m\n",
      " [12] \u001b[1m#methods_by_execution!\u001b[22m at \u001b[1m./none:0\u001b[22m [inlined]\n",
      " [13] \u001b[1m#eval_with_signatures#59\u001b[22m at \u001b[1m/home/nathan/.julia/packages/Revise/agmgx/src/Revise.jl:344\u001b[22m [inlined]\n",
      " [14] \u001b[1m#eval_with_signatures\u001b[22m at \u001b[1m./none:0\u001b[22m [inlined]\n",
      " [15] \u001b[1m#instantiate_sigs!#60\u001b[22m\u001b[1m(\u001b[22m::Bool, ::Base.Iterators.Pairs{Union{},Union{},Tuple{},NamedTuple{(),Tuple{}}}, ::Function, ::OrderedCollections.OrderedDict{Module,OrderedCollections.OrderedDict{Revise.RelocatableExpr,Union{Nothing, Array{Any,1}}}}\u001b[1m)\u001b[22m at \u001b[1m/home/nathan/.julia/packages/Revise/agmgx/src/Revise.jl:352\u001b[22m\n",
      " [16] \u001b[1minstantiate_sigs!\u001b[22m at \u001b[1m/home/nathan/.julia/packages/Revise/agmgx/src/Revise.jl:349\u001b[22m [inlined]\n",
      " [17] \u001b[1mmaybe_parse_from_cache!\u001b[22m\u001b[1m(\u001b[22m::Revise.PkgData, ::String\u001b[1m)\u001b[22m at \u001b[1m/home/nathan/.julia/packages/Revise/agmgx/src/pkgs.jl:224\u001b[22m\n",
      " [18] \u001b[1m(::getfield(Revise, Symbol(\"##26#27\")){String})\u001b[22m\u001b[1m(\u001b[22m\u001b[1m)\u001b[22m at \u001b[1m/home/nathan/.julia/packages/Revise/agmgx/src/pkgs.jl:370\u001b[22m\n",
      " [19] \u001b[1mwith_logstate\u001b[22m\u001b[1m(\u001b[22m::getfield(Revise, Symbol(\"##26#27\")){String}, ::Base.CoreLogging.LogState\u001b[1m)\u001b[22m at \u001b[1m./logging.jl:395\u001b[22m\n",
      " [20] \u001b[1mwith_logger\u001b[22m at \u001b[1m./logging.jl:491\u001b[22m [inlined]\n",
      " [21] \u001b[1mwatch_manifest\u001b[22m\u001b[1m(\u001b[22m::String\u001b[1m)\u001b[22m at \u001b[1m/home/nathan/.julia/packages/Revise/agmgx/src/pkgs.jl:349\u001b[22m\n",
      " [22] \u001b[1m(::Revise.Rescheduler{typeof(Revise.watch_manifest),Tuple{String}})\u001b[22m\u001b[1m(\u001b[22m\u001b[1m)\u001b[22m at \u001b[1m/home/nathan/.julia/packages/Revise/agmgx/src/types.jl:235\u001b[22m\n",
      "while evaluating\n",
      "function t_commit(parent::Union{HDF5File, HDF5Group}, path::String, dtype::HDF5Datatype, lcpl::HDF5Properties, tcpl::HDF5Properties, tapl::HDF5Properties)\n",
      "    #= /home/nathan/.julia/packages/HDF5/2gJEi/src/HDF5.jl:960 =#\n",
      "    h5p_set_char_encoding(lcpl.id, cset(typeof(path)))\n",
      "    #= /home/nathan/.julia/packages/HDF5/2gJEi/src/HDF5.jl:961 =#\n",
      "    h5t_commit((checkvalid(parent)).id, path, dtype.id, lcpl.id, tcpl.id, tapl.id)\n",
      "    #= /home/nathan/.julia/packages/HDF5/2gJEi/src/HDF5.jl:962 =#\n",
      "    dtype.file = file(parent)\n",
      "    #= /home/nathan/.julia/packages/HDF5/2gJEi/src/HDF5.jl:963 =#\n",
      "    dtype\n",
      "end\n",
      "in module Main.HDF5\n",
      "\u001b[91mTypeError: in Union, in parameter, expected Type, got typeof(Main.HDF5.HDF5File)\u001b[39m\n",
      "Stacktrace:\n",
      " [1] \u001b[1mmaybe_evaluate_builtin\u001b[22m\u001b[1m(\u001b[22m::JuliaInterpreter.Frame, ::Expr, ::Bool\u001b[1m)\u001b[22m at \u001b[1m/home/nathan/.julia/packages/JuliaInterpreter/Or807/src/builtins.jl:86\u001b[22m\n",
      " [2] \u001b[1m#evaluate_call_recurse!#37\u001b[22m\u001b[1m(\u001b[22m::Bool, ::Function, ::Any, ::JuliaInterpreter.Frame, ::Expr\u001b[1m)\u001b[22m at \u001b[1m/home/nathan/.julia/packages/JuliaInterpreter/Or807/src/interpret.jl:209\u001b[22m\n",
      " [3] \u001b[1mevaluate_call_recurse!\u001b[22m at \u001b[1m/home/nathan/.julia/packages/JuliaInterpreter/Or807/src/interpret.jl:206\u001b[22m [inlined]\n",
      " [4] \u001b[1meval_rhs\u001b[22m\u001b[1m(\u001b[22m::Any, ::JuliaInterpreter.Frame, ::Expr\u001b[1m)\u001b[22m at \u001b[1m/home/nathan/.julia/packages/JuliaInterpreter/Or807/src/interpret.jl:381\u001b[22m\n",
      " [5] \u001b[1mstep_expr!\u001b[22m\u001b[1m(\u001b[22m::Any, ::JuliaInterpreter.Frame, ::Any, ::Bool\u001b[1m)\u001b[22m at \u001b[1m/home/nathan/.julia/packages/JuliaInterpreter/Or807/src/interpret.jl:509\u001b[22m\n",
      " [6] \u001b[1msignature\u001b[22m\u001b[1m(\u001b[22m::Any, ::JuliaInterpreter.Frame, ::Any, ::Int64\u001b[1m)\u001b[22m at \u001b[1m/home/nathan/.julia/packages/LoweredCodeUtils/6EZqd/src/LoweredCodeUtils.jl:146\u001b[22m\n",
      " [7] \u001b[1m#methoddef!#3\u001b[22m\u001b[1m(\u001b[22m::Bool, ::Function, ::Any, ::Array{Any,1}, ::JuliaInterpreter.Frame, ::Any, ::Int64\u001b[1m)\u001b[22m at \u001b[1m/home/nathan/.julia/packages/LoweredCodeUtils/6EZqd/src/LoweredCodeUtils.jl:420\u001b[22m\n",
      " [8] \u001b[1m(::getfield(LoweredCodeUtils, Symbol(\"#kw##methoddef!\")))\u001b[22m\u001b[1m(\u001b[22m::NamedTuple{(:define,),Tuple{Bool}}, ::typeof(LoweredCodeUtils.methoddef!), ::Function, ::Array{Any,1}, ::JuliaInterpreter.Frame, ::Expr, ::Int64\u001b[1m)\u001b[22m at \u001b[1m./none:0\u001b[22m\n",
      " [9] \u001b[1m#methods_by_execution!#14\u001b[22m\u001b[1m(\u001b[22m::Bool, ::Bool, ::Function, ::Any, ::Revise.CodeTrackingMethodInfo, ::Dict{Module,Array{Expr,1}}, ::JuliaInterpreter.Frame\u001b[1m)\u001b[22m at \u001b[1m/home/nathan/.julia/packages/Revise/agmgx/src/lowered.jl:81\u001b[22m\n",
      " [10] \u001b[1m#methods_by_execution!\u001b[22m at \u001b[1m./none:0\u001b[22m [inlined]\n",
      " [11] \u001b[1m#methods_by_execution!#9\u001b[22m\u001b[1m(\u001b[22m::Base.Iterators.Pairs{Symbol,Bool,Tuple{Symbol},NamedTuple{(:define,),Tuple{Bool}}}, ::Function, ::Any, ::Revise.CodeTrackingMethodInfo, ::Dict{Module,Array{Expr,1}}, ::Module, ::Expr\u001b[1m)\u001b[22m at \u001b[1m/home/nathan/.julia/packages/Revise/agmgx/src/lowered.jl:49\u001b[22m\n",
      " [12] \u001b[1m#methods_by_execution!\u001b[22m at \u001b[1m./none:0\u001b[22m [inlined]\n",
      " [13] \u001b[1m#eval_with_signatures#59\u001b[22m at \u001b[1m/home/nathan/.julia/packages/Revise/agmgx/src/Revise.jl:344\u001b[22m [inlined]\n",
      " [14] \u001b[1m#eval_with_signatures\u001b[22m at \u001b[1m./none:0\u001b[22m [inlined]\n",
      " [15] \u001b[1m#instantiate_sigs!#60\u001b[22m\u001b[1m(\u001b[22m::Bool, ::Base.Iterators.Pairs{Union{},Union{},Tuple{},NamedTuple{(),Tuple{}}}, ::Function, ::OrderedCollections.OrderedDict{Module,OrderedCollections.OrderedDict{Revise.RelocatableExpr,Union{Nothing, Array{Any,1}}}}\u001b[1m)\u001b[22m at \u001b[1m/home/nathan/.julia/packages/Revise/agmgx/src/Revise.jl:352\u001b[22m\n",
      " [16] \u001b[1minstantiate_sigs!\u001b[22m at \u001b[1m/home/nathan/.julia/packages/Revise/agmgx/src/Revise.jl:349\u001b[22m [inlined]\n",
      " [17] \u001b[1mmaybe_parse_from_cache!\u001b[22m\u001b[1m(\u001b[22m::Revise.PkgData, ::String\u001b[1m)\u001b[22m at \u001b[1m/home/nathan/.julia/packages/Revise/agmgx/src/pkgs.jl:224\u001b[22m\n",
      " [18] \u001b[1m(::getfield(Revise, Symbol(\"##26#27\")){String})\u001b[22m\u001b[1m(\u001b[22m\u001b[1m)\u001b[22m at \u001b[1m/home/nathan/.julia/packages/Revise/agmgx/src/pkgs.jl:370\u001b[22m\n",
      " [19] \u001b[1mwith_logstate\u001b[22m\u001b[1m(\u001b[22m::getfield(Revise, Symbol(\"##26#27\")){String}, ::Base.CoreLogging.LogState\u001b[1m)\u001b[22m at \u001b[1m./logging.jl:395\u001b[22m\n",
      " [20] \u001b[1mwith_logger\u001b[22m at \u001b[1m./logging.jl:491\u001b[22m [inlined]\n",
      " [21] \u001b[1mwatch_manifest\u001b[22m\u001b[1m(\u001b[22m::String\u001b[1m)\u001b[22m at \u001b[1m/home/nathan/.julia/packages/Revise/agmgx/src/pkgs.jl:349\u001b[22m\n",
      " [22] \u001b[1m(::Revise.Rescheduler{typeof(Revise.watch_manifest),Tuple{String}})\u001b[22m\u001b[1m(\u001b[22m\u001b[1m)\u001b[22m at \u001b[1m/home/nathan/.julia/packages/Revise/agmgx/src/types.jl:235\u001b[22m\n",
      "while evaluating\n",
      "function t_commit(parent::Union{HDF5File, HDF5Group}, path::String, dtype::HDF5Datatype, lcpl::HDF5Properties, tcpl::HDF5Properties)\n",
      "    #= /home/nathan/.julia/packages/HDF5/2gJEi/src/HDF5.jl:966 =#\n",
      "    h5p_set_char_encoding(lcpl.id, cset(typeof(path)))\n",
      "    #= /home/nathan/.julia/packages/HDF5/2gJEi/src/HDF5.jl:967 =#\n",
      "    h5t_commit((checkvalid(parent)).id, path, dtype.id, lcpl.id, tcpl.id, H5P_DEFAULT)\n",
      "    #= /home/nathan/.julia/packages/HDF5/2gJEi/src/HDF5.jl:968 =#\n",
      "    dtype.file = file(parent)\n",
      "    #= /home/nathan/.julia/packages/HDF5/2gJEi/src/HDF5.jl:969 =#\n",
      "    dtype\n",
      "end\n",
      "in module Main.HDF5\n",
      "\u001b[91mTypeError: in Union, in parameter, expected Type, got typeof(Main.HDF5.HDF5File)\u001b[39m\n",
      "Stacktrace:\n"
     ]
    },
    {
     "name": "stderr",
     "output_type": "stream",
     "text": [
      " [1] \u001b[1mmaybe_evaluate_builtin\u001b[22m\u001b[1m(\u001b[22m::JuliaInterpreter.Frame, ::Expr, ::Bool\u001b[1m)\u001b[22m at \u001b[1m/home/nathan/.julia/packages/JuliaInterpreter/Or807/src/builtins.jl:86\u001b[22m\n",
      " [2] \u001b[1m#evaluate_call_recurse!#37\u001b[22m\u001b[1m(\u001b[22m::Bool, ::Function, ::Any, ::JuliaInterpreter.Frame, ::Expr\u001b[1m)\u001b[22m at \u001b[1m/home/nathan/.julia/packages/JuliaInterpreter/Or807/src/interpret.jl:209\u001b[22m\n",
      " [3] \u001b[1mevaluate_call_recurse!\u001b[22m at \u001b[1m/home/nathan/.julia/packages/JuliaInterpreter/Or807/src/interpret.jl:206\u001b[22m [inlined]\n",
      " [4] \u001b[1meval_rhs\u001b[22m\u001b[1m(\u001b[22m::Any, ::JuliaInterpreter.Frame, ::Expr\u001b[1m)\u001b[22m at \u001b[1m/home/nathan/.julia/packages/JuliaInterpreter/Or807/src/interpret.jl:381\u001b[22m\n",
      " [5] \u001b[1mstep_expr!\u001b[22m\u001b[1m(\u001b[22m::Any, ::JuliaInterpreter.Frame, ::Any, ::Bool\u001b[1m)\u001b[22m at \u001b[1m/home/nathan/.julia/packages/JuliaInterpreter/Or807/src/interpret.jl:509\u001b[22m\n",
      " [6] \u001b[1msignature\u001b[22m\u001b[1m(\u001b[22m::Any, ::JuliaInterpreter.Frame, ::Any, ::Int64\u001b[1m)\u001b[22m at \u001b[1m/home/nathan/.julia/packages/LoweredCodeUtils/6EZqd/src/LoweredCodeUtils.jl:146\u001b[22m\n",
      " [7] \u001b[1m#methoddef!#3\u001b[22m\u001b[1m(\u001b[22m::Bool, ::Function, ::Any, ::Array{Any,1}, ::JuliaInterpreter.Frame, ::Any, ::Int64\u001b[1m)\u001b[22m at \u001b[1m/home/nathan/.julia/packages/LoweredCodeUtils/6EZqd/src/LoweredCodeUtils.jl:420\u001b[22m\n",
      " [8] \u001b[1m(::getfield(LoweredCodeUtils, Symbol(\"#kw##methoddef!\")))\u001b[22m\u001b[1m(\u001b[22m::NamedTuple{(:define,),Tuple{Bool}}, ::typeof(LoweredCodeUtils.methoddef!), ::Function, ::Array{Any,1}, ::JuliaInterpreter.Frame, ::Expr, ::Int64\u001b[1m)\u001b[22m at \u001b[1m./none:0\u001b[22m\n",
      " [9] \u001b[1m#methods_by_execution!#14\u001b[22m\u001b[1m(\u001b[22m::Bool, ::Bool, ::Function, ::Any, ::Revise.CodeTrackingMethodInfo, ::Dict{Module,Array{Expr,1}}, ::JuliaInterpreter.Frame\u001b[1m)\u001b[22m at \u001b[1m/home/nathan/.julia/packages/Revise/agmgx/src/lowered.jl:81\u001b[22m\n",
      " [10] \u001b[1m#methods_by_execution!\u001b[22m at \u001b[1m./none:0\u001b[22m [inlined]\n",
      " [11] \u001b[1m#methods_by_execution!#9\u001b[22m\u001b[1m(\u001b[22m::Base.Iterators.Pairs{Symbol,Bool,Tuple{Symbol},NamedTuple{(:define,),Tuple{Bool}}}, ::Function, ::Any, ::Revise.CodeTrackingMethodInfo, ::Dict{Module,Array{Expr,1}}, ::Module, ::Expr\u001b[1m)\u001b[22m at \u001b[1m/home/nathan/.julia/packages/Revise/agmgx/src/lowered.jl:49\u001b[22m\n",
      " [12] \u001b[1m#methods_by_execution!\u001b[22m at \u001b[1m./none:0\u001b[22m [inlined]\n",
      " [13] \u001b[1m#eval_with_signatures#59\u001b[22m at \u001b[1m/home/nathan/.julia/packages/Revise/agmgx/src/Revise.jl:344\u001b[22m [inlined]\n",
      " [14] \u001b[1m#eval_with_signatures\u001b[22m at \u001b[1m./none:0\u001b[22m [inlined]\n",
      " [15] \u001b[1m#instantiate_sigs!#60\u001b[22m\u001b[1m(\u001b[22m::Bool, ::Base.Iterators.Pairs{Union{},Union{},Tuple{},NamedTuple{(),Tuple{}}}, ::Function, ::OrderedCollections.OrderedDict{Module,OrderedCollections.OrderedDict{Revise.RelocatableExpr,Union{Nothing, Array{Any,1}}}}\u001b[1m)\u001b[22m at \u001b[1m/home/nathan/.julia/packages/Revise/agmgx/src/Revise.jl:352\u001b[22m\n",
      " [16] \u001b[1minstantiate_sigs!\u001b[22m at \u001b[1m/home/nathan/.julia/packages/Revise/agmgx/src/Revise.jl:349\u001b[22m [inlined]\n",
      " [17] \u001b[1mmaybe_parse_from_cache!\u001b[22m\u001b[1m(\u001b[22m::Revise.PkgData, ::String\u001b[1m)\u001b[22m at \u001b[1m/home/nathan/.julia/packages/Revise/agmgx/src/pkgs.jl:224\u001b[22m\n",
      " [18] \u001b[1m(::getfield(Revise, Symbol(\"##26#27\")){String})\u001b[22m\u001b[1m(\u001b[22m\u001b[1m)\u001b[22m at \u001b[1m/home/nathan/.julia/packages/Revise/agmgx/src/pkgs.jl:370\u001b[22m\n",
      " [19] \u001b[1mwith_logstate\u001b[22m\u001b[1m(\u001b[22m::getfield(Revise, Symbol(\"##26#27\")){String}, ::Base.CoreLogging.LogState\u001b[1m)\u001b[22m at \u001b[1m./logging.jl:395\u001b[22m\n",
      " [20] \u001b[1mwith_logger\u001b[22m at \u001b[1m./logging.jl:491\u001b[22m [inlined]\n",
      " [21] \u001b[1mwatch_manifest\u001b[22m\u001b[1m(\u001b[22m::String\u001b[1m)\u001b[22m at \u001b[1m/home/nathan/.julia/packages/Revise/agmgx/src/pkgs.jl:349\u001b[22m\n",
      " [22] \u001b[1m(::Revise.Rescheduler{typeof(Revise.watch_manifest),Tuple{String}})\u001b[22m\u001b[1m(\u001b[22m\u001b[1m)\u001b[22m at \u001b[1m/home/nathan/.julia/packages/Revise/agmgx/src/types.jl:235\u001b[22m\n",
      "while evaluating\n",
      "function t_commit(parent::Union{HDF5File, HDF5Group}, path::String, dtype::HDF5Datatype, lcpl::HDF5Properties)\n",
      "    #= /home/nathan/.julia/packages/HDF5/2gJEi/src/HDF5.jl:972 =#\n",
      "    h5p_set_char_encoding(lcpl.id, cset(typeof(path)))\n",
      "    #= /home/nathan/.julia/packages/HDF5/2gJEi/src/HDF5.jl:973 =#\n",
      "    h5t_commit((checkvalid(parent)).id, path, dtype.id, lcpl.id, H5P_DEFAULT, H5P_DEFAULT)\n",
      "    #= /home/nathan/.julia/packages/HDF5/2gJEi/src/HDF5.jl:974 =#\n",
      "    dtype.file = file(parent)\n",
      "    #= /home/nathan/.julia/packages/HDF5/2gJEi/src/HDF5.jl:975 =#\n",
      "    dtype\n",
      "end\n",
      "in module Main.HDF5\n",
      "\u001b[91mTypeError: in Union, in parameter, expected Type, got typeof(Main.HDF5.HDF5File)\u001b[39m\n",
      "Stacktrace:\n",
      " [1] \u001b[1mmaybe_evaluate_builtin\u001b[22m\u001b[1m(\u001b[22m::JuliaInterpreter.Frame, ::Expr, ::Bool\u001b[1m)\u001b[22m at \u001b[1m/home/nathan/.julia/packages/JuliaInterpreter/Or807/src/builtins.jl:86\u001b[22m\n",
      " [2] \u001b[1m#evaluate_call_recurse!#37\u001b[22m\u001b[1m(\u001b[22m::Bool, ::Function, ::Any, ::JuliaInterpreter.Frame, ::Expr\u001b[1m)\u001b[22m at \u001b[1m/home/nathan/.julia/packages/JuliaInterpreter/Or807/src/interpret.jl:209\u001b[22m\n",
      " [3] \u001b[1mevaluate_call_recurse!\u001b[22m at \u001b[1m/home/nathan/.julia/packages/JuliaInterpreter/Or807/src/interpret.jl:206\u001b[22m [inlined]\n",
      " [4] \u001b[1meval_rhs\u001b[22m\u001b[1m(\u001b[22m::Any, ::JuliaInterpreter.Frame, ::Expr\u001b[1m)\u001b[22m at \u001b[1m/home/nathan/.julia/packages/JuliaInterpreter/Or807/src/interpret.jl:381\u001b[22m\n",
      " [5] \u001b[1mstep_expr!\u001b[22m\u001b[1m(\u001b[22m::Any, ::JuliaInterpreter.Frame, ::Any, ::Bool\u001b[1m)\u001b[22m at \u001b[1m/home/nathan/.julia/packages/JuliaInterpreter/Or807/src/interpret.jl:509\u001b[22m\n",
      " [6] \u001b[1msignature\u001b[22m\u001b[1m(\u001b[22m::Any, ::JuliaInterpreter.Frame, ::Any, ::Int64\u001b[1m)\u001b[22m at \u001b[1m/home/nathan/.julia/packages/LoweredCodeUtils/6EZqd/src/LoweredCodeUtils.jl:146\u001b[22m\n",
      " [7] \u001b[1m#methoddef!#3\u001b[22m\u001b[1m(\u001b[22m::Bool, ::Function, ::Any, ::Array{Any,1}, ::JuliaInterpreter.Frame, ::Any, ::Int64\u001b[1m)\u001b[22m at \u001b[1m/home/nathan/.julia/packages/LoweredCodeUtils/6EZqd/src/LoweredCodeUtils.jl:420\u001b[22m\n",
      " [8] \u001b[1m(::getfield(LoweredCodeUtils, Symbol(\"#kw##methoddef!\")))\u001b[22m\u001b[1m(\u001b[22m::NamedTuple{(:define,),Tuple{Bool}}, ::typeof(LoweredCodeUtils.methoddef!), ::Function, ::Array{Any,1}, ::JuliaInterpreter.Frame, ::Expr, ::Int64\u001b[1m)\u001b[22m at \u001b[1m./none:0\u001b[22m\n",
      " [9] \u001b[1m#methods_by_execution!#14\u001b[22m\u001b[1m(\u001b[22m::Bool, ::Bool, ::Function, ::Any, ::Revise.CodeTrackingMethodInfo, ::Dict{Module,Array{Expr,1}}, ::JuliaInterpreter.Frame\u001b[1m)\u001b[22m at \u001b[1m/home/nathan/.julia/packages/Revise/agmgx/src/lowered.jl:81\u001b[22m\n",
      " [10] \u001b[1m#methods_by_execution!\u001b[22m at \u001b[1m./none:0\u001b[22m [inlined]\n",
      " [11] \u001b[1m#methods_by_execution!#9\u001b[22m\u001b[1m(\u001b[22m::Base.Iterators.Pairs{Symbol,Bool,Tuple{Symbol},NamedTuple{(:define,),Tuple{Bool}}}, ::Function, ::Any, ::Revise.CodeTrackingMethodInfo, ::Dict{Module,Array{Expr,1}}, ::Module, ::Expr\u001b[1m)\u001b[22m at \u001b[1m/home/nathan/.julia/packages/Revise/agmgx/src/lowered.jl:49\u001b[22m\n",
      " [12] \u001b[1m#methods_by_execution!\u001b[22m at \u001b[1m./none:0\u001b[22m [inlined]\n",
      " [13] \u001b[1m#eval_with_signatures#59\u001b[22m at \u001b[1m/home/nathan/.julia/packages/Revise/agmgx/src/Revise.jl:344\u001b[22m [inlined]\n",
      " [14] \u001b[1m#eval_with_signatures\u001b[22m at \u001b[1m./none:0\u001b[22m [inlined]\n",
      " [15] \u001b[1m#instantiate_sigs!#60\u001b[22m\u001b[1m(\u001b[22m::Bool, ::Base.Iterators.Pairs{Union{},Union{},Tuple{},NamedTuple{(),Tuple{}}}, ::Function, ::OrderedCollections.OrderedDict{Module,OrderedCollections.OrderedDict{Revise.RelocatableExpr,Union{Nothing, Array{Any,1}}}}\u001b[1m)\u001b[22m at \u001b[1m/home/nathan/.julia/packages/Revise/agmgx/src/Revise.jl:352\u001b[22m\n",
      " [16] \u001b[1minstantiate_sigs!\u001b[22m at \u001b[1m/home/nathan/.julia/packages/Revise/agmgx/src/Revise.jl:349\u001b[22m [inlined]\n",
      " [17] \u001b[1mmaybe_parse_from_cache!\u001b[22m\u001b[1m(\u001b[22m::Revise.PkgData, ::String\u001b[1m)\u001b[22m at \u001b[1m/home/nathan/.julia/packages/Revise/agmgx/src/pkgs.jl:224\u001b[22m\n",
      " [18] \u001b[1m(::getfield(Revise, Symbol(\"##26#27\")){String})\u001b[22m\u001b[1m(\u001b[22m\u001b[1m)\u001b[22m at \u001b[1m/home/nathan/.julia/packages/Revise/agmgx/src/pkgs.jl:370\u001b[22m\n",
      " [19] \u001b[1mwith_logstate\u001b[22m\u001b[1m(\u001b[22m::getfield(Revise, Symbol(\"##26#27\")){String}, ::Base.CoreLogging.LogState\u001b[1m)\u001b[22m at \u001b[1m./logging.jl:395\u001b[22m\n",
      " [20] \u001b[1mwith_logger\u001b[22m at \u001b[1m./logging.jl:491\u001b[22m [inlined]\n",
      " [21] \u001b[1mwatch_manifest\u001b[22m\u001b[1m(\u001b[22m::String\u001b[1m)\u001b[22m at \u001b[1m/home/nathan/.julia/packages/Revise/agmgx/src/pkgs.jl:349\u001b[22m\n",
      " [22] \u001b[1m(::Revise.Rescheduler{typeof(Revise.watch_manifest),Tuple{String}})\u001b[22m\u001b[1m(\u001b[22m\u001b[1m)\u001b[22m at \u001b[1m/home/nathan/.julia/packages/Revise/agmgx/src/types.jl:235\u001b[22m\n",
      "while evaluating\n",
      "t_commit(parent::Union{HDF5File, HDF5Group}, path::String, dtype::HDF5Datatype) = begin\n",
      "        #= /home/nathan/.julia/packages/HDF5/2gJEi/src/HDF5.jl:977 =#\n",
      "        t_commit(parent, path, dtype, p_create(H5P_LINK_CREATE))\n",
      "    end\n",
      "in module Main.HDF5\n",
      "\u001b[91mUndefVarError: HDF5Object not defined\u001b[39m\n",
      "Stacktrace:\n",
      " [1] \u001b[1mmacro expansion\u001b[22m at \u001b[1m/home/nathan/.julia/packages/JuliaInterpreter/Or807/src/interpret.jl:64\u001b[22m [inlined]\n",
      " [2] \u001b[1mgetargs\u001b[22m\u001b[1m(\u001b[22m::Array{Any,1}, ::JuliaInterpreter.Frame\u001b[1m)\u001b[22m at \u001b[1m/home/nathan/.julia/packages/JuliaInterpreter/Or807/src/builtins.jl:8\u001b[22m\n",
      " [3] \u001b[1mmaybe_evaluate_builtin\u001b[22m\u001b[1m(\u001b[22m::JuliaInterpreter.Frame, ::Expr, ::Bool\u001b[1m)\u001b[22m at \u001b[1m/home/nathan/.julia/packages/JuliaInterpreter/Or807/src/builtins.jl:86\u001b[22m\n",
      " [4] \u001b[1m#evaluate_call_recurse!#37\u001b[22m\u001b[1m(\u001b[22m::Bool, ::Function, ::Any, ::JuliaInterpreter.Frame, ::Expr\u001b[1m)\u001b[22m at \u001b[1m/home/nathan/.julia/packages/JuliaInterpreter/Or807/src/interpret.jl:209\u001b[22m\n",
      " [5] \u001b[1mevaluate_call_recurse!\u001b[22m at \u001b[1m/home/nathan/.julia/packages/JuliaInterpreter/Or807/src/interpret.jl:206\u001b[22m [inlined]\n",
      " [6] \u001b[1meval_rhs\u001b[22m\u001b[1m(\u001b[22m::Any, ::JuliaInterpreter.Frame, ::Expr\u001b[1m)\u001b[22m at \u001b[1m/home/nathan/.julia/packages/JuliaInterpreter/Or807/src/interpret.jl:381\u001b[22m\n",
      " [7] \u001b[1mstep_expr!\u001b[22m\u001b[1m(\u001b[22m::Any, ::JuliaInterpreter.Frame, ::Any, ::Bool\u001b[1m)\u001b[22m at \u001b[1m/home/nathan/.julia/packages/JuliaInterpreter/Or807/src/interpret.jl:509\u001b[22m\n",
      " [8] \u001b[1msignature\u001b[22m\u001b[1m(\u001b[22m::Any, ::JuliaInterpreter.Frame, ::Any, ::Int64\u001b[1m)\u001b[22m at \u001b[1m/home/nathan/.julia/packages/LoweredCodeUtils/6EZqd/src/LoweredCodeUtils.jl:146\u001b[22m\n",
      " [9] \u001b[1m#methoddef!#3\u001b[22m\u001b[1m(\u001b[22m::Bool, ::Function, ::Any, ::Array{Any,1}, ::JuliaInterpreter.Frame, ::Any, ::Int64\u001b[1m)\u001b[22m at \u001b[1m/home/nathan/.julia/packages/LoweredCodeUtils/6EZqd/src/LoweredCodeUtils.jl:420\u001b[22m\n",
      " [10] \u001b[1m(::getfield(LoweredCodeUtils, Symbol(\"#kw##methoddef!\")))\u001b[22m\u001b[1m(\u001b[22m::NamedTuple{(:define,),Tuple{Bool}}, ::typeof(LoweredCodeUtils.methoddef!), ::Function, ::Array{Any,1}, ::JuliaInterpreter.Frame, ::Expr, ::Int64\u001b[1m)\u001b[22m at \u001b[1m./none:0\u001b[22m\n"
     ]
    },
    {
     "name": "stderr",
     "output_type": "stream",
     "text": [
      " [11] \u001b[1m#methods_by_execution!#14\u001b[22m\u001b[1m(\u001b[22m::Bool, ::Bool, ::Function, ::Any, ::Revise.CodeTrackingMethodInfo, ::Dict{Module,Array{Expr,1}}, ::JuliaInterpreter.Frame\u001b[1m)\u001b[22m at \u001b[1m/home/nathan/.julia/packages/Revise/agmgx/src/lowered.jl:81\u001b[22m\n",
      " [12] \u001b[1m#methods_by_execution!\u001b[22m at \u001b[1m./none:0\u001b[22m [inlined]\n",
      " [13] \u001b[1m#methods_by_execution!#9\u001b[22m\u001b[1m(\u001b[22m::Base.Iterators.Pairs{Symbol,Bool,Tuple{Symbol},NamedTuple{(:define,),Tuple{Bool}}}, ::Function, ::Any, ::Revise.CodeTrackingMethodInfo, ::Dict{Module,Array{Expr,1}}, ::Module, ::Expr\u001b[1m)\u001b[22m at \u001b[1m/home/nathan/.julia/packages/Revise/agmgx/src/lowered.jl:49\u001b[22m\n",
      " [14] \u001b[1m#methods_by_execution!\u001b[22m at \u001b[1m./none:0\u001b[22m [inlined]\n",
      " [15] \u001b[1m#eval_with_signatures#59\u001b[22m at \u001b[1m/home/nathan/.julia/packages/Revise/agmgx/src/Revise.jl:344\u001b[22m [inlined]\n",
      " [16] \u001b[1m#eval_with_signatures\u001b[22m at \u001b[1m./none:0\u001b[22m [inlined]\n",
      " [17] \u001b[1m#instantiate_sigs!#60\u001b[22m\u001b[1m(\u001b[22m::Bool, ::Base.Iterators.Pairs{Union{},Union{},Tuple{},NamedTuple{(),Tuple{}}}, ::Function, ::OrderedCollections.OrderedDict{Module,OrderedCollections.OrderedDict{Revise.RelocatableExpr,Union{Nothing, Array{Any,1}}}}\u001b[1m)\u001b[22m at \u001b[1m/home/nathan/.julia/packages/Revise/agmgx/src/Revise.jl:352\u001b[22m\n",
      " [18] \u001b[1minstantiate_sigs!\u001b[22m at \u001b[1m/home/nathan/.julia/packages/Revise/agmgx/src/Revise.jl:349\u001b[22m [inlined]\n",
      " [19] \u001b[1mmaybe_parse_from_cache!\u001b[22m\u001b[1m(\u001b[22m::Revise.PkgData, ::String\u001b[1m)\u001b[22m at \u001b[1m/home/nathan/.julia/packages/Revise/agmgx/src/pkgs.jl:224\u001b[22m\n",
      " [20] \u001b[1m(::getfield(Revise, Symbol(\"##26#27\")){String})\u001b[22m\u001b[1m(\u001b[22m\u001b[1m)\u001b[22m at \u001b[1m/home/nathan/.julia/packages/Revise/agmgx/src/pkgs.jl:370\u001b[22m\n",
      " [21] \u001b[1mwith_logstate\u001b[22m\u001b[1m(\u001b[22m::getfield(Revise, Symbol(\"##26#27\")){String}, ::Base.CoreLogging.LogState\u001b[1m)\u001b[22m at \u001b[1m./logging.jl:395\u001b[22m\n",
      " [22] \u001b[1mwith_logger\u001b[22m at \u001b[1m./logging.jl:491\u001b[22m [inlined]\n",
      " [23] \u001b[1mwatch_manifest\u001b[22m\u001b[1m(\u001b[22m::String\u001b[1m)\u001b[22m at \u001b[1m/home/nathan/.julia/packages/Revise/agmgx/src/pkgs.jl:349\u001b[22m\n",
      " [24] \u001b[1m(::Revise.Rescheduler{typeof(Revise.watch_manifest),Tuple{String}})\u001b[22m\u001b[1m(\u001b[22m\u001b[1m)\u001b[22m at \u001b[1m/home/nathan/.julia/packages/Revise/agmgx/src/types.jl:235\u001b[22m\n",
      "while evaluating\n",
      "a_create(parent::Union{HDF5File, HDF5Object}, name::String, dtype::HDF5Datatype, dspace::HDF5Dataspace) = begin\n",
      "        #= /home/nathan/.julia/packages/HDF5/2gJEi/src/HDF5.jl:979 =#\n",
      "        HDF5Attribute(h5a_create((checkvalid(parent)).id, name, dtype.id, dspace.id), file(parent))\n",
      "    end\n",
      "in module Main.HDF5\n",
      "\u001b[91mUndefVarError: HDF5Object not defined\u001b[39m\n",
      "Stacktrace:\n",
      " [1] \u001b[1mmacro expansion\u001b[22m at \u001b[1m/home/nathan/.julia/packages/JuliaInterpreter/Or807/src/interpret.jl:64\u001b[22m [inlined]\n",
      " [2] \u001b[1mgetargs\u001b[22m\u001b[1m(\u001b[22m::Array{Any,1}, ::JuliaInterpreter.Frame\u001b[1m)\u001b[22m at \u001b[1m/home/nathan/.julia/packages/JuliaInterpreter/Or807/src/builtins.jl:8\u001b[22m\n",
      " [3] \u001b[1mmaybe_evaluate_builtin\u001b[22m\u001b[1m(\u001b[22m::JuliaInterpreter.Frame, ::Expr, ::Bool\u001b[1m)\u001b[22m at \u001b[1m/home/nathan/.julia/packages/JuliaInterpreter/Or807/src/builtins.jl:86\u001b[22m\n",
      " [4] \u001b[1m#evaluate_call_recurse!#37\u001b[22m\u001b[1m(\u001b[22m::Bool, ::Function, ::Any, ::JuliaInterpreter.Frame, ::Expr\u001b[1m)\u001b[22m at \u001b[1m/home/nathan/.julia/packages/JuliaInterpreter/Or807/src/interpret.jl:209\u001b[22m\n",
      " [5] \u001b[1mevaluate_call_recurse!\u001b[22m at \u001b[1m/home/nathan/.julia/packages/JuliaInterpreter/Or807/src/interpret.jl:206\u001b[22m [inlined]\n",
      " [6] \u001b[1meval_rhs\u001b[22m\u001b[1m(\u001b[22m::Any, ::JuliaInterpreter.Frame, ::Expr\u001b[1m)\u001b[22m at \u001b[1m/home/nathan/.julia/packages/JuliaInterpreter/Or807/src/interpret.jl:381\u001b[22m\n",
      " [7] \u001b[1mstep_expr!\u001b[22m\u001b[1m(\u001b[22m::Any, ::JuliaInterpreter.Frame, ::Any, ::Bool\u001b[1m)\u001b[22m at \u001b[1m/home/nathan/.julia/packages/JuliaInterpreter/Or807/src/interpret.jl:509\u001b[22m\n",
      " [8] \u001b[1msignature\u001b[22m\u001b[1m(\u001b[22m::Any, ::JuliaInterpreter.Frame, ::Any, ::Int64\u001b[1m)\u001b[22m at \u001b[1m/home/nathan/.julia/packages/LoweredCodeUtils/6EZqd/src/LoweredCodeUtils.jl:146\u001b[22m\n",
      " [9] \u001b[1m#methoddef!#3\u001b[22m\u001b[1m(\u001b[22m::Bool, ::Function, ::Any, ::Array{Any,1}, ::JuliaInterpreter.Frame, ::Any, ::Int64\u001b[1m)\u001b[22m at \u001b[1m/home/nathan/.julia/packages/LoweredCodeUtils/6EZqd/src/LoweredCodeUtils.jl:420\u001b[22m\n",
      " [10] \u001b[1m(::getfield(LoweredCodeUtils, Symbol(\"#kw##methoddef!\")))\u001b[22m\u001b[1m(\u001b[22m::NamedTuple{(:define,),Tuple{Bool}}, ::typeof(LoweredCodeUtils.methoddef!), ::Function, ::Array{Any,1}, ::JuliaInterpreter.Frame, ::Expr, ::Int64\u001b[1m)\u001b[22m at \u001b[1m./none:0\u001b[22m\n",
      " [11] \u001b[1m#methods_by_execution!#14\u001b[22m\u001b[1m(\u001b[22m::Bool, ::Bool, ::Function, ::Any, ::Revise.CodeTrackingMethodInfo, ::Dict{Module,Array{Expr,1}}, ::JuliaInterpreter.Frame\u001b[1m)\u001b[22m at \u001b[1m/home/nathan/.julia/packages/Revise/agmgx/src/lowered.jl:81\u001b[22m\n",
      " [12] \u001b[1m#methods_by_execution!\u001b[22m at \u001b[1m./none:0\u001b[22m [inlined]\n",
      " [13] \u001b[1m#methods_by_execution!#9\u001b[22m\u001b[1m(\u001b[22m::Base.Iterators.Pairs{Symbol,Bool,Tuple{Symbol},NamedTuple{(:define,),Tuple{Bool}}}, ::Function, ::Any, ::Revise.CodeTrackingMethodInfo, ::Dict{Module,Array{Expr,1}}, ::Module, ::Expr\u001b[1m)\u001b[22m at \u001b[1m/home/nathan/.julia/packages/Revise/agmgx/src/lowered.jl:49\u001b[22m\n",
      " [14] \u001b[1m#methods_by_execution!\u001b[22m at \u001b[1m./none:0\u001b[22m [inlined]\n",
      " [15] \u001b[1m#eval_with_signatures#59\u001b[22m at \u001b[1m/home/nathan/.julia/packages/Revise/agmgx/src/Revise.jl:344\u001b[22m [inlined]\n",
      " [16] \u001b[1m#eval_with_signatures\u001b[22m at \u001b[1m./none:0\u001b[22m [inlined]\n",
      " [17] \u001b[1m#instantiate_sigs!#60\u001b[22m\u001b[1m(\u001b[22m::Bool, ::Base.Iterators.Pairs{Union{},Union{},Tuple{},NamedTuple{(),Tuple{}}}, ::Function, ::OrderedCollections.OrderedDict{Module,OrderedCollections.OrderedDict{Revise.RelocatableExpr,Union{Nothing, Array{Any,1}}}}\u001b[1m)\u001b[22m at \u001b[1m/home/nathan/.julia/packages/Revise/agmgx/src/Revise.jl:352\u001b[22m\n",
      " [18] \u001b[1minstantiate_sigs!\u001b[22m at \u001b[1m/home/nathan/.julia/packages/Revise/agmgx/src/Revise.jl:349\u001b[22m [inlined]\n",
      " [19] \u001b[1mmaybe_parse_from_cache!\u001b[22m\u001b[1m(\u001b[22m::Revise.PkgData, ::String\u001b[1m)\u001b[22m at \u001b[1m/home/nathan/.julia/packages/Revise/agmgx/src/pkgs.jl:224\u001b[22m\n",
      " [20] \u001b[1m(::getfield(Revise, Symbol(\"##26#27\")){String})\u001b[22m\u001b[1m(\u001b[22m\u001b[1m)\u001b[22m at \u001b[1m/home/nathan/.julia/packages/Revise/agmgx/src/pkgs.jl:370\u001b[22m\n",
      " [21] \u001b[1mwith_logstate\u001b[22m\u001b[1m(\u001b[22m::getfield(Revise, Symbol(\"##26#27\")){String}, ::Base.CoreLogging.LogState\u001b[1m)\u001b[22m at \u001b[1m./logging.jl:395\u001b[22m\n",
      " [22] \u001b[1mwith_logger\u001b[22m at \u001b[1m./logging.jl:491\u001b[22m [inlined]\n",
      " [23] \u001b[1mwatch_manifest\u001b[22m\u001b[1m(\u001b[22m::String\u001b[1m)\u001b[22m at \u001b[1m/home/nathan/.julia/packages/Revise/agmgx/src/pkgs.jl:349\u001b[22m\n",
      " [24] \u001b[1m(::Revise.Rescheduler{typeof(Revise.watch_manifest),Tuple{String}})\u001b[22m\u001b[1m(\u001b[22m\u001b[1m)\u001b[22m at \u001b[1m/home/nathan/.julia/packages/Revise/agmgx/src/types.jl:235\u001b[22m\n",
      "while evaluating\n",
      "a_delete(parent::Union{HDF5File, HDF5Object}, path::String) = begin\n",
      "        #= /home/nathan/.julia/packages/HDF5/2gJEi/src/HDF5.jl:994 =#\n",
      "        h5a_delete((checkvalid(parent)).id, path)\n",
      "    end\n",
      "in module Main.HDF5\n",
      "\u001b[91mTypeError: in Union, in parameter, expected Type, got typeof(Main.HDF5.HDF5File)\u001b[39m\n",
      "Stacktrace:\n",
      " [1] \u001b[1mmaybe_evaluate_builtin\u001b[22m\u001b[1m(\u001b[22m::JuliaInterpreter.Frame, ::Expr, ::Bool\u001b[1m)\u001b[22m at \u001b[1m/home/nathan/.julia/packages/JuliaInterpreter/Or807/src/builtins.jl:86\u001b[22m\n",
      " [2] \u001b[1m#evaluate_call_recurse!#37\u001b[22m\u001b[1m(\u001b[22m::Bool, ::Function, ::Any, ::JuliaInterpreter.Frame, ::Expr\u001b[1m)\u001b[22m at \u001b[1m/home/nathan/.julia/packages/JuliaInterpreter/Or807/src/interpret.jl:209\u001b[22m\n",
      " [3] \u001b[1mevaluate_call_recurse!\u001b[22m at \u001b[1m/home/nathan/.julia/packages/JuliaInterpreter/Or807/src/interpret.jl:206\u001b[22m [inlined]\n",
      " [4] \u001b[1meval_rhs\u001b[22m\u001b[1m(\u001b[22m::Any, ::JuliaInterpreter.Frame, ::Expr\u001b[1m)\u001b[22m at \u001b[1m/home/nathan/.julia/packages/JuliaInterpreter/Or807/src/interpret.jl:381\u001b[22m\n",
      " [5] \u001b[1mstep_expr!\u001b[22m\u001b[1m(\u001b[22m::Any, ::JuliaInterpreter.Frame, ::Any, ::Bool\u001b[1m)\u001b[22m at \u001b[1m/home/nathan/.julia/packages/JuliaInterpreter/Or807/src/interpret.jl:509\u001b[22m\n",
      " [6] \u001b[1msignature\u001b[22m\u001b[1m(\u001b[22m::Any, ::JuliaInterpreter.Frame, ::Any, ::Int64\u001b[1m)\u001b[22m at \u001b[1m/home/nathan/.julia/packages/LoweredCodeUtils/6EZqd/src/LoweredCodeUtils.jl:146\u001b[22m\n",
      " [7] \u001b[1m#methoddef!#3\u001b[22m\u001b[1m(\u001b[22m::Bool, ::Function, ::Any, ::Array{Any,1}, ::JuliaInterpreter.Frame, ::Any, ::Int64\u001b[1m)\u001b[22m at \u001b[1m/home/nathan/.julia/packages/LoweredCodeUtils/6EZqd/src/LoweredCodeUtils.jl:420\u001b[22m\n",
      " [8] \u001b[1m(::getfield(LoweredCodeUtils, Symbol(\"#kw##methoddef!\")))\u001b[22m\u001b[1m(\u001b[22m::NamedTuple{(:define,),Tuple{Bool}}, ::typeof(LoweredCodeUtils.methoddef!), ::Function, ::Array{Any,1}, ::JuliaInterpreter.Frame, ::Expr, ::Int64\u001b[1m)\u001b[22m at \u001b[1m./none:0\u001b[22m\n",
      " [9] \u001b[1m#methods_by_execution!#14\u001b[22m\u001b[1m(\u001b[22m::Bool, ::Bool, ::Function, ::Any, ::Revise.CodeTrackingMethodInfo, ::Dict{Module,Array{Expr,1}}, ::JuliaInterpreter.Frame\u001b[1m)\u001b[22m at \u001b[1m/home/nathan/.julia/packages/Revise/agmgx/src/lowered.jl:81\u001b[22m\n",
      " [10] \u001b[1m#methods_by_execution!\u001b[22m at \u001b[1m./none:0\u001b[22m [inlined]\n",
      " [11] \u001b[1m#methods_by_execution!#9\u001b[22m\u001b[1m(\u001b[22m::Base.Iterators.Pairs{Symbol,Bool,Tuple{Symbol},NamedTuple{(:define,),Tuple{Bool}}}, ::Function, ::Any, ::Revise.CodeTrackingMethodInfo, ::Dict{Module,Array{Expr,1}}, ::Module, ::Expr\u001b[1m)\u001b[22m at \u001b[1m/home/nathan/.julia/packages/Revise/agmgx/src/lowered.jl:49\u001b[22m\n",
      " [12] \u001b[1m#methods_by_execution!\u001b[22m at \u001b[1m./none:0\u001b[22m [inlined]\n",
      " [13] \u001b[1m#eval_with_signatures#59\u001b[22m at \u001b[1m/home/nathan/.julia/packages/Revise/agmgx/src/Revise.jl:344\u001b[22m [inlined]\n",
      " [14] \u001b[1m#eval_with_signatures\u001b[22m at \u001b[1m./none:0\u001b[22m [inlined]\n",
      " [15] \u001b[1m#instantiate_sigs!#60\u001b[22m\u001b[1m(\u001b[22m::Bool, ::Base.Iterators.Pairs{Union{},Union{},Tuple{},NamedTuple{(),Tuple{}}}, ::Function, ::OrderedCollections.OrderedDict{Module,OrderedCollections.OrderedDict{Revise.RelocatableExpr,Union{Nothing, Array{Any,1}}}}\u001b[1m)\u001b[22m at \u001b[1m/home/nathan/.julia/packages/Revise/agmgx/src/Revise.jl:352\u001b[22m\n",
      " [16] \u001b[1minstantiate_sigs!\u001b[22m at \u001b[1m/home/nathan/.julia/packages/Revise/agmgx/src/Revise.jl:349\u001b[22m [inlined]\n",
      " [17] \u001b[1mmaybe_parse_from_cache!\u001b[22m\u001b[1m(\u001b[22m::Revise.PkgData, ::String\u001b[1m)\u001b[22m at \u001b[1m/home/nathan/.julia/packages/Revise/agmgx/src/pkgs.jl:224\u001b[22m\n",
      " [18] \u001b[1m(::getfield(Revise, Symbol(\"##26#27\")){String})\u001b[22m\u001b[1m(\u001b[22m\u001b[1m)\u001b[22m at \u001b[1m/home/nathan/.julia/packages/Revise/agmgx/src/pkgs.jl:370\u001b[22m\n",
      " [19] \u001b[1mwith_logstate\u001b[22m\u001b[1m(\u001b[22m::getfield(Revise, Symbol(\"##26#27\")){String}, ::Base.CoreLogging.LogState\u001b[1m)\u001b[22m at \u001b[1m./logging.jl:395\u001b[22m\n",
      " [20] \u001b[1mwith_logger\u001b[22m at \u001b[1m./logging.jl:491\u001b[22m [inlined]\n",
      " [21] \u001b[1mwatch_manifest\u001b[22m\u001b[1m(\u001b[22m::String\u001b[1m)\u001b[22m at \u001b[1m/home/nathan/.julia/packages/Revise/agmgx/src/pkgs.jl:349\u001b[22m\n",
      " [22] \u001b[1m(::Revise.Rescheduler{typeof(Revise.watch_manifest),Tuple{String}})\u001b[22m\u001b[1m(\u001b[22m\u001b[1m)\u001b[22m at \u001b[1m/home/nathan/.julia/packages/Revise/agmgx/src/types.jl:235\u001b[22m\n",
      "while evaluating\n",
      "o_delete(parent::Union{HDF5File, HDF5Group}, path::String, lapl::HDF5Properties) = begin\n",
      "        #= /home/nathan/.julia/packages/HDF5/2gJEi/src/HDF5.jl:995 =#\n",
      "        h5l_delete((checkvalid(parent)).id, path, lapl.id)\n",
      "    end\n",
      "in module Main.HDF5\n",
      "\u001b[91mTypeError: in Union, in parameter, expected Type, got typeof(Main.HDF5.HDF5File)\u001b[39m\n",
      "Stacktrace:\n",
      " [1] \u001b[1mmaybe_evaluate_builtin\u001b[22m\u001b[1m(\u001b[22m::JuliaInterpreter.Frame, ::Expr, ::Bool\u001b[1m)\u001b[22m at \u001b[1m/home/nathan/.julia/packages/JuliaInterpreter/Or807/src/builtins.jl:86\u001b[22m\n",
      " [2] \u001b[1m#evaluate_call_recurse!#37\u001b[22m\u001b[1m(\u001b[22m::Bool, ::Function, ::Any, ::JuliaInterpreter.Frame, ::Expr\u001b[1m)\u001b[22m at \u001b[1m/home/nathan/.julia/packages/JuliaInterpreter/Or807/src/interpret.jl:209\u001b[22m\n",
      " [3] \u001b[1mevaluate_call_recurse!\u001b[22m at \u001b[1m/home/nathan/.julia/packages/JuliaInterpreter/Or807/src/interpret.jl:206\u001b[22m [inlined]\n",
      " [4] \u001b[1meval_rhs\u001b[22m\u001b[1m(\u001b[22m::Any, ::JuliaInterpreter.Frame, ::Expr\u001b[1m)\u001b[22m at \u001b[1m/home/nathan/.julia/packages/JuliaInterpreter/Or807/src/interpret.jl:381\u001b[22m\n",
      " [5] \u001b[1mstep_expr!\u001b[22m\u001b[1m(\u001b[22m::Any, ::JuliaInterpreter.Frame, ::Any, ::Bool\u001b[1m)\u001b[22m at \u001b[1m/home/nathan/.julia/packages/JuliaInterpreter/Or807/src/interpret.jl:509\u001b[22m\n",
      " [6] \u001b[1msignature\u001b[22m\u001b[1m(\u001b[22m::Any, ::JuliaInterpreter.Frame, ::Any, ::Int64\u001b[1m)\u001b[22m at \u001b[1m/home/nathan/.julia/packages/LoweredCodeUtils/6EZqd/src/LoweredCodeUtils.jl:146\u001b[22m\n",
      " [7] \u001b[1m#methoddef!#3\u001b[22m\u001b[1m(\u001b[22m::Bool, ::Function, ::Any, ::Array{Any,1}, ::JuliaInterpreter.Frame, ::Any, ::Int64\u001b[1m)\u001b[22m at \u001b[1m/home/nathan/.julia/packages/LoweredCodeUtils/6EZqd/src/LoweredCodeUtils.jl:420\u001b[22m\n",
      " [8] \u001b[1m(::getfield(LoweredCodeUtils, Symbol(\"#kw##methoddef!\")))\u001b[22m\u001b[1m(\u001b[22m::NamedTuple{(:define,),Tuple{Bool}}, ::typeof(LoweredCodeUtils.methoddef!), ::Function, ::Array{Any,1}, ::JuliaInterpreter.Frame, ::Expr, ::Int64\u001b[1m)\u001b[22m at \u001b[1m./none:0\u001b[22m\n",
      " [9] \u001b[1m#methods_by_execution!#14\u001b[22m\u001b[1m(\u001b[22m::Bool, ::Bool, ::Function, ::Any, ::Revise.CodeTrackingMethodInfo, ::Dict{Module,Array{Expr,1}}, ::JuliaInterpreter.Frame\u001b[1m)\u001b[22m at \u001b[1m/home/nathan/.julia/packages/Revise/agmgx/src/lowered.jl:81\u001b[22m\n"
     ]
    },
    {
     "name": "stderr",
     "output_type": "stream",
     "text": [
      " [10] \u001b[1m#methods_by_execution!\u001b[22m at \u001b[1m./none:0\u001b[22m [inlined]\n",
      " [11] \u001b[1m#methods_by_execution!#9\u001b[22m\u001b[1m(\u001b[22m::Base.Iterators.Pairs{Symbol,Bool,Tuple{Symbol},NamedTuple{(:define,),Tuple{Bool}}}, ::Function, ::Any, ::Revise.CodeTrackingMethodInfo, ::Dict{Module,Array{Expr,1}}, ::Module, ::Expr\u001b[1m)\u001b[22m at \u001b[1m/home/nathan/.julia/packages/Revise/agmgx/src/lowered.jl:49\u001b[22m\n",
      " [12] \u001b[1m#methods_by_execution!\u001b[22m at \u001b[1m./none:0\u001b[22m [inlined]\n",
      " [13] \u001b[1m#eval_with_signatures#59\u001b[22m at \u001b[1m/home/nathan/.julia/packages/Revise/agmgx/src/Revise.jl:344\u001b[22m [inlined]\n",
      " [14] \u001b[1m#eval_with_signatures\u001b[22m at \u001b[1m./none:0\u001b[22m [inlined]\n",
      " [15] \u001b[1m#instantiate_sigs!#60\u001b[22m\u001b[1m(\u001b[22m::Bool, ::Base.Iterators.Pairs{Union{},Union{},Tuple{},NamedTuple{(),Tuple{}}}, ::Function, ::OrderedCollections.OrderedDict{Module,OrderedCollections.OrderedDict{Revise.RelocatableExpr,Union{Nothing, Array{Any,1}}}}\u001b[1m)\u001b[22m at \u001b[1m/home/nathan/.julia/packages/Revise/agmgx/src/Revise.jl:352\u001b[22m\n",
      " [16] \u001b[1minstantiate_sigs!\u001b[22m at \u001b[1m/home/nathan/.julia/packages/Revise/agmgx/src/Revise.jl:349\u001b[22m [inlined]\n",
      " [17] \u001b[1mmaybe_parse_from_cache!\u001b[22m\u001b[1m(\u001b[22m::Revise.PkgData, ::String\u001b[1m)\u001b[22m at \u001b[1m/home/nathan/.julia/packages/Revise/agmgx/src/pkgs.jl:224\u001b[22m\n",
      " [18] \u001b[1m(::getfield(Revise, Symbol(\"##26#27\")){String})\u001b[22m\u001b[1m(\u001b[22m\u001b[1m)\u001b[22m at \u001b[1m/home/nathan/.julia/packages/Revise/agmgx/src/pkgs.jl:370\u001b[22m\n",
      " [19] \u001b[1mwith_logstate\u001b[22m\u001b[1m(\u001b[22m::getfield(Revise, Symbol(\"##26#27\")){String}, ::Base.CoreLogging.LogState\u001b[1m)\u001b[22m at \u001b[1m./logging.jl:395\u001b[22m\n",
      " [20] \u001b[1mwith_logger\u001b[22m at \u001b[1m./logging.jl:491\u001b[22m [inlined]\n",
      " [21] \u001b[1mwatch_manifest\u001b[22m\u001b[1m(\u001b[22m::String\u001b[1m)\u001b[22m at \u001b[1m/home/nathan/.julia/packages/Revise/agmgx/src/pkgs.jl:349\u001b[22m\n",
      " [22] \u001b[1m(::Revise.Rescheduler{typeof(Revise.watch_manifest),Tuple{String}})\u001b[22m\u001b[1m(\u001b[22m\u001b[1m)\u001b[22m at \u001b[1m/home/nathan/.julia/packages/Revise/agmgx/src/types.jl:235\u001b[22m\n",
      "while evaluating\n",
      "o_delete(parent::Union{HDF5File, HDF5Group}, path::String) = begin\n",
      "        #= /home/nathan/.julia/packages/HDF5/2gJEi/src/HDF5.jl:996 =#\n",
      "        h5l_delete((checkvalid(parent)).id, path, H5P_DEFAULT)\n",
      "    end\n",
      "in module Main.HDF5\n",
      "\u001b[91mUndefVarError: HDF5Object not defined\u001b[39m\n",
      "Stacktrace:\n",
      " [1] \u001b[1mmacro expansion\u001b[22m at \u001b[1m/home/nathan/.julia/packages/JuliaInterpreter/Or807/src/interpret.jl:64\u001b[22m [inlined]\n",
      " [2] \u001b[1mgetargs\u001b[22m\u001b[1m(\u001b[22m::Array{Any,1}, ::JuliaInterpreter.Frame\u001b[1m)\u001b[22m at \u001b[1m/home/nathan/.julia/packages/JuliaInterpreter/Or807/src/builtins.jl:8\u001b[22m\n",
      " [3] \u001b[1mmaybe_evaluate_builtin\u001b[22m\u001b[1m(\u001b[22m::JuliaInterpreter.Frame, ::Expr, ::Bool\u001b[1m)\u001b[22m at \u001b[1m/home/nathan/.julia/packages/JuliaInterpreter/Or807/src/builtins.jl:136\u001b[22m\n",
      " [4] \u001b[1m#evaluate_call_recurse!#37\u001b[22m\u001b[1m(\u001b[22m::Bool, ::Function, ::Any, ::JuliaInterpreter.Frame, ::Expr\u001b[1m)\u001b[22m at \u001b[1m/home/nathan/.julia/packages/JuliaInterpreter/Or807/src/interpret.jl:209\u001b[22m\n",
      " [5] \u001b[1mevaluate_call_recurse!\u001b[22m at \u001b[1m/home/nathan/.julia/packages/JuliaInterpreter/Or807/src/interpret.jl:206\u001b[22m [inlined]\n",
      " [6] \u001b[1meval_rhs\u001b[22m\u001b[1m(\u001b[22m::Any, ::JuliaInterpreter.Frame, ::Expr\u001b[1m)\u001b[22m at \u001b[1m/home/nathan/.julia/packages/JuliaInterpreter/Or807/src/interpret.jl:381\u001b[22m\n",
      " [7] \u001b[1mstep_expr!\u001b[22m\u001b[1m(\u001b[22m::Any, ::JuliaInterpreter.Frame, ::Any, ::Bool\u001b[1m)\u001b[22m at \u001b[1m/home/nathan/.julia/packages/JuliaInterpreter/Or807/src/interpret.jl:509\u001b[22m\n",
      " [8] \u001b[1msignature\u001b[22m\u001b[1m(\u001b[22m::Any, ::JuliaInterpreter.Frame, ::Any, ::Int64\u001b[1m)\u001b[22m at \u001b[1m/home/nathan/.julia/packages/LoweredCodeUtils/6EZqd/src/LoweredCodeUtils.jl:146\u001b[22m\n",
      " [9] \u001b[1m#methoddef!#3\u001b[22m\u001b[1m(\u001b[22m::Bool, ::Function, ::Any, ::Array{Any,1}, ::JuliaInterpreter.Frame, ::Any, ::Int64\u001b[1m)\u001b[22m at \u001b[1m/home/nathan/.julia/packages/LoweredCodeUtils/6EZqd/src/LoweredCodeUtils.jl:420\u001b[22m\n",
      " [10] \u001b[1m(::getfield(LoweredCodeUtils, Symbol(\"#kw##methoddef!\")))\u001b[22m\u001b[1m(\u001b[22m::NamedTuple{(:define,),Tuple{Bool}}, ::typeof(LoweredCodeUtils.methoddef!), ::Function, ::Array{Any,1}, ::JuliaInterpreter.Frame, ::Expr, ::Int64\u001b[1m)\u001b[22m at \u001b[1m./none:0\u001b[22m\n",
      " [11] \u001b[1m#methods_by_execution!#14\u001b[22m\u001b[1m(\u001b[22m::Bool, ::Bool, ::Function, ::Any, ::Revise.CodeTrackingMethodInfo, ::Dict{Module,Array{Expr,1}}, ::JuliaInterpreter.Frame\u001b[1m)\u001b[22m at \u001b[1m/home/nathan/.julia/packages/Revise/agmgx/src/lowered.jl:81\u001b[22m\n",
      " [12] \u001b[1m#methods_by_execution!\u001b[22m at \u001b[1m./none:0\u001b[22m [inlined]\n",
      " [13] \u001b[1m#methods_by_execution!#9\u001b[22m\u001b[1m(\u001b[22m::Base.Iterators.Pairs{Symbol,Bool,Tuple{Symbol},NamedTuple{(:define,),Tuple{Bool}}}, ::Function, ::Any, ::Revise.CodeTrackingMethodInfo, ::Dict{Module,Array{Expr,1}}, ::Module, ::Expr\u001b[1m)\u001b[22m at \u001b[1m/home/nathan/.julia/packages/Revise/agmgx/src/lowered.jl:49\u001b[22m\n",
      " [14] \u001b[1m#methods_by_execution!\u001b[22m at \u001b[1m./none:0\u001b[22m [inlined]\n",
      " [15] \u001b[1m#eval_with_signatures#59\u001b[22m at \u001b[1m/home/nathan/.julia/packages/Revise/agmgx/src/Revise.jl:344\u001b[22m [inlined]\n",
      " [16] \u001b[1m#eval_with_signatures\u001b[22m at \u001b[1m./none:0\u001b[22m [inlined]\n",
      " [17] \u001b[1m#instantiate_sigs!#60\u001b[22m\u001b[1m(\u001b[22m::Bool, ::Base.Iterators.Pairs{Union{},Union{},Tuple{},NamedTuple{(),Tuple{}}}, ::Function, ::OrderedCollections.OrderedDict{Module,OrderedCollections.OrderedDict{Revise.RelocatableExpr,Union{Nothing, Array{Any,1}}}}\u001b[1m)\u001b[22m at \u001b[1m/home/nathan/.julia/packages/Revise/agmgx/src/Revise.jl:352\u001b[22m\n",
      " [18] \u001b[1minstantiate_sigs!\u001b[22m at \u001b[1m/home/nathan/.julia/packages/Revise/agmgx/src/Revise.jl:349\u001b[22m [inlined]\n",
      " [19] \u001b[1mmaybe_parse_from_cache!\u001b[22m\u001b[1m(\u001b[22m::Revise.PkgData, ::String\u001b[1m)\u001b[22m at \u001b[1m/home/nathan/.julia/packages/Revise/agmgx/src/pkgs.jl:224\u001b[22m\n",
      " [20] \u001b[1m(::getfield(Revise, Symbol(\"##26#27\")){String})\u001b[22m\u001b[1m(\u001b[22m\u001b[1m)\u001b[22m at \u001b[1m/home/nathan/.julia/packages/Revise/agmgx/src/pkgs.jl:370\u001b[22m\n",
      " [21] \u001b[1mwith_logstate\u001b[22m\u001b[1m(\u001b[22m::getfield(Revise, Symbol(\"##26#27\")){String}, ::Base.CoreLogging.LogState\u001b[1m)\u001b[22m at \u001b[1m./logging.jl:395\u001b[22m\n",
      " [22] \u001b[1mwith_logger\u001b[22m at \u001b[1m./logging.jl:491\u001b[22m [inlined]\n",
      " [23] \u001b[1mwatch_manifest\u001b[22m\u001b[1m(\u001b[22m::String\u001b[1m)\u001b[22m at \u001b[1m/home/nathan/.julia/packages/Revise/agmgx/src/pkgs.jl:349\u001b[22m\n",
      " [24] \u001b[1m(::Revise.Rescheduler{typeof(Revise.watch_manifest),Tuple{String}})\u001b[22m\u001b[1m(\u001b[22m\u001b[1m)\u001b[22m at \u001b[1m/home/nathan/.julia/packages/Revise/agmgx/src/types.jl:235\u001b[22m\n",
      "while evaluating\n",
      "o_delete(obj::HDF5Object) = begin\n",
      "        #= /home/nathan/.julia/packages/HDF5/2gJEi/src/HDF5.jl:997 =#\n",
      "        o_delete(parent(obj), ascii((split(name(obj), \"/\"))[end]))\n",
      "    end\n",
      "in module Main.HDF5\n",
      "\u001b[91mTypeError: in Union, in parameter, expected Type, got typeof(Main.HDF5.HDF5File)\u001b[39m\n",
      "Stacktrace:\n",
      " [1] \u001b[1mmaybe_evaluate_builtin\u001b[22m\u001b[1m(\u001b[22m::JuliaInterpreter.Frame, ::Expr, ::Bool\u001b[1m)\u001b[22m at \u001b[1m/home/nathan/.julia/packages/JuliaInterpreter/Or807/src/builtins.jl:86\u001b[22m\n",
      " [2] \u001b[1m#evaluate_call_recurse!#37\u001b[22m\u001b[1m(\u001b[22m::Bool, ::Function, ::Any, ::JuliaInterpreter.Frame, ::Expr\u001b[1m)\u001b[22m at \u001b[1m/home/nathan/.julia/packages/JuliaInterpreter/Or807/src/interpret.jl:209\u001b[22m\n",
      " [3] \u001b[1mevaluate_call_recurse!\u001b[22m at \u001b[1m/home/nathan/.julia/packages/JuliaInterpreter/Or807/src/interpret.jl:206\u001b[22m [inlined]\n",
      " [4] \u001b[1meval_rhs\u001b[22m\u001b[1m(\u001b[22m::Any, ::JuliaInterpreter.Frame, ::Expr\u001b[1m)\u001b[22m at \u001b[1m/home/nathan/.julia/packages/JuliaInterpreter/Or807/src/interpret.jl:381\u001b[22m\n",
      " [5] \u001b[1mstep_expr!\u001b[22m\u001b[1m(\u001b[22m::Any, ::JuliaInterpreter.Frame, ::Any, ::Bool\u001b[1m)\u001b[22m at \u001b[1m/home/nathan/.julia/packages/JuliaInterpreter/Or807/src/interpret.jl:509\u001b[22m\n",
      " [6] \u001b[1msignature\u001b[22m\u001b[1m(\u001b[22m::Any, ::JuliaInterpreter.Frame, ::Any, ::Int64\u001b[1m)\u001b[22m at \u001b[1m/home/nathan/.julia/packages/LoweredCodeUtils/6EZqd/src/LoweredCodeUtils.jl:146\u001b[22m\n",
      " [7] \u001b[1m#methoddef!#3\u001b[22m\u001b[1m(\u001b[22m::Bool, ::Function, ::Any, ::Array{Any,1}, ::JuliaInterpreter.Frame, ::Any, ::Int64\u001b[1m)\u001b[22m at \u001b[1m/home/nathan/.julia/packages/LoweredCodeUtils/6EZqd/src/LoweredCodeUtils.jl:420\u001b[22m\n",
      " [8] \u001b[1m(::getfield(LoweredCodeUtils, Symbol(\"#kw##methoddef!\")))\u001b[22m\u001b[1m(\u001b[22m::NamedTuple{(:define,),Tuple{Bool}}, ::typeof(LoweredCodeUtils.methoddef!), ::Function, ::Array{Any,1}, ::JuliaInterpreter.Frame, ::Expr, ::Int64\u001b[1m)\u001b[22m at \u001b[1m./none:0\u001b[22m\n",
      " [9] \u001b[1m#methods_by_execution!#14\u001b[22m\u001b[1m(\u001b[22m::Bool, ::Bool, ::Function, ::Any, ::Revise.CodeTrackingMethodInfo, ::Dict{Module,Array{Expr,1}}, ::JuliaInterpreter.Frame\u001b[1m)\u001b[22m at \u001b[1m/home/nathan/.julia/packages/Revise/agmgx/src/lowered.jl:81\u001b[22m\n",
      " [10] \u001b[1m#methods_by_execution!\u001b[22m at \u001b[1m./none:0\u001b[22m [inlined]\n",
      " [11] \u001b[1m#methods_by_execution!#9\u001b[22m\u001b[1m(\u001b[22m::Base.Iterators.Pairs{Symbol,Bool,Tuple{Symbol},NamedTuple{(:define,),Tuple{Bool}}}, ::Function, ::Any, ::Revise.CodeTrackingMethodInfo, ::Dict{Module,Array{Expr,1}}, ::Module, ::Expr\u001b[1m)\u001b[22m at \u001b[1m/home/nathan/.julia/packages/Revise/agmgx/src/lowered.jl:49\u001b[22m\n",
      " [12] \u001b[1m#methods_by_execution!\u001b[22m at \u001b[1m./none:0\u001b[22m [inlined]\n",
      " [13] \u001b[1m#eval_with_signatures#59\u001b[22m at \u001b[1m/home/nathan/.julia/packages/Revise/agmgx/src/Revise.jl:344\u001b[22m [inlined]\n",
      " [14] \u001b[1m#eval_with_signatures\u001b[22m at \u001b[1m./none:0\u001b[22m [inlined]\n",
      " [15] \u001b[1m#instantiate_sigs!#60\u001b[22m\u001b[1m(\u001b[22m::Bool, ::Base.Iterators.Pairs{Union{},Union{},Tuple{},NamedTuple{(),Tuple{}}}, ::Function, ::OrderedCollections.OrderedDict{Module,OrderedCollections.OrderedDict{Revise.RelocatableExpr,Union{Nothing, Array{Any,1}}}}\u001b[1m)\u001b[22m at \u001b[1m/home/nathan/.julia/packages/Revise/agmgx/src/Revise.jl:352\u001b[22m\n",
      " [16] \u001b[1minstantiate_sigs!\u001b[22m at \u001b[1m/home/nathan/.julia/packages/Revise/agmgx/src/Revise.jl:349\u001b[22m [inlined]\n",
      " [17] \u001b[1mmaybe_parse_from_cache!\u001b[22m\u001b[1m(\u001b[22m::Revise.PkgData, ::String\u001b[1m)\u001b[22m at \u001b[1m/home/nathan/.julia/packages/Revise/agmgx/src/pkgs.jl:224\u001b[22m\n",
      " [18] \u001b[1m(::getfield(Revise, Symbol(\"##26#27\")){String})\u001b[22m\u001b[1m(\u001b[22m\u001b[1m)\u001b[22m at \u001b[1m/home/nathan/.julia/packages/Revise/agmgx/src/pkgs.jl:370\u001b[22m\n",
      " [19] \u001b[1mwith_logstate\u001b[22m\u001b[1m(\u001b[22m::getfield(Revise, Symbol(\"##26#27\")){String}, ::Base.CoreLogging.LogState\u001b[1m)\u001b[22m at \u001b[1m./logging.jl:395\u001b[22m\n",
      " [20] \u001b[1mwith_logger\u001b[22m at \u001b[1m./logging.jl:491\u001b[22m [inlined]\n",
      " [21] \u001b[1mwatch_manifest\u001b[22m\u001b[1m(\u001b[22m::String\u001b[1m)\u001b[22m at \u001b[1m/home/nathan/.julia/packages/Revise/agmgx/src/pkgs.jl:349\u001b[22m\n",
      " [22] \u001b[1m(::Revise.Rescheduler{typeof(Revise.watch_manifest),Tuple{String}})\u001b[22m\u001b[1m(\u001b[22m\u001b[1m)\u001b[22m at \u001b[1m/home/nathan/.julia/packages/Revise/agmgx/src/types.jl:235\u001b[22m\n",
      "while evaluating\n"
     ]
    },
    {
     "name": "stderr",
     "output_type": "stream",
     "text": [
      "o_copy(src_parent::Union{HDF5File, HDF5Group}, src_path::String, dst_parent::Union{HDF5File, HDF5Group}, dst_path::String) = begin\n",
      "        #= /home/nathan/.julia/packages/HDF5/2gJEi/src/HDF5.jl:1000 =#\n",
      "        h5o_copy((checkvalid(src_parent)).id, src_path, (checkvalid(dst_parent)).id, dst_path, H5P_DEFAULT, _link_properties(dst_path))\n",
      "    end\n",
      "in module Main.HDF5\n",
      "\u001b[91mTypeError: in Union, in parameter, expected Type, got typeof(Main.HDF5.HDF5File)\u001b[39m\n",
      "Stacktrace:\n",
      " [1] \u001b[1mmaybe_evaluate_builtin\u001b[22m\u001b[1m(\u001b[22m::JuliaInterpreter.Frame, ::Expr, ::Bool\u001b[1m)\u001b[22m at \u001b[1m/home/nathan/.julia/packages/JuliaInterpreter/Or807/src/builtins.jl:86\u001b[22m\n",
      " [2] \u001b[1m#evaluate_call_recurse!#37\u001b[22m\u001b[1m(\u001b[22m::Bool, ::Function, ::Any, ::JuliaInterpreter.Frame, ::Expr\u001b[1m)\u001b[22m at \u001b[1m/home/nathan/.julia/packages/JuliaInterpreter/Or807/src/interpret.jl:209\u001b[22m\n",
      " [3] \u001b[1mevaluate_call_recurse!\u001b[22m at \u001b[1m/home/nathan/.julia/packages/JuliaInterpreter/Or807/src/interpret.jl:206\u001b[22m [inlined]\n",
      " [4] \u001b[1meval_rhs\u001b[22m\u001b[1m(\u001b[22m::Any, ::JuliaInterpreter.Frame, ::Expr\u001b[1m)\u001b[22m at \u001b[1m/home/nathan/.julia/packages/JuliaInterpreter/Or807/src/interpret.jl:381\u001b[22m\n",
      " [5] \u001b[1mstep_expr!\u001b[22m\u001b[1m(\u001b[22m::Any, ::JuliaInterpreter.Frame, ::Any, ::Bool\u001b[1m)\u001b[22m at \u001b[1m/home/nathan/.julia/packages/JuliaInterpreter/Or807/src/interpret.jl:509\u001b[22m\n",
      " [6] \u001b[1msignature\u001b[22m\u001b[1m(\u001b[22m::Any, ::JuliaInterpreter.Frame, ::Any, ::Int64\u001b[1m)\u001b[22m at \u001b[1m/home/nathan/.julia/packages/LoweredCodeUtils/6EZqd/src/LoweredCodeUtils.jl:146\u001b[22m\n",
      " [7] \u001b[1m#methoddef!#3\u001b[22m\u001b[1m(\u001b[22m::Bool, ::Function, ::Any, ::Array{Any,1}, ::JuliaInterpreter.Frame, ::Any, ::Int64\u001b[1m)\u001b[22m at \u001b[1m/home/nathan/.julia/packages/LoweredCodeUtils/6EZqd/src/LoweredCodeUtils.jl:420\u001b[22m\n",
      " [8] \u001b[1m(::getfield(LoweredCodeUtils, Symbol(\"#kw##methoddef!\")))\u001b[22m\u001b[1m(\u001b[22m::NamedTuple{(:define,),Tuple{Bool}}, ::typeof(LoweredCodeUtils.methoddef!), ::Function, ::Array{Any,1}, ::JuliaInterpreter.Frame, ::Expr, ::Int64\u001b[1m)\u001b[22m at \u001b[1m./none:0\u001b[22m\n",
      " [9] \u001b[1m#methods_by_execution!#14\u001b[22m\u001b[1m(\u001b[22m::Bool, ::Bool, ::Function, ::Any, ::Revise.CodeTrackingMethodInfo, ::Dict{Module,Array{Expr,1}}, ::JuliaInterpreter.Frame\u001b[1m)\u001b[22m at \u001b[1m/home/nathan/.julia/packages/Revise/agmgx/src/lowered.jl:81\u001b[22m\n",
      " [10] \u001b[1m#methods_by_execution!\u001b[22m at \u001b[1m./none:0\u001b[22m [inlined]\n",
      " [11] \u001b[1m#methods_by_execution!#9\u001b[22m\u001b[1m(\u001b[22m::Base.Iterators.Pairs{Symbol,Bool,Tuple{Symbol},NamedTuple{(:define,),Tuple{Bool}}}, ::Function, ::Any, ::Revise.CodeTrackingMethodInfo, ::Dict{Module,Array{Expr,1}}, ::Module, ::Expr\u001b[1m)\u001b[22m at \u001b[1m/home/nathan/.julia/packages/Revise/agmgx/src/lowered.jl:49\u001b[22m\n",
      " [12] \u001b[1m#methods_by_execution!\u001b[22m at \u001b[1m./none:0\u001b[22m [inlined]\n",
      " [13] \u001b[1m#eval_with_signatures#59\u001b[22m at \u001b[1m/home/nathan/.julia/packages/Revise/agmgx/src/Revise.jl:344\u001b[22m [inlined]\n",
      " [14] \u001b[1m#eval_with_signatures\u001b[22m at \u001b[1m./none:0\u001b[22m [inlined]\n",
      " [15] \u001b[1m#instantiate_sigs!#60\u001b[22m\u001b[1m(\u001b[22m::Bool, ::Base.Iterators.Pairs{Union{},Union{},Tuple{},NamedTuple{(),Tuple{}}}, ::Function, ::OrderedCollections.OrderedDict{Module,OrderedCollections.OrderedDict{Revise.RelocatableExpr,Union{Nothing, Array{Any,1}}}}\u001b[1m)\u001b[22m at \u001b[1m/home/nathan/.julia/packages/Revise/agmgx/src/Revise.jl:352\u001b[22m\n",
      " [16] \u001b[1minstantiate_sigs!\u001b[22m at \u001b[1m/home/nathan/.julia/packages/Revise/agmgx/src/Revise.jl:349\u001b[22m [inlined]\n",
      " [17] \u001b[1mmaybe_parse_from_cache!\u001b[22m\u001b[1m(\u001b[22m::Revise.PkgData, ::String\u001b[1m)\u001b[22m at \u001b[1m/home/nathan/.julia/packages/Revise/agmgx/src/pkgs.jl:224\u001b[22m\n",
      " [18] \u001b[1m(::getfield(Revise, Symbol(\"##26#27\")){String})\u001b[22m\u001b[1m(\u001b[22m\u001b[1m)\u001b[22m at \u001b[1m/home/nathan/.julia/packages/Revise/agmgx/src/pkgs.jl:370\u001b[22m\n",
      " [19] \u001b[1mwith_logstate\u001b[22m\u001b[1m(\u001b[22m::getfield(Revise, Symbol(\"##26#27\")){String}, ::Base.CoreLogging.LogState\u001b[1m)\u001b[22m at \u001b[1m./logging.jl:395\u001b[22m\n",
      " [20] \u001b[1mwith_logger\u001b[22m at \u001b[1m./logging.jl:491\u001b[22m [inlined]\n",
      " [21] \u001b[1mwatch_manifest\u001b[22m\u001b[1m(\u001b[22m::String\u001b[1m)\u001b[22m at \u001b[1m/home/nathan/.julia/packages/Revise/agmgx/src/pkgs.jl:349\u001b[22m\n",
      " [22] \u001b[1m(::Revise.Rescheduler{typeof(Revise.watch_manifest),Tuple{String}})\u001b[22m\u001b[1m(\u001b[22m\u001b[1m)\u001b[22m at \u001b[1m/home/nathan/.julia/packages/Revise/agmgx/src/types.jl:235\u001b[22m\n",
      "while evaluating\n",
      "o_copy(src_obj::HDF5Object, dst_parent::Union{HDF5File, HDF5Group}, dst_path::String) = begin\n",
      "        #= /home/nathan/.julia/packages/HDF5/2gJEi/src/HDF5.jl:1001 =#\n",
      "        h5o_copy((checkvalid(src_obj)).id, \".\", (checkvalid(dst_parent)).id, dst_path, H5P_DEFAULT, _link_properties(dst_path))\n",
      "    end\n",
      "in module Main.HDF5\n",
      "\u001b[91mTypeError: in Union, in parameter, expected Type, got typeof(Main.HDF5.HDF5File)\u001b[39m\n",
      "Stacktrace:\n",
      " [1] \u001b[1mmaybe_evaluate_builtin\u001b[22m\u001b[1m(\u001b[22m::JuliaInterpreter.Frame, ::Expr, ::Bool\u001b[1m)\u001b[22m at \u001b[1m/home/nathan/.julia/packages/JuliaInterpreter/Or807/src/builtins.jl:86\u001b[22m\n",
      " [2] \u001b[1m#evaluate_call_recurse!#37\u001b[22m\u001b[1m(\u001b[22m::Bool, ::Function, ::Any, ::JuliaInterpreter.Frame, ::Expr\u001b[1m)\u001b[22m at \u001b[1m/home/nathan/.julia/packages/JuliaInterpreter/Or807/src/interpret.jl:209\u001b[22m\n",
      " [3] \u001b[1mevaluate_call_recurse!\u001b[22m at \u001b[1m/home/nathan/.julia/packages/JuliaInterpreter/Or807/src/interpret.jl:206\u001b[22m [inlined]\n",
      " [4] \u001b[1meval_rhs\u001b[22m\u001b[1m(\u001b[22m::Any, ::JuliaInterpreter.Frame, ::Expr\u001b[1m)\u001b[22m at \u001b[1m/home/nathan/.julia/packages/JuliaInterpreter/Or807/src/interpret.jl:381\u001b[22m\n",
      " [5] \u001b[1mstep_expr!\u001b[22m\u001b[1m(\u001b[22m::Any, ::JuliaInterpreter.Frame, ::Any, ::Bool\u001b[1m)\u001b[22m at \u001b[1m/home/nathan/.julia/packages/JuliaInterpreter/Or807/src/interpret.jl:509\u001b[22m\n",
      " [6] \u001b[1msignature\u001b[22m\u001b[1m(\u001b[22m::Any, ::JuliaInterpreter.Frame, ::Any, ::Int64\u001b[1m)\u001b[22m at \u001b[1m/home/nathan/.julia/packages/LoweredCodeUtils/6EZqd/src/LoweredCodeUtils.jl:146\u001b[22m\n",
      " [7] \u001b[1m#methoddef!#3\u001b[22m\u001b[1m(\u001b[22m::Bool, ::Function, ::Any, ::Array{Any,1}, ::JuliaInterpreter.Frame, ::Any, ::Int64\u001b[1m)\u001b[22m at \u001b[1m/home/nathan/.julia/packages/LoweredCodeUtils/6EZqd/src/LoweredCodeUtils.jl:420\u001b[22m\n",
      " [8] \u001b[1m(::getfield(LoweredCodeUtils, Symbol(\"#kw##methoddef!\")))\u001b[22m\u001b[1m(\u001b[22m::NamedTuple{(:define,),Tuple{Bool}}, ::typeof(LoweredCodeUtils.methoddef!), ::Function, ::Array{Any,1}, ::JuliaInterpreter.Frame, ::Expr, ::Int64\u001b[1m)\u001b[22m at \u001b[1m./none:0\u001b[22m\n",
      " [9] \u001b[1m#methods_by_execution!#14\u001b[22m\u001b[1m(\u001b[22m::Bool, ::Bool, ::Function, ::Any, ::Revise.CodeTrackingMethodInfo, ::Dict{Module,Array{Expr,1}}, ::JuliaInterpreter.Frame\u001b[1m)\u001b[22m at \u001b[1m/home/nathan/.julia/packages/Revise/agmgx/src/lowered.jl:81\u001b[22m\n",
      " [10] \u001b[1m#methods_by_execution!\u001b[22m at \u001b[1m./none:0\u001b[22m [inlined]\n",
      " [11] \u001b[1m#methods_by_execution!#9\u001b[22m\u001b[1m(\u001b[22m::Base.Iterators.Pairs{Symbol,Bool,Tuple{Symbol},NamedTuple{(:define,),Tuple{Bool}}}, ::Function, ::Any, ::Revise.CodeTrackingMethodInfo, ::Dict{Module,Array{Expr,1}}, ::Module, ::Expr\u001b[1m)\u001b[22m at \u001b[1m/home/nathan/.julia/packages/Revise/agmgx/src/lowered.jl:49\u001b[22m\n",
      " [12] \u001b[1m#methods_by_execution!\u001b[22m at \u001b[1m./none:0\u001b[22m [inlined]\n",
      " [13] \u001b[1m#eval_with_signatures#59\u001b[22m at \u001b[1m/home/nathan/.julia/packages/Revise/agmgx/src/Revise.jl:344\u001b[22m [inlined]\n",
      " [14] \u001b[1m#eval_with_signatures\u001b[22m at \u001b[1m./none:0\u001b[22m [inlined]\n",
      " [15] \u001b[1m#instantiate_sigs!#60\u001b[22m\u001b[1m(\u001b[22m::Bool, ::Base.Iterators.Pairs{Union{},Union{},Tuple{},NamedTuple{(),Tuple{}}}, ::Function, ::OrderedCollections.OrderedDict{Module,OrderedCollections.OrderedDict{Revise.RelocatableExpr,Union{Nothing, Array{Any,1}}}}\u001b[1m)\u001b[22m at \u001b[1m/home/nathan/.julia/packages/Revise/agmgx/src/Revise.jl:352\u001b[22m\n",
      " [16] \u001b[1minstantiate_sigs!\u001b[22m at \u001b[1m/home/nathan/.julia/packages/Revise/agmgx/src/Revise.jl:349\u001b[22m [inlined]\n",
      " [17] \u001b[1mmaybe_parse_from_cache!\u001b[22m\u001b[1m(\u001b[22m::Revise.PkgData, ::String\u001b[1m)\u001b[22m at \u001b[1m/home/nathan/.julia/packages/Revise/agmgx/src/pkgs.jl:224\u001b[22m\n",
      " [18] \u001b[1m(::getfield(Revise, Symbol(\"##26#27\")){String})\u001b[22m\u001b[1m(\u001b[22m\u001b[1m)\u001b[22m at \u001b[1m/home/nathan/.julia/packages/Revise/agmgx/src/pkgs.jl:370\u001b[22m\n",
      " [19] \u001b[1mwith_logstate\u001b[22m\u001b[1m(\u001b[22m::getfield(Revise, Symbol(\"##26#27\")){String}, ::Base.CoreLogging.LogState\u001b[1m)\u001b[22m at \u001b[1m./logging.jl:395\u001b[22m\n",
      " [20] \u001b[1mwith_logger\u001b[22m at \u001b[1m./logging.jl:491\u001b[22m [inlined]\n",
      " [21] \u001b[1mwatch_manifest\u001b[22m\u001b[1m(\u001b[22m::String\u001b[1m)\u001b[22m at \u001b[1m/home/nathan/.julia/packages/Revise/agmgx/src/pkgs.jl:349\u001b[22m\n",
      " [22] \u001b[1m(::Revise.Rescheduler{typeof(Revise.watch_manifest),Tuple{String}})\u001b[22m\u001b[1m(\u001b[22m\u001b[1m)\u001b[22m at \u001b[1m/home/nathan/.julia/packages/Revise/agmgx/src/types.jl:235\u001b[22m\n",
      "while evaluating\n",
      "setindex!(parent::Union{HDF5File, HDF5Group}, val, path::String) = begin\n",
      "        #= /home/nathan/.julia/packages/HDF5/2gJEi/src/HDF5.jl:1005 =#\n",
      "        write(parent, path, val)\n",
      "    end\n",
      "in module Main.HDF5\n",
      "\u001b[91mTypeError: in Union, in parameter, expected Type, got typeof(Main.HDF5.HDF5File)\u001b[39m\n",
      "Stacktrace:\n",
      " [1] \u001b[1mmaybe_evaluate_builtin\u001b[22m\u001b[1m(\u001b[22m::JuliaInterpreter.Frame, ::Expr, ::Bool\u001b[1m)\u001b[22m at \u001b[1m/home/nathan/.julia/packages/JuliaInterpreter/Or807/src/builtins.jl:86\u001b[22m\n",
      " [2] \u001b[1m#evaluate_call_recurse!#37\u001b[22m\u001b[1m(\u001b[22m::Bool, ::Function, ::Any, ::JuliaInterpreter.Frame, ::Expr\u001b[1m)\u001b[22m at \u001b[1m/home/nathan/.julia/packages/JuliaInterpreter/Or807/src/interpret.jl:209\u001b[22m\n",
      " [3] \u001b[1mevaluate_call_recurse!\u001b[22m at \u001b[1m/home/nathan/.julia/packages/JuliaInterpreter/Or807/src/interpret.jl:206\u001b[22m [inlined]\n",
      " [4] \u001b[1meval_rhs\u001b[22m\u001b[1m(\u001b[22m::Any, ::JuliaInterpreter.Frame, ::Expr\u001b[1m)\u001b[22m at \u001b[1m/home/nathan/.julia/packages/JuliaInterpreter/Or807/src/interpret.jl:381\u001b[22m\n",
      " [5] \u001b[1mstep_expr!\u001b[22m\u001b[1m(\u001b[22m::Any, ::JuliaInterpreter.Frame, ::Any, ::Bool\u001b[1m)\u001b[22m at \u001b[1m/home/nathan/.julia/packages/JuliaInterpreter/Or807/src/interpret.jl:509\u001b[22m\n",
      " [6] \u001b[1msignature\u001b[22m\u001b[1m(\u001b[22m::Any, ::JuliaInterpreter.Frame, ::Any, ::Int64\u001b[1m)\u001b[22m at \u001b[1m/home/nathan/.julia/packages/LoweredCodeUtils/6EZqd/src/LoweredCodeUtils.jl:146\u001b[22m\n",
      " [7] \u001b[1m#methoddef!#3\u001b[22m\u001b[1m(\u001b[22m::Bool, ::Function, ::Any, ::Array{Any,1}, ::JuliaInterpreter.Frame, ::Any, ::Int64\u001b[1m)\u001b[22m at \u001b[1m/home/nathan/.julia/packages/LoweredCodeUtils/6EZqd/src/LoweredCodeUtils.jl:420\u001b[22m\n",
      " [8] \u001b[1m(::getfield(LoweredCodeUtils, Symbol(\"#kw##methoddef!\")))\u001b[22m\u001b[1m(\u001b[22m::NamedTuple{(:define,),Tuple{Bool}}, ::typeof(LoweredCodeUtils.methoddef!), ::Function, ::Array{Any,1}, ::JuliaInterpreter.Frame, ::Expr, ::Int64\u001b[1m)\u001b[22m at \u001b[1m./none:0\u001b[22m\n"
     ]
    },
    {
     "name": "stderr",
     "output_type": "stream",
     "text": [
      " [9] \u001b[1m#methods_by_execution!#14\u001b[22m\u001b[1m(\u001b[22m::Bool, ::Bool, ::Function, ::Any, ::Revise.CodeTrackingMethodInfo, ::Dict{Module,Array{Expr,1}}, ::JuliaInterpreter.Frame\u001b[1m)\u001b[22m at \u001b[1m/home/nathan/.julia/packages/Revise/agmgx/src/lowered.jl:81\u001b[22m\n",
      " [10] \u001b[1m#methods_by_execution!\u001b[22m at \u001b[1m./none:0\u001b[22m [inlined]\n",
      " [11] \u001b[1m#methods_by_execution!#9\u001b[22m\u001b[1m(\u001b[22m::Base.Iterators.Pairs{Symbol,Bool,Tuple{Symbol},NamedTuple{(:define,),Tuple{Bool}}}, ::Function, ::Any, ::Revise.CodeTrackingMethodInfo, ::Dict{Module,Array{Expr,1}}, ::Module, ::Expr\u001b[1m)\u001b[22m at \u001b[1m/home/nathan/.julia/packages/Revise/agmgx/src/lowered.jl:49\u001b[22m\n",
      " [12] \u001b[1m#methods_by_execution!\u001b[22m at \u001b[1m./none:0\u001b[22m [inlined]\n",
      " [13] \u001b[1m#eval_with_signatures#59\u001b[22m at \u001b[1m/home/nathan/.julia/packages/Revise/agmgx/src/Revise.jl:344\u001b[22m [inlined]\n",
      " [14] \u001b[1m#eval_with_signatures\u001b[22m at \u001b[1m./none:0\u001b[22m [inlined]\n",
      " [15] \u001b[1m#instantiate_sigs!#60\u001b[22m\u001b[1m(\u001b[22m::Bool, ::Base.Iterators.Pairs{Union{},Union{},Tuple{},NamedTuple{(),Tuple{}}}, ::Function, ::OrderedCollections.OrderedDict{Module,OrderedCollections.OrderedDict{Revise.RelocatableExpr,Union{Nothing, Array{Any,1}}}}\u001b[1m)\u001b[22m at \u001b[1m/home/nathan/.julia/packages/Revise/agmgx/src/Revise.jl:352\u001b[22m\n",
      " [16] \u001b[1minstantiate_sigs!\u001b[22m at \u001b[1m/home/nathan/.julia/packages/Revise/agmgx/src/Revise.jl:349\u001b[22m [inlined]\n",
      " [17] \u001b[1mmaybe_parse_from_cache!\u001b[22m\u001b[1m(\u001b[22m::Revise.PkgData, ::String\u001b[1m)\u001b[22m at \u001b[1m/home/nathan/.julia/packages/Revise/agmgx/src/pkgs.jl:224\u001b[22m\n",
      " [18] \u001b[1m(::getfield(Revise, Symbol(\"##26#27\")){String})\u001b[22m\u001b[1m(\u001b[22m\u001b[1m)\u001b[22m at \u001b[1m/home/nathan/.julia/packages/Revise/agmgx/src/pkgs.jl:370\u001b[22m\n",
      " [19] \u001b[1mwith_logstate\u001b[22m\u001b[1m(\u001b[22m::getfield(Revise, Symbol(\"##26#27\")){String}, ::Base.CoreLogging.LogState\u001b[1m)\u001b[22m at \u001b[1m./logging.jl:395\u001b[22m\n",
      " [20] \u001b[1mwith_logger\u001b[22m at \u001b[1m./logging.jl:491\u001b[22m [inlined]\n",
      " [21] \u001b[1mwatch_manifest\u001b[22m\u001b[1m(\u001b[22m::String\u001b[1m)\u001b[22m at \u001b[1m/home/nathan/.julia/packages/Revise/agmgx/src/pkgs.jl:349\u001b[22m\n",
      " [22] \u001b[1m(::Revise.Rescheduler{typeof(Revise.watch_manifest),Tuple{String}})\u001b[22m\u001b[1m(\u001b[22m\u001b[1m)\u001b[22m at \u001b[1m/home/nathan/.julia/packages/Revise/agmgx/src/types.jl:235\u001b[22m\n",
      "while evaluating\n",
      "function setindex!(parent::Union{HDF5File, HDF5Group}, val, path::String, prop1::String, val1, pv...)\n",
      "    #= /home/nathan/.julia/packages/HDF5/2gJEi/src/HDF5.jl:1016 =#\n",
      "    t = (prop1, val1, pv...)\n",
      "    #= /home/nathan/.julia/packages/HDF5/2gJEi/src/HDF5.jl:1017 =#\n",
      "    checkprops(t...)\n",
      "    #= /home/nathan/.julia/packages/HDF5/2gJEi/src/HDF5.jl:1018 =#\n",
      "    dcpl = p_create(H5P_DATASET_CREATE)\n",
      "    #= /home/nathan/.julia/packages/HDF5/2gJEi/src/HDF5.jl:1019 =#\n",
      "    dxpl = p_create(H5P_DATASET_XFER, false, t...)\n",
      "    #= /home/nathan/.julia/packages/HDF5/2gJEi/src/HDF5.jl:1020 =#\n",
      "    dapl = p_create(H5P_DATASET_ACCESS, false, t...)\n",
      "    #= /home/nathan/.julia/packages/HDF5/2gJEi/src/HDF5.jl:1022 =#\n",
      "    need_chunks = any((t[i] in chunked_props for i = 1:2:length(t)))\n",
      "    #= /home/nathan/.julia/packages/HDF5/2gJEi/src/HDF5.jl:1023 =#\n",
      "    have_chunks = any((t[i] == \"chunk\" for i = 1:2:length(t)))\n",
      "    #= /home/nathan/.julia/packages/HDF5/2gJEi/src/HDF5.jl:1024 =#\n",
      "    chunk = if need_chunks\n",
      "            heuristic_chunk(val)\n",
      "        else\n",
      "            Int[]\n",
      "        end\n",
      "    #= /home/nathan/.julia/packages/HDF5/2gJEi/src/HDF5.jl:1025 =#\n",
      "    discard_chunks = need_chunks && isempty(chunk)\n",
      "    #= /home/nathan/.julia/packages/HDF5/2gJEi/src/HDF5.jl:1026 =#\n",
      "    if need_chunks && (!have_chunks && !discard_chunks)\n",
      "        #= /home/nathan/.julia/packages/HDF5/2gJEi/src/HDF5.jl:1027 =#\n",
      "        dcpl[\"chunk\"] = chunk\n",
      "    end\n",
      "    #= /home/nathan/.julia/packages/HDF5/2gJEi/src/HDF5.jl:1031 =#\n",
      "    for i = 1:2:length(t)\n",
      "        #= /home/nathan/.julia/packages/HDF5/2gJEi/src/HDF5.jl:1032 =#\n",
      "        if !(t[i] in chunked_props && discard_chunks)\n",
      "            #= /home/nathan/.julia/packages/HDF5/2gJEi/src/HDF5.jl:1033 =#\n",
      "            dcpl[t[i]] = t[i + 1]\n",
      "        end\n",
      "    end\n",
      "    #= /home/nathan/.julia/packages/HDF5/2gJEi/src/HDF5.jl:1036 =#\n",
      "    write(parent, path, val, p_create(H5P_LINK_CREATE), dcpl, dapl, dxpl)\n",
      "end\n",
      "in module Main.HDF5\n",
      "\u001b[91mTypeError: in Union, in parameter, expected Type, got typeof(Main.HDF5.HDF5File)\u001b[39m\n",
      "Stacktrace:\n",
      " [1] \u001b[1mmaybe_evaluate_builtin\u001b[22m\u001b[1m(\u001b[22m::JuliaInterpreter.Frame, ::Expr, ::Bool\u001b[1m)\u001b[22m at \u001b[1m/home/nathan/.julia/packages/JuliaInterpreter/Or807/src/builtins.jl:86\u001b[22m\n",
      " [2] \u001b[1m#evaluate_call_recurse!#37\u001b[22m\u001b[1m(\u001b[22m::Bool, ::Function, ::Any, ::JuliaInterpreter.Frame, ::Expr\u001b[1m)\u001b[22m at \u001b[1m/home/nathan/.julia/packages/JuliaInterpreter/Or807/src/interpret.jl:209\u001b[22m\n",
      " [3] \u001b[1mevaluate_call_recurse!\u001b[22m at \u001b[1m/home/nathan/.julia/packages/JuliaInterpreter/Or807/src/interpret.jl:206\u001b[22m [inlined]\n",
      " [4] \u001b[1meval_rhs\u001b[22m\u001b[1m(\u001b[22m::Any, ::JuliaInterpreter.Frame, ::Expr\u001b[1m)\u001b[22m at \u001b[1m/home/nathan/.julia/packages/JuliaInterpreter/Or807/src/interpret.jl:381\u001b[22m\n",
      " [5] \u001b[1mstep_expr!\u001b[22m\u001b[1m(\u001b[22m::Any, ::JuliaInterpreter.Frame, ::Any, ::Bool\u001b[1m)\u001b[22m at \u001b[1m/home/nathan/.julia/packages/JuliaInterpreter/Or807/src/interpret.jl:509\u001b[22m\n",
      " [6] \u001b[1msignature\u001b[22m\u001b[1m(\u001b[22m::Any, ::JuliaInterpreter.Frame, ::Any, ::Int64\u001b[1m)\u001b[22m at \u001b[1m/home/nathan/.julia/packages/LoweredCodeUtils/6EZqd/src/LoweredCodeUtils.jl:146\u001b[22m\n",
      " [7] \u001b[1m#methoddef!#3\u001b[22m\u001b[1m(\u001b[22m::Bool, ::Function, ::Any, ::Array{Any,1}, ::JuliaInterpreter.Frame, ::Any, ::Int64\u001b[1m)\u001b[22m at \u001b[1m/home/nathan/.julia/packages/LoweredCodeUtils/6EZqd/src/LoweredCodeUtils.jl:420\u001b[22m\n",
      " [8] \u001b[1m(::getfield(LoweredCodeUtils, Symbol(\"#kw##methoddef!\")))\u001b[22m\u001b[1m(\u001b[22m::NamedTuple{(:define,),Tuple{Bool}}, ::typeof(LoweredCodeUtils.methoddef!), ::Function, ::Array{Any,1}, ::JuliaInterpreter.Frame, ::Expr, ::Int64\u001b[1m)\u001b[22m at \u001b[1m./none:0\u001b[22m\n",
      " [9] \u001b[1m#methods_by_execution!#14\u001b[22m\u001b[1m(\u001b[22m::Bool, ::Bool, ::Function, ::Any, ::Revise.CodeTrackingMethodInfo, ::Dict{Module,Array{Expr,1}}, ::JuliaInterpreter.Frame\u001b[1m)\u001b[22m at \u001b[1m/home/nathan/.julia/packages/Revise/agmgx/src/lowered.jl:81\u001b[22m\n",
      " [10] \u001b[1m#methods_by_execution!\u001b[22m at \u001b[1m./none:0\u001b[22m [inlined]\n",
      " [11] \u001b[1m#methods_by_execution!#9\u001b[22m\u001b[1m(\u001b[22m::Base.Iterators.Pairs{Symbol,Bool,Tuple{Symbol},NamedTuple{(:define,),Tuple{Bool}}}, ::Function, ::Any, ::Revise.CodeTrackingMethodInfo, ::Dict{Module,Array{Expr,1}}, ::Module, ::Expr\u001b[1m)\u001b[22m at \u001b[1m/home/nathan/.julia/packages/Revise/agmgx/src/lowered.jl:49\u001b[22m\n",
      " [12] \u001b[1m#methods_by_execution!\u001b[22m at \u001b[1m./none:0\u001b[22m [inlined]\n",
      " [13] \u001b[1m#eval_with_signatures#59\u001b[22m at \u001b[1m/home/nathan/.julia/packages/Revise/agmgx/src/Revise.jl:344\u001b[22m [inlined]\n",
      " [14] \u001b[1m#eval_with_signatures\u001b[22m at \u001b[1m./none:0\u001b[22m [inlined]\n",
      " [15] \u001b[1m#instantiate_sigs!#60\u001b[22m\u001b[1m(\u001b[22m::Bool, ::Base.Iterators.Pairs{Union{},Union{},Tuple{},NamedTuple{(),Tuple{}}}, ::Function, ::OrderedCollections.OrderedDict{Module,OrderedCollections.OrderedDict{Revise.RelocatableExpr,Union{Nothing, Array{Any,1}}}}\u001b[1m)\u001b[22m at \u001b[1m/home/nathan/.julia/packages/Revise/agmgx/src/Revise.jl:352\u001b[22m\n",
      " [16] \u001b[1minstantiate_sigs!\u001b[22m at \u001b[1m/home/nathan/.julia/packages/Revise/agmgx/src/Revise.jl:349\u001b[22m [inlined]\n",
      " [17] \u001b[1mmaybe_parse_from_cache!\u001b[22m\u001b[1m(\u001b[22m::Revise.PkgData, ::String\u001b[1m)\u001b[22m at \u001b[1m/home/nathan/.julia/packages/Revise/agmgx/src/pkgs.jl:224\u001b[22m\n",
      " [18] \u001b[1m(::getfield(Revise, Symbol(\"##26#27\")){String})\u001b[22m\u001b[1m(\u001b[22m\u001b[1m)\u001b[22m at \u001b[1m/home/nathan/.julia/packages/Revise/agmgx/src/pkgs.jl:370\u001b[22m\n",
      " [19] \u001b[1mwith_logstate\u001b[22m\u001b[1m(\u001b[22m::getfield(Revise, Symbol(\"##26#27\")){String}, ::Base.CoreLogging.LogState\u001b[1m)\u001b[22m at \u001b[1m./logging.jl:395\u001b[22m\n",
      " [20] \u001b[1mwith_logger\u001b[22m at \u001b[1m./logging.jl:491\u001b[22m [inlined]\n",
      " [21] \u001b[1mwatch_manifest\u001b[22m\u001b[1m(\u001b[22m::String\u001b[1m)\u001b[22m at \u001b[1m/home/nathan/.julia/packages/Revise/agmgx/src/pkgs.jl:349\u001b[22m\n",
      " [22] \u001b[1m(::Revise.Rescheduler{typeof(Revise.watch_manifest),Tuple{String}})\u001b[22m\u001b[1m(\u001b[22m\u001b[1m)\u001b[22m at \u001b[1m/home/nathan/.julia/packages/Revise/agmgx/src/types.jl:235\u001b[22m\n",
      "while evaluating\n",
      "function exists(parent::Union{HDF5File, HDF5Group}, path::String, lapl::HDF5Properties)\n",
      "    #= /home/nathan/.julia/packages/HDF5/2gJEi/src/HDF5.jl:1041 =#\n",
      "    (first, rest) = split1(path)\n",
      "    #= /home/nathan/.julia/packages/HDF5/2gJEi/src/HDF5.jl:1042 =#\n",
      "    if first == \"/\"\n",
      "        #= /home/nathan/.julia/packages/HDF5/2gJEi/src/HDF5.jl:1043 =#\n",
      "        parent = root(parent)\n",
      "    elseif #= /home/nathan/.julia/packages/HDF5/2gJEi/src/HDF5.jl:1044 =# !(h5l_exists(parent.id, first, lapl.id))\n",
      "        #= /home/nathan/.julia/packages/HDF5/2gJEi/src/HDF5.jl:1045 =#\n",
      "        return false\n",
      "    end\n",
      "    #= /home/nathan/.julia/packages/HDF5/2gJEi/src/HDF5.jl:1047 =#\n",
      "    ret = true\n",
      "    #= /home/nathan/.julia/packages/HDF5/2gJEi/src/HDF5.jl:1048 =#\n",
      "    if rest !== nothing && !(isempty(rest))\n",
      "        #= /home/nathan/.julia/packages/HDF5/2gJEi/src/HDF5.jl:1049 =#\n",
      "        obj = parent[first]\n",
      "        #= /home/nathan/.julia/packages/HDF5/2gJEi/src/HDF5.jl:1050 =#\n",
      "        ret = exists(obj, rest, lapl)\n",
      "        #= /home/nathan/.julia/packages/HDF5/2gJEi/src/HDF5.jl:1051 =#\n",
      "        close(obj)\n",
      "    end\n",
      "    #= /home/nathan/.julia/packages/HDF5/2gJEi/src/HDF5.jl:1053 =#\n",
      "    ret\n",
      "end\n",
      "in module Main.HDF5\n",
      "\u001b[91mTypeError: in Union, in parameter, expected Type, got typeof(Main.HDF5.HDF5Dataset)\u001b[39m\n",
      "Stacktrace:\n",
      " [1] \u001b[1mmaybe_evaluate_builtin\u001b[22m\u001b[1m(\u001b[22m::JuliaInterpreter.Frame, ::Expr, ::Bool\u001b[1m)\u001b[22m at \u001b[1m/home/nathan/.julia/packages/JuliaInterpreter/Or807/src/builtins.jl:86\u001b[22m\n",
      " [2] \u001b[1m#evaluate_call_recurse!#37\u001b[22m\u001b[1m(\u001b[22m::Bool, ::Function, ::Any, ::JuliaInterpreter.Frame, ::Expr\u001b[1m)\u001b[22m at \u001b[1m/home/nathan/.julia/packages/JuliaInterpreter/Or807/src/interpret.jl:209\u001b[22m\n",
      " [3] \u001b[1mevaluate_call_recurse!\u001b[22m at \u001b[1m/home/nathan/.julia/packages/JuliaInterpreter/Or807/src/interpret.jl:206\u001b[22m [inlined]\n",
      " [4] \u001b[1meval_rhs\u001b[22m\u001b[1m(\u001b[22m::Any, ::JuliaInterpreter.Frame, ::Expr\u001b[1m)\u001b[22m at \u001b[1m/home/nathan/.julia/packages/JuliaInterpreter/Or807/src/interpret.jl:381\u001b[22m\n",
      " [5] \u001b[1mstep_expr!\u001b[22m\u001b[1m(\u001b[22m::Any, ::JuliaInterpreter.Frame, ::Any, ::Bool\u001b[1m)\u001b[22m at \u001b[1m/home/nathan/.julia/packages/JuliaInterpreter/Or807/src/interpret.jl:509\u001b[22m\n",
      " [6] \u001b[1msignature\u001b[22m\u001b[1m(\u001b[22m::Any, ::JuliaInterpreter.Frame, ::Any, ::Int64\u001b[1m)\u001b[22m at \u001b[1m/home/nathan/.julia/packages/LoweredCodeUtils/6EZqd/src/LoweredCodeUtils.jl:146\u001b[22m\n"
     ]
    },
    {
     "name": "stderr",
     "output_type": "stream",
     "text": [
      " [7] \u001b[1m#methoddef!#3\u001b[22m\u001b[1m(\u001b[22m::Bool, ::Function, ::Any, ::Array{Any,1}, ::JuliaInterpreter.Frame, ::Any, ::Int64\u001b[1m)\u001b[22m at \u001b[1m/home/nathan/.julia/packages/LoweredCodeUtils/6EZqd/src/LoweredCodeUtils.jl:420\u001b[22m\n",
      " [8] \u001b[1m(::getfield(LoweredCodeUtils, Symbol(\"#kw##methoddef!\")))\u001b[22m\u001b[1m(\u001b[22m::NamedTuple{(:define,),Tuple{Bool}}, ::typeof(LoweredCodeUtils.methoddef!), ::Function, ::Array{Any,1}, ::JuliaInterpreter.Frame, ::Expr, ::Int64\u001b[1m)\u001b[22m at \u001b[1m./none:0\u001b[22m\n",
      " [9] \u001b[1m#methods_by_execution!#14\u001b[22m\u001b[1m(\u001b[22m::Bool, ::Bool, ::Function, ::Any, ::Revise.CodeTrackingMethodInfo, ::Dict{Module,Array{Expr,1}}, ::JuliaInterpreter.Frame\u001b[1m)\u001b[22m at \u001b[1m/home/nathan/.julia/packages/Revise/agmgx/src/lowered.jl:81\u001b[22m\n",
      " [10] \u001b[1m#methods_by_execution!\u001b[22m at \u001b[1m./none:0\u001b[22m [inlined]\n",
      " [11] \u001b[1m#methods_by_execution!#9\u001b[22m\u001b[1m(\u001b[22m::Base.Iterators.Pairs{Symbol,Bool,Tuple{Symbol},NamedTuple{(:define,),Tuple{Bool}}}, ::Function, ::Any, ::Revise.CodeTrackingMethodInfo, ::Dict{Module,Array{Expr,1}}, ::Module, ::Expr\u001b[1m)\u001b[22m at \u001b[1m/home/nathan/.julia/packages/Revise/agmgx/src/lowered.jl:49\u001b[22m\n",
      " [12] \u001b[1m#methods_by_execution!\u001b[22m at \u001b[1m./none:0\u001b[22m [inlined]\n",
      " [13] \u001b[1m#eval_with_signatures#59\u001b[22m at \u001b[1m/home/nathan/.julia/packages/Revise/agmgx/src/Revise.jl:344\u001b[22m [inlined]\n",
      " [14] \u001b[1m#eval_with_signatures\u001b[22m at \u001b[1m./none:0\u001b[22m [inlined]\n",
      " [15] \u001b[1m#instantiate_sigs!#60\u001b[22m\u001b[1m(\u001b[22m::Bool, ::Base.Iterators.Pairs{Union{},Union{},Tuple{},NamedTuple{(),Tuple{}}}, ::Function, ::OrderedCollections.OrderedDict{Module,OrderedCollections.OrderedDict{Revise.RelocatableExpr,Union{Nothing, Array{Any,1}}}}\u001b[1m)\u001b[22m at \u001b[1m/home/nathan/.julia/packages/Revise/agmgx/src/Revise.jl:352\u001b[22m\n",
      " [16] \u001b[1minstantiate_sigs!\u001b[22m at \u001b[1m/home/nathan/.julia/packages/Revise/agmgx/src/Revise.jl:349\u001b[22m [inlined]\n",
      " [17] \u001b[1mmaybe_parse_from_cache!\u001b[22m\u001b[1m(\u001b[22m::Revise.PkgData, ::String\u001b[1m)\u001b[22m at \u001b[1m/home/nathan/.julia/packages/Revise/agmgx/src/pkgs.jl:224\u001b[22m\n",
      " [18] \u001b[1m(::getfield(Revise, Symbol(\"##26#27\")){String})\u001b[22m\u001b[1m(\u001b[22m\u001b[1m)\u001b[22m at \u001b[1m/home/nathan/.julia/packages/Revise/agmgx/src/pkgs.jl:370\u001b[22m\n",
      " [19] \u001b[1mwith_logstate\u001b[22m\u001b[1m(\u001b[22m::getfield(Revise, Symbol(\"##26#27\")){String}, ::Base.CoreLogging.LogState\u001b[1m)\u001b[22m at \u001b[1m./logging.jl:395\u001b[22m\n",
      " [20] \u001b[1mwith_logger\u001b[22m at \u001b[1m./logging.jl:491\u001b[22m [inlined]\n",
      " [21] \u001b[1mwatch_manifest\u001b[22m\u001b[1m(\u001b[22m::String\u001b[1m)\u001b[22m at \u001b[1m/home/nathan/.julia/packages/Revise/agmgx/src/pkgs.jl:349\u001b[22m\n",
      " [22] \u001b[1m(::Revise.Rescheduler{typeof(Revise.watch_manifest),Tuple{String}})\u001b[22m\u001b[1m(\u001b[22m\u001b[1m)\u001b[22m at \u001b[1m/home/nathan/.julia/packages/Revise/agmgx/src/types.jl:235\u001b[22m\n",
      "while evaluating\n",
      "exists(dset::Union{HDF5Dataset, HDF5Datatype}, path::String) = begin\n",
      "        #= /home/nathan/.julia/packages/HDF5/2gJEi/src/HDF5.jl:1056 =#\n",
      "        h5a_exists((checkvalid(dset)).id, path)\n",
      "    end\n",
      "in module Main.HDF5\n",
      "\u001b[91mTypeError: in Union, in parameter, expected Type, got typeof(Main.HDF5.HDF5File)\u001b[39m\n",
      "Stacktrace:\n",
      " [1] \u001b[1mmaybe_evaluate_builtin\u001b[22m\u001b[1m(\u001b[22m::JuliaInterpreter.Frame, ::Expr, ::Bool\u001b[1m)\u001b[22m at \u001b[1m/home/nathan/.julia/packages/JuliaInterpreter/Or807/src/builtins.jl:86\u001b[22m\n",
      " [2] \u001b[1m#evaluate_call_recurse!#37\u001b[22m\u001b[1m(\u001b[22m::Bool, ::Function, ::Any, ::JuliaInterpreter.Frame, ::Expr\u001b[1m)\u001b[22m at \u001b[1m/home/nathan/.julia/packages/JuliaInterpreter/Or807/src/interpret.jl:209\u001b[22m\n",
      " [3] \u001b[1mevaluate_call_recurse!\u001b[22m at \u001b[1m/home/nathan/.julia/packages/JuliaInterpreter/Or807/src/interpret.jl:206\u001b[22m [inlined]\n",
      " [4] \u001b[1meval_rhs\u001b[22m\u001b[1m(\u001b[22m::Any, ::JuliaInterpreter.Frame, ::Expr\u001b[1m)\u001b[22m at \u001b[1m/home/nathan/.julia/packages/JuliaInterpreter/Or807/src/interpret.jl:381\u001b[22m\n",
      " [5] \u001b[1mstep_expr!\u001b[22m\u001b[1m(\u001b[22m::Any, ::JuliaInterpreter.Frame, ::Any, ::Bool\u001b[1m)\u001b[22m at \u001b[1m/home/nathan/.julia/packages/JuliaInterpreter/Or807/src/interpret.jl:509\u001b[22m\n",
      " [6] \u001b[1msignature\u001b[22m\u001b[1m(\u001b[22m::Any, ::JuliaInterpreter.Frame, ::Any, ::Int64\u001b[1m)\u001b[22m at \u001b[1m/home/nathan/.julia/packages/LoweredCodeUtils/6EZqd/src/LoweredCodeUtils.jl:146\u001b[22m\n",
      " [7] \u001b[1m#methoddef!#3\u001b[22m\u001b[1m(\u001b[22m::Bool, ::Function, ::Any, ::Array{Any,1}, ::JuliaInterpreter.Frame, ::Any, ::Int64\u001b[1m)\u001b[22m at \u001b[1m/home/nathan/.julia/packages/LoweredCodeUtils/6EZqd/src/LoweredCodeUtils.jl:420\u001b[22m\n",
      " [8] \u001b[1m(::getfield(LoweredCodeUtils, Symbol(\"#kw##methoddef!\")))\u001b[22m\u001b[1m(\u001b[22m::NamedTuple{(:define,),Tuple{Bool}}, ::typeof(LoweredCodeUtils.methoddef!), ::Function, ::Array{Any,1}, ::JuliaInterpreter.Frame, ::Expr, ::Int64\u001b[1m)\u001b[22m at \u001b[1m./none:0\u001b[22m\n",
      " [9] \u001b[1m#methods_by_execution!#14\u001b[22m\u001b[1m(\u001b[22m::Bool, ::Bool, ::Function, ::Any, ::Revise.CodeTrackingMethodInfo, ::Dict{Module,Array{Expr,1}}, ::JuliaInterpreter.Frame\u001b[1m)\u001b[22m at \u001b[1m/home/nathan/.julia/packages/Revise/agmgx/src/lowered.jl:81\u001b[22m\n",
      " [10] \u001b[1m#methods_by_execution!\u001b[22m at \u001b[1m./none:0\u001b[22m [inlined]\n",
      " [11] \u001b[1m#methods_by_execution!#9\u001b[22m\u001b[1m(\u001b[22m::Base.Iterators.Pairs{Symbol,Bool,Tuple{Symbol},NamedTuple{(:define,),Tuple{Bool}}}, ::Function, ::Any, ::Revise.CodeTrackingMethodInfo, ::Dict{Module,Array{Expr,1}}, ::Module, ::Expr\u001b[1m)\u001b[22m at \u001b[1m/home/nathan/.julia/packages/Revise/agmgx/src/lowered.jl:49\u001b[22m\n",
      " [12] \u001b[1m#methods_by_execution!\u001b[22m at \u001b[1m./none:0\u001b[22m [inlined]\n",
      " [13] \u001b[1m#eval_with_signatures#59\u001b[22m at \u001b[1m/home/nathan/.julia/packages/Revise/agmgx/src/Revise.jl:344\u001b[22m [inlined]\n",
      " [14] \u001b[1m#eval_with_signatures\u001b[22m at \u001b[1m./none:0\u001b[22m [inlined]\n",
      " [15] \u001b[1m#instantiate_sigs!#60\u001b[22m\u001b[1m(\u001b[22m::Bool, ::Base.Iterators.Pairs{Union{},Union{},Tuple{},NamedTuple{(),Tuple{}}}, ::Function, ::OrderedCollections.OrderedDict{Module,OrderedCollections.OrderedDict{Revise.RelocatableExpr,Union{Nothing, Array{Any,1}}}}\u001b[1m)\u001b[22m at \u001b[1m/home/nathan/.julia/packages/Revise/agmgx/src/Revise.jl:352\u001b[22m\n",
      " [16] \u001b[1minstantiate_sigs!\u001b[22m at \u001b[1m/home/nathan/.julia/packages/Revise/agmgx/src/Revise.jl:349\u001b[22m [inlined]\n",
      " [17] \u001b[1mmaybe_parse_from_cache!\u001b[22m\u001b[1m(\u001b[22m::Revise.PkgData, ::String\u001b[1m)\u001b[22m at \u001b[1m/home/nathan/.julia/packages/Revise/agmgx/src/pkgs.jl:224\u001b[22m\n",
      " [18] \u001b[1m(::getfield(Revise, Symbol(\"##26#27\")){String})\u001b[22m\u001b[1m(\u001b[22m\u001b[1m)\u001b[22m at \u001b[1m/home/nathan/.julia/packages/Revise/agmgx/src/pkgs.jl:370\u001b[22m\n",
      " [19] \u001b[1mwith_logstate\u001b[22m\u001b[1m(\u001b[22m::getfield(Revise, Symbol(\"##26#27\")){String}, ::Base.CoreLogging.LogState\u001b[1m)\u001b[22m at \u001b[1m./logging.jl:395\u001b[22m\n",
      " [20] \u001b[1mwith_logger\u001b[22m at \u001b[1m./logging.jl:491\u001b[22m [inlined]\n",
      " [21] \u001b[1mwatch_manifest\u001b[22m\u001b[1m(\u001b[22m::String\u001b[1m)\u001b[22m at \u001b[1m/home/nathan/.julia/packages/Revise/agmgx/src/pkgs.jl:349\u001b[22m\n",
      " [22] \u001b[1m(::Revise.Rescheduler{typeof(Revise.watch_manifest),Tuple{String}})\u001b[22m\u001b[1m(\u001b[22m\u001b[1m)\u001b[22m at \u001b[1m/home/nathan/.julia/packages/Revise/agmgx/src/types.jl:235\u001b[22m\n",
      "while evaluating\n",
      "exists(parent::Union{HDF5File, HDF5Group}, path::String) = begin\n",
      "        #= /home/nathan/.julia/packages/HDF5/2gJEi/src/HDF5.jl:1057 =#\n",
      "        exists(parent, path, HDF5Properties())\n",
      "    end\n",
      "in module Main.HDF5\n",
      "\u001b[91mTypeError: in Union, in parameter, expected Type, got typeof(Main.HDF5.HDF5File)\u001b[39m\n",
      "Stacktrace:\n",
      " [1] \u001b[1mmaybe_evaluate_builtin\u001b[22m\u001b[1m(\u001b[22m::JuliaInterpreter.Frame, ::Expr, ::Bool\u001b[1m)\u001b[22m at \u001b[1m/home/nathan/.julia/packages/JuliaInterpreter/Or807/src/builtins.jl:86\u001b[22m\n",
      " [2] \u001b[1m#evaluate_call_recurse!#37\u001b[22m\u001b[1m(\u001b[22m::Bool, ::Function, ::Any, ::JuliaInterpreter.Frame, ::Expr\u001b[1m)\u001b[22m at \u001b[1m/home/nathan/.julia/packages/JuliaInterpreter/Or807/src/interpret.jl:209\u001b[22m\n",
      " [3] \u001b[1mevaluate_call_recurse!\u001b[22m at \u001b[1m/home/nathan/.julia/packages/JuliaInterpreter/Or807/src/interpret.jl:206\u001b[22m [inlined]\n",
      " [4] \u001b[1meval_rhs\u001b[22m\u001b[1m(\u001b[22m::Any, ::JuliaInterpreter.Frame, ::Expr\u001b[1m)\u001b[22m at \u001b[1m/home/nathan/.julia/packages/JuliaInterpreter/Or807/src/interpret.jl:381\u001b[22m\n",
      " [5] \u001b[1mstep_expr!\u001b[22m\u001b[1m(\u001b[22m::Any, ::JuliaInterpreter.Frame, ::Any, ::Bool\u001b[1m)\u001b[22m at \u001b[1m/home/nathan/.julia/packages/JuliaInterpreter/Or807/src/interpret.jl:509\u001b[22m\n",
      " [6] \u001b[1msignature\u001b[22m\u001b[1m(\u001b[22m::Any, ::JuliaInterpreter.Frame, ::Any, ::Int64\u001b[1m)\u001b[22m at \u001b[1m/home/nathan/.julia/packages/LoweredCodeUtils/6EZqd/src/LoweredCodeUtils.jl:146\u001b[22m\n",
      " [7] \u001b[1m#methoddef!#3\u001b[22m\u001b[1m(\u001b[22m::Bool, ::Function, ::Any, ::Array{Any,1}, ::JuliaInterpreter.Frame, ::Any, ::Int64\u001b[1m)\u001b[22m at \u001b[1m/home/nathan/.julia/packages/LoweredCodeUtils/6EZqd/src/LoweredCodeUtils.jl:420\u001b[22m\n",
      " [8] \u001b[1m(::getfield(LoweredCodeUtils, Symbol(\"#kw##methoddef!\")))\u001b[22m\u001b[1m(\u001b[22m::NamedTuple{(:define,),Tuple{Bool}}, ::typeof(LoweredCodeUtils.methoddef!), ::Function, ::Array{Any,1}, ::JuliaInterpreter.Frame, ::Expr, ::Int64\u001b[1m)\u001b[22m at \u001b[1m./none:0\u001b[22m\n",
      " [9] \u001b[1m#methods_by_execution!#14\u001b[22m\u001b[1m(\u001b[22m::Bool, ::Bool, ::Function, ::Any, ::Revise.CodeTrackingMethodInfo, ::Dict{Module,Array{Expr,1}}, ::JuliaInterpreter.Frame\u001b[1m)\u001b[22m at \u001b[1m/home/nathan/.julia/packages/Revise/agmgx/src/lowered.jl:81\u001b[22m\n",
      " [10] \u001b[1m#methods_by_execution!\u001b[22m at \u001b[1m./none:0\u001b[22m [inlined]\n",
      " [11] \u001b[1m#methods_by_execution!#9\u001b[22m\u001b[1m(\u001b[22m::Base.Iterators.Pairs{Symbol,Bool,Tuple{Symbol},NamedTuple{(:define,),Tuple{Bool}}}, ::Function, ::Any, ::Revise.CodeTrackingMethodInfo, ::Dict{Module,Array{Expr,1}}, ::Module, ::Expr\u001b[1m)\u001b[22m at \u001b[1m/home/nathan/.julia/packages/Revise/agmgx/src/lowered.jl:49\u001b[22m\n",
      " [12] \u001b[1m#methods_by_execution!\u001b[22m at \u001b[1m./none:0\u001b[22m [inlined]\n",
      " [13] \u001b[1m#eval_with_signatures#59\u001b[22m at \u001b[1m/home/nathan/.julia/packages/Revise/agmgx/src/Revise.jl:344\u001b[22m [inlined]\n",
      " [14] \u001b[1m#eval_with_signatures\u001b[22m at \u001b[1m./none:0\u001b[22m [inlined]\n",
      " [15] \u001b[1m#instantiate_sigs!#60\u001b[22m\u001b[1m(\u001b[22m::Bool, ::Base.Iterators.Pairs{Union{},Union{},Tuple{},NamedTuple{(),Tuple{}}}, ::Function, ::OrderedCollections.OrderedDict{Module,OrderedCollections.OrderedDict{Revise.RelocatableExpr,Union{Nothing, Array{Any,1}}}}\u001b[1m)\u001b[22m at \u001b[1m/home/nathan/.julia/packages/Revise/agmgx/src/Revise.jl:352\u001b[22m\n",
      " [16] \u001b[1minstantiate_sigs!\u001b[22m at \u001b[1m/home/nathan/.julia/packages/Revise/agmgx/src/Revise.jl:349\u001b[22m [inlined]\n",
      " [17] \u001b[1mmaybe_parse_from_cache!\u001b[22m\u001b[1m(\u001b[22m::Revise.PkgData, ::String\u001b[1m)\u001b[22m at \u001b[1m/home/nathan/.julia/packages/Revise/agmgx/src/pkgs.jl:224\u001b[22m\n",
      " [18] \u001b[1m(::getfield(Revise, Symbol(\"##26#27\")){String})\u001b[22m\u001b[1m(\u001b[22m\u001b[1m)\u001b[22m at \u001b[1m/home/nathan/.julia/packages/Revise/agmgx/src/pkgs.jl:370\u001b[22m\n",
      " [19] \u001b[1mwith_logstate\u001b[22m\u001b[1m(\u001b[22m::getfield(Revise, Symbol(\"##26#27\")){String}, ::Base.CoreLogging.LogState\u001b[1m)\u001b[22m at \u001b[1m./logging.jl:395\u001b[22m\n",
      " [20] \u001b[1mwith_logger\u001b[22m at \u001b[1m./logging.jl:491\u001b[22m [inlined]\n",
      " [21] \u001b[1mwatch_manifest\u001b[22m\u001b[1m(\u001b[22m::String\u001b[1m)\u001b[22m at \u001b[1m/home/nathan/.julia/packages/Revise/agmgx/src/pkgs.jl:349\u001b[22m\n",
      " [22] \u001b[1m(::Revise.Rescheduler{typeof(Revise.watch_manifest),Tuple{String}})\u001b[22m\u001b[1m(\u001b[22m\u001b[1m)\u001b[22m at \u001b[1m/home/nathan/.julia/packages/Revise/agmgx/src/types.jl:235\u001b[22m\n",
      "while evaluating\n",
      "has(parent::Union{HDF5File, HDF5Group, HDF5Dataset}, path::String) = begin\n",
      "        #= /home/nathan/.julia/packages/HDF5/2gJEi/src/HDF5.jl:1058 =#\n",
      "        exists(parent, path)\n",
      "    end\n",
      "in module Main.HDF5\n",
      "\u001b[91mTypeError: in Union, in parameter, expected Type, got typeof(Main.HDF5.HDF5Group)\u001b[39m\n",
      "Stacktrace:\n",
      " [1] \u001b[1mmaybe_evaluate_builtin\u001b[22m\u001b[1m(\u001b[22m::JuliaInterpreter.Frame, ::Expr, ::Bool\u001b[1m)\u001b[22m at \u001b[1m/home/nathan/.julia/packages/JuliaInterpreter/Or807/src/builtins.jl:86\u001b[22m\n",
      " [2] \u001b[1m#evaluate_call_recurse!#37\u001b[22m\u001b[1m(\u001b[22m::Bool, ::Function, ::Any, ::JuliaInterpreter.Frame, ::Expr\u001b[1m)\u001b[22m at \u001b[1m/home/nathan/.julia/packages/JuliaInterpreter/Or807/src/interpret.jl:209\u001b[22m\n",
      " [3] \u001b[1mevaluate_call_recurse!\u001b[22m at \u001b[1m/home/nathan/.julia/packages/JuliaInterpreter/Or807/src/interpret.jl:206\u001b[22m [inlined]\n",
      " [4] \u001b[1meval_rhs\u001b[22m\u001b[1m(\u001b[22m::Any, ::JuliaInterpreter.Frame, ::Expr\u001b[1m)\u001b[22m at \u001b[1m/home/nathan/.julia/packages/JuliaInterpreter/Or807/src/interpret.jl:381\u001b[22m\n",
      " [5] \u001b[1mstep_expr!\u001b[22m\u001b[1m(\u001b[22m::Any, ::JuliaInterpreter.Frame, ::Any, ::Bool\u001b[1m)\u001b[22m at \u001b[1m/home/nathan/.julia/packages/JuliaInterpreter/Or807/src/interpret.jl:509\u001b[22m\n",
      " [6] \u001b[1msignature\u001b[22m\u001b[1m(\u001b[22m::Any, ::JuliaInterpreter.Frame, ::Any, ::Int64\u001b[1m)\u001b[22m at \u001b[1m/home/nathan/.julia/packages/LoweredCodeUtils/6EZqd/src/LoweredCodeUtils.jl:146\u001b[22m\n",
      " [7] \u001b[1m#methoddef!#3\u001b[22m\u001b[1m(\u001b[22m::Bool, ::Function, ::Any, ::Array{Any,1}, ::JuliaInterpreter.Frame, ::Any, ::Int64\u001b[1m)\u001b[22m at \u001b[1m/home/nathan/.julia/packages/LoweredCodeUtils/6EZqd/src/LoweredCodeUtils.jl:420\u001b[22m\n",
      " [8] \u001b[1m(::getfield(LoweredCodeUtils, Symbol(\"#kw##methoddef!\")))\u001b[22m\u001b[1m(\u001b[22m::NamedTuple{(:define,),Tuple{Bool}}, ::typeof(LoweredCodeUtils.methoddef!), ::Function, ::Array{Any,1}, ::JuliaInterpreter.Frame, ::Expr, ::Int64\u001b[1m)\u001b[22m at \u001b[1m./none:0\u001b[22m\n",
      " [9] \u001b[1m#methods_by_execution!#14\u001b[22m\u001b[1m(\u001b[22m::Bool, ::Bool, ::Function, ::Any, ::Revise.CodeTrackingMethodInfo, ::Dict{Module,Array{Expr,1}}, ::JuliaInterpreter.Frame\u001b[1m)\u001b[22m at \u001b[1m/home/nathan/.julia/packages/Revise/agmgx/src/lowered.jl:81\u001b[22m\n",
      " [10] \u001b[1m#methods_by_execution!\u001b[22m at \u001b[1m./none:0\u001b[22m [inlined]\n",
      " [11] \u001b[1m#methods_by_execution!#9\u001b[22m\u001b[1m(\u001b[22m::Base.Iterators.Pairs{Symbol,Bool,Tuple{Symbol},NamedTuple{(:define,),Tuple{Bool}}}, ::Function, ::Any, ::Revise.CodeTrackingMethodInfo, ::Dict{Module,Array{Expr,1}}, ::Module, ::Expr\u001b[1m)\u001b[22m at \u001b[1m/home/nathan/.julia/packages/Revise/agmgx/src/lowered.jl:49\u001b[22m\n",
      " [12] \u001b[1m#methods_by_execution!\u001b[22m at \u001b[1m./none:0\u001b[22m [inlined]\n",
      " [13] \u001b[1m#eval_with_signatures#59\u001b[22m at \u001b[1m/home/nathan/.julia/packages/Revise/agmgx/src/Revise.jl:344\u001b[22m [inlined]\n",
      " [14] \u001b[1m#eval_with_signatures\u001b[22m at \u001b[1m./none:0\u001b[22m [inlined]\n",
      " [15] \u001b[1m#instantiate_sigs!#60\u001b[22m\u001b[1m(\u001b[22m::Bool, ::Base.Iterators.Pairs{Union{},Union{},Tuple{},NamedTuple{(),Tuple{}}}, ::Function, ::OrderedCollections.OrderedDict{Module,OrderedCollections.OrderedDict{Revise.RelocatableExpr,Union{Nothing, Array{Any,1}}}}\u001b[1m)\u001b[22m at \u001b[1m/home/nathan/.julia/packages/Revise/agmgx/src/Revise.jl:352\u001b[22m\n",
      " [16] \u001b[1minstantiate_sigs!\u001b[22m at \u001b[1m/home/nathan/.julia/packages/Revise/agmgx/src/Revise.jl:349\u001b[22m [inlined]\n",
      " [17] \u001b[1mmaybe_parse_from_cache!\u001b[22m\u001b[1m(\u001b[22m::Revise.PkgData, ::String\u001b[1m)\u001b[22m at \u001b[1m/home/nathan/.julia/packages/Revise/agmgx/src/pkgs.jl:224\u001b[22m\n",
      " [18] \u001b[1m(::getfield(Revise, Symbol(\"##26#27\")){String})\u001b[22m\u001b[1m(\u001b[22m\u001b[1m)\u001b[22m at \u001b[1m/home/nathan/.julia/packages/Revise/agmgx/src/pkgs.jl:370\u001b[22m\n",
      " [19] \u001b[1mwith_logstate\u001b[22m\u001b[1m(\u001b[22m::getfield(Revise, Symbol(\"##26#27\")){String}, ::Base.CoreLogging.LogState\u001b[1m)\u001b[22m at \u001b[1m./logging.jl:395\u001b[22m\n",
      " [20] \u001b[1mwith_logger\u001b[22m at \u001b[1m./logging.jl:491\u001b[22m [inlined]\n",
      " [21] \u001b[1mwatch_manifest\u001b[22m\u001b[1m(\u001b[22m::String\u001b[1m)\u001b[22m at \u001b[1m/home/nathan/.julia/packages/Revise/agmgx/src/pkgs.jl:349\u001b[22m\n",
      " [22] \u001b[1m(::Revise.Rescheduler{typeof(Revise.watch_manifest),Tuple{String}})\u001b[22m\u001b[1m(\u001b[22m\u001b[1m)\u001b[22m at \u001b[1m/home/nathan/.julia/packages/Revise/agmgx/src/types.jl:235\u001b[22m\n",
      "while evaluating\n",
      "function info(obj::Union{HDF5Group, HDF5File})\n",
      "    #= /home/nathan/.julia/packages/HDF5/2gJEi/src/HDF5.jl:1063 =#\n",
      "    h5g_get_info(obj, H5GINFO_TEMP_ARRAY)\n",
      "    #= /home/nathan/.julia/packages/HDF5/2gJEi/src/HDF5.jl:1064 =#\n",
      "    H5GINFO_TEMP_ARRAY[]\n",
      "end\n",
      "in module Main.HDF5\n",
      "\u001b[91mUndefVarError: HDF5Object not defined\u001b[39m\n",
      "Stacktrace:\n",
      " [1] \u001b[1mmacro expansion\u001b[22m at \u001b[1m/home/nathan/.julia/packages/JuliaInterpreter/Or807/src/interpret.jl:64\u001b[22m [inlined]\n",
      " [2] \u001b[1mgetargs\u001b[22m\u001b[1m(\u001b[22m::Array{Any,1}, ::JuliaInterpreter.Frame\u001b[1m)\u001b[22m at \u001b[1m/home/nathan/.julia/packages/JuliaInterpreter/Or807/src/builtins.jl:8\u001b[22m\n",
      " [3] \u001b[1mmaybe_evaluate_builtin\u001b[22m\u001b[1m(\u001b[22m::JuliaInterpreter.Frame, ::Expr, ::Bool\u001b[1m)\u001b[22m at \u001b[1m/home/nathan/.julia/packages/JuliaInterpreter/Or807/src/builtins.jl:86\u001b[22m\n",
      " [4] \u001b[1m#evaluate_call_recurse!#37\u001b[22m\u001b[1m(\u001b[22m::Bool, ::Function, ::Any, ::JuliaInterpreter.Frame, ::Expr\u001b[1m)\u001b[22m at \u001b[1m/home/nathan/.julia/packages/JuliaInterpreter/Or807/src/interpret.jl:209\u001b[22m\n",
      " [5] \u001b[1mevaluate_call_recurse!\u001b[22m at \u001b[1m/home/nathan/.julia/packages/JuliaInterpreter/Or807/src/interpret.jl:206\u001b[22m [inlined]\n",
      " [6] \u001b[1meval_rhs\u001b[22m\u001b[1m(\u001b[22m::Any, ::JuliaInterpreter.Frame, ::Expr\u001b[1m)\u001b[22m at \u001b[1m/home/nathan/.julia/packages/JuliaInterpreter/Or807/src/interpret.jl:381\u001b[22m\n",
      " [7] \u001b[1mstep_expr!\u001b[22m\u001b[1m(\u001b[22m::Any, ::JuliaInterpreter.Frame, ::Any, ::Bool\u001b[1m)\u001b[22m at \u001b[1m/home/nathan/.julia/packages/JuliaInterpreter/Or807/src/interpret.jl:509\u001b[22m\n",
      " [8] \u001b[1msignature\u001b[22m\u001b[1m(\u001b[22m::Any, ::JuliaInterpreter.Frame, ::Any, ::Int64\u001b[1m)\u001b[22m at \u001b[1m/home/nathan/.julia/packages/LoweredCodeUtils/6EZqd/src/LoweredCodeUtils.jl:146\u001b[22m\n",
      " [9] \u001b[1m#methoddef!#3\u001b[22m\u001b[1m(\u001b[22m::Bool, ::Function, ::Any, ::Array{Any,1}, ::JuliaInterpreter.Frame, ::Any, ::Int64\u001b[1m)\u001b[22m at \u001b[1m/home/nathan/.julia/packages/LoweredCodeUtils/6EZqd/src/LoweredCodeUtils.jl:420\u001b[22m\n",
      " [10] \u001b[1m(::getfield(LoweredCodeUtils, Symbol(\"#kw##methoddef!\")))\u001b[22m\u001b[1m(\u001b[22m::NamedTuple{(:define,),Tuple{Bool}}, ::typeof(LoweredCodeUtils.methoddef!), ::Function, ::Array{Any,1}, ::JuliaInterpreter.Frame, ::Expr, ::Int64\u001b[1m)\u001b[22m at \u001b[1m./none:0\u001b[22m\n",
      " [11] \u001b[1m#methods_by_execution!#14\u001b[22m\u001b[1m(\u001b[22m::Bool, ::Bool, ::Function, ::Any, ::Revise.CodeTrackingMethodInfo, ::Dict{Module,Array{Expr,1}}, ::JuliaInterpreter.Frame\u001b[1m)\u001b[22m at \u001b[1m/home/nathan/.julia/packages/Revise/agmgx/src/lowered.jl:81\u001b[22m\n",
      " [12] \u001b[1m#methods_by_execution!\u001b[22m at \u001b[1m./none:0\u001b[22m [inlined]\n"
     ]
    },
    {
     "name": "stderr",
     "output_type": "stream",
     "text": [
      " [13] \u001b[1m#methods_by_execution!#9\u001b[22m\u001b[1m(\u001b[22m::Base.Iterators.Pairs{Symbol,Bool,Tuple{Symbol},NamedTuple{(:define,),Tuple{Bool}}}, ::Function, ::Any, ::Revise.CodeTrackingMethodInfo, ::Dict{Module,Array{Expr,1}}, ::Module, ::Expr\u001b[1m)\u001b[22m at \u001b[1m/home/nathan/.julia/packages/Revise/agmgx/src/lowered.jl:49\u001b[22m\n",
      " [14] \u001b[1m#methods_by_execution!\u001b[22m at \u001b[1m./none:0\u001b[22m [inlined]\n",
      " [15] \u001b[1m#eval_with_signatures#59\u001b[22m at \u001b[1m/home/nathan/.julia/packages/Revise/agmgx/src/Revise.jl:344\u001b[22m [inlined]\n",
      " [16] \u001b[1m#eval_with_signatures\u001b[22m at \u001b[1m./none:0\u001b[22m [inlined]\n",
      " [17] \u001b[1m#instantiate_sigs!#60\u001b[22m\u001b[1m(\u001b[22m::Bool, ::Base.Iterators.Pairs{Union{},Union{},Tuple{},NamedTuple{(),Tuple{}}}, ::Function, ::OrderedCollections.OrderedDict{Module,OrderedCollections.OrderedDict{Revise.RelocatableExpr,Union{Nothing, Array{Any,1}}}}\u001b[1m)\u001b[22m at \u001b[1m/home/nathan/.julia/packages/Revise/agmgx/src/Revise.jl:352\u001b[22m\n",
      " [18] \u001b[1minstantiate_sigs!\u001b[22m at \u001b[1m/home/nathan/.julia/packages/Revise/agmgx/src/Revise.jl:349\u001b[22m [inlined]\n",
      " [19] \u001b[1mmaybe_parse_from_cache!\u001b[22m\u001b[1m(\u001b[22m::Revise.PkgData, ::String\u001b[1m)\u001b[22m at \u001b[1m/home/nathan/.julia/packages/Revise/agmgx/src/pkgs.jl:224\u001b[22m\n",
      " [20] \u001b[1m(::getfield(Revise, Symbol(\"##26#27\")){String})\u001b[22m\u001b[1m(\u001b[22m\u001b[1m)\u001b[22m at \u001b[1m/home/nathan/.julia/packages/Revise/agmgx/src/pkgs.jl:370\u001b[22m\n",
      " [21] \u001b[1mwith_logstate\u001b[22m\u001b[1m(\u001b[22m::getfield(Revise, Symbol(\"##26#27\")){String}, ::Base.CoreLogging.LogState\u001b[1m)\u001b[22m at \u001b[1m./logging.jl:395\u001b[22m\n",
      " [22] \u001b[1mwith_logger\u001b[22m at \u001b[1m./logging.jl:491\u001b[22m [inlined]\n",
      " [23] \u001b[1mwatch_manifest\u001b[22m\u001b[1m(\u001b[22m::String\u001b[1m)\u001b[22m at \u001b[1m/home/nathan/.julia/packages/Revise/agmgx/src/pkgs.jl:349\u001b[22m\n",
      " [24] \u001b[1m(::Revise.Rescheduler{typeof(Revise.watch_manifest),Tuple{String}})\u001b[22m\u001b[1m(\u001b[22m\u001b[1m)\u001b[22m at \u001b[1m/home/nathan/.julia/packages/Revise/agmgx/src/types.jl:235\u001b[22m\n",
      "while evaluating\n",
      "function objinfo(obj::Union{HDF5File, HDF5Object})\n",
      "    #= /home/nathan/.julia/packages/HDF5/2gJEi/src/HDF5.jl:1069 =#\n",
      "    h5o_get_info(obj.id, H5OINFO_TEMP_ARRAY)\n",
      "    #= /home/nathan/.julia/packages/HDF5/2gJEi/src/HDF5.jl:1070 =#\n",
      "    H5OINFO_TEMP_ARRAY[]\n",
      "end\n",
      "in module Main.HDF5\n",
      "\u001b[91mTypeError: in Union, in parameter, expected Type, got typeof(Main.HDF5.HDF5Group)\u001b[39m\n",
      "Stacktrace:\n",
      " [1] \u001b[1mmaybe_evaluate_builtin\u001b[22m\u001b[1m(\u001b[22m::JuliaInterpreter.Frame, ::Expr, ::Bool\u001b[1m)\u001b[22m at \u001b[1m/home/nathan/.julia/packages/JuliaInterpreter/Or807/src/builtins.jl:86\u001b[22m\n",
      " [2] \u001b[1m#evaluate_call_recurse!#37\u001b[22m\u001b[1m(\u001b[22m::Bool, ::Function, ::Any, ::JuliaInterpreter.Frame, ::Expr\u001b[1m)\u001b[22m at \u001b[1m/home/nathan/.julia/packages/JuliaInterpreter/Or807/src/interpret.jl:209\u001b[22m\n",
      " [3] \u001b[1mevaluate_call_recurse!\u001b[22m at \u001b[1m/home/nathan/.julia/packages/JuliaInterpreter/Or807/src/interpret.jl:206\u001b[22m [inlined]\n",
      " [4] \u001b[1meval_rhs\u001b[22m\u001b[1m(\u001b[22m::Any, ::JuliaInterpreter.Frame, ::Expr\u001b[1m)\u001b[22m at \u001b[1m/home/nathan/.julia/packages/JuliaInterpreter/Or807/src/interpret.jl:381\u001b[22m\n",
      " [5] \u001b[1mstep_expr!\u001b[22m\u001b[1m(\u001b[22m::Any, ::JuliaInterpreter.Frame, ::Any, ::Bool\u001b[1m)\u001b[22m at \u001b[1m/home/nathan/.julia/packages/JuliaInterpreter/Or807/src/interpret.jl:509\u001b[22m\n",
      " [6] \u001b[1msignature\u001b[22m\u001b[1m(\u001b[22m::Any, ::JuliaInterpreter.Frame, ::Any, ::Int64\u001b[1m)\u001b[22m at \u001b[1m/home/nathan/.julia/packages/LoweredCodeUtils/6EZqd/src/LoweredCodeUtils.jl:146\u001b[22m\n",
      " [7] \u001b[1m#methoddef!#3\u001b[22m\u001b[1m(\u001b[22m::Bool, ::Function, ::Any, ::Array{Any,1}, ::JuliaInterpreter.Frame, ::Any, ::Int64\u001b[1m)\u001b[22m at \u001b[1m/home/nathan/.julia/packages/LoweredCodeUtils/6EZqd/src/LoweredCodeUtils.jl:420\u001b[22m\n",
      " [8] \u001b[1m(::getfield(LoweredCodeUtils, Symbol(\"#kw##methoddef!\")))\u001b[22m\u001b[1m(\u001b[22m::NamedTuple{(:define,),Tuple{Bool}}, ::typeof(LoweredCodeUtils.methoddef!), ::Function, ::Array{Any,1}, ::JuliaInterpreter.Frame, ::Expr, ::Int64\u001b[1m)\u001b[22m at \u001b[1m./none:0\u001b[22m\n",
      " [9] \u001b[1m#methods_by_execution!#14\u001b[22m\u001b[1m(\u001b[22m::Bool, ::Bool, ::Function, ::Any, ::Revise.CodeTrackingMethodInfo, ::Dict{Module,Array{Expr,1}}, ::JuliaInterpreter.Frame\u001b[1m)\u001b[22m at \u001b[1m/home/nathan/.julia/packages/Revise/agmgx/src/lowered.jl:81\u001b[22m\n",
      " [10] \u001b[1m#methods_by_execution!\u001b[22m at \u001b[1m./none:0\u001b[22m [inlined]\n",
      " [11] \u001b[1m#methods_by_execution!#9\u001b[22m\u001b[1m(\u001b[22m::Base.Iterators.Pairs{Symbol,Bool,Tuple{Symbol},NamedTuple{(:define,),Tuple{Bool}}}, ::Function, ::Any, ::Revise.CodeTrackingMethodInfo, ::Dict{Module,Array{Expr,1}}, ::Module, ::Expr\u001b[1m)\u001b[22m at \u001b[1m/home/nathan/.julia/packages/Revise/agmgx/src/lowered.jl:49\u001b[22m\n",
      " [12] \u001b[1m#methods_by_execution!\u001b[22m at \u001b[1m./none:0\u001b[22m [inlined]\n",
      " [13] \u001b[1m#eval_with_signatures#59\u001b[22m at \u001b[1m/home/nathan/.julia/packages/Revise/agmgx/src/Revise.jl:344\u001b[22m [inlined]\n",
      " [14] \u001b[1m#eval_with_signatures\u001b[22m at \u001b[1m./none:0\u001b[22m [inlined]\n",
      " [15] \u001b[1m#instantiate_sigs!#60\u001b[22m\u001b[1m(\u001b[22m::Bool, ::Base.Iterators.Pairs{Union{},Union{},Tuple{},NamedTuple{(),Tuple{}}}, ::Function, ::OrderedCollections.OrderedDict{Module,OrderedCollections.OrderedDict{Revise.RelocatableExpr,Union{Nothing, Array{Any,1}}}}\u001b[1m)\u001b[22m at \u001b[1m/home/nathan/.julia/packages/Revise/agmgx/src/Revise.jl:352\u001b[22m\n",
      " [16] \u001b[1minstantiate_sigs!\u001b[22m at \u001b[1m/home/nathan/.julia/packages/Revise/agmgx/src/Revise.jl:349\u001b[22m [inlined]\n",
      " [17] \u001b[1mmaybe_parse_from_cache!\u001b[22m\u001b[1m(\u001b[22m::Revise.PkgData, ::String\u001b[1m)\u001b[22m at \u001b[1m/home/nathan/.julia/packages/Revise/agmgx/src/pkgs.jl:224\u001b[22m\n",
      " [18] \u001b[1m(::getfield(Revise, Symbol(\"##26#27\")){String})\u001b[22m\u001b[1m(\u001b[22m\u001b[1m)\u001b[22m at \u001b[1m/home/nathan/.julia/packages/Revise/agmgx/src/pkgs.jl:370\u001b[22m\n",
      " [19] \u001b[1mwith_logstate\u001b[22m\u001b[1m(\u001b[22m::getfield(Revise, Symbol(\"##26#27\")){String}, ::Base.CoreLogging.LogState\u001b[1m)\u001b[22m at \u001b[1m./logging.jl:395\u001b[22m\n",
      " [20] \u001b[1mwith_logger\u001b[22m at \u001b[1m./logging.jl:491\u001b[22m [inlined]\n",
      " [21] \u001b[1mwatch_manifest\u001b[22m\u001b[1m(\u001b[22m::String\u001b[1m)\u001b[22m at \u001b[1m/home/nathan/.julia/packages/Revise/agmgx/src/pkgs.jl:349\u001b[22m\n",
      " [22] \u001b[1m(::Revise.Rescheduler{typeof(Revise.watch_manifest),Tuple{String}})\u001b[22m\u001b[1m(\u001b[22m\u001b[1m)\u001b[22m at \u001b[1m/home/nathan/.julia/packages/Revise/agmgx/src/types.jl:235\u001b[22m\n",
      "while evaluating\n",
      "function length(x::Union{HDF5Group, HDF5File})\n",
      "    #= /home/nathan/.julia/packages/HDF5/2gJEi/src/HDF5.jl:1075 =#\n",
      "    h5g_get_num_objs(x.id, LENGTH_TEMP_ARRAY)\n",
      "    #= /home/nathan/.julia/packages/HDF5/2gJEi/src/HDF5.jl:1076 =#\n",
      "    LENGTH_TEMP_ARRAY[]\n",
      "end\n",
      "in module Main.HDF5\n",
      "\u001b[91mTypeError: in Union, in parameter, expected Type, got typeof(Main.HDF5.HDF5Dataset)\u001b[39m\n",
      "Stacktrace:\n",
      " [1] \u001b[1mmaybe_evaluate_builtin\u001b[22m\u001b[1m(\u001b[22m::JuliaInterpreter.Frame, ::Expr, ::Bool\u001b[1m)\u001b[22m at \u001b[1m/home/nathan/.julia/packages/JuliaInterpreter/Or807/src/builtins.jl:86\u001b[22m\n",
      " [2] \u001b[1m#evaluate_call_recurse!#37\u001b[22m\u001b[1m(\u001b[22m::Bool, ::Function, ::Any, ::JuliaInterpreter.Frame, ::Expr\u001b[1m)\u001b[22m at \u001b[1m/home/nathan/.julia/packages/JuliaInterpreter/Or807/src/interpret.jl:209\u001b[22m\n",
      " [3] \u001b[1mevaluate_call_recurse!\u001b[22m at \u001b[1m/home/nathan/.julia/packages/JuliaInterpreter/Or807/src/interpret.jl:206\u001b[22m [inlined]\n",
      " [4] \u001b[1meval_rhs\u001b[22m\u001b[1m(\u001b[22m::Any, ::JuliaInterpreter.Frame, ::Expr\u001b[1m)\u001b[22m at \u001b[1m/home/nathan/.julia/packages/JuliaInterpreter/Or807/src/interpret.jl:381\u001b[22m\n",
      " [5] \u001b[1mstep_expr!\u001b[22m\u001b[1m(\u001b[22m::Any, ::JuliaInterpreter.Frame, ::Any, ::Bool\u001b[1m)\u001b[22m at \u001b[1m/home/nathan/.julia/packages/JuliaInterpreter/Or807/src/interpret.jl:509\u001b[22m\n",
      " [6] \u001b[1msignature\u001b[22m\u001b[1m(\u001b[22m::Any, ::JuliaInterpreter.Frame, ::Any, ::Int64\u001b[1m)\u001b[22m at \u001b[1m/home/nathan/.julia/packages/LoweredCodeUtils/6EZqd/src/LoweredCodeUtils.jl:146\u001b[22m\n",
      " [7] \u001b[1m#methoddef!#3\u001b[22m\u001b[1m(\u001b[22m::Bool, ::Function, ::Any, ::Array{Any,1}, ::JuliaInterpreter.Frame, ::Any, ::Int64\u001b[1m)\u001b[22m at \u001b[1m/home/nathan/.julia/packages/LoweredCodeUtils/6EZqd/src/LoweredCodeUtils.jl:420\u001b[22m\n",
      " [8] \u001b[1m(::getfield(LoweredCodeUtils, Symbol(\"#kw##methoddef!\")))\u001b[22m\u001b[1m(\u001b[22m::NamedTuple{(:define,),Tuple{Bool}}, ::typeof(LoweredCodeUtils.methoddef!), ::Function, ::Array{Any,1}, ::JuliaInterpreter.Frame, ::Expr, ::Int64\u001b[1m)\u001b[22m at \u001b[1m./none:0\u001b[22m\n",
      " [9] \u001b[1m#methods_by_execution!#14\u001b[22m\u001b[1m(\u001b[22m::Bool, ::Bool, ::Function, ::Any, ::Revise.CodeTrackingMethodInfo, ::Dict{Module,Array{Expr,1}}, ::JuliaInterpreter.Frame\u001b[1m)\u001b[22m at \u001b[1m/home/nathan/.julia/packages/Revise/agmgx/src/lowered.jl:81\u001b[22m\n",
      " [10] \u001b[1m#methods_by_execution!\u001b[22m at \u001b[1m./none:0\u001b[22m [inlined]\n",
      " [11] \u001b[1m#methods_by_execution!#9\u001b[22m\u001b[1m(\u001b[22m::Base.Iterators.Pairs{Symbol,Bool,Tuple{Symbol},NamedTuple{(:define,),Tuple{Bool}}}, ::Function, ::Any, ::Revise.CodeTrackingMethodInfo, ::Dict{Module,Array{Expr,1}}, ::Module, ::Expr\u001b[1m)\u001b[22m at \u001b[1m/home/nathan/.julia/packages/Revise/agmgx/src/lowered.jl:49\u001b[22m\n",
      " [12] \u001b[1m#methods_by_execution!\u001b[22m at \u001b[1m./none:0\u001b[22m [inlined]\n",
      " [13] \u001b[1m#eval_with_signatures#59\u001b[22m at \u001b[1m/home/nathan/.julia/packages/Revise/agmgx/src/Revise.jl:344\u001b[22m [inlined]\n",
      " [14] \u001b[1m#eval_with_signatures\u001b[22m at \u001b[1m./none:0\u001b[22m [inlined]\n",
      " [15] \u001b[1m#instantiate_sigs!#60\u001b[22m\u001b[1m(\u001b[22m::Bool, ::Base.Iterators.Pairs{Union{},Union{},Tuple{},NamedTuple{(),Tuple{}}}, ::Function, ::OrderedCollections.OrderedDict{Module,OrderedCollections.OrderedDict{Revise.RelocatableExpr,Union{Nothing, Array{Any,1}}}}\u001b[1m)\u001b[22m at \u001b[1m/home/nathan/.julia/packages/Revise/agmgx/src/Revise.jl:352\u001b[22m\n",
      " [16] \u001b[1minstantiate_sigs!\u001b[22m at \u001b[1m/home/nathan/.julia/packages/Revise/agmgx/src/Revise.jl:349\u001b[22m [inlined]\n",
      " [17] \u001b[1mmaybe_parse_from_cache!\u001b[22m\u001b[1m(\u001b[22m::Revise.PkgData, ::String\u001b[1m)\u001b[22m at \u001b[1m/home/nathan/.julia/packages/Revise/agmgx/src/pkgs.jl:224\u001b[22m\n",
      " [18] \u001b[1m(::getfield(Revise, Symbol(\"##26#27\")){String})\u001b[22m\u001b[1m(\u001b[22m\u001b[1m)\u001b[22m at \u001b[1m/home/nathan/.julia/packages/Revise/agmgx/src/pkgs.jl:370\u001b[22m\n",
      " [19] \u001b[1mwith_logstate\u001b[22m\u001b[1m(\u001b[22m::getfield(Revise, Symbol(\"##26#27\")){String}, ::Base.CoreLogging.LogState\u001b[1m)\u001b[22m at \u001b[1m./logging.jl:395\u001b[22m\n",
      " [20] \u001b[1mwith_logger\u001b[22m at \u001b[1m./logging.jl:491\u001b[22m [inlined]\n",
      " [21] \u001b[1mwatch_manifest\u001b[22m\u001b[1m(\u001b[22m::String\u001b[1m)\u001b[22m at \u001b[1m/home/nathan/.julia/packages/Revise/agmgx/src/pkgs.jl:349\u001b[22m\n",
      " [22] \u001b[1m(::Revise.Rescheduler{typeof(Revise.watch_manifest),Tuple{String}})\u001b[22m\u001b[1m(\u001b[22m\u001b[1m)\u001b[22m at \u001b[1m/home/nathan/.julia/packages/Revise/agmgx/src/types.jl:235\u001b[22m\n",
      "while evaluating\n",
      "isempty(x::Union{HDF5Dataset, HDF5Group, HDF5File}) = begin\n",
      "        #= /home/nathan/.julia/packages/HDF5/2gJEi/src/HDF5.jl:1083 =#\n"
     ]
    },
    {
     "name": "stderr",
     "output_type": "stream",
     "text": [
      "        length(x) == 0\n",
      "    end\n",
      "in module Main.HDF5\n",
      "\u001b[91mTypeError: in Union, in parameter, expected Type, got typeof(Main.HDF5.HDF5Dataset)\u001b[39m\n",
      "Stacktrace:\n",
      " [1] \u001b[1mmaybe_evaluate_builtin\u001b[22m\u001b[1m(\u001b[22m::JuliaInterpreter.Frame, ::Expr, ::Bool\u001b[1m)\u001b[22m at \u001b[1m/home/nathan/.julia/packages/JuliaInterpreter/Or807/src/builtins.jl:86\u001b[22m\n",
      " [2] \u001b[1m#evaluate_call_recurse!#37\u001b[22m\u001b[1m(\u001b[22m::Bool, ::Function, ::Any, ::JuliaInterpreter.Frame, ::Expr\u001b[1m)\u001b[22m at \u001b[1m/home/nathan/.julia/packages/JuliaInterpreter/Or807/src/interpret.jl:209\u001b[22m\n",
      " [3] \u001b[1mevaluate_call_recurse!\u001b[22m at \u001b[1m/home/nathan/.julia/packages/JuliaInterpreter/Or807/src/interpret.jl:206\u001b[22m [inlined]\n",
      " [4] \u001b[1meval_rhs\u001b[22m\u001b[1m(\u001b[22m::Any, ::JuliaInterpreter.Frame, ::Expr\u001b[1m)\u001b[22m at \u001b[1m/home/nathan/.julia/packages/JuliaInterpreter/Or807/src/interpret.jl:381\u001b[22m\n",
      " [5] \u001b[1mstep_expr!\u001b[22m\u001b[1m(\u001b[22m::Any, ::JuliaInterpreter.Frame, ::Any, ::Bool\u001b[1m)\u001b[22m at \u001b[1m/home/nathan/.julia/packages/JuliaInterpreter/Or807/src/interpret.jl:509\u001b[22m\n",
      " [6] \u001b[1msignature\u001b[22m\u001b[1m(\u001b[22m::Any, ::JuliaInterpreter.Frame, ::Any, ::Int64\u001b[1m)\u001b[22m at \u001b[1m/home/nathan/.julia/packages/LoweredCodeUtils/6EZqd/src/LoweredCodeUtils.jl:146\u001b[22m\n",
      " [7] \u001b[1m#methoddef!#3\u001b[22m\u001b[1m(\u001b[22m::Bool, ::Function, ::Any, ::Array{Any,1}, ::JuliaInterpreter.Frame, ::Any, ::Int64\u001b[1m)\u001b[22m at \u001b[1m/home/nathan/.julia/packages/LoweredCodeUtils/6EZqd/src/LoweredCodeUtils.jl:420\u001b[22m\n",
      " [8] \u001b[1m(::getfield(LoweredCodeUtils, Symbol(\"#kw##methoddef!\")))\u001b[22m\u001b[1m(\u001b[22m::NamedTuple{(:define,),Tuple{Bool}}, ::typeof(LoweredCodeUtils.methoddef!), ::Function, ::Array{Any,1}, ::JuliaInterpreter.Frame, ::Expr, ::Int64\u001b[1m)\u001b[22m at \u001b[1m./none:0\u001b[22m\n",
      " [9] \u001b[1m#methods_by_execution!#14\u001b[22m\u001b[1m(\u001b[22m::Bool, ::Bool, ::Function, ::Any, ::Revise.CodeTrackingMethodInfo, ::Dict{Module,Array{Expr,1}}, ::JuliaInterpreter.Frame\u001b[1m)\u001b[22m at \u001b[1m/home/nathan/.julia/packages/Revise/agmgx/src/lowered.jl:81\u001b[22m\n",
      " [10] \u001b[1m#methods_by_execution!\u001b[22m at \u001b[1m./none:0\u001b[22m [inlined]\n",
      " [11] \u001b[1m#methods_by_execution!#9\u001b[22m\u001b[1m(\u001b[22m::Base.Iterators.Pairs{Symbol,Bool,Tuple{Symbol},NamedTuple{(:define,),Tuple{Bool}}}, ::Function, ::Any, ::Revise.CodeTrackingMethodInfo, ::Dict{Module,Array{Expr,1}}, ::Module, ::Expr\u001b[1m)\u001b[22m at \u001b[1m/home/nathan/.julia/packages/Revise/agmgx/src/lowered.jl:49\u001b[22m\n",
      " [12] \u001b[1m#methods_by_execution!\u001b[22m at \u001b[1m./none:0\u001b[22m [inlined]\n",
      " [13] \u001b[1m#eval_with_signatures#59\u001b[22m at \u001b[1m/home/nathan/.julia/packages/Revise/agmgx/src/Revise.jl:344\u001b[22m [inlined]\n",
      " [14] \u001b[1m#eval_with_signatures\u001b[22m at \u001b[1m./none:0\u001b[22m [inlined]\n",
      " [15] \u001b[1m#instantiate_sigs!#60\u001b[22m\u001b[1m(\u001b[22m::Bool, ::Base.Iterators.Pairs{Union{},Union{},Tuple{},NamedTuple{(),Tuple{}}}, ::Function, ::OrderedCollections.OrderedDict{Module,OrderedCollections.OrderedDict{Revise.RelocatableExpr,Union{Nothing, Array{Any,1}}}}\u001b[1m)\u001b[22m at \u001b[1m/home/nathan/.julia/packages/Revise/agmgx/src/Revise.jl:352\u001b[22m\n",
      " [16] \u001b[1minstantiate_sigs!\u001b[22m at \u001b[1m/home/nathan/.julia/packages/Revise/agmgx/src/Revise.jl:349\u001b[22m [inlined]\n",
      " [17] \u001b[1mmaybe_parse_from_cache!\u001b[22m\u001b[1m(\u001b[22m::Revise.PkgData, ::String\u001b[1m)\u001b[22m at \u001b[1m/home/nathan/.julia/packages/Revise/agmgx/src/pkgs.jl:224\u001b[22m\n",
      " [18] \u001b[1m(::getfield(Revise, Symbol(\"##26#27\")){String})\u001b[22m\u001b[1m(\u001b[22m\u001b[1m)\u001b[22m at \u001b[1m/home/nathan/.julia/packages/Revise/agmgx/src/pkgs.jl:370\u001b[22m\n",
      " [19] \u001b[1mwith_logstate\u001b[22m\u001b[1m(\u001b[22m::getfield(Revise, Symbol(\"##26#27\")){String}, ::Base.CoreLogging.LogState\u001b[1m)\u001b[22m at \u001b[1m./logging.jl:395\u001b[22m\n",
      " [20] \u001b[1mwith_logger\u001b[22m at \u001b[1m./logging.jl:491\u001b[22m [inlined]\n",
      " [21] \u001b[1mwatch_manifest\u001b[22m\u001b[1m(\u001b[22m::String\u001b[1m)\u001b[22m at \u001b[1m/home/nathan/.julia/packages/Revise/agmgx/src/pkgs.jl:349\u001b[22m\n",
      " [22] \u001b[1m(::Revise.Rescheduler{typeof(Revise.watch_manifest),Tuple{String}})\u001b[22m\u001b[1m(\u001b[22m\u001b[1m)\u001b[22m at \u001b[1m/home/nathan/.julia/packages/Revise/agmgx/src/types.jl:235\u001b[22m\n",
      "while evaluating\n",
      "function size(obj::Union{HDF5Dataset, HDF5Attribute})\n",
      "    #= /home/nathan/.julia/packages/HDF5/2gJEi/src/HDF5.jl:1085 =#\n",
      "    dspace = dataspace(obj)\n",
      "    #= /home/nathan/.julia/packages/HDF5/2gJEi/src/HDF5.jl:1086 =#\n",
      "    (dims, maxdims) = get_dims(dspace)\n",
      "    #= /home/nathan/.julia/packages/HDF5/2gJEi/src/HDF5.jl:1087 =#\n",
      "    close(dspace)\n",
      "    #= /home/nathan/.julia/packages/HDF5/2gJEi/src/HDF5.jl:1088 =#\n",
      "    convert(Tuple{Vararg{Int}}, dims)\n",
      "end\n",
      "in module Main.HDF5\n",
      "\u001b[91mTypeError: in Union, in parameter, expected Type, got typeof(Main.HDF5.HDF5Dataset)\u001b[39m\n",
      "Stacktrace:\n",
      " [1] \u001b[1mmaybe_evaluate_builtin\u001b[22m\u001b[1m(\u001b[22m::JuliaInterpreter.Frame, ::Expr, ::Bool\u001b[1m)\u001b[22m at \u001b[1m/home/nathan/.julia/packages/JuliaInterpreter/Or807/src/builtins.jl:86\u001b[22m\n",
      " [2] \u001b[1m#evaluate_call_recurse!#37\u001b[22m\u001b[1m(\u001b[22m::Bool, ::Function, ::Any, ::JuliaInterpreter.Frame, ::Expr\u001b[1m)\u001b[22m at \u001b[1m/home/nathan/.julia/packages/JuliaInterpreter/Or807/src/interpret.jl:209\u001b[22m\n",
      " [3] \u001b[1mevaluate_call_recurse!\u001b[22m at \u001b[1m/home/nathan/.julia/packages/JuliaInterpreter/Or807/src/interpret.jl:206\u001b[22m [inlined]\n",
      " [4] \u001b[1meval_rhs\u001b[22m\u001b[1m(\u001b[22m::Any, ::JuliaInterpreter.Frame, ::Expr\u001b[1m)\u001b[22m at \u001b[1m/home/nathan/.julia/packages/JuliaInterpreter/Or807/src/interpret.jl:381\u001b[22m\n",
      " [5] \u001b[1mstep_expr!\u001b[22m\u001b[1m(\u001b[22m::Any, ::JuliaInterpreter.Frame, ::Any, ::Bool\u001b[1m)\u001b[22m at \u001b[1m/home/nathan/.julia/packages/JuliaInterpreter/Or807/src/interpret.jl:509\u001b[22m\n",
      " [6] \u001b[1msignature\u001b[22m\u001b[1m(\u001b[22m::Any, ::JuliaInterpreter.Frame, ::Any, ::Int64\u001b[1m)\u001b[22m at \u001b[1m/home/nathan/.julia/packages/LoweredCodeUtils/6EZqd/src/LoweredCodeUtils.jl:146\u001b[22m\n",
      " [7] \u001b[1m#methoddef!#3\u001b[22m\u001b[1m(\u001b[22m::Bool, ::Function, ::Any, ::Array{Any,1}, ::JuliaInterpreter.Frame, ::Any, ::Int64\u001b[1m)\u001b[22m at \u001b[1m/home/nathan/.julia/packages/LoweredCodeUtils/6EZqd/src/LoweredCodeUtils.jl:420\u001b[22m\n",
      " [8] \u001b[1m(::getfield(LoweredCodeUtils, Symbol(\"#kw##methoddef!\")))\u001b[22m\u001b[1m(\u001b[22m::NamedTuple{(:define,),Tuple{Bool}}, ::typeof(LoweredCodeUtils.methoddef!), ::Function, ::Array{Any,1}, ::JuliaInterpreter.Frame, ::Expr, ::Int64\u001b[1m)\u001b[22m at \u001b[1m./none:0\u001b[22m\n",
      " [9] \u001b[1m#methods_by_execution!#14\u001b[22m\u001b[1m(\u001b[22m::Bool, ::Bool, ::Function, ::Any, ::Revise.CodeTrackingMethodInfo, ::Dict{Module,Array{Expr,1}}, ::JuliaInterpreter.Frame\u001b[1m)\u001b[22m at \u001b[1m/home/nathan/.julia/packages/Revise/agmgx/src/lowered.jl:81\u001b[22m\n",
      " [10] \u001b[1m#methods_by_execution!\u001b[22m at \u001b[1m./none:0\u001b[22m [inlined]\n",
      " [11] \u001b[1m#methods_by_execution!#9\u001b[22m\u001b[1m(\u001b[22m::Base.Iterators.Pairs{Symbol,Bool,Tuple{Symbol},NamedTuple{(:define,),Tuple{Bool}}}, ::Function, ::Any, ::Revise.CodeTrackingMethodInfo, ::Dict{Module,Array{Expr,1}}, ::Module, ::Expr\u001b[1m)\u001b[22m at \u001b[1m/home/nathan/.julia/packages/Revise/agmgx/src/lowered.jl:49\u001b[22m\n",
      " [12] \u001b[1m#methods_by_execution!\u001b[22m at \u001b[1m./none:0\u001b[22m [inlined]\n",
      " [13] \u001b[1m#eval_with_signatures#59\u001b[22m at \u001b[1m/home/nathan/.julia/packages/Revise/agmgx/src/Revise.jl:344\u001b[22m [inlined]\n",
      " [14] \u001b[1m#eval_with_signatures\u001b[22m at \u001b[1m./none:0\u001b[22m [inlined]\n",
      " [15] \u001b[1m#instantiate_sigs!#60\u001b[22m\u001b[1m(\u001b[22m::Bool, ::Base.Iterators.Pairs{Union{},Union{},Tuple{},NamedTuple{(),Tuple{}}}, ::Function, ::OrderedCollections.OrderedDict{Module,OrderedCollections.OrderedDict{Revise.RelocatableExpr,Union{Nothing, Array{Any,1}}}}\u001b[1m)\u001b[22m at \u001b[1m/home/nathan/.julia/packages/Revise/agmgx/src/Revise.jl:352\u001b[22m\n",
      " [16] \u001b[1minstantiate_sigs!\u001b[22m at \u001b[1m/home/nathan/.julia/packages/Revise/agmgx/src/Revise.jl:349\u001b[22m [inlined]\n",
      " [17] \u001b[1mmaybe_parse_from_cache!\u001b[22m\u001b[1m(\u001b[22m::Revise.PkgData, ::String\u001b[1m)\u001b[22m at \u001b[1m/home/nathan/.julia/packages/Revise/agmgx/src/pkgs.jl:224\u001b[22m\n",
      " [18] \u001b[1m(::getfield(Revise, Symbol(\"##26#27\")){String})\u001b[22m\u001b[1m(\u001b[22m\u001b[1m)\u001b[22m at \u001b[1m/home/nathan/.julia/packages/Revise/agmgx/src/pkgs.jl:370\u001b[22m\n",
      " [19] \u001b[1mwith_logstate\u001b[22m\u001b[1m(\u001b[22m::getfield(Revise, Symbol(\"##26#27\")){String}, ::Base.CoreLogging.LogState\u001b[1m)\u001b[22m at \u001b[1m./logging.jl:395\u001b[22m\n",
      " [20] \u001b[1mwith_logger\u001b[22m at \u001b[1m./logging.jl:491\u001b[22m [inlined]\n",
      " [21] \u001b[1mwatch_manifest\u001b[22m\u001b[1m(\u001b[22m::String\u001b[1m)\u001b[22m at \u001b[1m/home/nathan/.julia/packages/Revise/agmgx/src/pkgs.jl:349\u001b[22m\n",
      " [22] \u001b[1m(::Revise.Rescheduler{typeof(Revise.watch_manifest),Tuple{String}})\u001b[22m\u001b[1m(\u001b[22m\u001b[1m)\u001b[22m at \u001b[1m/home/nathan/.julia/packages/Revise/agmgx/src/types.jl:235\u001b[22m\n",
      "while evaluating\n",
      "size(dset::Union{HDF5Dataset, HDF5Attribute}, d) = begin\n",
      "        #= /home/nathan/.julia/packages/HDF5/2gJEi/src/HDF5.jl:1090 =#\n",
      "        if d > ndims(dset)\n",
      "            1\n",
      "        else\n",
      "            (size(dset))[d]\n",
      "        end\n",
      "    end\n",
      "in module Main.HDF5\n",
      "\u001b[91mTypeError: in Union, in parameter, expected Type, got typeof(Main.HDF5.HDF5Dataset)\u001b[39m\n",
      "Stacktrace:\n",
      " [1] \u001b[1mmaybe_evaluate_builtin\u001b[22m\u001b[1m(\u001b[22m::JuliaInterpreter.Frame, ::Expr, ::Bool\u001b[1m)\u001b[22m at \u001b[1m/home/nathan/.julia/packages/JuliaInterpreter/Or807/src/builtins.jl:86\u001b[22m\n",
      " [2] \u001b[1m#evaluate_call_recurse!#37\u001b[22m\u001b[1m(\u001b[22m::Bool, ::Function, ::Any, ::JuliaInterpreter.Frame, ::Expr\u001b[1m)\u001b[22m at \u001b[1m/home/nathan/.julia/packages/JuliaInterpreter/Or807/src/interpret.jl:209\u001b[22m\n",
      " [3] \u001b[1mevaluate_call_recurse!\u001b[22m at \u001b[1m/home/nathan/.julia/packages/JuliaInterpreter/Or807/src/interpret.jl:206\u001b[22m [inlined]\n",
      " [4] \u001b[1meval_rhs\u001b[22m\u001b[1m(\u001b[22m::Any, ::JuliaInterpreter.Frame, ::Expr\u001b[1m)\u001b[22m at \u001b[1m/home/nathan/.julia/packages/JuliaInterpreter/Or807/src/interpret.jl:381\u001b[22m\n",
      " [5] \u001b[1mstep_expr!\u001b[22m\u001b[1m(\u001b[22m::Any, ::JuliaInterpreter.Frame, ::Any, ::Bool\u001b[1m)\u001b[22m at \u001b[1m/home/nathan/.julia/packages/JuliaInterpreter/Or807/src/interpret.jl:509\u001b[22m\n",
      " [6] \u001b[1msignature\u001b[22m\u001b[1m(\u001b[22m::Any, ::JuliaInterpreter.Frame, ::Any, ::Int64\u001b[1m)\u001b[22m at \u001b[1m/home/nathan/.julia/packages/LoweredCodeUtils/6EZqd/src/LoweredCodeUtils.jl:146\u001b[22m\n",
      " [7] \u001b[1m#methoddef!#3\u001b[22m\u001b[1m(\u001b[22m::Bool, ::Function, ::Any, ::Array{Any,1}, ::JuliaInterpreter.Frame, ::Any, ::Int64\u001b[1m)\u001b[22m at \u001b[1m/home/nathan/.julia/packages/LoweredCodeUtils/6EZqd/src/LoweredCodeUtils.jl:420\u001b[22m\n",
      " [8] \u001b[1m(::getfield(LoweredCodeUtils, Symbol(\"#kw##methoddef!\")))\u001b[22m\u001b[1m(\u001b[22m::NamedTuple{(:define,),Tuple{Bool}}, ::typeof(LoweredCodeUtils.methoddef!), ::Function, ::Array{Any,1}, ::JuliaInterpreter.Frame, ::Expr, ::Int64\u001b[1m)\u001b[22m at \u001b[1m./none:0\u001b[22m\n"
     ]
    },
    {
     "name": "stderr",
     "output_type": "stream",
     "text": [
      " [9] \u001b[1m#methods_by_execution!#14\u001b[22m\u001b[1m(\u001b[22m::Bool, ::Bool, ::Function, ::Any, ::Revise.CodeTrackingMethodInfo, ::Dict{Module,Array{Expr,1}}, ::JuliaInterpreter.Frame\u001b[1m)\u001b[22m at \u001b[1m/home/nathan/.julia/packages/Revise/agmgx/src/lowered.jl:81\u001b[22m\n",
      " [10] \u001b[1m#methods_by_execution!\u001b[22m at \u001b[1m./none:0\u001b[22m [inlined]\n",
      " [11] \u001b[1m#methods_by_execution!#9\u001b[22m\u001b[1m(\u001b[22m::Base.Iterators.Pairs{Symbol,Bool,Tuple{Symbol},NamedTuple{(:define,),Tuple{Bool}}}, ::Function, ::Any, ::Revise.CodeTrackingMethodInfo, ::Dict{Module,Array{Expr,1}}, ::Module, ::Expr\u001b[1m)\u001b[22m at \u001b[1m/home/nathan/.julia/packages/Revise/agmgx/src/lowered.jl:49\u001b[22m\n",
      " [12] \u001b[1m#methods_by_execution!\u001b[22m at \u001b[1m./none:0\u001b[22m [inlined]\n",
      " [13] \u001b[1m#eval_with_signatures#59\u001b[22m at \u001b[1m/home/nathan/.julia/packages/Revise/agmgx/src/Revise.jl:344\u001b[22m [inlined]\n",
      " [14] \u001b[1m#eval_with_signatures\u001b[22m at \u001b[1m./none:0\u001b[22m [inlined]\n",
      " [15] \u001b[1m#instantiate_sigs!#60\u001b[22m\u001b[1m(\u001b[22m::Bool, ::Base.Iterators.Pairs{Union{},Union{},Tuple{},NamedTuple{(),Tuple{}}}, ::Function, ::OrderedCollections.OrderedDict{Module,OrderedCollections.OrderedDict{Revise.RelocatableExpr,Union{Nothing, Array{Any,1}}}}\u001b[1m)\u001b[22m at \u001b[1m/home/nathan/.julia/packages/Revise/agmgx/src/Revise.jl:352\u001b[22m\n",
      " [16] \u001b[1minstantiate_sigs!\u001b[22m at \u001b[1m/home/nathan/.julia/packages/Revise/agmgx/src/Revise.jl:349\u001b[22m [inlined]\n",
      " [17] \u001b[1mmaybe_parse_from_cache!\u001b[22m\u001b[1m(\u001b[22m::Revise.PkgData, ::String\u001b[1m)\u001b[22m at \u001b[1m/home/nathan/.julia/packages/Revise/agmgx/src/pkgs.jl:224\u001b[22m\n",
      " [18] \u001b[1m(::getfield(Revise, Symbol(\"##26#27\")){String})\u001b[22m\u001b[1m(\u001b[22m\u001b[1m)\u001b[22m at \u001b[1m/home/nathan/.julia/packages/Revise/agmgx/src/pkgs.jl:370\u001b[22m\n",
      " [19] \u001b[1mwith_logstate\u001b[22m\u001b[1m(\u001b[22m::getfield(Revise, Symbol(\"##26#27\")){String}, ::Base.CoreLogging.LogState\u001b[1m)\u001b[22m at \u001b[1m./logging.jl:395\u001b[22m\n",
      " [20] \u001b[1mwith_logger\u001b[22m at \u001b[1m./logging.jl:491\u001b[22m [inlined]\n",
      " [21] \u001b[1mwatch_manifest\u001b[22m\u001b[1m(\u001b[22m::String\u001b[1m)\u001b[22m at \u001b[1m/home/nathan/.julia/packages/Revise/agmgx/src/pkgs.jl:349\u001b[22m\n",
      " [22] \u001b[1m(::Revise.Rescheduler{typeof(Revise.watch_manifest),Tuple{String}})\u001b[22m\u001b[1m(\u001b[22m\u001b[1m)\u001b[22m at \u001b[1m/home/nathan/.julia/packages/Revise/agmgx/src/types.jl:235\u001b[22m\n",
      "while evaluating\n",
      "length(dset::Union{HDF5Dataset, HDF5Attribute}) = begin\n",
      "        #= /home/nathan/.julia/packages/HDF5/2gJEi/src/HDF5.jl:1091 =#\n",
      "        prod(size(dset))\n",
      "    end\n",
      "in module Main.HDF5\n",
      "\u001b[91mTypeError: in Union, in parameter, expected Type, got typeof(Main.HDF5.HDF5Dataset)\u001b[39m\n",
      "Stacktrace:\n",
      " [1] \u001b[1mmaybe_evaluate_builtin\u001b[22m\u001b[1m(\u001b[22m::JuliaInterpreter.Frame, ::Expr, ::Bool\u001b[1m)\u001b[22m at \u001b[1m/home/nathan/.julia/packages/JuliaInterpreter/Or807/src/builtins.jl:86\u001b[22m\n",
      " [2] \u001b[1m#evaluate_call_recurse!#37\u001b[22m\u001b[1m(\u001b[22m::Bool, ::Function, ::Any, ::JuliaInterpreter.Frame, ::Expr\u001b[1m)\u001b[22m at \u001b[1m/home/nathan/.julia/packages/JuliaInterpreter/Or807/src/interpret.jl:209\u001b[22m\n",
      " [3] \u001b[1mevaluate_call_recurse!\u001b[22m at \u001b[1m/home/nathan/.julia/packages/JuliaInterpreter/Or807/src/interpret.jl:206\u001b[22m [inlined]\n",
      " [4] \u001b[1meval_rhs\u001b[22m\u001b[1m(\u001b[22m::Any, ::JuliaInterpreter.Frame, ::Expr\u001b[1m)\u001b[22m at \u001b[1m/home/nathan/.julia/packages/JuliaInterpreter/Or807/src/interpret.jl:381\u001b[22m\n",
      " [5] \u001b[1mstep_expr!\u001b[22m\u001b[1m(\u001b[22m::Any, ::JuliaInterpreter.Frame, ::Any, ::Bool\u001b[1m)\u001b[22m at \u001b[1m/home/nathan/.julia/packages/JuliaInterpreter/Or807/src/interpret.jl:509\u001b[22m\n",
      " [6] \u001b[1msignature\u001b[22m\u001b[1m(\u001b[22m::Any, ::JuliaInterpreter.Frame, ::Any, ::Int64\u001b[1m)\u001b[22m at \u001b[1m/home/nathan/.julia/packages/LoweredCodeUtils/6EZqd/src/LoweredCodeUtils.jl:146\u001b[22m\n",
      " [7] \u001b[1m#methoddef!#3\u001b[22m\u001b[1m(\u001b[22m::Bool, ::Function, ::Any, ::Array{Any,1}, ::JuliaInterpreter.Frame, ::Any, ::Int64\u001b[1m)\u001b[22m at \u001b[1m/home/nathan/.julia/packages/LoweredCodeUtils/6EZqd/src/LoweredCodeUtils.jl:420\u001b[22m\n",
      " [8] \u001b[1m(::getfield(LoweredCodeUtils, Symbol(\"#kw##methoddef!\")))\u001b[22m\u001b[1m(\u001b[22m::NamedTuple{(:define,),Tuple{Bool}}, ::typeof(LoweredCodeUtils.methoddef!), ::Function, ::Array{Any,1}, ::JuliaInterpreter.Frame, ::Expr, ::Int64\u001b[1m)\u001b[22m at \u001b[1m./none:0\u001b[22m\n",
      " [9] \u001b[1m#methods_by_execution!#14\u001b[22m\u001b[1m(\u001b[22m::Bool, ::Bool, ::Function, ::Any, ::Revise.CodeTrackingMethodInfo, ::Dict{Module,Array{Expr,1}}, ::JuliaInterpreter.Frame\u001b[1m)\u001b[22m at \u001b[1m/home/nathan/.julia/packages/Revise/agmgx/src/lowered.jl:81\u001b[22m\n",
      " [10] \u001b[1m#methods_by_execution!\u001b[22m at \u001b[1m./none:0\u001b[22m [inlined]\n",
      " [11] \u001b[1m#methods_by_execution!#9\u001b[22m\u001b[1m(\u001b[22m::Base.Iterators.Pairs{Symbol,Bool,Tuple{Symbol},NamedTuple{(:define,),Tuple{Bool}}}, ::Function, ::Any, ::Revise.CodeTrackingMethodInfo, ::Dict{Module,Array{Expr,1}}, ::Module, ::Expr\u001b[1m)\u001b[22m at \u001b[1m/home/nathan/.julia/packages/Revise/agmgx/src/lowered.jl:49\u001b[22m\n",
      " [12] \u001b[1m#methods_by_execution!\u001b[22m at \u001b[1m./none:0\u001b[22m [inlined]\n",
      " [13] \u001b[1m#eval_with_signatures#59\u001b[22m at \u001b[1m/home/nathan/.julia/packages/Revise/agmgx/src/Revise.jl:344\u001b[22m [inlined]\n",
      " [14] \u001b[1m#eval_with_signatures\u001b[22m at \u001b[1m./none:0\u001b[22m [inlined]\n",
      " [15] \u001b[1m#instantiate_sigs!#60\u001b[22m\u001b[1m(\u001b[22m::Bool, ::Base.Iterators.Pairs{Union{},Union{},Tuple{},NamedTuple{(),Tuple{}}}, ::Function, ::OrderedCollections.OrderedDict{Module,OrderedCollections.OrderedDict{Revise.RelocatableExpr,Union{Nothing, Array{Any,1}}}}\u001b[1m)\u001b[22m at \u001b[1m/home/nathan/.julia/packages/Revise/agmgx/src/Revise.jl:352\u001b[22m\n",
      " [16] \u001b[1minstantiate_sigs!\u001b[22m at \u001b[1m/home/nathan/.julia/packages/Revise/agmgx/src/Revise.jl:349\u001b[22m [inlined]\n",
      " [17] \u001b[1mmaybe_parse_from_cache!\u001b[22m\u001b[1m(\u001b[22m::Revise.PkgData, ::String\u001b[1m)\u001b[22m at \u001b[1m/home/nathan/.julia/packages/Revise/agmgx/src/pkgs.jl:224\u001b[22m\n",
      " [18] \u001b[1m(::getfield(Revise, Symbol(\"##26#27\")){String})\u001b[22m\u001b[1m(\u001b[22m\u001b[1m)\u001b[22m at \u001b[1m/home/nathan/.julia/packages/Revise/agmgx/src/pkgs.jl:370\u001b[22m\n",
      " [19] \u001b[1mwith_logstate\u001b[22m\u001b[1m(\u001b[22m::getfield(Revise, Symbol(\"##26#27\")){String}, ::Base.CoreLogging.LogState\u001b[1m)\u001b[22m at \u001b[1m./logging.jl:395\u001b[22m\n",
      " [20] \u001b[1mwith_logger\u001b[22m at \u001b[1m./logging.jl:491\u001b[22m [inlined]\n",
      " [21] \u001b[1mwatch_manifest\u001b[22m\u001b[1m(\u001b[22m::String\u001b[1m)\u001b[22m at \u001b[1m/home/nathan/.julia/packages/Revise/agmgx/src/pkgs.jl:349\u001b[22m\n",
      " [22] \u001b[1m(::Revise.Rescheduler{typeof(Revise.watch_manifest),Tuple{String}})\u001b[22m\u001b[1m(\u001b[22m\u001b[1m)\u001b[22m at \u001b[1m/home/nathan/.julia/packages/Revise/agmgx/src/types.jl:235\u001b[22m\n",
      "while evaluating\n",
      "ndims(dset::Union{HDF5Dataset, HDF5Attribute}) = begin\n",
      "        #= /home/nathan/.julia/packages/HDF5/2gJEi/src/HDF5.jl:1092 =#\n",
      "        length(size(dset))\n",
      "    end\n",
      "in module Main.HDF5\n",
      "\u001b[91mTypeError: in Union, in parameter, expected Type, got typeof(Main.HDF5.HDF5Dataset)\u001b[39m\n",
      "Stacktrace:\n",
      " [1] \u001b[1mmaybe_evaluate_builtin\u001b[22m\u001b[1m(\u001b[22m::JuliaInterpreter.Frame, ::Expr, ::Bool\u001b[1m)\u001b[22m at \u001b[1m/home/nathan/.julia/packages/JuliaInterpreter/Or807/src/builtins.jl:86\u001b[22m\n",
      " [2] \u001b[1m#evaluate_call_recurse!#37\u001b[22m\u001b[1m(\u001b[22m::Bool, ::Function, ::Any, ::JuliaInterpreter.Frame, ::Expr\u001b[1m)\u001b[22m at \u001b[1m/home/nathan/.julia/packages/JuliaInterpreter/Or807/src/interpret.jl:209\u001b[22m\n",
      " [3] \u001b[1mevaluate_call_recurse!\u001b[22m at \u001b[1m/home/nathan/.julia/packages/JuliaInterpreter/Or807/src/interpret.jl:206\u001b[22m [inlined]\n",
      " [4] \u001b[1meval_rhs\u001b[22m\u001b[1m(\u001b[22m::Any, ::JuliaInterpreter.Frame, ::Expr\u001b[1m)\u001b[22m at \u001b[1m/home/nathan/.julia/packages/JuliaInterpreter/Or807/src/interpret.jl:381\u001b[22m\n",
      " [5] \u001b[1mstep_expr!\u001b[22m\u001b[1m(\u001b[22m::Any, ::JuliaInterpreter.Frame, ::Any, ::Bool\u001b[1m)\u001b[22m at \u001b[1m/home/nathan/.julia/packages/JuliaInterpreter/Or807/src/interpret.jl:509\u001b[22m\n",
      " [6] \u001b[1msignature\u001b[22m\u001b[1m(\u001b[22m::Any, ::JuliaInterpreter.Frame, ::Any, ::Int64\u001b[1m)\u001b[22m at \u001b[1m/home/nathan/.julia/packages/LoweredCodeUtils/6EZqd/src/LoweredCodeUtils.jl:146\u001b[22m\n",
      " [7] \u001b[1m#methoddef!#3\u001b[22m\u001b[1m(\u001b[22m::Bool, ::Function, ::Any, ::Array{Any,1}, ::JuliaInterpreter.Frame, ::Any, ::Int64\u001b[1m)\u001b[22m at \u001b[1m/home/nathan/.julia/packages/LoweredCodeUtils/6EZqd/src/LoweredCodeUtils.jl:420\u001b[22m\n",
      " [8] \u001b[1m(::getfield(LoweredCodeUtils, Symbol(\"#kw##methoddef!\")))\u001b[22m\u001b[1m(\u001b[22m::NamedTuple{(:define,),Tuple{Bool}}, ::typeof(LoweredCodeUtils.methoddef!), ::Function, ::Array{Any,1}, ::JuliaInterpreter.Frame, ::Expr, ::Int64\u001b[1m)\u001b[22m at \u001b[1m./none:0\u001b[22m\n",
      " [9] \u001b[1m#methods_by_execution!#14\u001b[22m\u001b[1m(\u001b[22m::Bool, ::Bool, ::Function, ::Any, ::Revise.CodeTrackingMethodInfo, ::Dict{Module,Array{Expr,1}}, ::JuliaInterpreter.Frame\u001b[1m)\u001b[22m at \u001b[1m/home/nathan/.julia/packages/Revise/agmgx/src/lowered.jl:81\u001b[22m\n",
      " [10] \u001b[1m#methods_by_execution!\u001b[22m at \u001b[1m./none:0\u001b[22m [inlined]\n",
      " [11] \u001b[1m#methods_by_execution!#9\u001b[22m\u001b[1m(\u001b[22m::Base.Iterators.Pairs{Symbol,Bool,Tuple{Symbol},NamedTuple{(:define,),Tuple{Bool}}}, ::Function, ::Any, ::Revise.CodeTrackingMethodInfo, ::Dict{Module,Array{Expr,1}}, ::Module, ::Expr\u001b[1m)\u001b[22m at \u001b[1m/home/nathan/.julia/packages/Revise/agmgx/src/lowered.jl:49\u001b[22m\n",
      " [12] \u001b[1m#methods_by_execution!\u001b[22m at \u001b[1m./none:0\u001b[22m [inlined]\n",
      " [13] \u001b[1m#eval_with_signatures#59\u001b[22m at \u001b[1m/home/nathan/.julia/packages/Revise/agmgx/src/Revise.jl:344\u001b[22m [inlined]\n",
      " [14] \u001b[1m#eval_with_signatures\u001b[22m at \u001b[1m./none:0\u001b[22m [inlined]\n",
      " [15] \u001b[1m#instantiate_sigs!#60\u001b[22m\u001b[1m(\u001b[22m::Bool, ::Base.Iterators.Pairs{Union{},Union{},Tuple{},NamedTuple{(),Tuple{}}}, ::Function, ::OrderedCollections.OrderedDict{Module,OrderedCollections.OrderedDict{Revise.RelocatableExpr,Union{Nothing, Array{Any,1}}}}\u001b[1m)\u001b[22m at \u001b[1m/home/nathan/.julia/packages/Revise/agmgx/src/Revise.jl:352\u001b[22m\n",
      " [16] \u001b[1minstantiate_sigs!\u001b[22m at \u001b[1m/home/nathan/.julia/packages/Revise/agmgx/src/Revise.jl:349\u001b[22m [inlined]\n",
      " [17] \u001b[1mmaybe_parse_from_cache!\u001b[22m\u001b[1m(\u001b[22m::Revise.PkgData, ::String\u001b[1m)\u001b[22m at \u001b[1m/home/nathan/.julia/packages/Revise/agmgx/src/pkgs.jl:224\u001b[22m\n",
      " [18] \u001b[1m(::getfield(Revise, Symbol(\"##26#27\")){String})\u001b[22m\u001b[1m(\u001b[22m\u001b[1m)\u001b[22m at \u001b[1m/home/nathan/.julia/packages/Revise/agmgx/src/pkgs.jl:370\u001b[22m\n",
      " [19] \u001b[1mwith_logstate\u001b[22m\u001b[1m(\u001b[22m::getfield(Revise, Symbol(\"##26#27\")){String}, ::Base.CoreLogging.LogState\u001b[1m)\u001b[22m at \u001b[1m./logging.jl:395\u001b[22m\n",
      " [20] \u001b[1mwith_logger\u001b[22m at \u001b[1m./logging.jl:491\u001b[22m [inlined]\n",
      " [21] \u001b[1mwatch_manifest\u001b[22m\u001b[1m(\u001b[22m::String\u001b[1m)\u001b[22m at \u001b[1m/home/nathan/.julia/packages/Revise/agmgx/src/pkgs.jl:349\u001b[22m\n",
      " [22] \u001b[1m(::Revise.Rescheduler{typeof(Revise.watch_manifest),Tuple{String}})\u001b[22m\u001b[1m(\u001b[22m\u001b[1m)\u001b[22m at \u001b[1m/home/nathan/.julia/packages/Revise/agmgx/src/types.jl:235\u001b[22m\n",
      "while evaluating\n",
      "function eltype(dset::Union{HDF5Dataset, HDF5Attribute})\n",
      "    #= /home/nathan/.julia/packages/HDF5/2gJEi/src/HDF5.jl:1094 =#\n",
      "    T = Any\n",
      "    #= /home/nathan/.julia/packages/HDF5/2gJEi/src/HDF5.jl:1095 =#\n",
      "    dtype = datatype(dset)\n"
     ]
    },
    {
     "name": "stderr",
     "output_type": "stream",
     "text": [
      "    #= /home/nathan/.julia/packages/HDF5/2gJEi/src/HDF5.jl:1096 =#\n",
      "    try\n",
      "        #= /home/nathan/.julia/packages/HDF5/2gJEi/src/HDF5.jl:1097 =#\n",
      "        T = hdf5_to_julia_eltype(dtype)\n",
      "    finally\n",
      "        #= /home/nathan/.julia/packages/HDF5/2gJEi/src/HDF5.jl:1099 =#\n",
      "        close(dtype)\n",
      "    end\n",
      "    #= /home/nathan/.julia/packages/HDF5/2gJEi/src/HDF5.jl:1101 =#\n",
      "    T\n",
      "end\n",
      "in module Main.HDF5\n",
      "\u001b[91mTypeError: in Union, in parameter, expected Type, got typeof(Main.HDF5.HDF5Dataset)\u001b[39m\n",
      "Stacktrace:\n",
      " [1] \u001b[1mmaybe_evaluate_builtin\u001b[22m\u001b[1m(\u001b[22m::JuliaInterpreter.Frame, ::Expr, ::Bool\u001b[1m)\u001b[22m at \u001b[1m/home/nathan/.julia/packages/JuliaInterpreter/Or807/src/builtins.jl:86\u001b[22m\n",
      " [2] \u001b[1m#evaluate_call_recurse!#37\u001b[22m\u001b[1m(\u001b[22m::Bool, ::Function, ::Any, ::JuliaInterpreter.Frame, ::Expr\u001b[1m)\u001b[22m at \u001b[1m/home/nathan/.julia/packages/JuliaInterpreter/Or807/src/interpret.jl:209\u001b[22m\n",
      " [3] \u001b[1mevaluate_call_recurse!\u001b[22m at \u001b[1m/home/nathan/.julia/packages/JuliaInterpreter/Or807/src/interpret.jl:206\u001b[22m [inlined]\n",
      " [4] \u001b[1meval_rhs\u001b[22m\u001b[1m(\u001b[22m::Any, ::JuliaInterpreter.Frame, ::Expr\u001b[1m)\u001b[22m at \u001b[1m/home/nathan/.julia/packages/JuliaInterpreter/Or807/src/interpret.jl:381\u001b[22m\n",
      " [5] \u001b[1mstep_expr!\u001b[22m\u001b[1m(\u001b[22m::Any, ::JuliaInterpreter.Frame, ::Any, ::Bool\u001b[1m)\u001b[22m at \u001b[1m/home/nathan/.julia/packages/JuliaInterpreter/Or807/src/interpret.jl:509\u001b[22m\n",
      " [6] \u001b[1msignature\u001b[22m\u001b[1m(\u001b[22m::Any, ::JuliaInterpreter.Frame, ::Any, ::Int64\u001b[1m)\u001b[22m at \u001b[1m/home/nathan/.julia/packages/LoweredCodeUtils/6EZqd/src/LoweredCodeUtils.jl:146\u001b[22m\n",
      " [7] \u001b[1m#methoddef!#3\u001b[22m\u001b[1m(\u001b[22m::Bool, ::Function, ::Any, ::Array{Any,1}, ::JuliaInterpreter.Frame, ::Any, ::Int64\u001b[1m)\u001b[22m at \u001b[1m/home/nathan/.julia/packages/LoweredCodeUtils/6EZqd/src/LoweredCodeUtils.jl:420\u001b[22m\n",
      " [8] \u001b[1m(::getfield(LoweredCodeUtils, Symbol(\"#kw##methoddef!\")))\u001b[22m\u001b[1m(\u001b[22m::NamedTuple{(:define,),Tuple{Bool}}, ::typeof(LoweredCodeUtils.methoddef!), ::Function, ::Array{Any,1}, ::JuliaInterpreter.Frame, ::Expr, ::Int64\u001b[1m)\u001b[22m at \u001b[1m./none:0\u001b[22m\n",
      " [9] \u001b[1m#methods_by_execution!#14\u001b[22m\u001b[1m(\u001b[22m::Bool, ::Bool, ::Function, ::Any, ::Revise.CodeTrackingMethodInfo, ::Dict{Module,Array{Expr,1}}, ::JuliaInterpreter.Frame\u001b[1m)\u001b[22m at \u001b[1m/home/nathan/.julia/packages/Revise/agmgx/src/lowered.jl:81\u001b[22m\n",
      " [10] \u001b[1m#methods_by_execution!\u001b[22m at \u001b[1m./none:0\u001b[22m [inlined]\n",
      " [11] \u001b[1m#methods_by_execution!#9\u001b[22m\u001b[1m(\u001b[22m::Base.Iterators.Pairs{Symbol,Bool,Tuple{Symbol},NamedTuple{(:define,),Tuple{Bool}}}, ::Function, ::Any, ::Revise.CodeTrackingMethodInfo, ::Dict{Module,Array{Expr,1}}, ::Module, ::Expr\u001b[1m)\u001b[22m at \u001b[1m/home/nathan/.julia/packages/Revise/agmgx/src/lowered.jl:49\u001b[22m\n",
      " [12] \u001b[1m#methods_by_execution!\u001b[22m at \u001b[1m./none:0\u001b[22m [inlined]\n",
      " [13] \u001b[1m#eval_with_signatures#59\u001b[22m at \u001b[1m/home/nathan/.julia/packages/Revise/agmgx/src/Revise.jl:344\u001b[22m [inlined]\n",
      " [14] \u001b[1m#eval_with_signatures\u001b[22m at \u001b[1m./none:0\u001b[22m [inlined]\n",
      " [15] \u001b[1m#instantiate_sigs!#60\u001b[22m\u001b[1m(\u001b[22m::Bool, ::Base.Iterators.Pairs{Union{},Union{},Tuple{},NamedTuple{(),Tuple{}}}, ::Function, ::OrderedCollections.OrderedDict{Module,OrderedCollections.OrderedDict{Revise.RelocatableExpr,Union{Nothing, Array{Any,1}}}}\u001b[1m)\u001b[22m at \u001b[1m/home/nathan/.julia/packages/Revise/agmgx/src/Revise.jl:352\u001b[22m\n",
      " [16] \u001b[1minstantiate_sigs!\u001b[22m at \u001b[1m/home/nathan/.julia/packages/Revise/agmgx/src/Revise.jl:349\u001b[22m [inlined]\n",
      " [17] \u001b[1mmaybe_parse_from_cache!\u001b[22m\u001b[1m(\u001b[22m::Revise.PkgData, ::String\u001b[1m)\u001b[22m at \u001b[1m/home/nathan/.julia/packages/Revise/agmgx/src/pkgs.jl:224\u001b[22m\n",
      " [18] \u001b[1m(::getfield(Revise, Symbol(\"##26#27\")){String})\u001b[22m\u001b[1m(\u001b[22m\u001b[1m)\u001b[22m at \u001b[1m/home/nathan/.julia/packages/Revise/agmgx/src/pkgs.jl:370\u001b[22m\n",
      " [19] \u001b[1mwith_logstate\u001b[22m\u001b[1m(\u001b[22m::getfield(Revise, Symbol(\"##26#27\")){String}, ::Base.CoreLogging.LogState\u001b[1m)\u001b[22m at \u001b[1m./logging.jl:395\u001b[22m\n",
      " [20] \u001b[1mwith_logger\u001b[22m at \u001b[1m./logging.jl:491\u001b[22m [inlined]\n",
      " [21] \u001b[1mwatch_manifest\u001b[22m\u001b[1m(\u001b[22m::String\u001b[1m)\u001b[22m at \u001b[1m/home/nathan/.julia/packages/Revise/agmgx/src/pkgs.jl:349\u001b[22m\n",
      " [22] \u001b[1m(::Revise.Rescheduler{typeof(Revise.watch_manifest),Tuple{String}})\u001b[22m\u001b[1m(\u001b[22m\u001b[1m)\u001b[22m at \u001b[1m/home/nathan/.julia/packages/Revise/agmgx/src/types.jl:235\u001b[22m\n",
      "while evaluating\n",
      "function isnull(obj::Union{HDF5Dataset, HDF5Attribute})\n",
      "    #= /home/nathan/.julia/packages/HDF5/2gJEi/src/HDF5.jl:1104 =#\n",
      "    dspace = dataspace(obj)\n",
      "    #= /home/nathan/.julia/packages/HDF5/2gJEi/src/HDF5.jl:1105 =#\n",
      "    ret = h5s_get_simple_extent_type(dspace.id) == H5S_NULL\n",
      "    #= /home/nathan/.julia/packages/HDF5/2gJEi/src/HDF5.jl:1106 =#\n",
      "    close(dspace)\n",
      "    #= /home/nathan/.julia/packages/HDF5/2gJEi/src/HDF5.jl:1107 =#\n",
      "    ret\n",
      "end\n",
      "in module Main.HDF5\n",
      "\u001b[91mTypeError: in Union, in parameter, expected Type, got typeof(Main.HDF5.HDF5File)\u001b[39m\n",
      "Stacktrace:\n",
      " [1] \u001b[1mmaybe_evaluate_builtin\u001b[22m\u001b[1m(\u001b[22m::JuliaInterpreter.Frame, ::Expr, ::Bool\u001b[1m)\u001b[22m at \u001b[1m/home/nathan/.julia/packages/JuliaInterpreter/Or807/src/builtins.jl:86\u001b[22m\n",
      " [2] \u001b[1m#evaluate_call_recurse!#37\u001b[22m\u001b[1m(\u001b[22m::Bool, ::Function, ::Any, ::JuliaInterpreter.Frame, ::Expr\u001b[1m)\u001b[22m at \u001b[1m/home/nathan/.julia/packages/JuliaInterpreter/Or807/src/interpret.jl:209\u001b[22m\n",
      " [3] \u001b[1mevaluate_call_recurse!\u001b[22m at \u001b[1m/home/nathan/.julia/packages/JuliaInterpreter/Or807/src/interpret.jl:206\u001b[22m [inlined]\n",
      " [4] \u001b[1meval_rhs\u001b[22m\u001b[1m(\u001b[22m::Any, ::JuliaInterpreter.Frame, ::Expr\u001b[1m)\u001b[22m at \u001b[1m/home/nathan/.julia/packages/JuliaInterpreter/Or807/src/interpret.jl:381\u001b[22m\n",
      " [5] \u001b[1mstep_expr!\u001b[22m\u001b[1m(\u001b[22m::Any, ::JuliaInterpreter.Frame, ::Any, ::Bool\u001b[1m)\u001b[22m at \u001b[1m/home/nathan/.julia/packages/JuliaInterpreter/Or807/src/interpret.jl:509\u001b[22m\n",
      " [6] \u001b[1msignature\u001b[22m\u001b[1m(\u001b[22m::Any, ::JuliaInterpreter.Frame, ::Any, ::Int64\u001b[1m)\u001b[22m at \u001b[1m/home/nathan/.julia/packages/LoweredCodeUtils/6EZqd/src/LoweredCodeUtils.jl:146\u001b[22m\n",
      " [7] \u001b[1m#methoddef!#3\u001b[22m\u001b[1m(\u001b[22m::Bool, ::Function, ::Any, ::Array{Any,1}, ::JuliaInterpreter.Frame, ::Any, ::Int64\u001b[1m)\u001b[22m at \u001b[1m/home/nathan/.julia/packages/LoweredCodeUtils/6EZqd/src/LoweredCodeUtils.jl:420\u001b[22m\n",
      " [8] \u001b[1m(::getfield(LoweredCodeUtils, Symbol(\"#kw##methoddef!\")))\u001b[22m\u001b[1m(\u001b[22m::NamedTuple{(:define,),Tuple{Bool}}, ::typeof(LoweredCodeUtils.methoddef!), ::Function, ::Array{Any,1}, ::JuliaInterpreter.Frame, ::Expr, ::Int64\u001b[1m)\u001b[22m at \u001b[1m./none:0\u001b[22m\n",
      " [9] \u001b[1m#methods_by_execution!#14\u001b[22m\u001b[1m(\u001b[22m::Bool, ::Bool, ::Function, ::Any, ::Revise.CodeTrackingMethodInfo, ::Dict{Module,Array{Expr,1}}, ::JuliaInterpreter.Frame\u001b[1m)\u001b[22m at \u001b[1m/home/nathan/.julia/packages/Revise/agmgx/src/lowered.jl:81\u001b[22m\n",
      " [10] \u001b[1m#methods_by_execution!\u001b[22m at \u001b[1m./none:0\u001b[22m [inlined]\n",
      " [11] \u001b[1m#methods_by_execution!#9\u001b[22m\u001b[1m(\u001b[22m::Base.Iterators.Pairs{Symbol,Bool,Tuple{Symbol},NamedTuple{(:define,),Tuple{Bool}}}, ::Function, ::Any, ::Revise.CodeTrackingMethodInfo, ::Dict{Module,Array{Expr,1}}, ::Module, ::Expr\u001b[1m)\u001b[22m at \u001b[1m/home/nathan/.julia/packages/Revise/agmgx/src/lowered.jl:49\u001b[22m\n",
      " [12] \u001b[1m#methods_by_execution!\u001b[22m at \u001b[1m./none:0\u001b[22m [inlined]\n",
      " [13] \u001b[1m#eval_with_signatures#59\u001b[22m at \u001b[1m/home/nathan/.julia/packages/Revise/agmgx/src/Revise.jl:344\u001b[22m [inlined]\n",
      " [14] \u001b[1m#eval_with_signatures\u001b[22m at \u001b[1m./none:0\u001b[22m [inlined]\n",
      " [15] \u001b[1m#instantiate_sigs!#60\u001b[22m\u001b[1m(\u001b[22m::Bool, ::Base.Iterators.Pairs{Union{},Union{},Tuple{},NamedTuple{(),Tuple{}}}, ::Function, ::OrderedCollections.OrderedDict{Module,OrderedCollections.OrderedDict{Revise.RelocatableExpr,Union{Nothing, Array{Any,1}}}}\u001b[1m)\u001b[22m at \u001b[1m/home/nathan/.julia/packages/Revise/agmgx/src/Revise.jl:352\u001b[22m\n",
      " [16] \u001b[1minstantiate_sigs!\u001b[22m at \u001b[1m/home/nathan/.julia/packages/Revise/agmgx/src/Revise.jl:349\u001b[22m [inlined]\n",
      " [17] \u001b[1mmaybe_parse_from_cache!\u001b[22m\u001b[1m(\u001b[22m::Revise.PkgData, ::String\u001b[1m)\u001b[22m at \u001b[1m/home/nathan/.julia/packages/Revise/agmgx/src/pkgs.jl:224\u001b[22m\n",
      " [18] \u001b[1m(::getfield(Revise, Symbol(\"##26#27\")){String})\u001b[22m\u001b[1m(\u001b[22m\u001b[1m)\u001b[22m at \u001b[1m/home/nathan/.julia/packages/Revise/agmgx/src/pkgs.jl:370\u001b[22m\n",
      " [19] \u001b[1mwith_logstate\u001b[22m\u001b[1m(\u001b[22m::getfield(Revise, Symbol(\"##26#27\")){String}, ::Base.CoreLogging.LogState\u001b[1m)\u001b[22m at \u001b[1m./logging.jl:395\u001b[22m\n",
      " [20] \u001b[1mwith_logger\u001b[22m at \u001b[1m./logging.jl:491\u001b[22m [inlined]\n",
      " [21] \u001b[1mwatch_manifest\u001b[22m\u001b[1m(\u001b[22m::String\u001b[1m)\u001b[22m at \u001b[1m/home/nathan/.julia/packages/Revise/agmgx/src/pkgs.jl:349\u001b[22m\n",
      " [22] \u001b[1m(::Revise.Rescheduler{typeof(Revise.watch_manifest),Tuple{String}})\u001b[22m\u001b[1m(\u001b[22m\u001b[1m)\u001b[22m at \u001b[1m/home/nathan/.julia/packages/Revise/agmgx/src/types.jl:235\u001b[22m\n",
      "while evaluating\n",
      "filename(obj::Union{HDF5File, HDF5Group, HDF5Dataset, HDF5Attribute, HDF5Datatype}) = begin\n",
      "        #= /home/nathan/.julia/packages/HDF5/2gJEi/src/HDF5.jl:1111 =#\n",
      "        h5f_get_name((checkvalid(obj)).id)\n",
      "    end\n",
      "in module Main.HDF5\n",
      "\u001b[91mTypeError: in Union, in parameter, expected Type, got typeof(Main.HDF5.HDF5File)\u001b[39m\n",
      "Stacktrace:\n",
      " [1] \u001b[1mmaybe_evaluate_builtin\u001b[22m\u001b[1m(\u001b[22m::JuliaInterpreter.Frame, ::Expr, ::Bool\u001b[1m)\u001b[22m at \u001b[1m/home/nathan/.julia/packages/JuliaInterpreter/Or807/src/builtins.jl:86\u001b[22m\n",
      " [2] \u001b[1m#evaluate_call_recurse!#37\u001b[22m\u001b[1m(\u001b[22m::Bool, ::Function, ::Any, ::JuliaInterpreter.Frame, ::Expr\u001b[1m)\u001b[22m at \u001b[1m/home/nathan/.julia/packages/JuliaInterpreter/Or807/src/interpret.jl:209\u001b[22m\n",
      " [3] \u001b[1mevaluate_call_recurse!\u001b[22m at \u001b[1m/home/nathan/.julia/packages/JuliaInterpreter/Or807/src/interpret.jl:206\u001b[22m [inlined]\n",
      " [4] \u001b[1meval_rhs\u001b[22m\u001b[1m(\u001b[22m::Any, ::JuliaInterpreter.Frame, ::Expr\u001b[1m)\u001b[22m at \u001b[1m/home/nathan/.julia/packages/JuliaInterpreter/Or807/src/interpret.jl:381\u001b[22m\n",
      " [5] \u001b[1mstep_expr!\u001b[22m\u001b[1m(\u001b[22m::Any, ::JuliaInterpreter.Frame, ::Any, ::Bool\u001b[1m)\u001b[22m at \u001b[1m/home/nathan/.julia/packages/JuliaInterpreter/Or807/src/interpret.jl:509\u001b[22m\n",
      " [6] \u001b[1msignature\u001b[22m\u001b[1m(\u001b[22m::Any, ::JuliaInterpreter.Frame, ::Any, ::Int64\u001b[1m)\u001b[22m at \u001b[1m/home/nathan/.julia/packages/LoweredCodeUtils/6EZqd/src/LoweredCodeUtils.jl:146\u001b[22m\n",
      " [7] \u001b[1m#methoddef!#3\u001b[22m\u001b[1m(\u001b[22m::Bool, ::Function, ::Any, ::Array{Any,1}, ::JuliaInterpreter.Frame, ::Any, ::Int64\u001b[1m)\u001b[22m at \u001b[1m/home/nathan/.julia/packages/LoweredCodeUtils/6EZqd/src/LoweredCodeUtils.jl:420\u001b[22m\n",
      " [8] \u001b[1m(::getfield(LoweredCodeUtils, Symbol(\"#kw##methoddef!\")))\u001b[22m\u001b[1m(\u001b[22m::NamedTuple{(:define,),Tuple{Bool}}, ::typeof(LoweredCodeUtils.methoddef!), ::Function, ::Array{Any,1}, ::JuliaInterpreter.Frame, ::Expr, ::Int64\u001b[1m)\u001b[22m at \u001b[1m./none:0\u001b[22m\n",
      " [9] \u001b[1m#methods_by_execution!#14\u001b[22m\u001b[1m(\u001b[22m::Bool, ::Bool, ::Function, ::Any, ::Revise.CodeTrackingMethodInfo, ::Dict{Module,Array{Expr,1}}, ::JuliaInterpreter.Frame\u001b[1m)\u001b[22m at \u001b[1m/home/nathan/.julia/packages/Revise/agmgx/src/lowered.jl:81\u001b[22m\n",
      " [10] \u001b[1m#methods_by_execution!\u001b[22m at \u001b[1m./none:0\u001b[22m [inlined]\n",
      " [11] \u001b[1m#methods_by_execution!#9\u001b[22m\u001b[1m(\u001b[22m::Base.Iterators.Pairs{Symbol,Bool,Tuple{Symbol},NamedTuple{(:define,),Tuple{Bool}}}, ::Function, ::Any, ::Revise.CodeTrackingMethodInfo, ::Dict{Module,Array{Expr,1}}, ::Module, ::Expr\u001b[1m)\u001b[22m at \u001b[1m/home/nathan/.julia/packages/Revise/agmgx/src/lowered.jl:49\u001b[22m\n",
      " [12] \u001b[1m#methods_by_execution!\u001b[22m at \u001b[1m./none:0\u001b[22m [inlined]\n",
      " [13] \u001b[1m#eval_with_signatures#59\u001b[22m at \u001b[1m/home/nathan/.julia/packages/Revise/agmgx/src/Revise.jl:344\u001b[22m [inlined]\n",
      " [14] \u001b[1m#eval_with_signatures\u001b[22m at \u001b[1m./none:0\u001b[22m [inlined]\n",
      " [15] \u001b[1m#instantiate_sigs!#60\u001b[22m\u001b[1m(\u001b[22m::Bool, ::Base.Iterators.Pairs{Union{},Union{},Tuple{},NamedTuple{(),Tuple{}}}, ::Function, ::OrderedCollections.OrderedDict{Module,OrderedCollections.OrderedDict{Revise.RelocatableExpr,Union{Nothing, Array{Any,1}}}}\u001b[1m)\u001b[22m at \u001b[1m/home/nathan/.julia/packages/Revise/agmgx/src/Revise.jl:352\u001b[22m\n",
      " [16] \u001b[1minstantiate_sigs!\u001b[22m at \u001b[1m/home/nathan/.julia/packages/Revise/agmgx/src/Revise.jl:349\u001b[22m [inlined]\n",
      " [17] \u001b[1mmaybe_parse_from_cache!\u001b[22m\u001b[1m(\u001b[22m::Revise.PkgData, ::String\u001b[1m)\u001b[22m at \u001b[1m/home/nathan/.julia/packages/Revise/agmgx/src/pkgs.jl:224\u001b[22m\n",
      " [18] \u001b[1m(::getfield(Revise, Symbol(\"##26#27\")){String})\u001b[22m\u001b[1m(\u001b[22m\u001b[1m)\u001b[22m at \u001b[1m/home/nathan/.julia/packages/Revise/agmgx/src/pkgs.jl:370\u001b[22m\n",
      " [19] \u001b[1mwith_logstate\u001b[22m\u001b[1m(\u001b[22m::getfield(Revise, Symbol(\"##26#27\")){String}, ::Base.CoreLogging.LogState\u001b[1m)\u001b[22m at \u001b[1m./logging.jl:395\u001b[22m\n",
      " [20] \u001b[1mwith_logger\u001b[22m at \u001b[1m./logging.jl:491\u001b[22m [inlined]\n",
      " [21] \u001b[1mwatch_manifest\u001b[22m\u001b[1m(\u001b[22m::String\u001b[1m)\u001b[22m at \u001b[1m/home/nathan/.julia/packages/Revise/agmgx/src/pkgs.jl:349\u001b[22m\n",
      " [22] \u001b[1m(::Revise.Rescheduler{typeof(Revise.watch_manifest),Tuple{String}})\u001b[22m\u001b[1m(\u001b[22m\u001b[1m)\u001b[22m at \u001b[1m/home/nathan/.julia/packages/Revise/agmgx/src/types.jl:235\u001b[22m\n",
      "while evaluating\n",
      "name(obj::Union{HDF5File, HDF5Group, HDF5Dataset, HDF5Datatype}) = begin\n",
      "        #= /home/nathan/.julia/packages/HDF5/2gJEi/src/HDF5.jl:1112 =#\n",
      "        h5i_get_name((checkvalid(obj)).id)\n",
      "    end\n",
      "in module Main.HDF5\n",
      "\u001b[91mTypeError: in Union, in parameter, expected Type, got typeof(Main.HDF5.HDF5Group)\u001b[39m\n",
      "Stacktrace:\n",
      " [1] \u001b[1mmaybe_evaluate_builtin\u001b[22m\u001b[1m(\u001b[22m::JuliaInterpreter.Frame, ::Expr, ::Bool\u001b[1m)\u001b[22m at \u001b[1m/home/nathan/.julia/packages/JuliaInterpreter/Or807/src/builtins.jl:86\u001b[22m\n",
      " [2] \u001b[1m#evaluate_call_recurse!#37\u001b[22m\u001b[1m(\u001b[22m::Bool, ::Function, ::Any, ::JuliaInterpreter.Frame, ::Expr\u001b[1m)\u001b[22m at \u001b[1m/home/nathan/.julia/packages/JuliaInterpreter/Or807/src/interpret.jl:209\u001b[22m\n",
      " [3] \u001b[1mevaluate_call_recurse!\u001b[22m at \u001b[1m/home/nathan/.julia/packages/JuliaInterpreter/Or807/src/interpret.jl:206\u001b[22m [inlined]\n",
      " [4] \u001b[1meval_rhs\u001b[22m\u001b[1m(\u001b[22m::Any, ::JuliaInterpreter.Frame, ::Expr\u001b[1m)\u001b[22m at \u001b[1m/home/nathan/.julia/packages/JuliaInterpreter/Or807/src/interpret.jl:381\u001b[22m\n",
      " [5] \u001b[1mstep_expr!\u001b[22m\u001b[1m(\u001b[22m::Any, ::JuliaInterpreter.Frame, ::Any, ::Bool\u001b[1m)\u001b[22m at \u001b[1m/home/nathan/.julia/packages/JuliaInterpreter/Or807/src/interpret.jl:509\u001b[22m\n",
      " [6] \u001b[1msignature\u001b[22m\u001b[1m(\u001b[22m::Any, ::JuliaInterpreter.Frame, ::Any, ::Int64\u001b[1m)\u001b[22m at \u001b[1m/home/nathan/.julia/packages/LoweredCodeUtils/6EZqd/src/LoweredCodeUtils.jl:146\u001b[22m\n",
      " [7] \u001b[1m#methoddef!#3\u001b[22m\u001b[1m(\u001b[22m::Bool, ::Function, ::Any, ::Array{Any,1}, ::JuliaInterpreter.Frame, ::Any, ::Int64\u001b[1m)\u001b[22m at \u001b[1m/home/nathan/.julia/packages/LoweredCodeUtils/6EZqd/src/LoweredCodeUtils.jl:420\u001b[22m\n",
      " [8] \u001b[1m(::getfield(LoweredCodeUtils, Symbol(\"#kw##methoddef!\")))\u001b[22m\u001b[1m(\u001b[22m::NamedTuple{(:define,),Tuple{Bool}}, ::typeof(LoweredCodeUtils.methoddef!), ::Function, ::Array{Any,1}, ::JuliaInterpreter.Frame, ::Expr, ::Int64\u001b[1m)\u001b[22m at \u001b[1m./none:0\u001b[22m\n",
      " [9] \u001b[1m#methods_by_execution!#14\u001b[22m\u001b[1m(\u001b[22m::Bool, ::Bool, ::Function, ::Any, ::Revise.CodeTrackingMethodInfo, ::Dict{Module,Array{Expr,1}}, ::JuliaInterpreter.Frame\u001b[1m)\u001b[22m at \u001b[1m/home/nathan/.julia/packages/Revise/agmgx/src/lowered.jl:81\u001b[22m\n",
      " [10] \u001b[1m#methods_by_execution!\u001b[22m at \u001b[1m./none:0\u001b[22m [inlined]\n",
      " [11] \u001b[1m#methods_by_execution!#9\u001b[22m\u001b[1m(\u001b[22m::Base.Iterators.Pairs{Symbol,Bool,Tuple{Symbol},NamedTuple{(:define,),Tuple{Bool}}}, ::Function, ::Any, ::Revise.CodeTrackingMethodInfo, ::Dict{Module,Array{Expr,1}}, ::Module, ::Expr\u001b[1m)\u001b[22m at \u001b[1m/home/nathan/.julia/packages/Revise/agmgx/src/lowered.jl:49\u001b[22m\n",
      " [12] \u001b[1m#methods_by_execution!\u001b[22m at \u001b[1m./none:0\u001b[22m [inlined]\n",
      " [13] \u001b[1m#eval_with_signatures#59\u001b[22m at \u001b[1m/home/nathan/.julia/packages/Revise/agmgx/src/Revise.jl:344\u001b[22m [inlined]\n",
      " [14] \u001b[1m#eval_with_signatures\u001b[22m at \u001b[1m./none:0\u001b[22m [inlined]\n",
      " [15] \u001b[1m#instantiate_sigs!#60\u001b[22m\u001b[1m(\u001b[22m::Bool, ::Base.Iterators.Pairs{Union{},Union{},Tuple{},NamedTuple{(),Tuple{}}}, ::Function, ::OrderedCollections.OrderedDict{Module,OrderedCollections.OrderedDict{Revise.RelocatableExpr,Union{Nothing, Array{Any,1}}}}\u001b[1m)\u001b[22m at \u001b[1m/home/nathan/.julia/packages/Revise/agmgx/src/Revise.jl:352\u001b[22m\n",
      " [16] \u001b[1minstantiate_sigs!\u001b[22m at \u001b[1m/home/nathan/.julia/packages/Revise/agmgx/src/Revise.jl:349\u001b[22m [inlined]\n",
      " [17] \u001b[1mmaybe_parse_from_cache!\u001b[22m\u001b[1m(\u001b[22m::Revise.PkgData, ::String\u001b[1m)\u001b[22m at \u001b[1m/home/nathan/.julia/packages/Revise/agmgx/src/pkgs.jl:224\u001b[22m\n",
      " [18] \u001b[1m(::getfield(Revise, Symbol(\"##26#27\")){String})\u001b[22m\u001b[1m(\u001b[22m\u001b[1m)\u001b[22m at \u001b[1m/home/nathan/.julia/packages/Revise/agmgx/src/pkgs.jl:370\u001b[22m\n",
      " [19] \u001b[1mwith_logstate\u001b[22m\u001b[1m(\u001b[22m::getfield(Revise, Symbol(\"##26#27\")){String}, ::Base.CoreLogging.LogState\u001b[1m)\u001b[22m at \u001b[1m./logging.jl:395\u001b[22m\n",
      " [20] \u001b[1mwith_logger\u001b[22m at \u001b[1m./logging.jl:491\u001b[22m [inlined]\n",
      " [21] \u001b[1mwatch_manifest\u001b[22m\u001b[1m(\u001b[22m::String\u001b[1m)\u001b[22m at \u001b[1m/home/nathan/.julia/packages/Revise/agmgx/src/pkgs.jl:349\u001b[22m\n",
      " [22] \u001b[1m(::Revise.Rescheduler{typeof(Revise.watch_manifest),Tuple{String}})\u001b[22m\u001b[1m(\u001b[22m\u001b[1m)\u001b[22m at \u001b[1m/home/nathan/.julia/packages/Revise/agmgx/src/types.jl:235\u001b[22m\n",
      "while evaluating\n",
      "function names(x::Union{HDF5Group, HDF5File})\n",
      "    #= /home/nathan/.julia/packages/HDF5/2gJEi/src/HDF5.jl:1115 =#\n",
      "    checkvalid(x)\n",
      "    #= /home/nathan/.julia/packages/HDF5/2gJEi/src/HDF5.jl:1116 =#\n",
      "    n = length(x)\n",
      "    #= /home/nathan/.julia/packages/HDF5/2gJEi/src/HDF5.jl:1117 =#\n",
      "    res = Vector{String}(undef, n)\n",
      "    #= /home/nathan/.julia/packages/HDF5/2gJEi/src/HDF5.jl:1118 =#\n",
      "    buf = Vector{UInt8}(undef, 100)\n",
      "    #= /home/nathan/.julia/packages/HDF5/2gJEi/src/HDF5.jl:1119 =#\n",
      "    for i = 1:n\n",
      "        #= /home/nathan/.julia/packages/HDF5/2gJEi/src/HDF5.jl:1120 =#\n",
      "        len = h5g_get_objname_by_idx(x.id, i - 1, buf, length(buf))\n",
      "        #= /home/nathan/.julia/packages/HDF5/2gJEi/src/HDF5.jl:1121 =#\n",
      "        if len >= length(buf)\n",
      "            #= /home/nathan/.julia/packages/HDF5/2gJEi/src/HDF5.jl:1122 =#\n",
      "            resize!(buf, len + 10)\n",
      "            #= /home/nathan/.julia/packages/HDF5/2gJEi/src/HDF5.jl:1123 =#\n",
      "            len = h5g_get_objname_by_idx(x.id, i - 1, buf, length(buf))\n",
      "        end\n",
      "        #= /home/nathan/.julia/packages/HDF5/2gJEi/src/HDF5.jl:1125 =#\n",
      "        res[i] = String(buf[1:len])\n",
      "    end\n",
      "    #= /home/nathan/.julia/packages/HDF5/2gJEi/src/HDF5.jl:1127 =#\n",
      "    res\n",
      "end\n",
      "in module Main.HDF5\n",
      "\u001b[91mTypeError: in Union, in parameter, expected Type, got typeof(Main.HDF5.HDF5File)\u001b[39m\n",
      "Stacktrace:\n",
      " [1] \u001b[1mmaybe_evaluate_builtin\u001b[22m\u001b[1m(\u001b[22m::JuliaInterpreter.Frame, ::Expr, ::Bool\u001b[1m)\u001b[22m at \u001b[1m/home/nathan/.julia/packages/JuliaInterpreter/Or807/src/builtins.jl:86\u001b[22m\n",
      " [2] \u001b[1m#evaluate_call_recurse!#37\u001b[22m\u001b[1m(\u001b[22m::Bool, ::Function, ::Any, ::JuliaInterpreter.Frame, ::Expr\u001b[1m)\u001b[22m at \u001b[1m/home/nathan/.julia/packages/JuliaInterpreter/Or807/src/interpret.jl:209\u001b[22m\n"
     ]
    },
    {
     "name": "stderr",
     "output_type": "stream",
     "text": [
      " [3] \u001b[1mevaluate_call_recurse!\u001b[22m at \u001b[1m/home/nathan/.julia/packages/JuliaInterpreter/Or807/src/interpret.jl:206\u001b[22m [inlined]\n",
      " [4] \u001b[1meval_rhs\u001b[22m\u001b[1m(\u001b[22m::Any, ::JuliaInterpreter.Frame, ::Expr\u001b[1m)\u001b[22m at \u001b[1m/home/nathan/.julia/packages/JuliaInterpreter/Or807/src/interpret.jl:381\u001b[22m\n",
      " [5] \u001b[1mstep_expr!\u001b[22m\u001b[1m(\u001b[22m::Any, ::JuliaInterpreter.Frame, ::Any, ::Bool\u001b[1m)\u001b[22m at \u001b[1m/home/nathan/.julia/packages/JuliaInterpreter/Or807/src/interpret.jl:509\u001b[22m\n",
      " [6] \u001b[1msignature\u001b[22m\u001b[1m(\u001b[22m::Any, ::JuliaInterpreter.Frame, ::Any, ::Int64\u001b[1m)\u001b[22m at \u001b[1m/home/nathan/.julia/packages/LoweredCodeUtils/6EZqd/src/LoweredCodeUtils.jl:146\u001b[22m\n",
      " [7] \u001b[1m#methoddef!#3\u001b[22m\u001b[1m(\u001b[22m::Bool, ::Function, ::Any, ::Array{Any,1}, ::JuliaInterpreter.Frame, ::Any, ::Int64\u001b[1m)\u001b[22m at \u001b[1m/home/nathan/.julia/packages/LoweredCodeUtils/6EZqd/src/LoweredCodeUtils.jl:420\u001b[22m\n",
      " [8] \u001b[1m(::getfield(LoweredCodeUtils, Symbol(\"#kw##methoddef!\")))\u001b[22m\u001b[1m(\u001b[22m::NamedTuple{(:define,),Tuple{Bool}}, ::typeof(LoweredCodeUtils.methoddef!), ::Function, ::Array{Any,1}, ::JuliaInterpreter.Frame, ::Expr, ::Int64\u001b[1m)\u001b[22m at \u001b[1m./none:0\u001b[22m\n",
      " [9] \u001b[1m#methods_by_execution!#14\u001b[22m\u001b[1m(\u001b[22m::Bool, ::Bool, ::Function, ::Any, ::Revise.CodeTrackingMethodInfo, ::Dict{Module,Array{Expr,1}}, ::JuliaInterpreter.Frame\u001b[1m)\u001b[22m at \u001b[1m/home/nathan/.julia/packages/Revise/agmgx/src/lowered.jl:81\u001b[22m\n",
      " [10] \u001b[1m#methods_by_execution!\u001b[22m at \u001b[1m./none:0\u001b[22m [inlined]\n",
      " [11] \u001b[1m#methods_by_execution!#9\u001b[22m\u001b[1m(\u001b[22m::Base.Iterators.Pairs{Symbol,Bool,Tuple{Symbol},NamedTuple{(:define,),Tuple{Bool}}}, ::Function, ::Any, ::Revise.CodeTrackingMethodInfo, ::Dict{Module,Array{Expr,1}}, ::Module, ::Expr\u001b[1m)\u001b[22m at \u001b[1m/home/nathan/.julia/packages/Revise/agmgx/src/lowered.jl:49\u001b[22m\n",
      " [12] \u001b[1m#methods_by_execution!\u001b[22m at \u001b[1m./none:0\u001b[22m [inlined]\n",
      " [13] \u001b[1m#eval_with_signatures#59\u001b[22m at \u001b[1m/home/nathan/.julia/packages/Revise/agmgx/src/Revise.jl:344\u001b[22m [inlined]\n",
      " [14] \u001b[1m#eval_with_signatures\u001b[22m at \u001b[1m./none:0\u001b[22m [inlined]\n",
      " [15] \u001b[1m#instantiate_sigs!#60\u001b[22m\u001b[1m(\u001b[22m::Bool, ::Base.Iterators.Pairs{Union{},Union{},Tuple{},NamedTuple{(),Tuple{}}}, ::Function, ::OrderedCollections.OrderedDict{Module,OrderedCollections.OrderedDict{Revise.RelocatableExpr,Union{Nothing, Array{Any,1}}}}\u001b[1m)\u001b[22m at \u001b[1m/home/nathan/.julia/packages/Revise/agmgx/src/Revise.jl:352\u001b[22m\n",
      " [16] \u001b[1minstantiate_sigs!\u001b[22m at \u001b[1m/home/nathan/.julia/packages/Revise/agmgx/src/Revise.jl:349\u001b[22m [inlined]\n",
      " [17] \u001b[1mmaybe_parse_from_cache!\u001b[22m\u001b[1m(\u001b[22m::Revise.PkgData, ::String\u001b[1m)\u001b[22m at \u001b[1m/home/nathan/.julia/packages/Revise/agmgx/src/pkgs.jl:224\u001b[22m\n",
      " [18] \u001b[1m(::getfield(Revise, Symbol(\"##26#27\")){String})\u001b[22m\u001b[1m(\u001b[22m\u001b[1m)\u001b[22m at \u001b[1m/home/nathan/.julia/packages/Revise/agmgx/src/pkgs.jl:370\u001b[22m\n",
      " [19] \u001b[1mwith_logstate\u001b[22m\u001b[1m(\u001b[22m::getfield(Revise, Symbol(\"##26#27\")){String}, ::Base.CoreLogging.LogState\u001b[1m)\u001b[22m at \u001b[1m./logging.jl:395\u001b[22m\n",
      " [20] \u001b[1mwith_logger\u001b[22m at \u001b[1m./logging.jl:491\u001b[22m [inlined]\n",
      " [21] \u001b[1mwatch_manifest\u001b[22m\u001b[1m(\u001b[22m::String\u001b[1m)\u001b[22m at \u001b[1m/home/nathan/.julia/packages/Revise/agmgx/src/pkgs.jl:349\u001b[22m\n",
      " [22] \u001b[1m(::Revise.Rescheduler{typeof(Revise.watch_manifest),Tuple{String}})\u001b[22m\u001b[1m(\u001b[22m\u001b[1m)\u001b[22m at \u001b[1m/home/nathan/.julia/packages/Revise/agmgx/src/types.jl:235\u001b[22m\n",
      "while evaluating\n",
      "function iterate(parent::Union{HDF5File, HDF5Group}, iter=(1, nothing))\n",
      "    #= /home/nathan/.julia/packages/HDF5/2gJEi/src/HDF5.jl:1145 =#\n",
      "    (n, prev_obj) = iter\n",
      "    #= /home/nathan/.julia/packages/HDF5/2gJEi/src/HDF5.jl:1146 =#\n",
      "    prev_obj ≢ nothing && close(prev_obj)\n",
      "    #= /home/nathan/.julia/packages/HDF5/2gJEi/src/HDF5.jl:1147 =#\n",
      "    n > length(parent) && return nothing\n",
      "    #= /home/nathan/.julia/packages/HDF5/2gJEi/src/HDF5.jl:1148 =#\n",
      "    obj = h5object(h5o_open_by_idx((checkvalid(parent)).id, \".\", H5_INDEX_NAME, H5_ITER_INC, n - 1, H5P_DEFAULT), parent)\n",
      "    #= /home/nathan/.julia/packages/HDF5/2gJEi/src/HDF5.jl:1149 =#\n",
      "    return (obj, (n + 1, obj))\n",
      "end\n",
      "in module Main.HDF5\n",
      "\u001b[91mTypeError: in Union, in parameter, expected Type, got typeof(Main.HDF5.HDF5File)\u001b[39m\n",
      "Stacktrace:\n",
      " [1] \u001b[1mmaybe_evaluate_builtin\u001b[22m\u001b[1m(\u001b[22m::JuliaInterpreter.Frame, ::Expr, ::Bool\u001b[1m)\u001b[22m at \u001b[1m/home/nathan/.julia/packages/JuliaInterpreter/Or807/src/builtins.jl:86\u001b[22m\n",
      " [2] \u001b[1m#evaluate_call_recurse!#37\u001b[22m\u001b[1m(\u001b[22m::Bool, ::Function, ::Any, ::JuliaInterpreter.Frame, ::Expr\u001b[1m)\u001b[22m at \u001b[1m/home/nathan/.julia/packages/JuliaInterpreter/Or807/src/interpret.jl:209\u001b[22m\n",
      " [3] \u001b[1mevaluate_call_recurse!\u001b[22m at \u001b[1m/home/nathan/.julia/packages/JuliaInterpreter/Or807/src/interpret.jl:206\u001b[22m [inlined]\n",
      " [4] \u001b[1meval_rhs\u001b[22m\u001b[1m(\u001b[22m::Any, ::JuliaInterpreter.Frame, ::Expr\u001b[1m)\u001b[22m at \u001b[1m/home/nathan/.julia/packages/JuliaInterpreter/Or807/src/interpret.jl:381\u001b[22m\n",
      " [5] \u001b[1mstep_expr!\u001b[22m\u001b[1m(\u001b[22m::Any, ::JuliaInterpreter.Frame, ::Any, ::Bool\u001b[1m)\u001b[22m at \u001b[1m/home/nathan/.julia/packages/JuliaInterpreter/Or807/src/interpret.jl:509\u001b[22m\n",
      " [6] \u001b[1msignature\u001b[22m\u001b[1m(\u001b[22m::Any, ::JuliaInterpreter.Frame, ::Any, ::Int64\u001b[1m)\u001b[22m at \u001b[1m/home/nathan/.julia/packages/LoweredCodeUtils/6EZqd/src/LoweredCodeUtils.jl:146\u001b[22m\n",
      " [7] \u001b[1m#methoddef!#3\u001b[22m\u001b[1m(\u001b[22m::Bool, ::Function, ::Any, ::Array{Any,1}, ::JuliaInterpreter.Frame, ::Any, ::Int64\u001b[1m)\u001b[22m at \u001b[1m/home/nathan/.julia/packages/LoweredCodeUtils/6EZqd/src/LoweredCodeUtils.jl:420\u001b[22m\n",
      " [8] \u001b[1m(::getfield(LoweredCodeUtils, Symbol(\"#kw##methoddef!\")))\u001b[22m\u001b[1m(\u001b[22m::NamedTuple{(:define,),Tuple{Bool}}, ::typeof(LoweredCodeUtils.methoddef!), ::Function, ::Array{Any,1}, ::JuliaInterpreter.Frame, ::Expr, ::Int64\u001b[1m)\u001b[22m at \u001b[1m./none:0\u001b[22m\n",
      " [9] \u001b[1m#methods_by_execution!#14\u001b[22m\u001b[1m(\u001b[22m::Bool, ::Bool, ::Function, ::Any, ::Revise.CodeTrackingMethodInfo, ::Dict{Module,Array{Expr,1}}, ::JuliaInterpreter.Frame\u001b[1m)\u001b[22m at \u001b[1m/home/nathan/.julia/packages/Revise/agmgx/src/lowered.jl:81\u001b[22m\n",
      " [10] \u001b[1m#methods_by_execution!\u001b[22m at \u001b[1m./none:0\u001b[22m [inlined]\n",
      " [11] \u001b[1m#methods_by_execution!#9\u001b[22m\u001b[1m(\u001b[22m::Base.Iterators.Pairs{Symbol,Bool,Tuple{Symbol},NamedTuple{(:define,),Tuple{Bool}}}, ::Function, ::Any, ::Revise.CodeTrackingMethodInfo, ::Dict{Module,Array{Expr,1}}, ::Module, ::Expr\u001b[1m)\u001b[22m at \u001b[1m/home/nathan/.julia/packages/Revise/agmgx/src/lowered.jl:49\u001b[22m\n",
      " [12] \u001b[1m#methods_by_execution!\u001b[22m at \u001b[1m./none:0\u001b[22m [inlined]\n",
      " [13] \u001b[1m#eval_with_signatures#59\u001b[22m at \u001b[1m/home/nathan/.julia/packages/Revise/agmgx/src/Revise.jl:344\u001b[22m [inlined]\n",
      " [14] \u001b[1m#eval_with_signatures\u001b[22m at \u001b[1m./none:0\u001b[22m [inlined]\n",
      " [15] \u001b[1m#instantiate_sigs!#60\u001b[22m\u001b[1m(\u001b[22m::Bool, ::Base.Iterators.Pairs{Union{},Union{},Tuple{},NamedTuple{(),Tuple{}}}, ::Function, ::OrderedCollections.OrderedDict{Module,OrderedCollections.OrderedDict{Revise.RelocatableExpr,Union{Nothing, Array{Any,1}}}}\u001b[1m)\u001b[22m at \u001b[1m/home/nathan/.julia/packages/Revise/agmgx/src/Revise.jl:352\u001b[22m\n",
      " [16] \u001b[1minstantiate_sigs!\u001b[22m at \u001b[1m/home/nathan/.julia/packages/Revise/agmgx/src/Revise.jl:349\u001b[22m [inlined]\n",
      " [17] \u001b[1mmaybe_parse_from_cache!\u001b[22m\u001b[1m(\u001b[22m::Revise.PkgData, ::String\u001b[1m)\u001b[22m at \u001b[1m/home/nathan/.julia/packages/Revise/agmgx/src/pkgs.jl:224\u001b[22m\n",
      " [18] \u001b[1m(::getfield(Revise, Symbol(\"##26#27\")){String})\u001b[22m\u001b[1m(\u001b[22m\u001b[1m)\u001b[22m at \u001b[1m/home/nathan/.julia/packages/Revise/agmgx/src/pkgs.jl:370\u001b[22m\n",
      " [19] \u001b[1mwith_logstate\u001b[22m\u001b[1m(\u001b[22m::getfield(Revise, Symbol(\"##26#27\")){String}, ::Base.CoreLogging.LogState\u001b[1m)\u001b[22m at \u001b[1m./logging.jl:395\u001b[22m\n",
      " [20] \u001b[1mwith_logger\u001b[22m at \u001b[1m./logging.jl:491\u001b[22m [inlined]\n",
      " [21] \u001b[1mwatch_manifest\u001b[22m\u001b[1m(\u001b[22m::String\u001b[1m)\u001b[22m at \u001b[1m/home/nathan/.julia/packages/Revise/agmgx/src/pkgs.jl:349\u001b[22m\n",
      " [22] \u001b[1m(::Revise.Rescheduler{typeof(Revise.watch_manifest),Tuple{String}})\u001b[22m\u001b[1m(\u001b[22m\u001b[1m)\u001b[22m at \u001b[1m/home/nathan/.julia/packages/Revise/agmgx/src/types.jl:235\u001b[22m\n",
      "while evaluating\n",
      "function parent(obj::Union{HDF5File, HDF5Group, HDF5Dataset})\n",
      "    #= /home/nathan/.julia/packages/HDF5/2gJEi/src/HDF5.jl:1155 =#\n",
      "    f = file(obj)\n",
      "    #= /home/nathan/.julia/packages/HDF5/2gJEi/src/HDF5.jl:1156 =#\n",
      "    path = name(obj)\n",
      "    #= /home/nathan/.julia/packages/HDF5/2gJEi/src/HDF5.jl:1157 =#\n",
      "    if length(path) == 1\n",
      "        #= /home/nathan/.julia/packages/HDF5/2gJEi/src/HDF5.jl:1158 =#\n",
      "        return f\n",
      "    end\n",
      "    #= /home/nathan/.julia/packages/HDF5/2gJEi/src/HDF5.jl:1160 =#\n",
      "    parentname = dirname(path)\n",
      "    #= /home/nathan/.julia/packages/HDF5/2gJEi/src/HDF5.jl:1161 =#\n",
      "    if !(isempty(parentname))\n",
      "        #= /home/nathan/.julia/packages/HDF5/2gJEi/src/HDF5.jl:1162 =#\n",
      "        return o_open(f, dirname(path))\n",
      "    else\n",
      "        #= /home/nathan/.julia/packages/HDF5/2gJEi/src/HDF5.jl:1164 =#\n",
      "        return root(f)\n",
      "    end\n",
      "end\n",
      "in module Main.HDF5\n",
      "\u001b[91mUndefVarError: HDF5Scalar not defined\u001b[39m\n",
      "Stacktrace:\n",
      " [1] \u001b[1m#collect_args#33\u001b[22m\u001b[1m(\u001b[22m::Bool, ::Function, ::JuliaInterpreter.Frame, ::Expr\u001b[1m)\u001b[22m at \u001b[1m/home/nathan/.julia/packages/JuliaInterpreter/Or807/src/interpret.jl:64\u001b[22m\n",
      " [2] \u001b[1mcollect_args\u001b[22m at \u001b[1m/home/nathan/.julia/packages/JuliaInterpreter/Or807/src/interpret.jl:139\u001b[22m [inlined]\n",
      " [3] \u001b[1m#evaluate_call_recurse!#37\u001b[22m\u001b[1m(\u001b[22m::Bool, ::Function, ::Any, ::JuliaInterpreter.Frame, ::Expr\u001b[1m)\u001b[22m at \u001b[1m/home/nathan/.julia/packages/JuliaInterpreter/Or807/src/interpret.jl:212\u001b[22m\n",
      " [4] \u001b[1mevaluate_call_recurse!\u001b[22m at \u001b[1m/home/nathan/.julia/packages/JuliaInterpreter/Or807/src/interpret.jl:206\u001b[22m [inlined]\n",
      " [5] \u001b[1meval_rhs\u001b[22m\u001b[1m(\u001b[22m::Any, ::JuliaInterpreter.Frame, ::Expr\u001b[1m)\u001b[22m at \u001b[1m/home/nathan/.julia/packages/JuliaInterpreter/Or807/src/interpret.jl:381\u001b[22m\n",
      " [6] \u001b[1mstep_expr!\u001b[22m\u001b[1m(\u001b[22m::Any, ::JuliaInterpreter.Frame, ::Any, ::Bool\u001b[1m)\u001b[22m at \u001b[1m/home/nathan/.julia/packages/JuliaInterpreter/Or807/src/interpret.jl:509\u001b[22m\n",
      " [7] \u001b[1msignature\u001b[22m\u001b[1m(\u001b[22m::Any, ::JuliaInterpreter.Frame, ::Any, ::Int64\u001b[1m)\u001b[22m at \u001b[1m/home/nathan/.julia/packages/LoweredCodeUtils/6EZqd/src/LoweredCodeUtils.jl:146\u001b[22m\n",
      " [8] \u001b[1m#methoddef!#3\u001b[22m\u001b[1m(\u001b[22m::Bool, ::Function, ::Any, ::Array{Any,1}, ::JuliaInterpreter.Frame, ::Any, ::Int64\u001b[1m)\u001b[22m at \u001b[1m/home/nathan/.julia/packages/LoweredCodeUtils/6EZqd/src/LoweredCodeUtils.jl:420\u001b[22m\n"
     ]
    },
    {
     "name": "stderr",
     "output_type": "stream",
     "text": [
      " [9] \u001b[1m(::getfield(LoweredCodeUtils, Symbol(\"#kw##methoddef!\")))\u001b[22m\u001b[1m(\u001b[22m::NamedTuple{(:define,),Tuple{Bool}}, ::typeof(LoweredCodeUtils.methoddef!), ::Function, ::Array{Any,1}Excessive output truncated after 524291 bytes., ::JuliaInterpreter.Frame, ::Expr, ::Int64\u001b[1m)\u001b[22m at \u001b[1m./none:0\u001b[22m\n",
      " [10] \u001b[1m#methods_by_execution!#14\u001b[22m\u001b[1m(\u001b[22m::Bool, ::Bool, ::Function, ::Any, ::Revise.CodeTrackingMethodInfo, ::Dict{Module,Array{Expr,1}}, ::JuliaInterpreter.Frame\u001b[1m)\u001b[22m at \u001b[1m/home/nathan/.julia/packages/Revise/agmgx/src/lowered.jl:81\u001b[22m\n",
      " [11] \u001b[1m#methods_by_execution!\u001b[22m at \u001b[1m./none:0\u001b[22m [inlined]\n",
      " [12] \u001b[1m#methods_by_execution!#9\u001b[22m\u001b[1m(\u001b[22m::Base.Iterators.Pairs{Symbol,Bool,Tuple{Symbol},NamedTuple{(:define,),Tuple{Bool}}}, ::Function, ::Any, ::Revise.CodeTrackingMethodInfo, ::Dict{Module,Array{Expr,1}}, ::Module, ::Expr\u001b[1m)\u001b[22m at \u001b[1m/home/nathan/.julia/packages/Revise/agmgx/src/lowered.jl:49\u001b[22m\n",
      " [13] \u001b[1m#methods_by_execution!\u001b[22m at \u001b[1m./none:0\u001b[22m [inlined]\n",
      " [14] \u001b[1m#eval_with_signatures#59\u001b[22m at \u001b[1m/home/nathan/.julia/packages/Revise/agmgx/src/Revise.jl:344\u001b[22m [inlined]\n",
      " [15] \u001b[1m#eval_with_signatures\u001b[22m at \u001b[1m./none:0\u001b[22m [inlined]\n",
      " [16] \u001b[1m#instantiate_sigs!#60\u001b[22m\u001b[1m(\u001b[22m::Bool, ::Base.Iterators.Pairs{Union{},Union{},Tuple{},NamedTuple{(),Tuple{}}}, ::Function, ::OrderedCollections.OrderedDict{Module,OrderedCollections.OrderedDict{Revise.RelocatableExpr,Union{Nothing, Array{Any,1}}}}\u001b[1m)\u001b[22m at \u001b[1m/home/nathan/.julia/packages/Revise/agmgx/src/Revise.jl:352\u001b[22m\n",
      " [17] \u001b[1minstantiate_sigs!\u001b[22m at \u001b[1m/home/nathan/.julia/packages/Revise/agmgx/src/Revise.jl:349\u001b[22m [inlined]\n",
      " [18] \u001b[1mmaybe_parse_from_cache!\u001b[22m\u001b[1m(\u001b[22m::Revise.PkgData, ::String\u001b[1m)\u001b[22m at \u001b[1m/home/nathan/.julia/packages/Revise/agmgx/src/pkgs.jl:224\u001b[22m\n",
      " [19] \u001b[1m(::getfield(Revise, Symbol(\"##26#27\")){String})\u001b[22m\u001b[1m(\u001b[22m\u001b[1m)\u001b[22m at \u001b[1m/home/nathan/.julia/packages/Revise/agmgx/src/pkgs.jl:370\u001b[22m\n",
      " [20] \u001b[1mwith_logstate\u001b[22m\u001b[1m(\u001b[22m::getfield(Revise, Symbol(\"##26#27\")){String}, ::Base.CoreLogging.LogState\u001b[1m)\u001b[22m at \u001b[1m./logging.jl:395\u001b[22m\n",
      " [21] \u001b[1mwith_logger\u001b[22m at \u001b[1m./logging.jl:491\u001b[22m [inlined]\n",
      " [22] \u001b[1mwatch_manifest\u001b[22m\u001b[1m(\u001b[22m::String\u001b[1m)\u001b[22m at \u001b[1m/home/nathan/.julia/packages/Revise/agmgx/src/pkgs.jl:349\u001b[22m\n",
      " [23] \u001b[1m(::Revise.Rescheduler{typeof(Revise.watch_manifest),Tuple{String}})\u001b[22m\u001b[1m(\u001b[22m\u001b[1m)\u001b[22m at \u001b[1m/home/nathan/.julia/packages/Revise/agmgx/src/types.jl:235\u001b[22m\n",
      "while evaluating\n",
      "(datatype(x::T) where T <: HDF5Scalar) = begin\n",
      "        #= /home/nathan/.julia/packages/HDF5/2gJEi/src/HDF5.jl:1174 =#\n",
      "        HDF5Datatype(hdf5_type_id(T), false)\n",
      "    end\n",
      "in module Main.HDF5\n",
      "\u001b[91mUndefVarError: HDF5Scalar not defined\u001b[39m\n",
      "Stacktrace:\n",
      " [1] \u001b[1m#collect_args#33\u001b[22m\u001b[1m(\u001b[22m::Bool, ::Function, ::JuliaInterpreter.Frame, ::Expr\u001b[1m)\u001b[22m at \u001b[1m/home/nathan/.julia/packages/JuliaInterpreter/Or807/src/interpret.jl:64\u001b[22m\n",
      " [2] \u001b[1mcollect_args\u001b[22m at \u001b[1m/home/nathan/.julia/packages/JuliaInterpreter/Or807/src/interpret.jl:139\u001b[22m [inlined]\n",
      " [3] \u001b[1m#evaluate_call_recurse!#37\u001b[22m\u001b[1m(\u001b[22m::Bool, ::Function, ::Any, ::JuliaInterpreter.Frame, ::Expr\u001b[1m)\u001b[22m at \u001b[1m/home/nathan/.julia/packages/JuliaInterpreter/Or807/src/interpret.jl:212\u001b[22m\n",
      " [4] \u001b[1mevaluate_call_recurse!\u001b[22m at \u001b[1m/home/nathan/.julia/packages/JuliaInterpreter/Or807/src/interpret.jl:206\u001b[22m [inlined]\n",
      " [5] \u001b[1meval_rhs\u001b[22m\u001b[1m(\u001b[22m::Any, ::JuliaInterpreter.Frame, ::Expr\u001b[1m)\u001b[22m at \u001b[1m/home/nathan/.julia/packages/JuliaInterpreter/Or807/src/interpret.jl:381\u001b[22m\n",
      " [6] \u001b[1mstep_expr!\u001b[22m\u001b[1m(\u001b[22m::Any, ::JuliaInterpreter.Frame, ::Any, ::Bool\u001b[1m)\u001b[22m at \u001b[1m/home/nathan/.julia/packages/JuliaInterpreter/Or807/src/interpret.jl:509\u001b[22m\n",
      " [7] \u001b[1msignature\u001b[22m\u001b[1m(\u001b[22m::Any, ::JuliaInterpreter.Frame, ::Any, ::Int64\u001b[1m)\u001b[22m at \u001b[1m/home/nathan/.julia/packages/LoweredCodeUtils/6EZqd/src/LoweredCodeUtils.jl:146\u001b[22m\n",
      " [8] \u001b[1m#methoddef!#3\u001b[22m\u001b[1m(\u001b[22m::Bool, ::Function, ::Any, ::Array{Any,1}, ::JuliaInterpreter.Frame, ::Any, ::Int64\u001b[1m)\u001b[22m at \u001b[1m/home/nathan/.julia/packages/LoweredCodeUtils/6EZqd/src/LoweredCodeUtils.jl:420\u001b[22m\n",
      " [9] \u001b[1m(::getfield(LoweredCodeUtils, Symbol(\"#kw##methoddef!\")))\u001b[22m\u001b[1m(\u001b[22m::NamedTuple{(:define,),Tuple{Bool}}, ::typeof(LoweredCodeUtils.methoddef!), ::Function, ::Array{Any,1}, ::JuliaInterpreter.Frame, ::Expr, ::Int64\u001b[1m)\u001b[22m at \u001b[1m./none:0\u001b[22m\n",
      " [10] \u001b[1m#methods_by_execution!#14\u001b[22m\u001b[1m(\u001b[22m::Bool, ::Bool, ::Function, ::Any, ::Revise.CodeTrackingMethodInfo, ::Dict{Module,Array{Expr,1}}, ::JuliaInterpreter.Frame\u001b[1m)\u001b[22m at \u001b[1m/home/nathan/.julia/packages/Revise/agmgx/src/lowered.jl:81\u001b[22m\n",
      " [11] \u001b[1m#methods_by_execution!\u001b[22m at \u001b[1m./none:0\u001b[22m [inlined]\n",
      " [12] \u001b[1m#methods_by_execution!#9\u001b[22m\u001b[1m(\u001b[22m::Base.Iterators.Pairs{Symbol,Bool,Tuple{Symbol},NamedTuple{(:define,),Tuple{Bool}}}, ::Function, ::Any, ::Revise.CodeTrackingMethodInfo, ::Dict{Module,Array{Expr,1}}, ::Module, ::Expr\u001b[1m)\u001b[22m at \u001b[1m/home/nathan/.julia/packages/Revise/agmgx/src/lowered.jl:49\u001b[22m\n",
      " [13] \u001b[1m#methods_by_execution!\u001b[22m at \u001b[1m./none:0\u001b[22m [inlined]\n",
      " [14] \u001b[1m#eval_with_signatures#59\u001b[22m at \u001b[1m/home/nathan/.julia/packages/Revise/agmgx/src/Revise.jl:344\u001b[22m [inlined]\n",
      " [15] \u001b[1m#eval_with_signatures\u001b[22m at \u001b[1m./none:0\u001b[22m [inlined]\n",
      " [16] \u001b[1m#instantiate_sigs!#60\u001b[22m\u001b[1m(\u001b[22m::Bool, ::Base.Iterators.Pairs{Union{},Union{},Tuple{},NamedTuple{(),Tuple{}}}, ::Function, ::OrderedCollections.OrderedDict{Module,OrderedCollections.OrderedDict{Revise.RelocatableExpr,Union{Nothing, Array{Any,1}}}}\u001b[1m)\u001b[22m at \u001b[1m/home/nathan/.julia/packages/Revise/agmgx/src/Revise.jl:352\u001b[22m\n",
      " [17] \u001b[1minstantiate_sigs!\u001b[22m at \u001b[1m/home/nathan/.julia/packages/Revise/agmgx/src/Revise.jl:349\u001b[22m [inlined]\n",
      " [18] \u001b[1mmaybe_parse_from_cache!\u001b[22m\u001b[1m(\u001b[22m::Revise.PkgData, ::String\u001b[1m)\u001b[22m at \u001b[1m/home/nathan/.julia/packages/Revise/agmgx/src/pkgs.jl:224\u001b[22m\n",
      " [19] \u001b[1m(::getfield(Revise, Symbol(\"##26#27\")){String})\u001b[22m\u001b[1m(\u001b[22m\u001b[1m)\u001b[22m at \u001b[1m/home/nathan/.julia/packages/Revise/agmgx/src/pkgs.jl:370\u001b[22m\n",
      " [20] \u001b[1mwith_logstate\u001b[22m\u001b[1m(\u001b[22m::getfield(Revise, Symbol(\"##26#27\")){String}, ::Base.CoreLogging.LogState\u001b[1m)\u001b[22m at \u001b[1m./logging.jl:395\u001b[22m\n",
      " [21] \u001b[1mwith_logger\u001b[22m at \u001b[1m./logging.jl:491\u001b[22m [inlined]\n",
      " [22] \u001b[1mwatch_manifest\u001b[22m\u001b[1m(\u001b[22m::String\u001b[1m)\u001b[22m at \u001b[1m/home/nathan/.julia/packages/Revise/agmgx/src/pkgs.jl:349\u001b[22m\n",
      " [23] \u001b[1m(::Revise.Rescheduler{typeof(Revise.watch_manifest),Tuple{String}})\u001b[22m\u001b[1m(\u001b[22m\u001b[1m)\u001b[22m at \u001b[1m/home/nathan/.julia/packages/Revise/agmgx/src/types.jl:235\u001b[22m\n",
      "while evaluating\n",
      "(datatype(::Type{T}) where T <: HDF5Scalar) = begin\n",
      "        #= /home/nathan/.julia/packages/HDF5/2gJEi/src/HDF5.jl:1175 =#\n",
      "        HDF5Datatype(hdf5_type_id(T), false)\n",
      "    end\n",
      "in module Main.HDF5\n",
      "\u001b[91mUndefVarError: HDF5Scalar not defined\u001b[39m\n",
      "Stacktrace:\n",
      " [1] \u001b[1m#collect_args#33\u001b[22m\u001b[1m(\u001b[22m::Bool, ::Function, ::JuliaInterpreter.Frame, ::Expr\u001b[1m)\u001b[22m at \u001b[1m/home/nathan/.julia/packages/JuliaInterpreter/Or807/src/interpret.jl:64\u001b[22m\n",
      " [2] "
     ]
    }
   ],
   "source": [
    "printFull(transpose(EvG))"
   ]
  },
  {
   "cell_type": "markdown",
   "metadata": {},
   "source": [
    "# Applications"
   ]
  },
  {
   "cell_type": "markdown",
   "metadata": {
    "heading_collapsed": true
   },
   "source": [
    "## Entity Analysis"
   ]
  },
  {
   "cell_type": "markdown",
   "metadata": {
    "heading_collapsed": true,
    "hidden": true
   },
   "source": [
    "### EA1 Read"
   ]
  },
  {
   "cell_type": "markdown",
   "metadata": {
    "hidden": true
   },
   "source": [
    "Read entity data and organize into sparse associative array.\n",
    "\n",
    "Entity data are derived summaries obtained by from automated\n",
    "entity extraction algorithms applied to <1% of the NIST Rueters Corpus.\n",
    "See: http://trec.nist.gov/data/reuters/reuters.html"
   ]
  },
  {
   "cell_type": "code",
   "execution_count": null,
   "metadata": {
    "collapsed": true,
    "hidden": true
   },
   "outputs": [],
   "source": [
    "using PyPlot,JLD2\n",
    "\n",
    "file_dir = Pkg.dir(\"D4M\")*\"/examples/2Apps/1EntityAnalysis/Entity.csv\"\n",
    "save_dir = \"Entity.jld\"\n",
    "\n",
    "E_raw = ReadCSV(file_dir)\n",
    "printFull(E_raw[1:5,:])"
   ]
  },
  {
   "cell_type": "markdown",
   "metadata": {
    "hidden": true
   },
   "source": [
    "Organize data into new format."
   ]
  },
  {
   "cell_type": "code",
   "execution_count": null,
   "metadata": {
    "collapsed": true,
    "hidden": true,
    "scrolled": false
   },
   "outputs": [],
   "source": [
    "row,col,doc_val      = find(E_raw[:,\"doc,\"])\n",
    "row,col,entity_val   = find(E_raw[:,\"entity,\"])\n",
    "row,col,position_val = find(E_raw[:,\"position,\"])\n",
    "row,col,type_val     = find(E_raw[:,\"type,\"])\n",
    "\n",
    "typeEntity_val = CatStr(type_val, \"/\" , entity_val);"
   ]
  },
  {
   "cell_type": "markdown",
   "metadata": {
    "hidden": true
   },
   "source": [
    "Create a sparse associative array of all the data."
   ]
  },
  {
   "cell_type": "code",
   "execution_count": null,
   "metadata": {
    "collapsed": true,
    "hidden": true
   },
   "outputs": [],
   "source": [
    "E = Assoc(doc_val,typeEntity_val,position_val)"
   ]
  },
  {
   "cell_type": "markdown",
   "metadata": {
    "hidden": true
   },
   "source": [
    "Show a few rows and plot a spy plot."
   ]
  },
  {
   "cell_type": "code",
   "execution_count": null,
   "metadata": {
    "collapsed": true,
    "hidden": true
   },
   "outputs": [],
   "source": [
    "print(E[1:5,:])\n",
    "spy(E[1:1000,:]')"
   ]
  },
  {
   "cell_type": "markdown",
   "metadata": {
    "hidden": true
   },
   "source": [
    "Save associative array."
   ]
  },
  {
   "cell_type": "code",
   "execution_count": null,
   "metadata": {
    "collapsed": true,
    "hidden": true
   },
   "outputs": [],
   "source": [
    "save(save_dir,\"E\",E)"
   ]
  },
  {
   "cell_type": "markdown",
   "metadata": {
    "heading_collapsed": true,
    "hidden": true
   },
   "source": [
    "### EA2 Statistics"
   ]
  },
  {
   "cell_type": "markdown",
   "metadata": {
    "hidden": true
   },
   "source": [
    "Compute statistics on entity data."
   ]
  },
  {
   "cell_type": "code",
   "execution_count": null,
   "metadata": {
    "collapsed": true,
    "hidden": true
   },
   "outputs": [],
   "source": [
    "using JLD2, PyPlot\n",
    "\n",
    "E = load(\"./Entity.jld\")[\"E\"];"
   ]
  },
  {
   "cell_type": "markdown",
   "metadata": {
    "hidden": true
   },
   "source": [
    "Calculate number of entities in each category, then count the number of times each entity occurs."
   ]
  },
  {
   "cell_type": "code",
   "execution_count": null,
   "metadata": {
    "collapsed": true,
    "hidden": true
   },
   "outputs": [],
   "source": [
    "print(sum(logical(col2type(E,\"/\")),1))\n",
    "En = sum(logical(E),1)"
   ]
  },
  {
   "cell_type": "markdown",
   "metadata": {
    "hidden": true
   },
   "source": [
    "Plot the log-log plot of location frequencies. Notice the power-law distribution."
   ]
  },
  {
   "cell_type": "code",
   "execution_count": null,
   "metadata": {
    "collapsed": true,
    "hidden": true
   },
   "outputs": [],
   "source": [
    "row,entity,count = find(En)\n",
    "An = Assoc(count,entity,1)\n",
    "\n",
    "loglog(full(sum(getadj(An[:,StartsWith(\"LOCATION/,\")]),2)) ,\"o\")"
   ]
  },
  {
   "cell_type": "markdown",
   "metadata": {
    "heading_collapsed": true,
    "hidden": true
   },
   "source": [
    "### Facet"
   ]
  },
  {
   "cell_type": "markdown",
   "metadata": {
    "hidden": true
   },
   "source": [
    "Entity facet search. Shows next most common terms."
   ]
  },
  {
   "cell_type": "code",
   "execution_count": null,
   "metadata": {
    "collapsed": true,
    "hidden": true
   },
   "outputs": [],
   "source": [
    "using JLD2\n",
    "\n",
    "E = load(\"./Entity.jld\")[\"E\"]\n",
    "E = logical(E);"
   ]
  },
  {
   "cell_type": "markdown",
   "metadata": {
    "hidden": true
   },
   "source": [
    "Facet search: Finding entities that occur commonly with LOCATION/new york and PERSON/michael chang."
   ]
  },
  {
   "cell_type": "code",
   "execution_count": null,
   "metadata": {
    "collapsed": true,
    "hidden": true
   },
   "outputs": [],
   "source": [
    "x = \"LOCATION/new york,\"\n",
    "p = \"PERSON/michael chang,\"\n",
    "F = ( nocol(E[:,x]) & nocol(E[:,p]))' * E\n",
    "print(F' > 1 )"
   ]
  },
  {
   "cell_type": "markdown",
   "metadata": {
    "hidden": true
   },
   "source": [
    "Normalize the previous result."
   ]
  },
  {
   "cell_type": "code",
   "execution_count": null,
   "metadata": {
    "collapsed": true,
    "hidden": true
   },
   "outputs": [],
   "source": [
    "Fn = F ./ sum(E,1)\n",
    "print((Fn' > 0.02))"
   ]
  },
  {
   "cell_type": "markdown",
   "metadata": {
    "hidden": true
   },
   "source": [
    "### Graph"
   ]
  },
  {
   "cell_type": "markdown",
   "metadata": {
    "hidden": true
   },
   "source": [
    "Compute graphs from entity edge data."
   ]
  },
  {
   "cell_type": "code",
   "execution_count": null,
   "metadata": {
    "collapsed": true,
    "hidden": true
   },
   "outputs": [],
   "source": [
    "using JLD2,PyPlot\n",
    "E = load(\"./Entity.jld\")[\"E\"];"
   ]
  },
  {
   "cell_type": "markdown",
   "metadata": {
    "hidden": true
   },
   "source": [
    "Computing adjacency matrix for the Entity-Entity graph."
   ]
  },
  {
   "cell_type": "code",
   "execution_count": null,
   "metadata": {
    "collapsed": true,
    "hidden": true,
    "scrolled": false
   },
   "outputs": [],
   "source": [
    "Es = E\n",
    "E = logical(E)\n",
    "Ae = sqIn(E)\n",
    "\n",
    "spy(Ae)"
   ]
  },
  {
   "cell_type": "markdown",
   "metadata": {
    "hidden": true
   },
   "source": [
    "Compute entity-entity graph that preserves keys (documents))."
   ]
  },
  {
   "cell_type": "code",
   "execution_count": null,
   "metadata": {
    "collapsed": true,
    "hidden": true
   },
   "outputs": [],
   "source": [
    "# Limit to people with names starting with j\n",
    "p = StartsWith(\"PERSON/j,\");\n",
    "Ep = E[:,p]\n",
    "\n",
    "# Correlate while preserving keys\n",
    "Ap = CatKeyMul(Ep',Ep)\n",
    "spy(Ap)"
   ]
  },
  {
   "cell_type": "markdown",
   "metadata": {
    "hidden": true
   },
   "source": [
    "Create document-document graph: documents that contain the same entities."
   ]
  },
  {
   "cell_type": "code",
   "execution_count": null,
   "metadata": {
    "collapsed": true,
    "hidden": true
   },
   "outputs": [],
   "source": [
    "Ad = sqOut(Ep)\n",
    "spy(Ad)"
   ]
  },
  {
   "cell_type": "markdown",
   "metadata": {
    "hidden": true
   },
   "source": [
    "### Graph Query"
   ]
  },
  {
   "cell_type": "markdown",
   "metadata": {
    "hidden": true
   },
   "source": [
    "Various ways to query subgraphs."
   ]
  },
  {
   "cell_type": "code",
   "execution_count": null,
   "metadata": {
    "collapsed": true,
    "hidden": true
   },
   "outputs": [],
   "source": [
    "using JLD2,PyPlot\n",
    "\n",
    "file_dir = \"./Entity.jld\"\n",
    "E = load(file_dir)[\"E\"]\n",
    "E = logical(E);"
   ]
  },
  {
   "cell_type": "markdown",
   "metadata": {
    "hidden": true
   },
   "source": [
    "Compute entity (all facet pairs)."
   ]
  },
  {
   "cell_type": "code",
   "execution_count": null,
   "metadata": {
    "collapsed": true,
    "hidden": true
   },
   "outputs": [],
   "source": [
    "A = sqIn(E)\n",
    "d = diag(getadj(A))\n",
    "A = A - diag(A)\n",
    "\n",
    "print(A[2,:])"
   ]
  },
  {
   "cell_type": "markdown",
   "metadata": {
    "hidden": true
   },
   "source": [
    "Compute normalized correlation."
   ]
  },
  {
   "cell_type": "code",
   "execution_count": null,
   "metadata": {
    "collapsed": true,
    "hidden": true
   },
   "outputs": [],
   "source": [
    "i,j,v = findnz(getadj(A))\n",
    "An = putAdj(A, sparse(i,j,v ./ min.(d[i],d[j])))\n",
    "\n",
    "print(An[2,:])"
   ]
  },
  {
   "cell_type": "markdown",
   "metadata": {
    "hidden": true
   },
   "source": [
    "Multi-facet queries."
   ]
  },
  {
   "cell_type": "code",
   "execution_count": null,
   "metadata": {
    "collapsed": true,
    "hidden": true
   },
   "outputs": [],
   "source": [
    "x = \"LOCATION/new york,\"\n",
    "p = StartsWith(\"PERSON/,\")\n",
    "printFull( (A[p,x] > 4) & (An[p,x] > 0.3))"
   ]
  },
  {
   "cell_type": "markdown",
   "metadata": {
    "hidden": true
   },
   "source": [
    "Find triangles."
   ]
  },
  {
   "cell_type": "code",
   "execution_count": null,
   "metadata": {
    "collapsed": true,
    "hidden": true,
    "scrolled": true
   },
   "outputs": [],
   "source": [
    "p0 = \"PERSON/john kennedy,\"\n",
    "\n",
    "p1 = getrow(A[p,p0] + A[p0,p])\n",
    "spy(A[p1,p1])\n",
    "\n",
    "p2 = getrow( A[p1,p1] - (A[p,p0]+ A[p0,p]))\n",
    "print(A[p2,p2] > 1)"
   ]
  },
  {
   "cell_type": "markdown",
   "metadata": {
    "collapsed": true
   },
   "source": [
    "## Track Analysis"
   ]
  },
  {
   "cell_type": "markdown",
   "metadata": {},
   "source": [
    "### Build"
   ]
  },
  {
   "cell_type": "markdown",
   "metadata": {},
   "source": [
    "General approach to computing tracks from entity edge data."
   ]
  },
  {
   "cell_type": "code",
   "execution_count": null,
   "metadata": {
    "collapsed": true
   },
   "outputs": [],
   "source": [
    "using JLD2,PyPlot\n",
    "\n",
    "E = load(\"Entity.jld\")[\"E\"]\n",
    "E = logical(E);"
   ]
  },
  {
   "cell_type": "markdown",
   "metadata": {},
   "source": [
    "Show general purpose method for building tracks."
   ]
  },
  {
   "cell_type": "code",
   "execution_count": null,
   "metadata": {
    "collapsed": true
   },
   "outputs": [],
   "source": [
    "p = StartsWith(\"PERSON/,\")      # Set entity range.\n",
    "t = StartsWith(\"TIME/,\")        # Set time range.\n",
    "x = StartsWith(\"LOCATION/,\")    # Set spatial range.\n",
    "a = StartsWith(\"PERSON/,TIME/,LOCATION/,\");"
   ]
  },
  {
   "cell_type": "markdown",
   "metadata": {},
   "source": [
    "Limit to edges with all three."
   ]
  },
  {
   "cell_type": "code",
   "execution_count": null,
   "metadata": {
    "collapsed": true
   },
   "outputs": [],
   "source": [
    "E3 = E[getrow( sum(E[:,p],2) & sum(E[:,t],2) & sum(E[:,x],2) ),a];"
   ]
  },
  {
   "cell_type": "markdown",
   "metadata": {},
   "source": [
    "Collapse to get unique time and space for each edge and get triples."
   ]
  },
  {
   "cell_type": "code",
   "execution_count": null,
   "metadata": {
    "collapsed": true
   },
   "outputs": [],
   "source": [
    "edge,time  = find(  val2col(col2type(E3[:,t],\"/\"),\"/\")  )\n",
    "edge,space = find(  val2col(col2type(E3[:,x],\"/\"),\"/\")  )\n",
    "\n",
    "Etx = Assoc(edge,time,space)     # Combine edge, time and space.\n",
    "Ext = Assoc(edge,space,time)     # Combine edge, space and time."
   ]
  },
  {
   "cell_type": "markdown",
   "metadata": {},
   "source": [
    "Construct time tracks with matrix multiply."
   ]
  },
  {
   "cell_type": "code",
   "execution_count": null,
   "metadata": {
    "collapsed": true
   },
   "outputs": [],
   "source": [
    "At = CatValMul(transpose(Etx),E3[:,p]) \n",
    "spy(At')\n",
    "axis(\"auto\")"
   ]
  },
  {
   "cell_type": "markdown",
   "metadata": {},
   "source": [
    "Construct space tracks with matrix multiply."
   ]
  },
  {
   "cell_type": "code",
   "execution_count": null,
   "metadata": {
    "collapsed": true
   },
   "outputs": [],
   "source": [
    "Ax = CatValMul(transpose(Ext),E3[:,p]) \n",
    "spy(Ax')\n",
    "axis(\"auto\")"
   ]
  },
  {
   "cell_type": "markdown",
   "metadata": {},
   "source": [
    "### TA2 Query"
   ]
  },
  {
   "cell_type": "markdown",
   "metadata": {},
   "source": [
    "Compute tracks from entity edge data."
   ]
  },
  {
   "cell_type": "code",
   "execution_count": null,
   "metadata": {
    "collapsed": true
   },
   "outputs": [],
   "source": [
    "function findtracks(A,t,p,l);\n",
    "#findtracks creates track associative array.\n",
    "\n",
    "    # Find docs that have person\n",
    "    DocIDwPer = getrow(A[:,p]);\n",
    "\n",
    "    # Find docs that have person and location.\n",
    "    DocIDwPerLoc = getrow(A[DocIDwPer,l]);\n",
    "\n",
    "    # Find docs that have person, location and time.\n",
    "    DocIDwPerLocTime = getrow(A[DocIDwPerLoc,t]);\n",
    "\n",
    "    # Limit to these documents.\n",
    "    AA = A[DocIDwPerLocTime,:];\n",
    "\n",
    "    # Get person sub array.\n",
    "    Aper = AA[DocIDwPerLocTime,p];\n",
    "    TrackPer,DocAper = find(Aper');\n",
    "\n",
    "    # Get location sub array.\n",
    "    Aloc = AA[DocIDwPerLocTime,l];\n",
    "    EntAloc,DocAloc = find(Aloc');\n",
    "\n",
    "    # Get Single location per document- order by actors\n",
    "    uLocDocs = unique(DocAloc)\n",
    "    uLocDocIdx = [1; indexin(uLocDocs,DocAloc)[1:end-1]+1] # get first index of unique docs (correct for getting highest)\n",
    "    uDocLocs = EntAloc[uLocDocIdx] # single locations per document\n",
    "    uLocDocIdxinDocAper = indexin(DocAper,uLocDocs) # locations of unique loc docs in per doc list\n",
    "    TrackLoc = uDocLocs[uLocDocIdxinDocAper]\n",
    "\n",
    "    # Get time sub array.\n",
    "    Atime = AA[DocIDwPerLocTime,t];\n",
    "    EntAtime,DocAtime = find(Atime');\n",
    "\n",
    "    # Get Single time per document- order by actors\n",
    "    uTimeDocs = unique(DocAtime)\n",
    "    uTimeDocIdx = [1; indexin(uTimeDocs,DocAtime)[1:end-1]+1] # get first index of unique docs (correct for getting highest)\n",
    "    uDocTimes = EntAtime[uTimeDocIdx] # single times per document\n",
    "    uTimeDocIdxinDocAper = indexin(DocAper,uTimeDocs) # locations of unique time docs in per doc list\n",
    "    TrackTime = uDocTimes[uTimeDocIdxinDocAper]\n",
    "\n",
    "    Tr = Assoc(TrackTime,TrackPer,TrackLoc);\n",
    "                    \n",
    "end"
   ]
  },
  {
   "cell_type": "markdown",
   "metadata": {},
   "source": [
    "Load edge incidence matrix."
   ]
  },
  {
   "cell_type": "code",
   "execution_count": null,
   "metadata": {
    "collapsed": true
   },
   "outputs": [],
   "source": [
    "using JLD2\n",
    "\n",
    "E = load(\"Entity.jld\")[\"E\"]\n",
    "Es = E\n",
    "A = logical(E);"
   ]
  },
  {
   "cell_type": "markdown",
   "metadata": {},
   "source": [
    "Set prefixes and build entity tracks using findtracks function."
   ]
  },
  {
   "cell_type": "code",
   "execution_count": null,
   "metadata": {
    "collapsed": true
   },
   "outputs": [],
   "source": [
    "p = StartsWith(\"PERSON/,\")\n",
    "t = StartsWith(\"TIME/,\")\n",
    "x = StartsWith(\"LOCATION/,\")\n",
    "\n",
    "A = findtracks(E,t,p,x);"
   ]
  },
  {
   "cell_type": "markdown",
   "metadata": {},
   "source": [
    "Track queries (Where have Michael Chang and Javier Sanchez been when?)"
   ]
  },
  {
   "cell_type": "code",
   "execution_count": null,
   "metadata": {
    "collapsed": true
   },
   "outputs": [],
   "source": [
    "p1 = \"PERSON/michael chang,\"\n",
    "p2 = \"PERSON/javier sanchez,\"\n",
    "printFull( A[:,p1*p2] )"
   ]
  },
  {
   "cell_type": "markdown",
   "metadata": {},
   "source": [
    "Track windows (Who was in Austria during this time?)"
   ]
  },
  {
   "cell_type": "code",
   "execution_count": null,
   "metadata": {
    "collapsed": true
   },
   "outputs": [],
   "source": [
    "t = \"TIME/1996-09-03,:,TIME/1996-09-06,\"\n",
    "x = \"LOCATION/austria\"\n",
    "getcol(A[t,:] == x)"
   ]
  },
  {
   "cell_type": "markdown",
   "metadata": {},
   "source": [
    "### TA3 Graph"
   ]
  },
  {
   "cell_type": "markdown",
   "metadata": {},
   "source": [
    "Compute tracks from entity edge data."
   ]
  },
  {
   "cell_type": "code",
   "execution_count": null,
   "metadata": {
    "collapsed": true
   },
   "outputs": [],
   "source": [
    "function findtrackgraph(Atrack)\n",
    "#findtrackgraph forms graph of locations from Track Associative array.\n",
    "\n",
    "    # Find 1 hop and >1 hop tracks.\n",
    "    AtrackHop = sum(Atrack,1);\n",
    "    Hop1 = getcol(AtrackHop == 1);\n",
    "    Hop2 = getcol(AtrackHop > 1); \n",
    "\n",
    "    # Get track list.  Naturally comes out sorted by p.\n",
    "    t1,p1,x1 = find(Atrack[:,Hop1]);\n",
    "    AtrackGraph1 = Assoc(x1,x1,1,(+));\n",
    "\n",
    "    t2,p2,x2 = find(Atrack[:,Hop2]);\n",
    "\n",
    "    # Create matrices and shifted matrices.\n",
    "    p22 = circshift(p2,-1);\n",
    "    x22 = circshift(x2,-1);\n",
    "\n",
    "    # Find where p21 and p22 are the same.\n",
    "    test = p2 .== p22;   \n",
    "    x21 = x2[test];   \n",
    "    x22 = x22[test];   \n",
    "\n",
    "    AtrackGraph2 = Assoc(x21,x22,1);\n",
    "\n",
    "    AtrackGraph = AtrackGraph1 + AtrackGraph2;\n",
    "\n",
    "end"
   ]
  },
  {
   "cell_type": "code",
   "execution_count": null,
   "metadata": {
    "collapsed": true
   },
   "outputs": [],
   "source": [
    "using JLD2,PyPlot\n",
    "\n",
    "# Load edge incidence matrix.\n",
    "E = load(\"Entity.jld\")[\"E\"]\n",
    "E = logical(E);"
   ]
  },
  {
   "cell_type": "markdown",
   "metadata": {},
   "source": [
    "Build entity tracks with findtracks function."
   ]
  },
  {
   "cell_type": "code",
   "execution_count": null,
   "metadata": {
    "collapsed": true
   },
   "outputs": [],
   "source": [
    "p = StartsWith(\"PERSON/,\")\n",
    "t = StartsWith(\"TIME/,\")\n",
    "x = StartsWith(\"LOCATION/,\")\n",
    "\n",
    "A = findtracks(E,t,p,x);"
   ]
  },
  {
   "cell_type": "markdown",
   "metadata": {},
   "source": [
    "Build track graph."
   ]
  },
  {
   "cell_type": "code",
   "execution_count": null,
   "metadata": {
    "collapsed": true
   },
   "outputs": [],
   "source": [
    "G = findtrackgraph(A)\n",
    "print(G > 5)\n",
    "spy(G)"
   ]
  },
  {
   "cell_type": "markdown",
   "metadata": {},
   "source": [
    "Track graph pattern."
   ]
  },
  {
   "cell_type": "code",
   "execution_count": null,
   "metadata": {
    "collapsed": true
   },
   "outputs": [],
   "source": [
    "o = \"ORGANIZATION/international monetary fund,\"\n",
    "p = StartsWith(\"PERSON/,\")\n",
    "Go = findtrackgraph(A[:,getcol(E[getrow(E[:,o]),p])])\n",
    "\n",
    "print((Go > 2) & ((Go ./ G) > 0.2))"
   ]
  },
  {
   "cell_type": "code",
   "execution_count": null,
   "metadata": {
    "collapsed": true
   },
   "outputs": [],
   "source": []
  }
 ],
 "metadata": {
  "kernelspec": {
   "display_name": "Julia 1.0.4",
   "language": "julia",
   "name": "julia-1.0"
  },
  "language_info": {
   "file_extension": ".jl",
   "mimetype": "application/julia",
   "name": "julia",
   "version": "1.0.4"
  },
  "latex_envs": {
   "LaTeX_envs_menu_present": true,
   "autocomplete": true,
   "bibliofile": "biblio.bib",
   "cite_by": "apalike",
   "current_citInitial": 1,
   "eqLabelWithNumbers": true,
   "eqNumInitial": 1,
   "hotkeys": {
    "equation": "Ctrl-E",
    "itemize": "Ctrl-I"
   },
   "labels_anchors": false,
   "latex_user_defs": false,
   "report_style_numbering": false,
   "user_envs_cfg": false
  },
  "toc": {
   "nav_menu": {},
   "number_sections": true,
   "sideBar": true,
   "skip_h1_title": false,
   "toc_cell": false,
   "toc_position": {},
   "toc_section_display": "block",
   "toc_window_display": false
  },
  "varInspector": {
   "cols": {
    "lenName": 16,
    "lenType": 16,
    "lenVar": 40
   },
   "kernels_config": {
    "python": {
     "delete_cmd_postfix": "",
     "delete_cmd_prefix": "del ",
     "library": "var_list.py",
     "varRefreshCmd": "print(var_dic_list())"
    },
    "r": {
     "delete_cmd_postfix": ") ",
     "delete_cmd_prefix": "rm(",
     "library": "var_list.r",
     "varRefreshCmd": "cat(var_dic_list()) "
    }
   },
   "types_to_exclude": [
    "module",
    "function",
    "builtin_function_or_method",
    "instance",
    "_Feature"
   ],
   "window_display": false
  }
 },
 "nbformat": 4,
 "nbformat_minor": 2
}
