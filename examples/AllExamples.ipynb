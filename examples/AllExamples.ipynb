{
 "cells": [
  {
   "cell_type": "code",
   "execution_count": 1,
   "metadata": {
    "collapsed": true
   },
   "outputs": [],
   "source": [
    "using D4M"
   ]
  },
  {
   "cell_type": "markdown",
   "metadata": {},
   "source": [
    "# Intro"
   ]
  },
  {
   "cell_type": "markdown",
   "metadata": {},
   "source": [
    "## Assoc Intro"
   ]
  },
  {
   "cell_type": "markdown",
   "metadata": {},
   "source": [
    "### AI1 Setup"
   ]
  },
  {
   "cell_type": "markdown",
   "metadata": {},
   "source": [
    "Hello! This is a test on the basic Assoc Array construction. Associative array takes on entries of triplets, and it will parse an array of substrings that is divided by char divider.\n",
    "\n",
    "--Please note that this divider is indicated as the last char in the string."
   ]
  },
  {
   "cell_type": "code",
   "execution_count": 2,
   "metadata": {},
   "outputs": [
    {
     "data": {
      "text/plain": [
       "Assoc(Union{AbstractString, Number}[\"a\", \"aa\", \"aaa\", \"b\", \"bb\", \"bbb\"], Union{AbstractString, Number}[\"a\", \"aa\", \"aaa\", \"b\", \"bb\", \"bbb\"], Union{AbstractString, Number}[\"a-a\", \"a-aa\", \"a-aaa\", \"a-b\", \"a-bb\", \"a-bbb\", \"aa-a\", \"aa-aa\", \"aaa-a\", \"aaa-aaa\", \"b-a\", \"b-b\", \"bb-a\", \"bb-bb\", \"bbb-a\", \"bbb-bbb\"], \n",
       "  [1, 1]  =  1\n",
       "  [2, 1]  =  7\n",
       "  [3, 1]  =  9\n",
       "  [4, 1]  =  11\n",
       "  [5, 1]  =  13\n",
       "  [6, 1]  =  15\n",
       "  [1, 2]  =  2\n",
       "  [2, 2]  =  8\n",
       "  [1, 3]  =  3\n",
       "  [3, 3]  =  10\n",
       "  [1, 4]  =  4\n",
       "  [4, 4]  =  12\n",
       "  [1, 5]  =  5\n",
       "  [5, 5]  =  14\n",
       "  [1, 6]  =  6\n",
       "  [6, 6]  =  16)"
      ]
     },
     "execution_count": 2,
     "metadata": {},
     "output_type": "execute_result"
    }
   ],
   "source": [
    "row = \"a,a,a,a,a,a,a,aa,aaa,b,bb,bbb,a,aa,aaa,b,bb,bbb,\"\n",
    "column = \"a,aa,aaa,b,bb,bbb,a,a,a,a,a,a,a,aa,aaa,b,bb,bbb,\"\n",
    "values = \"a-a,a-aa,a-aaa,a-b,a-bb,a-bbb,a-a,aa-a,aaa-a,b-a,bb-a,bbb-a,a-a,aa-aa,aaa-aaa,b-b,bb-bb,bbb-bbb,\"\n",
    "\n",
    "# Create assoc array and list triples.\n",
    "A = Assoc(row,column,values)"
   ]
  },
  {
   "cell_type": "markdown",
   "metadata": {},
   "source": [
    "This is the data structure of the Associative Array Class:"
   ]
  },
  {
   "cell_type": "code",
   "execution_count": 3,
   "metadata": {},
   "outputs": [
    {
     "name": "stdout",
     "output_type": "stream",
     "text": [
      "Assoc\n",
      "  row: Array{Union{AbstractString, Number}}((6,))\n",
      "    1: SubString{String}\n",
      "      string: String \"a,a,a,a,a,a,a,aa,aaa,b,bb,bbb,a,aa,aaa,b,bb,bbb,\"\n",
      "      offset: Int64 0\n",
      "      endof: Int64 1\n",
      "    2: SubString{String}\n",
      "      string: String \"a,a,a,a,a,a,a,aa,aaa,b,bb,bbb,a,aa,aaa,b,bb,bbb,\"\n",
      "      offset: Int64 14\n",
      "      endof: Int64 2\n",
      "    3: SubString{String}\n",
      "      string: String \"a,a,a,a,a,a,a,aa,aaa,b,bb,bbb,a,aa,aaa,b,bb,bbb,\"\n",
      "      offset: Int64 17\n",
      "      endof: Int64 3\n",
      "    4: SubString{String}\n",
      "      string: String \"a,a,a,a,a,a,a,aa,aaa,b,bb,bbb,a,aa,aaa,b,bb,bbb,\"\n",
      "      offset: Int64 21\n",
      "      endof: Int64 1\n",
      "    5: SubString{String}\n",
      "      string: String \"a,a,a,a,a,a,a,aa,aaa,b,bb,bbb,a,aa,aaa,b,bb,bbb,\"\n",
      "      offset: Int64 23\n",
      "      endof: Int64 2\n",
      "    6: SubString{String}\n",
      "      string: String \"a,a,a,a,a,a,a,aa,aaa,b,bb,bbb,a,aa,aaa,b,bb,bbb,\"\n",
      "      offset: Int64 26\n",
      "      endof: Int64 3\n",
      "  col: Array{Union{AbstractString, Number}}((6,))\n",
      "    1: SubString{String}\n",
      "      string: String \"a,aa,aaa,b,bb,bbb,a,a,a,a,a,a,a,aa,aaa,b,bb,bbb,\"\n",
      "      offset: Int64 0\n",
      "      endof: Int64 1\n",
      "    2: SubString{String}\n",
      "      string: String \"a,aa,aaa,b,bb,bbb,a,a,a,a,a,a,a,aa,aaa,b,bb,bbb,\"\n",
      "      offset: Int64 2\n",
      "      endof: Int64 2\n",
      "    3: SubString{String}\n",
      "      string: String \"a,aa,aaa,b,bb,bbb,a,a,a,a,a,a,a,aa,aaa,b,bb,bbb,\"\n",
      "      offset: Int64 5\n",
      "      endof: Int64 3\n",
      "    4: SubString{String}\n",
      "      string: String \"a,aa,aaa,b,bb,bbb,a,a,a,a,a,a,a,aa,aaa,b,bb,bbb,\"\n",
      "      offset: Int64 9\n",
      "      endof: Int64 1\n",
      "    5: SubString{String}\n",
      "      string: String \"a,aa,aaa,b,bb,bbb,a,a,a,a,a,a,a,aa,aaa,b,bb,bbb,\"\n",
      "      offset: Int64 11\n",
      "      endof: Int64 2\n",
      "    6: SubString{String}\n",
      "      string: String \"a,aa,aaa,b,bb,bbb,a,a,a,a,a,a,a,aa,aaa,b,bb,bbb,\"\n",
      "      offset: Int64 14\n",
      "      endof: Int64 3\n",
      "  val: Array{Union{AbstractString, Number}}((16,))\n",
      "    1: SubString{String}\n",
      "      string: String \"a-a,a-aa,a-aaa,a-b,a-bb,a-bbb,a-a,aa-a,aaa-a,b-a,bb-a,bbb-a,a-a,aa-aa,aaa-aaa,b-b,bb-bb,bbb-bbb,\"\n",
      "      offset: Int64 0\n",
      "      endof: Int64 3\n",
      "    2: SubString{String}\n",
      "      string: String \"a-a,a-aa,a-aaa,a-b,a-bb,a-bbb,a-a,aa-a,aaa-a,b-a,bb-a,bbb-a,a-a,aa-aa,aaa-aaa,b-b,bb-bb,bbb-bbb,\"\n",
      "      offset: Int64 4\n",
      "      endof: Int64 4\n",
      "    3: SubString{String}\n",
      "      string: String \"a-a,a-aa,a-aaa,a-b,a-bb,a-bbb,a-a,aa-a,aaa-a,b-a,bb-a,bbb-a,a-a,aa-aa,aaa-aaa,b-b,bb-bb,bbb-bbb,\"\n",
      "      offset: Int64 9\n",
      "      endof: Int64 5\n",
      "    4: SubString{String}\n",
      "      string: String \"a-a,a-aa,a-aaa,a-b,a-bb,a-bbb,a-a,aa-a,aaa-a,b-a,bb-a,bbb-a,a-a,aa-aa,aaa-aaa,b-b,bb-bb,bbb-bbb,\"\n",
      "      offset: Int64 15\n",
      "      endof: Int64 3\n",
      "    5: SubString{String}\n",
      "      string: String \"a-a,a-aa,a-aaa,a-b,a-bb,a-bbb,a-a,aa-a,aaa-a,b-a,bb-a,bbb-a,a-a,aa-aa,aaa-aaa,b-b,bb-bb,bbb-bbb,\"\n",
      "      offset: Int64 19\n",
      "      endof: Int64 4\n",
      "    ...\n",
      "    12: SubString{String}\n",
      "      string: String \"a-a,a-aa,a-aaa,a-b,a-bb,a-bbb,a-a,aa-a,aaa-a,b-a,bb-a,bbb-a,a-a,aa-aa,aaa-aaa,b-b,bb-bb,bbb-bbb,\"\n",
      "      offset: Int64 78\n",
      "      endof: Int64 3\n",
      "    13: SubString{String}\n",
      "      string: String \"a-a,a-aa,a-aaa,a-b,a-bb,a-bbb,a-a,aa-a,aaa-a,b-a,bb-a,bbb-a,a-a,aa-aa,aaa-aaa,b-b,bb-bb,bbb-bbb,\"\n",
      "      offset: Int64 49\n",
      "      endof: Int64 4\n",
      "    14: SubString{String}\n",
      "      string: String \"a-a,a-aa,a-aaa,a-b,a-bb,a-bbb,a-a,aa-a,aaa-a,b-a,bb-a,bbb-a,a-a,aa-aa,aaa-aaa,b-b,bb-bb,bbb-bbb,\"\n",
      "      offset: Int64 82\n",
      "      endof: Int64 5\n",
      "    15: SubString{String}\n",
      "      string: String \"a-a,a-aa,a-aaa,a-b,a-bb,a-bbb,a-a,aa-a,aaa-a,b-a,bb-a,bbb-a,a-a,aa-aa,aaa-aaa,b-b,bb-bb,bbb-bbb,\"\n",
      "      offset: Int64 54\n",
      "      endof: Int64 5\n",
      "    16: SubString{String}\n",
      "      string: String \"a-a,a-aa,a-aaa,a-b,a-bb,a-bbb,a-a,aa-a,aaa-a,b-a,bb-a,bbb-a,a-a,aa-aa,aaa-aaa,b-b,bb-bb,bbb-bbb,\"\n",
      "      offset: Int64 88\n",
      "      endof: Int64 7\n",
      "  A: SparseMatrixCSC{Int64,Int64}\n",
      "    m: Int64 6\n",
      "    n: Int64 6\n",
      "    colptr: Array{Int64}((7,)) [1, 7, 9, 11, 13, 15, 17]\n",
      "    rowval: Array{Int64}((16,)) [1, 2, 3, 4, 5, 6, 1, 2, 1, 3, 1, 4, 1, 5, 1, 6]\n",
      "    nzval: Array{Int64}((16,)) [1, 7, 9, 11, 13, 15, 2, 8, 3, 10, 4, 12, 5, 14, 6, 16]\n"
     ]
    }
   ],
   "source": [
    "dump(A)"
   ]
  },
  {
   "cell_type": "markdown",
   "metadata": {},
   "source": [
    "The printFull function allows it to be printed in a tabular form."
   ]
  },
  {
   "cell_type": "code",
   "execution_count": 109,
   "metadata": {},
   "outputs": [
    {
     "data": {
      "text/plain": [
       "7×7 Array{Union{AbstractString, Number},2}:\n",
       " \"\"      \"a\"   \"aa\"   \"aaa\"   \"b\"   \"bb\"   \"bbb\"\n",
       " \"a\"    1     1      1       1     1      1     \n",
       " \"aa\"   1     1      0       0     0      0     \n",
       " \"aaa\"  1     0      1       0     0      0     \n",
       " \"b\"    1     0      0       1     0      0     \n",
       " \"bb\"   1     0      0       0     1      0     \n",
       " \"bbb\"  1     0      0       0     0      1     "
      ]
     },
     "metadata": {},
     "output_type": "display_data"
    }
   ],
   "source": [
    "printFull(A)"
   ]
  },
  {
   "cell_type": "markdown",
   "metadata": {},
   "source": [
    "When written into CSV form, the data is stored in the tabular form."
   ]
  },
  {
   "cell_type": "code",
   "execution_count": 110,
   "metadata": {
    "collapsed": true
   },
   "outputs": [],
   "source": [
    "WriteCSV(A,\"A.csv\")"
   ]
  },
  {
   "cell_type": "markdown",
   "metadata": {
    "heading_collapsed": true
   },
   "source": [
    "### AI2 Subsref"
   ]
  },
  {
   "cell_type": "markdown",
   "metadata": {
    "hidden": true
   },
   "source": [
    "This is a test on the subreferencing of Associative Array."
   ]
  },
  {
   "cell_type": "code",
   "execution_count": 6,
   "metadata": {
    "collapsed": true,
    "hidden": true
   },
   "outputs": [],
   "source": [
    "A = ReadCSV(\"A.csv\")"
   ]
  },
  {
   "cell_type": "markdown",
   "metadata": {
    "hidden": true
   },
   "source": [
    "Get rows a and b."
   ]
  },
  {
   "cell_type": "code",
   "execution_count": 7,
   "metadata": {
    "hidden": true
   },
   "outputs": [
    {
     "name": "stdout",
     "output_type": "stream",
     "text": [
      "  [a, a  ]  =  a-a\n",
      "  [b, a  ]  =  b-a\n",
      "  [a, aa ]  =  a-aa\n",
      "  [a, aaa]  =  a-aaa\n",
      "  [a, b  ]  =  a-b\n",
      "  [b, b  ]  =  b-b\n",
      "  [a, bb ]  =  a-bb\n",
      "  [a, bbb]  =  a-bbb\n"
     ]
    }
   ],
   "source": [
    "A1r = A[\"a,b,\",:]\n",
    "\n",
    "print(A1r)"
   ]
  },
  {
   "cell_type": "markdown",
   "metadata": {
    "hidden": true
   },
   "source": [
    "Get rows containing a and columns 1 thru 3 (not yet supported)."
   ]
  },
  {
   "cell_type": "code",
   "execution_count": 8,
   "metadata": {
    "collapsed": true,
    "hidden": true
   },
   "outputs": [],
   "source": [
    "#A2r = A[\"a *,\",1:3]\n",
    "\n",
    "#print(A2r)"
   ]
  },
  {
   "cell_type": "markdown",
   "metadata": {
    "hidden": true
   },
   "source": [
    "Get rows a to b."
   ]
  },
  {
   "cell_type": "code",
   "execution_count": 9,
   "metadata": {
    "hidden": true
   },
   "outputs": [
    {
     "name": "stdout",
     "output_type": "stream",
     "text": [
      "  [a  , a  ]  =  a-a\n",
      "  [aa , a  ]  =  aa-a\n",
      "  [aaa, a  ]  =  aaa-a\n",
      "  [b  , a  ]  =  b-a\n",
      "  [a  , aa ]  =  a-aa\n",
      "  [aa , aa ]  =  aa-aa\n",
      "  [a  , aaa]  =  a-aaa\n",
      "  [aaa, aaa]  =  aaa-aaa\n",
      "  [a  , b  ]  =  a-b\n",
      "  [b  , b  ]  =  b-b\n",
      "  [a  , bb ]  =  a-bb\n",
      "  [a  , bbb]  =  a-bbb\n"
     ]
    }
   ],
   "source": [
    "A3r = A[\"a,:,b,\",:]\n",
    "\n",
    "print(A3r)"
   ]
  },
  {
   "cell_type": "markdown",
   "metadata": {
    "hidden": true
   },
   "source": [
    "Get rows starting with a or c."
   ]
  },
  {
   "cell_type": "code",
   "execution_count": 10,
   "metadata": {
    "hidden": true
   },
   "outputs": [
    {
     "name": "stdout",
     "output_type": "stream",
     "text": [
      "  [a  , a  ]  =  a-a\n",
      "  [aa , a  ]  =  aa-a\n",
      "  [aaa, a  ]  =  aaa-a\n",
      "  [a  , aa ]  =  a-aa\n",
      "  [aa , aa ]  =  aa-aa\n",
      "  [a  , aaa]  =  a-aaa\n",
      "  [aaa, aaa]  =  aaa-aaa\n",
      "  [a  , b  ]  =  a-b\n",
      "  [a  , bb ]  =  a-bb\n",
      "  [a  , bbb]  =  a-bbb\n"
     ]
    }
   ],
   "source": [
    "A4r = A[StartsWith(\"a,c,\"),:]\n",
    "\n",
    "print(A4r)"
   ]
  },
  {
   "cell_type": "markdown",
   "metadata": {
    "hidden": true
   },
   "source": [
    "Get cols a and b."
   ]
  },
  {
   "cell_type": "code",
   "execution_count": 11,
   "metadata": {
    "hidden": true
   },
   "outputs": [
    {
     "name": "stdout",
     "output_type": "stream",
     "text": [
      "  [a  , a]  =  a-a\n",
      "  [aa , a]  =  aa-a\n",
      "  [aaa, a]  =  aaa-a\n",
      "  [b  , a]  =  b-a\n",
      "  [bb , a]  =  bb-a\n",
      "  [bbb, a]  =  bbb-a\n",
      "  [a  , b]  =  a-b\n",
      "  [b  , b]  =  b-b\n"
     ]
    }
   ],
   "source": [
    "A1c = A[:,\"a,b,\"]\n",
    "\n",
    "print(A1c)"
   ]
  },
  {
   "cell_type": "markdown",
   "metadata": {
    "hidden": true
   },
   "source": [
    "Get rows 1 thru 3 and cols containing a (not yet supported)."
   ]
  },
  {
   "cell_type": "code",
   "execution_count": 12,
   "metadata": {
    "collapsed": true,
    "hidden": true
   },
   "outputs": [],
   "source": [
    "#A2c = A[1:3,\"a *,\"]\n",
    "\n",
    "#print(A2c)"
   ]
  },
  {
   "cell_type": "markdown",
   "metadata": {
    "hidden": true
   },
   "source": [
    "Get cols a to b."
   ]
  },
  {
   "cell_type": "code",
   "execution_count": 13,
   "metadata": {
    "hidden": true
   },
   "outputs": [
    {
     "name": "stdout",
     "output_type": "stream",
     "text": [
      "  [a  , a  ]  =  a-a\n",
      "  [aa , a  ]  =  aa-a\n",
      "  [aaa, a  ]  =  aaa-a\n",
      "  [b  , a  ]  =  b-a\n",
      "  [bb , a  ]  =  bb-a\n",
      "  [bbb, a  ]  =  bbb-a\n",
      "  [a  , aa ]  =  a-aa\n",
      "  [aa , aa ]  =  aa-aa\n",
      "  [a  , aaa]  =  a-aaa\n",
      "  [aaa, aaa]  =  aaa-aaa\n",
      "  [a  , b  ]  =  a-b\n",
      "  [b  , b  ]  =  b-b\n"
     ]
    }
   ],
   "source": [
    "A3c = A[:,\"a,:,b,\"]\n",
    "\n",
    "print(A3c)"
   ]
  },
  {
   "cell_type": "markdown",
   "metadata": {
    "hidden": true
   },
   "source": [
    "Get cols starting with a or b."
   ]
  },
  {
   "cell_type": "code",
   "execution_count": 14,
   "metadata": {
    "hidden": true
   },
   "outputs": [
    {
     "name": "stdout",
     "output_type": "stream",
     "text": [
      "  [a  , a  ]  =  a-a\n",
      "  [aa , a  ]  =  aa-a\n",
      "  [aaa, a  ]  =  aaa-a\n",
      "  [b  , a  ]  =  b-a\n",
      "  [bb , a  ]  =  bb-a\n",
      "  [bbb, a  ]  =  bbb-a\n",
      "  [a  , aa ]  =  a-aa\n",
      "  [aa , aa ]  =  aa-aa\n",
      "  [a  , aaa]  =  a-aaa\n",
      "  [aaa, aaa]  =  aaa-aaa\n"
     ]
    }
   ],
   "source": [
    "A4c = A[:,StartsWith(\"a,c,\")]\n",
    "\n",
    "print(A4c)"
   ]
  },
  {
   "cell_type": "markdown",
   "metadata": {
    "hidden": true
   },
   "source": [
    "Get all values less than b (not yet supported for string values)."
   ]
  },
  {
   "cell_type": "code",
   "execution_count": 108,
   "metadata": {
    "collapsed": true,
    "hidden": true
   },
   "outputs": [],
   "source": [
    "#A1v = (A < \"b,\")\n",
    "\n",
    "#print(A1v)"
   ]
  },
  {
   "cell_type": "markdown",
   "metadata": {
    "heading_collapsed": true
   },
   "source": [
    "### AI3 Math"
   ]
  },
  {
   "cell_type": "markdown",
   "metadata": {
    "hidden": true
   },
   "source": [
    "This section demos some of the mathematical operations on Associative Array."
   ]
  },
  {
   "cell_type": "code",
   "execution_count": 104,
   "metadata": {
    "hidden": true
   },
   "outputs": [
    {
     "data": {
      "text/plain": [
       "7×7 Array{Union{AbstractString, Number},2}:\n",
       " \"\"      \"a\"   \"aa\"   \"aaa\"   \"b\"   \"bb\"   \"bbb\"\n",
       " \"a\"    1     1      1       1     1      1     \n",
       " \"aa\"   1     1      0       0     0      0     \n",
       " \"aaa\"  1     0      1       0     0      0     \n",
       " \"b\"    1     0      0       1     0      0     \n",
       " \"bb\"   1     0      0       0     1      0     \n",
       " \"bbb\"  1     0      0       0     0      1     "
      ]
     },
     "metadata": {},
     "output_type": "display_data"
    }
   ],
   "source": [
    "A = ReadCSV(\"A.csv\")\n",
    "A = logical(A)\n",
    "\n",
    "printFull(A)"
   ]
  },
  {
   "cell_type": "markdown",
   "metadata": {
    "hidden": true
   },
   "source": [
    "We can sum down rows and across columns."
   ]
  },
  {
   "cell_type": "code",
   "execution_count": 106,
   "metadata": {
    "hidden": true
   },
   "outputs": [
    {
     "data": {
      "text/plain": [
       "2×7 Array{Union{AbstractString, Number},2}:\n",
       "  \"\"   \"a\"   \"aa\"   \"aaa\"   \"b\"   \"bb\"   \"bbb\"\n",
       " 1.0  6     2      2       2     2      2     "
      ]
     },
     "metadata": {},
     "output_type": "display_data"
    },
    {
     "data": {
      "text/plain": [
       "7×2 Array{Union{AbstractString, Number},2}:\n",
       " \"\"     1.0\n",
       " \"a\"    6  \n",
       " \"aa\"   2  \n",
       " \"aaa\"  2  \n",
       " \"b\"    2  \n",
       " \"bb\"   2  \n",
       " \"bbb\"  2  "
      ]
     },
     "metadata": {},
     "output_type": "display_data"
    }
   ],
   "source": [
    "printFull(sum(A,1))\n",
    "printFull(sum(A,2))"
   ]
  },
  {
   "cell_type": "markdown",
   "metadata": {
    "hidden": true
   },
   "source": [
    "Compute a simple join."
   ]
  },
  {
   "cell_type": "code",
   "execution_count": null,
   "metadata": {
    "collapsed": true,
    "hidden": true
   },
   "outputs": [],
   "source": [
    "Aa = A[:,\"a,\"]\n",
    "Ab = A[:,\"b,\"]\n",
    "Aab = nocol(Aa) & nocol(Ab)\n",
    "\n",
    "printFull(Aab)"
   ]
  },
  {
   "cell_type": "markdown",
   "metadata": {
    "hidden": true
   },
   "source": [
    "Compute a histogram (facets) and normalized histogram of other columns that are in rows with both a and b."
   ]
  },
  {
   "cell_type": "code",
   "execution_count": null,
   "metadata": {
    "collapsed": true,
    "hidden": true
   },
   "outputs": [],
   "source": [
    "F =  ( Aab )' * A;\n",
    "printFull(F)\n",
    "\n",
    "Fn = F ./ sum(A,1)\n",
    "printFull(Fn)"
   ]
  },
  {
   "cell_type": "markdown",
   "metadata": {
    "hidden": true
   },
   "source": [
    "Compute correlation"
   ]
  },
  {
   "cell_type": "code",
   "execution_count": null,
   "metadata": {
    "collapsed": true,
    "hidden": true
   },
   "outputs": [],
   "source": [
    "AtA = sqIn(A)\n",
    "d = diag(Adj(AtA))\n",
    "AtA = putAdj(AtA,Adj(AtA) - sparse(diagm(d)))\n",
    "printFull(AtA)"
   ]
  },
  {
   "cell_type": "markdown",
   "metadata": {
    "heading_collapsed": true
   },
   "source": [
    "### AI4 Advanced Constsruction"
   ]
  },
  {
   "cell_type": "markdown",
   "metadata": {
    "hidden": true
   },
   "source": [
    "Mixed string and numeric associative arrays."
   ]
  },
  {
   "cell_type": "code",
   "execution_count": 102,
   "metadata": {
    "collapsed": true,
    "hidden": true
   },
   "outputs": [],
   "source": [
    "# String  vectors *must* be ROW vectors\n",
    "iStr =  \"01,02,03,04,21,22,23,24,41,51,61,62,63,64,\"; \n",
    "\n",
    "# Numeric vectors *must* be COLUMN vectors\n",
    "iNum =  [ 1  1  1  1  4  3  2  1 4  5  6  6  6  6 ]';"
   ]
  },
  {
   "cell_type": "markdown",
   "metadata": {
    "hidden": true
   },
   "source": [
    "Mixed type empty arrays."
   ]
  },
  {
   "cell_type": "code",
   "execution_count": null,
   "metadata": {
    "collapsed": true,
    "hidden": true
   },
   "outputs": [],
   "source": [
    "# All empty.\n",
    "A00 = Assoc(\"\",\"\",\"\");\n",
    "\n",
    "# Empty row.\n",
    "A01 = Assoc(\"\",iStr,iNum);\n",
    "\n",
    "# Empty value.\n",
    "A02 = Assoc(iNum,iStr,\"\");\n",
    "\n",
    "# Empty column and value.\n",
    "A03 = Assoc(iNum,[],\"\");\n",
    "\n",
    "# All empty.\n",
    "A04 = Assoc(\"\",[],[]);\n",
    "\n",
    "# All empty.\n",
    "A05 = Assoc(\"\",\"\",[]);\n",
    "\n",
    "# Row and value empty.\n",
    "A06 = Assoc(\"\",iNum,[]);\n"
   ]
  },
  {
   "cell_type": "markdown",
   "metadata": {
    "hidden": true
   },
   "source": [
    "Mixed type non-empty arrays. (Commented out cells are not yet supported)"
   ]
  },
  {
   "cell_type": "markdown",
   "metadata": {
    "hidden": true
   },
   "source": [
    "String scalar,  string vector,  numeric vector."
   ]
  },
  {
   "cell_type": "code",
   "execution_count": null,
   "metadata": {
    "collapsed": true,
    "hidden": true
   },
   "outputs": [],
   "source": [
    "# A11 = Assoc(\"a,\",iStr,iNum);\n",
    "\n",
    "# printFull(A11)"
   ]
  },
  {
   "cell_type": "markdown",
   "metadata": {
    "hidden": true
   },
   "source": [
    "Numeric vector, string vector,  string scalar."
   ]
  },
  {
   "cell_type": "code",
   "execution_count": null,
   "metadata": {
    "collapsed": true,
    "hidden": true
   },
   "outputs": [],
   "source": [
    "#A12 = Assoc(iNum,iStr,\"a,\");\n",
    "\n",
    "# printFull(A12)"
   ]
  },
  {
   "cell_type": "markdown",
   "metadata": {
    "hidden": true
   },
   "source": [
    "Numeric vector, numeric scalar, string scalar."
   ]
  },
  {
   "cell_type": "code",
   "execution_count": null,
   "metadata": {
    "collapsed": true,
    "hidden": true
   },
   "outputs": [],
   "source": [
    "#A13 = Assoc(iNum,1,\"a,\");\n",
    "\n",
    "# printFull(A13)"
   ]
  },
  {
   "cell_type": "markdown",
   "metadata": {
    "hidden": true
   },
   "source": [
    "String scalar,  numeric scalar, numeric scalar."
   ]
  },
  {
   "cell_type": "code",
   "execution_count": 101,
   "metadata": {
    "hidden": true
   },
   "outputs": [
    {
     "data": {
      "text/plain": [
       "2×2 Array{Union{AbstractString, Number},2}:\n",
       " \"\"   1\n",
       " \"a\"  1"
      ]
     },
     "metadata": {},
     "output_type": "display_data"
    }
   ],
   "source": [
    "A14 = Assoc(\"a,\",1,1);\n",
    "\n",
    "printFull(A14)"
   ]
  },
  {
   "cell_type": "markdown",
   "metadata": {
    "hidden": true
   },
   "source": [
    "String scalar,  string scalar,  numeric scalar."
   ]
  },
  {
   "cell_type": "code",
   "execution_count": 100,
   "metadata": {
    "hidden": true
   },
   "outputs": [
    {
     "data": {
      "text/plain": [
       "2×2 Array{Union{AbstractString, Number},2}:\n",
       " \"\"    \"a\"\n",
       " \"a\"  1   "
      ]
     },
     "metadata": {},
     "output_type": "display_data"
    }
   ],
   "source": [
    "A15 = Assoc(\"a,\",\"a,\",1);\n",
    "\n",
    "printFull(A15)"
   ]
  },
  {
   "cell_type": "markdown",
   "metadata": {
    "hidden": true
   },
   "source": [
    "String scalar,  numeric vector, numeric scalar."
   ]
  },
  {
   "cell_type": "code",
   "execution_count": null,
   "metadata": {
    "collapsed": true,
    "hidden": true
   },
   "outputs": [],
   "source": [
    "#A16 = Assoc(\"a,\",iNum,1);\n",
    "\n",
    "# printFull(A16)"
   ]
  },
  {
   "cell_type": "markdown",
   "metadata": {
    "heading_collapsed": true
   },
   "source": [
    "## Edge Art"
   ]
  },
  {
   "cell_type": "markdown",
   "metadata": {
    "hidden": true
   },
   "source": [
    "### EA1 Graph"
   ]
  },
  {
   "cell_type": "markdown",
   "metadata": {
    "hidden": true
   },
   "source": [
    "Forming adjacency graphs"
   ]
  },
  {
   "cell_type": "markdown",
   "metadata": {
    "hidden": true
   },
   "source": [
    "Read CSV file into associative array. Get vertices and convert to numbers."
   ]
  },
  {
   "cell_type": "code",
   "execution_count": 97,
   "metadata": {
    "hidden": true
   },
   "outputs": [
    {
     "data": {
      "text/plain": [
       "20×21 Array{Union{AbstractString, Number},2}:\n",
       " \"\"     \"V01\"   \"V02\"   \"V03\"   \"V04\"  …   \"V17\"   \"V18\"   \"V19\"   \"V20\"\n",
       " \"B1\"  1       1       1       0          0       0       0       0     \n",
       " \"B2\"  0       0       0       1          0       0       0       0     \n",
       " \"G1\"  1       1       1       0          0       0       0       0     \n",
       " \"G2\"  0       0       0       1          0       0       0       0     \n",
       " \"O1\"  1       1       1       0       …  0       0       0       0     \n",
       " \"O2\"  1       1       1       0          0       0       0       0     \n",
       " \"O3\"  0       0       0       1          0       0       0       0     \n",
       " \"O4\"  0       0       0       1          0       0       0       0     \n",
       " \"O5\"  0       1       0       0          0       0       0       1     \n",
       " \"P1\"  1       1       1       0       …  0       0       0       0     \n",
       " \"P2\"  0       0       0       1          0       0       0       0     \n",
       " \"P3\"  0       0       0       0          0       0       0       0     \n",
       " \"P4\"  0       1       0       0          0       0       0       0     \n",
       " \"P5\"  0       1       0       0          0       0       0       0     \n",
       " \"P6\"  0       0       0       0       …  1       0       0       0     \n",
       " \"P7\"  0       0       0       0          0       1       0       0     \n",
       " \"P8\"  0       0       0       0          0       0       1       0     \n",
       " \"S1\"  1       1       1       0          0       0       0       0     \n",
       " \"S2\"  0       0       0       1          0       0       0       0     "
      ]
     },
     "metadata": {},
     "output_type": "display_data"
    }
   ],
   "source": [
    "E = ReadCSV(\"Edge.csv\")\n",
    "\n",
    "Ev = logical( E[:, StartsWith(\"V,\")] )\n",
    "printFull(Ev)"
   ]
  },
  {
   "cell_type": "markdown",
   "metadata": {
    "hidden": true
   },
   "source": [
    "Compute vertex adjacency graph."
   ]
  },
  {
   "cell_type": "code",
   "execution_count": 98,
   "metadata": {
    "hidden": true
   },
   "outputs": [
    {
     "data": {
      "text/plain": [
       "21×21 Array{Union{AbstractString, Number},2}:\n",
       " \"\"      \"V01\"   \"V02\"   \"V03\"   \"V04\"  …   \"V17\"   \"V18\"   \"V19\"   \"V20\"\n",
       " \"V01\"  6       6       6       0          0       0       0       0     \n",
       " \"V02\"  6       9       6       0          0       0       0       1     \n",
       " \"V03\"  6       6       6       0          0       0       0       0     \n",
       " \"V04\"  0       0       0       6          0       0       0       0     \n",
       " \"V05\"  0       0       0       6       …  0       1       0       0     \n",
       " \"V06\"  0       1       0       6          0       0       0       1     \n",
       " \"V07\"  0       0       0       6          0       0       1       0     \n",
       " \"V08\"  0       0       0       6          0       0       0       0     \n",
       " \"V09\"  0       1       0       0          0       0       0       1     \n",
       " \"V10\"  0       1       0       0       …  0       0       0       0     \n",
       " \"V11\"  0       1       0       0          0       0       0       1     \n",
       " \"V12\"  0       1       0       0          0       0       0       0     \n",
       " \"V13\"  0       1       0       0          0       0       0       0     \n",
       " \"V14\"  0       0       0       0          0       0       0       0     \n",
       " \"V15\"  0       0       0       0       …  1       1       0       0     \n",
       " \"V16\"  0       1       0       0          1       0       1       1     \n",
       " \"V17\"  0       0       0       0          1       0       0       0     \n",
       " \"V18\"  0       0       0       0          0       1       0       0     \n",
       " \"V19\"  0       0       0       0          0       0       1       0     \n",
       " \"V20\"  0       1       0       0       …  0       0       0       1     "
      ]
     },
     "metadata": {},
     "output_type": "display_data"
    }
   ],
   "source": [
    "Av = sqIn(Ev)\n",
    "printFull(Av)"
   ]
  },
  {
   "cell_type": "markdown",
   "metadata": {
    "hidden": true
   },
   "source": [
    "Compute edge adjacency graph."
   ]
  },
  {
   "cell_type": "code",
   "execution_count": 99,
   "metadata": {
    "hidden": true
   },
   "outputs": [
    {
     "data": {
      "text/plain": [
       "20×20 Array{Union{AbstractString, Number},2}:\n",
       " \"\"     \"B1\"   \"B2\"   \"G1\"   \"G2\"  …   \"P6\"   \"P7\"   \"P8\"   \"S1\"   \"S2\"\n",
       " \"B1\"  3      0      3      0         0      0      0      3      0    \n",
       " \"B2\"  0      5      0      5         0      1      1      0      5    \n",
       " \"G1\"  3      0      3      0         0      0      0      3      0    \n",
       " \"G2\"  0      5      0      5         0      1      1      0      5    \n",
       " \"O1\"  3      0      3      0      …  0      0      0      3      0    \n",
       " \"O2\"  3      0      3      0         0      0      0      3      0    \n",
       " \"O3\"  0      5      0      5         0      1      1      0      5    \n",
       " \"O4\"  0      5      0      5         0      1      1      0      5    \n",
       " \"O5\"  1      1      1      1         1      0      1      1      1    \n",
       " \"P1\"  3      0      3      0      …  0      0      0      3      0    \n",
       " \"P2\"  0      5      0      5         0      1      1      0      5    \n",
       " \"P3\"  0      0      0      0         0      0      0      0      0    \n",
       " \"P4\"  1      0      1      0         0      0      0      1      0    \n",
       " \"P5\"  1      0      1      0         0      0      0      1      0    \n",
       " \"P6\"  0      0      0      0      …  3      1      1      0      0    \n",
       " \"P7\"  0      1      0      1         1      3      0      0      1    \n",
       " \"P8\"  0      1      0      1         1      0      3      0      1    \n",
       " \"S1\"  3      0      3      0         0      0      0      3      0    \n",
       " \"S2\"  0      5      0      5         0      1      1      0      5    "
      ]
     },
     "metadata": {},
     "output_type": "display_data"
    }
   ],
   "source": [
    "Ae = sqOut(Ev)\n",
    "printFull(Ae)"
   ]
  },
  {
   "cell_type": "markdown",
   "metadata": {
    "heading_collapsed": true,
    "hidden": true
   },
   "source": [
    "### EA2 Subsref"
   ]
  },
  {
   "cell_type": "markdown",
   "metadata": {
    "hidden": true
   },
   "source": [
    "Show different wasy to index associative arrays."
   ]
  },
  {
   "cell_type": "markdown",
   "metadata": {
    "hidden": true
   },
   "source": [
    "Read CSV file into associative array."
   ]
  },
  {
   "cell_type": "code",
   "execution_count": 93,
   "metadata": {
    "hidden": true
   },
   "outputs": [
    {
     "data": {
      "text/plain": [
       "20×23 Array{Union{AbstractString, Number},2}:\n",
       " \"\"    \"Color\"   \"Order\"  \"V01\"  \"V02\"  …  \"V16\"  \"V17\"  \"V18\"  \"V19\"  \"V20\"\n",
       " \"B1\"  \"Blue\"    \"2\"      \"1\"    \"1\"       \"\"     \"\"     \"\"     \"\"     \"\"   \n",
       " \"B2\"  \"Blue\"    \"2\"      \"\"     \"\"        \"\"     \"\"     \"\"     \"\"     \"\"   \n",
       " \"G1\"  \"Green\"   \"2\"      \"1\"    \"1\"       \"\"     \"\"     \"\"     \"\"     \"\"   \n",
       " \"G2\"  \"Green\"   \"2\"      \"\"     \"\"        \"\"     \"\"     \"\"     \"\"     \"\"   \n",
       " \"O1\"  \"Orange\"  \"2\"      \"1\"    \"1\"    …  \"\"     \"\"     \"\"     \"\"     \"\"   \n",
       " \"O2\"  \"Orange\"  \"2\"      \"1\"    \"1\"       \"\"     \"\"     \"\"     \"\"     \"\"   \n",
       " \"O3\"  \"Orange\"  \"2\"      \"\"     \"\"        \"\"     \"\"     \"\"     \"\"     \"\"   \n",
       " \"O4\"  \"Orange\"  \"2\"      \"\"     \"\"        \"\"     \"\"     \"\"     \"\"     \"\"   \n",
       " \"O5\"  \"Orange\"  \"1\"      \"\"     \"1\"       \"1\"    \"\"     \"\"     \"\"     \"1\"  \n",
       " \"P1\"  \"Pink\"    \"2\"      \"1\"    \"1\"    …  \"\"     \"\"     \"\"     \"\"     \"\"   \n",
       " \"P2\"  \"Pink\"    \"2\"      \"\"     \"\"        \"\"     \"\"     \"\"     \"\"     \"\"   \n",
       " \"P3\"  \"Pink\"    \"2\"      \"\"     \"\"        \"\"     \"\"     \"\"     \"\"     \"\"   \n",
       " \"P4\"  \"Pink\"    \"2\"      \"\"     \"1\"       \"\"     \"\"     \"\"     \"\"     \"\"   \n",
       " \"P5\"  \"Pink\"    \"2\"      \"\"     \"1\"       \"\"     \"\"     \"\"     \"\"     \"\"   \n",
       " \"P6\"  \"Pink\"    \"2\"      \"\"     \"\"     …  \"1\"    \"1\"    \"\"     \"\"     \"\"   \n",
       " \"P7\"  \"Pink\"    \"3\"      \"\"     \"\"        \"\"     \"\"     \"1\"    \"\"     \"\"   \n",
       " \"P8\"  \"Pink\"    \"3\"      \"\"     \"\"        \"1\"    \"\"     \"\"     \"1\"    \"\"   \n",
       " \"S1\"  \"Silver\"  \"2\"      \"1\"    \"1\"       \"\"     \"\"     \"\"     \"\"     \"\"   \n",
       " \"S2\"  \"Silver\"  \"2\"      \"\"     \"\"        \"\"     \"\"     \"\"     \"\"     \"\"   "
      ]
     },
     "metadata": {},
     "output_type": "display_data"
    }
   ],
   "source": [
    "E = ReadCSV(\"Edge.csv\");\n",
    "printFull(E);"
   ]
  },
  {
   "cell_type": "markdown",
   "metadata": {
    "hidden": true
   },
   "source": [
    "Get orange edges."
   ]
  },
  {
   "cell_type": "code",
   "execution_count": 94,
   "metadata": {
    "hidden": true
   },
   "outputs": [
    {
     "data": {
      "text/plain": [
       "6×15 Array{Union{AbstractString, Number},2}:\n",
       " \"\"    \"Color\"   \"Order\"  \"V01\"  \"V02\"  …  \"V08\"  \"V09\"  \"V11\"  \"V16\"  \"V20\"\n",
       " \"O1\"  \"Orange\"  \"2\"      \"1\"    \"1\"       \"\"     \"\"     \"\"     \"\"     \"\"   \n",
       " \"O2\"  \"Orange\"  \"2\"      \"1\"    \"1\"       \"\"     \"\"     \"\"     \"\"     \"\"   \n",
       " \"O3\"  \"Orange\"  \"2\"      \"\"     \"\"        \"1\"    \"\"     \"\"     \"\"     \"\"   \n",
       " \"O4\"  \"Orange\"  \"2\"      \"\"     \"\"        \"1\"    \"\"     \"\"     \"\"     \"\"   \n",
       " \"O5\"  \"Orange\"  \"1\"      \"\"     \"1\"    …  \"\"     \"1\"    \"1\"    \"1\"    \"1\"  "
      ]
     },
     "metadata": {},
     "output_type": "display_data"
    }
   ],
   "source": [
    "Eo = E[(E[:,\"Color,\"] == \"Orange\" ).row,:];\n",
    "printFull(Eo);"
   ]
  },
  {
   "cell_type": "markdown",
   "metadata": {
    "hidden": true
   },
   "source": [
    "Get orange and green edges."
   ]
  },
  {
   "cell_type": "code",
   "execution_count": 95,
   "metadata": {
    "hidden": true
   },
   "outputs": [
    {
     "data": {
      "text/plain": [
       "8×15 Array{Union{AbstractString, Number},2}:\n",
       " \"\"    \"Color\"   \"Order\"  \"V01\"  \"V02\"  …  \"V08\"  \"V09\"  \"V11\"  \"V16\"  \"V20\"\n",
       " \"G1\"  \"Green\"   \"2\"      \"1\"    \"1\"       \"\"     \"\"     \"\"     \"\"     \"\"   \n",
       " \"G2\"  \"Green\"   \"2\"      \"\"     \"\"        \"1\"    \"\"     \"\"     \"\"     \"\"   \n",
       " \"O1\"  \"Orange\"  \"2\"      \"1\"    \"1\"       \"\"     \"\"     \"\"     \"\"     \"\"   \n",
       " \"O2\"  \"Orange\"  \"2\"      \"1\"    \"1\"       \"\"     \"\"     \"\"     \"\"     \"\"   \n",
       " \"O3\"  \"Orange\"  \"2\"      \"\"     \"\"     …  \"1\"    \"\"     \"\"     \"\"     \"\"   \n",
       " \"O4\"  \"Orange\"  \"2\"      \"\"     \"\"        \"1\"    \"\"     \"\"     \"\"     \"\"   \n",
       " \"O5\"  \"Orange\"  \"1\"      \"\"     \"1\"       \"\"     \"1\"    \"1\"    \"1\"    \"1\"  "
      ]
     },
     "metadata": {},
     "output_type": "display_data"
    }
   ],
   "source": [
    "Eog = E[ StartsWith(\"O,G,\") ,:];\n",
    "printFull(Eog);"
   ]
  },
  {
   "cell_type": "markdown",
   "metadata": {
    "heading_collapsed": true,
    "hidden": true
   },
   "source": [
    "### EA3 SubGraph"
   ]
  },
  {
   "cell_type": "markdown",
   "metadata": {
    "hidden": true
   },
   "source": [
    "Show some associative array math."
   ]
  },
  {
   "cell_type": "markdown",
   "metadata": {
    "hidden": true
   },
   "source": [
    "Read CSV file into associative array, get vertices and convert to numbers."
   ]
  },
  {
   "cell_type": "code",
   "execution_count": 88,
   "metadata": {
    "collapsed": true,
    "hidden": true
   },
   "outputs": [],
   "source": [
    "E = ReadCSV(\"Edge.csv\");\n",
    "Ev = logical( E[:, StartsWith(\"V,\")] );"
   ]
  },
  {
   "cell_type": "markdown",
   "metadata": {
    "hidden": true
   },
   "source": [
    "Get orange and green edges."
   ]
  },
  {
   "cell_type": "code",
   "execution_count": 89,
   "metadata": {
    "collapsed": true,
    "hidden": true
   },
   "outputs": [],
   "source": [
    "EvO = Ev[StartsWith(\"O,\"),:];\n",
    "EvG = Ev[StartsWith(\"G,\"),:];"
   ]
  },
  {
   "cell_type": "markdown",
   "metadata": {
    "hidden": true
   },
   "source": [
    "Compute (empty) vertex adjacency graph."
   ]
  },
  {
   "cell_type": "code",
   "execution_count": 90,
   "metadata": {
    "hidden": true
   },
   "outputs": [
    {
     "name": "stdout",
     "output_type": "stream",
     "text": [
      "Assoc(Union{AbstractString, Number}[], Union{AbstractString, Number}[], Union{AbstractString, Number}[1.0], 0×0 SparseMatrixCSC{Int64,Int64} with 0 stored entries)"
     ]
    }
   ],
   "source": [
    "AvOG = transpose(EvO) * EvG;\n",
    "printFull(AvOG);"
   ]
  },
  {
   "cell_type": "markdown",
   "metadata": {
    "hidden": true
   },
   "source": [
    "Compute edge adjacency graph."
   ]
  },
  {
   "cell_type": "code",
   "execution_count": 91,
   "metadata": {
    "hidden": true
   },
   "outputs": [
    {
     "data": {
      "text/plain": [
       "6×3 Array{Union{AbstractString, Number},2}:\n",
       " \"\"     \"G1\"   \"G2\"\n",
       " \"O1\"  3      0    \n",
       " \"O2\"  3      0    \n",
       " \"O3\"  0      5    \n",
       " \"O4\"  0      5    \n",
       " \"O5\"  1      1    "
      ]
     },
     "metadata": {},
     "output_type": "display_data"
    }
   ],
   "source": [
    "AeOG = EvO * transpose(EvG)\n",
    "printFull(AeOG)"
   ]
  },
  {
   "cell_type": "markdown",
   "metadata": {
    "hidden": true
   },
   "source": [
    "Compute edge adjacency graph preserving keys."
   ]
  },
  {
   "cell_type": "code",
   "execution_count": 92,
   "metadata": {
    "hidden": true
   },
   "outputs": [
    {
     "data": {
      "text/plain": [
       "6×3 Array{Union{AbstractString, Number},2}:\n",
       " \"\"     \"G1\"   \"G2\"\n",
       " \"O1\"  3      0    \n",
       " \"O2\"  3      0    \n",
       " \"O3\"  0      5    \n",
       " \"O4\"  0      5    \n",
       " \"O5\"  1      1    "
      ]
     },
     "metadata": {},
     "output_type": "display_data"
    }
   ],
   "source": [
    "AeOG = CatKeyMul(EvO,transpose(EvG))\n",
    "printFull(AeOG)"
   ]
  },
  {
   "cell_type": "markdown",
   "metadata": {},
   "source": [
    "# Apps"
   ]
  },
  {
   "cell_type": "markdown",
   "metadata": {
    "heading_collapsed": true
   },
   "source": [
    "## Entity Analysis"
   ]
  },
  {
   "cell_type": "markdown",
   "metadata": {
    "heading_collapsed": true,
    "hidden": true
   },
   "source": [
    "### EA1 Read"
   ]
  },
  {
   "cell_type": "markdown",
   "metadata": {
    "hidden": true
   },
   "source": [
    "Read entity data and organize into sparse associative array.\n",
    "\n",
    "Entity data are derived summaries obtained by from automated\n",
    "entity extraction algorithms applied to <1% of the NIST Rueters Corpus.\n",
    "See: http://trec.nist.gov/data/reuters/reuters.html"
   ]
  },
  {
   "cell_type": "code",
   "execution_count": 75,
   "metadata": {
    "hidden": true
   },
   "outputs": [
    {
     "data": {
      "text/plain": [
       "6×5 Array{Union{AbstractString, Number},2}:\n",
       "  \"\"  \"doc\"                  \"entity\"       \"position\"     \"type\"    \n",
       " 1    \"19960825_13108.txt\"   \"addis ababa\"  \"54;132;974;\"  \"LOCATION\"\n",
       " 2    \"19960930_84704.txt\"   \"addis ababa\"  \"60;\"          \"LOCATION\"\n",
       " 3    \"19961004_96087.txt\"   \"addis ababa\"  \"61;305;\"      \"LOCATION\"\n",
       " 4    \"19961006_98377.txt\"   \"addis ababa\"  \"68;\"          \"LOCATION\"\n",
       " 5    \"19961009_104796.txt\"  \"addis ababa\"  \"59;443;\"      \"LOCATION\""
      ]
     },
     "metadata": {},
     "output_type": "display_data"
    }
   ],
   "source": [
    "using PyPlot,JLD\n",
    "\n",
    "file_dir = Pkg.dir(\"D4M\")*\"/examples/2Apps/1EntityAnalysis/Entity.csv\";\n",
    "save_dir = \"Entity.jld\";\n",
    "\n",
    "E_raw = ReadCSV(file_dir);\n",
    "printFull(E_raw[1:5,:]);"
   ]
  },
  {
   "cell_type": "markdown",
   "metadata": {
    "hidden": true
   },
   "source": [
    "Organize data into new format."
   ]
  },
  {
   "cell_type": "code",
   "execution_count": 76,
   "metadata": {
    "collapsed": true,
    "hidden": true,
    "scrolled": false
   },
   "outputs": [],
   "source": [
    "row,col,doc_val      = find(E_raw[:,\"doc,\"])\n",
    "row,col,entity_val   = find(E_raw[:,\"entity,\"])\n",
    "row,col,position_val = find(E_raw[:,\"position,\"])\n",
    "row,col,type_val     = find(E_raw[:,\"type,\"])\n",
    "\n",
    "typeEntity_val = CatStr(type_val, \"/\" , entity_val); "
   ]
  },
  {
   "cell_type": "markdown",
   "metadata": {
    "hidden": true
   },
   "source": [
    "Create a sparse associative array of all the data."
   ]
  },
  {
   "cell_type": "code",
   "execution_count": 77,
   "metadata": {
    "collapsed": true,
    "hidden": true
   },
   "outputs": [],
   "source": [
    "E = Assoc(doc_val,typeEntity_val,position_val);"
   ]
  },
  {
   "cell_type": "markdown",
   "metadata": {
    "hidden": true
   },
   "source": [
    "Show a few rows and plot a spy plot."
   ]
  },
  {
   "cell_type": "code",
   "execution_count": 80,
   "metadata": {
    "hidden": true
   },
   "outputs": [
    {
     "data": {
      "image/png": "[encoded data removed]",
      "text/plain": [
       "PyPlot.Figure(PyObject <matplotlib.figure.Figure object at 0x9ffa890>)"
      ]
     },
     "metadata": {},
     "output_type": "display_data"
    },
    {
     "name": "stdout",
     "output_type": "stream",
     "text": [
      "  [19960820_2414.txt, LOCATION/brazil       ]  =  1;47;164;\n",
      "  [19960820_2324.txt, LOCATION/britain      ]  =  76;\n",
      "  [19960820_2344.txt, LOCATION/britain      ]  =  335;\n",
      "  [19960820_2324.txt, LOCATION/england      ]  =  167;853;1808;\n",
      "  [19960820_2344.txt, LOCATION/europe       ]  =  1215;1638;\n",
      "  [19960820_2344.txt, LOCATION/germany      ]  =  1138;\n",
      "  [19960820_2344.txt, LOCATION/ireland      ]  =  347;\n",
      "  [19960820_2324.txt, LOCATION/london       ]  =  59;\n",
      "  [19960820_2344.txt, LOCATION/london       ]  =  43;\n",
      "  [19960820_2374.txt, LOCATION/london       ]  =  52;452;\n",
      "  [19960820_2374.txt, LOCATION/new york     ]  =  173;2013;\n",
      "  [19960820_2304.txt, LOCATION/united states]  =  1;\n",
      "  [19960820_2304.txt, LOCATION/washington   ]  =  55;\n",
      "  [19960820_2304.txt, PERSON/arshad mohammed]  =  77;\n",
      "  [19960820_2324.txt, PERSON/eddie george   ]  =  1280;\n",
      "  [19960820_2324.txt, PERSON/kenneth clarke ]  =  1636;\n",
      "  [19960820_2344.txt, TIME/1996-06-30       ]  =  469;\n",
      "  [19960820_2304.txt, TIME/1996-08-20       ]  =  1;\n",
      "  [19960820_2324.txt, TIME/1996-08-20       ]  =  1;\n",
      "  [19960820_2344.txt, TIME/1996-08-20       ]  =  1;\n",
      "  [19960820_2374.txt, TIME/1996-08-20       ]  =  1;\n",
      "  [19960820_2414.txt, TIME/1996-08-20       ]  =  1;\n",
      "  [19960820_2304.txt, TIME/1997-09-01       ]  =  755;\n"
     ]
    },
    {
     "data": {
      "text/plain": [
       "PyObject <matplotlib.image.AxesImage object at 0x1dc2b0d0>"
      ]
     },
     "execution_count": 80,
     "metadata": {},
     "output_type": "execute_result"
    }
   ],
   "source": [
    "print(E[1:5,:])\n",
    "spy(E[1:1000,:]')"
   ]
  },
  {
   "cell_type": "markdown",
   "metadata": {
    "hidden": true
   },
   "source": [
    "Save associative array."
   ]
  },
  {
   "cell_type": "code",
   "execution_count": 81,
   "metadata": {
    "collapsed": true,
    "hidden": true
   },
   "outputs": [],
   "source": [
    "save(save_dir,\"E\",E);"
   ]
  },
  {
   "cell_type": "markdown",
   "metadata": {
    "heading_collapsed": true,
    "hidden": true
   },
   "source": [
    "### EA2 Statistics"
   ]
  },
  {
   "cell_type": "markdown",
   "metadata": {
    "hidden": true
   },
   "source": [
    "Compute statistics on entity data."
   ]
  },
  {
   "cell_type": "code",
   "execution_count": null,
   "metadata": {
    "collapsed": true,
    "hidden": true
   },
   "outputs": [],
   "source": [
    "using JLD, PyPlot\n",
    "\n",
    "file_dir = \"./Entity.jld\";\n",
    "E = load(file_dir)[\"E\"];"
   ]
  },
  {
   "cell_type": "markdown",
   "metadata": {
    "hidden": true
   },
   "source": [
    "Calculate number of entities in each category, then count the number of times each entity occurs."
   ]
  },
  {
   "cell_type": "code",
   "execution_count": null,
   "metadata": {
    "collapsed": true,
    "hidden": true
   },
   "outputs": [],
   "source": [
    "print(sum(logical(col2type(E,\"/\")),1))\n",
    "En = sum(logical(E),1);"
   ]
  },
  {
   "cell_type": "markdown",
   "metadata": {
    "hidden": true
   },
   "source": [
    "Plot the log-log plot of location frequencies. Notice the power-law distribution."
   ]
  },
  {
   "cell_type": "code",
   "execution_count": null,
   "metadata": {
    "collapsed": true,
    "hidden": true
   },
   "outputs": [],
   "source": [
    "row,entity,count = find(En);\n",
    "An = Assoc(count,entity,1);\n",
    "\n",
    "loglog(full(sum(Adj(An[:,StartsWith(\"LOCATION/,\")]),2)) ,\"o\"); "
   ]
  },
  {
   "cell_type": "markdown",
   "metadata": {
    "heading_collapsed": true,
    "hidden": true
   },
   "source": [
    "### Facet"
   ]
  },
  {
   "cell_type": "markdown",
   "metadata": {
    "hidden": true
   },
   "source": [
    "Entity facet search. Shows next most common terms."
   ]
  },
  {
   "cell_type": "code",
   "execution_count": null,
   "metadata": {
    "collapsed": true,
    "hidden": true
   },
   "outputs": [],
   "source": [
    "using JLD\n",
    "\n",
    "file_dir = \"./Entity.jld\";\n",
    "E = load(file_dir)[\"E\"];\n",
    "E = logical(E);"
   ]
  },
  {
   "cell_type": "markdown",
   "metadata": {
    "hidden": true
   },
   "source": [
    "Facet search: Finding entities that occur commonly with LOCATION/new york and PERSON/michael chang."
   ]
  },
  {
   "cell_type": "code",
   "execution_count": null,
   "metadata": {
    "collapsed": true,
    "hidden": true
   },
   "outputs": [],
   "source": [
    "x = \"LOCATION/new york,\";\n",
    "p = \"PERSON/michael chang,\";\n",
    "F = ( nocol(E[:,x]) & nocol(E[:,p]))' * E;\n",
    "print(F' > 1 )"
   ]
  },
  {
   "cell_type": "markdown",
   "metadata": {
    "hidden": true
   },
   "source": [
    "Normalize the previous result."
   ]
  },
  {
   "cell_type": "code",
   "execution_count": null,
   "metadata": {
    "collapsed": true,
    "hidden": true
   },
   "outputs": [],
   "source": [
    "Fn = F ./ sum(E,1)\n",
    "print((Fn' > 0.02))"
   ]
  },
  {
   "cell_type": "markdown",
   "metadata": {
    "heading_collapsed": true,
    "hidden": true
   },
   "source": [
    "### Graph"
   ]
  },
  {
   "cell_type": "markdown",
   "metadata": {
    "hidden": true
   },
   "source": [
    "Compute graphs from entity edge data."
   ]
  },
  {
   "cell_type": "code",
   "execution_count": 82,
   "metadata": {
    "hidden": true
   },
   "outputs": [
    {
     "data": {
      "text/plain": [
       "Assoc(Union{AbstractString, Number}[\"19960820_2304.txt\", \"19960820_2324.txt\", \"19960820_2344.txt\", \"19960820_2374.txt\", \"19960820_2414.txt\", \"19960820_2439.txt\", \"19960820_2469.txt\", \"19960820_2493.txt\", \"19960820_2515.txt\", \"19960820_2539.txt\"  …  \"19970731_769676.txt\", \"19970731_771000.txt\", \"19970801_772203.txt\", \"19970801_773504.txt\", \"19970801_773804.txt\", \"19970802_810776.txt\", \"19970803_774604.txt\", \"19970803_774644.txt\", \"19970804_775036.txt\", \"19970804_777356.txt\"], Union{AbstractString, Number}[\"LOCATION/addis ababa\", \"LOCATION/aden\", \"LOCATION/adriatic sea\", \"LOCATION/aegean sea\", \"LOCATION/afghanistan\", \"LOCATION/africa\", \"LOCATION/akron\", \"LOCATION/alabama\", \"LOCATION/alaska\", \"LOCATION/albania\"  …  \"TIME/2040-05-26\", \"TIME/2040-09-08\", \"TIME/2041-08-18\", \"TIME/2041-08-23\", \"TIME/2041-08-25\", \"TIME/2041-09-01\", \"TIME/2042-06-21\", \"TIME/2043-04-20\", \"TIME/2043-05-25\", \"TIME/2099-12-31\"], Union{AbstractString, Number}[\"1000;\", \"1000;1032;1302;1548;1668;2272;\", \"1000;1042;1407;1480;\", \"1000;1063;\", \"1000;1455;\", \"1001;\", \"1002;\", \"1003;\", \"1003;1202;\", \"1003;1223;\"  …  \"9;88;505;1581;1884;\", \"9;90;295;\", \"9;90;942;1451;2632;3369;\", \"9;933;1163;2108;\", \"9;94;\", \"9;962;\", \"9;96;278;611;1112;1774;3261;3279;3759;\", \"9;96;375;561;\", \"9;97;361;539;3151;3278;\", \"9;983;1135;1635;1796;2261;\"], \n",
       "  [532 ,    1]  =  11737\n",
       "  [4124,    1]  =  13181\n",
       "  [4706,    1]  =  13479\n",
       "  [4820,    1]  =  14143\n",
       "  [5145,    1]  =  13026\n",
       "  [5290,    1]  =  13406\n",
       "  [7869,    1]  =  6201\n",
       "  [7910,    1]  =  1465\n",
       "  [9237,    1]  =  13607\n",
       "  [219 ,    2]  =  6237\n",
       "  ⋮\n",
       "  [2264, 3647]  =  1018\n",
       "  [2264, 3648]  =  217\n",
       "  [2264, 3649]  =  7761\n",
       "  [2264, 3650]  =  12867\n",
       "  [2264, 3651]  =  9868\n",
       "  [2264, 3652]  =  10588\n",
       "  [2264, 3653]  =  8552\n",
       "  [2264, 3654]  =  15225\n",
       "  [2264, 3655]  =  1166\n",
       "  [2264, 3656]  =  393\n",
       "  [692 , 3657]  =  69)"
      ]
     },
     "execution_count": 82,
     "metadata": {},
     "output_type": "execute_result"
    }
   ],
   "source": [
    "using JLD,PyPlot\n",
    "file_dir = \"./Entity.jld\";\n",
    "E = load(file_dir)[\"E\"]"
   ]
  },
  {
   "cell_type": "markdown",
   "metadata": {
    "hidden": true
   },
   "source": [
    "Computing adjacency matrix for the Entity-Entity graph."
   ]
  },
  {
   "cell_type": "code",
   "execution_count": 83,
   "metadata": {
    "hidden": true,
    "scrolled": false
   },
   "outputs": [
    {
     "data": {
      "image/png": "[encoded data removed]",
      "text/plain": [
       "PyPlot.Figure(PyObject <matplotlib.figure.Figure object at 0x1dc3f590>)"
      ]
     },
     "metadata": {},
     "output_type": "display_data"
    }
   ],
   "source": [
    "Es = E;\n",
    "E = logical(E);\n",
    "Ae = sqIn(E);\n",
    "\n",
    "spy(Ae);"
   ]
  },
  {
   "cell_type": "markdown",
   "metadata": {
    "hidden": true
   },
   "source": [
    "Compute entity-entity graph that preserves original values (documents))."
   ]
  },
  {
   "cell_type": "code",
   "execution_count": null,
   "metadata": {
    "collapsed": true,
    "hidden": true
   },
   "outputs": [],
   "source": [
    "# Limit to people with names starting with j\n",
    "p = StartsWith(\"PERSON/j,\");\n",
    "Ep = E[:,p];\n",
    "\n",
    "# Correlate while preserving pedigree\n",
    "Ap = CatKeyMul(Ep',Ep);\n",
    "spy(Ap);"
   ]
  },
  {
   "cell_type": "markdown",
   "metadata": {
    "hidden": true
   },
   "source": [
    "Create document-document graph: documents that contain the same entities."
   ]
  },
  {
   "cell_type": "code",
   "execution_count": null,
   "metadata": {
    "collapsed": true,
    "hidden": true
   },
   "outputs": [],
   "source": [
    "Ad = sqOut(Ep);\n",
    "spy(Ad);"
   ]
  },
  {
   "cell_type": "markdown",
   "metadata": {
    "heading_collapsed": true,
    "hidden": true
   },
   "source": [
    "### Graph Query"
   ]
  },
  {
   "cell_type": "markdown",
   "metadata": {
    "hidden": true
   },
   "source": [
    "Various ways to query subgraphs."
   ]
  },
  {
   "cell_type": "code",
   "execution_count": 42,
   "metadata": {
    "collapsed": true,
    "hidden": true
   },
   "outputs": [],
   "source": [
    "using JLD,PyPlot\n",
    "\n",
    "file_dir = \"./Entity.jld\"\n",
    "E = load(file_dir)[\"E\"]\n",
    "E = logical(E);"
   ]
  },
  {
   "cell_type": "markdown",
   "metadata": {
    "hidden": true
   },
   "source": [
    "Compute entity (all facet pairs)."
   ]
  },
  {
   "cell_type": "code",
   "execution_count": 46,
   "metadata": {
    "hidden": true
   },
   "outputs": [
    {
     "data": {
      "text/plain": [
       "Assoc(Union{AbstractString, Number}[\"LOCATION/aden\"], Union{AbstractString, Number}[\"LOCATION/sana'a\", \"LOCATION/yemen\", \"PERSON/abdul wali al-shumairi\", \"TIME/1996-08-21\", \"TIME/1996-10-26\"], Union{AbstractString, Number}[1.0, 2.0], \n",
       "  [1, 1]  =  1\n",
       "  [1, 2]  =  2\n",
       "  [1, 3]  =  1\n",
       "  [1, 4]  =  1\n",
       "  [1, 5]  =  1)"
      ]
     },
     "execution_count": 46,
     "metadata": {},
     "output_type": "execute_result"
    }
   ],
   "source": [
    "A = sqIn(E)\n",
    "d = diag(Adj(A))\n",
    "A = A - diag(A)\n",
    "\n",
    "A[2,:]"
   ]
  },
  {
   "cell_type": "markdown",
   "metadata": {
    "hidden": true
   },
   "source": [
    "Compute normalized correlation."
   ]
  },
  {
   "cell_type": "code",
   "execution_count": 48,
   "metadata": {
    "hidden": true
   },
   "outputs": [
    {
     "name": "stdout",
     "output_type": "stream",
     "text": [
      "  [LOCATION/aden, LOCATION/sana'a              ]  =  1\n",
      "  [LOCATION/aden, LOCATION/yemen               ]  =  2\n",
      "  [LOCATION/aden, PERSON/abdul wali al-shumairi]  =  2\n",
      "  [LOCATION/aden, TIME/1996-08-21              ]  =  1\n",
      "  [LOCATION/aden, TIME/1996-10-26              ]  =  1\n"
     ]
    }
   ],
   "source": [
    "i,j,v = findnz(Adj(A));\n",
    "An = putAdj(A, sparse(i,j,v ./ min.(d[i],d[j])))\n",
    "\n",
    "print(An[2,:])"
   ]
  },
  {
   "cell_type": "markdown",
   "metadata": {
    "hidden": true
   },
   "source": [
    "Multi-facet queries."
   ]
  },
  {
   "cell_type": "code",
   "execution_count": 50,
   "metadata": {
    "hidden": true
   },
   "outputs": [
    {
     "data": {
      "text/plain": [
       "8×2 Array{Union{AbstractString, Number},2}:\n",
       " \"\"                         \"LOCATION/new york\"\n",
       " \"PERSON/alex brown\"       1.0                 \n",
       " \"PERSON/chris reese\"      1.0                 \n",
       " \"PERSON/hugh johnson\"     1.0                 \n",
       " \"PERSON/ian simpson\"      1.0                 \n",
       " \"PERSON/jacqueline wong\"  1.0                 \n",
       " \"PERSON/john kennedy\"     1.0                 \n",
       " \"PERSON/nicholas burns\"   1.0                 "
      ]
     },
     "metadata": {},
     "output_type": "display_data"
    }
   ],
   "source": [
    "x = \"LOCATION/new york,\";\n",
    "p = StartsWith(\"PERSON/,\");\n",
    "printFull( (A[p,x] > 4) & (An[p,x] > 0.3));"
   ]
  },
  {
   "cell_type": "markdown",
   "metadata": {
    "hidden": true
   },
   "source": [
    "Find triangles."
   ]
  },
  {
   "cell_type": "code",
   "execution_count": 52,
   "metadata": {
    "hidden": true,
    "scrolled": true
   },
   "outputs": [
    {
     "data": {
      "image/png": "[encoded data removed]",
      "text/plain": [
       "PyPlot.Figure(PyObject <matplotlib.figure.Figure object at 0x7144cd0>)"
      ]
     },
     "metadata": {},
     "output_type": "display_data"
    },
    {
     "name": "stdout",
     "output_type": "stream",
     "text": [
      "  [PERSON/jack kemp    , PERSON/george bush  ]  =  2\n",
      "  [PERSON/steve holland, PERSON/george bush  ]  =  3\n",
      "  [PERSON/george bush  , PERSON/jack kemp    ]  =  2\n",
      "  [PERSON/richard nixon, PERSON/jack kemp    ]  =  3\n",
      "  [PERSON/jack kemp    , PERSON/richard nixon]  =  3\n",
      "  [PERSON/george bush  , PERSON/steve holland]  =  3\n"
     ]
    }
   ],
   "source": [
    "p0 = \"PERSON/john kennedy,\";\n",
    "\n",
    "p1 = Row(A[p,p0] + A[p0,p]);\n",
    "spy(A[p1,p1])\n",
    "\n",
    "p2 = Row( A[p1,p1] - (A[p,p0]+ A[p0,p]));\n",
    "print(A[p2,p2] > 1)"
   ]
  },
  {
   "cell_type": "markdown",
   "metadata": {
    "collapsed": true
   },
   "source": [
    "## Track Analysis"
   ]
  },
  {
   "cell_type": "markdown",
   "metadata": {
    "heading_collapsed": true
   },
   "source": [
    "### Build"
   ]
  },
  {
   "cell_type": "markdown",
   "metadata": {
    "hidden": true
   },
   "source": [
    "General approach to computing tracks from entity edge data."
   ]
  },
  {
   "cell_type": "code",
   "execution_count": 54,
   "metadata": {
    "collapsed": true,
    "hidden": true
   },
   "outputs": [],
   "source": [
    "using JLD,PyPlot\n",
    "\n",
    "E = load(\"Entity.jld\")[\"E\"]\n",
    "E = logical(E);"
   ]
  },
  {
   "cell_type": "markdown",
   "metadata": {
    "hidden": true
   },
   "source": [
    "Show general purpose method for building tracks."
   ]
  },
  {
   "cell_type": "code",
   "execution_count": 57,
   "metadata": {
    "collapsed": true,
    "hidden": true
   },
   "outputs": [],
   "source": [
    "p = StartsWith(\"PERSON/,\")      # Set entity range.\n",
    "t = StartsWith(\"TIME/,\")        # Set time range.\n",
    "x = StartsWith(\"LOCATION/,\")    # Set spatial range.\n",
    "a = StartsWith(\"PERSON/,TIME/,LOCATION/,\");"
   ]
  },
  {
   "cell_type": "markdown",
   "metadata": {
    "hidden": true
   },
   "source": [
    "Limit to edges with all three."
   ]
  },
  {
   "cell_type": "code",
   "execution_count": 56,
   "metadata": {
    "collapsed": true,
    "hidden": true
   },
   "outputs": [],
   "source": [
    "E3 = E[Row( sum(E[:,p],2) & sum(E[:,t],2) & sum(E[:,x],2) ),a];"
   ]
  },
  {
   "cell_type": "markdown",
   "metadata": {
    "hidden": true
   },
   "source": [
    "Collapse to get unique time and space for each edge and get triples."
   ]
  },
  {
   "cell_type": "code",
   "execution_count": 58,
   "metadata": {
    "collapsed": true,
    "hidden": true
   },
   "outputs": [],
   "source": [
    "edge,time  = find(  val2col(col2type(E3[:,t],\"/\"),\"/\")  )\n",
    "edge,space = find(  val2col(col2type(E3[:,x],\"/\"),\"/\")  )\n",
    "\n",
    "Etx = Assoc(edge,time,space)     # Combine edge, time and space.\n",
    "Ext = Assoc(edge,space,time)     # Combine edge, space and time."
   ]
  },
  {
   "cell_type": "markdown",
   "metadata": {
    "hidden": true
   },
   "source": [
    "Construct time tracks with matrix multiply."
   ]
  },
  {
   "cell_type": "code",
   "execution_count": 61,
   "metadata": {
    "hidden": true
   },
   "outputs": [
    {
     "data": {
      "image/png": "[encoded data removed]",
      "text/plain": [
       "PyPlot.Figure(PyObject <matplotlib.figure.Figure object at 0x711e650>)"
      ]
     },
     "metadata": {},
     "output_type": "display_data"
    },
    {
     "data": {
      "text/plain": [
       "(-0.5, 246.5, 2090.5, -0.5)"
      ]
     },
     "execution_count": 61,
     "metadata": {},
     "output_type": "execute_result"
    }
   ],
   "source": [
    "At = CatValMul(transpose(Etx),E3[:,p]) \n",
    "spy(At')\n",
    "axis(\"auto\")"
   ]
  },
  {
   "cell_type": "markdown",
   "metadata": {
    "hidden": true
   },
   "source": [
    "Construct space tracks with matrix multiply."
   ]
  },
  {
   "cell_type": "code",
   "execution_count": 62,
   "metadata": {
    "hidden": true
   },
   "outputs": [
    {
     "data": {
      "image/png": "[encoded data removed]",
      "text/plain": [
       "PyPlot.Figure(PyObject <matplotlib.figure.Figure object at 0x8b7a750>)"
      ]
     },
     "metadata": {},
     "output_type": "display_data"
    },
    {
     "data": {
      "text/plain": [
       "(-0.5, 220.5, 2090.5, -0.5)"
      ]
     },
     "execution_count": 62,
     "metadata": {},
     "output_type": "execute_result"
    }
   ],
   "source": [
    "Ax = CatValMul(transpose(Ext),E3[:,p]) \n",
    "spy(Ax')\n",
    "axis(\"auto\")"
   ]
  },
  {
   "cell_type": "markdown",
   "metadata": {
    "heading_collapsed": true
   },
   "source": [
    "### TA2 Query"
   ]
  },
  {
   "cell_type": "markdown",
   "metadata": {
    "hidden": true
   },
   "source": [
    "Compute tracks from entity edge data."
   ]
  },
  {
   "cell_type": "code",
   "execution_count": 67,
   "metadata": {
    "hidden": true
   },
   "outputs": [
    {
     "data": {
      "text/plain": [
       "findtracks (generic function with 1 method)"
      ]
     },
     "execution_count": 67,
     "metadata": {},
     "output_type": "execute_result"
    }
   ],
   "source": [
    "function findtracks(A,t,p,l);\n",
    "#FINDTRACKS creates track associative array.\n",
    "\n",
    "    # Find docs that have person\n",
    "    DocIDwPer = Row(A[:,p]);\n",
    "\n",
    "    # Find docs that have person and location.\n",
    "    DocIDwPerLoc = Row(A[DocIDwPer,l]);\n",
    "\n",
    "    # Find docs that have person, location and time.\n",
    "    DocIDwPerLocTime = Row(A[DocIDwPerLoc,t]);\n",
    "\n",
    "    # Limit to these documents.\n",
    "    AA = A[DocIDwPerLocTime,:];\n",
    "\n",
    "    # Get person sub array.\n",
    "    Aper = AA[DocIDwPerLocTime,p];\n",
    "    TrackPer,DocAper = find(Aper');\n",
    "\n",
    "    # Get location sub array.\n",
    "    Aloc = AA[DocIDwPerLocTime,l];\n",
    "    EntAloc,DocAloc = find(Aloc');\n",
    "\n",
    "    # Get Single location per document- order by actors\n",
    "    uLocDocs = unique(DocAloc)\n",
    "    uLocDocIdx = [1; indexin(uLocDocs,DocAloc)[1:end-1]+1] # get first index of unique docs (correct for getting highest)\n",
    "    uDocLocs = EntAloc[uLocDocIdx] # single locations per document\n",
    "    uLocDocIdxinDocAper = indexin(DocAper,uLocDocs) # locations of unique loc docs in per doc list\n",
    "    TrackLoc = uDocLocs[uLocDocIdxinDocAper]\n",
    "\n",
    "    # Get time sub array.\n",
    "    Atime = AA[DocIDwPerLocTime,t];\n",
    "    EntAtime,DocAtime = find(Atime');\n",
    "\n",
    "    # Get Single time per document- order by actors\n",
    "    uTimeDocs = unique(DocAtime)\n",
    "    uTimeDocIdx = [1; indexin(uTimeDocs,DocAtime)[1:end-1]+1] # get first index of unique docs (correct for getting highest)\n",
    "    uDocTimes = EntAtime[uTimeDocIdx] # single times per document\n",
    "    uTimeDocIdxinDocAper = indexin(DocAper,uTimeDocs) # locations of unique time docs in per doc list\n",
    "    TrackTime = uDocTimes[uTimeDocIdxinDocAper]\n",
    "\n",
    "    Tr = Assoc(TrackTime,TrackPer,TrackLoc);\n",
    "                    \n",
    "end"
   ]
  },
  {
   "cell_type": "markdown",
   "metadata": {
    "hidden": true
   },
   "source": [
    "Load edge incidence matrix."
   ]
  },
  {
   "cell_type": "code",
   "execution_count": 69,
   "metadata": {
    "collapsed": true,
    "hidden": true
   },
   "outputs": [],
   "source": [
    "using JLD\n",
    "\n",
    "E = load(\"Entity.jld\")[\"E\"]\n",
    "Es = E\n",
    "A = logical(E);"
   ]
  },
  {
   "cell_type": "markdown",
   "metadata": {
    "hidden": true
   },
   "source": [
    "Set prefixes and build entity tracks using findtracks function."
   ]
  },
  {
   "cell_type": "code",
   "execution_count": 84,
   "metadata": {
    "collapsed": true,
    "hidden": true
   },
   "outputs": [],
   "source": [
    "p = StartsWith(\"PERSON/,\")\n",
    "t = StartsWith(\"TIME/,\")\n",
    "x = StartsWith(\"LOCATION/,\")\n",
    "\n",
    "A = findtracks(E,t,p,x);"
   ]
  },
  {
   "cell_type": "markdown",
   "metadata": {
    "hidden": true
   },
   "source": [
    "Track queries (Where have Michael Chang and Javier Sanchez been when?)"
   ]
  },
  {
   "cell_type": "code",
   "execution_count": 85,
   "metadata": {
    "hidden": true
   },
   "outputs": [
    {
     "data": {
      "text/plain": [
       "9×3 Array{Union{AbstractString, Number},2}:\n",
       " \"\"                 \"PERSON/javier sanchez\"  \"PERSON/michael chang\"   \n",
       " \"TIME/1996-08-24\"  \"\"                       \"LOCATION/czech republic\"\n",
       " \"TIME/1996-09-02\"  \"LOCATION/new york\"      \"\"                       \n",
       " \"TIME/1996-09-04\"  \"LOCATION/austria\"       \"LOCATION/austria\"       \n",
       " \"TIME/1996-09-08\"  \"\"                       \"LOCATION/austria\"       \n",
       " \"TIME/1996-10-02\"  \"LOCATION/germany\"       \"\"                       \n",
       " \"TIME/1996-10-05\"  \"\"                       \"LOCATION/britain\"       \n",
       " \"TIME/1996-10-28\"  \"\"                       \"LOCATION/africa\"        \n",
       " \"TIME/1997-01-09\"  \"LOCATION/australia\"     \"LOCATION/australia\"     "
      ]
     },
     "metadata": {},
     "output_type": "display_data"
    }
   ],
   "source": [
    "p1 = \"PERSON/michael chang,\"\n",
    "p2 = \"PERSON/javier sanchez,\"\n",
    "printFull( A[:,p1*p2] )"
   ]
  },
  {
   "cell_type": "markdown",
   "metadata": {
    "hidden": true
   },
   "source": [
    "Track windows (Who was in Austria during this time?)"
   ]
  },
  {
   "cell_type": "code",
   "execution_count": 86,
   "metadata": {
    "hidden": true
   },
   "outputs": [
    {
     "data": {
      "text/plain": [
       "4-element Array{Union{AbstractString, Number},1}:\n",
       " \"PERSON/javier sanchez\" \n",
       " \"PERSON/melissa russo\"  \n",
       " \"PERSON/michael chang\"  \n",
       " \"PERSON/michelle martin\""
      ]
     },
     "execution_count": 86,
     "metadata": {},
     "output_type": "execute_result"
    }
   ],
   "source": [
    "t = \"TIME/1996-09-03,:,TIME/1996-09-06,\"\n",
    "x = \"LOCATION/austria\"\n",
    "Col(A[t,:] == x)"
   ]
  },
  {
   "cell_type": "markdown",
   "metadata": {},
   "source": [
    "### TA3 Graph"
   ]
  },
  {
   "cell_type": "markdown",
   "metadata": {},
   "source": [
    "Compute tracks from entity edge data."
   ]
  },
  {
   "cell_type": "code",
   "execution_count": 63,
   "metadata": {},
   "outputs": [
    {
     "data": {
      "text/plain": [
       "FindTrackGraph (generic function with 1 method)"
      ]
     },
     "execution_count": 63,
     "metadata": {},
     "output_type": "execute_result"
    }
   ],
   "source": [
    "function findtrackgraph(Atrack)\n",
    "#TRACKGRAPH forms graph of locations from Track Associative array.\n",
    "\n",
    "    # Find 1 hop and >1 hop tracks.\n",
    "    AtrackHop = sum(Atrack,1);\n",
    "    Hop1 = Col(AtrackHop == 1);\n",
    "    Hop2 = Col(AtrackHop > 1); \n",
    "\n",
    "    # Get track list.  Naturally comes out sorted by p.\n",
    "    t1,p1,x1 = find(Atrack[:,Hop1]);\n",
    "    AtrackGraph1 = Assoc(x1,x1,1,(+));\n",
    "\n",
    "    t2,p2,x2 = find(Atrack[:,Hop2]);\n",
    "\n",
    "    # Create matrices and shifted matrices.\n",
    "    p22 = circshift(p2,-1);\n",
    "    x22 = circshift(x2,-1);\n",
    "\n",
    "    # Find where p21 and p22 are the same.\n",
    "    test = p2 .== p22;   \n",
    "    x21 = x2[test];   \n",
    "    x22 = x22[test];   \n",
    "\n",
    "    AtrackGraph2 = Assoc(x21,x22,1);\n",
    "\n",
    "    AtrackGraph = AtrackGraph1 + AtrackGraph2;\n",
    "\n",
    "end"
   ]
  },
  {
   "cell_type": "code",
   "execution_count": 64,
   "metadata": {
    "collapsed": true
   },
   "outputs": [],
   "source": [
    "using JLD,PyPlot\n",
    "\n",
    "# Load edge incidence matrix.\n",
    "E = load(\"Entity.jld\")[\"E\"]\n",
    "E = logical(E);"
   ]
  },
  {
   "cell_type": "markdown",
   "metadata": {},
   "source": [
    "Build entity tracks with findtracks function."
   ]
  },
  {
   "cell_type": "code",
   "execution_count": 87,
   "metadata": {
    "collapsed": true
   },
   "outputs": [],
   "source": [
    "p = StartsWith(\"PERSON/,\")\n",
    "t = StartsWith(\"TIME/,\")\n",
    "x = StartsWith(\"LOCATION/,\")\n",
    "\n",
    "A = findtracks(E,t,p,x);"
   ]
  },
  {
   "cell_type": "markdown",
   "metadata": {},
   "source": [
    "Build track graph."
   ]
  },
  {
   "cell_type": "code",
   "execution_count": null,
   "metadata": {
    "collapsed": true
   },
   "outputs": [],
   "source": [
    "G = findtrackgraph(A)\n",
    "print(G > 5)\n",
    "spy(G)"
   ]
  },
  {
   "cell_type": "markdown",
   "metadata": {},
   "source": [
    "Track graph pattern."
   ]
  },
  {
   "cell_type": "code",
   "execution_count": null,
   "metadata": {
    "collapsed": true
   },
   "outputs": [],
   "source": [
    "o = \"ORGANIZATION/international monetary fund,\"\n",
    "p = StartsWith(\"PERSON/,\")\n",
    "Go = FindTrackGraph(A[:,Col(E[Row(E[:,o]),p])])\n",
    "\n",
    "print((Go > 2) & ((Go ./ G) > 0.2))"
   ]
  },
  {
   "cell_type": "code",
   "execution_count": null,
   "metadata": {
    "collapsed": true
   },
   "outputs": [],
   "source": []
  }
 ],
 "metadata": {
  "kernelspec": {
   "display_name": "Julia 0.6.0",
   "language": "julia",
   "name": "julia-0.6"
  },
  "language_info": {
   "file_extension": ".jl",
   "mimetype": "application/julia",
   "name": "julia",
   "version": "0.6.0"
  },
  "latex_envs": {
   "LaTeX_envs_menu_present": true,
   "autocomplete": true,
   "bibliofile": "biblio.bib",
   "cite_by": "apalike",
   "current_citInitial": 1,
   "eqLabelWithNumbers": true,
   "eqNumInitial": 1,
   "hotkeys": {
    "equation": "Ctrl-E",
    "itemize": "Ctrl-I"
   },
   "labels_anchors": false,
   "latex_user_defs": false,
   "report_style_numbering": false,
   "user_envs_cfg": false
  },
  "toc": {
   "nav_menu": {},
   "number_sections": true,
   "sideBar": true,
   "skip_h1_title": false,
   "toc_cell": false,
   "toc_position": {},
   "toc_section_display": "block",
   "toc_window_display": false
  },
  "varInspector": {
   "cols": {
    "lenName": 16,
    "lenType": 16,
    "lenVar": 40
   },
   "kernels_config": {
    "python": {
     "delete_cmd_postfix": "",
     "delete_cmd_prefix": "del ",
     "library": "var_list.py",
     "varRefreshCmd": "print(var_dic_list())"
    },
    "r": {
     "delete_cmd_postfix": ") ",
     "delete_cmd_prefix": "rm(",
     "library": "var_list.r",
     "varRefreshCmd": "cat(var_dic_list()) "
    }
   },
   "types_to_exclude": [
    "module",
    "function",
    "builtin_function_or_method",
    "instance",
    "_Feature"
   ],
   "window_display": false
  }
 },
 "nbformat": 4,
 "nbformat_minor": 2
}
