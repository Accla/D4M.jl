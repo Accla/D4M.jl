{
 "cells": [
  {
   "cell_type": "markdown",
   "metadata": {},
   "source": [
    "A collection of examples demonstrating the features of associative arrays and D4M.jl, organized into one handy notebook.\n",
    "<br>\n",
    "<b><u>This isn't exhaustive</u></b> -- <b><u>please suggest more!!</u></b> "
   ]
  },
  {
   "cell_type": "code",
   "execution_count": 1,
   "metadata": {
    "scrolled": false
   },
   "outputs": [
    {
     "name": "stderr",
     "output_type": "stream",
     "text": [
      "┌ Info: Precompiling D4M [ca196bdc-a701-11e8-3d50-3b5cc8577617]\n",
      "└ @ Base loading.jl:1192\n"
     ]
    },
    {
     "name": "stdout",
     "output_type": "stream",
     "text": [
      "Database capabilities loaded!\n"
     ]
    }
   ],
   "source": [
    "using D4M"
   ]
  },
  {
   "cell_type": "markdown",
   "metadata": {},
   "source": [
    "# Intro"
   ]
  },
  {
   "cell_type": "markdown",
   "metadata": {},
   "source": [
    "## Assoc Intro"
   ]
  },
  {
   "cell_type": "markdown",
   "metadata": {},
   "source": [
    "### AI1 Setup"
   ]
  },
  {
   "cell_type": "markdown",
   "metadata": {},
   "source": [
    "Hello! This is a test on the basic Assoc Array construction. Associative array takes on entries of triplets, and it will parse an array of substrings that is divided by char divider.\n",
    "\n",
    "--Please note that this divider is indicated as the last char in the string."
   ]
  },
  {
   "cell_type": "code",
   "execution_count": 2,
   "metadata": {},
   "outputs": [
    {
     "data": {
      "text/plain": [
       "Assoc(Union{AbstractString, Number}[\"a\", \"aa\", \"aaa\", \"b\", \"bb\", \"bbb\"], Union{AbstractString, Number}[\"a\", \"aa\", \"aaa\", \"b\", \"bb\", \"bbb\"], Union{AbstractString, Number}[\"a-a\", \"a-aa\", \"a-aaa\", \"a-b\", \"a-bb\", \"a-bbb\", \"aa-a\", \"aa-aa\", \"aaa-a\", \"aaa-aaa\", \"b-a\", \"b-b\", \"bb-a\", \"bb-bb\", \"bbb-a\", \"bbb-bbb\"], \n",
       "  [1, 1]  =  1\n",
       "  [2, 1]  =  7\n",
       "  [3, 1]  =  9\n",
       "  [4, 1]  =  11\n",
       "  [5, 1]  =  13\n",
       "  [6, 1]  =  15\n",
       "  [1, 2]  =  2\n",
       "  [2, 2]  =  8\n",
       "  [1, 3]  =  3\n",
       "  [3, 3]  =  10\n",
       "  [1, 4]  =  4\n",
       "  [4, 4]  =  12\n",
       "  [1, 5]  =  5\n",
       "  [5, 5]  =  14\n",
       "  [1, 6]  =  6\n",
       "  [6, 6]  =  16)"
      ]
     },
     "execution_count": 2,
     "metadata": {},
     "output_type": "execute_result"
    }
   ],
   "source": [
    "row = \"a,a,a,a,a,a,a,aa,aaa,b,bb,bbb,a,aa,aaa,b,bb,bbb,\"\n",
    "column = \"a,aa,aaa,b,bb,bbb,a,a,a,a,a,a,a,aa,aaa,b,bb,bbb,\"\n",
    "values = \"a-a,a-aa,a-aaa,a-b,a-bb,a-bbb,a-a,aa-a,aaa-a,b-a,bb-a,bbb-a,a-a,aa-aa,aaa-aaa,b-b,bb-bb,bbb-bbb,\"\n",
    "\n",
    "# Create assoc array and list triples.\n",
    "A = Assoc(row,column,values)"
   ]
  },
  {
   "cell_type": "markdown",
   "metadata": {},
   "source": [
    "This is the data structure of the Associative Array Class:"
   ]
  },
  {
   "cell_type": "code",
   "execution_count": 3,
   "metadata": {},
   "outputs": [
    {
     "name": "stdout",
     "output_type": "stream",
     "text": [
      "Assoc\n",
      "  row: Array{Union{AbstractString, Number}}((6,))\n",
      "    1: SubString{String}\n",
      "      string: String \"a,a,a,a,a,a,a,aa,aaa,b,bb,bbb,a,aa,aaa,b,bb,bbb,\"\n",
      "      offset: Int64 0\n",
      "      ncodeunits: Int64 1\n",
      "    2: SubString{String}\n",
      "      string: String \"a,a,a,a,a,a,a,aa,aaa,b,bb,bbb,a,aa,aaa,b,bb,bbb,\"\n",
      "      offset: Int64 14\n",
      "      ncodeunits: Int64 2\n",
      "    3: SubString{String}\n",
      "      string: String \"a,a,a,a,a,a,a,aa,aaa,b,bb,bbb,a,aa,aaa,b,bb,bbb,\"\n",
      "      offset: Int64 17\n",
      "      ncodeunits: Int64 3\n",
      "    4: SubString{String}\n",
      "      string: String \"a,a,a,a,a,a,a,aa,aaa,b,bb,bbb,a,aa,aaa,b,bb,bbb,\"\n",
      "      offset: Int64 21\n",
      "      ncodeunits: Int64 1\n",
      "    5: SubString{String}\n",
      "      string: String \"a,a,a,a,a,a,a,aa,aaa,b,bb,bbb,a,aa,aaa,b,bb,bbb,\"\n",
      "      offset: Int64 23\n",
      "      ncodeunits: Int64 2\n",
      "    6: SubString{String}\n",
      "      string: String \"a,a,a,a,a,a,a,aa,aaa,b,bb,bbb,a,aa,aaa,b,bb,bbb,\"\n",
      "      offset: Int64 26\n",
      "      ncodeunits: Int64 3\n",
      "  col: Array{Union{AbstractString, Number}}((6,))\n",
      "    1: SubString{String}\n",
      "      string: String \"a,aa,aaa,b,bb,bbb,a,a,a,a,a,a,a,aa,aaa,b,bb,bbb,\"\n",
      "      offset: Int64 0\n",
      "      ncodeunits: Int64 1\n",
      "    2: SubString{String}\n",
      "      string: String \"a,aa,aaa,b,bb,bbb,a,a,a,a,a,a,a,aa,aaa,b,bb,bbb,\"\n",
      "      offset: Int64 2\n",
      "      ncodeunits: Int64 2\n",
      "    3: SubString{String}\n",
      "      string: String \"a,aa,aaa,b,bb,bbb,a,a,a,a,a,a,a,aa,aaa,b,bb,bbb,\"\n",
      "      offset: Int64 5\n",
      "      ncodeunits: Int64 3\n",
      "    4: SubString{String}\n",
      "      string: String \"a,aa,aaa,b,bb,bbb,a,a,a,a,a,a,a,aa,aaa,b,bb,bbb,\"\n",
      "      offset: Int64 9\n",
      "      ncodeunits: Int64 1\n",
      "    5: SubString{String}\n",
      "      string: String \"a,aa,aaa,b,bb,bbb,a,a,a,a,a,a,a,aa,aaa,b,bb,bbb,\"\n",
      "      offset: Int64 11\n",
      "      ncodeunits: Int64 2\n",
      "    6: SubString{String}\n",
      "      string: String \"a,aa,aaa,b,bb,bbb,a,a,a,a,a,a,a,aa,aaa,b,bb,bbb,\"\n",
      "      offset: Int64 14\n",
      "      ncodeunits: Int64 3\n",
      "  val: Array{Union{AbstractString, Number}}((16,))\n",
      "    1: SubString{String}\n",
      "      string: String \"a-a,a-aa,a-aaa,a-b,a-bb,a-bbb,a-a,aa-a,aaa-a,b-a,bb-a,bbb-a,a-a,aa-aa,aaa-aaa,b-b,bb-bb,bbb-bbb,\"\n",
      "      offset: Int64 0\n",
      "      ncodeunits: Int64 3\n",
      "    2: SubString{String}\n",
      "      string: String \"a-a,a-aa,a-aaa,a-b,a-bb,a-bbb,a-a,aa-a,aaa-a,b-a,bb-a,bbb-a,a-a,aa-aa,aaa-aaa,b-b,bb-bb,bbb-bbb,\"\n",
      "      offset: Int64 4\n",
      "      ncodeunits: Int64 4\n",
      "    3: SubString{String}\n",
      "      string: String \"a-a,a-aa,a-aaa,a-b,a-bb,a-bbb,a-a,aa-a,aaa-a,b-a,bb-a,bbb-a,a-a,aa-aa,aaa-aaa,b-b,bb-bb,bbb-bbb,\"\n",
      "      offset: Int64 9\n",
      "      ncodeunits: Int64 5\n",
      "    4: SubString{String}\n",
      "      string: String \"a-a,a-aa,a-aaa,a-b,a-bb,a-bbb,a-a,aa-a,aaa-a,b-a,bb-a,bbb-a,a-a,aa-aa,aaa-aaa,b-b,bb-bb,bbb-bbb,\"\n",
      "      offset: Int64 15\n",
      "      ncodeunits: Int64 3\n",
      "    5: SubString{String}\n",
      "      string: String \"a-a,a-aa,a-aaa,a-b,a-bb,a-bbb,a-a,aa-a,aaa-a,b-a,bb-a,bbb-a,a-a,aa-aa,aaa-aaa,b-b,bb-bb,bbb-bbb,\"\n",
      "      offset: Int64 19\n",
      "      ncodeunits: Int64 4\n",
      "    ...\n",
      "    12: SubString{String}\n",
      "      string: String \"a-a,a-aa,a-aaa,a-b,a-bb,a-bbb,a-a,aa-a,aaa-a,b-a,bb-a,bbb-a,a-a,aa-aa,aaa-aaa,b-b,bb-bb,bbb-bbb,\"\n",
      "      offset: Int64 78\n",
      "      ncodeunits: Int64 3\n",
      "    13: SubString{String}\n",
      "      string: String \"a-a,a-aa,a-aaa,a-b,a-bb,a-bbb,a-a,aa-a,aaa-a,b-a,bb-a,bbb-a,a-a,aa-aa,aaa-aaa,b-b,bb-bb,bbb-bbb,\"\n",
      "      offset: Int64 49\n",
      "      ncodeunits: Int64 4\n",
      "    14: SubString{String}\n",
      "      string: String \"a-a,a-aa,a-aaa,a-b,a-bb,a-bbb,a-a,aa-a,aaa-a,b-a,bb-a,bbb-a,a-a,aa-aa,aaa-aaa,b-b,bb-bb,bbb-bbb,\"\n",
      "      offset: Int64 82\n",
      "      ncodeunits: Int64 5\n",
      "    15: SubString{String}\n",
      "      string: String \"a-a,a-aa,a-aaa,a-b,a-bb,a-bbb,a-a,aa-a,aaa-a,b-a,bb-a,bbb-a,a-a,aa-aa,aaa-aaa,b-b,bb-bb,bbb-bbb,\"\n",
      "      offset: Int64 54\n",
      "      ncodeunits: Int64 5\n",
      "    16: SubString{String}\n",
      "      string: String \"a-a,a-aa,a-aaa,a-b,a-bb,a-bbb,a-a,aa-a,aaa-a,b-a,bb-a,bbb-a,a-a,aa-aa,aaa-aaa,b-b,bb-bb,bbb-bbb,\"\n",
      "      offset: Int64 88\n",
      "      ncodeunits: Int64 7\n",
      "  A: SparseArrays.SparseMatrixCSC{Int64,Int64}\n",
      "    m: Int64 6\n",
      "    n: Int64 6\n",
      "    colptr: Array{Int64}((7,)) [1, 7, 9, 11, 13, 15, 17]\n",
      "    rowval: Array{Int64}((16,)) [1, 2, 3, 4, 5, 6, 1, 2, 1, 3, 1, 4, 1, 5, 1, 6]\n",
      "    nzval: Array{Int64}((16,)) [1, 7, 9, 11, 13, 15, 2, 8, 3, 10, 4, 12, 5, 14, 6, 16]\n"
     ]
    }
   ],
   "source": [
    "dump(A)"
   ]
  },
  {
   "cell_type": "markdown",
   "metadata": {},
   "source": [
    "The printFull function allows it to be printed in a tabular form."
   ]
  },
  {
   "cell_type": "code",
   "execution_count": 4,
   "metadata": {},
   "outputs": [
    {
     "data": {
      "text/plain": [
       "7×7 Array{Union{AbstractString, Number},2}:\n",
       " \"\"     \"a\"      \"aa\"     \"aaa\"      \"b\"    \"bb\"     \"bbb\"    \n",
       " \"a\"    \"a-a\"    \"a-aa\"   \"a-aaa\"    \"a-b\"  \"a-bb\"   \"a-bbb\"  \n",
       " \"aa\"   \"aa-a\"   \"aa-aa\"  \"\"         \"\"     \"\"       \"\"       \n",
       " \"aaa\"  \"aaa-a\"  \"\"       \"aaa-aaa\"  \"\"     \"\"       \"\"       \n",
       " \"b\"    \"b-a\"    \"\"       \"\"         \"b-b\"  \"\"       \"\"       \n",
       " \"bb\"   \"bb-a\"   \"\"       \"\"         \"\"     \"bb-bb\"  \"\"       \n",
       " \"bbb\"  \"bbb-a\"  \"\"       \"\"         \"\"     \"\"       \"bbb-bbb\""
      ]
     },
     "metadata": {},
     "output_type": "display_data"
    }
   ],
   "source": [
    "printFull(A)"
   ]
  },
  {
   "cell_type": "markdown",
   "metadata": {},
   "source": [
    "When written into CSV form, the data is stored in the tabular form."
   ]
  },
  {
   "cell_type": "code",
   "execution_count": 5,
   "metadata": {},
   "outputs": [],
   "source": [
    "WriteCSV(A,\"A.csv\")"
   ]
  },
  {
   "cell_type": "markdown",
   "metadata": {},
   "source": [
    "### AI2 Subsref"
   ]
  },
  {
   "cell_type": "markdown",
   "metadata": {},
   "source": [
    "This is a test on the subreferencing of Associative Array."
   ]
  },
  {
   "cell_type": "code",
   "execution_count": 2,
   "metadata": {},
   "outputs": [
    {
     "data": {
      "text/plain": [
       "Assoc(Union{AbstractString, Number}[\"a\", \"aa\", \"aaa\", \"b\", \"bb\", \"bbb\"], Union{AbstractString, Number}[\"a\", \"aa\", \"aaa\", \"b\", \"bb\", \"bbb\"], Union{AbstractString, Number}[\"a-a\", \"a-aa\", \"a-aaa\", \"a-b\", \"a-bb\", \"a-bbb\", \"aa-a\", \"aa-aa\", \"aaa-a\", \"aaa-aaa\", \"b-a\", \"b-b\", \"bb-a\", \"bb-bb\", \"bbb-a\", \"bbb-bbb\"], \n",
       "  [1, 1]  =  1\n",
       "  [2, 1]  =  7\n",
       "  [3, 1]  =  9\n",
       "  [4, 1]  =  11\n",
       "  [5, 1]  =  13\n",
       "  [6, 1]  =  15\n",
       "  [1, 2]  =  2\n",
       "  [2, 2]  =  8\n",
       "  [1, 3]  =  3\n",
       "  [3, 3]  =  10\n",
       "  [1, 4]  =  4\n",
       "  [4, 4]  =  12\n",
       "  [1, 5]  =  5\n",
       "  [5, 5]  =  14\n",
       "  [1, 6]  =  6\n",
       "  [6, 6]  =  16)"
      ]
     },
     "execution_count": 2,
     "metadata": {},
     "output_type": "execute_result"
    }
   ],
   "source": [
    "A = ReadCSV(\"A.csv\")"
   ]
  },
  {
   "cell_type": "markdown",
   "metadata": {},
   "source": [
    "Get rows a and b."
   ]
  },
  {
   "cell_type": "code",
   "execution_count": 7,
   "metadata": {},
   "outputs": [
    {
     "name": "stdout",
     "output_type": "stream",
     "text": [
      "  [a, a  ]  =  a-a\n",
      "  [b, a  ]  =  b-a\n",
      "  [a, aa ]  =  a-aa\n",
      "  [a, aaa]  =  a-aaa\n",
      "  [a, b  ]  =  a-b\n",
      "  [b, b  ]  =  b-b\n",
      "  [a, bb ]  =  a-bb\n",
      "  [a, bbb]  =  a-bbb\n"
     ]
    }
   ],
   "source": [
    "A1r = A[\"a,b,\",:]\n",
    "\n",
    "print(A1r)"
   ]
  },
  {
   "cell_type": "markdown",
   "metadata": {},
   "source": [
    "Get rows containing a and columns 1 thru 3 (not yet supported)."
   ]
  },
  {
   "cell_type": "code",
   "execution_count": null,
   "metadata": {
    "collapsed": true
   },
   "outputs": [],
   "source": [
    "#A2r = A[\"a *,\",1:3]\n",
    "\n",
    "#print(A2r)"
   ]
  },
  {
   "cell_type": "markdown",
   "metadata": {},
   "source": [
    "Get rows a to b."
   ]
  },
  {
   "cell_type": "code",
   "execution_count": 8,
   "metadata": {},
   "outputs": [
    {
     "name": "stdout",
     "output_type": "stream",
     "text": [
      "  [a  , a  ]  =  a-a\n",
      "  [aa , a  ]  =  aa-a\n",
      "  [aaa, a  ]  =  aaa-a\n",
      "  [b  , a  ]  =  b-a\n",
      "  [a  , aa ]  =  a-aa\n",
      "  [aa , aa ]  =  aa-aa\n",
      "  [a  , aaa]  =  a-aaa\n",
      "  [aaa, aaa]  =  aaa-aaa\n",
      "  [a  , b  ]  =  a-b\n",
      "  [b  , b  ]  =  b-b\n",
      "  [a  , bb ]  =  a-bb\n",
      "  [a  , bbb]  =  a-bbb\n"
     ]
    }
   ],
   "source": [
    "A3r = A[\"a,:,b,\",:]\n",
    "\n",
    "print(A3r)"
   ]
  },
  {
   "cell_type": "markdown",
   "metadata": {},
   "source": [
    "Get rows starting with a or bb."
   ]
  },
  {
   "cell_type": "code",
   "execution_count": 9,
   "metadata": {},
   "outputs": [
    {
     "name": "stdout",
     "output_type": "stream",
     "text": [
      "  [a  , a  ]  =  a-a\n",
      "  [aa , a  ]  =  aa-a\n",
      "  [aaa, a  ]  =  aaa-a\n",
      "  [bb , a  ]  =  bb-a\n",
      "  [bbb, a  ]  =  bbb-a\n",
      "  [a  , aa ]  =  a-aa\n",
      "  [aa , aa ]  =  aa-aa\n",
      "  [a  , aaa]  =  a-aaa\n",
      "  [aaa, aaa]  =  aaa-aaa\n",
      "  [a  , b  ]  =  a-b\n",
      "  [a  , bb ]  =  a-bb\n",
      "  [bb , bb ]  =  bb-bb\n",
      "  [a  , bbb]  =  a-bbb\n",
      "  [bbb, bbb]  =  bbb-bbb\n"
     ]
    }
   ],
   "source": [
    "A4r = A[StartsWith(\"a,bb,\"),:]\n",
    "\n",
    "print(A4r)"
   ]
  },
  {
   "cell_type": "markdown",
   "metadata": {},
   "source": [
    "Get cols a and b."
   ]
  },
  {
   "cell_type": "code",
   "execution_count": 10,
   "metadata": {},
   "outputs": [
    {
     "name": "stdout",
     "output_type": "stream",
     "text": [
      "  [a  , a]  =  a-a\n",
      "  [aa , a]  =  aa-a\n",
      "  [aaa, a]  =  aaa-a\n",
      "  [b  , a]  =  b-a\n",
      "  [bb , a]  =  bb-a\n",
      "  [bbb, a]  =  bbb-a\n",
      "  [a  , b]  =  a-b\n",
      "  [b  , b]  =  b-b\n"
     ]
    }
   ],
   "source": [
    "A1c = A[:,\"a,b,\"]\n",
    "\n",
    "print(A1c)"
   ]
  },
  {
   "cell_type": "markdown",
   "metadata": {},
   "source": [
    "Get cols a to b."
   ]
  },
  {
   "cell_type": "code",
   "execution_count": 11,
   "metadata": {},
   "outputs": [
    {
     "name": "stdout",
     "output_type": "stream",
     "text": [
      "  [a  , a  ]  =  a-a\n",
      "  [aa , a  ]  =  aa-a\n",
      "  [aaa, a  ]  =  aaa-a\n",
      "  [b  , a  ]  =  b-a\n",
      "  [bb , a  ]  =  bb-a\n",
      "  [bbb, a  ]  =  bbb-a\n",
      "  [a  , aa ]  =  a-aa\n",
      "  [aa , aa ]  =  aa-aa\n",
      "  [a  , aaa]  =  a-aaa\n",
      "  [aaa, aaa]  =  aaa-aaa\n",
      "  [a  , b  ]  =  a-b\n",
      "  [b  , b  ]  =  b-b\n"
     ]
    }
   ],
   "source": [
    "A3c = A[:,\"a,:,b,\"]\n",
    "\n",
    "print(A3c)"
   ]
  },
  {
   "cell_type": "markdown",
   "metadata": {},
   "source": [
    "Get cols starting with a or b."
   ]
  },
  {
   "cell_type": "code",
   "execution_count": 13,
   "metadata": {},
   "outputs": [
    {
     "name": "stdout",
     "output_type": "stream",
     "text": [
      "  [a  , a  ]  =  a-a\n",
      "  [aa , a  ]  =  aa-a\n",
      "  [aaa, a  ]  =  aaa-a\n",
      "  [b  , a  ]  =  b-a\n",
      "  [bb , a  ]  =  bb-a\n",
      "  [bbb, a  ]  =  bbb-a\n",
      "  [a  , aa ]  =  a-aa\n",
      "  [aa , aa ]  =  aa-aa\n",
      "  [a  , aaa]  =  a-aaa\n",
      "  [aaa, aaa]  =  aaa-aaa\n",
      "  [a  , bb ]  =  a-bb\n",
      "  [bb , bb ]  =  bb-bb\n",
      "  [a  , bbb]  =  a-bbb\n",
      "  [bbb, bbb]  =  bbb-bbb\n"
     ]
    }
   ],
   "source": [
    "A4c = A[:,StartsWith(\"a,bb,\")]\n",
    "\n",
    "print(A4c)"
   ]
  },
  {
   "cell_type": "markdown",
   "metadata": {},
   "source": [
    "_TODO filter both rows and columns simultaneously_"
   ]
  },
  {
   "cell_type": "code",
   "execution_count": null,
   "metadata": {},
   "outputs": [],
   "source": []
  },
  {
   "cell_type": "markdown",
   "metadata": {},
   "source": [
    "Using regexes:"
   ]
  },
  {
   "cell_type": "code",
   "execution_count": 31,
   "metadata": {},
   "outputs": [
    {
     "name": "stdout",
     "output_type": "stream",
     "text": [
      "  [aa , aa ]  =  aa-aa\n",
      "  [aaa, aaa]  =  aaa-aaa\n"
     ]
    }
   ],
   "source": [
    "A5 = A[r\"a{2,}\",r\"a{2}\"]\n",
    "\n",
    "print(A5)"
   ]
  },
  {
   "cell_type": "code",
   "execution_count": 118,
   "metadata": {},
   "outputs": [
    {
     "data": {
      "text/plain": [
       "2-element Array{Union{AbstractString, Number},1}:\n",
       " \"aa\" \n",
       " \"aaa\""
      ]
     },
     "execution_count": 118,
     "metadata": {},
     "output_type": "execute_result"
    }
   ],
   "source": [
    "A.row[findall( x -> occursin(i,x),A.row)]"
   ]
  },
  {
   "cell_type": "markdown",
   "metadata": {},
   "source": [
    "### AI3 Math"
   ]
  },
  {
   "cell_type": "markdown",
   "metadata": {},
   "source": [
    "This section demos some of the mathematical operations on Associative Array."
   ]
  },
  {
   "cell_type": "markdown",
   "metadata": {},
   "source": [
    "`logical` converts entries into 1 if they exist, and 0 if they don't."
   ]
  },
  {
   "cell_type": "code",
   "execution_count": 15,
   "metadata": {},
   "outputs": [
    {
     "data": {
      "text/plain": [
       "7×7 Array{Union{AbstractString, Number},2}:\n",
       " \"\"      \"a\"   \"aa\"   \"aaa\"   \"b\"   \"bb\"   \"bbb\"\n",
       " \"a\"    1     1      1       1     1      1     \n",
       " \"aa\"   1     1      0       0     0      0     \n",
       " \"aaa\"  1     0      1       0     0      0     \n",
       " \"b\"    1     0      0       1     0      0     \n",
       " \"bb\"   1     0      0       0     1      0     \n",
       " \"bbb\"  1     0      0       0     0      1     "
      ]
     },
     "metadata": {},
     "output_type": "display_data"
    }
   ],
   "source": [
    "A = ReadCSV(\"A.csv\")\n",
    "A = logical(A)\n",
    "\n",
    "printFull(A)"
   ]
  },
  {
   "cell_type": "markdown",
   "metadata": {},
   "source": [
    "We can sum down rows and across columns."
   ]
  },
  {
   "cell_type": "code",
   "execution_count": 18,
   "metadata": {},
   "outputs": [
    {
     "data": {
      "text/plain": [
       "2×7 Array{Union{AbstractString, Number},2}:\n",
       "  \"\"   \"a\"   \"aa\"   \"aaa\"   \"b\"   \"bb\"   \"bbb\"\n",
       " 1.0  6     2      2       2     2      2     "
      ]
     },
     "metadata": {},
     "output_type": "display_data"
    },
    {
     "data": {
      "text/plain": [
       "7×2 Array{Union{AbstractString, Number},2}:\n",
       " \"\"     1.0\n",
       " \"a\"    6  \n",
       " \"aa\"   2  \n",
       " \"aaa\"  2  \n",
       " \"b\"    2  \n",
       " \"bb\"   2  \n",
       " \"bbb\"  2  "
      ]
     },
     "metadata": {},
     "output_type": "display_data"
    }
   ],
   "source": [
    "printFull(sum(A,1)) # sum across rows; we get the number of entries in each column\n",
    "printFull(sum(A,2)) # sum across columns; we get the number of entries in each row"
   ]
  },
  {
   "cell_type": "markdown",
   "metadata": {},
   "source": [
    "Compute a simple join."
   ]
  },
  {
   "cell_type": "code",
   "execution_count": 19,
   "metadata": {},
   "outputs": [
    {
     "data": {
      "text/plain": [
       "3×2 Array{Union{AbstractString, Number},2}:\n",
       " \"\"   1.0\n",
       " \"a\"  1.0\n",
       " \"b\"  1.0"
      ]
     },
     "metadata": {},
     "output_type": "display_data"
    }
   ],
   "source": [
    "Aa = A[:,\"a,\"]\n",
    "Ab = A[:,\"b,\"]\n",
    "Aab = nocol(Aa) & nocol(Ab)\n",
    "\n",
    "printFull(Aab)"
   ]
  },
  {
   "cell_type": "markdown",
   "metadata": {},
   "source": [
    "Compute a histogram (facets) and normalized histogram of other columns that are in rows with both a and b."
   ]
  },
  {
   "cell_type": "code",
   "execution_count": null,
   "metadata": {
    "collapsed": true
   },
   "outputs": [],
   "source": [
    "F =  ( Aab )' * A\n",
    "printFull(F)\n",
    "\n",
    "Fn = F ./ sum(A,1)\n",
    "printFull(Fn)"
   ]
  },
  {
   "cell_type": "markdown",
   "metadata": {},
   "source": [
    "Compute correlation"
   ]
  },
  {
   "cell_type": "code",
   "execution_count": null,
   "metadata": {
    "collapsed": true
   },
   "outputs": [],
   "source": [
    "AtA = sqIn(A)\n",
    "d = diag(getadj(AtA))\n",
    "AtA = putAdj(AtA,getadj(AtA) - sparse(diagm(d)))\n",
    "printFull(AtA)"
   ]
  },
  {
   "cell_type": "markdown",
   "metadata": {},
   "source": [
    "### AI4 Advanced Constsruction"
   ]
  },
  {
   "cell_type": "markdown",
   "metadata": {},
   "source": [
    "Mixed string and numeric associative arrays."
   ]
  },
  {
   "cell_type": "code",
   "execution_count": 1,
   "metadata": {},
   "outputs": [
    {
     "data": {
      "text/plain": [
       "14×1 LinearAlgebra.Adjoint{Int64,Array{Int64,2}}:\n",
       " 1\n",
       " 1\n",
       " 1\n",
       " 1\n",
       " 4\n",
       " 3\n",
       " 2\n",
       " 1\n",
       " 4\n",
       " 5\n",
       " 6\n",
       " 6\n",
       " 6\n",
       " 6"
      ]
     },
     "execution_count": 1,
     "metadata": {},
     "output_type": "execute_result"
    }
   ],
   "source": [
    "# String  vectors *must* be ROW vectors\n",
    "iStr =  \"01,02,03,04,21,22,23,24,41,51,61,62,63,64,\"\n",
    "\n",
    "# Numeric vectors *must* be COLUMN vectors\n",
    "iNum =  [ 1  1  1  1  4  3  2  1 4  5  6  6  6  6 ]'"
   ]
  },
  {
   "cell_type": "markdown",
   "metadata": {},
   "source": [
    "Mixed type empty arrays."
   ]
  },
  {
   "cell_type": "code",
   "execution_count": null,
   "metadata": {
    "collapsed": true
   },
   "outputs": [],
   "source": [
    "# All empty.\n",
    "A00 = Assoc(\"\",\"\",\"\")\n",
    "\n",
    "# Empty row.\n",
    "A01 = Assoc(\"\",iStr,iNum)\n",
    "\n",
    "# Empty value.\n",
    "A02 = Assoc(iNum,iStr,\"\")\n",
    "\n",
    "# Empty column and value.\n",
    "A03 = Assoc(iNum,[],\"\")\n",
    "\n",
    "# All empty.\n",
    "A04 = Assoc(\"\",[],[])\n",
    "\n",
    "# All empty.\n",
    "A05 = Assoc(\"\",\"\",[])\n",
    "\n",
    "# row and value empty.\n",
    "A06 = Assoc(\"\",iNum,[])\n"
   ]
  },
  {
   "cell_type": "markdown",
   "metadata": {},
   "source": [
    "Mixed type non-empty arrays. (Commented out cells are not yet supported)"
   ]
  },
  {
   "cell_type": "markdown",
   "metadata": {},
   "source": [
    "String scalar,  string vector,  numeric vector."
   ]
  },
  {
   "cell_type": "code",
   "execution_count": null,
   "metadata": {
    "collapsed": true
   },
   "outputs": [],
   "source": [
    "# A11 = Assoc(\"a,\",iStr,iNum)\n",
    "\n",
    "# printFull(A11)"
   ]
  },
  {
   "cell_type": "markdown",
   "metadata": {},
   "source": [
    "Numeric vector, string vector,  string scalar."
   ]
  },
  {
   "cell_type": "code",
   "execution_count": null,
   "metadata": {
    "collapsed": true
   },
   "outputs": [],
   "source": [
    "#A12 = Assoc(iNum,iStr,\"a,\")\n",
    "\n",
    "# printFull(A12)"
   ]
  },
  {
   "cell_type": "markdown",
   "metadata": {},
   "source": [
    "Numeric vector, numeric scalar, string scalar."
   ]
  },
  {
   "cell_type": "code",
   "execution_count": null,
   "metadata": {
    "collapsed": true
   },
   "outputs": [],
   "source": [
    "#A13 = Assoc(iNum,1,\"a,\")\n",
    "\n",
    "# printFull(A13)"
   ]
  },
  {
   "cell_type": "markdown",
   "metadata": {},
   "source": [
    "String scalar,  numeric scalar, numeric scalar."
   ]
  },
  {
   "cell_type": "code",
   "execution_count": null,
   "metadata": {
    "collapsed": true
   },
   "outputs": [],
   "source": [
    "A14 = Assoc(\"a,\",1,1)\n",
    "\n",
    "printFull(A14)"
   ]
  },
  {
   "cell_type": "markdown",
   "metadata": {},
   "source": [
    "String scalar,  string scalar,  numeric scalar."
   ]
  },
  {
   "cell_type": "code",
   "execution_count": null,
   "metadata": {
    "collapsed": true
   },
   "outputs": [],
   "source": [
    "A15 = Assoc(\"a,\",\"a,\",1)\n",
    "\n",
    "printFull(A15)"
   ]
  },
  {
   "cell_type": "markdown",
   "metadata": {},
   "source": [
    "String scalar,  numeric vector, numeric scalar."
   ]
  },
  {
   "cell_type": "code",
   "execution_count": null,
   "metadata": {
    "collapsed": true
   },
   "outputs": [],
   "source": [
    "#A16 = Assoc(\"a,\",iNum,1)\n",
    "\n",
    "# printFull(A16)"
   ]
  },
  {
   "cell_type": "markdown",
   "metadata": {
    "heading_collapsed": true
   },
   "source": [
    "## Edge Art"
   ]
  },
  {
   "cell_type": "markdown",
   "metadata": {
    "hidden": true
   },
   "source": [
    "### EA1 Graph"
   ]
  },
  {
   "cell_type": "markdown",
   "metadata": {
    "hidden": true
   },
   "source": [
    "Read CSV file of an incidence matrix into an associative array. Filter to get just vertices, and convert to actual 1's and 0's so we can do math. <br> (Incidence matrices map each vertex/edge pair to a 1 if the vertex is incident to the edge, and 0 otherwise)"
   ]
  },
  {
   "cell_type": "code",
   "execution_count": 4,
   "metadata": {
    "hidden": true
   },
   "outputs": [
    {
     "data": {
      "text/plain": [
       "20×23 Array{Union{AbstractString, Number},2}:\n",
       " \"\"    \"Color\"   \"Order\"  \"V01\"  \"V02\"  …  \"V16\"  \"V17\"  \"V18\"  \"V19\"  \"V20\"\n",
       " \"B1\"  \"Blue\"    \"2\"      \"1\"    \"1\"       \"\"     \"\"     \"\"     \"\"     \"\"   \n",
       " \"B2\"  \"Blue\"    \"2\"      \"\"     \"\"        \"\"     \"\"     \"\"     \"\"     \"\"   \n",
       " \"G1\"  \"Green\"   \"2\"      \"1\"    \"1\"       \"\"     \"\"     \"\"     \"\"     \"\"   \n",
       " \"G2\"  \"Green\"   \"2\"      \"\"     \"\"        \"\"     \"\"     \"\"     \"\"     \"\"   \n",
       " \"O1\"  \"Orange\"  \"2\"      \"1\"    \"1\"    …  \"\"     \"\"     \"\"     \"\"     \"\"   \n",
       " \"O2\"  \"Orange\"  \"2\"      \"1\"    \"1\"       \"\"     \"\"     \"\"     \"\"     \"\"   \n",
       " \"O3\"  \"Orange\"  \"2\"      \"\"     \"\"        \"\"     \"\"     \"\"     \"\"     \"\"   \n",
       " \"O4\"  \"Orange\"  \"2\"      \"\"     \"\"        \"\"     \"\"     \"\"     \"\"     \"\"   \n",
       " \"O5\"  \"Orange\"  \"1\"      \"\"     \"1\"       \"1\"    \"\"     \"\"     \"\"     \"1\"  \n",
       " \"P1\"  \"Pink\"    \"2\"      \"1\"    \"1\"    …  \"\"     \"\"     \"\"     \"\"     \"\"   \n",
       " \"P2\"  \"Pink\"    \"2\"      \"\"     \"\"        \"\"     \"\"     \"\"     \"\"     \"\"   \n",
       " \"P3\"  \"Pink\"    \"2\"      \"\"     \"\"        \"\"     \"\"     \"\"     \"\"     \"\"   \n",
       " \"P4\"  \"Pink\"    \"2\"      \"\"     \"1\"       \"\"     \"\"     \"\"     \"\"     \"\"   \n",
       " \"P5\"  \"Pink\"    \"2\"      \"\"     \"1\"       \"\"     \"\"     \"\"     \"\"     \"\"   \n",
       " \"P6\"  \"Pink\"    \"2\"      \"\"     \"\"     …  \"1\"    \"1\"    \"\"     \"\"     \"\"   \n",
       " \"P7\"  \"Pink\"    \"3\"      \"\"     \"\"        \"\"     \"\"     \"1\"    \"\"     \"\"   \n",
       " \"P8\"  \"Pink\"    \"3\"      \"\"     \"\"        \"1\"    \"\"     \"\"     \"1\"    \"\"   \n",
       " \"S1\"  \"Silver\"  \"2\"      \"1\"    \"1\"       \"\"     \"\"     \"\"     \"\"     \"\"   \n",
       " \"S2\"  \"Silver\"  \"2\"      \"\"     \"\"        \"\"     \"\"     \"\"     \"\"     \"\"   "
      ]
     },
     "metadata": {},
     "output_type": "display_data"
    },
    {
     "data": {
      "text/plain": [
       "20×21 Array{Union{AbstractString, Number},2}:\n",
       " \"\"     \"V01\"   \"V02\"   \"V03\"   \"V04\"  …   \"V17\"   \"V18\"   \"V19\"   \"V20\"\n",
       " \"B1\"  1       1       1       0          0       0       0       0     \n",
       " \"B2\"  0       0       0       1          0       0       0       0     \n",
       " \"G1\"  1       1       1       0          0       0       0       0     \n",
       " \"G2\"  0       0       0       1          0       0       0       0     \n",
       " \"O1\"  1       1       1       0       …  0       0       0       0     \n",
       " \"O2\"  1       1       1       0          0       0       0       0     \n",
       " \"O3\"  0       0       0       1          0       0       0       0     \n",
       " \"O4\"  0       0       0       1          0       0       0       0     \n",
       " \"O5\"  0       1       0       0          0       0       0       1     \n",
       " \"P1\"  1       1       1       0       …  0       0       0       0     \n",
       " \"P2\"  0       0       0       1          0       0       0       0     \n",
       " \"P3\"  0       0       0       0          0       0       0       0     \n",
       " \"P4\"  0       1       0       0          0       0       0       0     \n",
       " \"P5\"  0       1       0       0          0       0       0       0     \n",
       " \"P6\"  0       0       0       0       …  1       0       0       0     \n",
       " \"P7\"  0       0       0       0          0       1       0       0     \n",
       " \"P8\"  0       0       0       0          0       0       1       0     \n",
       " \"S1\"  1       1       1       0          0       0       0       0     \n",
       " \"S2\"  0       0       0       1          0       0       0       0     "
      ]
     },
     "metadata": {},
     "output_type": "display_data"
    }
   ],
   "source": [
    "E = ReadCSV(\"1Intro/2EdgeArt/Edge.csv\")\n",
    "printFull(E)\n",
    "\n",
    "Ev = logical( E[:, StartsWith(\"V,\")] )\n",
    "printFull(Ev)"
   ]
  },
  {
   "cell_type": "markdown",
   "metadata": {
    "hidden": true
   },
   "source": [
    "Compute vertex adjacency matrix (through some graph theory magic). `sqIn(A) = transpose(A) * A` <br> The resulting matrix's non-diagonal entries represent how many edges there are between two vertices, and its diagonal entries represent how many edges pass through the vertex (perhaps multiple times). (see https://math.stackexchange.com/questions/1231144/what-is-the-special-of-product-of-the-incidence-matrix-and-its-transpose-for-an)"
   ]
  },
  {
   "cell_type": "code",
   "execution_count": 125,
   "metadata": {
    "hidden": true,
    "scrolled": true
   },
   "outputs": [
    {
     "data": {
      "text/plain": [
       "21×21 Array{Union{AbstractString, Number},2}:\n",
       " \"\"      \"V01\"   \"V02\"   \"V03\"   \"V04\"  …   \"V17\"   \"V18\"   \"V19\"   \"V20\"\n",
       " \"V01\"  6       6       6       0          0       0       0       0     \n",
       " \"V02\"  6       9       6       0          0       0       0       1     \n",
       " \"V03\"  6       6       6       0          0       0       0       0     \n",
       " \"V04\"  0       0       0       6          0       0       0       0     \n",
       " \"V05\"  0       0       0       6       …  0       1       0       0     \n",
       " \"V06\"  0       1       0       6          0       0       0       1     \n",
       " \"V07\"  0       0       0       6          0       0       1       0     \n",
       " \"V08\"  0       0       0       6          0       0       0       0     \n",
       " \"V09\"  0       1       0       0          0       0       0       1     \n",
       " \"V10\"  0       1       0       0       …  0       0       0       0     \n",
       " \"V11\"  0       1       0       0          0       0       0       1     \n",
       " \"V12\"  0       1       0       0          0       0       0       0     \n",
       " \"V13\"  0       1       0       0          0       0       0       0     \n",
       " \"V14\"  0       0       0       0          0       0       0       0     \n",
       " \"V15\"  0       0       0       0       …  1       1       0       0     \n",
       " \"V16\"  0       1       0       0          1       0       1       1     \n",
       " \"V17\"  0       0       0       0          1       0       0       0     \n",
       " \"V18\"  0       0       0       0          0       1       0       0     \n",
       " \"V19\"  0       0       0       0          0       0       1       0     \n",
       " \"V20\"  0       1       0       0       …  0       0       0       1     "
      ]
     },
     "metadata": {},
     "output_type": "display_data"
    }
   ],
   "source": [
    "Av = sqIn(Ev)\n",
    "printFull(Av)"
   ]
  },
  {
   "cell_type": "markdown",
   "metadata": {},
   "source": [
    "Compute degrees of each node."
   ]
  },
  {
   "cell_type": "code",
   "execution_count": 129,
   "metadata": {},
   "outputs": [
    {
     "data": {
      "text/plain": [
       "Assoc(Union{AbstractString, Number}[\"V01\", \"V02\", \"V03\", \"V04\", \"V05\", \"V06\", \"V07\", \"V08\", \"V09\", \"V10\", \"V11\", \"V12\", \"V13\", \"V14\", \"V15\", \"V16\", \"V17\", \"V18\", \"V19\", \"V20\"], Union{AbstractString, Number}[1.0], Union{AbstractString, Number}[1.0], \n",
       "  [1 ,  1]  =  18\n",
       "  [2 ,  1]  =  29\n",
       "  [3 ,  1]  =  18\n",
       "  [4 ,  1]  =  30\n",
       "  [5 ,  1]  =  33\n",
       "  [6 ,  1]  =  36\n",
       "  [7 ,  1]  =  33\n",
       "  [8 ,  1]  =  30\n",
       "  [9 ,  1]  =  6\n",
       "  [10,  1]  =  6\n",
       "  [11,  1]  =  10\n",
       "  [12,  1]  =  3\n",
       "  [13,  1]  =  7\n",
       "  [14,  1]  =  4\n",
       "  [15,  1]  =  6\n",
       "  [16,  1]  =  12\n",
       "  [17,  1]  =  3\n",
       "  [18,  1]  =  3\n",
       "  [19,  1]  =  3\n",
       "  [20,  1]  =  6)"
      ]
     },
     "execution_count": 129,
     "metadata": {},
     "output_type": "execute_result"
    }
   ],
   "source": [
    "outdeg = sum(Av, 2)"
   ]
  },
  {
   "cell_type": "code",
   "execution_count": 127,
   "metadata": {},
   "outputs": [
    {
     "data": {
      "text/plain": [
       "2-element Array{String,1}:\n",
       " \"V01\"\n",
       " \"V20\""
      ]
     },
     "execution_count": 127,
     "metadata": {},
     "output_type": "execute_result"
    }
   ],
   "source": [
    "vk = [\"V01\", \"V20\"]"
   ]
  },
  {
   "cell_type": "code",
   "execution_count": 134,
   "metadata": {
    "scrolled": true
   },
   "outputs": [
    {
     "data": {
      "text/html": [
       "getindex(A::<b>Assoc</b>, i::<b>AbstractString</b>, j::<b>Union{Colon, Int64, AbstractRange, Array{Int64,N} where N, Array{Union{AbstractString, Number},N} where N}</b>) in D4M at <a href=\"https://github.com/n8kim1/D4M.jl/tree/344d3c9dbdcba8b8d419e3c13da244a2792f10b6//src/Assoc/getindex.jl#L84\" target=\"_blank\">/home/nathan/Documents/UROP/D4M.jl/src/Assoc/getindex.jl:84</a>"
      ],
      "text/plain": [
       "getindex(A::Assoc, i::AbstractString, j::Union{Colon, Int64, AbstractRange, Array{Int64,N} where N, Array{Union{AbstractString, Number},N} where N}) in D4M at /home/nathan/Documents/UROP/D4M.jl/src/Assoc/getindex.jl:84"
      ]
     },
     "execution_count": 134,
     "metadata": {},
     "output_type": "execute_result"
    }
   ],
   "source": [
    "@which outdeg[\"V01,\", :]"
   ]
  },
  {
   "cell_type": "code",
   "execution_count": 93,
   "metadata": {},
   "outputs": [],
   "source": [
    "Aout=Dict()\n",
    "for v in Av.row\n",
    "    Aout[v] = find(Av[v * string(','), v * string(',')])[3]\n",
    "end"
   ]
  },
  {
   "cell_type": "code",
   "execution_count": 94,
   "metadata": {},
   "outputs": [
    {
     "data": {
      "text/plain": [
       "Dict{Any,Any} with 20 entries:\n",
       "  \"V07\" => 7\n",
       "  \"V16\" => 3\n",
       "  \"V17\" => 1\n",
       "  \"V04\" => 6\n",
       "  \"V14\" => 1\n",
       "  \"V18\" => 1\n",
       "  \"V02\" => 9\n",
       "  \"V09\" => 1\n",
       "  \"V08\" => 6\n",
       "  \"V01\" => 6\n",
       "  \"V05\" => 7\n",
       "  \"V11\" => 2\n",
       "  \"V12\" => 1\n",
       "  \"V19\" => 1\n",
       "  \"V03\" => 6\n",
       "  \"V15\" => 2\n",
       "  \"V06\" => 7\n",
       "  \"V20\" => 1\n",
       "  \"V10\" => 2\n",
       "  \"V13\" => 2"
      ]
     },
     "execution_count": 94,
     "metadata": {},
     "output_type": "execute_result"
    }
   ],
   "source": [
    "Aout"
   ]
  },
  {
   "cell_type": "code",
   "execution_count": 30,
   "metadata": {},
   "outputs": [],
   "source": [
    "Adiag=[]\n",
    "for v in Av.row\n",
    "    push!(Adiag, find(Av[v * string(','), v * string(',')])[3][1])\n",
    "end"
   ]
  },
  {
   "cell_type": "code",
   "execution_count": 32,
   "metadata": {},
   "outputs": [
    {
     "data": {
      "text/plain": [
       "21×21 Array{Union{AbstractString, Number},2}:\n",
       " \"\"      \"V01\"   \"V02\"   \"V03\"   \"V04\"  …   \"V17\"   \"V18\"   \"V19\"   \"V20\"\n",
       " \"V01\"  6       0       0       0          0       0       0       0     \n",
       " \"V02\"  0       9       0       0          0       0       0       0     \n",
       " \"V03\"  0       0       6       0          0       0       0       0     \n",
       " \"V04\"  0       0       0       6          0       0       0       0     \n",
       " \"V05\"  0       0       0       0       …  0       0       0       0     \n",
       " \"V06\"  0       0       0       0          0       0       0       0     \n",
       " \"V07\"  0       0       0       0          0       0       0       0     \n",
       " \"V08\"  0       0       0       0          0       0       0       0     \n",
       " \"V09\"  0       0       0       0          0       0       0       0     \n",
       " \"V10\"  0       0       0       0       …  0       0       0       0     \n",
       " \"V11\"  0       0       0       0          0       0       0       0     \n",
       " \"V12\"  0       0       0       0          0       0       0       0     \n",
       " \"V13\"  0       0       0       0          0       0       0       0     \n",
       " \"V14\"  0       0       0       0          0       0       0       0     \n",
       " \"V15\"  0       0       0       0       …  0       0       0       0     \n",
       " \"V16\"  0       0       0       0          0       0       0       0     \n",
       " \"V17\"  0       0       0       0          1       0       0       0     \n",
       " \"V18\"  0       0       0       0          0       1       0       0     \n",
       " \"V19\"  0       0       0       0          0       0       1       0     \n",
       " \"V20\"  0       0       0       0       …  0       0       0       1     "
      ]
     },
     "metadata": {},
     "output_type": "display_data"
    }
   ],
   "source": [
    "Avdiag = Assoc(Av.row, Av.col, Adiag)\n",
    "printFull(Avdiag)"
   ]
  },
  {
   "cell_type": "code",
   "execution_count": 178,
   "metadata": {},
   "outputs": [
    {
     "data": {
      "text/plain": [
       "Assoc(Union{AbstractString, Number}[\"V01\", \"V02\", \"V03\", \"V04\", \"V05\", \"V06\", \"V07\", \"V08\", \"V09\", \"V10\", \"V11\", \"V12\", \"V13\", \"V14\", \"V15\", \"V16\", \"V17\", \"V18\", \"V19\", \"V20\"], Union{AbstractString, Number}[1.0], Union{AbstractString, Number}[1.0], \n",
       "  [1 ,  1]  =  6\n",
       "  [2 ,  1]  =  9\n",
       "  [3 ,  1]  =  6\n",
       "  [4 ,  1]  =  6\n",
       "  [5 ,  1]  =  7\n",
       "  [6 ,  1]  =  7\n",
       "  [7 ,  1]  =  7\n",
       "  [8 ,  1]  =  6\n",
       "  [9 ,  1]  =  1\n",
       "  [10,  1]  =  2\n",
       "  [11,  1]  =  2\n",
       "  [12,  1]  =  1\n",
       "  [13,  1]  =  2\n",
       "  [14,  1]  =  1\n",
       "  [15,  1]  =  2\n",
       "  [16,  1]  =  3\n",
       "  [17,  1]  =  1\n",
       "  [18,  1]  =  1\n",
       "  [19,  1]  =  1\n",
       "  [20,  1]  =  1)"
      ]
     },
     "execution_count": 178,
     "metadata": {},
     "output_type": "execute_result"
    }
   ],
   "source": [
    "AvdiagAssoc = sum(Avdiag, 2)"
   ]
  },
  {
   "cell_type": "code",
   "execution_count": 185,
   "metadata": {},
   "outputs": [
    {
     "data": {
      "text/plain": [
       "\"V01,V02,V20,\""
      ]
     },
     "execution_count": 185,
     "metadata": {},
     "output_type": "execute_result"
    }
   ],
   "source": [
    "vk = \"V01,V02,V20,\""
   ]
  },
  {
   "cell_type": "code",
   "execution_count": 220,
   "metadata": {},
   "outputs": [
    {
     "data": {
      "text/plain": [
       "3-element Array{Union{AbstractString, Number},1}:\n",
       " \"V01\"\n",
       " \"V02\"\n",
       " \"V20\""
      ]
     },
     "execution_count": 220,
     "metadata": {},
     "output_type": "execute_result"
    }
   ],
   "source": [
    "varray = AvdiagAssoc[vk, :]. row"
   ]
  },
  {
   "cell_type": "code",
   "execution_count": 221,
   "metadata": {},
   "outputs": [
    {
     "data": {
      "text/plain": [
       "Assoc(Union{AbstractString, Number}[\"V01\", \"V02\", \"V20\"], Union{AbstractString, Number}[\"V01\", \"V02\", \"V03\", \"V06\", \"V09\", \"V10\", \"V11\", \"V12\", \"V13\", \"V16\", \"V20\"], Union{AbstractString, Number}[1.0], \n",
       "  [1 ,  1]  =  6\n",
       "  [2 ,  1]  =  6\n",
       "  [1 ,  2]  =  6\n",
       "  [2 ,  2]  =  9\n",
       "  [3 ,  2]  =  1\n",
       "  [1 ,  3]  =  6\n",
       "  [2 ,  3]  =  6\n",
       "  [2 ,  4]  =  1\n",
       "  [3 ,  4]  =  1\n",
       "  [2 ,  5]  =  1\n",
       "  [3 ,  5]  =  1\n",
       "  [2 ,  6]  =  1\n",
       "  [2 ,  7]  =  1\n",
       "  [3 ,  7]  =  1\n",
       "  [2 ,  8]  =  1\n",
       "  [2 ,  9]  =  1\n",
       "  [2 , 10]  =  1\n",
       "  [3 , 10]  =  1\n",
       "  [2 , 11]  =  1\n",
       "  [3 , 11]  =  1)"
      ]
     },
     "execution_count": 221,
     "metadata": {},
     "output_type": "execute_result"
    }
   ],
   "source": [
    "Av[varray, :]"
   ]
  },
  {
   "cell_type": "code",
   "execution_count": 203,
   "metadata": {},
   "outputs": [
    {
     "name": "stdout",
     "output_type": "stream",
     "text": [
      "  [V01, V01]  =  6\n",
      "  [V02, V01]  =  6\n",
      "  [V01, V02]  =  6\n",
      "  [V01, V03]  =  6\n",
      "  [V02, V03]  =  6\n"
     ]
    }
   ],
   "source": [
    "print(bounded(Av[vk, :], 2, 7))"
   ]
  },
  {
   "cell_type": "code",
   "execution_count": 219,
   "metadata": {
    "scrolled": true
   },
   "outputs": [
    {
     "data": {
      "text/plain": [
       "4×12 Array{Union{AbstractString, Number},2}:\n",
       " \"\"      \"V01\"   \"V02\"   \"V03\"   \"V06\"  …   \"V12\"   \"V13\"   \"V16\"   \"V20\"\n",
       " \"V01\"  6       6       6       0          0       0       0       0     \n",
       " \"V02\"  6       9       6       1          1       1       1       1     \n",
       " \"V20\"  0       1       0       1          0       0       1       1     "
      ]
     },
     "metadata": {},
     "output_type": "display_data"
    },
    {
     "data": {
      "text/plain": [
       "12×20 Array{Union{AbstractString, Number},2}:\n",
       " \"\"      \"V01\"   \"V02\"   \"V03\"   \"V04\"  …   \"V16\"   \"V17\"   \"V19\"   \"V20\"\n",
       " \"V01\"  6       6       6       0          0       0       0       0     \n",
       " \"V02\"  6       9       6       0          1       0       0       1     \n",
       " \"V03\"  6       6       6       0          0       0       0       0     \n",
       " \"V06\"  0       1       0       6          1       0       0       1     \n",
       " \"V09\"  0       1       0       0       …  1       0       0       1     \n",
       " \"V10\"  0       1       0       0          0       0       0       0     \n",
       " \"V11\"  0       1       0       0          1       0       0       1     \n",
       " \"V12\"  0       1       0       0          0       0       0       0     \n",
       " \"V13\"  0       1       0       0          0       0       0       0     \n",
       " \"V16\"  0       1       0       0       …  3       1       1       1     \n",
       " \"V20\"  0       1       0       0          1       0       0       1     "
      ]
     },
     "metadata": {},
     "output_type": "display_data"
    },
    {
     "name": "stdout",
     "output_type": "stream",
     "text": [
      "Union{AbstractString, Number}[\"V01\", \"V02\", \"V03\", \"V06\", \"V09\", \"V10\", \"V11\", \"V12\", \"V13\", \"V16\", \"V20\"]"
     ]
    }
   ],
   "source": [
    "Avnew = Av[vk,:] \n",
    "printFull(Avnew)\n",
    "print(Avnew.col)\n",
    "c = Avnew.col\n",
    "printFull(Av[c, :])"
   ]
  },
  {
   "cell_type": "markdown",
   "metadata": {},
   "source": [
    "Breadth-first search, using an adjacency matrix:"
   ]
  },
  {
   "cell_type": "code",
   "execution_count": 128,
   "metadata": {
    "scrolled": true
   },
   "outputs": [
    {
     "data": {
      "text/plain": [
       "21×2 Array{Union{AbstractString, Number},2}:\n",
       " \"\"      1.0\n",
       " \"V01\"  18  \n",
       " \"V02\"  29  \n",
       " \"V03\"  18  \n",
       " \"V04\"  30  \n",
       " \"V05\"  33  \n",
       " \"V06\"  36  \n",
       " \"V07\"  33  \n",
       " \"V08\"  30  \n",
       " \"V09\"   6  \n",
       " \"V10\"   6  \n",
       " \"V11\"  10  \n",
       " \"V12\"   3  \n",
       " \"V13\"   7  \n",
       " \"V14\"   4  \n",
       " \"V15\"   6  \n",
       " \"V16\"  12  \n",
       " \"V17\"   3  \n",
       " \"V18\"   3  \n",
       " \"V19\"   3  \n",
       " \"V20\"   6  "
      ]
     },
     "metadata": {},
     "output_type": "display_data"
    },
    {
     "data": {
      "text/plain": [
       "3-element Array{Union{AbstractString, Number},1}:\n",
       " \"V01\"\n",
       " \"V02\"\n",
       " \"V03\""
      ]
     },
     "execution_count": 128,
     "metadata": {},
     "output_type": "execute_result"
    }
   ],
   "source": [
    "(adjbfs(Av, \"V01,V20,\", 1, 10, 20).col)"
   ]
  },
  {
   "cell_type": "markdown",
   "metadata": {},
   "source": [
    "Another example, first removing self-edges -- to test takeUnion"
   ]
  },
  {
   "cell_type": "code",
   "execution_count": 69,
   "metadata": {},
   "outputs": [
    {
     "name": "stdout",
     "output_type": "stream",
     "text": [
      "step 1\n",
      "vk V01,V20,\n",
      "uk Union{AbstractString, Number}[\"V20\"]\n",
      "step 2\n",
      "vk Union{AbstractString, Number}[\"V02\", \"V06\", \"V09\", \"V11\", \"V16\"]\n",
      "uk Union{AbstractString, Number}[\"V09\"]\n"
     ]
    },
    {
     "data": {
      "text/plain": [
       "5-element Array{Union{AbstractString, Number},1}:\n",
       " \"V02\"\n",
       " \"V06\"\n",
       " \"V11\"\n",
       " \"V16\"\n",
       " \"V20\""
      ]
     },
     "execution_count": 69,
     "metadata": {},
     "output_type": "execute_result"
    }
   ],
   "source": [
    "Avnodiag= removediag(Av)\n",
    "adjbfs(Avnodiag, \"V01,V20,\", 2, 3, 7, takeunion=false).col"
   ]
  },
  {
   "cell_type": "code",
   "execution_count": 70,
   "metadata": {},
   "outputs": [
    {
     "name": "stdout",
     "output_type": "stream",
     "text": [
      "step 1\n",
      "vk V01,V20,\n",
      "uk Union{AbstractString, Number}[\"V20\"]\n",
      "step 2\n",
      "vk Union{AbstractString, Number}[\"V02\", \"V06\", \"V09\", \"V11\", \"V16\"]\n",
      "uk Union{AbstractString, Number}[\"V09\"]\n"
     ]
    },
    {
     "data": {
      "text/plain": [
       "6-element Array{Union{AbstractString, Number},1}:\n",
       " \"V02\"\n",
       " \"V06\"\n",
       " \"V09\"\n",
       " \"V11\"\n",
       " \"V16\"\n",
       " \"V20\""
      ]
     },
     "execution_count": 70,
     "metadata": {},
     "output_type": "execute_result"
    }
   ],
   "source": [
    "Avnodiag= removediag(Av)\n",
    "adjbfs(Avnodiag, \"V01,V20,\", 2, 3, 7, takeunion=true).col"
   ]
  },
  {
   "cell_type": "markdown",
   "metadata": {},
   "source": [
    "What happens if we can't get to any nodes? Here, degree-filtering messes us up."
   ]
  },
  {
   "cell_type": "code",
   "execution_count": 114,
   "metadata": {},
   "outputs": [
    {
     "name": "stdout",
     "output_type": "stream",
     "text": [
      "Stopped BFS after step 2; no nodes in search set.\n",
      "#undef"
     ]
    }
   ],
   "source": [
    "Avnodiag= removediag(Av)\n",
    "result = adjbfs(Avnodiag, \"V01,\", 5, 3, 7, takeunion=true)\n",
    "print(result.col)"
   ]
  },
  {
   "cell_type": "markdown",
   "metadata": {
    "hidden": true
   },
   "source": [
    "Compute edge adjacency graph."
   ]
  },
  {
   "cell_type": "code",
   "execution_count": 41,
   "metadata": {
    "hidden": true
   },
   "outputs": [
    {
     "data": {
      "text/plain": [
       "20×20 Array{Union{AbstractString, Number},2}:\n",
       " \"\"     \"B1\"   \"B2\"   \"G1\"   \"G2\"  …   \"P6\"   \"P7\"   \"P8\"   \"S1\"   \"S2\"\n",
       " \"B1\"  3      0      3      0         0      0      0      3      0    \n",
       " \"B2\"  0      5      0      5         0      1      1      0      5    \n",
       " \"G1\"  3      0      3      0         0      0      0      3      0    \n",
       " \"G2\"  0      5      0      5         0      1      1      0      5    \n",
       " \"O1\"  3      0      3      0      …  0      0      0      3      0    \n",
       " \"O2\"  3      0      3      0         0      0      0      3      0    \n",
       " \"O3\"  0      5      0      5         0      1      1      0      5    \n",
       " \"O4\"  0      5      0      5         0      1      1      0      5    \n",
       " \"O5\"  1      1      1      1         1      0      1      1      1    \n",
       " \"P1\"  3      0      3      0      …  0      0      0      3      0    \n",
       " \"P2\"  0      5      0      5         0      1      1      0      5    \n",
       " \"P3\"  0      0      0      0         0      0      0      0      0    \n",
       " \"P4\"  1      0      1      0         0      0      0      1      0    \n",
       " \"P5\"  1      0      1      0         0      0      0      1      0    \n",
       " \"P6\"  0      0      0      0      …  3      1      1      0      0    \n",
       " \"P7\"  0      1      0      1         1      3      0      0      1    \n",
       " \"P8\"  0      1      0      1         1      0      3      0      1    \n",
       " \"S1\"  3      0      3      0         0      0      0      3      0    \n",
       " \"S2\"  0      5      0      5         0      1      1      0      5    "
      ]
     },
     "metadata": {},
     "output_type": "display_data"
    }
   ],
   "source": [
    "Ae = sqOut(Ev)\n",
    "printFull(Ae)"
   ]
  },
  {
   "cell_type": "markdown",
   "metadata": {
    "heading_collapsed": true,
    "hidden": true
   },
   "source": [
    "### EA2 Subsref"
   ]
  },
  {
   "cell_type": "markdown",
   "metadata": {
    "hidden": true
   },
   "source": [
    "Show different wasy to index associative arrays."
   ]
  },
  {
   "cell_type": "markdown",
   "metadata": {
    "hidden": true
   },
   "source": [
    "Read CSV file into associative array."
   ]
  },
  {
   "cell_type": "code",
   "execution_count": 51,
   "metadata": {
    "hidden": true
   },
   "outputs": [
    {
     "data": {
      "text/plain": [
       "20×23 Array{Union{AbstractString, Number},2}:\n",
       " \"\"    \"Color\"   \"Order\"  \"V01\"  \"V02\"  …  \"V16\"  \"V17\"  \"V18\"  \"V19\"  \"V20\"\n",
       " \"B1\"  \"Blue\"    \"2\"      \"1\"    \"1\"       \"\"     \"\"     \"\"     \"\"     \"\"   \n",
       " \"B2\"  \"Blue\"    \"2\"      \"\"     \"\"        \"\"     \"\"     \"\"     \"\"     \"\"   \n",
       " \"G1\"  \"Green\"   \"2\"      \"1\"    \"1\"       \"\"     \"\"     \"\"     \"\"     \"\"   \n",
       " \"G2\"  \"Green\"   \"2\"      \"\"     \"\"        \"\"     \"\"     \"\"     \"\"     \"\"   \n",
       " \"O1\"  \"Orange\"  \"2\"      \"1\"    \"1\"    …  \"\"     \"\"     \"\"     \"\"     \"\"   \n",
       " \"O2\"  \"Orange\"  \"2\"      \"1\"    \"1\"       \"\"     \"\"     \"\"     \"\"     \"\"   \n",
       " \"O3\"  \"Orange\"  \"2\"      \"\"     \"\"        \"\"     \"\"     \"\"     \"\"     \"\"   \n",
       " \"O4\"  \"Orange\"  \"2\"      \"\"     \"\"        \"\"     \"\"     \"\"     \"\"     \"\"   \n",
       " \"O5\"  \"Orange\"  \"1\"      \"\"     \"1\"       \"1\"    \"\"     \"\"     \"\"     \"1\"  \n",
       " \"P1\"  \"Pink\"    \"2\"      \"1\"    \"1\"    …  \"\"     \"\"     \"\"     \"\"     \"\"   \n",
       " \"P2\"  \"Pink\"    \"2\"      \"\"     \"\"        \"\"     \"\"     \"\"     \"\"     \"\"   \n",
       " \"P3\"  \"Pink\"    \"2\"      \"\"     \"\"        \"\"     \"\"     \"\"     \"\"     \"\"   \n",
       " \"P4\"  \"Pink\"    \"2\"      \"\"     \"1\"       \"\"     \"\"     \"\"     \"\"     \"\"   \n",
       " \"P5\"  \"Pink\"    \"2\"      \"\"     \"1\"       \"\"     \"\"     \"\"     \"\"     \"\"   \n",
       " \"P6\"  \"Pink\"    \"2\"      \"\"     \"\"     …  \"1\"    \"1\"    \"\"     \"\"     \"\"   \n",
       " \"P7\"  \"Pink\"    \"3\"      \"\"     \"\"        \"\"     \"\"     \"1\"    \"\"     \"\"   \n",
       " \"P8\"  \"Pink\"    \"3\"      \"\"     \"\"        \"1\"    \"\"     \"\"     \"1\"    \"\"   \n",
       " \"S1\"  \"Silver\"  \"2\"      \"1\"    \"1\"       \"\"     \"\"     \"\"     \"\"     \"\"   \n",
       " \"S2\"  \"Silver\"  \"2\"      \"\"     \"\"        \"\"     \"\"     \"\"     \"\"     \"\"   "
      ]
     },
     "metadata": {},
     "output_type": "display_data"
    }
   ],
   "source": [
    "printFull(E)"
   ]
  },
  {
   "cell_type": "markdown",
   "metadata": {
    "hidden": true
   },
   "source": [
    "Get orange edges."
   ]
  },
  {
   "cell_type": "markdown",
   "metadata": {},
   "source": [
    "_TODO how does this work?; add earlier demonstration of .row and .col_"
   ]
  },
  {
   "cell_type": "code",
   "execution_count": 52,
   "metadata": {
    "hidden": true
   },
   "outputs": [
    {
     "data": {
      "text/plain": [
       "6×15 Array{Union{AbstractString, Number},2}:\n",
       " \"\"    \"Color\"   \"Order\"  \"V01\"  \"V02\"  …  \"V08\"  \"V09\"  \"V11\"  \"V16\"  \"V20\"\n",
       " \"O1\"  \"Orange\"  \"2\"      \"1\"    \"1\"       \"\"     \"\"     \"\"     \"\"     \"\"   \n",
       " \"O2\"  \"Orange\"  \"2\"      \"1\"    \"1\"       \"\"     \"\"     \"\"     \"\"     \"\"   \n",
       " \"O3\"  \"Orange\"  \"2\"      \"\"     \"\"        \"1\"    \"\"     \"\"     \"\"     \"\"   \n",
       " \"O4\"  \"Orange\"  \"2\"      \"\"     \"\"        \"1\"    \"\"     \"\"     \"\"     \"\"   \n",
       " \"O5\"  \"Orange\"  \"1\"      \"\"     \"1\"    …  \"\"     \"1\"    \"1\"    \"1\"    \"1\"  "
      ]
     },
     "metadata": {},
     "output_type": "display_data"
    }
   ],
   "source": [
    "Eo = E[(E[:,\"Color,\"] == \"Orange\" ).row,:]\n",
    "printFull(Eo)"
   ]
  },
  {
   "cell_type": "markdown",
   "metadata": {},
   "source": [
    "A shorter, more straight-forward way:"
   ]
  },
  {
   "cell_type": "code",
   "execution_count": 53,
   "metadata": {},
   "outputs": [
    {
     "data": {
      "text/plain": [
       "6×15 Array{Union{AbstractString, Number},2}:\n",
       " \"\"    \"Color\"   \"Order\"  \"V01\"  \"V02\"  …  \"V08\"  \"V09\"  \"V11\"  \"V16\"  \"V20\"\n",
       " \"O1\"  \"Orange\"  \"2\"      \"1\"    \"1\"       \"\"     \"\"     \"\"     \"\"     \"\"   \n",
       " \"O2\"  \"Orange\"  \"2\"      \"1\"    \"1\"       \"\"     \"\"     \"\"     \"\"     \"\"   \n",
       " \"O3\"  \"Orange\"  \"2\"      \"\"     \"\"        \"1\"    \"\"     \"\"     \"\"     \"\"   \n",
       " \"O4\"  \"Orange\"  \"2\"      \"\"     \"\"        \"1\"    \"\"     \"\"     \"\"     \"\"   \n",
       " \"O5\"  \"Orange\"  \"1\"      \"\"     \"1\"    …  \"\"     \"1\"    \"1\"    \"1\"    \"1\"  "
      ]
     },
     "metadata": {},
     "output_type": "display_data"
    }
   ],
   "source": [
    "Eo = E[ StartsWith(\"O,\"), :]\n",
    "printFull(Eo)"
   ]
  },
  {
   "cell_type": "markdown",
   "metadata": {
    "hidden": true
   },
   "source": [
    "Get orange and green edges."
   ]
  },
  {
   "cell_type": "code",
   "execution_count": 56,
   "metadata": {
    "hidden": true
   },
   "outputs": [
    {
     "data": {
      "text/plain": [
       "8×15 Array{Union{AbstractString, Number},2}:\n",
       " \"\"    \"Color\"   \"Order\"  \"V01\"  \"V02\"  …  \"V08\"  \"V09\"  \"V11\"  \"V16\"  \"V20\"\n",
       " \"G1\"  \"Green\"   \"2\"      \"1\"    \"1\"       \"\"     \"\"     \"\"     \"\"     \"\"   \n",
       " \"G2\"  \"Green\"   \"2\"      \"\"     \"\"        \"1\"    \"\"     \"\"     \"\"     \"\"   \n",
       " \"O1\"  \"Orange\"  \"2\"      \"1\"    \"1\"       \"\"     \"\"     \"\"     \"\"     \"\"   \n",
       " \"O2\"  \"Orange\"  \"2\"      \"1\"    \"1\"       \"\"     \"\"     \"\"     \"\"     \"\"   \n",
       " \"O3\"  \"Orange\"  \"2\"      \"\"     \"\"     …  \"1\"    \"\"     \"\"     \"\"     \"\"   \n",
       " \"O4\"  \"Orange\"  \"2\"      \"\"     \"\"        \"1\"    \"\"     \"\"     \"\"     \"\"   \n",
       " \"O5\"  \"Orange\"  \"1\"      \"\"     \"1\"       \"\"     \"1\"    \"1\"    \"1\"    \"1\"  "
      ]
     },
     "metadata": {},
     "output_type": "display_data"
    }
   ],
   "source": [
    "Eog = E[ StartsWith(\"O,G,\") ,:]\n",
    "printFull(Eog)"
   ]
  },
  {
   "cell_type": "markdown",
   "metadata": {
    "heading_collapsed": true,
    "hidden": true
   },
   "source": [
    "### EA3 SubGraph"
   ]
  },
  {
   "cell_type": "markdown",
   "metadata": {
    "hidden": true
   },
   "source": [
    "Show some associative array math."
   ]
  },
  {
   "cell_type": "markdown",
   "metadata": {
    "hidden": true
   },
   "source": [
    "Read CSV file into associative array, get vertices and convert to numbers."
   ]
  },
  {
   "cell_type": "code",
   "execution_count": 60,
   "metadata": {
    "hidden": true
   },
   "outputs": [],
   "source": [
    "Ev = logical( E[:, StartsWith(\"V,\")] );"
   ]
  },
  {
   "cell_type": "markdown",
   "metadata": {
    "hidden": true
   },
   "source": [
    "Get orange edges, and green edges."
   ]
  },
  {
   "cell_type": "code",
   "execution_count": 71,
   "metadata": {
    "hidden": true
   },
   "outputs": [
    {
     "data": {
      "text/plain": [
       "6×13 Array{Union{AbstractString, Number},2}:\n",
       " \"\"     \"V01\"   \"V02\"   \"V03\"   \"V04\"  …   \"V09\"   \"V11\"   \"V16\"   \"V20\"\n",
       " \"O1\"  1       1       1       0          0       0       0       0     \n",
       " \"O2\"  1       1       1       0          0       0       0       0     \n",
       " \"O3\"  0       0       0       1          0       0       0       0     \n",
       " \"O4\"  0       0       0       1          0       0       0       0     \n",
       " \"O5\"  0       1       0       0       …  1       1       1       1     "
      ]
     },
     "metadata": {},
     "output_type": "display_data"
    },
    {
     "data": {
      "text/plain": [
       "3×9 Array{Union{AbstractString, Number},2}:\n",
       " \"\"     \"V01\"   \"V02\"   \"V03\"   \"V04\"   \"V05\"   \"V06\"   \"V07\"   \"V08\"\n",
       " \"G1\"  1       1       1       0       0       0       0       0     \n",
       " \"G2\"  0       0       0       1       1       1       1       1     "
      ]
     },
     "metadata": {},
     "output_type": "display_data"
    }
   ],
   "source": [
    "EvO = Ev[StartsWith(\"O,\"),:]\n",
    "printFull(EvO)\n",
    "EvG = Ev[StartsWith(\"G,\"),:]\n",
    "printFull(EvG)"
   ]
  },
  {
   "cell_type": "markdown",
   "metadata": {
    "hidden": true
   },
   "source": [
    "Compute (empty) vertex adjacency graph."
   ]
  },
  {
   "cell_type": "markdown",
   "metadata": {},
   "source": [
    "_TODO why is this empty? demonstrate the workaround, optimize the workaround (the plus is silly)_"
   ]
  },
  {
   "cell_type": "code",
   "execution_count": 76,
   "metadata": {
    "hidden": true,
    "scrolled": true
   },
   "outputs": [
    {
     "name": "stdout",
     "output_type": "stream",
     "text": [
      "Assoc(Union{AbstractString, Number}[], Union{AbstractString, Number}[], Union{AbstractString, Number}[1.0], 0×0 SparseArrays.SparseMatrixCSC{Int64,Int64} with 0 stored entries)"
     ]
    }
   ],
   "source": [
    "AvOG = transpose(EvO) * EvG\n",
    "printFull(AvOG)"
   ]
  },
  {
   "cell_type": "code",
   "execution_count": 83,
   "metadata": {},
   "outputs": [
    {
     "data": {
      "text/plain": [
       "8×13 Array{Union{AbstractString, Number},2}:\n",
       " \"\"     \"V01\"   \"V02\"   \"V03\"   \"V04\"  …   \"V09\"   \"V11\"   \"V16\"   \"V20\"\n",
       " \"G1\"  1.0     1.0     1.0     0.0        0.0     0.0     0.0     0.0   \n",
       " \"G2\"  0.0     0.0     0.0     1.0        0.0     0.0     0.0     0.0   \n",
       " \"O1\"  1.0     1.0     1.0     0.0        0.0     0.0     0.0     0.0   \n",
       " \"O2\"  1.0     1.0     1.0     0.0        0.0     0.0     0.0     0.0   \n",
       " \"O3\"  0.0     0.0     0.0     1.0     …  0.0     0.0     0.0     0.0   \n",
       " \"O4\"  0.0     0.0     0.0     1.0        0.0     0.0     0.0     0.0   \n",
       " \"O5\"  0.0     1.0     0.0     0.0        1.0     1.0     1.0     1.0   "
      ]
     },
     "metadata": {},
     "output_type": "display_data"
    }
   ],
   "source": [
    "EvOG = logical(EvO + EvG)\n",
    "printFull(EvOG)"
   ]
  },
  {
   "cell_type": "code",
   "execution_count": 87,
   "metadata": {},
   "outputs": [
    {
     "data": {
      "text/plain": [
       "13×13 Array{Union{AbstractString, Number},2}:\n",
       " \"\"      \"V01\"   \"V02\"   \"V03\"   \"V04\"  …   \"V09\"   \"V11\"   \"V16\"   \"V20\"\n",
       " \"V01\"  3.0     3.0     3.0     0.0        0.0     0.0     0.0     0.0   \n",
       " \"V02\"  3.0     4.0     3.0     0.0        1.0     1.0     1.0     1.0   \n",
       " \"V03\"  3.0     3.0     3.0     0.0        0.0     0.0     0.0     0.0   \n",
       " \"V04\"  0.0     0.0     0.0     3.0        0.0     0.0     0.0     0.0   \n",
       " \"V05\"  0.0     0.0     0.0     3.0     …  0.0     0.0     0.0     0.0   \n",
       " \"V06\"  0.0     1.0     0.0     3.0        1.0     1.0     1.0     1.0   \n",
       " \"V07\"  0.0     0.0     0.0     3.0        0.0     0.0     0.0     0.0   \n",
       " \"V08\"  0.0     0.0     0.0     3.0        0.0     0.0     0.0     0.0   \n",
       " \"V09\"  0.0     1.0     0.0     0.0        1.0     1.0     1.0     1.0   \n",
       " \"V11\"  0.0     1.0     0.0     0.0     …  1.0     1.0     1.0     1.0   \n",
       " \"V16\"  0.0     1.0     0.0     0.0        1.0     1.0     1.0     1.0   \n",
       " \"V20\"  0.0     1.0     0.0     0.0        1.0     1.0     1.0     1.0   "
      ]
     },
     "metadata": {},
     "output_type": "display_data"
    }
   ],
   "source": [
    "printFull(transpose(EvOG) * EvOG)"
   ]
  },
  {
   "cell_type": "markdown",
   "metadata": {
    "hidden": true
   },
   "source": [
    "Compute edge adjacency graph."
   ]
  },
  {
   "cell_type": "code",
   "execution_count": 66,
   "metadata": {
    "hidden": true
   },
   "outputs": [
    {
     "data": {
      "text/plain": [
       "6×3 Array{Union{AbstractString, Number},2}:\n",
       " \"\"     \"G1\"   \"G2\"\n",
       " \"O1\"  3      0    \n",
       " \"O2\"  3      0    \n",
       " \"O3\"  0      5    \n",
       " \"O4\"  0      5    \n",
       " \"O5\"  1      1    "
      ]
     },
     "metadata": {},
     "output_type": "display_data"
    }
   ],
   "source": [
    "AeOG = EvO * transpose(EvG)\n",
    "printFull(AeOG)"
   ]
  },
  {
   "cell_type": "markdown",
   "metadata": {
    "hidden": true
   },
   "source": [
    "Compute edge adjacency graph preserving keys."
   ]
  },
  {
   "cell_type": "code",
   "execution_count": null,
   "metadata": {
    "collapsed": true,
    "hidden": true
   },
   "outputs": [],
   "source": [
    "AeOG = CatKeyMul(EvO,transpose(EvG))\n",
    "printFull(AeOG)"
   ]
  },
  {
   "cell_type": "markdown",
   "metadata": {},
   "source": [
    "# Applications"
   ]
  },
  {
   "cell_type": "markdown",
   "metadata": {
    "heading_collapsed": true
   },
   "source": [
    "## Entity Analysis"
   ]
  },
  {
   "cell_type": "markdown",
   "metadata": {
    "heading_collapsed": true,
    "hidden": true
   },
   "source": [
    "### EA1 Read"
   ]
  },
  {
   "cell_type": "markdown",
   "metadata": {
    "hidden": true
   },
   "source": [
    "Read entity data and organize into sparse associative array.\n",
    "\n",
    "Entity data are derived summaries obtained by from automated\n",
    "entity extraction algorithms applied to <1% of the NIST Rueters Corpus.\n",
    "See: http://trec.nist.gov/data/reuters/reuters.html"
   ]
  },
  {
   "cell_type": "code",
   "execution_count": null,
   "metadata": {
    "collapsed": true,
    "hidden": true
   },
   "outputs": [],
   "source": [
    "using PyPlot,JLD2\n",
    "\n",
    "file_dir = Pkg.dir(\"D4M\")*\"/examples/2Apps/1EntityAnalysis/Entity.csv\"\n",
    "save_dir = \"Entity.jld\"\n",
    "\n",
    "E_raw = ReadCSV(file_dir)\n",
    "printFull(E_raw[1:5,:])"
   ]
  },
  {
   "cell_type": "markdown",
   "metadata": {
    "hidden": true
   },
   "source": [
    "Organize data into new format."
   ]
  },
  {
   "cell_type": "code",
   "execution_count": null,
   "metadata": {
    "collapsed": true,
    "hidden": true,
    "scrolled": false
   },
   "outputs": [],
   "source": [
    "row,col,doc_val      = find(E_raw[:,\"doc,\"])\n",
    "row,col,entity_val   = find(E_raw[:,\"entity,\"])\n",
    "row,col,position_val = find(E_raw[:,\"position,\"])\n",
    "row,col,type_val     = find(E_raw[:,\"type,\"])\n",
    "\n",
    "typeEntity_val = CatStr(type_val, \"/\" , entity_val);"
   ]
  },
  {
   "cell_type": "markdown",
   "metadata": {
    "hidden": true
   },
   "source": [
    "Create a sparse associative array of all the data."
   ]
  },
  {
   "cell_type": "code",
   "execution_count": null,
   "metadata": {
    "collapsed": true,
    "hidden": true
   },
   "outputs": [],
   "source": [
    "E = Assoc(doc_val,typeEntity_val,position_val)"
   ]
  },
  {
   "cell_type": "markdown",
   "metadata": {
    "hidden": true
   },
   "source": [
    "Show a few rows and plot a spy plot."
   ]
  },
  {
   "cell_type": "code",
   "execution_count": null,
   "metadata": {
    "collapsed": true,
    "hidden": true
   },
   "outputs": [],
   "source": [
    "print(E[1:5,:])\n",
    "spy(E[1:1000,:]')"
   ]
  },
  {
   "cell_type": "markdown",
   "metadata": {
    "hidden": true
   },
   "source": [
    "Save associative array."
   ]
  },
  {
   "cell_type": "code",
   "execution_count": null,
   "metadata": {
    "collapsed": true,
    "hidden": true
   },
   "outputs": [],
   "source": [
    "save(save_dir,\"E\",E)"
   ]
  },
  {
   "cell_type": "markdown",
   "metadata": {
    "heading_collapsed": true,
    "hidden": true
   },
   "source": [
    "### EA2 Statistics"
   ]
  },
  {
   "cell_type": "markdown",
   "metadata": {
    "hidden": true
   },
   "source": [
    "Compute statistics on entity data."
   ]
  },
  {
   "cell_type": "code",
   "execution_count": null,
   "metadata": {
    "collapsed": true,
    "hidden": true
   },
   "outputs": [],
   "source": [
    "using JLD2, PyPlot\n",
    "\n",
    "E = load(\"./Entity.jld\")[\"E\"];"
   ]
  },
  {
   "cell_type": "markdown",
   "metadata": {
    "hidden": true
   },
   "source": [
    "Calculate number of entities in each category, then count the number of times each entity occurs."
   ]
  },
  {
   "cell_type": "code",
   "execution_count": null,
   "metadata": {
    "collapsed": true,
    "hidden": true
   },
   "outputs": [],
   "source": [
    "print(sum(logical(col2type(E,\"/\")),1))\n",
    "En = sum(logical(E),1)"
   ]
  },
  {
   "cell_type": "markdown",
   "metadata": {
    "hidden": true
   },
   "source": [
    "Plot the log-log plot of location frequencies. Notice the power-law distribution."
   ]
  },
  {
   "cell_type": "code",
   "execution_count": null,
   "metadata": {
    "collapsed": true,
    "hidden": true
   },
   "outputs": [],
   "source": [
    "row,entity,count = find(En)\n",
    "An = Assoc(count,entity,1)\n",
    "\n",
    "loglog(full(sum(getadj(An[:,StartsWith(\"LOCATION/,\")]),2)) ,\"o\")"
   ]
  },
  {
   "cell_type": "markdown",
   "metadata": {
    "heading_collapsed": true,
    "hidden": true
   },
   "source": [
    "### Facet"
   ]
  },
  {
   "cell_type": "markdown",
   "metadata": {
    "hidden": true
   },
   "source": [
    "Entity facet search. Shows next most common terms."
   ]
  },
  {
   "cell_type": "code",
   "execution_count": null,
   "metadata": {
    "collapsed": true,
    "hidden": true
   },
   "outputs": [],
   "source": [
    "using JLD2\n",
    "\n",
    "E = load(\"./Entity.jld\")[\"E\"]\n",
    "E = logical(E);"
   ]
  },
  {
   "cell_type": "markdown",
   "metadata": {
    "hidden": true
   },
   "source": [
    "Facet search: Finding entities that occur commonly with LOCATION/new york and PERSON/michael chang."
   ]
  },
  {
   "cell_type": "code",
   "execution_count": null,
   "metadata": {
    "collapsed": true,
    "hidden": true
   },
   "outputs": [],
   "source": [
    "x = \"LOCATION/new york,\"\n",
    "p = \"PERSON/michael chang,\"\n",
    "F = ( nocol(E[:,x]) & nocol(E[:,p]))' * E\n",
    "print(F' > 1 )"
   ]
  },
  {
   "cell_type": "markdown",
   "metadata": {
    "hidden": true
   },
   "source": [
    "Normalize the previous result."
   ]
  },
  {
   "cell_type": "code",
   "execution_count": null,
   "metadata": {
    "collapsed": true,
    "hidden": true
   },
   "outputs": [],
   "source": [
    "Fn = F ./ sum(E,1)\n",
    "print((Fn' > 0.02))"
   ]
  },
  {
   "cell_type": "markdown",
   "metadata": {
    "hidden": true
   },
   "source": [
    "### Graph"
   ]
  },
  {
   "cell_type": "markdown",
   "metadata": {
    "hidden": true
   },
   "source": [
    "Compute graphs from entity edge data."
   ]
  },
  {
   "cell_type": "code",
   "execution_count": null,
   "metadata": {
    "collapsed": true,
    "hidden": true
   },
   "outputs": [],
   "source": [
    "using JLD2,PyPlot\n",
    "E = load(\"./Entity.jld\")[\"E\"];"
   ]
  },
  {
   "cell_type": "markdown",
   "metadata": {
    "hidden": true
   },
   "source": [
    "Computing adjacency matrix for the Entity-Entity graph."
   ]
  },
  {
   "cell_type": "code",
   "execution_count": null,
   "metadata": {
    "collapsed": true,
    "hidden": true,
    "scrolled": false
   },
   "outputs": [],
   "source": [
    "Es = E\n",
    "E = logical(E)\n",
    "Ae = sqIn(E)\n",
    "\n",
    "spy(Ae)"
   ]
  },
  {
   "cell_type": "markdown",
   "metadata": {
    "hidden": true
   },
   "source": [
    "Compute entity-entity graph that preserves keys (documents))."
   ]
  },
  {
   "cell_type": "code",
   "execution_count": null,
   "metadata": {
    "collapsed": true,
    "hidden": true
   },
   "outputs": [],
   "source": [
    "# Limit to people with names starting with j\n",
    "p = StartsWith(\"PERSON/j,\");\n",
    "Ep = E[:,p]\n",
    "\n",
    "# Correlate while preserving keys\n",
    "Ap = CatKeyMul(Ep',Ep)\n",
    "spy(Ap)"
   ]
  },
  {
   "cell_type": "markdown",
   "metadata": {
    "hidden": true
   },
   "source": [
    "Create document-document graph: documents that contain the same entities."
   ]
  },
  {
   "cell_type": "code",
   "execution_count": null,
   "metadata": {
    "collapsed": true,
    "hidden": true
   },
   "outputs": [],
   "source": [
    "Ad = sqOut(Ep)\n",
    "spy(Ad)"
   ]
  },
  {
   "cell_type": "markdown",
   "metadata": {
    "hidden": true
   },
   "source": [
    "### Graph Query"
   ]
  },
  {
   "cell_type": "markdown",
   "metadata": {
    "hidden": true
   },
   "source": [
    "Various ways to query subgraphs."
   ]
  },
  {
   "cell_type": "code",
   "execution_count": null,
   "metadata": {
    "collapsed": true,
    "hidden": true
   },
   "outputs": [],
   "source": [
    "using JLD2,PyPlot\n",
    "\n",
    "file_dir = \"./Entity.jld\"\n",
    "E = load(file_dir)[\"E\"]\n",
    "E = logical(E);"
   ]
  },
  {
   "cell_type": "markdown",
   "metadata": {
    "hidden": true
   },
   "source": [
    "Compute entity (all facet pairs)."
   ]
  },
  {
   "cell_type": "code",
   "execution_count": null,
   "metadata": {
    "collapsed": true,
    "hidden": true
   },
   "outputs": [],
   "source": [
    "A = sqIn(E)\n",
    "d = diag(getadj(A))\n",
    "A = A - diag(A)\n",
    "\n",
    "print(A[2,:])"
   ]
  },
  {
   "cell_type": "markdown",
   "metadata": {
    "hidden": true
   },
   "source": [
    "Compute normalized correlation."
   ]
  },
  {
   "cell_type": "code",
   "execution_count": null,
   "metadata": {
    "collapsed": true,
    "hidden": true
   },
   "outputs": [],
   "source": [
    "i,j,v = findnz(getadj(A))\n",
    "An = putAdj(A, sparse(i,j,v ./ min.(d[i],d[j])))\n",
    "\n",
    "print(An[2,:])"
   ]
  },
  {
   "cell_type": "markdown",
   "metadata": {
    "hidden": true
   },
   "source": [
    "Multi-facet queries."
   ]
  },
  {
   "cell_type": "code",
   "execution_count": null,
   "metadata": {
    "collapsed": true,
    "hidden": true
   },
   "outputs": [],
   "source": [
    "x = \"LOCATION/new york,\"\n",
    "p = StartsWith(\"PERSON/,\")\n",
    "printFull( (A[p,x] > 4) & (An[p,x] > 0.3))"
   ]
  },
  {
   "cell_type": "markdown",
   "metadata": {
    "hidden": true
   },
   "source": [
    "Find triangles."
   ]
  },
  {
   "cell_type": "code",
   "execution_count": null,
   "metadata": {
    "collapsed": true,
    "hidden": true,
    "scrolled": true
   },
   "outputs": [],
   "source": [
    "p0 = \"PERSON/john kennedy,\"\n",
    "\n",
    "p1 = getrow(A[p,p0] + A[p0,p])\n",
    "spy(A[p1,p1])\n",
    "\n",
    "p2 = getrow( A[p1,p1] - (A[p,p0]+ A[p0,p]))\n",
    "print(A[p2,p2] > 1)"
   ]
  },
  {
   "cell_type": "markdown",
   "metadata": {
    "collapsed": true
   },
   "source": [
    "## Track Analysis"
   ]
  },
  {
   "cell_type": "markdown",
   "metadata": {},
   "source": [
    "### Build"
   ]
  },
  {
   "cell_type": "markdown",
   "metadata": {},
   "source": [
    "General approach to computing tracks from entity edge data."
   ]
  },
  {
   "cell_type": "code",
   "execution_count": null,
   "metadata": {
    "collapsed": true
   },
   "outputs": [],
   "source": [
    "using JLD2,PyPlot\n",
    "\n",
    "E = load(\"Entity.jld\")[\"E\"]\n",
    "E = logical(E);"
   ]
  },
  {
   "cell_type": "markdown",
   "metadata": {},
   "source": [
    "Show general purpose method for building tracks."
   ]
  },
  {
   "cell_type": "code",
   "execution_count": null,
   "metadata": {
    "collapsed": true
   },
   "outputs": [],
   "source": [
    "p = StartsWith(\"PERSON/,\")      # Set entity range.\n",
    "t = StartsWith(\"TIME/,\")        # Set time range.\n",
    "x = StartsWith(\"LOCATION/,\")    # Set spatial range.\n",
    "a = StartsWith(\"PERSON/,TIME/,LOCATION/,\");"
   ]
  },
  {
   "cell_type": "markdown",
   "metadata": {},
   "source": [
    "Limit to edges with all three."
   ]
  },
  {
   "cell_type": "code",
   "execution_count": null,
   "metadata": {
    "collapsed": true
   },
   "outputs": [],
   "source": [
    "E3 = E[getrow( sum(E[:,p],2) & sum(E[:,t],2) & sum(E[:,x],2) ),a];"
   ]
  },
  {
   "cell_type": "markdown",
   "metadata": {},
   "source": [
    "Collapse to get unique time and space for each edge and get triples."
   ]
  },
  {
   "cell_type": "code",
   "execution_count": null,
   "metadata": {
    "collapsed": true
   },
   "outputs": [],
   "source": [
    "edge,time  = find(  val2col(col2type(E3[:,t],\"/\"),\"/\")  )\n",
    "edge,space = find(  val2col(col2type(E3[:,x],\"/\"),\"/\")  )\n",
    "\n",
    "Etx = Assoc(edge,time,space)     # Combine edge, time and space.\n",
    "Ext = Assoc(edge,space,time)     # Combine edge, space and time."
   ]
  },
  {
   "cell_type": "markdown",
   "metadata": {},
   "source": [
    "Construct time tracks with matrix multiply."
   ]
  },
  {
   "cell_type": "code",
   "execution_count": null,
   "metadata": {
    "collapsed": true
   },
   "outputs": [],
   "source": [
    "At = CatValMul(transpose(Etx),E3[:,p]) \n",
    "spy(At')\n",
    "axis(\"auto\")"
   ]
  },
  {
   "cell_type": "markdown",
   "metadata": {},
   "source": [
    "Construct space tracks with matrix multiply."
   ]
  },
  {
   "cell_type": "code",
   "execution_count": null,
   "metadata": {
    "collapsed": true
   },
   "outputs": [],
   "source": [
    "Ax = CatValMul(transpose(Ext),E3[:,p]) \n",
    "spy(Ax')\n",
    "axis(\"auto\")"
   ]
  },
  {
   "cell_type": "markdown",
   "metadata": {},
   "source": [
    "### TA2 Query"
   ]
  },
  {
   "cell_type": "markdown",
   "metadata": {},
   "source": [
    "Compute tracks from entity edge data."
   ]
  },
  {
   "cell_type": "code",
   "execution_count": null,
   "metadata": {
    "collapsed": true
   },
   "outputs": [],
   "source": [
    "function findtracks(A,t,p,l);\n",
    "#findtracks creates track associative array.\n",
    "\n",
    "    # Find docs that have person\n",
    "    DocIDwPer = getrow(A[:,p]);\n",
    "\n",
    "    # Find docs that have person and location.\n",
    "    DocIDwPerLoc = getrow(A[DocIDwPer,l]);\n",
    "\n",
    "    # Find docs that have person, location and time.\n",
    "    DocIDwPerLocTime = getrow(A[DocIDwPerLoc,t]);\n",
    "\n",
    "    # Limit to these documents.\n",
    "    AA = A[DocIDwPerLocTime,:];\n",
    "\n",
    "    # Get person sub array.\n",
    "    Aper = AA[DocIDwPerLocTime,p];\n",
    "    TrackPer,DocAper = find(Aper');\n",
    "\n",
    "    # Get location sub array.\n",
    "    Aloc = AA[DocIDwPerLocTime,l];\n",
    "    EntAloc,DocAloc = find(Aloc');\n",
    "\n",
    "    # Get Single location per document- order by actors\n",
    "    uLocDocs = unique(DocAloc)\n",
    "    uLocDocIdx = [1; indexin(uLocDocs,DocAloc)[1:end-1]+1] # get first index of unique docs (correct for getting highest)\n",
    "    uDocLocs = EntAloc[uLocDocIdx] # single locations per document\n",
    "    uLocDocIdxinDocAper = indexin(DocAper,uLocDocs) # locations of unique loc docs in per doc list\n",
    "    TrackLoc = uDocLocs[uLocDocIdxinDocAper]\n",
    "\n",
    "    # Get time sub array.\n",
    "    Atime = AA[DocIDwPerLocTime,t];\n",
    "    EntAtime,DocAtime = find(Atime');\n",
    "\n",
    "    # Get Single time per document- order by actors\n",
    "    uTimeDocs = unique(DocAtime)\n",
    "    uTimeDocIdx = [1; indexin(uTimeDocs,DocAtime)[1:end-1]+1] # get first index of unique docs (correct for getting highest)\n",
    "    uDocTimes = EntAtime[uTimeDocIdx] # single times per document\n",
    "    uTimeDocIdxinDocAper = indexin(DocAper,uTimeDocs) # locations of unique time docs in per doc list\n",
    "    TrackTime = uDocTimes[uTimeDocIdxinDocAper]\n",
    "\n",
    "    Tr = Assoc(TrackTime,TrackPer,TrackLoc);\n",
    "                    \n",
    "end"
   ]
  },
  {
   "cell_type": "markdown",
   "metadata": {},
   "source": [
    "Load edge incidence matrix."
   ]
  },
  {
   "cell_type": "code",
   "execution_count": null,
   "metadata": {
    "collapsed": true
   },
   "outputs": [],
   "source": [
    "using JLD2\n",
    "\n",
    "E = load(\"Entity.jld\")[\"E\"]\n",
    "Es = E\n",
    "A = logical(E);"
   ]
  },
  {
   "cell_type": "markdown",
   "metadata": {},
   "source": [
    "Set prefixes and build entity tracks using findtracks function."
   ]
  },
  {
   "cell_type": "code",
   "execution_count": null,
   "metadata": {
    "collapsed": true
   },
   "outputs": [],
   "source": [
    "p = StartsWith(\"PERSON/,\")\n",
    "t = StartsWith(\"TIME/,\")\n",
    "x = StartsWith(\"LOCATION/,\")\n",
    "\n",
    "A = findtracks(E,t,p,x);"
   ]
  },
  {
   "cell_type": "markdown",
   "metadata": {},
   "source": [
    "Track queries (Where have Michael Chang and Javier Sanchez been when?)"
   ]
  },
  {
   "cell_type": "code",
   "execution_count": null,
   "metadata": {
    "collapsed": true
   },
   "outputs": [],
   "source": [
    "p1 = \"PERSON/michael chang,\"\n",
    "p2 = \"PERSON/javier sanchez,\"\n",
    "printFull( A[:,p1*p2] )"
   ]
  },
  {
   "cell_type": "markdown",
   "metadata": {},
   "source": [
    "Track windows (Who was in Austria during this time?)"
   ]
  },
  {
   "cell_type": "code",
   "execution_count": null,
   "metadata": {
    "collapsed": true
   },
   "outputs": [],
   "source": [
    "t = \"TIME/1996-09-03,:,TIME/1996-09-06,\"\n",
    "x = \"LOCATION/austria\"\n",
    "getcol(A[t,:] == x)"
   ]
  },
  {
   "cell_type": "markdown",
   "metadata": {},
   "source": [
    "### TA3 Graph"
   ]
  },
  {
   "cell_type": "markdown",
   "metadata": {},
   "source": [
    "Compute tracks from entity edge data."
   ]
  },
  {
   "cell_type": "code",
   "execution_count": null,
   "metadata": {
    "collapsed": true
   },
   "outputs": [],
   "source": [
    "function findtrackgraph(Atrack)\n",
    "#findtrackgraph forms graph of locations from Track Associative array.\n",
    "\n",
    "    # Find 1 hop and >1 hop tracks.\n",
    "    AtrackHop = sum(Atrack,1);\n",
    "    Hop1 = getcol(AtrackHop == 1);\n",
    "    Hop2 = getcol(AtrackHop > 1); \n",
    "\n",
    "    # Get track list.  Naturally comes out sorted by p.\n",
    "    t1,p1,x1 = find(Atrack[:,Hop1]);\n",
    "    AtrackGraph1 = Assoc(x1,x1,1,(+));\n",
    "\n",
    "    t2,p2,x2 = find(Atrack[:,Hop2]);\n",
    "\n",
    "    # Create matrices and shifted matrices.\n",
    "    p22 = circshift(p2,-1);\n",
    "    x22 = circshift(x2,-1);\n",
    "\n",
    "    # Find where p21 and p22 are the same.\n",
    "    test = p2 .== p22;   \n",
    "    x21 = x2[test];   \n",
    "    x22 = x22[test];   \n",
    "\n",
    "    AtrackGraph2 = Assoc(x21,x22,1);\n",
    "\n",
    "    AtrackGraph = AtrackGraph1 + AtrackGraph2;\n",
    "\n",
    "end"
   ]
  },
  {
   "cell_type": "code",
   "execution_count": null,
   "metadata": {
    "collapsed": true
   },
   "outputs": [],
   "source": [
    "using JLD2,PyPlot\n",
    "\n",
    "# Load edge incidence matrix.\n",
    "E = load(\"Entity.jld\")[\"E\"]\n",
    "E = logical(E);"
   ]
  },
  {
   "cell_type": "markdown",
   "metadata": {},
   "source": [
    "Build entity tracks with findtracks function."
   ]
  },
  {
   "cell_type": "code",
   "execution_count": null,
   "metadata": {
    "collapsed": true
   },
   "outputs": [],
   "source": [
    "p = StartsWith(\"PERSON/,\")\n",
    "t = StartsWith(\"TIME/,\")\n",
    "x = StartsWith(\"LOCATION/,\")\n",
    "\n",
    "A = findtracks(E,t,p,x);"
   ]
  },
  {
   "cell_type": "markdown",
   "metadata": {},
   "source": [
    "Build track graph."
   ]
  },
  {
   "cell_type": "code",
   "execution_count": null,
   "metadata": {
    "collapsed": true
   },
   "outputs": [],
   "source": [
    "G = findtrackgraph(A)\n",
    "print(G > 5)\n",
    "spy(G)"
   ]
  },
  {
   "cell_type": "markdown",
   "metadata": {},
   "source": [
    "Track graph pattern."
   ]
  },
  {
   "cell_type": "code",
   "execution_count": null,
   "metadata": {
    "collapsed": true
   },
   "outputs": [],
   "source": [
    "o = \"ORGANIZATION/international monetary fund,\"\n",
    "p = StartsWith(\"PERSON/,\")\n",
    "Go = findtrackgraph(A[:,getcol(E[getrow(E[:,o]),p])])\n",
    "\n",
    "print((Go > 2) & ((Go ./ G) > 0.2))"
   ]
  },
  {
   "cell_type": "code",
   "execution_count": null,
   "metadata": {
    "collapsed": true
   },
   "outputs": [],
   "source": []
  }
 ],
 "metadata": {
  "kernelspec": {
   "display_name": "Julia 1.0.4",
   "language": "julia",
   "name": "julia-1.0"
  },
  "language_info": {
   "file_extension": ".jl",
   "mimetype": "application/julia",
   "name": "julia",
   "version": "1.0.4"
  },
  "latex_envs": {
   "LaTeX_envs_menu_present": true,
   "autocomplete": true,
   "bibliofile": "biblio.bib",
   "cite_by": "apalike",
   "current_citInitial": 1,
   "eqLabelWithNumbers": true,
   "eqNumInitial": 1,
   "hotkeys": {
    "equation": "Ctrl-E",
    "itemize": "Ctrl-I"
   },
   "labels_anchors": false,
   "latex_user_defs": false,
   "report_style_numbering": false,
   "user_envs_cfg": false
  },
  "toc": {
   "nav_menu": {},
   "number_sections": true,
   "sideBar": true,
   "skip_h1_title": false,
   "toc_cell": false,
   "toc_position": {},
   "toc_section_display": "block",
   "toc_window_display": false
  },
  "varInspector": {
   "cols": {
    "lenName": 16,
    "lenType": 16,
    "lenVar": 40
   },
   "kernels_config": {
    "python": {
     "delete_cmd_postfix": "",
     "delete_cmd_prefix": "del ",
     "library": "var_list.py",
     "varRefreshCmd": "print(var_dic_list())"
    },
    "r": {
     "delete_cmd_postfix": ") ",
     "delete_cmd_prefix": "rm(",
     "library": "var_list.r",
     "varRefreshCmd": "cat(var_dic_list()) "
    }
   },
   "types_to_exclude": [
    "module",
    "function",
    "builtin_function_or_method",
    "instance",
    "_Feature"
   ],
   "window_display": false
  }
 },
 "nbformat": 4,
 "nbformat_minor": 2
}
