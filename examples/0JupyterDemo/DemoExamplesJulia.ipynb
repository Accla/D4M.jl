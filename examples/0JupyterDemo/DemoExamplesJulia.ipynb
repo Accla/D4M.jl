{
 "cells": [
  {
   "cell_type": "markdown",
   "metadata": {},
   "source": [
    "# Intro to D4M"
   ]
  },
  {
   "cell_type": "markdown",
   "metadata": {},
   "source": [
    "Load the D4M module"
   ]
  },
  {
   "cell_type": "code",
   "execution_count": 1,
   "metadata": {},
   "outputs": [
    {
     "name": "stdout",
     "output_type": "stream",
     "text": [
      "Loaded /usr/java/jdk1.7.0_72/jre/lib/amd64/server/libjvm.so\n"
     ]
    }
   ],
   "source": [
    "using D4M,PyPlot.axis"
   ]
  },
  {
   "cell_type": "markdown",
   "metadata": {},
   "source": [
    "## Create, Display, Save an Associative Array"
   ]
  },
  {
   "cell_type": "markdown",
   "metadata": {},
   "source": [
    "Create lists of row, column, and values substrings. Note: the last character in the string is the divider. It can be any character. Common choices are \",\", \" \", tab, and newline."
   ]
  },
  {
   "cell_type": "code",
   "execution_count": 2,
   "metadata": {},
   "outputs": [],
   "source": [
    "row = \"a,a,a,a,a,a,a,aa,aaa,b,bb,bbb,a,aa,aaa,b,bb,bbb,\"\n",
    "column = \"a,aa,aaa,b,bb,bbb,a,a,a,a,a,a,a,aa,aaa,b,bb,bbb,\";\n",
    "values = \"a-a,a-aa,a-aaa,a-b,a-bb,a-bbb,a-a,aa-a,aaa-a,b-a,bb-a,bbb-a,a-a,aa-aa,aaa-aaa,b-b,bb-bb,bbb-bbb,\";"
   ]
  },
  {
   "cell_type": "markdown",
   "metadata": {},
   "source": [
    "Create an associtavie array, A, from row, column, and values."
   ]
  },
  {
   "cell_type": "code",
   "execution_count": 3,
   "metadata": {},
   "outputs": [
    {
     "data": {
      "text/plain": [
       "Assoc(Union{AbstractString, Number}[\"a\", \"aa\", \"aaa\", \"b\", \"bb\", \"bbb\"], Union{AbstractString, Number}[\"a\", \"aa\", \"aaa\", \"b\", \"bb\", \"bbb\"], Union{AbstractString, Number}[\"a-a\", \"a-aa\", \"a-aaa\", \"a-b\", \"a-bb\", \"a-bbb\", \"aa-a\", \"aa-aa\", \"aaa-a\", \"aaa-aaa\", \"b-a\", \"b-b\", \"bb-a\", \"bb-bb\", \"bbb-a\", \"bbb-bbb\"], \n",
       "  [1, 1]  =  1\n",
       "  [2, 1]  =  7\n",
       "  [3, 1]  =  9\n",
       "  [4, 1]  =  11\n",
       "  [5, 1]  =  13\n",
       "  [6, 1]  =  15\n",
       "  [1, 2]  =  2\n",
       "  [2, 2]  =  8\n",
       "  [1, 3]  =  3\n",
       "  [3, 3]  =  10\n",
       "  [1, 4]  =  4\n",
       "  [4, 4]  =  12\n",
       "  [1, 5]  =  5\n",
       "  [5, 5]  =  14\n",
       "  [1, 6]  =  6\n",
       "  [6, 6]  =  16)"
      ]
     },
     "execution_count": 3,
     "metadata": {},
     "output_type": "execute_result"
    }
   ],
   "source": [
    "A = Assoc(row,column,values)"
   ]
  },
  {
   "cell_type": "markdown",
   "metadata": {},
   "source": [
    "Display the associative array in tabular form."
   ]
  },
  {
   "cell_type": "code",
   "execution_count": 4,
   "metadata": {},
   "outputs": [
    {
     "data": {
      "text/plain": [
       "7×7 Array{Union{AbstractString, Number},2}:\n",
       " \"\"     \"a\"      \"aa\"     \"aaa\"      \"b\"    \"bb\"     \"bbb\"    \n",
       " \"a\"    \"a-a\"    \"a-aa\"   \"a-aaa\"    \"a-b\"  \"a-bb\"   \"a-bbb\"  \n",
       " \"aa\"   \"aa-a\"   \"aa-aa\"  \"\"         \"\"     \"\"       \"\"       \n",
       " \"aaa\"  \"aaa-a\"  \"\"       \"aaa-aaa\"  \"\"     \"\"       \"\"       \n",
       " \"b\"    \"b-a\"    \"\"       \"\"         \"b-b\"  \"\"       \"\"       \n",
       " \"bb\"   \"bb-a\"   \"\"       \"\"         \"\"     \"bb-bb\"  \"\"       \n",
       " \"bbb\"  \"bbb-a\"  \"\"       \"\"         \"\"     \"\"       \"bbb-bbb\""
      ]
     },
     "metadata": {},
     "output_type": "display_data"
    }
   ],
   "source": [
    "printFull(A)"
   ]
  },
  {
   "cell_type": "code",
   "execution_count": 5,
   "metadata": {},
   "outputs": [],
   "source": [
    "WriteCSV(A,\"data/A.csv\");"
   ]
  },
  {
   "cell_type": "markdown",
   "metadata": {},
   "source": [
    "## Read and Select Sub Associative Arrays"
   ]
  },
  {
   "cell_type": "markdown",
   "metadata": {},
   "source": [
    "Read CSV file into an associative array."
   ]
  },
  {
   "cell_type": "code",
   "execution_count": null,
   "metadata": {},
   "outputs": [],
   "source": [
    "A = ReadCSV(\"data/A.csv\");"
   ]
  },
  {
   "cell_type": "markdown",
   "metadata": {},
   "source": [
    "Select a subset of rows."
   ]
  },
  {
   "cell_type": "code",
   "execution_count": null,
   "metadata": {},
   "outputs": [],
   "source": [
    "printFull(  A[\"a,b,\",:]  );"
   ]
  },
  {
   "cell_type": "markdown",
   "metadata": {},
   "source": [
    "Convert values to 0 and 1."
   ]
  },
  {
   "cell_type": "code",
   "execution_count": null,
   "metadata": {},
   "outputs": [],
   "source": [
    "printFull(  logical(A[\"a,b,\",:])  );"
   ]
  },
  {
   "cell_type": "markdown",
   "metadata": {},
   "source": [
    "Select a subset of columns."
   ]
  },
  {
   "cell_type": "code",
   "execution_count": null,
   "metadata": {},
   "outputs": [],
   "source": [
    "printFull(  A[:,\"a,b,\"]  );"
   ]
  },
  {
   "cell_type": "markdown",
   "metadata": {},
   "source": [
    "Convert values to 0 and 1."
   ]
  },
  {
   "cell_type": "code",
   "execution_count": null,
   "metadata": {},
   "outputs": [],
   "source": [
    "printFull(  logical(A[:,\"a,b,\"])  );"
   ]
  },
  {
   "cell_type": "markdown",
   "metadata": {},
   "source": [
    "# Analyze Entities in News Articles"
   ]
  },
  {
   "cell_type": "markdown",
   "metadata": {},
   "source": [
    "Load entities from 10,000 news articles and print the first few rows."
   ]
  },
  {
   "cell_type": "code",
   "execution_count": null,
   "metadata": {},
   "outputs": [],
   "source": [
    "A = ReadCSV(\"data/entity.csv\");\n",
    "\n",
    "printFull(  A[1:5,:]  );"
   ]
  },
  {
   "cell_type": "markdown",
   "metadata": {},
   "source": [
    "Show dimensions and number entries of A."
   ]
  },
  {
   "cell_type": "code",
   "execution_count": null,
   "metadata": {},
   "outputs": [],
   "source": [
    "print( [size(A),nnz(A)] );\n",
    "\n",
    "nnz(A)/(size(A)[1]*size(A)[2])"
   ]
  },
  {
   "cell_type": "markdown",
   "metadata": {},
   "source": [
    "## Construct and Display a Sparse Associative Array of the Data"
   ]
  },
  {
   "cell_type": "markdown",
   "metadata": {},
   "source": [
    "Grab doc, entity, position, and type columns and combine type and entity with '|' seperator."
   ]
  },
  {
   "cell_type": "code",
   "execution_count": null,
   "metadata": {},
   "outputs": [],
   "source": [
    "row, col, doc      = find(A[:,\"doc,\"]);              # Get doc column.\n",
    "row, col, entity   = find(A[:,\"entity,\"]);           # Get entity column.\n",
    "row, col, position = find(A[:,\"position,\"]);         # Get position column.\n",
    "row, col, rowType     = find(A[:,\"type,\"]);             # Get type column.\n",
    "typeEntity = CatStr(rowType,\"|\",entity);          # Interleave type and entity strings."
   ]
  },
  {
   "cell_type": "markdown",
   "metadata": {},
   "source": [
    "Create a sparse associative array of all the data and show a few rows."
   ]
  },
  {
   "cell_type": "code",
   "execution_count": null,
   "metadata": {},
   "outputs": [],
   "source": [
    "E = Assoc(doc,typeEntity,position);\n",
    "\n",
    "print(E[1:2,:])\n",
    "\n",
    "printFull(E[1:2,:])"
   ]
  },
  {
   "cell_type": "markdown",
   "metadata": {},
   "source": [
    "Display dimensions of data, number of non-zero entries, and density of A."
   ]
  },
  {
   "cell_type": "code",
   "execution_count": null,
   "metadata": {},
   "outputs": [],
   "source": [
    "print( [size(E), nnz(E)]  );\n",
    "\n",
    "nnz(E)/(size(E)[1]*size(E)[2])"
   ]
  },
  {
   "cell_type": "markdown",
   "metadata": {},
   "source": [
    "Plot transpose of the sparse data."
   ]
  },
  {
   "cell_type": "code",
   "execution_count": null,
   "metadata": {},
   "outputs": [],
   "source": [
    "spy(transpose(E[1:1000,:]));\n",
    "axis(\"auto\")"
   ]
  },
  {
   "cell_type": "markdown",
   "metadata": {},
   "source": [
    "Create an adjacency matrix by multiplying E<sup>T</sup> * E."
   ]
  },
  {
   "cell_type": "code",
   "execution_count": null,
   "metadata": {
    "scrolled": false
   },
   "outputs": [],
   "source": [
    "E = logical(E)\n",
    "spy(E'*E);"
   ]
  },
  {
   "cell_type": "markdown",
   "metadata": {},
   "source": [
    "## Analyze Relationships"
   ]
  },
  {
   "cell_type": "markdown",
   "metadata": {},
   "source": [
    "Define relationships to examine."
   ]
  },
  {
   "cell_type": "code",
   "execution_count": null,
   "metadata": {},
   "outputs": [],
   "source": [
    "l = \"LOCATION|boston,\";\n",
    "P = StartsWith(\"PERSON|,\");\n",
    "L = StartsWith(\"LOCATION|,\");"
   ]
  },
  {
   "cell_type": "markdown",
   "metadata": {},
   "source": [
    "Show all people mentioned in news articles in Boston."
   ]
  },
  {
   "cell_type": "code",
   "execution_count": null,
   "metadata": {},
   "outputs": [],
   "source": [
    "people = col(sum(E[row(E[:,l]),P],1)>1)"
   ]
  },
  {
   "cell_type": "markdown",
   "metadata": {},
   "source": [
    "Show the most common locations for those found in Boston."
   ]
  },
  {
   "cell_type": "code",
   "execution_count": null,
   "metadata": {},
   "outputs": [],
   "source": [
    "print(sum(  E[:,people].' * E[:,L]  ,1) > 15)"
   ]
  },
  {
   "cell_type": "markdown",
   "metadata": {},
   "source": [
    "Do it all in 1 line of code."
   ]
  },
  {
   "cell_type": "code",
   "execution_count": null,
   "metadata": {},
   "outputs": [],
   "source": [
    "print(sum(  E[:,col(sum(E[row(E[:,l]),P],1)>1)].' * E[:,L]  ,1) > 15)"
   ]
  },
  {
   "cell_type": "markdown",
   "metadata": {},
   "source": [
    "Scale to multiple cites at once."
   ]
  },
  {
   "cell_type": "code",
   "execution_count": null,
   "metadata": {
    "scrolled": true
   },
   "outputs": [],
   "source": [
    "l = \"LOCATION|boston,LOCATION|chicago,LOCATION|detroit,\";\n",
    "print(sum(  E[:,col(sum(E[row(E[:,l]),P],1)>1)].' * E[:,L]  ,1) > 15)"
   ]
  },
  {
   "cell_type": "markdown",
   "metadata": {},
   "source": [
    "Let's make a Location-Location graph:"
   ]
  },
  {
   "cell_type": "code",
   "execution_count": null,
   "metadata": {},
   "outputs": [],
   "source": [
    "Locs = E[:,L]'*E[:,L]\n",
    "Locs = Locs - diag(Locs)\n",
    "\n",
    "spy(Locs);"
   ]
  },
  {
   "cell_type": "markdown",
   "metadata": {},
   "source": [
    "Which location pairs occur together the most?"
   ]
  },
  {
   "cell_type": "code",
   "execution_count": null,
   "metadata": {},
   "outputs": [],
   "source": [
    "print(Locs > 200)"
   ]
  },
  {
   "cell_type": "markdown",
   "metadata": {},
   "source": [
    "# Analyze DNA Data"
   ]
  },
  {
   "cell_type": "code",
   "execution_count": null,
   "metadata": {},
   "outputs": [],
   "source": [
    "function SplitSequenceCSV(CSVfile::String,DNAwordsize::Integer)\n",
    "\n",
    "    A = ReadCSV(CSVfile)\n",
    "    r, c, v = find(A);      # Read in file\n",
    "    v = map(lowercase,v)   # Convert sequence to lower case.\n",
    "\n",
    "    # Create the new column keys\n",
    "    col=matchall.(Regex(\"(.{\" * string(DNAwordsize) * \"})\") ,v)\n",
    "    sizes = length.(col) # Save the lengths to create the row strings\n",
    "    oneString=join(join.(col,\"\\n\"),\"\\n\")\n",
    "    col = split(oneString,\"\\n\")\n",
    "    \n",
    "    # Create the new row keys\n",
    "    oneString = join(map(^,r.*\"\\n\",sizes),\"\")\n",
    "    newR = split(oneString[1:end-1],\"\\n\")\n",
    "    \n",
    "    # Create the Associative Array\n",
    "    A = Assoc(newR,col,1)\n",
    "    \n",
    "    return A\n",
    "   \n",
    "end"
   ]
  },
  {
   "cell_type": "markdown",
   "metadata": {},
   "source": [
    "Read in bacteria reference DNA and palm sample DNA data into an associative arrays."
   ]
  },
  {
   "cell_type": "code",
   "execution_count": null,
   "metadata": {},
   "outputs": [],
   "source": [
    "DNAwordsize = 10;\n",
    "Eref = SplitSequenceCSV(\"data/bacteria.csv\",DNAwordsize);\n",
    "Esamp = SplitSequenceCSV(\"data/palm.csv\",DNAwordsize);"
   ]
  },
  {
   "cell_type": "markdown",
   "metadata": {},
   "source": [
    "Perform BLAST DNA sequeance analysis in 1 line of code to find best bacteria match."
   ]
  },
  {
   "cell_type": "code",
   "execution_count": null,
   "metadata": {},
   "outputs": [],
   "source": [
    "bestMatches = sum( Eref * Esamp.' ,2) > 20;\n",
    "\n",
    "print(bestMatches);"
   ]
  },
  {
   "cell_type": "markdown",
   "metadata": {},
   "source": [
    "# Analyze Network Data"
   ]
  },
  {
   "cell_type": "markdown",
   "metadata": {},
   "source": [
    "Read in 80,000 simulated network traffic logs from 1 day and print the first few rows."
   ]
  },
  {
   "cell_type": "code",
   "execution_count": null,
   "metadata": {},
   "outputs": [],
   "source": [
    "A = ReadCSV(\"data/network.csv\");\n",
    "\n",
    "print(  A[1:5,:]  );"
   ]
  },
  {
   "cell_type": "markdown",
   "metadata": {},
   "source": [
    "Make data sparse and show dimensions and number of entries."
   ]
  },
  {
   "cell_type": "code",
   "execution_count": null,
   "metadata": {},
   "outputs": [],
   "source": [
    "E = val2col(A,\"|\");\n",
    "\n",
    "display( [size(E) nnz(E)] )\n",
    "\n",
    "print(E[1:5,:])"
   ]
  },
  {
   "cell_type": "code",
   "execution_count": null,
   "metadata": {},
   "outputs": [],
   "source": [
    "size(E[:,StartsWith(\"src|,\")])"
   ]
  },
  {
   "cell_type": "markdown",
   "metadata": {},
   "source": [
    "Select fields and time windows to explore."
   ]
  },
  {
   "cell_type": "code",
   "execution_count": null,
   "metadata": {},
   "outputs": [],
   "source": [
    "S = StartsWith(\"src|,\");         T1 = StartsWith(\"time|01:,\");\n",
    "D = StartsWith(\"dest|,\");        T2 = StartsWith(\"time|05:,\");\n",
    "\n",
    "E1 = E[row(E[:,T1]),:];          # Data from time window 1.\n",
    "E2 = E[row(E[:,T2]),:];          # Data from time winod 2."
   ]
  },
  {
   "cell_type": "markdown",
   "metadata": {},
   "source": [
    "Create adjacency array of network traffic in each time window."
   ]
  },
  {
   "cell_type": "code",
   "execution_count": null,
   "metadata": {},
   "outputs": [],
   "source": [
    "A1 = E1[:,S]' * E1[:,D];\n",
    "A2 = E2[:,S]' * E2[:,D];"
   ]
  },
  {
   "cell_type": "markdown",
   "metadata": {},
   "source": [
    "Find source/destination pairs that are common to both time windows."
   ]
  },
  {
   "cell_type": "code",
   "execution_count": null,
   "metadata": {},
   "outputs": [],
   "source": [
    "print(A1 .* A2)"
   ]
  },
  {
   "cell_type": "code",
   "execution_count": null,
   "metadata": {},
   "outputs": [],
   "source": []
  }
 ],
 "metadata": {
  "kernelspec": {
   "display_name": "Julia 0.6.0",
   "language": "julia",
   "name": "julia-0.6"
  },
  "language_info": {
   "file_extension": ".jl",
   "mimetype": "application/julia",
   "name": "julia",
   "version": "0.6.0"
  },
  "latex_envs": {
   "LaTeX_envs_menu_present": true,
   "autocomplete": true,
   "bibliofile": "biblio.bib",
   "cite_by": "apalike",
   "current_citInitial": 1,
   "eqLabelWithNumbers": true,
   "eqNumInitial": 1,
   "hotkeys": {
    "equation": "Ctrl-E",
    "itemize": "Ctrl-I"
   },
   "labels_anchors": false,
   "latex_user_defs": false,
   "report_style_numbering": false,
   "user_envs_cfg": false
  },
  "toc": {
   "nav_menu": {},
   "number_sections": true,
   "sideBar": true,
   "skip_h1_title": false,
   "title_cell": "Table of Contents",
   "title_sidebar": "Contents",
   "toc_cell": false,
   "toc_position": {},
   "toc_section_display": "block",
   "toc_window_display": false
  },
  "varInspector": {
   "cols": {
    "lenName": 16,
    "lenType": 16,
    "lenVar": 40
   },
   "kernels_config": {
    "python": {
     "delete_cmd_postfix": "",
     "delete_cmd_prefix": "del ",
     "library": "var_list.py",
     "varRefreshCmd": "print(var_dic_list())"
    },
    "r": {
     "delete_cmd_postfix": ") ",
     "delete_cmd_prefix": "rm(",
     "library": "var_list.r",
     "varRefreshCmd": "cat(var_dic_list()) "
    }
   },
   "types_to_exclude": [
    "module",
    "function",
    "builtin_function_or_method",
    "instance",
    "_Feature"
   ],
   "window_display": false
  }
 },
 "nbformat": 4,
 "nbformat_minor": 2
}
