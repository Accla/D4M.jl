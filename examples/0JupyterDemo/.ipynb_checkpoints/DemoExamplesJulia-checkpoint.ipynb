{
 "cells": [
  {
   "cell_type": "markdown",
   "metadata": {},
   "source": [
    "# Intro to D4M"
   ]
  },
  {
   "cell_type": "markdown",
   "metadata": {},
   "source": [
    "Load the D4M module"
   ]
  },
  {
   "cell_type": "code",
   "execution_count": 1,
   "metadata": {},
   "outputs": [
    {
     "name": "stderr",
     "output_type": "stream",
     "text": [
      "┌ Info: Recompiling stale cache file /home/nathan/.julia/compiled/v1.0/D4M/JhFK0.ji for D4M [ca196bdc-a701-11e8-3d50-3b5cc8577617]\n",
      "└ @ Base loading.jl:1190\n"
     ]
    },
    {
     "name": "stdout",
     "output_type": "stream",
     "text": [
      "Database capabilities loaded!\n"
     ]
    },
    {
     "ename": "ErrorException",
     "evalue": "invalid using path: \"axis\" does not name a module",
     "output_type": "error",
     "traceback": [
      "invalid using path: \"axis\" does not name a module",
      "",
      "Stacktrace:",
      " [1] top-level scope at In[1]:1"
     ]
    }
   ],
   "source": [
    "using D4M, PyPlot.axis"
   ]
  },
  {
   "cell_type": "code",
   "execution_count": 2,
   "metadata": {},
   "outputs": [],
   "source": [
    "using PyPlot"
   ]
  },
  {
   "cell_type": "markdown",
   "metadata": {},
   "source": [
    "## Create, Display, Save an Associative Array"
   ]
  },
  {
   "cell_type": "markdown",
   "metadata": {},
   "source": [
    "Create lists of row, column, and values substrings. Note: the last character in the string is the divider. It can be any character. Common choices are \",\", \" \", tab, and newline."
   ]
  },
  {
   "cell_type": "code",
   "execution_count": 3,
   "metadata": {},
   "outputs": [],
   "source": [
    "row = \"a,a,a,a,a,a,a,aa,aaa,b,bb,bbb,a,aa,aaa,b,bb,bbb,\"\n",
    "column = \"a,aa,aaa,b,bb,bbb,a,a,a,a,a,a,a,aa,aaa,b,bb,bbb,\";\n",
    "values = \"a-a,a-aa,a-aaa,a-b,a-bb,a-bbb,a-a,aa-a,aaa-a,b-a,bb-a,bbb-a,a-a,aa-aa,aaa-aaa,b-b,bb-bb,bbb-bbb,\";"
   ]
  },
  {
   "cell_type": "markdown",
   "metadata": {},
   "source": [
    "Create an associative array, A, from row, column, and values."
   ]
  },
  {
   "cell_type": "code",
   "execution_count": 4,
   "metadata": {},
   "outputs": [
    {
     "data": {
      "text/plain": [
       "Assoc(Union{AbstractString, Number}[\"a\", \"aa\", \"aaa\", \"b\", \"bb\", \"bbb\"], Union{AbstractString, Number}[\"a\", \"aa\", \"aaa\", \"b\", \"bb\", \"bbb\"], Union{AbstractString, Number}[\"a-a\", \"a-aa\", \"a-aaa\", \"a-b\", \"a-bb\", \"a-bbb\", \"aa-a\", \"aa-aa\", \"aaa-a\", \"aaa-aaa\", \"b-a\", \"b-b\", \"bb-a\", \"bb-bb\", \"bbb-a\", \"bbb-bbb\"], \n",
       "  [1, 1]  =  1\n",
       "  [2, 1]  =  7\n",
       "  [3, 1]  =  9\n",
       "  [4, 1]  =  11\n",
       "  [5, 1]  =  13\n",
       "  [6, 1]  =  15\n",
       "  [1, 2]  =  2\n",
       "  [2, 2]  =  8\n",
       "  [1, 3]  =  3\n",
       "  [3, 3]  =  10\n",
       "  [1, 4]  =  4\n",
       "  [4, 4]  =  12\n",
       "  [1, 5]  =  5\n",
       "  [5, 5]  =  14\n",
       "  [1, 6]  =  6\n",
       "  [6, 6]  =  16)"
      ]
     },
     "execution_count": 4,
     "metadata": {},
     "output_type": "execute_result"
    }
   ],
   "source": [
    "A = Assoc(row,column,values)"
   ]
  },
  {
   "cell_type": "markdown",
   "metadata": {},
   "source": [
    "Display the associative array in tabular form."
   ]
  },
  {
   "cell_type": "code",
   "execution_count": 5,
   "metadata": {},
   "outputs": [
    {
     "data": {
      "text/plain": [
       "7×7 Array{Union{AbstractString, Number},2}:\n",
       " \"\"     \"a\"      \"aa\"     \"aaa\"      \"b\"    \"bb\"     \"bbb\"    \n",
       " \"a\"    \"a-a\"    \"a-aa\"   \"a-aaa\"    \"a-b\"  \"a-bb\"   \"a-bbb\"  \n",
       " \"aa\"   \"aa-a\"   \"aa-aa\"  \"\"         \"\"     \"\"       \"\"       \n",
       " \"aaa\"  \"aaa-a\"  \"\"       \"aaa-aaa\"  \"\"     \"\"       \"\"       \n",
       " \"b\"    \"b-a\"    \"\"       \"\"         \"b-b\"  \"\"       \"\"       \n",
       " \"bb\"   \"bb-a\"   \"\"       \"\"         \"\"     \"bb-bb\"  \"\"       \n",
       " \"bbb\"  \"bbb-a\"  \"\"       \"\"         \"\"     \"\"       \"bbb-bbb\""
      ]
     },
     "metadata": {},
     "output_type": "display_data"
    }
   ],
   "source": [
    "printFull(A)"
   ]
  },
  {
   "cell_type": "code",
   "execution_count": 6,
   "metadata": {},
   "outputs": [],
   "source": [
    "WriteCSV(A,\"data/A.csv\");"
   ]
  },
  {
   "cell_type": "markdown",
   "metadata": {},
   "source": [
    "## Read and Select Sub Associative Arrays"
   ]
  },
  {
   "cell_type": "markdown",
   "metadata": {},
   "source": [
    "Read CSV file into an associative array."
   ]
  },
  {
   "cell_type": "code",
   "execution_count": 7,
   "metadata": {},
   "outputs": [],
   "source": [
    "A = ReadCSV(\"data/A.csv\");"
   ]
  },
  {
   "cell_type": "markdown",
   "metadata": {},
   "source": [
    "Select a subset of rows."
   ]
  },
  {
   "cell_type": "code",
   "execution_count": 8,
   "metadata": {},
   "outputs": [
    {
     "data": {
      "text/plain": [
       "3×7 Array{Union{AbstractString, Number},2}:\n",
       " \"\"   \"a\"    \"aa\"    \"aaa\"    \"b\"    \"bb\"    \"bbb\"  \n",
       " \"a\"  \"a-a\"  \"a-aa\"  \"a-aaa\"  \"a-b\"  \"a-bb\"  \"a-bbb\"\n",
       " \"b\"  \"b-a\"  \"\"      \"\"       \"b-b\"  \"\"      \"\"     "
      ]
     },
     "metadata": {},
     "output_type": "display_data"
    }
   ],
   "source": [
    "printFull(  A[\"a,b,\",:]  );"
   ]
  },
  {
   "cell_type": "markdown",
   "metadata": {},
   "source": [
    "Convert values to 0 and 1."
   ]
  },
  {
   "cell_type": "code",
   "execution_count": 9,
   "metadata": {},
   "outputs": [
    {
     "data": {
      "text/plain": [
       "3×7 Array{Union{AbstractString, Number},2}:\n",
       " \"\"    \"a\"   \"aa\"   \"aaa\"   \"b\"   \"bb\"   \"bbb\"\n",
       " \"a\"  1     1      1       1     1      1     \n",
       " \"b\"  1     0      0       1     0      0     "
      ]
     },
     "metadata": {},
     "output_type": "display_data"
    }
   ],
   "source": [
    "printFull(  logical(A[\"a,b,\",:])  );"
   ]
  },
  {
   "cell_type": "markdown",
   "metadata": {},
   "source": [
    "Select a subset of columns."
   ]
  },
  {
   "cell_type": "code",
   "execution_count": 10,
   "metadata": {},
   "outputs": [
    {
     "data": {
      "text/plain": [
       "7×3 Array{Union{AbstractString, Number},2}:\n",
       " \"\"     \"a\"      \"b\"  \n",
       " \"a\"    \"a-a\"    \"a-b\"\n",
       " \"aa\"   \"aa-a\"   \"\"   \n",
       " \"aaa\"  \"aaa-a\"  \"\"   \n",
       " \"b\"    \"b-a\"    \"b-b\"\n",
       " \"bb\"   \"bb-a\"   \"\"   \n",
       " \"bbb\"  \"bbb-a\"  \"\"   "
      ]
     },
     "metadata": {},
     "output_type": "display_data"
    }
   ],
   "source": [
    "printFull(  A[:,\"a,b,\"]  );"
   ]
  },
  {
   "cell_type": "markdown",
   "metadata": {},
   "source": [
    "Convert values to 0 and 1."
   ]
  },
  {
   "cell_type": "code",
   "execution_count": 11,
   "metadata": {},
   "outputs": [
    {
     "data": {
      "text/plain": [
       "7×3 Array{Union{AbstractString, Number},2}:\n",
       " \"\"      \"a\"   \"b\"\n",
       " \"a\"    1     1   \n",
       " \"aa\"   1     0   \n",
       " \"aaa\"  1     0   \n",
       " \"b\"    1     1   \n",
       " \"bb\"   1     0   \n",
       " \"bbb\"  1     0   "
      ]
     },
     "metadata": {},
     "output_type": "display_data"
    }
   ],
   "source": [
    "printFull(  logical(A[:,\"a,b,\"])  );"
   ]
  },
  {
   "cell_type": "markdown",
   "metadata": {},
   "source": [
    "# Analyze Entities in News Articles"
   ]
  },
  {
   "cell_type": "markdown",
   "metadata": {},
   "source": [
    "Load entities from 10,000 news articles and print the first few rows."
   ]
  },
  {
   "cell_type": "code",
   "execution_count": 12,
   "metadata": {},
   "outputs": [
    {
     "data": {
      "text/plain": [
       "6×5 Array{Union{AbstractString, Number},2}:\n",
       "  \"\"  \"doc\"                  \"entity\"       \"position\"     \"type\"    \n",
       " 1    \"19960825_13108.txt\"   \"addis ababa\"  \"54;132;974;\"  \"LOCATION\"\n",
       " 2    \"19960930_84704.txt\"   \"addis ababa\"  \"60;\"          \"LOCATION\"\n",
       " 3    \"19961004_96087.txt\"   \"addis ababa\"  \"61;305;\"      \"LOCATION\"\n",
       " 4    \"19961006_98377.txt\"   \"addis ababa\"  \"68;\"          \"LOCATION\"\n",
       " 5    \"19961009_104796.txt\"  \"addis ababa\"  \"59;443;\"      \"LOCATION\""
      ]
     },
     "metadata": {},
     "output_type": "display_data"
    }
   ],
   "source": [
    "A = ReadCSV(\"data/entity.csv\");\n",
    "\n",
    "printFull(  A[1:5,:]  );"
   ]
  },
  {
   "cell_type": "markdown",
   "metadata": {},
   "source": [
    "Show dimensions and number of entries of A."
   ]
  },
  {
   "cell_type": "code",
   "execution_count": 14,
   "metadata": {},
   "outputs": [
    {
     "name": "stdout",
     "output_type": "stream",
     "text": [
      "Any[(47089, 4), 188356]"
     ]
    },
    {
     "data": {
      "text/plain": [
       "1.0"
      ]
     },
     "execution_count": 14,
     "metadata": {},
     "output_type": "execute_result"
    }
   ],
   "source": [
    "print( [size(A),nnz(A)] );\n",
    "\n",
    "nnz(A)/(size(A)[1]*size(A)[2])"
   ]
  },
  {
   "cell_type": "markdown",
   "metadata": {},
   "source": [
    "## Construct and Display a Sparse Associative Array of the Data"
   ]
  },
  {
   "cell_type": "markdown",
   "metadata": {},
   "source": [
    "Grab doc, entity, position, and type columns and combine type and entity with '|' seperator."
   ]
  },
  {
   "cell_type": "markdown",
   "metadata": {},
   "source": [
    "(find command filters the elements in an associative array, and returns three arrays; each triple of respective elements (e.g. each of the 22nd elements in those arrays) corresponds to an entry's row, col, and value in the associative array)"
   ]
  },
  {
   "cell_type": "code",
   "execution_count": 24,
   "metadata": {},
   "outputs": [],
   "source": [
    "row, col, doc      = find(A[:,\"doc,\"]);              # Get doc column.\n",
    "row, col, entity   = find(A[:,\"entity,\"]);           # Get entity column.\n",
    "row, col, position = find(A[:,\"position,\"]);         # Get position column.\n",
    "row, col, rowType     = find(A[:,\"type,\"]);             # Get type column.\n",
    "typeEntity = CatStr(rowType,\"|\",entity);          # Interleave type and entity strings."
   ]
  },
  {
   "cell_type": "code",
   "execution_count": 25,
   "metadata": {},
   "outputs": [
    {
     "data": {
      "text/plain": [
       "47089-element Array{String,1}:\n",
       " \"LOCATION|addis ababa\" \n",
       " \"LOCATION|addis ababa\" \n",
       " \"LOCATION|addis ababa\" \n",
       " \"LOCATION|addis ababa\" \n",
       " \"LOCATION|addis ababa\" \n",
       " \"LOCATION|addis ababa\" \n",
       " \"LOCATION|addis ababa\" \n",
       " \"LOCATION|addis ababa\" \n",
       " \"LOCATION|addis ababa\" \n",
       " \"LOCATION|aden\"        \n",
       " \"LOCATION|aden\"        \n",
       " \"LOCATION|adriatic sea\"\n",
       " \"LOCATION|aegean sea\"  \n",
       " ⋮                      \n",
       " \"TIME|2039-07-07\"      \n",
       " \"TIME|2040-04-28\"      \n",
       " \"TIME|2040-05-26\"      \n",
       " \"TIME|2040-09-08\"      \n",
       " \"TIME|2041-08-18\"      \n",
       " \"TIME|2041-08-23\"      \n",
       " \"TIME|2041-08-25\"      \n",
       " \"TIME|2041-09-01\"      \n",
       " \"TIME|2042-06-21\"      \n",
       " \"TIME|2043-04-20\"      \n",
       " \"TIME|2043-05-25\"      \n",
       " \"TIME|2099-12-31\"      "
      ]
     },
     "execution_count": 25,
     "metadata": {},
     "output_type": "execute_result"
    }
   ],
   "source": [
    "typeEntity"
   ]
  },
  {
   "cell_type": "markdown",
   "metadata": {},
   "source": [
    "Create a sparse associative array of all the data. (Note that it's sparse!) This maps each document and type-entity combo to its corresponding position (or nothing, if there is none)."
   ]
  },
  {
   "cell_type": "code",
   "execution_count": 31,
   "metadata": {
    "scrolled": true
   },
   "outputs": [],
   "source": [
    "E = Assoc(doc,typeEntity,position);"
   ]
  },
  {
   "cell_type": "markdown",
   "metadata": {},
   "source": [
    "Show a few rows."
   ]
  },
  {
   "cell_type": "code",
   "execution_count": 32,
   "metadata": {},
   "outputs": [
    {
     "name": "stdout",
     "output_type": "stream",
     "text": [
      "  [19960820_2324.txt, LOCATION|britain      ]  =  76;\n",
      "  [19960820_2324.txt, LOCATION|england      ]  =  167;853;1808;\n",
      "  [19960820_2324.txt, LOCATION|london       ]  =  59;\n",
      "  [19960820_2304.txt, LOCATION|united states]  =  1;\n",
      "  [19960820_2304.txt, LOCATION|washington   ]  =  55;\n",
      "  [19960820_2304.txt, PERSON|arshad mohammed]  =  77;\n",
      "  [19960820_2324.txt, PERSON|eddie george   ]  =  1280;\n",
      "  [19960820_2324.txt, PERSON|kenneth clarke ]  =  1636;\n",
      "  [19960820_2304.txt, TIME|1996-08-20       ]  =  1;\n",
      "  [19960820_2324.txt, TIME|1996-08-20       ]  =  1;\n",
      "  [19960820_2304.txt, TIME|1997-09-01       ]  =  755;\n"
     ]
    },
    {
     "data": {
      "text/plain": [
       "3×11 Array{Union{AbstractString, Number},2}:\n",
       " \"\"                   \"LOCATION|britain\"  …  \"TIME|1997-09-01\"\n",
       " \"19960820_2304.txt\"  \"\"                     \"755;\"           \n",
       " \"19960820_2324.txt\"  \"76;\"                  \"\"               "
      ]
     },
     "metadata": {},
     "output_type": "display_data"
    }
   ],
   "source": [
    "print(E[1:2,:]) # the first two rows as an array\n",
    "\n",
    "printFull(E[1:2,:]) # the entries of the first two rows, all written out"
   ]
  },
  {
   "cell_type": "markdown",
   "metadata": {},
   "source": [
    "Display dimensions of data, number of non-zero entries, and density of A."
   ]
  },
  {
   "cell_type": "code",
   "execution_count": 33,
   "metadata": {},
   "outputs": [
    {
     "name": "stdout",
     "output_type": "stream",
     "text": [
      "Any[(9974, 3657), 47089]"
     ]
    },
    {
     "data": {
      "text/plain": [
       "0.0012909967337006762"
      ]
     },
     "execution_count": 33,
     "metadata": {},
     "output_type": "execute_result"
    }
   ],
   "source": [
    "print( [size(E), nnz(E)]  );\n",
    "\n",
    "nnz(E)/(size(E)[1]*size(E)[2])"
   ]
  },
  {
   "cell_type": "markdown",
   "metadata": {},
   "source": [
    "Plot transpose of the sparse data."
   ]
  },
  {
   "cell_type": "code",
   "execution_count": 34,
   "metadata": {},
   "outputs": [
    {
     "data": {
      "image/png": "[encoded data removed]",
      "text/plain": [
       "Figure(PyObject <Figure size 640x480 with 1 Axes>)"
      ]
     },
     "metadata": {},
     "output_type": "display_data"
    },
    {
     "data": {
      "text/plain": [
       "(-0.5, 999.5, 772.5, -0.5)"
      ]
     },
     "execution_count": 34,
     "metadata": {},
     "output_type": "execute_result"
    }
   ],
   "source": [
    "spy(transpose(E[1:1000,:]));\n",
    "axis(\"auto\")"
   ]
  },
  {
   "cell_type": "markdown",
   "metadata": {},
   "source": [
    "Create an adjacency matrix by multiplying E<sup>T</sup> * E."
   ]
  },
  {
   "cell_type": "code",
   "execution_count": 35,
   "metadata": {
    "scrolled": false
   },
   "outputs": [
    {
     "data": {
      "image/png": "[encoded data removed]",
      "text/plain": [
       "Figure(PyObject <Figure size 640x480 with 1 Axes>)"
      ]
     },
     "metadata": {},
     "output_type": "display_data"
    }
   ],
   "source": [
    "E = logical(E)\n",
    "spy(E'*E);"
   ]
  },
  {
   "cell_type": "markdown",
   "metadata": {},
   "source": [
    "## Analyze Relationships"
   ]
  },
  {
   "cell_type": "markdown",
   "metadata": {},
   "source": [
    "Define relationships to examine."
   ]
  },
  {
   "cell_type": "code",
   "execution_count": 36,
   "metadata": {},
   "outputs": [],
   "source": [
    "l = \"LOCATION|boston,\";\n",
    "P = StartsWith(\"PERSON|,\");\n",
    "L = StartsWith(\"LOCATION|,\");"
   ]
  },
  {
   "cell_type": "markdown",
   "metadata": {},
   "source": [
    "Show all people mentioned more than once in news articles in Boston."
   ]
  },
  {
   "cell_type": "markdown",
   "metadata": {},
   "source": [
    "_TODO explain how the query works, and how they work in general (:, getrow, getcol)_"
   ]
  },
  {
   "cell_type": "code",
   "execution_count": 74,
   "metadata": {},
   "outputs": [
    {
     "data": {
      "text/plain": [
       "10-element Array{Union{AbstractString, Number},1}:\n",
       " \"PERSON|bobby witt\"    \n",
       " \"PERSON|chris reese\"   \n",
       " \"PERSON|dave martinez\" \n",
       " \"PERSON|david howard\"  \n",
       " \"PERSON|duane arnold\"  \n",
       " \"PERSON|jason\"         \n",
       " \"PERSON|juan gonzalez\" \n",
       " \"PERSON|saul hudson\"   \n",
       " \"PERSON|scott erickson\"\n",
       " \"PERSON|tony clark\"    "
      ]
     },
     "execution_count": 74,
     "metadata": {},
     "output_type": "execute_result"
    }
   ],
   "source": [
    "people = getcol(sum(E[getrow(E[:,l]),P],1)>1)"
   ]
  },
  {
   "cell_type": "markdown",
   "metadata": {},
   "source": [
    "Show the most common locations for those found in Boston."
   ]
  },
  {
   "cell_type": "code",
   "execution_count": 76,
   "metadata": {},
   "outputs": [
    {
     "name": "stdout",
     "output_type": "stream",
     "text": [
      "  [1, LOCATION|boston       ]  =  21\n",
      "  [1, LOCATION|chicago      ]  =  17\n",
      "  [1, LOCATION|detroit      ]  =  19\n",
      "  [1, LOCATION|new york     ]  =  34\n",
      "  [1, LOCATION|texas        ]  =  25\n",
      "  [1, LOCATION|united states]  =  25\n"
     ]
    }
   ],
   "source": [
    "print(sum(  transpose(E[:,people]) * E[:,L]  ,1) > 15)"
   ]
  },
  {
   "cell_type": "markdown",
   "metadata": {},
   "source": [
    "Combining the above into 1 line:"
   ]
  },
  {
   "cell_type": "code",
   "execution_count": 90,
   "metadata": {},
   "outputs": [
    {
     "name": "stdout",
     "output_type": "stream",
     "text": [
      "  [1, LOCATION|boston       ]  =  21\n",
      "  [1, LOCATION|chicago      ]  =  17\n",
      "  [1, LOCATION|detroit      ]  =  19\n",
      "  [1, LOCATION|new york     ]  =  34\n",
      "  [1, LOCATION|texas        ]  =  25\n",
      "  [1, LOCATION|united states]  =  25\n"
     ]
    }
   ],
   "source": [
    "print(sum(  transpose( E[:,getcol(sum(E[getrow(E[:,l]),P],1)>1)] ) * E[:,L]  ,1) > 15)"
   ]
  },
  {
   "cell_type": "markdown",
   "metadata": {},
   "source": [
    "Scale to multiple cites at once."
   ]
  },
  {
   "cell_type": "code",
   "execution_count": 92,
   "metadata": {
    "scrolled": true
   },
   "outputs": [
    {
     "name": "stdout",
     "output_type": "stream",
     "text": [
      "  [1, LOCATION|argentina    ]  =  24\n",
      "  [1, LOCATION|baltimore    ]  =  18\n",
      "  [1, LOCATION|boston       ]  =  25\n",
      "  [1, LOCATION|buenos aires ]  =  16\n",
      "  [1, LOCATION|california   ]  =  21\n",
      "  [1, LOCATION|chicago      ]  =  56\n",
      "  [1, LOCATION|detroit      ]  =  35\n",
      "  [1, LOCATION|kansas       ]  =  19\n",
      "  [1, LOCATION|kansas city  ]  =  18\n",
      "  [1, LOCATION|milwaukee    ]  =  16\n",
      "  [1, LOCATION|new york     ]  =  55\n",
      "  [1, LOCATION|oakland      ]  =  16\n",
      "  [1, LOCATION|seattle      ]  =  16\n",
      "  [1, LOCATION|texas        ]  =  28\n",
      "  [1, LOCATION|toronto      ]  =  16\n",
      "  [1, LOCATION|united states]  =  94\n",
      "  [1, LOCATION|washington   ]  =  17\n"
     ]
    }
   ],
   "source": [
    "l = \"LOCATION|boston,LOCATION|chicago,LOCATION|detroit,\";\n",
    "people = getcol(sum(E[getrow(E[:,l]),P],1)>1)\n",
    "print(sum( transpose(E[:,people]) * E[:,L]  ,1) > 15)"
   ]
  },
  {
   "cell_type": "markdown",
   "metadata": {},
   "source": [
    "Let's make a Location-Location graph:"
   ]
  },
  {
   "cell_type": "code",
   "execution_count": null,
   "metadata": {},
   "outputs": [],
   "source": [
    "Locs = E[:,L]'*E[:,L]\n",
    "Locs = Locs - diag(Locs)\n",
    "\n",
    "spy(Locs);"
   ]
  },
  {
   "cell_type": "markdown",
   "metadata": {},
   "source": [
    "Which location pairs occur together the most?"
   ]
  },
  {
   "cell_type": "code",
   "execution_count": null,
   "metadata": {},
   "outputs": [],
   "source": [
    "print(Locs > 200)"
   ]
  },
  {
   "cell_type": "markdown",
   "metadata": {},
   "source": [
    "# Analyze DNA Data"
   ]
  },
  {
   "cell_type": "code",
   "execution_count": null,
   "metadata": {},
   "outputs": [],
   "source": [
    "function SplitSequenceCSV(CSVfile::String,DNAwordsize::Integer)\n",
    "\n",
    "    A = ReadCSV(CSVfile)\n",
    "    r, c, v = find(A);      # Read in file\n",
    "    v = map(lowercase,v)   # Convert sequence to lower case.\n",
    "\n",
    "    # Create the new column keys\n",
    "    col=matchall.(Regex(\"(.{\" * string(DNAwordsize) * \"})\") ,v)\n",
    "    sizes = length.(col) # Save the lengths to create the row strings\n",
    "    oneString=join(join.(col,\"\\n\"),\"\\n\")\n",
    "    col = split(oneString,\"\\n\")\n",
    "    \n",
    "    # Create the new row keys\n",
    "    oneString = join(map(^,r.*\"\\n\",sizes),\"\")\n",
    "    newR = split(oneString[1:end-1],\"\\n\")\n",
    "    \n",
    "    # Create the Associative Array\n",
    "    A = Assoc(newR,col,1)\n",
    "    \n",
    "    return A\n",
    "   \n",
    "end"
   ]
  },
  {
   "cell_type": "markdown",
   "metadata": {},
   "source": [
    "Read in bacteria reference DNA and palm sample DNA data into an associative arrays."
   ]
  },
  {
   "cell_type": "code",
   "execution_count": null,
   "metadata": {},
   "outputs": [],
   "source": [
    "DNAwordsize = 10;\n",
    "Eref = SplitSequenceCSV(\"data/bacteria.csv\",DNAwordsize);\n",
    "Esamp = SplitSequenceCSV(\"data/palm.csv\",DNAwordsize);"
   ]
  },
  {
   "cell_type": "markdown",
   "metadata": {},
   "source": [
    "Perform BLAST DNA sequeance analysis in 1 line of code to find best bacteria match."
   ]
  },
  {
   "cell_type": "code",
   "execution_count": null,
   "metadata": {},
   "outputs": [],
   "source": [
    "bestMatches = sum( Eref * Esamp.' ,2) > 20;\n",
    "\n",
    "print(bestMatches);"
   ]
  },
  {
   "cell_type": "markdown",
   "metadata": {},
   "source": [
    "# Analyze Network Data"
   ]
  },
  {
   "cell_type": "markdown",
   "metadata": {},
   "source": [
    "Read in 80,000 simulated network traffic logs from 1 day and print the first few rows."
   ]
  },
  {
   "cell_type": "code",
   "execution_count": null,
   "metadata": {},
   "outputs": [],
   "source": [
    "A = ReadCSV(\"data/network.csv\");\n",
    "\n",
    "print(  A[1:5,:]  );"
   ]
  },
  {
   "cell_type": "markdown",
   "metadata": {},
   "source": [
    "Make data sparse and show dimensions and number of entries."
   ]
  },
  {
   "cell_type": "code",
   "execution_count": null,
   "metadata": {},
   "outputs": [],
   "source": [
    "E = val2col(A,\"|\");\n",
    "\n",
    "display( [size(E) nnz(E)] )\n",
    "\n",
    "print(E[1:5,:])"
   ]
  },
  {
   "cell_type": "code",
   "execution_count": null,
   "metadata": {},
   "outputs": [],
   "source": [
    "size(E[:,StartsWith(\"src|,\")])"
   ]
  },
  {
   "cell_type": "markdown",
   "metadata": {},
   "source": [
    "Select fields and time windows to explore."
   ]
  },
  {
   "cell_type": "code",
   "execution_count": null,
   "metadata": {},
   "outputs": [],
   "source": [
    "S = StartsWith(\"src|,\");         T1 = StartsWith(\"time|01:,\");\n",
    "D = StartsWith(\"dest|,\");        T2 = StartsWith(\"time|05:,\");\n",
    "\n",
    "E1 = E[getrow(E[:,T1]),:];          # Data from time window 1.\n",
    "E2 = E[getrow(E[:,T2]),:];          # Data from time winod 2."
   ]
  },
  {
   "cell_type": "markdown",
   "metadata": {},
   "source": [
    "Create adjacency array of network traffic in each time window."
   ]
  },
  {
   "cell_type": "code",
   "execution_count": null,
   "metadata": {},
   "outputs": [],
   "source": [
    "A1 = E1[:,S]' * E1[:,D];\n",
    "A2 = E2[:,S]' * E2[:,D];"
   ]
  },
  {
   "cell_type": "markdown",
   "metadata": {},
   "source": [
    "Find source/destination pairs that are common to both time windows."
   ]
  },
  {
   "cell_type": "code",
   "execution_count": null,
   "metadata": {},
   "outputs": [],
   "source": [
    "print(A1 .* A2)"
   ]
  },
  {
   "cell_type": "code",
   "execution_count": null,
   "metadata": {},
   "outputs": [],
   "source": []
  }
 ],
 "metadata": {
  "kernelspec": {
   "display_name": "Julia 1.0.4",
   "language": "julia",
   "name": "julia-1.0"
  },
  "language_info": {
   "file_extension": ".jl",
   "mimetype": "application/julia",
   "name": "julia",
   "version": "1.0.4"
  },
  "latex_envs": {
   "LaTeX_envs_menu_present": true,
   "autocomplete": true,
   "bibliofile": "biblio.bib",
   "cite_by": "apalike",
   "current_citInitial": 1,
   "eqLabelWithNumbers": true,
   "eqNumInitial": 1,
   "hotkeys": {
    "equation": "Ctrl-E",
    "itemize": "Ctrl-I"
   },
   "labels_anchors": false,
   "latex_user_defs": false,
   "report_style_numbering": false,
   "user_envs_cfg": false
  },
  "toc": {
   "nav_menu": {},
   "number_sections": true,
   "sideBar": true,
   "skip_h1_title": false,
   "title_cell": "Table of Contents",
   "title_sidebar": "Contents",
   "toc_cell": false,
   "toc_position": {},
   "toc_section_display": "block",
   "toc_window_display": false
  },
  "varInspector": {
   "cols": {
    "lenName": 16,
    "lenType": 16,
    "lenVar": 40
   },
   "kernels_config": {
    "python": {
     "delete_cmd_postfix": "",
     "delete_cmd_prefix": "del ",
     "library": "var_list.py",
     "varRefreshCmd": "print(var_dic_list())"
    },
    "r": {
     "delete_cmd_postfix": ") ",
     "delete_cmd_prefix": "rm(",
     "library": "var_list.r",
     "varRefreshCmd": "cat(var_dic_list()) "
    }
   },
   "types_to_exclude": [
    "module",
    "function",
    "builtin_function_or_method",
    "instance",
    "_Feature"
   ],
   "window_display": false
  }
 },
 "nbformat": 4,
 "nbformat_minor": 2
}
