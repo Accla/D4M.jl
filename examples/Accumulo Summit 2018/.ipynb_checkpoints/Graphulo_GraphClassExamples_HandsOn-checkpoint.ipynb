{
 "cells": [
  {
   "cell_type": "markdown",
   "metadata": {},
   "source": [
    "# D4M Warmup"
   ]
  },
  {
   "cell_type": "markdown",
   "metadata": {},
   "source": [
    "To use D4M, D4M needs to be on your path. In most environemnts on the LLSC systems D4M will already be on your path, however in this specific case (an Octave kernel in Jupyter) it sometimes is not."
   ]
  },
  {
   "cell_type": "code",
   "execution_count": 5,
   "metadata": {},
   "outputs": [],
   "source": [
    "% If D4M is not on your path, add it now\n",
    "addpath('/home/gridsan/tools/d4m_api/matlab_src/')\n",
    "\n",
    "% Defining for convenience later\n",
    "nl = char(10);"
   ]
  },
  {
   "cell_type": "markdown",
   "metadata": {},
   "source": [
    "D4M is a package for working with Associative Arrays. An Associative Array is a bit like a sparse matrix, but the rows, columns, and values can be either numbers or strings."
   ]
  },
  {
   "cell_type": "code",
   "execution_count": null,
   "metadata": {
    "collapsed": true
   },
   "outputs": [],
   "source": [
    "row = 'a,a,a,a,a,a,a,aa,aaa,b,bb,bbb,a,aa,aaa,b,bb,bbb,';\n",
    "column = 'a,aa,aaa,b,bb,bbb,a,a,a,a,a,a,a,aa,aaa,b,bb,bbb,';\n",
    "values = 'a-a,a-aa,a-aaa,a-b,a-bb,a-bbb,a-a,aa-a,aaa-a,b-a,bb-a,bbb-a,a-a,aa-aa,aaa-aaa,b-b,bb-bb,bbb-bbb,';\n",
    "\n",
    "A = Assoc(row,column,values);\n",
    "\n",
    "displayFull(A)\n",
    "\n",
    "displayFull(logical(A))"
   ]
  },
  {
   "cell_type": "markdown",
   "metadata": {},
   "source": [
    "This flexibility makes D4M Associative Arrays ideal for representing graph data. Often this involves having string row and column labels, representing the names of vertices and/or edges, and numeric values representing the existance of an edge or the weight of that edge."
   ]
  },
  {
   "cell_type": "code",
   "execution_count": null,
   "metadata": {
    "collapsed": true
   },
   "outputs": [],
   "source": [
    "A = putRow(A,'v1,v2,v3,v4,v5,v6,');\n",
    "A = putCol(A,'v1,v2,v3,v4,v5,v6,');\n",
    "A = logical(A);\n",
    "\n",
    "displayFull(A)"
   ]
  },
  {
   "cell_type": "markdown",
   "metadata": {},
   "source": [
    "<img src=\"images/graphEx.png\" alt=\"Drawing\" style=\"width: 200px;\"/>"
   ]
  },
  {
   "cell_type": "markdown",
   "metadata": {},
   "source": [
    "With Associative Arrays, you can extract a subgraph by indexing into the Associative Array. For example, let's just get all the columns with odd vertices and rows with vertices 1-3.\n",
    "\n",
    "Note the last character in an index string is the delimiter, this allows us to do indexing on multiply values with a single string, as cell arrays of strings can get very slow."
   ]
  },
  {
   "cell_type": "code",
   "execution_count": null,
   "metadata": {
    "collapsed": true
   },
   "outputs": [],
   "source": [
    "displayFull(A(:,'v1,v3,v5,'))\n",
    "\n",
    "displayFull(A('v1,:,v3,',:))"
   ]
  },
  {
   "cell_type": "markdown",
   "metadata": {},
   "source": [
    "We can also add, subtract, and mutliply Associative Arrays."
   ]
  },
  {
   "cell_type": "code",
   "execution_count": null,
   "metadata": {
    "collapsed": true
   },
   "outputs": [],
   "source": [
    "displayFull(A + A(:,'v1,v3,v5,'))\n",
    "\n",
    "displayFull(A - A('v1,:,v3,',:))\n",
    "\n",
    "displayFull(A * A(:,'v2,v4,'))"
   ]
  },
  {
   "cell_type": "markdown",
   "metadata": {},
   "source": [
    "This just a small taste of D4M to get you started. You'll see more as we go through this notebook."
   ]
  },
  {
   "cell_type": "markdown",
   "metadata": {},
   "source": [
    "# Creating Incidence and Adjacency Matrices"
   ]
  },
  {
   "cell_type": "markdown",
   "metadata": {},
   "source": [
    "Usually when we parse data into D4M Associative Arrays we put them in an Incidence Matrix format. For review, the rows of an incidence matrix correspond to edges, while the rows correspond to vertices. Incidence matrices can represent a variety of types of graphs, and so can be very useful. You can also easily form any adjacency matrix you need from an incidence matrix.\n",
    "\n",
    "To see how an incidence matrix is formed, let's say for example you have some raw data in a tsv file. The rows IDs of the incidence matrix are some unique identifier of the rows in the original file, in this example they are just the row number in the file. There are generally different columns associated with each row in the tsv file, we combine the column name with each column value to create our column IDs, or vertex IDs in our Incidence matrix. Notice how we have parsed out each individual word in column 3 as well."
   ]
  },
  {
   "cell_type": "markdown",
   "metadata": {},
   "source": [
    "<img src=\"images/TSVtoAssoc.png\" alt=\"Drawing\" style=\"width: 600px;\"/>"
   ]
  },
  {
   "cell_type": "markdown",
   "metadata": {},
   "source": [
    "Let's look at an example. We are loading an Associative Array with Twitter data, and looking at the user columns in the first three tweets:"
   ]
  },
  {
   "cell_type": "code",
   "execution_count": 1,
   "metadata": {},
   "outputs": [
    {
     "name": "stdout",
     "output_type": "stream",
     "text": [
      "                   user|Blocker57,user|Wangjeje,user|gyanpratika,\n",
      "000000821278781733,                             1,               \n",
      "000004857479781733,1,                                            \n",
      "000008653317781733,               1,                             \n"
     ]
    }
   ],
   "source": [
    "load('tweets.mat');\n",
    "\n",
    "displayFull(NewSep(A(1:3,StartsWith('user|,')),','))"
   ]
  },
  {
   "cell_type": "markdown",
   "metadata": {},
   "source": [
    "Since the full matrix display is not practical for viewing much more than this, we often look at the triples of the Associative Array. Here are the first two rows:"
   ]
  },
  {
   "cell_type": "code",
   "execution_count": null,
   "metadata": {
    "collapsed": true
   },
   "outputs": [],
   "source": [
    "A(1:2,:)"
   ]
  },
  {
   "cell_type": "markdown",
   "metadata": {},
   "source": [
    "From here we can form a variety of adjacency matrices. For example:"
   ]
  },
  {
   "cell_type": "code",
   "execution_count": null,
   "metadata": {
    "collapsed": true
   },
   "outputs": [],
   "source": [
    "# All words that start with a letter:\n",
    "realwords = ['word|a' nl ':' nl 'word|z' char(127) nl];\n",
    "\n",
    "# All hashtags:\n",
    "hashtags = StartsWith(['word|#' nl]);\n",
    "\n",
    "# Tweets @ someone:\n",
    "directedtweet = StartsWith(['word|@' nl]);\n",
    "\n",
    "# Usenames:\n",
    "users = StartsWith(['user|' nl]);\n",
    "\n",
    "# Locations:\n",
    "locs = StartsWith(['latlon|' nl]);\n",
    "\n",
    "# Users-Location Graph\n",
    "display('Bipartite User-Location Graph')\n",
    "Auserloc = A(:,users).'*A(:,locs);\n",
    "displayFull(NewSep(Auserloc(1:2,:),','))\n",
    "\n",
    "# Word-Word Graph\n",
    "display([nl 'Symmetric Word-Word Graph'])\n",
    "Awords = A(:,realwords).'*A(:,realwords);\n",
    "Awords = Awords - diag(Awords);\n",
    "displayFull(NewSep(Awords > 50,','))\n",
    "\n",
    "# Directed tweets\n",
    "display([nl 'Directed User-User Graph'])\n",
    "Adir = A(:,users).'*A(:,directedtweet);\n",
    "displayFull(NewSep(Adir(11:13,:),','))"
   ]
  },
  {
   "cell_type": "markdown",
   "metadata": {
    "heading_collapsed": true
   },
   "source": [
    "# Graph Algorithms in D4M"
   ]
  },
  {
   "cell_type": "markdown",
   "metadata": {
    "hidden": true
   },
   "source": [
    "D4M has some graph algorithm capabilities built in. Let's take a look at a few examples before we start looking at in-database algorithms."
   ]
  },
  {
   "cell_type": "markdown",
   "metadata": {
    "hidden": true
   },
   "source": [
    "## Breadth First Search"
   ]
  },
  {
   "cell_type": "markdown",
   "metadata": {
    "hidden": true
   },
   "source": [
    "From our word-word graph, we can see which words that are used together. But what if we want to go out one or two levels more? We can use breadth first search (BFS). We'll start by specifying a few source vertices."
   ]
  },
  {
   "cell_type": "code",
   "execution_count": null,
   "metadata": {
    "collapsed": true,
    "hidden": true,
    "scrolled": true
   },
   "outputs": [],
   "source": [
    "words = 'word|coffee,word_lower|tea,';\n",
    "Asearch = logical(Awords);\n",
    "%% Run Breadth First Search on Adjancency Schema\n",
    "k=3; % Number of steps\n",
    "minDegree=5;\n",
    "maxDegree=10;\n",
    "v0 = words;\n",
    "takeunion = true;\n",
    "Adeg = sum(logical(A),1).';         % Degree of each node.\n",
    "\n",
    "v = AdjBFS(Asearch,Adeg,'',v0,k,minDegree,maxDegree,true);\n",
    "v = Row(v);\n",
    "\n",
    "% Vertices reached in 3 hops from specified users\n",
    "disp([char(10) 'Vertices reached in ' num2str(k) ' hops from ' strrep(v0(1:end-1),char(10),', ') ':'])\n",
    "strrep(v(1:end-1),char(10),', ')"
   ]
  },
  {
   "cell_type": "markdown",
   "metadata": {
    "hidden": true
   },
   "source": [
    "## Jaccard Index"
   ]
  },
  {
   "cell_type": "markdown",
   "metadata": {
    "hidden": true
   },
   "source": [
    "The Jaccard index is a metric of similarity which can be calculated on a graph. In the context of words, this takes into account not only the number of times two words occur together, but also the overall degrees of each word."
   ]
  },
  {
   "cell_type": "code",
   "execution_count": null,
   "metadata": {
    "collapsed": true,
    "hidden": true
   },
   "outputs": [],
   "source": [
    "% First remove low-degree nodes, those will throw off the results\n",
    "w = Row(Adeg(realwords,:) > 2);\n",
    "Atest = Awords(:,w);\n",
    "Atest = Atest(w,:);\n",
    "\n",
    "J = Jaccard(Atest);\n",
    "\n",
    "J(['word|coffee' nl ],:)> 0.1"
   ]
  },
  {
   "cell_type": "markdown",
   "metadata": {},
   "source": [
    "# Database Setup"
   ]
  },
  {
   "cell_type": "markdown",
   "metadata": {},
   "source": [
    "Now we will bind to a database. Often we put these lines in a script called \"DBsetup\" and just run that.\n",
    "\n",
    "Be sure to edit this to include a unique name for your tables, this will prevent multiply people from running on the same tables."
   ]
  },
  {
   "cell_type": "code",
   "execution_count": null,
   "metadata": {},
   "outputs": [],
   "source": [
    "% Initialize DB connectors\n",
    "DBinit;\n",
    "\n",
    "% Connect to Database\n",
    "[DB,G] = DBsetupLLGrid('class-db01');\n",
    "\n",
    "% Specify a name to prevent collisions\n",
    "myName = 'my_tweets_';\n",
    "\n",
    "% Bind to tables\n",
    "Tedge = DB([myName 'Tedge'],[myName 'TedgeT']);\n",
    "TedgeDeg = DB([myName 'TedgeDeg']);\n",
    "TedgeTxt = DB([myName 'TedgeTxt']);"
   ]
  },
  {
   "cell_type": "markdown",
   "metadata": {},
   "source": [
    "Now we will ingest our data."
   ]
  },
  {
   "cell_type": "code",
   "execution_count": null,
   "metadata": {
    "scrolled": true
   },
   "outputs": [],
   "source": [
    "% Load .mat files containing data\n",
    "fname = 'tweets.mat';\n",
    "load(fname);\n",
    "\n",
    "% Insert into database\n",
    "A=NewSep(A,nl);\n",
    "put(Tedge,num2str(A));\n",
    "put(TedgeDeg,putCol(num2str(sum(A,1).'),['Degree' nl]));\n",
    "put(TedgeTxt,Atxt);"
   ]
  },
  {
   "cell_type": "markdown",
   "metadata": {
    "collapsed": true
   },
   "source": [
    "# Creating Adjacency Graphs"
   ]
  },
  {
   "cell_type": "markdown",
   "metadata": {},
   "source": [
    "We store our data in an incidence matrix form using the standard D4M Schema. In this way you have the flexibility to create adjacency matrices of individual graphs as you need them."
   ]
  },
  {
   "cell_type": "markdown",
   "metadata": {},
   "source": [
    "<img src=\"images/d4mschema.png\" alt=\"Drawing\" style=\"width: 800px;\"/>"
   ]
  },
  {
   "cell_type": "markdown",
   "metadata": {},
   "source": [
    "We can use Graphulo's table multiply to create our adjacency matrices. For our twitter data, we can create several that may be interesting. First let's get the column keys of the columns we may want to filter on, and get an idea of how many columns there are in each using the degree table. This information is important when deciding how to form your adjacency matrix."
   ]
  },
  {
   "cell_type": "code",
   "execution_count": null,
   "metadata": {
    "collapsed": true
   },
   "outputs": [],
   "source": [
    "# All words that start with a letter:\n",
    "realwords = ['word_lower|a' char(10) ':' char(10) 'word_lower|z' char(127) char(10)];\n",
    "disp(['There are ' num2str(nnz(TedgeDeg(realwords,:))) ' words that start with a letter.'])\n",
    "\n",
    "# All hashtags:\n",
    "hashtags = StartsWith(['word|#' char(10)]);\n",
    "disp(['There are ' num2str(nnz(TedgeDeg(hashtags,:))) ' hashtags.'])\n",
    "\n",
    "# Tweets @ someone:\n",
    "directedtweet = StartsWith(['word|@' char(10)]);\n",
    "disp(['There are ' num2str(nnz(TedgeDeg(directedtweet,:))) ' words that start with @.'])\n",
    "\n",
    "# Usenames:\n",
    "users = StartsWith(['user|' char(10)]);\n",
    "disp(['There are ' num2str(nnz(TedgeDeg(users,:))) ' usernames.'])\n",
    "\n",
    "# Locations:\n",
    "locs = StartsWith(['latlon|' char(10)]);\n",
    "disp(['There are ' num2str(nnz(TedgeDeg(locs,:))) ' locations.'])"
   ]
  },
  {
   "cell_type": "markdown",
   "metadata": {},
   "source": [
    "Now let's make a few graphs. A Graphulo Table Multiply is in terms of A\\*B. If you think of E as our incidence matrix, we can get an adjacency matrix by multiply E'\\*E, so A = E' and B = E. Since Graphulo requires the transpose of the \"A\" table to do the multiply, A' = (E')' = E."
   ]
  },
  {
   "cell_type": "markdown",
   "metadata": {},
   "source": [
    "First let's make a word-word graph. On the full dataset, this takes about 3-5 minutes, but the result is nearly a 1Mx1M graph with about 40M edges! Since this is a small subset, it only takes a few seconds."
   ]
  },
  {
   "cell_type": "code",
   "execution_count": null,
   "metadata": {
    "collapsed": true
   },
   "outputs": [],
   "source": [
    "% Set Parameters\n",
    "% Multiply in terms of A*B = C, so if we want to do A'*A, then AT is just A\n",
    "ATtable = [myName 'Tedge'];\n",
    "Btable = [myName 'Tedge'];\n",
    "Ctable = [myName 'word_graph'];\n",
    "rowFilter = '';\n",
    "colFilterAT = realwords;\n",
    "colFilterB = realwords;\n",
    "\n",
    "\n",
    "# Multiply Tables\n",
    "tic;\n",
    "numpp = G.TableMult(ATtable, Btable, Ctable, rowFilter, colFilterAT, colFilterB);\n",
    "toc;"
   ]
  },
  {
   "cell_type": "markdown",
   "metadata": {},
   "source": [
    "Maybe we want to see what hashtags are used together. Let's make a hashtag-hashtag graph. On the full dataset is much faster than the previous one and takes about a minute. On this subset it takes only a few seconds."
   ]
  },
  {
   "cell_type": "code",
   "execution_count": null,
   "metadata": {
    "collapsed": true
   },
   "outputs": [],
   "source": [
    "% Set Parameters\n",
    "% Multiply in terms of A*B = C, so if we want to do A'*B, then AT is just A\n",
    "ATtable = [myName 'Tedge'];\n",
    "Btable = [myName 'Tedge'];\n",
    "Ctable = [myName 'hashtag_graph'];\n",
    "rowFilter = '';\n",
    "colFilterAT = hashtags;\n",
    "colFilterB = hashtags;\n",
    "\n",
    "# Multiply Tables\n",
    "tic;\n",
    "numpp = G.TableMult(ATtable, Btable, Ctable, rowFilter, colFilterAT, colFilterB);\n",
    "toc;"
   ]
  },
  {
   "cell_type": "markdown",
   "metadata": {},
   "source": [
    "Let's make a directed graph that shows which users use which hashtags.\n",
    "\n",
    "If you are creating an adjacency matrix for a directed graph, you may want to create a transpose result graph as well, so you can query quickly for both in and out vetices (Accumulo is indexed by row key, so it is fastest to query rows). All previous graphs were symmetric so you don't need a transpose adjacency matrix.\n",
    "\n",
    "I have also found that you want to use the filter with the larger number of values as your colFilterB- it will allow the iterator to process more entries at a time when it scanning from your A and B tables.\n",
    "\n",
    "For example, the first time I created the user-hashtag graph on the full dataset I set colFilterAT as the \"user|\" prefix and colFilterB as the \"word|#\" prefix. I eventually killed the process because it was taking a very long time (see below). When I swapped them, it took about a minute."
   ]
  },
  {
   "cell_type": "markdown",
   "metadata": {},
   "source": [
    "<img src=\"images/graphulo-colfilters.png\" alt=\"Drawing\" style=\"width: 500px;\"/>"
   ]
  },
  {
   "cell_type": "markdown",
   "metadata": {},
   "source": [
    "Here is how you would multiply two tables and produce a transpose result matrix as well. Since you are calling a Java function, it is very picky about what inputs you use. I am just using the default values for the added parameters."
   ]
  },
  {
   "cell_type": "code",
   "execution_count": null,
   "metadata": {
    "collapsed": true
   },
   "outputs": [],
   "source": [
    "% Set Parameters\n",
    "% Multiply in terms of A*B = C, so if we want to do A'*B, then AT is just A\n",
    "ATtable = [myName 'Tedge'];\n",
    "Btable = [myName 'Tedge'];\n",
    "Ctable = [myName 'hashtag_user_graph'];\n",
    "CTtable = [myName 'user_hashtag_graph'];\n",
    "rowFilter = '';\n",
    "colFilterAT = hashtags;\n",
    "colFilterB = users;\n",
    "presumCacheSize = -1; % this is the default value\n",
    "numEntriesCheckpoint = -1; % this is the default value\n",
    "trace_param = true; % this is the default value\n",
    "\n",
    "# Multiply Tables\n",
    "tic;\n",
    "numpp = G.TableMult(ATtable, Btable, Ctable, CTtable, rowFilter, ...\n",
    "    colFilterAT, colFilterB, presumCacheSize, numEntriesCheckpoint, trace_param);\n",
    "toc;"
   ]
  },
  {
   "cell_type": "markdown",
   "metadata": {},
   "source": [
    "What if we want a graph that describes the users that use the same hashtags? That will take two steps. First create an adjacency matrix of users-hashtags by multiplying (we already created this in the previous example). Then, using the graph you have just made, multiplying again will create the graph you are looking for.\n",
    "\n",
    "Since we are multiplying the full table, we don't need to, we don't need to provide any filters."
   ]
  },
  {
   "cell_type": "code",
   "execution_count": null,
   "metadata": {
    "collapsed": true
   },
   "outputs": [],
   "source": [
    "% Set Parameters\n",
    "% Multiply in terms of A*B = C, so if we want to do A'*B, then AT is just A\n",
    "ATtable = [myName 'hashtag_user_graph'];\n",
    "Btable = [myName 'hashtag_user_graph'];\n",
    "Ctable = [myName 'user_graph'];\n",
    "\n",
    "# Multiply Tables\n",
    "tic;\n",
    "numpp = G.TableMult(ATtable, Btable, Ctable);\n",
    "toc;"
   ]
  },
  {
   "cell_type": "markdown",
   "metadata": {},
   "source": [
    "What other graphs can you create that might be interesting? Try making some now."
   ]
  },
  {
   "cell_type": "code",
   "execution_count": null,
   "metadata": {
    "collapsed": true
   },
   "outputs": [],
   "source": []
  },
  {
   "cell_type": "markdown",
   "metadata": {},
   "source": [
    "# Running Graph Algorithms"
   ]
  },
  {
   "cell_type": "markdown",
   "metadata": {},
   "source": [
    "## Degree-Filtered Breadth First Search"
   ]
  },
  {
   "cell_type": "markdown",
   "metadata": {},
   "source": [
    "Say you are interested in seeing people that talk about similar things. You may have a handful of target individuals (maybe selected because they talk a lot about a topic), and want to get their 2-hop neighbors. You could do this by running breadth first search (BFS) on those individuals on the graph we generated above."
   ]
  },
  {
   "cell_type": "markdown",
   "metadata": {},
   "source": [
    "Since we are doing degree filtering, we'll first generate a degree table."
   ]
  },
  {
   "cell_type": "code",
   "execution_count": null,
   "metadata": {
    "collapsed": true
   },
   "outputs": [],
   "source": [
    "% Create Degree Table to Degree Filtering\n",
    "Atable=[myName 'user_graph'];\n",
    "ADegtable=[Atable '_Deg'];\n",
    "countColumns = true; % true counts the columns, false sums the weights\n",
    "G.generateDegreeTable(Atable, ADegtable, countColumns);"
   ]
  },
  {
   "cell_type": "markdown",
   "metadata": {},
   "source": [
    "Now we can run BFS. I picked two users mostly at random as our starting vertices."
   ]
  },
  {
   "cell_type": "code",
   "execution_count": null,
   "metadata": {
    "collapsed": true,
    "scrolled": true
   },
   "outputs": [],
   "source": [
    "users = 'user|smilevvsmilevv,user|OrenTsur,user|viiocious,';\n",
    "\n",
    "%% Run Breadth First Search on Adjancency Schema\n",
    "k=2; % Number of steps\n",
    "minDegree=5;\n",
    "maxDegree=20;\n",
    "v0 = users;\n",
    "Atable=[myName 'user_graph'];\n",
    "\n",
    "% Set results table\n",
    "Rtable=[Atable '_BFS'];\n",
    "TadjBFS = DB(Rtable);\n",
    "if nnz(TadjBFS)\n",
    "    deleteForce(TadjBFS);\n",
    "    TadjBFS = DB(Rtable);\n",
    "end\n",
    "\n",
    "% Other BFS Params\n",
    "RtableTranspose=[Rtable 'T'];\n",
    "ADegtable=[Atable '_Deg'];\n",
    "degColumn='';\n",
    "degInColQ=false;\n",
    "\n",
    "% Do BFS\n",
    "v = G.AdjBFS(Atable, v0, k, Rtable, RtableTranspose, ADegtable, degColumn, degInColQ, minDegree, maxDegree);\n",
    "\n",
    "% Vertices reached in 3 hops from specified users\n",
    "disp([char(10) 'Vertices reached in ' num2str(k) ' hops from ' strrep(v0(1:end-1),char(10),', ') ':'])\n",
    "strrep(v(1:end-1),char(10),', ')"
   ]
  },
  {
   "cell_type": "markdown",
   "metadata": {},
   "source": [
    "How do your results change if you change the min and max degrees?"
   ]
  },
  {
   "cell_type": "markdown",
   "metadata": {},
   "source": [
    "## Jaccard Index"
   ]
  },
  {
   "cell_type": "markdown",
   "metadata": {},
   "source": [
    "Our user-user graph says a bit about how similar users are, by saying how many hashtags they have in common. The Jaccard index is another metric for saying how similar two users may be, scaled by their overall popularity, how many other users they are similar to.\n",
    "\n",
    "We can run Jaccard on the entire user-user graph in the database using Graphulo.\n",
    "\n"
   ]
  },
  {
   "cell_type": "code",
   "execution_count": null,
   "metadata": {
    "collapsed": true
   },
   "outputs": [],
   "source": [
    "% Set Params\n",
    "Atable=[myName 'user_graph'];\n",
    "ADegtable=[Atable '_Deg'];\n",
    "Rfinal=[Atable '_Jaccard'];\n",
    "filterRowCol=[];\n",
    "Aauthorizations=[];\n",
    "RNewVisibility=[];\n",
    "\n",
    "% Set up Results Table\n",
    "TadjJaccard = DB(Rfinal);\n",
    "if nnz(TadjJaccard)\n",
    "    deleteForce(TadjJaccard);\n",
    "    TadjJaccard = DB(Rfinal);\n",
    "end\n",
    "\n",
    "% Do Jaccard\n",
    "tic;\n",
    "G.Jaccard(Atable, ADegtable, Rfinal, filterRowCol, Aauthorizations, RNewVisibility);\n",
    "toc;\n",
    "\n",
    "% Jaccard Coefficients\n",
    "disp(char(10))\n",
    "disp('Some Jaccard Coefficients')\n",
    "userDeg=DB(ADegtable);\n",
    "users = str2num(userDeg(:,:));\n",
    "u = Row((users > 5) < 20);\n",
    "J = str2num(TadjJaccard(u,:));\n",
    "displayFull(NewSep(J(:,ceil(rand(3,1).*size(J,2))),','))"
   ]
  },
  {
   "cell_type": "markdown",
   "metadata": {},
   "source": [
    "Try running Jaccard on the word-word graph. Do you find anything interesting?"
   ]
  },
  {
   "cell_type": "code",
   "execution_count": null,
   "metadata": {
    "collapsed": true
   },
   "outputs": [],
   "source": []
  },
  {
   "cell_type": "markdown",
   "metadata": {},
   "source": [
    "## Topic Modeling"
   ]
  },
  {
   "cell_type": "markdown",
   "metadata": {},
   "source": [
    "Those users we found in our BFS example earlier, what do they talk about? We can run NMF to do some topic modeling.\n",
    "\n",
    "Since NMF runs on an Incidence matrix, we need to first filter our original Edge table down to the tweets written by our users of interest. The first step to doing this is running BFS on the incidence matrix. This will give us the rows of Tedge that correspond to those users. Then we can filter out just the words by using the Graphulo OneTable function."
   ]
  },
  {
   "cell_type": "markdown",
   "metadata": {},
   "source": [
    "First we run BFS (unfortunately calling BFS on the EdgeTable is a little messy):"
   ]
  },
  {
   "cell_type": "code",
   "execution_count": null,
   "metadata": {
    "collapsed": true
   },
   "outputs": [],
   "source": [
    "%% Run Breadth First Search on Incidence Schema\n",
    "k=1; % Number of steps\n",
    "minDegree=0;\n",
    "maxDegree=javaObject(\"java.lang.Integer\",0).MAX_VALUE;\n",
    "v0 = v;\n",
    "Etable=[myName 'Tedge'];\n",
    "\n",
    "% Set results table\n",
    "Rtable=[Etable '_BFS'];\n",
    "TadjBFS = DB(Rtable);\n",
    "if nnz(TadjBFS)\n",
    "    deleteForce(TadjBFS);\n",
    "    TadjBFS = DB(Rtable);\n",
    "end\n",
    "\n",
    "% Other BFS Params\n",
    "RTtable=[Rtable 'T'];\n",
    "ETDegtable=[Etable 'Deg'];\n",
    "startPrefixes=',';\n",
    "endPrefixes=',';\n",
    "degColumn='';\n",
    "degInColQ=false;\n",
    "plusOp=[];\n",
    "EScanIteratorPriority=-1;\n",
    "Eauthorizations=[];\n",
    "EDegauthorizations=[];\n",
    "newVisibility=[];\n",
    "useNewTimestamp=true;\n",
    "outputUnion=true;\n",
    "numEntriesWritten=[];\n",
    "\n",
    "% Do BFS\n",
    "vGraphulo = G.EdgeBFS(Etable, v0, k, Rtable, RTtable, startPrefixes, endPrefixes,...\n",
    "    ETDegtable, degColumn, degInColQ, minDegree, maxDegree,...\n",
    "    plusOp, EScanIteratorPriority, Eauthorizations, EDegauthorizations, newVisibility,...\n",
    "    useNewTimestamp, outputUnion, numEntriesWritten);"
   ]
  },
  {
   "cell_type": "markdown",
   "metadata": {},
   "source": [
    "Then we can filter out the words:"
   ]
  },
  {
   "cell_type": "code",
   "execution_count": null,
   "metadata": {
    "collapsed": true
   },
   "outputs": [],
   "source": [
    "% Filter to just words\n",
    "Atable = [Etable '_BFS'];\n",
    "Rtable = [myName 'Tedge_filtered'];\n",
    "RTtable = [myName 'Tedge_filteredT'];\n",
    "clientResultMap = [];\n",
    "AScanIteratorPriority = -1;\n",
    "reducer = [];\n",
    "reducerOpts = [];\n",
    "plusOp = [];\n",
    "rowFilter = '';\n",
    "colFilter = realwords;\n",
    "midIterator = [];\n",
    "bs = [];\n",
    "authorizations = [];\n",
    "\n",
    "G.OneTable(Atable, Rtable, RTtable, clientResultMap, AScanIteratorPriority, reducer,...\n",
    "    reducerOpts, plusOp, rowFilter, colFilter, midIterator, bs, authorizations)"
   ]
  },
  {
   "cell_type": "markdown",
   "metadata": {},
   "source": [
    "Finally we can run NMF:"
   ]
  },
  {
   "cell_type": "code",
   "execution_count": null,
   "metadata": {
    "collapsed": true,
    "scrolled": true
   },
   "outputs": [],
   "source": [
    "%% NMF on Incidence/Edge Schema\n",
    "% Note: takes some time to run\n",
    "\n",
    "% Set results table\n",
    "tname_W=[myName 'word' '_NMF_W'];\n",
    "TedgeNMF_W = DB(tname_W,[tname_W 'T']);\n",
    "if nnz(TedgeNMF_W)\n",
    "    deleteForce(TedgeNMF_W);\n",
    "    TedgeNMF_W = DB(tname_W,[tname_W 'T']);\n",
    "end\n",
    "tname_H=[myName 'word' '_NMF_H'];\n",
    "TedgeNMF_H = DB(tname_H,[tname_H 'T']);\n",
    "if nnz(TedgeNMF_H)\n",
    "    deleteForce(TedgeNMF_H);\n",
    "    TedgeNMF_H = DB(tname_H,[tname_H 'T']);\n",
    "end\n",
    "\n",
    "% Set Params\n",
    "Aorig=[myName 'Tedge_filtered'];\n",
    "ATorig=[myName 'Tedge_filteredT'];\n",
    "Wfinal= tname_W;\n",
    "WTfinal= [tname_W 'T'];\n",
    "Hfinal= tname_H;\n",
    "HTfinal= [tname_H 'T'];\n",
    "k=3; % Number of topics\n",
    "maxiter=10; % Maximum number of iterations\n",
    "forceDelete=true;\n",
    "cutoffThreshold=0;\n",
    "maxColsPerTopic=0;\n",
    "\n",
    "% Do NMF\n",
    "G.NMF(Aorig, ATorig, Wfinal, WTfinal, Hfinal, HTfinal, k, maxiter,...\n",
    "    forceDelete, cutoffThreshold, maxColsPerTopic);\n",
    "    \n",
    "% NMF Results\n",
    "disp('Edge Assignments (W)')\n",
    "W = Abs0(TopColPerRow(str2num(TedgeNMF_W(:,:)),1));\n",
    "\n",
    "disp('Vertex Assignments (H)')\n",
    "H = Abs0(TopColPerRow(str2num(TedgeNMF_H(:,:)),1));"
   ]
  },
  {
   "cell_type": "markdown",
   "metadata": {},
   "source": [
    "Here are the full text of the tweets that were grouped into topics. The first one in particular is talking about a presidential nomination."
   ]
  },
  {
   "cell_type": "code",
   "execution_count": null,
   "metadata": {
    "collapsed": true
   },
   "outputs": [],
   "source": [
    "disp('Topic 1:')\n",
    "TedgeTxt(Row(W(:,1)),:)\n",
    "disp('')\n",
    "disp('Topic 2:')\n",
    "TedgeTxt(Row(W(:,2)),:)\n",
    "disp('')\n",
    "disp('Topic 3:')\n",
    "TedgeTxt(Row(W(:,3)),:)"
   ]
  },
  {
   "cell_type": "markdown",
   "metadata": {},
   "source": [
    "Here are a few of the top words in each topic:"
   ]
  },
  {
   "cell_type": "code",
   "execution_count": null,
   "metadata": {
    "collapsed": true
   },
   "outputs": [],
   "source": [
    "disp('Topic 1:')\n",
    "str2num(TedgeNMF_H('1,',:))> 0.15\n",
    "disp('')\n",
    "disp('Topic 2:')\n",
    "str2num(TedgeNMF_H('2,',:))> 0.15\n",
    "disp('')\n",
    "disp('Topic 3:')\n",
    "str2num(TedgeNMF_H('3,',:))> 0.15"
   ]
  },
  {
   "cell_type": "markdown",
   "metadata": {},
   "source": [
    "It's a bit hard to see if this makes any sense, since it's not in English. Using Google Translate or similar, we can see that at least the first two could make sense:"
   ]
  },
  {
   "cell_type": "markdown",
   "metadata": {},
   "source": [
    "<img src=\"images/topic1.png\" alt=\"Drawing\" style=\"width: 700px;\"/>\n",
    "<img src=\"images/topic2.png\" alt=\"Drawing\" style=\"width: 700px;\"/>\n",
    "<img src=\"images/topic3.png\" alt=\"Drawing\" style=\"width: 700px;\"/>"
   ]
  },
  {
   "cell_type": "markdown",
   "metadata": {},
   "source": [
    "Topic modeling tends to be fairly sensitive to the number of topics. Try varying k above and see how the resutls change. You can use Google Translate to see what the tweets are saying, to some degree. You can also try varying the maximum number of iterations."
   ]
  },
  {
   "cell_type": "markdown",
   "metadata": {
    "heading_collapsed": true
   },
   "source": [
    "# Deleting your Tables"
   ]
  },
  {
   "cell_type": "markdown",
   "metadata": {
    "hidden": true
   },
   "source": [
    "If you want to start over, you can run this to delete your tables. It will ask you whether you want to delete each table."
   ]
  },
  {
   "cell_type": "code",
   "execution_count": null,
   "metadata": {
    "collapsed": true,
    "hidden": true
   },
   "outputs": [],
   "source": [
    "tbls = strsplit(ls(DB),' ');\n",
    "\n",
    "for i = 1:length(tbls)\n",
    "    if strfind(tbls{i},myName)\n",
    "        deleteForce(DB(tbls{i}));\n",
    "    end\n",
    "end"
   ]
  }
 ],
 "metadata": {
  "kernelspec": {
   "display_name": "Octave",
   "language": "octave",
   "name": "octave"
  },
  "language_info": {
   "file_extension": ".m",
   "help_links": [
    {
     "text": "GNU Octave",
     "url": "https://www.gnu.org/software/octave/support.html"
    },
    {
     "text": "Octave Kernel",
     "url": "https://github.com/Calysto/octave_kernel"
    },
    {
     "text": "MetaKernel Magics",
     "url": "https://github.com/calysto/metakernel/blob/master/metakernel/magics/README.md"
    }
   ],
   "mimetype": "text/x-octave",
   "name": "octave",
   "version": "4.2.1"
  },
  "latex_envs": {
   "LaTeX_envs_menu_present": true,
   "autoclose": false,
   "autocomplete": true,
   "bibliofile": "biblio.bib",
   "cite_by": "apalike",
   "current_citInitial": 1,
   "eqLabelWithNumbers": true,
   "eqNumInitial": 1,
   "hotkeys": {
    "equation": "Ctrl-E",
    "itemize": "Ctrl-I"
   },
   "labels_anchors": false,
   "latex_user_defs": false,
   "report_style_numbering": false,
   "user_envs_cfg": false
  },
  "toc": {
   "base_numbering": 1,
   "nav_menu": {},
   "number_sections": true,
   "sideBar": true,
   "skip_h1_title": false,
   "title_cell": "Table of Contents",
   "title_sidebar": "Contents",
   "toc_cell": false,
   "toc_position": {},
   "toc_section_display": "block",
   "toc_window_display": false
  },
  "varInspector": {
   "cols": {
    "lenName": 16,
    "lenType": 16,
    "lenVar": 40
   },
   "kernels_config": {
    "python": {
     "delete_cmd_postfix": "",
     "delete_cmd_prefix": "del ",
     "library": "var_list.py",
     "varRefreshCmd": "print(var_dic_list())"
    },
    "r": {
     "delete_cmd_postfix": ") ",
     "delete_cmd_prefix": "rm(",
     "library": "var_list.r",
     "varRefreshCmd": "cat(var_dic_list()) "
    }
   },
   "types_to_exclude": [
    "module",
    "function",
    "builtin_function_or_method",
    "instance",
    "_Feature"
   ],
   "window_display": false
  }
 },
 "nbformat": 4,
 "nbformat_minor": 2
}
