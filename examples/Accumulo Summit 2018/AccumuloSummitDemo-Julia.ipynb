{
 "cells": [
  {
   "cell_type": "markdown",
   "metadata": {},
   "source": [
    "# Loading D4M"
   ]
  },
  {
   "cell_type": "markdown",
   "metadata": {},
   "source": [
    "You can install D4M.jl by cloning git repo linked to at http://d4m.mit.edu/download and executing `Pkg.clone(\"https://github.com/Accla/D4M.jl.git\")` in the Julia REPL. To load the D4M package, execute the following command:"
   ]
  },
  {
   "cell_type": "code",
   "execution_count": 28,
   "metadata": {},
   "outputs": [],
   "source": [
    "using D4M,JLD"
   ]
  },
  {
   "cell_type": "markdown",
   "metadata": {},
   "source": [
    "D4M is a package for working with Associative Arrays. An Associative Array is a bit like a sparse matrix, but the rows, columns, and values can be either numbers or strings. Here we demonstrate its database connection capabilities."
   ]
  },
  {
   "cell_type": "markdown",
   "metadata": {},
   "source": [
    "# Connecting to Accumulo"
   ]
  },
  {
   "cell_type": "markdown",
   "metadata": {},
   "source": [
    "Now we will bind to a database. We can make a call to the `dbsetup()` function. On our system, you only need to specify the instance name, otherwise you can provide a config file with the instance name, zookeeper hostname, username, and password.\n",
    "\n",
    "This will return a `DBserver` struct, which contains all the connection information for Accumulo."
   ]
  },
  {
   "cell_type": "code",
   "execution_count": 29,
   "metadata": {},
   "outputs": [
    {
     "name": "stdout",
     "output_type": "stream",
     "text": [
      "15 Oct 2018 15:05:29,084 WARN - ClientConfiguration.loadFromSearchPath(227) -  Found no client.conf in default paths. Using default client configuration values.\n"
     ]
    },
    {
     "data": {
      "text/plain": [
       "DBserver(\"class-db01\", \"class-db01.cloud.llgrid.txe1.mit.edu:2181\", \"AccumuloUser\", \"QzKxsa-6h-Odz%zsEuWs@L78p\", \"BigTableLike\", JavaCall.JavaObject{Symbol(\"edu.mit.ll.graphulo.MatlabGraphulo\")}(Ptr{Void} @0x0000000004c953a0))"
      ]
     },
     "execution_count": 29,
     "metadata": {},
     "output_type": "execute_result"
    }
   ],
   "source": [
    "DB = dbsetup(\"class-db01\")"
   ]
  },
  {
   "cell_type": "markdown",
   "metadata": {},
   "source": [
    "You can get a list of the tables in the database by calling `ls`."
   ]
  },
  {
   "cell_type": "code",
   "execution_count": 30,
   "metadata": {},
   "outputs": [
    {
     "data": {
      "text/plain": [
       "4-element Array{SubString{String},1}:\n",
       " \"accumulo.metadata\"   \n",
       " \"accumulo.replication\"\n",
       " \"accumulo.root\"       \n",
       " \"trace\"               "
      ]
     },
     "execution_count": 30,
     "metadata": {},
     "output_type": "execute_result"
    }
   ],
   "source": [
    "ls(DB)"
   ]
  },
  {
   "cell_type": "markdown",
   "metadata": {},
   "source": [
    "Once you have the `DBserver` struct, you can create a new table or connect to an existing table:"
   ]
  },
  {
   "cell_type": "code",
   "execution_count": 31,
   "metadata": {
    "scrolled": true
   },
   "outputs": [
    {
     "name": "stdout",
     "output_type": "stream",
     "text": [
      "Creating mytable_Tedge in class-db01\n",
      "Creating mytable_TedgeT in class-db01\n",
      "Creating mytable_TedgeDeg in class-db01\n",
      "Creating table_to_delete in class-db01\n"
     ]
    },
    {
     "data": {
      "text/plain": [
       "8-element Array{SubString{String},1}:\n",
       " \"accumulo.metadata\"   \n",
       " \"accumulo.replication\"\n",
       " \"accumulo.root\"       \n",
       " \"mytable_Tedge\"       \n",
       " \"mytable_TedgeDeg\"    \n",
       " \"mytable_TedgeT\"      \n",
       " \"table_to_delete\"     \n",
       " \"trace\"               "
      ]
     },
     "execution_count": 31,
     "metadata": {},
     "output_type": "execute_result"
    }
   ],
   "source": [
    "Tedge = DB[\"mytable_Tedge\",\"mytable_TedgeT\"]\n",
    "TedgeDeg = DB[\"mytable_TedgeDeg\"]\n",
    "dtable = DB[\"table_to_delete\"]\n",
    "\n",
    "ls(DB)"
   ]
  },
  {
   "cell_type": "markdown",
   "metadata": {},
   "source": [
    "You can delete tables just as easily."
   ]
  },
  {
   "cell_type": "code",
   "execution_count": 32,
   "metadata": {},
   "outputs": [
    {
     "data": {
      "text/plain": [
       "7-element Array{SubString{String},1}:\n",
       " \"accumulo.metadata\"   \n",
       " \"accumulo.replication\"\n",
       " \"accumulo.root\"       \n",
       " \"mytable_Tedge\"       \n",
       " \"mytable_TedgeDeg\"    \n",
       " \"mytable_TedgeT\"      \n",
       " \"trace\"               "
      ]
     },
     "execution_count": 32,
     "metadata": {},
     "output_type": "execute_result"
    }
   ],
   "source": [
    "delete(dtable)\n",
    "ls(DB)"
   ]
  },
  {
   "cell_type": "markdown",
   "metadata": {},
   "source": [
    "# Inserting Data"
   ]
  },
  {
   "cell_type": "markdown",
   "metadata": {},
   "source": [
    "Let's insert some data. These files contain pre-parsed Associative Arrays from the tracking logs of the OpenEdx course platform. "
   ]
  },
  {
   "cell_type": "code",
   "execution_count": 33,
   "metadata": {},
   "outputs": [
    {
     "name": "stdout",
     "output_type": "stream",
     "text": [
      "(20170916-1505593021_0090,context_course_id|course-v1:edX+DemoX+Demo_Course)\t1.0\n",
      "(20170916-1505593021_0090,context_org_id|edX)\t1.0\n",
      "(20170916-1505593021_0090,context_path|/event)\t1.0\n",
      "(20170916-1505593021_0090,context_user_id|6)\t1.0\n",
      "(20170916-1505593021_0090,course_loc|002.002)\t1.0\n",
      "(20170916-1505593021_0090,event_source|browser)\t1.0\n",
      "(20170916-1505593021_0090,event_type|problem_graded)\t1.0\n",
      "(20170916-1505593021_0090,host|bwedx.mit.edu)\t1.0\n",
      "(20170916-1505593021_0090,ip|129.55.200.20)\t1.0\n",
      "(20170916-1505593021_0090,module_name|Example Week 1: Getting Started)\t1.0\n",
      "(20170916-1505593021_0090,name|problem_graded)\t1.0\n",
      "(20170916-1505593021_0090,page|https://bwedx.mit.edu/courses/course-v1:edX+DemoX+Demo_Course/courseware/interactive_demonstrations/basic_questions/?child=first)\t1.0\n",
      "(20170916-1505593021_0090,referer|https://bwedx.mit.edu/courses/course-v1:edX+DemoX+Demo_Course/courseware/interactive_demonstrations/basic_questions/?child=first)\t1.0\n",
      "(20170916-1505593021_0090,section_name|Homework - Question Styles)\t1.0\n",
      "(20170916-1505593021_0090,session|29b2185d1bb72c81d87a915acfddeb96)\t1.0\n",
      "(20170916-1505593021_0090,time|2017-09-15T16:27:31.635069+00:00)\t1.0\n",
      "(20170916-1505593021_0090,username|mhoule)\t1.0\n"
     ]
    }
   ],
   "source": [
    "fnames = \"data/\".*filter!(r\".jld\",readdir(\"data\"))\n",
    "\n",
    "A = Assoc(\"\",\"\",\"\")\n",
    "\n",
    "for f in fnames\n",
    "    A = A + load(f)[\"A\"]\n",
    "end\n",
    "\n",
    "printTriple(A[100,:])"
   ]
  },
  {
   "cell_type": "markdown",
   "metadata": {},
   "source": [
    "To insert the Associative Array into Accumulo, we just call `put`. This will also populate the transpose table of the table pair `Tedge`."
   ]
  },
  {
   "cell_type": "code",
   "execution_count": 34,
   "metadata": {},
   "outputs": [
    {
     "data": {
      "text/plain": [
       "56026"
      ]
     },
     "execution_count": 34,
     "metadata": {},
     "output_type": "execute_result"
    }
   ],
   "source": [
    "put(Tedge,A)\n",
    "put(TedgeDeg,sum(A,1)')\n",
    "nnz(Tedge)"
   ]
  },
  {
   "cell_type": "markdown",
   "metadata": {},
   "source": [
    "# Querying Data"
   ]
  },
  {
   "cell_type": "markdown",
   "metadata": {},
   "source": [
    "Now that we have data, we can run queries. We can run both row and column queries. By default, a column query on a table pair will query the transpose table, so a column query on a table pair is just as fast as a row query."
   ]
  },
  {
   "cell_type": "code",
   "execution_count": 37,
   "metadata": {},
   "outputs": [
    {
     "name": "stdout",
     "output_type": "stream",
     "text": [
      "  0.025368 seconds (1.88 k allocations: 104.813 KiB)\n",
      "  0.025282 seconds (3.45 k allocations: 211.141 KiB)\n",
      "(1, 17)\n",
      "(125, 1)\n"
     ]
    }
   ],
   "source": [
    "@time rowQ = Tedge[\"20170916-1505593021_0090,\",:]\n",
    "@time colQ = Tedge[:,\"event_type|problem_graded,\"]\n",
    "\n",
    "println(size(rowQ))\n",
    "println(size(colQ))"
   ]
  },
  {
   "cell_type": "markdown",
   "metadata": {},
   "source": [
    "You can also query multiple keys at once, do range queries, and prefix queries:"
   ]
  },
  {
   "cell_type": "code",
   "execution_count": 38,
   "metadata": {},
   "outputs": [
    {
     "name": "stdout",
     "output_type": "stream",
     "text": [
      "Query for rows 20170916-1505593021_0090 and 20170911-1505128621_0001:\n",
      "Union{AbstractString, Number}[\"20170911-1505128621_0001\", \"20170916-1505593021_0090\"]\n",
      "\n",
      "Query for rows 20170911-1505128621_0001 through 20170911-1505128621_0005:\n",
      "Union{AbstractString, Number}[\"20170911-1505128621_0001\", \"20170911-1505128621_0002\", \"20170911-1505128621_0003\", \"20170911-1505128621_0004\", \"20170911-1505128621_0005\"]\n",
      "\n",
      "Query for columns that start with module_name|:\n",
      "Union{AbstractString, Number}[\"module_name|Build Instructions\", \"module_name|Doppler Processing\", \"module_name|Example Week 1: Getting Started\", \"module_name|Final\", \"module_name|Introduction\", \"module_name|Introduction to High Performance Scientific Computing\", \"module_name|Introduction to the LLSC Systems\", \"module_name|Overview\", \"module_name|Resources\", \"module_name|Submitting, Monitoring, and Stopping Jobs\", \"module_name|TX-E1 Basics\", \"module_name|The Analyst Challenge\", \"module_name|The Data Challenge\", \"module_name|The System Challenge\", \"module_name|Use Case 2: MapReduce\", \"module_name|Use Case 4: Parallel Computing\", \"module_name|Use Case 5: Databases and Data Analytics\", \"module_name|Using the LLSC Systems\", \"module_name|Welcome\"]\n"
     ]
    }
   ],
   "source": [
    "twokeys = Tedge[\"20170916-1505593021_0090,20170911-1505128621_0001,\",:]\n",
    "rangeQ = Tedge[\"20170911-1505128621_0001,:,20170911-1505128621_0005,\",:]\n",
    "prefixQ = Tedge[:,StartsWith(\"module_name|\")]\n",
    "\n",
    "println(\"Query for rows 20170916-1505593021_0090 and 20170911-1505128621_0001:\")\n",
    "println(Row(twokeys))\n",
    "println(\"\\nQuery for rows 20170911-1505128621_0001 through 20170911-1505128621_0005:\")\n",
    "println(Row(rangeQ))\n",
    "println(\"\\nQuery for columns that start with module_name|:\")\n",
    "println(Col(prefixQ))"
   ]
  },
  {
   "cell_type": "markdown",
   "metadata": {
    "heading_collapsed": true
   },
   "source": [
    "# Cleanup"
   ]
  },
  {
   "cell_type": "markdown",
   "metadata": {
    "hidden": true
   },
   "source": [
    "Again, to delete tables, just call `delete`:"
   ]
  },
  {
   "cell_type": "code",
   "execution_count": 27,
   "metadata": {
    "hidden": true
   },
   "outputs": [],
   "source": [
    "delete(Tedge)\n",
    "delete(TedgeDeg)"
   ]
  },
  {
   "cell_type": "code",
   "execution_count": null,
   "metadata": {
    "hidden": true
   },
   "outputs": [],
   "source": []
  }
 ],
 "metadata": {
  "kernelspec": {
   "display_name": "Julia 1.0.4",
   "language": "julia",
   "name": "julia-1.0"
  },
  "language_info": {
   "file_extension": ".jl",
   "mimetype": "application/julia",
   "name": "julia",
   "version": "1.0.4"
  },
  "latex_envs": {
   "LaTeX_envs_menu_present": true,
   "autoclose": false,
   "autocomplete": true,
   "bibliofile": "biblio.bib",
   "cite_by": "apalike",
   "current_citInitial": 1,
   "eqLabelWithNumbers": true,
   "eqNumInitial": 1,
   "hotkeys": {
    "equation": "Ctrl-E",
    "itemize": "Ctrl-I"
   },
   "labels_anchors": false,
   "latex_user_defs": false,
   "report_style_numbering": false,
   "user_envs_cfg": false
  },
  "toc": {
   "base_numbering": 1,
   "nav_menu": {},
   "number_sections": true,
   "sideBar": true,
   "skip_h1_title": false,
   "title_cell": "Table of Contents",
   "title_sidebar": "Contents",
   "toc_cell": false,
   "toc_position": {},
   "toc_section_display": true,
   "toc_window_display": false
  }
 },
 "nbformat": 4,
 "nbformat_minor": 2
}
