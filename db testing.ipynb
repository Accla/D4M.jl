{
 "cells": [
  {
   "cell_type": "code",
   "execution_count": 1,
   "metadata": {},
   "outputs": [],
   "source": [
    "using D4M"
   ]
  },
  {
   "cell_type": "code",
   "execution_count": 2,
   "metadata": {},
   "outputs": [
    {
     "data": {
      "text/plain": [
       "getsplits (generic function with 1 method)"
      ]
     },
     "execution_count": 2,
     "metadata": {},
     "output_type": "execute_result"
    }
   ],
   "source": [
    "include(\"src/DBserver.jl\")\n",
    "include(\"src/DBtable.jl\")"
   ]
  },
  {
   "cell_type": "code",
   "execution_count": 3,
   "metadata": {},
   "outputs": [],
   "source": [
    "dbinit()"
   ]
  },
  {
   "cell_type": "code",
   "execution_count": 7,
   "metadata": {},
   "outputs": [
    {
     "ename": "MethodError",
     "evalue": "MethodError: no method matching dbsetup()\nClosest candidates are:\n  dbsetup(!Matched::Any) at C:\\Users\\n8kim\\Desktop\\Nathan's Folder\\School\\1819\\UROP\\D4M.jl\\src\\DBserver.jl:44\n  dbsetup(!Matched::Any, !Matched::Any) at C:\\Users\\n8kim\\Desktop\\Nathan's Folder\\School\\1819\\UROP\\D4M.jl\\src\\DBserver.jl:44",
     "output_type": "error",
     "traceback": [
      "MethodError: no method matching dbsetup()\nClosest candidates are:\n  dbsetup(!Matched::Any) at C:\\Users\\n8kim\\Desktop\\Nathan's Folder\\School\\1819\\UROP\\D4M.jl\\src\\DBserver.jl:44\n  dbsetup(!Matched::Any, !Matched::Any) at C:\\Users\\n8kim\\Desktop\\Nathan's Folder\\School\\1819\\UROP\\D4M.jl\\src\\DBserver.jl:44",
      "",
      "Stacktrace:",
      " [1] top-level scope at In[7]:1"
     ]
    }
   ],
   "source": [
    "dbsetup()"
   ]
  },
  {
   "cell_type": "code",
   "execution_count": null,
   "metadata": {},
   "outputs": [],
   "source": []
  }
 ],
 "metadata": {
  "kernelspec": {
   "display_name": "Julia 1.0.0",
   "language": "julia",
   "name": "julia-1.0"
  },
  "language_info": {
   "file_extension": ".jl",
   "mimetype": "application/julia",
   "name": "julia",
   "version": "1.0.0"
  }
 },
 "nbformat": 4,
 "nbformat_minor": 2
}
