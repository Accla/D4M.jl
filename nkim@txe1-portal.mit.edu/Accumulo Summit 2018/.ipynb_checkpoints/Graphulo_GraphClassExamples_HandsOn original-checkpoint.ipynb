{
 "cells": [
  {
   "cell_type": "markdown",
   "metadata": {
    "heading_collapsed": true
   },
   "source": [
    "# D4M Warmup"
   ]
  },
  {
   "cell_type": "markdown",
   "metadata": {
    "hidden": true
   },
   "source": [
    "To use D4M, D4M needs to be on your path. In most environemnts on the LLSC systems D4M will already be on your path, however in this specific case (an Octave kernel in Jupyter) it sometimes is not."
   ]
  },
  {
   "cell_type": "code",
   "execution_count": 1,
   "metadata": {},
   "outputs": [],
   "source": [
    "using D4M"
   ]
  },
  {
   "cell_type": "markdown",
   "metadata": {
    "hidden": true
   },
   "source": [
    "D4M is a package for working with Associative Arrays. An Associative Array is a bit like a sparse matrix, but the rows, columns, and values can be either numbers or strings."
   ]
  },
  {
   "cell_type": "code",
   "execution_count": 34,
   "metadata": {
    "hidden": true
   },
   "outputs": [
    {
     "data": {
      "text/plain": [
       "7×7 Array{Union{AbstractString, Number},2}:\n",
       " \"\"     \"a\"      \"aa\"     \"aaa\"      \"b\"    \"bb\"     \"bbb\"    \n",
       " \"a\"    \"a-a\"    \"a-aa\"   \"a-aaa\"    \"a-b\"  \"a-bb\"   \"a-bbb\"  \n",
       " \"aa\"   \"aa-a\"   \"aa-aa\"  \"\"         \"\"     \"\"       \"\"       \n",
       " \"aaa\"  \"aaa-a\"  \"\"       \"aaa-aaa\"  \"\"     \"\"       \"\"       \n",
       " \"b\"    \"b-a\"    \"\"       \"\"         \"b-b\"  \"\"       \"\"       \n",
       " \"bb\"   \"bb-a\"   \"\"       \"\"         \"\"     \"bb-bb\"  \"\"       \n",
       " \"bbb\"  \"bbb-a\"  \"\"       \"\"         \"\"     \"\"       \"bbb-bbb\""
      ]
     },
     "metadata": {},
     "output_type": "display_data"
    },
    {
     "data": {
      "text/plain": [
       "7×7 Array{Union{AbstractString, Number},2}:\n",
       " \"\"      \"a\"   \"aa\"   \"aaa\"   \"b\"   \"bb\"   \"bbb\"\n",
       " \"a\"    1     1      1       1     1      1     \n",
       " \"aa\"   1     1      0       0     0      0     \n",
       " \"aaa\"  1     0      1       0     0      0     \n",
       " \"b\"    1     0      0       1     0      0     \n",
       " \"bb\"   1     0      0       0     1      0     \n",
       " \"bbb\"  1     0      0       0     0      1     "
      ]
     },
     "metadata": {},
     "output_type": "display_data"
    }
   ],
   "source": [
    "row = \"a,a,a,a,a,a,a,aa,aaa,b,bb,bbb,a,aa,aaa,b,bb,bbb,\"\n",
    "column = \"a,aa,aaa,b,bb,bbb,a,a,a,a,a,a,a,aa,aaa,b,bb,bbb,\"\n",
    "values = \"a-a,a-aa,a-aaa,a-b,a-bb,a-bbb,a-a,aa-a,aaa-a,b-a,bb-a,bbb-a,a-a,aa-aa,aaa-aaa,b-b,bb-bb,bbb-bbb,\"\n",
    "\n",
    "A = Assoc(row,column,values)\n",
    "\n",
    "printFull(A)\n",
    "\n",
    "printFull(logical(A))"
   ]
  },
  {
   "cell_type": "markdown",
   "metadata": {
    "hidden": true
   },
   "source": [
    "This flexibility makes D4M Associative Arrays ideal for representing graph data. Often this involves having string row and column labels, representing the names of vertices and/or edges, and numeric values representing the existance of an edge or the weight of that edge."
   ]
  },
  {
   "cell_type": "markdown",
   "metadata": {},
   "source": [
    "_TODO fix put_"
   ]
  },
  {
   "cell_type": "code",
   "execution_count": 38,
   "metadata": {
    "hidden": true
   },
   "outputs": [
    {
     "data": {
      "text/plain": [
       "7×7 Array{Union{AbstractString, Number},2}:\n",
       " \"\"    \"v1\"  \"v2\"  \"v3\"  \"v4\"  \"v5\"  \"v6\"\n",
       " \"v1\"  \"1\"   \"1\"   \"1\"   \"1\"   \"1\"   \"1\" \n",
       " \"v2\"  \"1\"   \"1\"   \"\"    \"\"    \"\"    \"\"  \n",
       " \"v3\"  \"1\"   \"\"    \"1\"   \"\"    \"\"    \"\"  \n",
       " \"v4\"  \"1\"   \"\"    \"\"    \"1\"   \"\"    \"\"  \n",
       " \"v5\"  \"1\"   \"\"    \"\"    \"\"    \"1\"   \"\"  \n",
       " \"v6\"  \"1\"   \"\"    \"\"    \"\"    \"\"    \"1\" "
      ]
     },
     "metadata": {},
     "output_type": "display_data"
    },
    {
     "data": {
      "text/plain": [
       "7×7 Array{Union{AbstractString, Number},2}:\n",
       " \"\"     \"v1\"   \"v2\"   \"v3\"   \"v4\"   \"v5\"   \"v6\"\n",
       " \"v1\"  1      1      1      1      1      1    \n",
       " \"v2\"  1      1      0      0      0      0    \n",
       " \"v3\"  1      0      1      0      0      0    \n",
       " \"v4\"  1      0      0      1      0      0    \n",
       " \"v5\"  1      0      0      0      1      0    \n",
       " \"v6\"  1      0      0      0      0      1    "
      ]
     },
     "metadata": {},
     "output_type": "display_data"
    }
   ],
   "source": [
    "row = \"v1,v1,v1,v1,v1,v1,v1,v2,v3,v4,v5,v6,v1,v2,v3,v4,v5,v6,\"\n",
    "column = \"v1,v2,v3,v4,v5,v6,v1,v1,v1,v1,v1,v1,v1,v2,v3,v4,v5,v6,\"\n",
    "values = \"1,1,1,1,1,1,1,1,1,1,1,1,1,1,1,1,1,1,\"\n",
    "\n",
    "A = Assoc(row,column,values)\n",
    "\n",
    "printFull(A)\n",
    "\n",
    "printFull(logical(A))"
   ]
  },
  {
   "cell_type": "markdown",
   "metadata": {
    "hidden": true
   },
   "source": [
    "<img src=\"images/graphEx.png\" alt=\"Drawing\" style=\"width: 200px;\"/>"
   ]
  },
  {
   "cell_type": "markdown",
   "metadata": {
    "hidden": true
   },
   "source": [
    "With Associative Arrays, you can extract a subgraph by indexing into the Associative Array. For example, let's just get all the columns with odd vertices and rows with vertices 1-3.\n",
    "\n",
    "Note the last character in an index string is the delimiter, this allows us to do indexing on multiply values with a single string, as cell arrays of strings can get very slow."
   ]
  },
  {
   "cell_type": "code",
   "execution_count": 42,
   "metadata": {
    "hidden": true
   },
   "outputs": [
    {
     "data": {
      "text/plain": [
       "7×4 Array{Union{AbstractString, Number},2}:\n",
       " \"\"    \"v1\"  \"v3\"  \"v5\"\n",
       " \"v1\"  \"1\"   \"1\"   \"1\" \n",
       " \"v2\"  \"1\"   \"\"    \"\"  \n",
       " \"v3\"  \"1\"   \"1\"   \"\"  \n",
       " \"v4\"  \"1\"   \"\"    \"\"  \n",
       " \"v5\"  \"1\"   \"\"    \"1\" \n",
       " \"v6\"  \"1\"   \"\"    \"\"  "
      ]
     },
     "metadata": {},
     "output_type": "display_data"
    },
    {
     "data": {
      "text/plain": [
       "4×7 Array{Union{AbstractString, Number},2}:\n",
       " \"\"    \"v1\"  \"v2\"  \"v3\"  \"v4\"  \"v5\"  \"v6\"\n",
       " \"v1\"  \"1\"   \"1\"   \"1\"   \"1\"   \"1\"   \"1\" \n",
       " \"v2\"  \"1\"   \"1\"   \"\"    \"\"    \"\"    \"\"  \n",
       " \"v3\"  \"1\"   \"\"    \"1\"   \"\"    \"\"    \"\"  "
      ]
     },
     "metadata": {},
     "output_type": "display_data"
    }
   ],
   "source": [
    "printFull(A[:,\"v1,v3,v5,\"])\n",
    "\n",
    "printFull(A[\"v1,:,v3,\",:])"
   ]
  },
  {
   "cell_type": "markdown",
   "metadata": {
    "hidden": true
   },
   "source": [
    "We can also add, subtract, and mutliply Associative Arrays."
   ]
  },
  {
   "cell_type": "code",
   "execution_count": 46,
   "metadata": {
    "hidden": true
   },
   "outputs": [
    {
     "data": {
      "text/plain": [
       "7×7 Array{Union{AbstractString, Number},2}:\n",
       " \"\"     \"v1\"   \"v2\"   \"v3\"   \"v4\"   \"v5\"   \"v6\"\n",
       " \"v1\"  2.0    1.0    2.0    1.0    2.0    1.0  \n",
       " \"v2\"  2.0    1.0    0.0    0.0    0.0    0.0  \n",
       " \"v3\"  2.0    0.0    2.0    0.0    0.0    0.0  \n",
       " \"v4\"  2.0    0.0    0.0    1.0    0.0    0.0  \n",
       " \"v5\"  2.0    0.0    0.0    0.0    2.0    0.0  \n",
       " \"v6\"  2.0    0.0    0.0    0.0    0.0    1.0  "
      ]
     },
     "metadata": {},
     "output_type": "display_data"
    },
    {
     "data": {
      "text/plain": [
       "4×5 Array{Union{AbstractString, Number},2}:\n",
       " \"\"     \"v1\"   \"v4\"   \"v5\"   \"v6\"\n",
       " \"v4\"  1.0    1.0    0.0    0.0  \n",
       " \"v5\"  1.0    0.0    1.0    0.0  \n",
       " \"v6\"  1.0    0.0    0.0    1.0  "
      ]
     },
     "metadata": {},
     "output_type": "display_data"
    },
    {
     "data": {
      "text/plain": [
       "7×3 Array{Union{AbstractString, Number},2}:\n",
       " \"\"     \"v2\"   \"v4\"\n",
       " \"v1\"  2      2    \n",
       " \"v2\"  2      1    \n",
       " \"v3\"  1      1    \n",
       " \"v4\"  1      2    \n",
       " \"v5\"  1      1    \n",
       " \"v6\"  1      1    "
      ]
     },
     "metadata": {},
     "output_type": "display_data"
    }
   ],
   "source": [
    "printFull(A + A[:,\"v1,v3,v5,\"]) # A, with odd columns doubled\n",
    "\n",
    "printFull(A - A[\"v1,:,v3,\",:]) # A, with first three columns gone\n",
    "\n",
    "printFull(A * A[:,\"v2,v4,\"]) # A times just a couple of its columns"
   ]
  },
  {
   "cell_type": "markdown",
   "metadata": {
    "hidden": true
   },
   "source": [
    "This just a small taste of D4M to get you started. You'll see more as we go through this notebook."
   ]
  },
  {
   "cell_type": "markdown",
   "metadata": {
    "heading_collapsed": true
   },
   "source": [
    "# Creating Incidence and Adjacency Matrices"
   ]
  },
  {
   "cell_type": "markdown",
   "metadata": {
    "hidden": true
   },
   "source": [
    "Usually when we parse data into D4M Associative Arrays we put them in an Incidence Matrix format. For review, the rows of an incidence matrix correspond to edges, while the rows correspond to vertices. Incidence matrices can represent a variety of types of graphs, and so can be very useful. You can also easily form any adjacency matrix you need from an incidence matrix.\n",
    "\n",
    "To see how an incidence matrix is formed, let's say for example you have some raw data in a tsv file. The rows IDs of the incidence matrix are some unique identifier of the rows in the original file, in this example they are just the row number in the file. There are generally different columns associated with each row in the tsv file, we combine the column name with each column value to create our column IDs, or vertex IDs in our Incidence matrix. Notice how we have parsed out each individual word in column 3 as well."
   ]
  },
  {
   "cell_type": "markdown",
   "metadata": {
    "hidden": true
   },
   "source": [
    "<img src=\"images/TSVtoAssoc.png\" alt=\"Drawing\" style=\"width: 600px;\"/>"
   ]
  },
  {
   "cell_type": "markdown",
   "metadata": {
    "hidden": true
   },
   "source": [
    "Let's look at an example. We are loading an Associative Array with Twitter data, and looking at the user columns in the first three tweets:"
   ]
  },
  {
   "cell_type": "code",
   "execution_count": 2,
   "metadata": {},
   "outputs": [],
   "source": [
    "A = ReadCSV(\"graphclassdata/A1.csv\");\n",
    "A += ReadCSV(\"graphclassdata/A2.csv\");\n",
    "A += ReadCSV(\"graphclassdata/A3.csv\");\n",
    "A += ReadCSV(\"graphclassdata/A4.csv\");\n",
    "A += ReadCSV(\"graphclassdata/A5.csv\");\n",
    "A += ReadCSV(\"graphclassdata/A6.csv\");\n",
    "A += ReadCSV(\"graphclassdata/A7.csv\");\n",
    "A += ReadCSV(\"graphclassdata/A8.csv\");\n",
    "A += ReadCSV(\"graphclassdata/A9.csv\");\n",
    "A += ReadCSV(\"graphclassdata/A10.csv\");"
   ]
  },
  {
   "cell_type": "code",
   "execution_count": 3,
   "metadata": {},
   "outputs": [
    {
     "data": {
      "text/plain": [
       "10000"
      ]
     },
     "execution_count": 3,
     "metadata": {},
     "output_type": "execute_result"
    }
   ],
   "source": [
    "length(A.row) # should be 10000"
   ]
  },
  {
   "cell_type": "code",
   "execution_count": 4,
   "metadata": {},
   "outputs": [
    {
     "data": {
      "text/plain": [
       "129895"
      ]
     },
     "execution_count": 4,
     "metadata": {},
     "output_type": "execute_result"
    }
   ],
   "source": [
    "length(A.col) # should be 129895"
   ]
  },
  {
   "cell_type": "code",
   "execution_count": 5,
   "metadata": {
    "hidden": true
   },
   "outputs": [
    {
     "data": {
      "text/plain": [
       "4×4 Array{Union{AbstractString, Number},2}:\n",
       "              \"\"   \"user|Blocker57\"   \"user|Wangjeje\"   \"user|gyanpratika\"\n",
       "  821278781733    0.0                0.0               1.0                \n",
       " 4857479781733    1.0                0.0               0.0                \n",
       " 8653317781733    0.0                1.0               0.0                "
      ]
     },
     "metadata": {},
     "output_type": "display_data"
    }
   ],
   "source": [
    "printFull(A[1:3,StartsWith(\"user|,\")])"
   ]
  },
  {
   "cell_type": "markdown",
   "metadata": {
    "hidden": true
   },
   "source": [
    "Since the full matrix display is not practical for viewing much more than this, we often look at the triples of the Associative Array. Here are the first two rows:"
   ]
  },
  {
   "cell_type": "code",
   "execution_count": 6,
   "metadata": {
    "hidden": true
   },
   "outputs": [
    {
     "name": "stdout",
     "output_type": "stream",
     "text": [
      "  [2, latlon|++004315..82003012019000000000]  =  1.0\n",
      "  [1, latlon|-+010067..10923207153171000000]  =  1.0\n",
      "  [2, lat|+041.8031090000                  ]  =  1.0\n",
      "  [1, lat|-006.1930137000                  ]  =  1.0\n",
      "  [2, lon|+035.2002100000                  ]  =  1.0\n",
      "  [1, lon|+107.0227511000                  ]  =  1.0\n",
      "  [2, place|682c5a667856ef42               ]  =  1.0\n",
      "  [1, place|85858f3447b85e2b               ]  =  1.0\n",
      "  [1, time|2013-05-22 12:47:08             ]  =  1.0\n",
      "  [2, time|2013-05-22 12:47:32             ]  =  1.0\n",
      "  [1, userID|204683306                     ]  =  1.0\n",
      "  [2, userID|258075949                     ]  =  1.0\n",
      "  [2, user_lower|blocker57                 ]  =  1.0\n",
      "  [1, user_lower|gyanpratika               ]  =  1.0\n",
      "  [2, user|Blocker57                       ]  =  1.0\n",
      "  [1, user|gyanpratika                     ]  =  1.0\n",
      "  [1, word_lower|:(                        ]  =  1.0\n",
      "  [2, word_lower|pastanesi                 ]  =  1.0\n",
      "  [2, word_lower|tarhan                    ]  =  1.0\n",
      "  [1, word|:(                              ]  =  1.0\n",
      "  [2, word|I'm                             ]  =  1.0\n",
      "  [2, word|Pastanesi                       ]  =  1.0\n",
      "  [2, word|Tarhan                          ]  =  1.0\n"
     ]
    }
   ],
   "source": [
    "print(A[1:2,:])"
   ]
  },
  {
   "cell_type": "markdown",
   "metadata": {
    "hidden": true
   },
   "source": [
    "From here we can form a variety of adjacency matrices. For example:"
   ]
  },
  {
   "cell_type": "code",
   "execution_count": 6,
   "metadata": {
    "hidden": true
   },
   "outputs": [],
   "source": [
    "# First, we make a bunch of query/filter objects that we can pass into indexing.\n",
    "\n",
    "# All words that start with a letter:\n",
    "realwords = \"word|A,:,word|z,\";\n",
    "\n",
    "# All hashtags:\n",
    "hashtags = StartsWith(\"word|#\");\n",
    "\n",
    "# Tweets @ someone:\n",
    "directedtweet = StartsWith(\"word|@\");\n",
    "\n",
    "# Usernames:\n",
    "users = StartsWith(\"user|\");\n",
    "\n",
    "# Locations:\n",
    "locs = StartsWith(\"latlon|\");"
   ]
  },
  {
   "cell_type": "code",
   "execution_count": 18,
   "metadata": {},
   "outputs": [
    {
     "name": "stdout",
     "output_type": "stream",
     "text": [
      "Bipartite User-Location Graph\n",
      "  [user|0000The  , latlon|++002459..46269574254468000000]  =  1.0\n",
      "  [user|000chiaki, latlon|++013369..30212434630140720000]  =  1.0\n",
      "\n",
      "Small Symmetric Word-Word Graph\n",
      "  [word|T?rkiye) , word|I'm      ]  =  8.0\n",
      "  [word|w/       , word|I'm      ]  =  14.0\n",
      "  [word|see      , word|It       ]  =  5.0\n",
      "  [word|aku      , word|RT       ]  =  6.0\n",
      "  [word|lah      , word|RT       ]  =  5.0\n",
      "  [word|yg       , word|RT       ]  =  5.0\n",
      "  [word|I'm      , word|T?rkiye) ]  =  8.0\n",
      "  [word|w/       , word|T?rkiye) ]  =  7.0\n",
      "  [word|eu       , word|To       ]  =  5.0\n",
      "  [word|eu       , word|aii      ]  =  10.0\n",
      "  [word|RT       , word|aku      ]  =  6.0\n",
      "  [word|ga       , word|aku      ]  =  8.0\n",
      "  [word|jadi     , word|aku      ]  =  6.0\n",
      "  [word|kamu     , word|aku      ]  =  11.0\n",
      "  [word|eu       , word|baga?eira]  =  5.0\n",
      "  [word|var      , word|bir      ]  =  6.0\n",
      "  [word|eu       , word|cabare   ]  =  5.0\n",
      "  [word|eu       , word|caminh?o ]  =  5.0\n",
      "  [word|lah      , word|dak      ]  =  5.0\n",
      "  [word|yg       , word|dan      ]  =  8.0\n",
      "  [word|eu       , word|e        ]  =  6.0\n",
      "  [word|na       , word|e        ]  =  5.0\n",
      "  [word|en       , word|el       ]  =  8.0\n",
      "  [word|es       , word|el       ]  =  5.0\n",
      "  [word|el       , word|en       ]  =  8.0\n",
      "  [word|el       , word|es       ]  =  5.0\n",
      "  [word|To       , word|eu       ]  =  5.0\n",
      "  [word|aii      , word|eu       ]  =  10.0\n",
      "  [word|baga?eira, word|eu       ]  =  5.0\n",
      "  [word|cabare   , word|eu       ]  =  5.0\n",
      "  [word|caminh?o , word|eu       ]  =  5.0\n",
      "  [word|e        , word|eu       ]  =  6.0\n",
      "  [word|fa?o     , word|eu       ]  =  5.0\n",
      "  [word|fogo     , word|eu       ]  =  5.0\n",
      "  [word|gatinhas , word|eu       ]  =  5.0\n",
      "  [word|levo     , word|eu       ]  =  5.0\n",
      "  [word|ligando  , word|eu       ]  =  5.0\n",
      "  [word|meu      , word|eu       ]  =  5.0\n",
      "  [word|na       , word|eu       ]  =  5.0\n",
      "  [word|nem      , word|eu       ]  =  10.0\n",
      "  [word|o        , word|eu       ]  =  7.0\n",
      "  [word|pega     , word|eu       ]  =  10.0\n",
      "  [word|pro      , word|eu       ]  =  5.0\n",
      "  [word|quiser   , word|eu       ]  =  5.0\n",
      "  [word|eu       , word|fa?o     ]  =  5.0\n",
      "  [word|eu       , word|fogo     ]  =  5.0\n",
      "  [word|aku      , word|ga       ]  =  8.0\n",
      "  [word|kamu     , word|ga       ]  =  9.0\n",
      "  [word|eu       , word|gatinhas ]  =  5.0\n",
      "  [word|var      , word|ili?kisi ]  =  6.0\n",
      "  [word|aku      , word|jadi     ]  =  6.0\n",
      "  [word|aku      , word|kamu     ]  =  11.0\n",
      "  [word|ga       , word|kamu     ]  =  9.0\n",
      "  [word|RT       , word|lah      ]  =  5.0\n",
      "  [word|dak      , word|lah      ]  =  5.0\n",
      "  [word|eu       , word|levo     ]  =  5.0\n",
      "  [word|eu       , word|ligando  ]  =  5.0\n",
      "  [word|se       , word|lo       ]  =  10.0\n",
      "  [word|eu       , word|meu      ]  =  5.0\n",
      "  [word|e        , word|na       ]  =  5.0\n",
      "  [word|eu       , word|na       ]  =  5.0\n",
      "  [word|eu       , word|nem      ]  =  10.0\n",
      "  [word|eu       , word|o        ]  =  7.0\n",
      "  [word|yg       , word|org      ]  =  7.0\n",
      "  [word|w/       , word|others)  ]  =  11.0\n",
      "  [word|eu       , word|pega     ]  =  10.0\n",
      "  [word|yg       , word|pemimpin ]  =  6.0\n",
      "  [word|eu       , word|pro      ]  =  5.0\n",
      "  [word|eu       , word|quiser   ]  =  5.0\n",
      "  [word|yg       , word|sama     ]  =  6.0\n",
      "  [word|lo       , word|se       ]  =  10.0\n",
      "  [word|It       , word|see      ]  =  5.0\n",
      "  [word|bir      , word|var      ]  =  6.0\n",
      "  [word|ili?kisi , word|var      ]  =  6.0\n",
      "  [word|I'm      , word|w/       ]  =  14.0\n",
      "  [word|T?rkiye) , word|w/       ]  =  7.0\n",
      "  [word|others)  , word|w/       ]  =  11.0\n",
      "  [word|RT       , word|yg       ]  =  5.0\n",
      "  [word|dan      , word|yg       ]  =  8.0\n",
      "  [word|org      , word|yg       ]  =  7.0\n",
      "  [word|pemimpin , word|yg       ]  =  6.0\n",
      "  [word|sama     , word|yg       ]  =  6.0\n",
      "\n",
      "Directed User-User Graph\n",
      "  [user|0522Yuhei     , word|@0516Fmb      ]  =  1.0\n",
      "  [user|0714Mizuho    , word|@1224_karen   ]  =  1.0\n",
      "  [user|05Jasmine     , word|@ATluecxk     ]  =  1.0\n",
      "  [user|04_possibility, word|@akochalu     ]  =  1.0\n",
      "  [user|0623Ysik      , word|@akxxx0910    ]  =  1.0\n",
      "  [user|04Nancy       , word|@johncolivert ]  =  1.0\n",
      "  [user|05htm21       , word|@nanohananappa]  =  1.0\n",
      "  [user|0708mio       , word|@sgokhrn      ]  =  1.0\n",
      "  [user|0509ka        , word|@taaanyupi    ]  =  1.0\n",
      "  [user|0648M         , word|@tttyonta     ]  =  1.0\n"
     ]
    }
   ],
   "source": [
    "# Users-Location Graph\n",
    "println(\"Bipartite User-Location Graph\") # number of tweets for each user/location pair\n",
    "Auserloc = transpose(A[:,users]) * A[:,locs]\n",
    "print(Auserloc[1:2,:]) # print the first two rows to get a feel\n",
    "\n",
    "println()\n",
    "\n",
    "# Word-Word Graph\n",
    "println(\"Small Symmetric Word-Word Graph\") # yay for quadratic runtime\n",
    "Asmall = A[1:1000, :]\n",
    "Arealwordsfilter = Asmall[:, realwords] # looking at just the words \n",
    "Awords = transpose(Arealwordsfilter) * Arealwordsfilter # nuber of tweets for each word/word pair\n",
    "Awords = removediag(Awords) \n",
    "print(Awords>4) # display sufficiently high\n",
    "\n",
    "println()\n",
    "\n",
    "# Directed tweets\n",
    "println(\"Directed User-User Graph\")\n",
    "Adir = transpose(A[:,users]) * A[:,directedtweet] # number of each tweets for each \"sender/recipient\" pair\n",
    "print(Adir[11:20, :]) # just a few users"
   ]
  },
  {
   "cell_type": "markdown",
   "metadata": {
    "heading_collapsed": true
   },
   "source": [
    "# Graph Algorithms in D4M"
   ]
  },
  {
   "cell_type": "markdown",
   "metadata": {
    "hidden": true
   },
   "source": [
    "D4M has some graph algorithm capabilities built in. Let's take a look at a few examples before we start looking at in-database algorithms."
   ]
  },
  {
   "cell_type": "markdown",
   "metadata": {
    "hidden": true
   },
   "source": [
    "## Breadth First Search"
   ]
  },
  {
   "cell_type": "markdown",
   "metadata": {
    "hidden": true
   },
   "source": [
    "From our word-word graph, we can see which words that are used together. But what if we want to go out one or two levels more? We can use breadth first search (BFS). We'll start by specifying a few source vertices."
   ]
  },
  {
   "cell_type": "code",
   "execution_count": null,
   "metadata": {
    "collapsed": true,
    "hidden": true,
    "scrolled": true
   },
   "outputs": [],
   "source": [
    "words = \"word|RT,\"\n",
    "Asearch = logical(Awords)\n",
    "\n",
    "## Run Breadth First Search on Adjancency Schema\n",
    "k=3 # Number of steps\n",
    "minDegree=5\n",
    "maxDegree=10\n",
    "v0 = words # initial vertices\n",
    "Adeg = transpose(sum(logical(A),1))        # Degree of each node.\n",
    "\n",
    "v = AdjBFS(Asearch,Adeg,v0,numsteps,minDegree,maxDegree, takeunion=true)\n",
    "v = Row(v)\n",
    "\n",
    "# Vertices reached in 3 hops from specified users\n",
    "# println(\"Vertices reached in \" *  num2str(k) \" hops from \" * strrep(v0(1:end-1),char(10),', ') ':']) \n",
    "# println(strrep(v(1:end-1),char(10),', '))"
   ]
  },
  {
   "cell_type": "markdown",
   "metadata": {
    "hidden": true
   },
   "source": [
    "## Jaccard Index"
   ]
  },
  {
   "cell_type": "markdown",
   "metadata": {
    "hidden": true
   },
   "source": [
    "The Jaccard index is a metric of similarity which can be calculated on a graph. In the context of words, this takes into account not only the number of times two words occur together, but also the overall degrees of each word."
   ]
  },
  {
   "cell_type": "markdown",
   "metadata": {},
   "source": [
    "_TODO make this work, once Jaccard works too_"
   ]
  },
  {
   "cell_type": "code",
   "execution_count": null,
   "metadata": {
    "collapsed": true,
    "hidden": true
   },
   "outputs": [],
   "source": [
    "# % First remove low-degree nodes, those will throw off the results\n",
    "# w = Row(Adeg(realwords,:) > 2);\n",
    "# Atest = Awords(:,w);\n",
    "# Atest = Atest(w,:);\n",
    "\n",
    "# J = Jaccard(Atest);\n",
    "\n",
    "# J(['word|coffee' nl ],:)> 0.1"
   ]
  },
  {
   "cell_type": "markdown",
   "metadata": {},
   "source": [
    "# Database Setup"
   ]
  },
  {
   "cell_type": "markdown",
   "metadata": {},
   "source": [
    "Now we will bind to a database. Often we put these lines in a script called \"DBsetup\" and just run that.\n",
    "\n",
    "Be sure to edit this to include a unique name for your tables, this will prevent multiply people from running on the same tables."
   ]
  },
  {
   "cell_type": "code",
   "execution_count": 2,
   "metadata": {},
   "outputs": [
    {
     "name": "stdout",
     "output_type": "stream",
     "text": [
      "08 Jul 2019 14:53:12,545 WARN - ClientConfiguration.loadFromSearchPath(227) -  Found no client.conf in default paths. Using default client configuration values.\n"
     ]
    },
    {
     "data": {
      "text/plain": [
       "D4M.DBserver(\"uno\", \"localhost:2181\", \"root\", \"secret\", \"BigTableLike\", JavaCall.JavaObject{Symbol(\"edu.mit.ll.graphulo.MatlabGraphulo\")}(Ptr{Nothing} @0x0000000004093458))"
      ]
     },
     "execution_count": 2,
     "metadata": {},
     "output_type": "execute_result"
    }
   ],
   "source": [
    "# Initialize DB connectors\n",
    "dbinit()\n",
    "\n",
    "# Connect to Database\n",
    "DB = dbsetup(\"uno\", \"AccumuloConfig.jl\")"
   ]
  },
  {
   "cell_type": "code",
   "execution_count": 3,
   "metadata": {},
   "outputs": [
    {
     "name": "stdout",
     "output_type": "stream",
     "text": [
      "Creating my_tweets_Tedge in uno\n",
      "Creating my_tweets_TedgeT in uno\n",
      "Creating my_tweets_TedgeDeg in uno\n",
      "Creating my_tweets_TedgeTxt in uno\n"
     ]
    },
    {
     "data": {
      "text/plain": [
       "D4M.DBtable(D4M.DBserver(\"uno\", \"localhost:2181\", \"root\", \"secret\", \"BigTableLike\", JavaCall.JavaObject{Symbol(\"edu.mit.ll.graphulo.MatlabGraphulo\")}(Ptr{Nothing} @0x0000000004093458)), \"my_tweets_TedgeTxt\", \"\", 0, 0, \"\", 500000.0, JavaCall.JavaObject{Symbol(\"edu.mit.ll.d4m.db.cloud.D4mDataSearch\")}(Ptr{Nothing} @0x0000000004093510), JavaCall.JavaObject{Symbol(\"edu.mit.ll.d4m.db.cloud.D4mDbTableOperations\")}(Ptr{Nothing} @0x0000000002aae3a0))"
      ]
     },
     "execution_count": 3,
     "metadata": {},
     "output_type": "execute_result"
    }
   ],
   "source": [
    "# Give a unique name prefix to prevent collisions in Accumulo\n",
    "myName = \"my_tweets_\"\n",
    "\n",
    "# Bind to tables\n",
    "Tedge = DB[myName * \"Tedge\", myName * \"TedgeT\"]\n",
    "TedgeDeg = DB[myName * \"TedgeDeg\"]\n",
    "TedgeTxt = DB[myName * \"TedgeTxt\"]"
   ]
  },
  {
   "cell_type": "markdown",
   "metadata": {},
   "source": [
    "If you check the Accumulo monitor, these tables are now present!"
   ]
  },
  {
   "cell_type": "markdown",
   "metadata": {},
   "source": [
    "Now we will ingest our data."
   ]
  },
  {
   "cell_type": "code",
   "execution_count": 22,
   "metadata": {
    "scrolled": true
   },
   "outputs": [],
   "source": [
    "# Load .mat files containing data\n",
    "fname = '/home/gridsan/ledwards/Graphulo/GraphClass/tweets.mat';\n",
    "load(fname);\n",
    "nl = char(10);\n",
    "\n",
    "# Insert into database\n",
    "A=NewSep(A,nl);\n",
    "put(Tedge,num2str(A));\n",
    "put(TedgeDeg,putCol(num2str(sum(A,1).'),['Degree' nl]));\n",
    "put(TedgeTxt,Atxt);"
   ]
  },
  {
   "cell_type": "markdown",
   "metadata": {
    "collapsed": true
   },
   "source": [
    "# Creating Adjacency Graphs"
   ]
  },
  {
   "cell_type": "markdown",
   "metadata": {},
   "source": [
    "We store our data in an incidence matrix form using the standard D4M Schema. In this way you have the flexibility to create adjacency matrices of individual graphs as you need them."
   ]
  },
  {
   "cell_type": "markdown",
   "metadata": {},
   "source": [
    "<img src=\"images/d4mschema.png\" alt=\"Drawing\" style=\"width: 800px;\"/>"
   ]
  },
  {
   "cell_type": "markdown",
   "metadata": {},
   "source": [
    "We can use Graphulo's table multiply to create our adjacency matrices. For our twitter data, we can create several that may be interesting. First let's get the column keys of the columns we may want to filter on, and get an idea of how many columns there are in each using the degree table. This information is important when deciding how to form your adjacency matrix."
   ]
  },
  {
   "cell_type": "code",
   "execution_count": 23,
   "metadata": {},
   "outputs": [
    {
     "name": "stdout",
     "output_type": "stream",
     "text": [
      "There are 25147 words that start with a letter.\n",
      "There are 1118 hashtags.\n",
      "There are 5474 words that start with @.\n",
      "There are 8510 usernames.\n",
      "There are 7705 locations.\n"
     ]
    }
   ],
   "source": [
    "# All words that start with a letter:\n",
    "realwords = ['word_lower|a' char(10) ':' char(10) 'word_lower|z' char(127) char(10)];\n",
    "disp(['There are ' num2str(nnz(TedgeDeg(realwords,:))) ' words that start with a letter.'])\n",
    "\n",
    "# All hashtags:\n",
    "hashtags = StartsWith(['word|#' char(10)]);\n",
    "disp(['There are ' num2str(nnz(TedgeDeg(hashtags,:))) ' hashtags.'])\n",
    "\n",
    "# Tweets @ someone:\n",
    "directedtweet = StartsWith(['word|@' char(10)]);\n",
    "disp(['There are ' num2str(nnz(TedgeDeg(directedtweet,:))) ' words that start with @.'])\n",
    "\n",
    "# Usenames:\n",
    "users = StartsWith(['user|' char(10)]);\n",
    "disp(['There are ' num2str(nnz(TedgeDeg(users,:))) ' usernames.'])\n",
    "\n",
    "# Locations:\n",
    "locs = StartsWith(['latlon|' char(10)]);\n",
    "disp(['There are ' num2str(nnz(TedgeDeg(locs,:))) ' locations.'])"
   ]
  },
  {
   "cell_type": "markdown",
   "metadata": {},
   "source": [
    "Now let's make a few graphs. A Graphulo Table Multiply is in terms of A\\*B. If you think of E as our incidence matrix, we can get an adjacency matrix by multiply E'\\*E, so A = E' and B = E. Since Graphulo requires the transpose of the \"A\" table to do the multiply, A' = (E')' = E."
   ]
  },
  {
   "cell_type": "markdown",
   "metadata": {},
   "source": [
    "First let's make a word-word graph. On the full dataset, this takes about 3-5 minutes, but the result is nearly a 1Mx1M graph with about 40M edges! Since this is a small subset, it only takes a few seconds."
   ]
  },
  {
   "cell_type": "code",
   "execution_count": 24,
   "metadata": {},
   "outputs": [
    {
     "name": "stdout",
     "output_type": "stream",
     "text": [
      "15 Oct 2018 15:13:21,095 DEBUG - Graphulo.TwoTable(770) -   :%00; [1] -> 525616 entries processed\n",
      "Elapsed time is 2.30288 seconds.\n"
     ]
    }
   ],
   "source": [
    "% Set Parameters\n",
    "% Multiply in terms of A*B = C, so if we want to do A'*A, then AT is just A\n",
    "ATtable = [myName 'Tedge'];\n",
    "Btable = [myName 'Tedge'];\n",
    "Ctable = [myName 'word_graph'];\n",
    "rowFilter = '';\n",
    "colFilterAT = realwords;\n",
    "colFilterB = realwords;\n",
    "\n",
    "\n",
    "# Multiply Tables\n",
    "tic;\n",
    "numpp = G.TableMult(ATtable, Btable, Ctable, rowFilter, colFilterAT, colFilterB);\n",
    "toc;"
   ]
  },
  {
   "cell_type": "markdown",
   "metadata": {},
   "source": [
    "Maybe we want to see what hashtags are used together. Let's make a hashtag-hashtag graph. On the full dataset is much faster than the previous one and takes about a minute. On this subset it takes only a few seconds."
   ]
  },
  {
   "cell_type": "code",
   "execution_count": 29,
   "metadata": {},
   "outputs": [
    {
     "name": "stdout",
     "output_type": "stream",
     "text": [
      "15 Oct 2018 15:15:10,426 DEBUG - Graphulo.TwoTable(770) -   :%00; [1] -> 3921 entries processed\n",
      "Elapsed time is 1.74382 seconds.\n"
     ]
    }
   ],
   "source": [
    "% Set Parameters\n",
    "% Multiply in terms of A*B = C, so if we want to do A'*B, then AT is just A\n",
    "ATtable = [myName 'Tedge'];\n",
    "Btable = [myName 'Tedge'];\n",
    "Ctable = [myName 'hashtag_graph'];\n",
    "rowFilter = '';\n",
    "colFilterAT = hashtags;\n",
    "colFilterB = hashtags;\n",
    "\n",
    "# Multiply Tables\n",
    "tic;\n",
    "numpp = G.TableMult(ATtable, Btable, Ctable, rowFilter, colFilterAT, colFilterB);\n",
    "toc;"
   ]
  },
  {
   "cell_type": "markdown",
   "metadata": {},
   "source": [
    "Let's make a directed graph that shows which users use which hashtags.\n",
    "\n",
    "If you are creating an adjacency matrix for a directed graph, you may want to create a transpose result graph as well, so you can query quickly for both in and out vetices (Accumulo is indexed by row key, so it is fastest to query rows). All previous graphs were symmetric so you don't need a transpose adjacency matrix.\n",
    "\n",
    "I have also found that you want to use the filter with the larger number of values as your colFilterB- it will allow the iterator to process more entries at a time when it scanning from your A and B tables.\n",
    "\n",
    "For example, the first time I created the user-hashtag graph on the full dataset I set colFilterAT as the \"user|\" prefix and colFilterB as the \"word|#\" prefix. I eventually killed the process because it was taking a very long time (see below). When I swapped them, it took about a minute."
   ]
  },
  {
   "cell_type": "markdown",
   "metadata": {},
   "source": [
    "<img src=\"images/graphulo-colfilters.png\" alt=\"Drawing\" style=\"width: 500px;\"/>"
   ]
  },
  {
   "cell_type": "markdown",
   "metadata": {},
   "source": [
    "Here is how you would multiply two tables and produce a transpose result matrix as well. Since you are calling a Java function, it is very picky about what inputs you use. I am just using the default values for the added parameters."
   ]
  },
  {
   "cell_type": "code",
   "execution_count": 30,
   "metadata": {},
   "outputs": [
    {
     "name": "stdout",
     "output_type": "stream",
     "text": [
      "15 Oct 2018 15:15:16,126 DEBUG - Graphulo.TwoTable(770) -   :%00; [1] -> 1553 entries processed\n",
      "Elapsed time is 1.67015 seconds.\n"
     ]
    }
   ],
   "source": [
    "% Set Parameters\n",
    "% Multiply in terms of A*B = C, so if we want to do A'*B, then AT is just A\n",
    "ATtable = [myName 'Tedge'];\n",
    "Btable = [myName 'Tedge'];\n",
    "Ctable = [myName 'hashtag_user_graph'];\n",
    "CTtable = [myName 'user_hashtag_graph'];\n",
    "rowFilter = '';\n",
    "colFilterAT = hashtags;\n",
    "colFilterB = users;\n",
    "presumCacheSize = -1; % this is the default value\n",
    "numEntriesCheckpoint = -1; % this is the default value\n",
    "trace_param = true; % this is the default value\n",
    "\n",
    "# Multiply Tables\n",
    "tic;\n",
    "numpp = G.TableMult(ATtable, Btable, Ctable, CTtable, rowFilter, ...\n",
    "    colFilterAT, colFilterB, presumCacheSize, numEntriesCheckpoint, trace_param);\n",
    "toc;"
   ]
  },
  {
   "cell_type": "markdown",
   "metadata": {},
   "source": [
    "What if we want a graph that describes the users that use the same hashtags? That will take two steps. First create an adjacency matrix of users-hashtags by multiplying (we already created this in the previous example). Then, using the graph you have just made, multiplying again will create the graph you are looking for.\n",
    "\n",
    "Since we are multiplying the full table, we don't need to, we don't need to provide any filters."
   ]
  },
  {
   "cell_type": "code",
   "execution_count": 31,
   "metadata": {},
   "outputs": [
    {
     "name": "stdout",
     "output_type": "stream",
     "text": [
      "15 Oct 2018 15:15:39,877 DEBUG - Graphulo.TwoTable(770) -   :%00; [1] -> 7142 entries processed\n",
      "Elapsed time is 0.289115 seconds.\n"
     ]
    }
   ],
   "source": [
    "% Set Parameters\n",
    "% Multiply in terms of A*B = C, so if we want to do A'*B, then AT is just A\n",
    "ATtable = [myName 'hashtag_user_graph'];\n",
    "Btable = [myName 'hashtag_user_graph'];\n",
    "Ctable = [myName 'user_graph'];\n",
    "\n",
    "# Multiply Tables\n",
    "tic;\n",
    "numpp = G.TableMult(ATtable, Btable, Ctable);\n",
    "toc;"
   ]
  },
  {
   "cell_type": "markdown",
   "metadata": {},
   "source": [
    "What other graphs can you create that might be interesting? Try making some now."
   ]
  },
  {
   "cell_type": "markdown",
   "metadata": {},
   "source": [
    "# Running Graph Algorithms"
   ]
  },
  {
   "cell_type": "markdown",
   "metadata": {},
   "source": [
    "## Degree-Filtered Breadth First Search"
   ]
  },
  {
   "cell_type": "markdown",
   "metadata": {},
   "source": [
    "Say you are interested in seeing people that talk about similar things. You may have a handful of target individuals (maybe selected because they talk a lot about a topic), and want to get their 2-hop neighbors. You could do this by running breadth first search (BFS) on those individuals on the graph we generated above."
   ]
  },
  {
   "cell_type": "markdown",
   "metadata": {},
   "source": [
    "Since we are doing degree filtering, we'll first generate a degree table."
   ]
  },
  {
   "cell_type": "code",
   "execution_count": 32,
   "metadata": {},
   "outputs": [],
   "source": [
    "% Create Degree Table to Degree Filtering\n",
    "Atable=[myName 'user_graph'];\n",
    "ADegtable=[Atable '_Deg'];\n",
    "countColumns = true; % true counts the columns, false sums the weights\n",
    "G.generateDegreeTable(Atable, ADegtable, countColumns);"
   ]
  },
  {
   "cell_type": "markdown",
   "metadata": {},
   "source": [
    "Now we can run BFS. I picked two users mostly at random as our starting vertices."
   ]
  },
  {
   "cell_type": "code",
   "execution_count": 33,
   "metadata": {
    "scrolled": true
   },
   "outputs": [
    {
     "name": "stdout",
     "output_type": "stream",
     "text": [
      "Creating my_tweets_user_graph_BFS in class-db01.cloud.llgrid.txe1.mit.edu:2181 Accumulo\n",
      "15 Oct 2018 15:16:14,772 DEBUG - Graphulo.OneTable(987) -  user|viiocious :%00; [3] -> 33 entries processed\n",
      "15 Oct 2018 15:16:14,905 DEBUG - Graphulo.OneTable(987) -  user|viiocious :%00; [24] -> 315 entries processed\n",
      "\n",
      "Vertices reached in 2 hops from user|smilevvsmilevv,user|OrenTsur,user|viiocious:\n",
      "ans = user|PRINCESS_mony9,user|talhi20,user|ghida0,user|SuzanneTee0217,user|Indraputr4,user|dianaraflata_,user|aisyyahs,user|an_NoY_nr,user|viiocious,user|DudnikD,user|franchiaraihc,user|ZELO96_BTHB,user|StasAntonov,user|SueChua,user|OrenTsur,user|refa_mn_,user|tungnail_hee,user|Vanya_Cherevko,user|NottinghamTIC,user|WulaaanWP,user|deadinyati,user|rachmawatidewi,user|Canniagoyessie,user|SAIF_HA,user|3lowshal7aeyaii,user|mymemoly,user|akhbarhurra,user|SalmaAlQibti,user|Mmmjj55,user|iina_ona,user|IndryOktafiany,user|PalamarVeronika,user|Nakkarin_P,user|t_8man,user|no_kawaii,user|noOpeXky,user|mo7ammed____,user|aboabdolla8,user|NadiaSaftiyan,user|NatashaTyugaeva,user|andrebranca94,user|_fosa,user|smilevvsmilevv,user|rhisya3,user|Alesyafedotova,user|Ghassan366,user|AleshkaLamanov,user|HajiArefi,user|ravidarwin2\n"
     ]
    }
   ],
   "source": [
    "users = 'user|smilevvsmilevv,user|OrenTsur,user|viiocious,';\n",
    "\n",
    "%% Run Breadth First Search on Adjancency Schema\n",
    "k=2; % Number of steps\n",
    "minDegree=5;\n",
    "maxDegree=20;\n",
    "v0 = users;\n",
    "Atable=[myName 'user_graph'];\n",
    "\n",
    "% Set results table\n",
    "Rtable=[Atable '_BFS'];\n",
    "TadjBFS = DB(Rtable);\n",
    "if nnz(TadjBFS)\n",
    "    deleteForce(TadjBFS);\n",
    "    TadjBFS = DB(Rtable);\n",
    "end\n",
    "\n",
    "% Other BFS Params\n",
    "RtableTranspose=[Rtable 'T'];\n",
    "ADegtable=[Atable '_Deg'];\n",
    "degColumn='';\n",
    "degInColQ=false;\n",
    "\n",
    "% Do BFS\n",
    "v = G.AdjBFS(Atable, v0, k, Rtable, RtableTranspose, ADegtable, degColumn, degInColQ, minDegree, maxDegree);\n",
    "\n",
    "% Vertices reached in 3 hops from specified users\n",
    "disp([char(10) 'Vertices reached in ' num2str(k) ' hops from ' strrep(v0(1:end-1),char(10),', ') ':'])\n",
    "strrep(v(1:end-1),char(10),', ')"
   ]
  },
  {
   "cell_type": "markdown",
   "metadata": {},
   "source": [
    "How do your results change if you change the min and max degrees?"
   ]
  },
  {
   "cell_type": "markdown",
   "metadata": {},
   "source": [
    "## Jaccard Index"
   ]
  },
  {
   "cell_type": "markdown",
   "metadata": {},
   "source": [
    "Our user-user graph says a bit about how similar users are, by saying how many hashtags they have in common. The Jaccard index is another metric for saying how similar two users may be, scaled by their overall popularity, how many other users they are similar to.\n",
    "\n",
    "We can run Jaccard on the entire user-user graph in the database using Graphulo.\n",
    "\n"
   ]
  },
  {
   "cell_type": "code",
   "execution_count": 34,
   "metadata": {},
   "outputs": [
    {
     "name": "stdout",
     "output_type": "stream",
     "text": [
      "Creating my_tweets_user_graph_Jaccard in class-db01.cloud.llgrid.txe1.mit.edu:2181 Accumulo\n",
      "15 Oct 2018 15:22:36,213 DEBUG - Graphulo.OneTable(987) -   :%00; [1] -> 121104 entries processed\n",
      "15 Oct 2018 15:22:36,214 DEBUG - Graphulo.Jaccard(3429) -  Jaccard #partial products 121104\n",
      "Elapsed time is 0.459159 seconds.\n",
      "\n",
      "\n",
      "Some Jaccard Coefficients\n",
      "                     user|Amie99_,user|Lulu_ltfh,user|Restikhrnsa_,\n",
      "user|12N_nadiya2,    0.016129,    0.016129,      0.016129,         \n",
      "user|DebbyAngrainiHD,             0.016129,      0.016129,         \n",
      "user|Indraputr4,                  0.030303,      0.030303,         \n",
      "user|IndryOktafiany,              0.030303,      0.030303,         \n",
      "user|NadiaSaftiyan,                              0.030303,         \n",
      "user|NikeDcn4,                                   0.016129,         \n"
     ]
    }
   ],
   "source": [
    "% Set Params\n",
    "Atable=[myName 'user_graph'];\n",
    "ADegtable=[Atable '_Deg'];\n",
    "Rfinal=[Atable '_Jaccard'];\n",
    "filterRowCol=[];\n",
    "Aauthorizations=[];\n",
    "RNewVisibility=[];\n",
    "\n",
    "% Set up Results Table\n",
    "TadjJaccard = DB(Rfinal);\n",
    "if nnz(TadjJaccard)\n",
    "    deleteForce(TadjJaccard);\n",
    "    TadjJaccard = DB(Rfinal);\n",
    "end\n",
    "\n",
    "% Do Jaccard\n",
    "tic;\n",
    "G.Jaccard(Atable, ADegtable, Rfinal, filterRowCol, Aauthorizations, RNewVisibility);\n",
    "toc;\n",
    "\n",
    "% Jaccard Coefficients\n",
    "disp(char(10))\n",
    "disp('Some Jaccard Coefficients')\n",
    "userDeg=DB(ADegtable);\n",
    "users = str2num(userDeg(:,:));\n",
    "u = Row((users > 5) < 20);\n",
    "J = str2num(TadjJaccard(u,:));\n",
    "displayFull(NewSep(J(:,ceil(rand(3,1).*size(J,2))),','))"
   ]
  },
  {
   "cell_type": "markdown",
   "metadata": {},
   "source": [
    "Try running Jaccard on the word-word graph. Do you find anything interesting?"
   ]
  },
  {
   "cell_type": "code",
   "execution_count": null,
   "metadata": {
    "collapsed": true
   },
   "outputs": [],
   "source": []
  },
  {
   "cell_type": "markdown",
   "metadata": {},
   "source": [
    "## Topic Modeling"
   ]
  },
  {
   "cell_type": "markdown",
   "metadata": {},
   "source": [
    "Those users we found in our BFS example earlier, what do they talk about? We can run NMF to do some topic modeling.\n",
    "\n",
    "Since NMF runs on an Incidence matrix, we need to first filter our original Edge table down to the tweets written by our users of interest. The first step to doing this is running BFS on the incidence matrix. This will give us the rows of Tedge that correspond to those users. Then we can filter out just the words by using the Graphulo OneTable function."
   ]
  },
  {
   "cell_type": "markdown",
   "metadata": {},
   "source": [
    "First we run BFS (unfortunately calling BFS on the EdgeTable is a little messy):"
   ]
  },
  {
   "cell_type": "code",
   "execution_count": 35,
   "metadata": {},
   "outputs": [
    {
     "name": "stdout",
     "output_type": "stream",
     "text": [
      "Creating my_tweets_Tedge_BFS in class-db01.cloud.llgrid.txe1.mit.edu:2181 Accumulo\n",
      "15 Oct 2018 15:23:44,740 DEBUG - Graphulo.EdgeBFS(1445) -  fetchColumn :\t\n",
      "15 Oct 2018 15:23:44,741 DEBUG - EdgeBFSReducer.parseOptions(34) -  inColumnPrefixes: ,\n"
     ]
    }
   ],
   "source": [
    "%% Run Breadth First Search on Incidence Schema\n",
    "k=1; % Number of steps\n",
    "minDegree=0;\n",
    "maxDegree=javaObject(\"java.lang.Integer\",0).MAX_VALUE;\n",
    "v0 = v;\n",
    "Etable=[myName 'Tedge'];\n",
    "\n",
    "% Set results table\n",
    "Rtable=[Etable '_BFS'];\n",
    "TadjBFS = DB(Rtable);\n",
    "if nnz(TadjBFS)\n",
    "    deleteForce(TadjBFS);\n",
    "    TadjBFS = DB(Rtable);\n",
    "end\n",
    "\n",
    "% Other BFS Params\n",
    "RTtable=[Rtable 'T'];\n",
    "ETDegtable=[Etable 'Deg'];\n",
    "startPrefixes=',';\n",
    "endPrefixes=',';\n",
    "degColumn='';\n",
    "degInColQ=false;\n",
    "plusOp=[];\n",
    "EScanIteratorPriority=-1;\n",
    "Eauthorizations=[];\n",
    "EDegauthorizations=[];\n",
    "newVisibility=[];\n",
    "useNewTimestamp=true;\n",
    "outputUnion=true;\n",
    "numEntriesWritten=[];\n",
    "\n",
    "% Do BFS\n",
    "vGraphulo = G.EdgeBFS(Etable, v0, k, Rtable, RTtable, startPrefixes, endPrefixes,...\n",
    "    ETDegtable, degColumn, degInColQ, minDegree, maxDegree,...\n",
    "    plusOp, EScanIteratorPriority, Eauthorizations, EDegauthorizations, newVisibility,...\n",
    "    useNewTimestamp, outputUnion, numEntriesWritten);"
   ]
  },
  {
   "cell_type": "markdown",
   "metadata": {},
   "source": [
    "Then we can filter out the words:"
   ]
  },
  {
   "cell_type": "code",
   "execution_count": 36,
   "metadata": {},
   "outputs": [
    {
     "name": "stdout",
     "output_type": "stream",
     "text": [
      "15 Oct 2018 15:24:09,908 DEBUG - Graphulo.OneTable(987) -   :%00; [1] -> 274 entries processed\n",
      "ans =  274\n"
     ]
    }
   ],
   "source": [
    "% Filter to just words\n",
    "Atable = [Etable '_BFS'];\n",
    "Rtable = [myName 'Tedge_filtered'];\n",
    "RTtable = [myName 'Tedge_filteredT'];\n",
    "clientResultMap = [];\n",
    "AScanIteratorPriority = -1;\n",
    "reducer = [];\n",
    "reducerOpts = [];\n",
    "plusOp = [];\n",
    "rowFilter = '';\n",
    "colFilter = realwords;\n",
    "midIterator = [];\n",
    "bs = [];\n",
    "authorizations = [];\n",
    "\n",
    "G.OneTable(Atable, Rtable, RTtable, clientResultMap, AScanIteratorPriority, reducer,...\n",
    "    reducerOpts, plusOp, rowFilter, colFilter, midIterator, bs, authorizations)"
   ]
  },
  {
   "cell_type": "markdown",
   "metadata": {},
   "source": [
    "Finally we can run NMF:"
   ]
  },
  {
   "cell_type": "code",
   "execution_count": 37,
   "metadata": {
    "scrolled": true
   },
   "outputs": [
    {
     "name": "stdout",
     "output_type": "stream",
     "text": [
      "Creating my_tweets_word_NMF_W in class-db01.cloud.llgrid.txe1.mit.edu:2181 Accumulo\n",
      "Creating my_tweets_word_NMF_WT in class-db01.cloud.llgrid.txe1.mit.edu:2181 Accumulo\n",
      "Creating my_tweets_word_NMF_H in class-db01.cloud.llgrid.txe1.mit.edu:2181 Accumulo\n",
      "Creating my_tweets_word_NMF_HT in class-db01.cloud.llgrid.txe1.mit.edu:2181 Accumulo\n",
      "15 Oct 2018 15:24:21,218 DEBUG - Graphulo.OneTable(987) -   :%00; [1] -> 93 entries processed\n",
      "15 Oct 2018 15:24:21,406 DEBUG - Graphulo.TwoTable(770) -   :%00; [1] -> 9 entries processed\n",
      "15 Oct 2018 15:24:22,345 DEBUG - Graphulo.TwoTable(770) -   :%00; [1] -> 468 entries processed\n",
      "15 Oct 2018 15:24:22,729 DEBUG - Graphulo.TwoTable(770) -   :%00; [1] -> 468 entries processed\n",
      "15 Oct 2018 15:24:23,956 DEBUG - Graphulo.TwoTable(770) -   :%00; [1] -> 9 entries processed\n",
      "15 Oct 2018 15:24:24,837 DEBUG - Graphulo.TwoTable(770) -   :%00; [1] -> 76 entries processed\n",
      "15 Oct 2018 15:24:25,133 DEBUG - Graphulo.TwoTable(770) -   :%00; [1] -> 93 entries processed\n",
      "15 Oct 2018 15:24:25,455 DEBUG - Graphulo.NMF(3791) -  NMF Iteration 1 to my_tweets_Tedge_filtered_NMF_Hprev: hdiff 0.0\n",
      "15 Oct 2018 15:24:27,098 DEBUG - Graphulo.TwoTable(770) -   :%00; [1] -> 9 entries processed\n",
      "15 Oct 2018 15:24:27,993 DEBUG - Graphulo.TwoTable(770) -   :%00; [1] -> 337 entries processed\n",
      "15 Oct 2018 15:24:28,356 DEBUG - Graphulo.TwoTable(770) -   :%00; [1] -> 468 entries processed\n",
      "15 Oct 2018 15:24:29,638 DEBUG - Graphulo.TwoTable(770) -   :%00; [1] -> 9 entries processed\n",
      "15 Oct 2018 15:24:30,500 DEBUG - Graphulo.TwoTable(770) -   :%00; [1] -> 68 entries processed\n",
      "15 Oct 2018 15:24:30,880 DEBUG - Graphulo.TwoTable(770) -   :%00; [1] -> 93 entries processed\n",
      "15 Oct 2018 15:24:31,404 DEBUG - Graphulo.OneTable(987) -   :%00; [1] -> 259 entries processed\n",
      "15 Oct 2018 15:24:31,428 DEBUG - Graphulo.TwoTable(770) -   :%00; [1] -> 86 entries processed\n",
      "15 Oct 2018 15:24:31,428 DEBUG - Graphulo.NMF(3791) -  NMF Iteration 2 to my_tweets_word_NMF_H: hdiff 0.33204633204633205\n",
      "15 Oct 2018 15:24:32,105 DEBUG - Graphulo.TwoTable(770) -   :%00; [1] -> 9 entries processed\n",
      "15 Oct 2018 15:24:32,984 DEBUG - Graphulo.TwoTable(770) -   :%00; [1] -> 314 entries processed\n",
      "15 Oct 2018 15:24:33,333 DEBUG - Graphulo.TwoTable(770) -   :%00; [1] -> 468 entries processed\n",
      "15 Oct 2018 15:24:35,859 DEBUG - Graphulo.TwoTable(770) -   :%00; [1] -> 9 entries processed\n",
      "15 Oct 2018 15:24:36,787 DEBUG - Graphulo.TwoTable(770) -   :%00; [1] -> 62 entries processed\n",
      "15 Oct 2018 15:24:37,209 DEBUG - Graphulo.TwoTable(770) -   :%00; [1] -> 93 entries processed\n",
      "15 Oct 2018 15:24:37,695 DEBUG - Graphulo.OneTable(987) -   :%00; [1] -> 268 entries processed\n",
      "15 Oct 2018 15:24:37,718 DEBUG - Graphulo.TwoTable(770) -   :%00; [1] -> 65 entries processed\n",
      "15 Oct 2018 15:24:37,719 DEBUG - Graphulo.NMF(3791) -  NMF Iteration 3 to my_tweets_Tedge_filtered_NMF_Hprev: hdiff 0.24253731343283583\n",
      "15 Oct 2018 15:24:39,850 DEBUG - Graphulo.TwoTable(770) -   :%00; [1] -> 9 entries processed\n",
      "15 Oct 2018 15:24:42,242 DEBUG - Graphulo.TwoTable(770) -   :%00; [1] -> 300 entries processed\n",
      "15 Oct 2018 15:24:42,622 DEBUG - Graphulo.TwoTable(770) -   :%00; [1] -> 468 entries processed\n",
      "15 Oct 2018 15:24:43,971 DEBUG - Graphulo.TwoTable(770) -   :%00; [1] -> 9 entries processed\n",
      "15 Oct 2018 15:24:44,801 DEBUG - Graphulo.TwoTable(770) -   :%00; [1] -> 58 entries processed\n",
      "15 Oct 2018 15:24:45,122 DEBUG - Graphulo.TwoTable(770) -   :%00; [1] -> 93 entries processed\n",
      "15 Oct 2018 15:24:45,665 DEBUG - Graphulo.OneTable(987) -   :%00; [1] -> 230 entries processed\n",
      "15 Oct 2018 15:24:45,692 DEBUG - Graphulo.TwoTable(770) -   :%00; [1] -> 50 entries processed\n",
      "15 Oct 2018 15:24:45,693 DEBUG - Graphulo.NMF(3791) -  NMF Iteration 4 to my_tweets_word_NMF_H: hdiff 0.21739130434782608\n",
      "15 Oct 2018 15:24:47,874 DEBUG - Graphulo.TwoTable(770) -   :%00; [1] -> 9 entries processed\n",
      "15 Oct 2018 15:24:50,245 DEBUG - Graphulo.TwoTable(770) -   :%00; [1] -> 327 entries processed\n",
      "15 Oct 2018 15:24:50,609 DEBUG - Graphulo.TwoTable(770) -   :%00; [1] -> 468 entries processed\n",
      "15 Oct 2018 15:24:51,833 DEBUG - Graphulo.TwoTable(770) -   :%00; [1] -> 9 entries processed\n",
      "15 Oct 2018 15:24:53,151 DEBUG - Graphulo.TwoTable(770) -   :%00; [1] -> 67 entries processed\n",
      "15 Oct 2018 15:24:53,481 DEBUG - Graphulo.TwoTable(770) -   :%00; [1] -> 93 entries processed\n",
      "15 Oct 2018 15:24:53,925 DEBUG - Graphulo.OneTable(987) -   :%00; [1] -> 266 entries processed\n",
      "15 Oct 2018 15:24:53,951 DEBUG - Graphulo.TwoTable(770) -   :%00; [1] -> 70 entries processed\n",
      "15 Oct 2018 15:24:53,951 DEBUG - Graphulo.NMF(3791) -  NMF Iteration 5 to my_tweets_Tedge_filtered_NMF_Hprev: hdiff 0.2631578947368421\n",
      "15 Oct 2018 15:24:56,076 DEBUG - Graphulo.TwoTable(770) -   :%00; [1] -> 9 entries processed\n",
      "15 Oct 2018 15:24:58,480 DEBUG - Graphulo.TwoTable(770) -   :%00; [1] -> 309 entries processed\n",
      "15 Oct 2018 15:24:58,875 DEBUG - Graphulo.TwoTable(770) -   :%00; [1] -> 468 entries processed\n",
      "15 Oct 2018 15:25:01,598 DEBUG - Graphulo.TwoTable(770) -   :%00; [1] -> 9 entries processed\n",
      "15 Oct 2018 15:25:03,967 DEBUG - Graphulo.TwoTable(770) -   :%00; [1] -> 66 entries processed\n",
      "15 Oct 2018 15:25:04,427 DEBUG - Graphulo.TwoTable(770) -   :%00; [1] -> 93 entries processed\n",
      "15 Oct 2018 15:25:04,954 DEBUG - Graphulo.OneTable(987) -   :%00; [1] -> 243 entries processed\n",
      "15 Oct 2018 15:25:04,974 DEBUG - Graphulo.TwoTable(770) -   :%00; [1] -> 25 entries processed\n",
      "15 Oct 2018 15:25:04,975 DEBUG - Graphulo.NMF(3791) -  NMF Iteration 6 to my_tweets_word_NMF_H: hdiff 0.102880658436214\n",
      "15 Oct 2018 15:25:07,130 DEBUG - Graphulo.TwoTable(770) -   :%00; [1] -> 9 entries processed\n",
      "15 Oct 2018 15:25:09,487 DEBUG - Graphulo.TwoTable(770) -   :%00; [1] -> 321 entries processed\n",
      "15 Oct 2018 15:25:09,900 DEBUG - Graphulo.TwoTable(770) -   :%00; [1] -> 468 entries processed\n",
      "15 Oct 2018 15:25:11,085 DEBUG - Graphulo.TwoTable(770) -   :%00; [1] -> 9 entries processed\n",
      "15 Oct 2018 15:25:11,955 DEBUG - Graphulo.TwoTable(770) -   :%00; [1] -> 66 entries processed\n",
      "15 Oct 2018 15:25:12,270 DEBUG - Graphulo.TwoTable(770) -   :%00; [1] -> 93 entries processed\n",
      "15 Oct 2018 15:25:12,818 DEBUG - Graphulo.OneTable(987) -   :%00; [1] -> 227 entries processed\n",
      "15 Oct 2018 15:25:12,843 DEBUG - Graphulo.TwoTable(770) -   :%00; [1] -> 16 entries processed\n",
      "15 Oct 2018 15:25:12,843 DEBUG - Graphulo.NMF(3791) -  NMF Iteration 7 to my_tweets_Tedge_filtered_NMF_Hprev: hdiff 0.07048458149779736\n",
      "15 Oct 2018 15:25:15,073 DEBUG - Graphulo.TwoTable(770) -   :%00; [1] -> 9 entries processed\n",
      "15 Oct 2018 15:25:17,436 DEBUG - Graphulo.TwoTable(770) -   :%00; [1] -> 321 entries processed\n",
      "15 Oct 2018 15:25:17,806 DEBUG - Graphulo.TwoTable(770) -   :%00; [1] -> 468 entries processed\n",
      "15 Oct 2018 15:25:18,761 DEBUG - Graphulo.TwoTable(770) -   :%00; [1] -> 9 entries processed\n",
      "15 Oct 2018 15:25:19,638 DEBUG - Graphulo.TwoTable(770) -   :%00; [1] -> 62 entries processed\n",
      "15 Oct 2018 15:25:19,937 DEBUG - Graphulo.TwoTable(770) -   :%00; [1] -> 93 entries processed\n",
      "15 Oct 2018 15:25:20,436 DEBUG - Graphulo.OneTable(987) -   :%00; [1] -> 214 entries processed\n",
      "15 Oct 2018 15:25:20,460 DEBUG - Graphulo.TwoTable(770) -   :%00; [1] -> 15 entries processed\n",
      "15 Oct 2018 15:25:20,460 DEBUG - Graphulo.NMF(3791) -  NMF Iteration 8 to my_tweets_word_NMF_H: hdiff 0.07009345794392523\n",
      "15 Oct 2018 15:25:22,569 DEBUG - Graphulo.TwoTable(770) -   :%00; [1] -> 9 entries processed\n",
      "15 Oct 2018 15:25:23,480 DEBUG - Graphulo.TwoTable(770) -   :%00; [1] -> 330 entries processed\n",
      "15 Oct 2018 15:25:23,847 DEBUG - Graphulo.TwoTable(770) -   :%00; [1] -> 468 entries processed\n",
      "15 Oct 2018 15:25:26,497 DEBUG - Graphulo.TwoTable(770) -   :%00; [1] -> 9 entries processed\n",
      "15 Oct 2018 15:25:28,900 DEBUG - Graphulo.TwoTable(770) -   :%00; [1] -> 62 entries processed\n",
      "15 Oct 2018 15:25:29,256 DEBUG - Graphulo.TwoTable(770) -   :%00; [1] -> 93 entries processed\n",
      "15 Oct 2018 15:25:29,593 DEBUG - Graphulo.OneTable(987) -   :%00; [1] -> 217 entries processed\n",
      "15 Oct 2018 15:25:29,613 DEBUG - Graphulo.TwoTable(770) -   :%00; [1] -> 3 entries processed\n",
      "15 Oct 2018 15:25:29,614 DEBUG - Graphulo.NMF(3791) -  NMF Iteration 9 to my_tweets_Tedge_filtered_NMF_Hprev: hdiff 0.013824884792626729\n",
      "15 Oct 2018 15:25:30,272 DEBUG - Graphulo.TwoTable(770) -   :%00; [1] -> 9 entries processed\n"
     ]
    },
    {
     "name": "stdout",
     "output_type": "stream",
     "text": [
      "15 Oct 2018 15:25:31,146 DEBUG - Graphulo.TwoTable(770) -   :%00; [1] -> 330 entries processed\n",
      "15 Oct 2018 15:25:31,510 DEBUG - Graphulo.TwoTable(770) -   :%00; [1] -> 468 entries processed\n",
      "15 Oct 2018 15:25:34,202 DEBUG - Graphulo.TwoTable(770) -   :%00; [1] -> 9 entries processed\n",
      "15 Oct 2018 15:25:35,102 DEBUG - Graphulo.TwoTable(770) -   :%00; [1] -> 57 entries processed\n",
      "15 Oct 2018 15:25:35,409 DEBUG - Graphulo.TwoTable(770) -   :%00; [1] -> 93 entries processed\n",
      "15 Oct 2018 15:25:35,935 DEBUG - Graphulo.OneTable(987) -   :%00; [1] -> 216 entries processed\n",
      "15 Oct 2018 15:25:35,955 DEBUG - Graphulo.TwoTable(770) -   :%00; [1] -> 19 entries processed\n",
      "15 Oct 2018 15:25:35,956 DEBUG - Graphulo.NMF(3791) -  NMF Iteration 10 to my_tweets_word_NMF_H: hdiff 0.08796296296296297\n",
      "15 Oct 2018 15:25:35,956 DEBUG - Graphulo.NMF(3797) -  EVEN Hfinal is my_tweets_word_NMF_H\n",
      "15 Oct 2018 15:25:35,956 DEBUG - Graphulo.NMF(3798) -  EVEN Hprev is my_tweets_Tedge_filtered_NMF_Hprev\n",
      "Edge Assignments (W)\n",
      "Vertex Assignments (H)\n"
     ]
    }
   ],
   "source": [
    "%% NMF on Incidence/Edge Schema\n",
    "% Note: takes some time to run\n",
    "\n",
    "% Set results table\n",
    "tname_W=[myName 'word' '_NMF_W'];\n",
    "TedgeNMF_W = DB(tname_W,[tname_W 'T']);\n",
    "if nnz(TedgeNMF_W)\n",
    "    deleteForce(TedgeNMF_W);\n",
    "    TedgeNMF_W = DB(tname_W,[tname_W 'T']);\n",
    "end\n",
    "tname_H=[myName 'word' '_NMF_H'];\n",
    "TedgeNMF_H = DB(tname_H,[tname_H 'T']);\n",
    "if nnz(TedgeNMF_H)\n",
    "    deleteForce(TedgeNMF_H);\n",
    "    TedgeNMF_H = DB(tname_H,[tname_H 'T']);\n",
    "end\n",
    "\n",
    "% Set Params\n",
    "Aorig=[myName 'Tedge_filtered'];\n",
    "ATorig=[myName 'Tedge_filteredT'];\n",
    "Wfinal= tname_W;\n",
    "WTfinal= [tname_W 'T'];\n",
    "Hfinal= tname_H;\n",
    "HTfinal= [tname_H 'T'];\n",
    "k=3; % Number of topics\n",
    "maxiter=10; % Maximum number of iterations\n",
    "forceDelete=true;\n",
    "cutoffThreshold=0;\n",
    "maxColsPerTopic=0;\n",
    "\n",
    "% Do NMF\n",
    "G.NMF(Aorig, ATorig, Wfinal, WTfinal, Hfinal, HTfinal, k, maxiter,...\n",
    "    forceDelete, cutoffThreshold, maxColsPerTopic);\n",
    "    \n",
    "% NMF Results\n",
    "disp('Edge Assignments (W)')\n",
    "W = Abs0(TopColPerRow(str2num(TedgeNMF_W(:,:)),1));\n",
    "\n",
    "disp('Vertex Assignments (H)')\n",
    "H = Abs0(TopColPerRow(str2num(TedgeNMF_H(:,:)),1));"
   ]
  },
  {
   "cell_type": "markdown",
   "metadata": {},
   "source": [
    "Here are the full text of the tweets that were grouped into topics. The first one in particular is talking about a presidential nomination."
   ]
  },
  {
   "cell_type": "code",
   "execution_count": 38,
   "metadata": {},
   "outputs": [
    {
     "name": "stdout",
     "output_type": "stream",
     "text": [
      "Topic 1:\n",
      "(004030149240881733,Text)     Apaan? NO!!!!\"@JawabJUJUR: Apa pendapatmu ttg kabar pencalonan eyang subur sbg calon presiden 2014? #JJ | @diahpuspa\"\n",
      "(006522994496781733,Text)     Haha itu lucuRT@JawabJUJUR: Apa pendapatmu ttg kabar pencalonan eyang subur sbg calon presiden 2014? #JJ | @diahpuspa\n",
      "(422083534270881733,Text)     sinting RT @JawabJUJUR: Apa pendapatmu ttg kabar pencalonan eyang subur sbg calon presiden 2014? #JJ | @diahpuspa\n",
      "(589104590429781733,Text)     maymoop ituv\"@JawabJUJUR: Apa pendapatmu ttg kabar pencalonan eyang subur sbg calon presiden 2014? #JJ | @diahpuspa\"\n",
      "(677304766330881733,Text)     Ga punya malu \"@JawabJUJUR: Apa pendapatmu ttg kabar pencalonan eyang subur sbg calon presiden 2014? #JJ | @diahpuspa\"\n",
      "(739531693730881733,Text)     gak bnget @JawabJUJUR Apa pendapatmu ttg kabar pencalonan eyang subur sbg calon presiden 2014? #JJ | @diahpuspa\n",
      "(804184452207781733,Text)     Kurang kerjaan pisan \"@JawabJUJUR: Apa pendapatmu ttg kabar pencalonan eyang subur sbg calon presiden 2014? #JJ | @diahpuspa\"\n",
      "(844063821428781733,Text)     what a hell!!!  \"@JawabJUJUR: Apa pendapatmu ttg kabar pencalonan eyang subur sbg calon presiden 2014? #JJ | @diahpuspa\"\n",
      "\n",
      "Topic 2:\n",
      "(008866479030881733,Text)     Gak\"@JawabJUJUR: Suka sama pacar orang itu menurut kamu salah gak? #JJ | @luthfy_clouds\"\n",
      "(042472996876781733,Text)     Gak\"@AhSpeakDoang: #OmSpikTanya lo dirumah punya anjing gak ?\"\n",
      "(121375375429781733,Text)     Cuekin nnti jg baik sndri kok RT @JawabJUJUR: Kalo doi marah, kita lebih baik diam / balik marah / ngalah? Alasannya? #JJ | @dheaRilita\n",
      "(253486513169781733,Text)     @fdrifda coy jangan ke saya coy hahaha\n",
      "(297106772356781733,Text)     PAMBUNGAD SA TAMANG PATNUBAY http://t.co/FftxT7naKP #mindanao #Pasig #\"\n",
      "(397505948989781733,Text)     #nowplaying #Manila, #Philippines on Monster Radio 93.1 @rx931 with @TuneIn all the way from #Dubai http://t.co/cPHS5wLF0W\n",
      "(441260120156781733,Text)     masa bodoooo :D RT @nankkatro04: @deadinyati masa?? RT\n",
      "(624514187498781733,Text)     us \"@Tweetnesian: #TeenageQuestion pengen ke disneyland / universal studios ?\"\n",
      "(635779414759781733,Text)     Ibu\"@AhSpeakDoang: #OmSpikTanya lo lebih deket sama ayah / ibu ?\"\n",
      "(652489168756781733,Text)     typo RT@rahna27: Mawah merah. @jawabJUJUR: [Cewek] Pilih mawar putih atau mawar merah? #JJ | @Dhea_Vanny\"\n",
      "(673924555778781733,Text)     Ndk ado lai,aku rencananya mau tukar\"@AuliaaaFitri: Palak bana-_-RT @ravidarwin2: Tu lah\"@AuliaaaFitri: Xl jaringannya bisa bersahabar gak s\n",
      "(692575781058781733,Text)     ? ???? ??? ??????? #????????? @ ????? ????????????? (metro Novokuznetskaya) http://t.co/Zu6uUEMlT3\n",
      "(825479379077781733,Text)     wkwk aja \"@CAPALLL: heddeh RT @iina_ona: sama ja pngs sbnrnyav\"@CAPALLL: kd RT @iina_ona: kd pham kah ? (cont) http://t.co/wVlEIezJHt\"\n",
      "(846990361667781733,Text)     Kalau rasa suka itu gak ada kata salah RT @JawabJUJUR: Suka sama pacar orang itu menurut kamu salah gak? #JJ | @luthfy_clouds\n",
      "(848249482340881733,Text)     bgt \"@AhSpeakDoang: #OmSpikTanya sering ngemil malem malem gak ??\"\n",
      "\n",
      "Topic 3:\n",
      "(004053126776781733,Text)     Natuklasan Mo na ba ang Tunay Nitong Ganda? http://t.co/UztKtdHaPG #Philippine #philippines #Mindanao #Manila #Luzon #leyte #Filipina\"\n",
      "(006129443108781733,Text)     Siuman (?O?)\n",
      "(035874956448781733,Text)     RT @TweetRAMALAN: #Capricorn seorang pribadi yg tidak suka kebohongan, disiplin dalam bekerja sama dan pemimpin yg baik\n",
      "(148367564527781733,Text)     ?????????38?? XD #????????????????? #squaready @apple_luii @ Pusat Tuisyen Teachnology http://t.co/Q4ygKPWjp0\n",
      "(359502688949781733,Text)     Hhhaaa RT@TweetRAMALAN: #Capricorn seorang pribadi yg tidak suka kebohongan, disiplin dalam bekerja sama dan pemimpin yg baik\"\n",
      "(378746561148781733,Text)     - Natuklasan Mo na ba ang Tunay Nitong Ganda? http://t.co/UztKtdHaPG #Philippine #philippines #Mindanao #Manila #Luzon #leyte\"\n",
      "(710899032829781733,Text)     We now sell #tickets for the @fakefestivals event in Hucknall Sat 13 Jul &gt;&gt; http://t.co/UPo65ZIrLA #lovenotts #music http://t.co/dNC5NGXB9d\n",
      "(827771326466781733,Text)     ? come una casa #conservatorio #guitar #music @ Conservatorio Di Musica \"N.Rota\" http://t.co/7KdCwBr9FP\n"
     ]
    }
   ],
   "source": [
    "disp('Topic 1:')\n",
    "TedgeTxt(Row(W(:,1)),:)\n",
    "disp('')\n",
    "disp('Topic 2:')\n",
    "TedgeTxt(Row(W(:,2)),:)\n",
    "disp('')\n",
    "disp('Topic 3:')\n",
    "TedgeTxt(Row(W(:,3)),:)"
   ]
  },
  {
   "cell_type": "markdown",
   "metadata": {},
   "source": [
    "Here are a few of the top words in each topic:"
   ]
  },
  {
   "cell_type": "code",
   "execution_count": 39,
   "metadata": {},
   "outputs": [
    {
     "name": "stdout",
     "output_type": "stream",
     "text": [
      "Topic 1:\n",
      "(1,word_lower|apa)     0.27405\n",
      "(1,word_lower|calon)     0.27405\n",
      "(1,word_lower|eyang)     0.27405\n",
      "(1,word_lower|kabar)     0.27405\n",
      "(1,word_lower|pencalonan)     0.27405\n",
      "(1,word_lower|pendapatmu)     0.27405\n",
      "(1,word_lower|presiden)     0.27405\n",
      "(1,word_lower|sbg)     0.27405\n",
      "(1,word_lower|subur)     0.27405\n",
      "(1,word_lower|ttg)     0.27405\n",
      "\n",
      "Topic 2:\n",
      "(2,word_lower|gak?)     0.19025\n",
      "(2,word_lower|itu)     0.31736\n",
      "(2,word_lower|kamu)     0.19025\n",
      "(2,word_lower|menurut)     0.19025\n",
      "(2,word_lower|orang)     0.19025\n",
      "(2,word_lower|pacar)     0.19025\n",
      "(2,word_lower|rt)     0.30501\n",
      "(2,word_lower|salah)     0.31112\n",
      "(2,word_lower|sama)     0.24648\n",
      "(2,word_lower|suka)     0.18494\n",
      "\n",
      "Topic 3:\n",
      "(3,word_lower|bekerja)     0.17198\n",
      "(3,word_lower|dalam)     0.17198\n",
      "(3,word_lower|dan)     0.17198\n",
      "(3,word_lower|disiplin)     0.17198\n",
      "(3,word_lower|kebohongan)     0.17198\n",
      "(3,word_lower|pemimpin)     0.17198\n",
      "(3,word_lower|pribadi)     0.17198\n",
      "(3,word_lower|sama)     0.16899\n",
      "(3,word_lower|seorang)     0.17198\n",
      "(3,word_lower|suka)     0.16406\n",
      "(3,word_lower|tidak)     0.17198\n",
      "(3,word_lower|yg)     0.34397\n"
     ]
    }
   ],
   "source": [
    "disp('Topic 1:')\n",
    "str2num(TedgeNMF_H('1,',:))> 0.15\n",
    "disp('')\n",
    "disp('Topic 2:')\n",
    "str2num(TedgeNMF_H('2,',:))> 0.15\n",
    "disp('')\n",
    "disp('Topic 3:')\n",
    "str2num(TedgeNMF_H('3,',:))> 0.15"
   ]
  },
  {
   "cell_type": "markdown",
   "metadata": {},
   "source": [
    "It's a bit hard to see if this makes any sense, since it's not in English. Using Google Translate or similar, we can see that at least the first two could make sense:"
   ]
  },
  {
   "cell_type": "markdown",
   "metadata": {},
   "source": [
    "<img src=\"images/topic1.png\" alt=\"Drawing\" style=\"width: 700px;\"/>\n",
    "<img src=\"images/topic2.png\" alt=\"Drawing\" style=\"width: 700px;\"/>\n",
    "<img src=\"images/topic3.png\" alt=\"Drawing\" style=\"width: 700px;\"/>"
   ]
  },
  {
   "cell_type": "markdown",
   "metadata": {},
   "source": [
    "Topic modeling tends to be fairly sensitive to the number of topics. Try varying k above and see how the resutls change. You can use Google Translate to see what the tweets are saying, to some degree. You can also try varying the maximum number of iterations."
   ]
  },
  {
   "cell_type": "markdown",
   "metadata": {
    "heading_collapsed": true
   },
   "source": [
    "# Deleting your Tables"
   ]
  },
  {
   "cell_type": "markdown",
   "metadata": {
    "hidden": true
   },
   "source": [
    "If you want to start over, you can run this to delete your tables. It will ask you whether you want to delete each table."
   ]
  },
  {
   "cell_type": "code",
   "execution_count": 20,
   "metadata": {
    "hidden": true
   },
   "outputs": [],
   "source": [
    "tbls = strsplit(ls(DB),' ');\n",
    "\n",
    "for i = 1:length(tbls)\n",
    "    if strfind(tbls{i},myName)\n",
    "        deleteForce(DB(tbls{i}));\n",
    "    end\n",
    "end"
   ]
  },
  {
   "cell_type": "code",
   "execution_count": null,
   "metadata": {
    "hidden": true
   },
   "outputs": [],
   "source": []
  }
 ],
 "metadata": {
  "kernelspec": {
   "display_name": "Julia 1.0.4",
   "language": "julia",
   "name": "julia-1.0"
  },
  "language_info": {
   "file_extension": ".jl",
   "mimetype": "application/julia",
   "name": "julia",
   "version": "1.0.4"
  },
  "latex_envs": {
   "LaTeX_envs_menu_present": true,
   "autoclose": false,
   "autocomplete": true,
   "bibliofile": "biblio.bib",
   "cite_by": "apalike",
   "current_citInitial": 1,
   "eqLabelWithNumbers": true,
   "eqNumInitial": 1,
   "hotkeys": {
    "equation": "Ctrl-E",
    "itemize": "Ctrl-I"
   },
   "labels_anchors": false,
   "latex_user_defs": false,
   "report_style_numbering": false,
   "user_envs_cfg": false
  },
  "toc": {
   "base_numbering": 1,
   "nav_menu": {},
   "number_sections": true,
   "sideBar": true,
   "skip_h1_title": false,
   "title_cell": "Table of Contents",
   "title_sidebar": "Contents",
   "toc_cell": false,
   "toc_position": {},
   "toc_section_display": "block",
   "toc_window_display": false
  },
  "varInspector": {
   "cols": {
    "lenName": 16,
    "lenType": 16,
    "lenVar": 40
   },
   "kernels_config": {
    "python": {
     "delete_cmd_postfix": "",
     "delete_cmd_prefix": "del ",
     "library": "var_list.py",
     "varRefreshCmd": "print(var_dic_list())"
    },
    "r": {
     "delete_cmd_postfix": ") ",
     "delete_cmd_prefix": "rm(",
     "library": "var_list.r",
     "varRefreshCmd": "cat(var_dic_list()) "
    }
   },
   "types_to_exclude": [
    "module",
    "function",
    "builtin_function_or_method",
    "instance",
    "_Feature"
   ],
   "window_display": false
  }
 },
 "nbformat": 4,
 "nbformat_minor": 2
}
